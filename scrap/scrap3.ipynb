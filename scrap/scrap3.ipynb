{
 "cells": [
  {
   "cell_type": "markdown",
   "id": "efa57f6c-16a7-4bbe-8672-d682b313f843",
   "metadata": {},
   "source": [
    "- add the code below as alternative labeling function\n",
    "- try other methods that make sense (spectral, min-cut)\n",
    "- benchmark under which circumstances which tends to work best and how consistent across runs"
   ]
  },
  {
   "cell_type": "code",
   "execution_count": 1,
   "id": "1ef922d0-ba38-4735-89b8-38702ab4dd62",
   "metadata": {},
   "outputs": [],
   "source": [
    "import numpy as np\n",
    "import gseapy\n",
    "from scipy.sparse import csr_matrix\n",
    "from scipy.sparse.csgraph import shortest_path\n",
    "\n",
    "\n",
    "from geneclusters.cluster_genes_new import assign_cluster_based_on_proba,create_random_labeling, distance_to_probability,get_gene_pathway_matrix, get_full_matrix_from_bipartite,run_KL, compute_cost_metrics, add_outer, get_kernighan_lin_clusters, create_nonrandom_labeling\n"
   ]
  },
  {
   "cell_type": "code",
   "execution_count": 2,
   "id": "9f3e7ed1-c207-4426-a44d-e6eb743b0e37",
   "metadata": {
    "tags": []
   },
   "outputs": [
    {
     "name": "stdout",
     "output_type": "stream",
     "text": [
      "get\n",
      "test\n"
     ]
    },
    {
     "name": "stderr",
     "output_type": "stream",
     "text": [
      "4it [02:51, 42.78s/it, tot_impr=7753, last_impr=0, loss=18990]   \n"
     ]
    }
   ],
   "source": [
    "frame = get_kernighan_lin_clusters('./examples/WikiPathway_2021_Human.npy', 262, 0, KL_modified=True, random_labels=False, unweighted=True)"
   ]
  },
  {
   "cell_type": "code",
   "execution_count": 3,
   "id": "b2d6cd21-d32e-44b7-87c9-45867737dc6d",
   "metadata": {},
   "outputs": [
    {
     "name": "stdout",
     "output_type": "stream",
     "text": [
      "get\n",
      "test\n"
     ]
    },
    {
     "name": "stderr",
     "output_type": "stream",
     "text": [
      "5it [02:48, 33.79s/it, tot_impr=7883, last_impr=0, loss=18867]   \n"
     ]
    }
   ],
   "source": [
    "frame = get_kernighan_lin_clusters('./examples/WikiPathway_2021_Human.npy', 262, 0, KL_modified=True, random_labels=False, unweighted=False)"
   ]
  },
  {
   "cell_type": "code",
   "execution_count": 2,
   "id": "c478205f-cca4-4379-89bf-44a8b105d6a5",
   "metadata": {},
   "outputs": [
    {
     "name": "stdout",
     "output_type": "stream",
     "text": [
      "get\n",
      "test\n"
     ]
    },
    {
     "name": "stderr",
     "output_type": "stream",
     "text": [
      "5it [02:42, 32.44s/it, tot_impr=7467, last_impr=0, loss=19267]   \n"
     ]
    }
   ],
   "source": [
    "frame = get_kernighan_lin_clusters('./examples/WikiPathway_2021_Human.npy', 262, 0.1, KL_modified=True, random_labels=False, unweighted=False)"
   ]
  },
  {
   "cell_type": "code",
   "execution_count": 7,
   "id": "8c18fc32-9036-426c-840e-21e186b5bde9",
   "metadata": {},
   "outputs": [
    {
     "name": "stdout",
     "output_type": "stream",
     "text": [
      "get\n"
     ]
    },
    {
     "name": "stderr",
     "output_type": "stream",
     "text": [
      "4it [02:12, 33.03s/it, tot_impr=7400, last_impr=0, loss=19349]   \n"
     ]
    }
   ],
   "source": [
    "frame = get_kernighan_lin_clusters('./examples/WikiPathway_2021_Human.npy', 30, 0.1, KL_modified=True, random_labels=True, unweighted=False)"
   ]
  },
  {
   "cell_type": "code",
   "execution_count": 6,
   "id": "6388cb0c-fead-470f-b182-dc9914d17502",
   "metadata": {},
   "outputs": [
    {
     "data": {
      "text/plain": [
       "29.751908396946565"
      ]
     },
     "execution_count": 6,
     "metadata": {},
     "output_type": "execute_result"
    }
   ],
   "source": [
    "# compute losses against the original matrix to make sure nothing is going wrong\n",
    "# remove the random seeds\n",
    "# (or add random seed as an argument)\n",
    "# compare performance of the different variants of this method and also of the other methods of interest"
   ]
  },
  {
   "cell_type": "code",
   "execution_count": 4,
   "id": "3a6b40df-56ae-4287-9cf3-b6e7ff7f19da",
   "metadata": {},
   "outputs": [
    {
     "name": "stdout",
     "output_type": "stream",
     "text": [
      "get\n",
      "test\n"
     ]
    },
    {
     "name": "stderr",
     "output_type": "stream",
     "text": [
      "1it [01:02, 62.11s/it, tot_impr=19130, last_impr=19130, loss=4442666]\n"
     ]
    },
    {
     "ename": "KeyboardInterrupt",
     "evalue": "",
     "output_type": "error",
     "traceback": [
      "\u001b[0;31m---------------------------------------------------------------------------\u001b[0m",
      "\u001b[0;31mKeyboardInterrupt\u001b[0m                         Traceback (most recent call last)",
      "Input \u001b[0;32mIn [4]\u001b[0m, in \u001b[0;36m<cell line: 1>\u001b[0;34m()\u001b[0m\n\u001b[0;32m----> 1\u001b[0m frame \u001b[38;5;241m=\u001b[39m \u001b[43mget_kernighan_lin_clusters\u001b[49m\u001b[43m(\u001b[49m\u001b[38;5;124;43m'\u001b[39;49m\u001b[38;5;124;43m./examples/WikiPathway_2021_Human.npy\u001b[39;49m\u001b[38;5;124;43m'\u001b[39;49m\u001b[43m,\u001b[49m\u001b[43m \u001b[49m\u001b[38;5;241;43m262\u001b[39;49m\u001b[43m,\u001b[49m\u001b[43m \u001b[49m\u001b[38;5;241;43m0.1\u001b[39;49m\u001b[43m,\u001b[49m\u001b[43m \u001b[49m\u001b[43mKL_modified\u001b[49m\u001b[38;5;241;43m=\u001b[39;49m\u001b[38;5;28;43;01mTrue\u001b[39;49;00m\u001b[43m,\u001b[49m\u001b[43m \u001b[49m\u001b[43mrandom_labels\u001b[49m\u001b[38;5;241;43m=\u001b[39;49m\u001b[38;5;28;43;01mFalse\u001b[39;49;00m\u001b[43m,\u001b[49m\u001b[43m \u001b[49m\u001b[43munweighted\u001b[49m\u001b[38;5;241;43m=\u001b[39;49m\u001b[38;5;28;43;01mFalse\u001b[39;49;00m\u001b[43m)\u001b[49m\n",
      "File \u001b[0;32m~/homer/github/geneclusters/geneclusters/cluster_genes_new.py:416\u001b[0m, in \u001b[0;36mget_kernighan_lin_clusters\u001b[0;34m(path, threshold, C, KL_modified, random_labels, unweighted)\u001b[0m\n\u001b[1;32m    414\u001b[0m \u001b[38;5;28;01melse\u001b[39;00m:\n\u001b[1;32m    415\u001b[0m     labeling \u001b[38;5;241m=\u001b[39m create_nonrandom_labeling(matrix, threshold, unweighted, C)\n\u001b[0;32m--> 416\u001b[0m \u001b[43mrun_KL\u001b[49m\u001b[43m(\u001b[49m\u001b[43mlabeling\u001b[49m\u001b[43m,\u001b[49m\u001b[43m \u001b[49m\u001b[43mmatrix\u001b[49m\u001b[43m,\u001b[49m\u001b[43m \u001b[49m\u001b[38;5;241;43m0\u001b[39;49m\u001b[43m,\u001b[49m\u001b[43m \u001b[49m\u001b[43mKL_modified\u001b[49m\u001b[43m)\u001b[49m\n\u001b[1;32m    417\u001b[0m frame \u001b[38;5;241m=\u001b[39m pd\u001b[38;5;241m.\u001b[39mDataFrame(labeling)\n\u001b[1;32m    418\u001b[0m frame[\u001b[38;5;124m'\u001b[39m\u001b[38;5;124mdescription\u001b[39m\u001b[38;5;124m'\u001b[39m] \u001b[38;5;241m=\u001b[39m np\u001b[38;5;241m.\u001b[39mconcatenate([gene_names, pathway_names])\n",
      "File \u001b[0;32m~/homer/github/geneclusters/geneclusters/cluster_genes_new.py:386\u001b[0m, in \u001b[0;36mrun_KL\u001b[0;34m(labeling, matrix, c, KL_modified)\u001b[0m\n\u001b[1;32m    384\u001b[0m \u001b[38;5;28;01mwith\u001b[39;00m tqdm() \u001b[38;5;28;01mas\u001b[39;00m p:\n\u001b[1;32m    385\u001b[0m     \u001b[38;5;28;01mwhile\u001b[39;00m \u001b[38;5;28;01mTrue\u001b[39;00m:\n\u001b[0;32m--> 386\u001b[0m         impr \u001b[38;5;241m=\u001b[39m \u001b[43mfull_kl_step\u001b[49m\u001b[43m(\u001b[49m\u001b[43mlabeling\u001b[49m\u001b[43m,\u001b[49m\u001b[43m \u001b[49m\u001b[43mmatrix\u001b[49m\u001b[43m,\u001b[49m\u001b[43m \u001b[49m\u001b[43mc\u001b[49m\u001b[43m,\u001b[49m\u001b[43m \u001b[49m\u001b[43mKL_modified\u001b[49m\u001b[43m)\u001b[49m\n\u001b[1;32m    387\u001b[0m         tot \u001b[38;5;241m+\u001b[39m\u001b[38;5;241m=\u001b[39m impr\n\u001b[1;32m    388\u001b[0m         p\u001b[38;5;241m.\u001b[39mset_postfix({\n\u001b[1;32m    389\u001b[0m                 \u001b[38;5;124m'\u001b[39m\u001b[38;5;124mtot_impr\u001b[39m\u001b[38;5;124m'\u001b[39m: tot,\n\u001b[1;32m    390\u001b[0m                 \u001b[38;5;124m'\u001b[39m\u001b[38;5;124mlast_impr\u001b[39m\u001b[38;5;124m'\u001b[39m: impr,\n\u001b[1;32m    391\u001b[0m                 \u001b[38;5;124m'\u001b[39m\u001b[38;5;124mloss\u001b[39m\u001b[38;5;124m'\u001b[39m: evaluate_cut(matrix, labeling, c)\n\u001b[1;32m    392\u001b[0m         })\n",
      "File \u001b[0;32m~/homer/github/geneclusters/geneclusters/cluster_genes_new.py:347\u001b[0m, in \u001b[0;36mfull_kl_step\u001b[0;34m(labeling, matrix, c, KL_modified)\u001b[0m\n\u001b[1;32m    345\u001b[0m \u001b[38;5;28;01mfor\u001b[39;00m o \u001b[38;5;129;01min\u001b[39;00m order:\n\u001b[1;32m    346\u001b[0m     cluster_1, cluster_2 \u001b[38;5;241m=\u001b[39m o \u001b[38;5;241m/\u001b[39m\u001b[38;5;241m/\u001b[39m num_clusters, o \u001b[38;5;241m%\u001b[39m num_clusters\n\u001b[0;32m--> 347\u001b[0m     impr\u001b[38;5;241m+\u001b[39m\u001b[38;5;241m=\u001b[39m\u001b[43mkernighan_lin_step\u001b[49m\u001b[43m(\u001b[49m\u001b[43mlabeling\u001b[49m\u001b[43m,\u001b[49m\u001b[43m \u001b[49m\u001b[43mmatrix\u001b[49m\u001b[43m,\u001b[49m\u001b[43m \u001b[49m\u001b[43mcluster_1\u001b[49m\u001b[43m,\u001b[49m\u001b[43m \u001b[49m\u001b[43mcluster_2\u001b[49m\u001b[43m,\u001b[49m\u001b[43m \u001b[49m\u001b[43mc\u001b[49m\u001b[43m,\u001b[49m\u001b[43m \u001b[49m\u001b[43mKL_modified\u001b[49m\u001b[43m)\u001b[49m\n\u001b[1;32m    348\u001b[0m \u001b[38;5;28;01mreturn\u001b[39;00m impr\n",
      "\u001b[0;31mKeyboardInterrupt\u001b[0m: "
     ]
    }
   ],
   "source": [
    "frame = get_kernighan_lin_clusters('./examples/WikiPathway_2021_Human.npy', 262, 0.1, KL_modified=True, random_labels=False, unweighted=False)"
   ]
  },
  {
   "cell_type": "code",
   "execution_count": 3,
   "id": "cd95a118-ebce-48ed-a88d-2a7d647fc7b9",
   "metadata": {},
   "outputs": [],
   "source": [
    "path = './examples/WikiPathway_2021_Human.npy'\n",
    "mat = get_gene_pathway_matrix(path)\n",
    "matrix = np.ascontiguousarray(mat.values.T)\n",
    "#matrix2 = matrix.copy()"
   ]
  },
  {
   "cell_type": "code",
   "execution_count": 4,
   "id": "b1dcd8c3-86b7-4007-b9cf-6916d38bdaa4",
   "metadata": {},
   "outputs": [],
   "source": [
    "full_matrix = get_full_matrix_from_bipartite(matrix)"
   ]
  },
  {
   "cell_type": "code",
   "execution_count": 13,
   "id": "4a53779d-0c75-4fac-bc98-802d18364bf0",
   "metadata": {},
   "outputs": [],
   "source": [
    "index_genes = np.sum(full_matrix, axis = 0)\n",
    "graph = csr_matrix(full_matrix)\n",
    "index_genes = np.argsort(-index_genes)[:262]"
   ]
  },
  {
   "cell_type": "code",
   "execution_count": 14,
   "id": "a6a357c9-4c19-4018-810e-df80e0a50fe2",
   "metadata": {},
   "outputs": [],
   "source": [
    "dist_matrix = shortest_path(csgraph=graph,directed=False, indices=index_genes, return_predecessors=False, unweighted = True)"
   ]
  },
  {
   "cell_type": "code",
   "execution_count": 20,
   "id": "9b9544a5-5828-4bd5-bc7e-d66521339a5c",
   "metadata": {},
   "outputs": [
    {
     "name": "stdout",
     "output_type": "stream",
     "text": [
      "test\n"
     ]
    }
   ],
   "source": [
    "proba = distance_to_probability(dist_matrix)\n",
    "assignment = assign_cluster_based_on_proba(proba)"
   ]
  },
  {
   "cell_type": "code",
   "execution_count": 25,
   "id": "bec2df93-46b6-4ff8-9b35-05a8a4440727",
   "metadata": {},
   "outputs": [
    {
     "data": {
      "text/plain": [
       "<7795x7795 sparse matrix of type '<class 'numpy.float64'>'\n",
       "\twith 53666 stored elements in Compressed Sparse Row format>"
      ]
     },
     "execution_count": 25,
     "metadata": {},
     "output_type": "execute_result"
    }
   ],
   "source": [
    "graph.ceil()"
   ]
  },
  {
   "cell_type": "code",
   "execution_count": 22,
   "id": "b64725ba-cd37-4f0a-977e-8b837bed5b77",
   "metadata": {},
   "outputs": [
    {
     "data": {
      "text/plain": [
       "(array([  0,   1,   2,   3,   4,   5,   6,   7,   8,   9,  10,  11,  12,\n",
       "         13,  14,  15,  16,  17,  18,  19,  20,  21,  22,  23,  24,  25,\n",
       "         26,  27,  28,  29,  30,  31,  32,  33,  34,  35,  36,  37,  38,\n",
       "         39,  40,  41,  42,  43,  44,  45,  46,  47,  48,  49,  50,  51,\n",
       "         52,  53,  54,  55,  56,  57,  58,  59,  60,  61,  62,  63,  64,\n",
       "         65,  66,  67,  68,  69,  70,  71,  72,  73,  74,  75,  76,  77,\n",
       "         78,  79,  80,  81,  82,  83,  84,  85,  86,  87,  88,  89,  90,\n",
       "         91,  92,  93,  94,  95,  96,  97,  98,  99, 100, 101, 102, 103,\n",
       "        104, 105, 106, 107, 108, 109, 110, 111, 112, 113, 114, 115, 116,\n",
       "        117, 118, 119, 120, 121, 122, 123, 124, 125, 126, 127, 128, 129,\n",
       "        130, 131, 132, 133, 134, 135, 136, 137, 138, 139, 140, 141, 142,\n",
       "        143, 144, 145, 146, 147, 148, 149, 150, 151, 152, 153, 154, 155,\n",
       "        156, 157, 158, 159, 160, 161, 162, 163, 164, 165, 166, 167, 168,\n",
       "        169, 170, 171, 172, 173, 174, 175, 176, 177, 178, 179, 180, 181,\n",
       "        182, 183, 184, 185, 186, 187, 188, 189, 190, 191, 192, 193, 194,\n",
       "        195, 196, 197, 198, 199, 200, 201, 202, 203, 204, 205, 206, 207,\n",
       "        208, 209, 210, 211, 212, 213, 214, 215, 216, 217, 218, 219, 220,\n",
       "        221, 222, 223, 224, 225, 226, 227, 228, 229, 230, 231, 232, 233,\n",
       "        234, 235, 236, 237, 238, 239, 240, 241, 242, 243, 244, 245, 246,\n",
       "        247, 248, 249, 250, 251, 252, 253, 254, 255, 256, 257, 258, 259,\n",
       "        260, 261]),\n",
       " array([34, 33, 32, 30, 28, 37, 24, 26, 38, 43, 32, 32, 31, 29, 33, 31, 45,\n",
       "        38, 29, 31, 29, 28, 40, 32, 25, 30, 35, 25, 32, 22, 31, 33, 34, 24,\n",
       "        26, 29, 24, 31, 22, 28, 34, 20, 31, 43, 28, 22, 34, 25, 34, 34, 31,\n",
       "        31, 38, 30, 40, 30, 32, 22, 38, 24, 31, 27, 29, 31, 27, 32, 31, 26,\n",
       "        38, 36, 23, 37, 22, 26, 29, 37, 31, 23, 30, 35, 34, 41, 28, 30, 26,\n",
       "        25, 29, 31, 29, 22, 32, 23, 33, 34, 35, 33, 34, 30, 27, 28, 25, 20,\n",
       "        29, 33, 32, 25, 28, 26, 32, 36, 42, 33, 28, 33, 24, 27, 35, 30, 31,\n",
       "        34, 32, 32, 28, 36, 18, 31, 34, 25, 28, 37, 25, 20, 23, 30, 35, 19,\n",
       "        23, 28, 25, 37, 34, 29, 28, 26, 29, 30, 40, 31, 32, 27, 26, 26, 32,\n",
       "        31, 32, 25, 35, 35, 34, 27, 20, 31, 24, 38, 28, 22, 19, 26, 39, 33,\n",
       "        32, 38, 37, 24, 35, 23, 32, 36, 23, 32, 21, 30, 30, 46, 31, 31, 27,\n",
       "        26, 27, 31, 43, 26, 23, 38, 22, 20, 31, 36, 28, 23, 26, 38, 36, 27,\n",
       "        28, 32, 40, 32, 27, 36, 27, 27, 24, 29, 28, 25, 29, 28, 29, 33, 36,\n",
       "        20, 24, 34, 42, 24, 27, 33, 25, 19, 28, 19, 33, 28, 29, 22, 32, 29,\n",
       "        25, 27, 32, 22, 31, 30, 27, 20, 33, 26, 25, 33, 24, 25, 25, 34, 28,\n",
       "        24, 28, 32, 29, 27, 33, 28]))"
      ]
     },
     "execution_count": 22,
     "metadata": {},
     "output_type": "execute_result"
    }
   ],
   "source": [
    "np.unique(assignment, return_counts = True)"
   ]
  },
  {
   "cell_type": "code",
   "execution_count": null,
   "id": "6aa96917-a8c1-4fe3-8638-a815147b741b",
   "metadata": {},
   "outputs": [],
   "source": [
    "a = create_nonrandom_labeling(matrix, 40, False, 0.1)"
   ]
  },
  {
   "cell_type": "code",
   "execution_count": 4,
   "id": "385f7d60-e450-4e2e-ad12-4f199f7971e0",
   "metadata": {},
   "outputs": [],
   "source": [
    "import numba as nb\n",
    "@nb.njit()\n",
    "def invert_weights(matrix, c):\n",
    "    for i in range(matrix.shape[0]):\n",
    "        for j in range(matrix.shape[1]):\n",
    "            val = max(matrix[i,j], c)\n",
    "            #if val!=0:\n",
    "            matrix[i,j] = 1/val"
   ]
  },
  {
   "cell_type": "code",
   "execution_count": 5,
   "id": "b2e26e2d-4ce9-47a7-ab4a-7f553cd07245",
   "metadata": {},
   "outputs": [],
   "source": [
    "invert_weights(matrix, 0.1)"
   ]
  },
  {
   "cell_type": "code",
   "execution_count": 6,
   "id": "3f5085f1-b387-4e06-9cab-592a1fb1bf75",
   "metadata": {},
   "outputs": [],
   "source": [
    "full_matrix = get_full_matrix_from_bipartite(matrix)"
   ]
  },
  {
   "cell_type": "code",
   "execution_count": 7,
   "id": "f91d6745-849c-4e74-8c37-99385a67229c",
   "metadata": {},
   "outputs": [],
   "source": [
    "index_genes = np.sum(full_matrix, axis = 0)"
   ]
  },
  {
   "cell_type": "code",
   "execution_count": 13,
   "id": "1c6f07b9-3649-4c13-b5cf-7881ddc03fe6",
   "metadata": {},
   "outputs": [
    {
     "data": {
      "text/plain": [
       "array([7721, 7370, 7685, 7734, 7521, 7679, 7783, 7533, 7725, 7474])"
      ]
     },
     "execution_count": 13,
     "metadata": {},
     "output_type": "execute_result"
    }
   ],
   "source": [
    "np.argsort(-index_genes)[:10]"
   ]
  },
  {
   "cell_type": "code",
   "execution_count": 13,
   "id": "46cd0823-8887-435a-94bf-51b0ef71ae92",
   "metadata": {},
   "outputs": [],
   "source": [
    "index_genes = (np.sum(full_matrix, axis = 0)>40000)\n",
    "graph = csr_matrix(full_matrix)"
   ]
  },
  {
   "cell_type": "code",
   "execution_count": 1,
   "id": "42b58a58-224c-4015-924f-e26d31e3a5ad",
   "metadata": {},
   "outputs": [
    {
     "ename": "NameError",
     "evalue": "name 'index_genes' is not defined",
     "output_type": "error",
     "traceback": [
      "\u001b[0;31m---------------------------------------------------------------------------\u001b[0m",
      "\u001b[0;31mNameError\u001b[0m                                 Traceback (most recent call last)",
      "Input \u001b[0;32mIn [1]\u001b[0m, in \u001b[0;36m<cell line: 1>\u001b[0;34m()\u001b[0m\n\u001b[0;32m----> 1\u001b[0m \u001b[43mindex_genes\u001b[49m\n",
      "\u001b[0;31mNameError\u001b[0m: name 'index_genes' is not defined"
     ]
    }
   ],
   "source": [
    "index_genes"
   ]
  },
  {
   "cell_type": "code",
   "execution_count": null,
   "id": "fadcd16e-b399-4b89-bb0d-4b7c44f28ad0",
   "metadata": {},
   "outputs": [],
   "source": [
    "dist_matrix = shortest_path(csgraph=graph,directed=False, indices=np.where(index_genes)[0], return_predecessors=False, unweighted = False)"
   ]
  },
  {
   "cell_type": "code",
   "execution_count": 14,
   "id": "bf748fee-5a34-4163-9e43-ee1e9ad1cf84",
   "metadata": {},
   "outputs": [
    {
     "data": {
      "text/plain": [
       "622"
      ]
     },
     "execution_count": 14,
     "metadata": {},
     "output_type": "execute_result"
    }
   ],
   "source": [
    "len(np.where(index_genes)[0])"
   ]
  },
  {
   "cell_type": "code",
   "execution_count": 6,
   "id": "765963de-464f-4cd6-b589-6bc595052c2b",
   "metadata": {},
   "outputs": [
    {
     "name": "stdout",
     "output_type": "stream",
     "text": [
      "get\n"
     ]
    },
    {
     "name": "stderr",
     "output_type": "stream",
     "text": [
      "5it [02:40, 32.10s/it, tot_impr=7576, last_impr=0, loss=19154]   \n"
     ]
    }
   ],
   "source": [
    "frame = get_kernighan_lin_clusters('./examples/WikiPathway_2021_Human.npy', 40, 0, KL_modified=True, random_labels=False, unweighted=True)"
   ]
  },
  {
   "cell_type": "code",
   "execution_count": 2,
   "id": "54fca174-ef9f-4694-b3a9-6c54edfbc5e0",
   "metadata": {},
   "outputs": [
    {
     "name": "stdout",
     "output_type": "stream",
     "text": [
      "get\n",
      "test\n"
     ]
    },
    {
     "name": "stderr",
     "output_type": "stream",
     "text": [
      "5it [02:46, 33.20s/it, tot_impr=7762, last_impr=0, loss=18985]   \n"
     ]
    }
   ],
   "source": [
    "frame = get_kernighan_lin_clusters('./examples/WikiPathway_2021_Human.npy', 40, 0, KL_modified=True, random_labels=False, unweighted=True)"
   ]
  },
  {
   "cell_type": "code",
   "execution_count": 2,
   "id": "db5b9582-ebd2-4c61-a436-b4f3e72dab92",
   "metadata": {},
   "outputs": [
    {
     "name": "stdout",
     "output_type": "stream",
     "text": [
      "get\n",
      "test\n"
     ]
    },
    {
     "name": "stderr",
     "output_type": "stream",
     "text": [
      "5it [02:39, 31.98s/it, tot_impr=7770, last_impr=0, loss=18970]   \n"
     ]
    }
   ],
   "source": [
    "frame = get_kernighan_lin_clusters('./examples/WikiPathway_2021_Human.npy', 40, 0.1, KL_modified=True, random_labels=False, unweighted=False)"
   ]
  },
  {
   "cell_type": "code",
   "execution_count": 7,
   "id": "30f48302-cb4c-4a97-9a8b-e6440b8b2576",
   "metadata": {},
   "outputs": [],
   "source": [
    "path = './examples/WikiPathway_2021_Human.npy'\n",
    "mat = get_gene_pathway_matrix(path)\n",
    "matrix = np.ascontiguousarray(mat.values.T)\n",
    "full_matrix = get_full_matrix_from_bipartite(matrix)\n",
    "index_genes = (np.sum(full_matrix, axis = 0)>40)\n",
    "graph = csr_matrix(full_matrix)"
   ]
  },
  {
   "cell_type": "code",
   "execution_count": 10,
   "id": "11fd1918-b6e0-4896-b0a1-d3ef98262191",
   "metadata": {},
   "outputs": [
    {
     "name": "stdout",
     "output_type": "stream",
     "text": [
      "  (0, 1584)\t1.0\n",
      "  (0, 2326)\t1.0\n",
      "  (0, 4244)\t1.0\n",
      "  (0, 4245)\t1.0\n",
      "  (0, 6820)\t1.0\n",
      "  (0, 6821)\t1.0\n",
      "  (0, 6822)\t1.0\n",
      "  (0, 6823)\t1.0\n",
      "  (0, 6824)\t1.0\n",
      "  (1, 943)\t1.0\n",
      "  (1, 1208)\t1.0\n",
      "  (1, 1218)\t1.0\n",
      "  (1, 1451)\t1.0\n",
      "  (1, 2195)\t1.0\n",
      "  (1, 2199)\t1.0\n",
      "  (1, 2394)\t1.0\n",
      "  (1, 2611)\t1.0\n",
      "  (1, 2612)\t1.0\n",
      "  (1, 2613)\t1.0\n",
      "  (1, 2676)\t1.0\n",
      "  (1, 2732)\t1.0\n",
      "  (1, 3357)\t1.0\n",
      "  (1, 3439)\t1.0\n",
      "  (1, 3594)\t1.0\n",
      "  (1, 3978)\t1.0\n",
      "  :\t:\n",
      "  (7780, 7263)\t1.0\n",
      "  (7780, 7291)\t1.0\n",
      "  (7780, 7462)\t1.0\n",
      "  (7780, 7737)\t1.0\n",
      "  (7780, 7738)\t1.0\n",
      "  (7780, 7788)\t1.0\n",
      "  (7781, 7432)\t1.0\n",
      "  (7782, 7322)\t1.0\n",
      "  (7782, 7501)\t1.0\n",
      "  (7783, 7744)\t1.0\n",
      "  (7783, 7747)\t1.0\n",
      "  (7784, 7779)\t1.0\n",
      "  (7785, 7450)\t1.0\n",
      "  (7785, 7672)\t1.0\n",
      "  (7786, 7178)\t1.0\n",
      "  (7787, 7179)\t1.0\n",
      "  (7788, 7409)\t1.0\n",
      "  (7789, 7655)\t1.0\n",
      "  (7790, 7597)\t1.0\n",
      "  (7791, 7597)\t1.0\n",
      "  (7792, 7641)\t1.0\n",
      "  (7793, 7262)\t1.0\n",
      "  (7793, 7417)\t1.0\n",
      "  (7794, 7358)\t1.0\n",
      "  (7794, 7452)\t1.0\n"
     ]
    }
   ],
   "source": [
    "print(graph.floor())"
   ]
  },
  {
   "cell_type": "code",
   "execution_count": 12,
   "id": "3ef1fcfb-d2cb-4aa1-b121-b9c9e5e068c6",
   "metadata": {},
   "outputs": [
    {
     "data": {
      "text/plain": [
       "29.751908396946565"
      ]
     },
     "execution_count": 12,
     "metadata": {},
     "output_type": "execute_result"
    }
   ],
   "source": [
    "np.mean(np.unique(frame[0], return_counts = True)[1])"
   ]
  },
  {
   "cell_type": "code",
   "execution_count": 3,
   "id": "1ae56706-1f93-4f61-a6e1-971ef9ed7bc1",
   "metadata": {},
   "outputs": [
    {
     "name": "stdout",
     "output_type": "stream",
     "text": [
      "get\n"
     ]
    },
    {
     "name": "stderr",
     "output_type": "stream",
     "text": [
      "4it [02:10, 32.65s/it, tot_impr=7400, last_impr=0, loss=19349]   \n"
     ]
    }
   ],
   "source": [
    "frame = get_kernighan_lin_clusters('./examples/WikiPathway_2021_Human.npy', 30, 0, KL_modified=True, random_labels=True, unweighted=True)"
   ]
  },
  {
   "cell_type": "code",
   "execution_count": 2,
   "id": "7d1dda0e-2531-4013-8f68-0f071a6eb3c6",
   "metadata": {},
   "outputs": [],
   "source": [
    "path = './examples/WikiPathway_2021_Human.npy'\n",
    "mat = get_gene_pathway_matrix(path)\n",
    "matrix = np.ascontiguousarray(mat.values.T)\n",
    "\n",
    "a = create_nonrandom_labeling(matrix, 10, True)\n",
    "#b = create_random_labeling(matrix, np.ceil(np.mean(np.unique(a, return_counts = True)[1])))"
   ]
  },
  {
   "cell_type": "code",
   "execution_count": 6,
   "id": "e12a8989-1974-496d-b064-0536e912a3f1",
   "metadata": {},
   "outputs": [],
   "source": [
    "full_matrix = get_full_matrix_from_bipartite(matrix)\n",
    "index_genes = (np.sum(full_matrix, axis = 0)>40)\n",
    "\n",
    "graph = csr_matrix(full_matrix)\n",
    "dist_matrix = shortest_path(csgraph=graph,directed=False, indices=np.where(index_genes)[0], return_predecessors=False, unweighted = True)"
   ]
  },
  {
   "cell_type": "code",
   "execution_count": 43,
   "id": "57f9bb14-dd32-4063-8017-7447c18f7080",
   "metadata": {},
   "outputs": [
    {
     "data": {
      "text/plain": [
       "<matplotlib.collections.PathCollection at 0x7f0697955af0>"
      ]
     },
     "execution_count": 43,
     "metadata": {},
     "output_type": "execute_result"
    },
    {
     "data": {
      "image/png": "[encoded data removed]",
      "text/plain": [
       "<Figure size 432x288 with 1 Axes>"
      ]
     },
     "metadata": {
      "needs_background": "light"
     },
     "output_type": "display_data"
    }
   ],
   "source": [
    "plt.scatter(dist_matrix.ravel()+10e-10, -np.log2(dist_matrix.ravel()+10e-10))"
   ]
  },
  {
   "cell_type": "code",
   "execution_count": 45,
   "id": "31fde391-c5ac-4114-9a57-437455c446e6",
   "metadata": {},
   "outputs": [
    {
     "data": {
      "text/plain": [
       "<matplotlib.collections.PathCollection at 0x7f0697a5e250>"
      ]
     },
     "execution_count": 45,
     "metadata": {},
     "output_type": "execute_result"
    },
    {
     "data": {
      "image/png": "[encoded data removed]",
      "text/plain": [
       "<Figure size 432x288 with 1 Axes>"
      ]
     },
     "metadata": {
      "needs_background": "light"
     },
     "output_type": "display_data"
    }
   ],
   "source": [
    "plt.scatter(dist_matrix.ravel()+10e-10, sig(-np.log2(dist_matrix.ravel()+10e-10)))"
   ]
  },
  {
   "cell_type": "code",
   "execution_count": 11,
   "id": "1e269d6b-4b98-4403-be89-8ff8ea7ba905",
   "metadata": {},
   "outputs": [],
   "source": [
    "import numba as nb\n",
    "@nb.njit()\n",
    "def sigmoid(x):\n",
    "    return 1/(1 + np.exp(-x))\n",
    "\n",
    "@nb.njit()\n",
    "def distance_to_probability(dist_matrix):\n",
    "    #inv_df = 1/(dist_matrix+10e-10)\n",
    "    #df = inv_df/np.sum(inv_df, axis = 0)\n",
    "    \n",
    "    temp = dist_matrix+10e-10  \n",
    "    return sigmoid(-np.log2(temp))\n"
   ]
  },
  {
   "cell_type": "code",
   "execution_count": 12,
   "id": "41495e6b-1a3a-4301-9dee-b96e9255b21d",
   "metadata": {},
   "outputs": [
    {
     "data": {
      "text/plain": [
       "array([[0.17009382, 0.17009382, 0.17009382, ..., 0.17009382, 0.17009382,\n",
       "        0.17009382],\n",
       "       [0.17009382, 0.17009382, 0.17009382, ..., 0.17009382, 0.17009382,\n",
       "        0.17009382],\n",
       "       [0.11920292, 0.17009382, 0.17009382, ..., 0.17009382, 0.17009382,\n",
       "        0.17009382],\n",
       "       ...,\n",
       "       [0.26894142, 0.11920292, 0.17009382, ..., 0.26894142, 0.26894142,\n",
       "        0.17009382],\n",
       "       [0.26894142, 0.17009382, 0.11920292, ..., 0.26894142, 0.26894142,\n",
       "        0.17009382],\n",
       "       [0.26894142, 0.26894142, 0.17009382, ..., 1.        , 0.26894142,\n",
       "        0.17009382]])"
      ]
     },
     "execution_count": 12,
     "metadata": {},
     "output_type": "execute_result"
    }
   ],
   "source": [
    "distance_to_probability(dist_matrix)"
   ]
  },
  {
   "cell_type": "code",
   "execution_count": 46,
   "id": "886fc21d-5cb0-4dcf-ba10-9499d6b02480",
   "metadata": {},
   "outputs": [
    {
     "data": {
      "text/plain": [
       "<matplotlib.collections.PathCollection at 0x7f06979c7e50>"
      ]
     },
     "execution_count": 46,
     "metadata": {},
     "output_type": "execute_result"
    },
    {
     "data": {
      "image/png": "[encoded data removed]",
      "text/plain": [
       "<Figure size 432x288 with 1 Axes>"
      ]
     },
     "metadata": {
      "needs_background": "light"
     },
     "output_type": "display_data"
    }
   ],
   "source": [
    "inv_df = 1/(dist_matrix+10e-10)\n",
    "df = inv_df/np.sum(inv_df, axis = 0)\n",
    "\n",
    "plt.scatter(dist_matrix.ravel()+10e-10, df)"
   ]
  },
  {
   "cell_type": "code",
   "execution_count": 26,
   "id": "9243a23a-44ef-4e71-943d-811bea27d851",
   "metadata": {},
   "outputs": [
    {
     "data": {
      "text/plain": [
       "-1.584962500721156"
      ]
     },
     "execution_count": 26,
     "metadata": {},
     "output_type": "execute_result"
    }
   ],
   "source": [
    "dist = np.array\n",
    "-1*np.log2()"
   ]
  },
  {
   "cell_type": "code",
   "execution_count": 4,
   "id": "8f198a7c-b78f-42b5-93d6-0d5248c3d3b3",
   "metadata": {},
   "outputs": [],
   "source": [
    "import numpy as np \n",
    "def sig(x):\n",
    " return 1/(1 + np.exp(-x))"
   ]
  },
  {
   "cell_type": "code",
   "execution_count": 21,
   "id": "1fb55457-5e49-4688-b3dc-cf632402ef0d",
   "metadata": {},
   "outputs": [
    {
     "data": {
      "text/plain": [
       "0.11920292202211755"
      ]
     },
     "execution_count": 21,
     "metadata": {},
     "output_type": "execute_result"
    }
   ],
   "source": [
    "sig()"
   ]
  },
  {
   "cell_type": "code",
   "execution_count": 5,
   "id": "8b71d208-a97b-48e7-9ff3-63fda91b97ee",
   "metadata": {},
   "outputs": [
    {
     "ename": "TypeError",
     "evalue": "choice() missing 1 required positional argument: 'seq'",
     "output_type": "error",
     "traceback": [
      "\u001b[0;31m---------------------------------------------------------------------------\u001b[0m",
      "\u001b[0;31mTypeError\u001b[0m                                 Traceback (most recent call last)",
      "Input \u001b[0;32mIn [5]\u001b[0m, in \u001b[0;36m<cell line: 2>\u001b[0;34m()\u001b[0m\n\u001b[1;32m      1\u001b[0m \u001b[38;5;28;01mimport\u001b[39;00m \u001b[38;5;21;01mrandom\u001b[39;00m\n\u001b[0;32m----> 2\u001b[0m \u001b[43mrandom\u001b[49m\u001b[38;5;241;43m.\u001b[39;49m\u001b[43mchoice\u001b[49m\u001b[43m(\u001b[49m\u001b[43m)\u001b[49m\n",
      "\u001b[0;31mTypeError\u001b[0m: choice() missing 1 required positional argument: 'seq'"
     ]
    }
   ],
   "source": [
    "import random\n",
    "random.choice()"
   ]
  },
  {
   "cell_type": "code",
   "execution_count": null,
   "id": "5cca0a26-6bb7-4b13-bbef-089e71cd283e",
   "metadata": {},
   "outputs": [],
   "source": [
    "a = create_nonrandom_labeling(matrix, 40, True)\n"
   ]
  },
  {
   "cell_type": "code",
   "execution_count": 16,
   "id": "26e7f537-3e0f-40db-9744-5606b124f09b",
   "metadata": {},
   "outputs": [
    {
     "name": "stderr",
     "output_type": "stream",
     "text": [
      "1it [00:20, 20.94s/it, tot_impr=0, last_impr=0, loss=19165]\n"
     ]
    }
   ],
   "source": [
    "b_new = run_KL(b, matrix, 0, False)"
   ]
  },
  {
   "cell_type": "code",
   "execution_count": 17,
   "id": "19c4a9da-ad39-4fb0-93c3-bdcb17225b60",
   "metadata": {},
   "outputs": [
    {
     "name": "stderr",
     "output_type": "stream",
     "text": [
      "1it [00:20, 20.90s/it, tot_impr=0, last_impr=0, loss=19256]\n"
     ]
    }
   ],
   "source": [
    "a_new = run_KL(a, matrix, 0, False)"
   ]
  },
  {
   "cell_type": "code",
   "execution_count": 9,
   "id": "2b3bdc52-3c65-4f43-9e01-fa40c7bfa307",
   "metadata": {},
   "outputs": [
    {
     "data": {
      "text/plain": [
       "30.0"
      ]
     },
     "execution_count": 9,
     "metadata": {},
     "output_type": "execute_result"
    }
   ],
   "source": [
    "np.ceil(np.mean(np.unique(a, return_counts = True)[1]))"
   ]
  },
  {
   "cell_type": "code",
   "execution_count": 2,
   "id": "635ae5c6-6bc4-4813-a131-99fc6949b4aa",
   "metadata": {},
   "outputs": [
    {
     "name": "stdout",
     "output_type": "stream",
     "text": [
      "get\n",
      "NR labels\n"
     ]
    },
    {
     "name": "stderr",
     "output_type": "stream",
     "text": [
      "0it [00:17, ?it/s]\n"
     ]
    },
    {
     "ename": "KeyboardInterrupt",
     "evalue": "",
     "output_type": "error",
     "traceback": [
      "\u001b[0;31m---------------------------------------------------------------------------\u001b[0m",
      "\u001b[0;31mKeyboardInterrupt\u001b[0m                         Traceback (most recent call last)",
      "Input \u001b[0;32mIn [2]\u001b[0m, in \u001b[0;36m<cell line: 1>\u001b[0;34m()\u001b[0m\n\u001b[0;32m----> 1\u001b[0m frame \u001b[38;5;241m=\u001b[39m \u001b[43mget_kernighan_lin_clusters\u001b[49m\u001b[43m(\u001b[49m\u001b[38;5;124;43m'\u001b[39;49m\u001b[38;5;124;43m./examples/WikiPathway_2021_Human.npy\u001b[39;49m\u001b[38;5;124;43m'\u001b[39;49m\u001b[43m,\u001b[49m\u001b[43m \u001b[49m\u001b[38;5;241;43m40\u001b[39;49m\u001b[43m,\u001b[49m\u001b[43m \u001b[49m\u001b[38;5;241;43m0\u001b[39;49m\u001b[43m,\u001b[49m\u001b[43m \u001b[49m\u001b[43mKL_modified\u001b[49m\u001b[38;5;241;43m=\u001b[39;49m\u001b[38;5;28;43;01mTrue\u001b[39;49;00m\u001b[43m,\u001b[49m\u001b[43m \u001b[49m\u001b[43mrandom_labels\u001b[49m\u001b[38;5;241;43m=\u001b[39;49m\u001b[38;5;28;43;01mFalse\u001b[39;49;00m\u001b[43m,\u001b[49m\u001b[43m \u001b[49m\u001b[43munweighted\u001b[49m\u001b[38;5;241;43m=\u001b[39;49m\u001b[38;5;28;43;01mTrue\u001b[39;49;00m\u001b[43m)\u001b[49m\n",
      "File \u001b[0;32m~/homer/github/geneclusters/geneclusters/cluster_genes_new.py:401\u001b[0m, in \u001b[0;36mget_kernighan_lin_clusters\u001b[0;34m(path, threshold, C, KL_modified, random_labels, unweighted)\u001b[0m\n\u001b[1;32m    399\u001b[0m \u001b[38;5;28;01melse\u001b[39;00m:\n\u001b[1;32m    400\u001b[0m     labeling \u001b[38;5;241m=\u001b[39m create_nonrandom_labeling(matrix, threshold, unweighted)\n\u001b[0;32m--> 401\u001b[0m \u001b[43mrun_KL\u001b[49m\u001b[43m(\u001b[49m\u001b[43mlabeling\u001b[49m\u001b[43m,\u001b[49m\u001b[43m \u001b[49m\u001b[43mmatrix\u001b[49m\u001b[43m,\u001b[49m\u001b[43m \u001b[49m\u001b[38;5;241;43m0\u001b[39;49m\u001b[43m,\u001b[49m\u001b[43m \u001b[49m\u001b[43mKL_modified\u001b[49m\u001b[43m)\u001b[49m\n\u001b[1;32m    402\u001b[0m frame \u001b[38;5;241m=\u001b[39m pd\u001b[38;5;241m.\u001b[39mDataFrame(labeling)\n\u001b[1;32m    403\u001b[0m frame[\u001b[38;5;124m'\u001b[39m\u001b[38;5;124mdescription\u001b[39m\u001b[38;5;124m'\u001b[39m] \u001b[38;5;241m=\u001b[39m np\u001b[38;5;241m.\u001b[39mconcatenate([gene_names, pathway_names])\n",
      "File \u001b[0;32m~/homer/github/geneclusters/geneclusters/cluster_genes_new.py:371\u001b[0m, in \u001b[0;36mrun_KL\u001b[0;34m(labeling, matrix, c, KL_modified)\u001b[0m\n\u001b[1;32m    369\u001b[0m \u001b[38;5;28;01mwith\u001b[39;00m tqdm() \u001b[38;5;28;01mas\u001b[39;00m p:\n\u001b[1;32m    370\u001b[0m     \u001b[38;5;28;01mwhile\u001b[39;00m \u001b[38;5;28;01mTrue\u001b[39;00m:\n\u001b[0;32m--> 371\u001b[0m         impr \u001b[38;5;241m=\u001b[39m \u001b[43mfull_kl_step\u001b[49m\u001b[43m(\u001b[49m\u001b[43mlabeling\u001b[49m\u001b[43m,\u001b[49m\u001b[43m \u001b[49m\u001b[43mmatrix\u001b[49m\u001b[43m,\u001b[49m\u001b[43m \u001b[49m\u001b[43mc\u001b[49m\u001b[43m,\u001b[49m\u001b[43m \u001b[49m\u001b[43mKL_modified\u001b[49m\u001b[43m)\u001b[49m\n\u001b[1;32m    372\u001b[0m         tot \u001b[38;5;241m+\u001b[39m\u001b[38;5;241m=\u001b[39m impr\n\u001b[1;32m    373\u001b[0m         p\u001b[38;5;241m.\u001b[39mset_postfix({\n\u001b[1;32m    374\u001b[0m                 \u001b[38;5;124m'\u001b[39m\u001b[38;5;124mtot_impr\u001b[39m\u001b[38;5;124m'\u001b[39m: tot,\n\u001b[1;32m    375\u001b[0m                 \u001b[38;5;124m'\u001b[39m\u001b[38;5;124mlast_impr\u001b[39m\u001b[38;5;124m'\u001b[39m: impr,\n\u001b[1;32m    376\u001b[0m                 \u001b[38;5;124m'\u001b[39m\u001b[38;5;124mloss\u001b[39m\u001b[38;5;124m'\u001b[39m: evaluate_cut(matrix, labeling, c)\n\u001b[1;32m    377\u001b[0m         })\n",
      "File \u001b[0;32m~/homer/github/geneclusters/geneclusters/cluster_genes_new.py:332\u001b[0m, in \u001b[0;36mfull_kl_step\u001b[0;34m(labeling, matrix, c, KL_modified)\u001b[0m\n\u001b[1;32m    330\u001b[0m \u001b[38;5;28;01mfor\u001b[39;00m o \u001b[38;5;129;01min\u001b[39;00m order:\n\u001b[1;32m    331\u001b[0m     cluster_1, cluster_2 \u001b[38;5;241m=\u001b[39m o \u001b[38;5;241m/\u001b[39m\u001b[38;5;241m/\u001b[39m num_clusters, o \u001b[38;5;241m%\u001b[39m num_clusters\n\u001b[0;32m--> 332\u001b[0m     impr\u001b[38;5;241m+\u001b[39m\u001b[38;5;241m=\u001b[39m\u001b[43mkernighan_lin_step\u001b[49m\u001b[43m(\u001b[49m\u001b[43mlabeling\u001b[49m\u001b[43m,\u001b[49m\u001b[43m \u001b[49m\u001b[43mmatrix\u001b[49m\u001b[43m,\u001b[49m\u001b[43m \u001b[49m\u001b[43mcluster_1\u001b[49m\u001b[43m,\u001b[49m\u001b[43m \u001b[49m\u001b[43mcluster_2\u001b[49m\u001b[43m,\u001b[49m\u001b[43m \u001b[49m\u001b[43mc\u001b[49m\u001b[43m,\u001b[49m\u001b[43m \u001b[49m\u001b[43mKL_modified\u001b[49m\u001b[43m)\u001b[49m\n\u001b[1;32m    333\u001b[0m \u001b[38;5;28;01mreturn\u001b[39;00m impr\n",
      "\u001b[0;31mKeyboardInterrupt\u001b[0m: "
     ]
    }
   ],
   "source": [
    "frame = get_kernighan_lin_clusters('./examples/WikiPathway_2021_Human.npy', 40, 0, KL_modified=True, random_labels=False, unweighted=True)"
   ]
  },
  {
   "cell_type": "code",
   "execution_count": 2,
   "id": "02a422d2-dcd0-4442-bdab-0b532c85268b",
   "metadata": {},
   "outputs": [],
   "source": [
    "from scipy.sparse import csr_matrix\n",
    "from scipy.sparse.csgraph import shortest_path\n",
    "import numba as nb\n",
    "import random"
   ]
  },
  {
   "cell_type": "code",
   "execution_count": 32,
   "id": "0d2f3c03-6453-4b29-9de2-fbc785353c0b",
   "metadata": {},
   "outputs": [],
   "source": [
    "def get_full_matrix_from_bipartite(matrix):\n",
    "    m1 = np.concatenate((np.zeros(shape=(matrix.shape[0],matrix.shape[0])), matrix), axis = 1)\n",
    "    m2 = np.concatenate((matrix.T, (np.zeros(shape=(matrix.shape[1],matrix.shape[1])))), axis = 1)\n",
    "    return np.concatenate((m2, m1), axis = 0)\n",
    "\n",
    "@nb.njit()\n",
    "def invert_weights(matrix, matrix_out):\n",
    "    for i in range(matrix.shape[0]):\n",
    "        for j in range(matrix.shape[1]):\n",
    "            val = matrix[i,j]\n",
    "            if val!=0:\n",
    "                matrix_out[i,j] = 1/val\n",
    "            elif val==0:\n",
    "                matrix_out[i,j] = val\n",
    "    return matrix_out\n",
    "\n",
    "def create_nonrandom_labeling(matrix, centrality, unweighted):\n",
    "    print('NR labels')\n",
    "    index_genes = (np.sum(matrix, axis = 0)>centrality)\n",
    "    full_matrix = get_full_matrix_from_bipartite(matrix)\n",
    "    \n",
    "    if not unweighted:\n",
    "        full_matrix = invert_weights(full_matrix, np.empty_like(matrix))\n",
    "    graph = csr_matrix(full_matrix)\n",
    "    dist_matrix = shortest_path(csgraph=graph,directed=False, indices=np.where(index_genes)[0], return_predecessors=False, unweighted = unweighted)\n",
    "    proba = distance_to_probability(dist_matrix)\n",
    "    assignment = assign_cluster_based_on_proba(proba)\n",
    "    return assignment\n",
    "\n",
    "def distance_to_probability(dist_matrix):\n",
    "    inv_df = 1/(dist_matrix+10e-10)\n",
    "    df = inv_df/np.sum(inv_df, axis = 0)\n",
    "    return df\n",
    "\n",
    "def assign_cluster_based_on_proba(probas):\n",
    "    assignment = []\n",
    "    for node in range(probas.shape[1]):\n",
    "        #np.random.seed(5)\n",
    "        x = np.random.choice(range(probas.shape[0]), size = 1, p = probas[:,node])[0]\n",
    "        assignment.append(x)\n",
    "    return np.array(assignment)"
   ]
  },
  {
   "cell_type": "code",
   "execution_count": 33,
   "id": "1ed219f2-660b-455b-a08a-af669f887ef2",
   "metadata": {},
   "outputs": [],
   "source": [
    "path = './examples/WikiPathway_2021_Human.npy'\n",
    "mat = get_gene_pathway_matrix(path)\n",
    "matrix = np.ascontiguousarray(mat.values.T)\n",
    "\n",
    "full_matrix = get_full_matrix_from_bipartite(matrix)\n",
    "index_genes = (np.sum(full_matrix, axis = 0)>40)\n",
    "\n",
    "graph = csr_matrix(full_matrix)\n",
    "\n",
    "dist_matrix = shortest_path(csgraph=graph,directed=False, indices=np.where(index_genes)[0], return_predecessors=False, unweighted = True)\n",
    "\n",
    "df = distance_to_probability(dist_matrix)\n",
    "\n",
    "assignment = assign_cluster_based_on_proba(df)\n",
    "#assignment = []\n",
    "#for node in range(df.shape[1]):\n",
    "#    x = np.random.choice(range(df.shape[0]), size = 1, p = df[:,node])[0]\n",
    "#    assignment.append(x)"
   ]
  },
  {
   "cell_type": "code",
   "execution_count": 3,
   "id": "268f8fbc-32a7-4672-834c-95e6712209e8",
   "metadata": {},
   "outputs": [
    {
     "name": "stdout",
     "output_type": "stream",
     "text": [
      "NR labels\n"
     ]
    }
   ],
   "source": [
    "path = './examples/WikiPathway_2021_Human.npy'\n",
    "mat = get_gene_pathway_matrix(path)\n",
    "matrix = np.ascontiguousarray(mat.values.T)\n",
    "\n",
    "a = create_nonrandom_labeling(matrix, 40, True)\n",
    "b = create_random"
   ]
  },
  {
   "cell_type": "code",
   "execution_count": 4,
   "id": "8c199f9f-0517-4778-8a41-9ac2ecb45b1d",
   "metadata": {},
   "outputs": [
    {
     "data": {
      "text/plain": [
       "array([33, 33, 32, 34, 25, 35, 32, 24, 32, 35, 41, 31, 32, 18, 36, 32, 30,\n",
       "       27, 28, 22, 23, 38, 27, 33, 29, 30, 27, 26, 33, 25, 27, 23, 43, 27,\n",
       "       25, 25, 39, 32, 33, 18, 27, 30, 31, 32, 34, 35, 39, 35, 27, 28, 35,\n",
       "       29, 35, 35, 33, 31, 27, 33, 27, 28, 35, 41, 30, 22, 33, 22, 38, 33,\n",
       "       29, 27, 21, 34, 28, 36, 33, 25, 26, 28, 31, 31, 29, 33, 37, 23, 32,\n",
       "       29, 29, 25, 23, 32, 31, 35, 21, 34, 30, 26, 30, 19, 24, 39, 32, 30,\n",
       "       30, 22, 32, 25, 28, 25, 23, 25, 45, 32, 28, 29, 19, 27, 36, 24, 29,\n",
       "       21, 32, 40, 39, 30, 30, 32, 30, 26, 26, 23, 36, 33, 31, 30, 27, 25,\n",
       "       34, 28, 27, 34, 32, 36, 33, 17, 31, 36, 39, 32, 33, 37, 32, 24, 26,\n",
       "       37, 30, 38, 25, 28, 31, 22, 27, 29, 31, 20, 27, 28, 43, 26, 37, 33,\n",
       "       33, 36, 31, 27, 35, 28, 33, 27, 25, 33, 44, 29, 25, 27, 30, 36, 36,\n",
       "       22, 36, 24, 26, 25, 24, 35, 39, 39, 23, 17, 20, 33, 34, 27, 31, 35,\n",
       "       33, 27, 27, 24, 21, 32, 39, 30, 32, 20, 30, 28, 29, 32, 28, 37, 32,\n",
       "       35, 25, 24, 24, 31, 26, 19, 33, 23, 31, 26, 27, 32, 33, 27, 27, 26,\n",
       "       31, 32, 17, 25, 28, 23, 28, 30, 43, 30, 38, 39, 32, 29, 31, 28, 36,\n",
       "       24, 27, 28, 26, 25, 29, 16])"
      ]
     },
     "execution_count": 4,
     "metadata": {},
     "output_type": "execute_result"
    }
   ],
   "source": [
    "np.unique(a, return_counts = True)[1]"
   ]
  },
  {
   "cell_type": "code",
   "execution_count": 26,
   "id": "098c0084-0098-43b5-9f1f-261d693d4101",
   "metadata": {},
   "outputs": [
    {
     "data": {
      "text/plain": [
       "array([36, 39, 25, 31, 31, 31, 30, 29, 34, 31, 36, 25, 29, 27, 28, 30, 36,\n",
       "       32, 34, 25, 22, 27, 37, 48, 23, 39, 23, 31, 35, 34, 34, 36, 38, 19,\n",
       "       33, 28, 34, 24, 27, 33, 38, 38, 27, 30, 30, 43, 35, 29, 35, 27, 32,\n",
       "       29, 35, 35, 24, 29, 35, 25, 25, 30, 32, 23, 37, 22, 37, 22, 24, 30,\n",
       "       37, 22, 31, 26, 32, 40, 31, 24, 24, 30, 23, 26, 29, 35, 29, 29, 26,\n",
       "       26, 29, 24, 25, 32, 27, 24, 38, 21, 25, 32, 26, 19, 28, 40, 38, 18,\n",
       "       37, 38, 26, 27, 36, 26, 25, 28, 34, 37, 30, 28, 37, 28, 42, 28, 26,\n",
       "       35, 32, 30, 22, 28, 28, 27, 28, 28, 31, 38, 31, 27, 20, 25, 41, 30,\n",
       "       29, 26, 33, 27, 24, 27, 24, 22, 17, 28, 25, 33, 27, 22, 27, 27, 28,\n",
       "       27, 37, 23, 32, 22, 36, 31, 31, 34, 13, 30, 31, 26, 37, 36, 19, 28,\n",
       "       33, 30, 28, 30, 25, 25, 31, 30, 33, 37, 38, 25, 27, 33, 27, 27, 29,\n",
       "       30, 33, 32, 28, 37, 25, 26, 29, 34, 34, 26, 25, 26, 30, 36, 30, 24,\n",
       "       37, 32, 29, 28, 25, 23, 33, 36, 23, 31, 27, 27, 25, 31, 35, 30, 31,\n",
       "       35, 32, 25, 39, 38, 33, 18, 33, 31, 24, 26, 29, 27, 37, 36, 29, 33,\n",
       "       35, 33, 31, 22, 24, 28, 29, 30, 30, 28, 26, 35, 25, 30, 28, 22, 29,\n",
       "       24, 41, 37, 33, 28, 34, 31])"
      ]
     },
     "execution_count": 26,
     "metadata": {},
     "output_type": "execute_result"
    }
   ],
   "source": [
    "np.unique(assignment, return_counts = True)[1]"
   ]
  },
  {
   "cell_type": "code",
   "execution_count": null,
   "id": "b4f76ae6-5bef-40bd-9e04-c9e0854fabff",
   "metadata": {},
   "outputs": [],
   "source": [
    "labeling = create_random_labeling(matrix, threshold)"
   ]
  },
  {
   "cell_type": "code",
   "execution_count": null,
   "id": "7920a1c5-4dbe-4575-be39-2654b228ca22",
   "metadata": {},
   "outputs": [],
   "source": [
    "mat = get_gene_pathway_matrix(path)\n",
    "    pathway_names = mat.index\n",
    "    gene_names = mat.columns\n",
    "    matrix = np.ascontiguousarray(mat.values.T)\n",
    "    if random_labels:\n",
    "        labeling = create_random_labeling(matrix, threshold)\n",
    "    else:\n",
    "        labeling = create_nonrandom_labeling(matrix, threshold, unweighted)\n",
    "    run_KL(labeling, matrix, 0, KL_modified)"
   ]
  },
  {
   "cell_type": "code",
   "execution_count": 4,
   "id": "4bf4e900-1558-4092-9240-b71340d2d9f4",
   "metadata": {},
   "outputs": [
    {
     "name": "stdout",
     "output_type": "stream",
     "text": [
      "get\n",
      "NR labels\n"
     ]
    },
    {
     "name": "stderr",
     "output_type": "stream",
     "text": [
      "0it [00:54, ?it/s]\n"
     ]
    },
    {
     "ename": "KeyboardInterrupt",
     "evalue": "",
     "output_type": "error",
     "traceback": [
      "\u001b[0;31m---------------------------------------------------------------------------\u001b[0m",
      "\u001b[0;31mKeyboardInterrupt\u001b[0m                         Traceback (most recent call last)",
      "Input \u001b[0;32mIn [4]\u001b[0m, in \u001b[0;36m<cell line: 1>\u001b[0;34m()\u001b[0m\n\u001b[0;32m----> 1\u001b[0m frame \u001b[38;5;241m=\u001b[39m \u001b[43mget_kernighan_lin_clusters\u001b[49m\u001b[43m(\u001b[49m\u001b[38;5;124;43m'\u001b[39;49m\u001b[38;5;124;43m./examples/WikiPathway_2021_Human.npy\u001b[39;49m\u001b[38;5;124;43m'\u001b[39;49m\u001b[43m,\u001b[49m\u001b[43m \u001b[49m\u001b[38;5;241;43m40\u001b[39;49m\u001b[43m,\u001b[49m\u001b[43m \u001b[49m\u001b[38;5;241;43m0\u001b[39;49m\u001b[43m,\u001b[49m\u001b[43m \u001b[49m\u001b[43mKL_modified\u001b[49m\u001b[38;5;241;43m=\u001b[39;49m\u001b[38;5;28;43;01mTrue\u001b[39;49;00m\u001b[43m,\u001b[49m\u001b[43m \u001b[49m\u001b[43mrandom_labels\u001b[49m\u001b[38;5;241;43m=\u001b[39;49m\u001b[38;5;28;43;01mFalse\u001b[39;49;00m\u001b[43m,\u001b[49m\u001b[43m \u001b[49m\u001b[43munweighted\u001b[49m\u001b[38;5;241;43m=\u001b[39;49m\u001b[38;5;28;43;01mTrue\u001b[39;49;00m\u001b[43m)\u001b[49m\n",
      "File \u001b[0;32m~/homer/github/geneclusters/geneclusters/cluster_genes_new.py:401\u001b[0m, in \u001b[0;36mget_kernighan_lin_clusters\u001b[0;34m(path, threshold, C, KL_modified, random_labels, unweighted)\u001b[0m\n\u001b[1;32m    399\u001b[0m \u001b[38;5;28;01melse\u001b[39;00m:\n\u001b[1;32m    400\u001b[0m     labeling \u001b[38;5;241m=\u001b[39m create_nonrandom_labeling(matrix, threshold, unweighted)\n\u001b[0;32m--> 401\u001b[0m \u001b[43mrun_KL\u001b[49m\u001b[43m(\u001b[49m\u001b[43mlabeling\u001b[49m\u001b[43m,\u001b[49m\u001b[43m \u001b[49m\u001b[43mmatrix\u001b[49m\u001b[43m,\u001b[49m\u001b[43m \u001b[49m\u001b[38;5;241;43m0\u001b[39;49m\u001b[43m,\u001b[49m\u001b[43m \u001b[49m\u001b[43mKL_modified\u001b[49m\u001b[43m)\u001b[49m\n\u001b[1;32m    402\u001b[0m frame \u001b[38;5;241m=\u001b[39m pd\u001b[38;5;241m.\u001b[39mDataFrame(labeling)\n\u001b[1;32m    403\u001b[0m frame[\u001b[38;5;124m'\u001b[39m\u001b[38;5;124mdescription\u001b[39m\u001b[38;5;124m'\u001b[39m] \u001b[38;5;241m=\u001b[39m np\u001b[38;5;241m.\u001b[39mconcatenate([gene_names, pathway_names])\n",
      "File \u001b[0;32m~/homer/github/geneclusters/geneclusters/cluster_genes_new.py:371\u001b[0m, in \u001b[0;36mrun_KL\u001b[0;34m(labeling, matrix, c, KL_modified)\u001b[0m\n\u001b[1;32m    369\u001b[0m \u001b[38;5;28;01mwith\u001b[39;00m tqdm() \u001b[38;5;28;01mas\u001b[39;00m p:\n\u001b[1;32m    370\u001b[0m     \u001b[38;5;28;01mwhile\u001b[39;00m \u001b[38;5;28;01mTrue\u001b[39;00m:\n\u001b[0;32m--> 371\u001b[0m         impr \u001b[38;5;241m=\u001b[39m \u001b[43mfull_kl_step\u001b[49m\u001b[43m(\u001b[49m\u001b[43mlabeling\u001b[49m\u001b[43m,\u001b[49m\u001b[43m \u001b[49m\u001b[43mmatrix\u001b[49m\u001b[43m,\u001b[49m\u001b[43m \u001b[49m\u001b[43mc\u001b[49m\u001b[43m,\u001b[49m\u001b[43m \u001b[49m\u001b[43mKL_modified\u001b[49m\u001b[43m)\u001b[49m\n\u001b[1;32m    372\u001b[0m         tot \u001b[38;5;241m+\u001b[39m\u001b[38;5;241m=\u001b[39m impr\n\u001b[1;32m    373\u001b[0m         p\u001b[38;5;241m.\u001b[39mset_postfix({\n\u001b[1;32m    374\u001b[0m                 \u001b[38;5;124m'\u001b[39m\u001b[38;5;124mtot_impr\u001b[39m\u001b[38;5;124m'\u001b[39m: tot,\n\u001b[1;32m    375\u001b[0m                 \u001b[38;5;124m'\u001b[39m\u001b[38;5;124mlast_impr\u001b[39m\u001b[38;5;124m'\u001b[39m: impr,\n\u001b[1;32m    376\u001b[0m                 \u001b[38;5;124m'\u001b[39m\u001b[38;5;124mloss\u001b[39m\u001b[38;5;124m'\u001b[39m: evaluate_cut(matrix, labeling, c)\n\u001b[1;32m    377\u001b[0m         })\n",
      "File \u001b[0;32m~/homer/github/geneclusters/geneclusters/cluster_genes_new.py:332\u001b[0m, in \u001b[0;36mfull_kl_step\u001b[0;34m(labeling, matrix, c, KL_modified)\u001b[0m\n\u001b[1;32m    330\u001b[0m \u001b[38;5;28;01mfor\u001b[39;00m o \u001b[38;5;129;01min\u001b[39;00m order:\n\u001b[1;32m    331\u001b[0m     cluster_1, cluster_2 \u001b[38;5;241m=\u001b[39m o \u001b[38;5;241m/\u001b[39m\u001b[38;5;241m/\u001b[39m num_clusters, o \u001b[38;5;241m%\u001b[39m num_clusters\n\u001b[0;32m--> 332\u001b[0m     impr\u001b[38;5;241m+\u001b[39m\u001b[38;5;241m=\u001b[39m\u001b[43mkernighan_lin_step\u001b[49m\u001b[43m(\u001b[49m\u001b[43mlabeling\u001b[49m\u001b[43m,\u001b[49m\u001b[43m \u001b[49m\u001b[43mmatrix\u001b[49m\u001b[43m,\u001b[49m\u001b[43m \u001b[49m\u001b[43mcluster_1\u001b[49m\u001b[43m,\u001b[49m\u001b[43m \u001b[49m\u001b[43mcluster_2\u001b[49m\u001b[43m,\u001b[49m\u001b[43m \u001b[49m\u001b[43mc\u001b[49m\u001b[43m,\u001b[49m\u001b[43m \u001b[49m\u001b[43mKL_modified\u001b[49m\u001b[43m)\u001b[49m\n\u001b[1;32m    333\u001b[0m \u001b[38;5;28;01mreturn\u001b[39;00m impr\n",
      "\u001b[0;31mKeyboardInterrupt\u001b[0m: "
     ]
    }
   ],
   "source": [
    "frame = get_kernighan_lin_clusters('./examples/WikiPathway_2021_Human.npy', 40, 0, KL_modified=True, random_labels=False, unweighted=True)"
   ]
  },
  {
   "cell_type": "code",
   "execution_count": 7,
   "id": "3e428f96-bb13-4d0c-90d9-315c9cef8a22",
   "metadata": {},
   "outputs": [
    {
     "data": {
      "text/html": [
       "<div>\n",
       "<style scoped>\n",
       "    .dataframe tbody tr th:only-of-type {\n",
       "        vertical-align: middle;\n",
       "    }\n",
       "\n",
       "    .dataframe tbody tr th {\n",
       "        vertical-align: top;\n",
       "    }\n",
       "\n",
       "    .dataframe thead th {\n",
       "        text-align: right;\n",
       "    }\n",
       "</style>\n",
       "<table border=\"1\" class=\"dataframe\">\n",
       "  <thead>\n",
       "    <tr style=\"text-align: right;\">\n",
       "      <th></th>\n",
       "      <th>0</th>\n",
       "      <th>description</th>\n",
       "      <th>is_gene</th>\n",
       "    </tr>\n",
       "  </thead>\n",
       "  <tbody>\n",
       "    <tr>\n",
       "      <th>0</th>\n",
       "      <td>49</td>\n",
       "      <td>A3GALT2</td>\n",
       "      <td>True</td>\n",
       "    </tr>\n",
       "    <tr>\n",
       "      <th>1</th>\n",
       "      <td>179</td>\n",
       "      <td>A4GALT</td>\n",
       "      <td>True</td>\n",
       "    </tr>\n",
       "    <tr>\n",
       "      <th>2</th>\n",
       "      <td>26</td>\n",
       "      <td>AADAT</td>\n",
       "      <td>True</td>\n",
       "    </tr>\n",
       "    <tr>\n",
       "      <th>3</th>\n",
       "      <td>131</td>\n",
       "      <td>AAMP</td>\n",
       "      <td>True</td>\n",
       "    </tr>\n",
       "    <tr>\n",
       "      <th>4</th>\n",
       "      <td>16</td>\n",
       "      <td>AANAT</td>\n",
       "      <td>True</td>\n",
       "    </tr>\n",
       "    <tr>\n",
       "      <th>...</th>\n",
       "      <td>...</td>\n",
       "      <td>...</td>\n",
       "      <td>...</td>\n",
       "    </tr>\n",
       "    <tr>\n",
       "      <th>7790</th>\n",
       "      <td>97</td>\n",
       "      <td>Wnt signaling pathway and pluripotency WP399</td>\n",
       "      <td>False</td>\n",
       "    </tr>\n",
       "    <tr>\n",
       "      <th>7791</th>\n",
       "      <td>129</td>\n",
       "      <td>Wnt Signaling Pathway WP363</td>\n",
       "      <td>False</td>\n",
       "    </tr>\n",
       "    <tr>\n",
       "      <th>7792</th>\n",
       "      <td>97</td>\n",
       "      <td>Wnt signaling WP428</td>\n",
       "      <td>False</td>\n",
       "    </tr>\n",
       "    <tr>\n",
       "      <th>7793</th>\n",
       "      <td>129</td>\n",
       "      <td>Wnt/beta-catenin signaling pathway in leukemia...</td>\n",
       "      <td>False</td>\n",
       "    </tr>\n",
       "    <tr>\n",
       "      <th>7794</th>\n",
       "      <td>108</td>\n",
       "      <td>Zinc homeostasis WP3529</td>\n",
       "      <td>False</td>\n",
       "    </tr>\n",
       "  </tbody>\n",
       "</table>\n",
       "<p>7795 rows × 3 columns</p>\n",
       "</div>"
      ],
      "text/plain": [
       "        0                                        description  is_gene\n",
       "0      49                                            A3GALT2     True\n",
       "1     179                                             A4GALT     True\n",
       "2      26                                              AADAT     True\n",
       "3     131                                               AAMP     True\n",
       "4      16                                              AANAT     True\n",
       "...   ...                                                ...      ...\n",
       "7790   97       Wnt signaling pathway and pluripotency WP399    False\n",
       "7791  129                        Wnt Signaling Pathway WP363    False\n",
       "7792   97                                Wnt signaling WP428    False\n",
       "7793  129  Wnt/beta-catenin signaling pathway in leukemia...    False\n",
       "7794  108                            Zinc homeostasis WP3529    False\n",
       "\n",
       "[7795 rows x 3 columns]"
      ]
     },
     "execution_count": 7,
     "metadata": {},
     "output_type": "execute_result"
    }
   ],
   "source": [
    "frame"
   ]
  },
  {
   "cell_type": "code",
   "execution_count": 13,
   "id": "bdc7fc1d-1fd8-409d-9823-5ee60d722ae9",
   "metadata": {},
   "outputs": [],
   "source": [
    "x = gseapy.get_library('WikiPathway_2021_Human')\n"
   ]
  },
  {
   "cell_type": "code",
   "execution_count": 14,
   "id": "868c797f-bbc1-4490-83b9-474857c55f23",
   "metadata": {},
   "outputs": [],
   "source": [
    "x = gseapy.get_library('WikiPathway_2021_Human')\n",
    "\n",
    "np.save('./examples/WikiPathway_2021_Human.npy', x)"
   ]
  },
  {
   "cell_type": "code",
   "execution_count": null,
   "id": "2335e6fb-96d6-4dd3-a978-aa3d73450eee",
   "metadata": {},
   "outputs": [],
   "source": [
    "# compare the outputs of each function to find the differences between mine and G's\n",
    "# then compare which options create the smallest lost (include spectral and others?)"
   ]
  },
  {
   "cell_type": "code",
   "execution_count": 3,
   "id": "a7ac43d5-67d2-44c1-b548-4788acd68357",
   "metadata": {},
   "outputs": [],
   "source": [
    "path = './examples/WikiPathway_2021_Human.npy'\n",
    "mat = get_gene_pathway_matrix(path)\n",
    "matrix = np.ascontiguousarray(mat.values.T)"
   ]
  },
  {
   "cell_type": "code",
   "execution_count": 39,
   "id": "c96e0112-e225-4e6e-a831-f6d28d7b7ec4",
   "metadata": {},
   "outputs": [
    {
     "data": {
      "image/png": "[encoded data removed]",
      "text/plain": [
       "<Figure size 640x480 with 1 Axes>"
      ]
     },
     "metadata": {},
     "output_type": "display_data"
    }
   ],
   "source": [
    "import matplotlib.pyplot as plt\n",
    "plt.hist(np.sum(matrix, axis = 0), 50)\n",
    "plt.show()"
   ]
  },
  {
   "cell_type": "code",
   "execution_count": 13,
   "id": "4b7f8d15-1bb5-4b52-b242-c6dae1718030",
   "metadata": {},
   "outputs": [],
   "source": [
    "from scipy.sparse import csr_matrix\n",
    "from scipy.sparse.csgraph import shortest_path\n",
    "import numba as nb\n",
    "import random"
   ]
  },
  {
   "cell_type": "code",
   "execution_count": null,
   "id": "cdf298a7-f17f-47fb-a111-ec18d6f7a2d8",
   "metadata": {},
   "outputs": [],
   "source": []
  },
  {
   "cell_type": "code",
   "execution_count": 9,
   "id": "25634707-5316-4a2c-8e15-d8a02e19c83d",
   "metadata": {},
   "outputs": [],
   "source": [
    "def get_full_matrix_from_bipartite(matrix):\n",
    "    m1 = np.concatenate((np.zeros(shape=(matrix.shape[0],matrix.shape[0])), matrix), axis = 1)\n",
    "    m2 = np.concatenate((matrix.T, (np.zeros(shape=(matrix.shape[1],matrix.shape[1])))), axis = 1)\n",
    "    return np.concatenate((m2, m1), axis = 0)\n",
    "\n",
    "@nb.njit()\n",
    "def invert_weights(matrix):\n",
    "    matrix_out = np.empty_like(matrix)\n",
    "    for i in range(matrix.shape[0]):\n",
    "        for j in range(matrix.shape[1]):\n",
    "            val = matrix[i,j]\n",
    "            if val!=0:\n",
    "                matrix_out[i,j] = 1/val\n",
    "            elif val==0:\n",
    "                matrix_out[i,j] = val\n",
    "    return matrix_out\n",
    "\n",
    "def create_nonrandom_labeling(matrix, centrality, unweighted):\n",
    "    index_genes = (np.sum(matrix, axis = 1)>centrality)\n",
    "    full_matrix = get_full_matrix_from_bipartite(matrix)\n",
    "    if not unweighted:\n",
    "        full_matrix = invert_weights(full_matrix)\n",
    "    graph = csr_matrix(full_matrix)\n",
    "    dist_matrix = shortest_path(csgraph=graph,directed=False, indices=np.where(index_genes)[0], return_predecessors=False, unweighted = unweighted)\n",
    "    proba = distance_to_probability(dist_matrix)\n",
    "    assignment = assign_cluster_based_on_proba(proba)\n",
    "    return assignment\n",
    "\n",
    "def distance_to_probability(dist_matrix):\n",
    "    inv_df = 1/(dist_matrix+10e-10)\n",
    "    df = inv_df/np.sum(inv_df, axis = 0)\n",
    "    return df\n",
    "\n",
    "def assign_cluster_based_on_proba(probas):\n",
    "    assignment = []\n",
    "    for node in range(probas.shape[1]):\n",
    "        np.random.seed(5)\n",
    "        x = np.random.choice(range(probas.shape[0]), size = 1, p = probas[:,node])[0]\n",
    "        assignment.append(x)\n",
    "    return assignment"
   ]
  },
  {
   "cell_type": "code",
   "execution_count": 13,
   "id": "32fd3d6b-d8fc-4a62-b89a-9c77bb4e1ee3",
   "metadata": {},
   "outputs": [
    {
     "data": {
      "text/plain": [
       "array([False, False, False, ..., False, False, False])"
      ]
     },
     "execution_count": 13,
     "metadata": {},
     "output_type": "execute_result"
    }
   ],
   "source": [
    "index_genes"
   ]
  },
  {
   "cell_type": "code",
   "execution_count": null,
   "id": "4d886c26-ecc6-454c-833b-09dc545af5bc",
   "metadata": {},
   "outputs": [
    {
     "ename": "IndexError",
     "evalue": "tuple index out of range",
     "output_type": "error",
     "traceback": [
      "\u001b[0;31m---------------------------------------------------------------------------\u001b[0m",
      "\u001b[0;31mIndexError\u001b[0m                                Traceback (most recent call last)",
      "Input \u001b[0;32mIn [14]\u001b[0m, in \u001b[0;36m<cell line: 4>\u001b[0;34m()\u001b[0m\n\u001b[1;32m      2\u001b[0m graph \u001b[38;5;241m=\u001b[39m csr_matrix(full_matrix)\n\u001b[1;32m      3\u001b[0m index_genes \u001b[38;5;241m=\u001b[39m (np\u001b[38;5;241m.\u001b[39msum(matrix, axis \u001b[38;5;241m=\u001b[39m \u001b[38;5;241m0\u001b[39m)\u001b[38;5;241m>\u001b[39m\u001b[38;5;241m40\u001b[39m)\n\u001b[0;32m----> 4\u001b[0m dist_matrix \u001b[38;5;241m=\u001b[39m shortest_path(csgraph\u001b[38;5;241m=\u001b[39mgraph,directed\u001b[38;5;241m=\u001b[39m\u001b[38;5;28;01mFalse\u001b[39;00m, indices\u001b[38;5;241m=\u001b[39m\u001b[43mnp\u001b[49m\u001b[38;5;241;43m.\u001b[39;49m\u001b[43mwhere\u001b[49m\u001b[43m(\u001b[49m\u001b[43mindex_genes\u001b[49m\u001b[43m)\u001b[49m\u001b[43m[\u001b[49m\u001b[38;5;241;43m1\u001b[39;49m\u001b[43m]\u001b[49m, return_predecessors\u001b[38;5;241m=\u001b[39m\u001b[38;5;28;01mFalse\u001b[39;00m, unweighted \u001b[38;5;241m=\u001b[39m \u001b[38;5;28;01mTrue\u001b[39;00m)\n",
      "\u001b[0;31mIndexError\u001b[0m: tuple index out of range"
     ]
    }
   ],
   "source": [
    "full_matrix = get_full_matrix_from_bipartite(matrix)\n",
    "graph = csr_matrix(full_matrix)\n",
    "index_genes = (np.sum(matrix, axis = 0)>40)\n",
    "dist_matrix = shortest_path(csgraph=graph,directed=False, indices=np.where(index_genes)[1], return_predecessors=False, unweighted = True)"
   ]
  },
  {
   "cell_type": "code",
   "execution_count": null,
   "id": "a4dbf2b7-ea3e-45ab-88d0-2e722c67f59e",
   "metadata": {},
   "outputs": [],
   "source": [
    "proba = distance_to_probability(dist_matrix)\n",
    "assignment = assign_cluster_based_on_proba(proba)\n"
   ]
  },
  {
   "cell_type": "code",
   "execution_count": 98,
   "id": "e4106eda-59e4-427e-81e6-ea41509493e6",
   "metadata": {},
   "outputs": [],
   "source": [
    "dist_matrix2 = shortest_path(csgraph=graph,directed=False, indices=range(2), return_predecessors=False, unweighted = False)"
   ]
  },
  {
   "cell_type": "code",
   "execution_count": 85,
   "id": "8ae718c7-5d14-4d45-afa0-238574969f38",
   "metadata": {},
   "outputs": [],
   "source": [
    "proba = distance_to_probability(dist_matrix)\n",
    "assignment = assign_cluster_based_on_proba(proba)\n",
    "\n",
    "proba2 = distance_to_probability(dist_matrix2)"
   ]
  },
  {
   "cell_type": "code",
   "execution_count": 88,
   "id": "99a06a07-1f5a-4b94-b1d2-766b2d5a7b56",
   "metadata": {},
   "outputs": [],
   "source": [
    "assignment = assign_cluster_based_on_proba(proba)\n",
    "assignment2 = assign_cluster_based_on_proba(proba2)"
   ]
  },
  {
   "cell_type": "code",
   "execution_count": 99,
   "id": "180426e8-4d84-45ae-91a3-243617354e55",
   "metadata": {},
   "outputs": [
    {
     "data": {
      "text/plain": [
       "True"
      ]
     },
     "execution_count": 99,
     "metadata": {},
     "output_type": "execute_result"
    }
   ],
   "source": [
    "np.array_equal(dist_matrix, dist_matrix2)"
   ]
  },
  {
   "cell_type": "code",
   "execution_count": 94,
   "id": "b01b0bb7-5c0e-414e-bebe-18650e978198",
   "metadata": {},
   "outputs": [],
   "source": [
    "m = invert_weights(full_matrix)"
   ]
  },
  {
   "cell_type": "code",
   "execution_count": 95,
   "id": "f06fe121-f975-48b5-a615-cf6c494b8e92",
   "metadata": {},
   "outputs": [
    {
     "data": {
      "text/plain": [
       "True"
      ]
     },
     "execution_count": 95,
     "metadata": {},
     "output_type": "execute_result"
    }
   ],
   "source": [
    "np.array_equal(m, full_matrix)"
   ]
  },
  {
   "cell_type": "code",
   "execution_count": 67,
   "id": "bbc05aec-c82c-431d-8f34-6f4cf8d49538",
   "metadata": {},
   "outputs": [],
   "source": [
    "random.seed(5)\n",
    "labs = create_nonrandom_labeling(matrix, 40, False)"
   ]
  },
  {
   "cell_type": "code",
   "execution_count": 68,
   "id": "fedff21d-43ba-40fa-832e-b25e545db600",
   "metadata": {},
   "outputs": [],
   "source": [
    "random.seed(5)\n",
    "\n",
    "labs2 = create_nonrandom_labeling(matrix, 40, True)"
   ]
  },
  {
   "cell_type": "code",
   "execution_count": 64,
   "id": "5d25e390-c3c4-4a31-853e-ad3852315e6d",
   "metadata": {},
   "outputs": [],
   "source": [
    "m = invert_weights(matrix)"
   ]
  },
  {
   "cell_type": "code",
   "execution_count": 65,
   "id": "dc5f4c6f-a5d7-4afe-9839-7f433d55b7be",
   "metadata": {},
   "outputs": [
    {
     "data": {
      "text/plain": [
       "True"
      ]
     },
     "execution_count": 65,
     "metadata": {},
     "output_type": "execute_result"
    }
   ],
   "source": [
    "np.array_equal(matrix, m)"
   ]
  },
  {
   "cell_type": "code",
   "execution_count": 72,
   "id": "327bd45e-7ecf-407d-a938-56b96ed07851",
   "metadata": {
    "collapsed": true,
    "jupyter": {
     "outputs_hidden": true
    },
    "tags": []
   },
   "outputs": [
    {
     "data": {
      "text/plain": [
       "[24,\n",
       " 48,\n",
       " 44,\n",
       " 17,\n",
       " 45,\n",
       " 6,\n",
       " 6,\n",
       " 25,\n",
       " 7,\n",
       " 47,\n",
       " 6,\n",
       " 19,\n",
       " 39,\n",
       " 5,\n",
       " 42,\n",
       " 22,\n",
       " 40,\n",
       " 29,\n",
       " 42,\n",
       " 16,\n",
       " 9,\n",
       " 12,\n",
       " 20,\n",
       " 43,\n",
       " 28,\n",
       " 44,\n",
       " 6,\n",
       " 38,\n",
       " 32,\n",
       " 37,\n",
       " 46,\n",
       " 30,\n",
       " 28,\n",
       " 6,\n",
       " 45,\n",
       " 0,\n",
       " 6,\n",
       " 39,\n",
       " 43,\n",
       " 2,\n",
       " 14,\n",
       " 1,\n",
       " 4,\n",
       " 11,\n",
       " 17,\n",
       " 23,\n",
       " 42,\n",
       " 31,\n",
       " 45,\n",
       " 25,\n",
       " 26,\n",
       " 37,\n",
       " 47,\n",
       " 14,\n",
       " 2,\n",
       " 11,\n",
       " 39,\n",
       " 27,\n",
       " 20,\n",
       " 14,\n",
       " 6,\n",
       " 35,\n",
       " 48,\n",
       " 10,\n",
       " 26,\n",
       " 43,\n",
       " 19,\n",
       " 35,\n",
       " 45,\n",
       " 46,\n",
       " 38,\n",
       " 18,\n",
       " 36,\n",
       " 10,\n",
       " 47,\n",
       " 11,\n",
       " 9,\n",
       " 24,\n",
       " 48,\n",
       " 22,\n",
       " 7,\n",
       " 17,\n",
       " 44,\n",
       " 17,\n",
       " 38,\n",
       " 12,\n",
       " 45,\n",
       " 21,\n",
       " 2,\n",
       " 35,\n",
       " 32,\n",
       " 38,\n",
       " 0,\n",
       " 21,\n",
       " 13,\n",
       " 35,\n",
       " 16,\n",
       " 33,\n",
       " 22,\n",
       " 18,\n",
       " 23,\n",
       " 13,\n",
       " 41,\n",
       " 43,\n",
       " 25,\n",
       " 4,\n",
       " 42,\n",
       " 18,\n",
       " 2,\n",
       " 45,\n",
       " 40,\n",
       " 28,\n",
       " 22,\n",
       " 32,\n",
       " 6,\n",
       " 40,\n",
       " 33,\n",
       " 46,\n",
       " 44,\n",
       " 48,\n",
       " 46,\n",
       " 26,\n",
       " 45,\n",
       " 34,\n",
       " 3,\n",
       " 34,\n",
       " 33,\n",
       " 10,\n",
       " 10,\n",
       " 41,\n",
       " 29,\n",
       " 4,\n",
       " 42,\n",
       " 35,\n",
       " 30,\n",
       " 46,\n",
       " 12,\n",
       " 12,\n",
       " 12,\n",
       " 40,\n",
       " 7,\n",
       " 13,\n",
       " 22,\n",
       " 44,\n",
       " 48,\n",
       " 32,\n",
       " 40,\n",
       " 3,\n",
       " 38,\n",
       " 10,\n",
       " 1,\n",
       " 40,\n",
       " 16,\n",
       " 22,\n",
       " 36,\n",
       " 21,\n",
       " 36,\n",
       " 39,\n",
       " 44,\n",
       " 35,\n",
       " 6,\n",
       " 35,\n",
       " 27,\n",
       " 18,\n",
       " 32,\n",
       " 21,\n",
       " 34,\n",
       " 1,\n",
       " 0,\n",
       " 22,\n",
       " 28,\n",
       " 23,\n",
       " 9,\n",
       " 26,\n",
       " 21,\n",
       " 45,\n",
       " 26,\n",
       " 40,\n",
       " 16,\n",
       " 24,\n",
       " 34,\n",
       " 36,\n",
       " 14,\n",
       " 26,\n",
       " 24,\n",
       " 23,\n",
       " 35,\n",
       " 29,\n",
       " 9,\n",
       " 43,\n",
       " 32,\n",
       " 22,\n",
       " 29,\n",
       " 31,\n",
       " 6,\n",
       " 46,\n",
       " 32,\n",
       " 38,\n",
       " 38,\n",
       " 10,\n",
       " 36,\n",
       " 11,\n",
       " 35,\n",
       " 16,\n",
       " 10,\n",
       " 8,\n",
       " 43,\n",
       " 16,\n",
       " 5,\n",
       " 35,\n",
       " 33,\n",
       " 28,\n",
       " 41,\n",
       " 13,\n",
       " 4,\n",
       " 27,\n",
       " 40,\n",
       " 42,\n",
       " 5,\n",
       " 34,\n",
       " 8,\n",
       " 26,\n",
       " 4,\n",
       " 45,\n",
       " 5,\n",
       " 23,\n",
       " 36,\n",
       " 30,\n",
       " 47,\n",
       " 46,\n",
       " 14,\n",
       " 32,\n",
       " 23,\n",
       " 34,\n",
       " 39,\n",
       " 41,\n",
       " 37,\n",
       " 43,\n",
       " 34,\n",
       " 24,\n",
       " 45,\n",
       " 46,\n",
       " 26,\n",
       " 47,\n",
       " 24,\n",
       " 10,\n",
       " 0,\n",
       " 12,\n",
       " 38,\n",
       " 5,\n",
       " 14,\n",
       " 0,\n",
       " 22,\n",
       " 1,\n",
       " 25,\n",
       " 24,\n",
       " 14,\n",
       " 40,\n",
       " 21,\n",
       " 30,\n",
       " 18,\n",
       " 44,\n",
       " 34,\n",
       " 0,\n",
       " 41,\n",
       " 17,\n",
       " 39,\n",
       " 7,\n",
       " 33,\n",
       " 23,\n",
       " 37,\n",
       " 23,\n",
       " 34,\n",
       " 30,\n",
       " 42,\n",
       " 1,\n",
       " 34,\n",
       " 20,\n",
       " 5,\n",
       " 22,\n",
       " 24,\n",
       " 37,\n",
       " 0,\n",
       " 36,\n",
       " 13,\n",
       " 21,\n",
       " 46,\n",
       " 42,\n",
       " 27,\n",
       " 5,\n",
       " 18,\n",
       " 47,\n",
       " 37,\n",
       " 25,\n",
       " 28,\n",
       " 0,\n",
       " 7,\n",
       " 20,\n",
       " 37,\n",
       " 41,\n",
       " 47,\n",
       " 48,\n",
       " 37,\n",
       " 17,\n",
       " 19,\n",
       " 11,\n",
       " 11,\n",
       " 45,\n",
       " 22,\n",
       " 20,\n",
       " 17,\n",
       " 33,\n",
       " 46,\n",
       " 1,\n",
       " 31,\n",
       " 31,\n",
       " 13,\n",
       " 23,\n",
       " 20,\n",
       " 12,\n",
       " 13,\n",
       " 14,\n",
       " 1,\n",
       " 31,\n",
       " 47,\n",
       " 41,\n",
       " 42,\n",
       " 42,\n",
       " 48,\n",
       " 42,\n",
       " 48,\n",
       " 15,\n",
       " 37,\n",
       " 26,\n",
       " 1,\n",
       " 43,\n",
       " 7,\n",
       " 37,\n",
       " 39,\n",
       " 22,\n",
       " 47,\n",
       " 10,\n",
       " 3,\n",
       " 38,\n",
       " 16,\n",
       " 32,\n",
       " 43,\n",
       " 37,\n",
       " 5,\n",
       " 20,\n",
       " 27,\n",
       " 17,\n",
       " 42,\n",
       " 10,\n",
       " 29,\n",
       " 39,\n",
       " 25,\n",
       " 43,\n",
       " 38,\n",
       " 4,\n",
       " 29,\n",
       " 16,\n",
       " 20,\n",
       " 10,\n",
       " 45,\n",
       " 19,\n",
       " 21,\n",
       " 47,\n",
       " 31,\n",
       " 47,\n",
       " 46,\n",
       " 30,\n",
       " 31,\n",
       " 38,\n",
       " 9,\n",
       " 37,\n",
       " 17,\n",
       " 14,\n",
       " 40,\n",
       " 33,\n",
       " 2,\n",
       " 37,\n",
       " 20,\n",
       " 21,\n",
       " 30,\n",
       " 47,\n",
       " 18,\n",
       " 37,\n",
       " 1,\n",
       " 27,\n",
       " 26,\n",
       " 20,\n",
       " 39,\n",
       " 40,\n",
       " 48,\n",
       " 32,\n",
       " 24,\n",
       " 34,\n",
       " 25,\n",
       " 6,\n",
       " 30,\n",
       " 38,\n",
       " 42,\n",
       " 1,\n",
       " 44,\n",
       " 25,\n",
       " 3,\n",
       " 1,\n",
       " 38,\n",
       " 47,\n",
       " 41,\n",
       " 6,\n",
       " 13,\n",
       " 40,\n",
       " 16,\n",
       " 21,\n",
       " 16,\n",
       " 42,\n",
       " 41,\n",
       " 42,\n",
       " 8,\n",
       " 43,\n",
       " 48,\n",
       " 23,\n",
       " 48,\n",
       " 17,\n",
       " 48,\n",
       " 36,\n",
       " 23,\n",
       " 44,\n",
       " 45,\n",
       " 3,\n",
       " 36,\n",
       " 16,\n",
       " 20,\n",
       " 26,\n",
       " 8,\n",
       " 9,\n",
       " 12,\n",
       " 42,\n",
       " 48,\n",
       " 37,\n",
       " 42,\n",
       " 45,\n",
       " 19,\n",
       " 26,\n",
       " 4,\n",
       " 30,\n",
       " 40,\n",
       " 17,\n",
       " 15,\n",
       " 28,\n",
       " 20,\n",
       " 15,\n",
       " 16,\n",
       " 10,\n",
       " 20,\n",
       " 31,\n",
       " 30,\n",
       " 43,\n",
       " 33,\n",
       " 33,\n",
       " 22,\n",
       " 16,\n",
       " 29,\n",
       " 15,\n",
       " 1,\n",
       " 16,\n",
       " 12,\n",
       " 39,\n",
       " 46,\n",
       " 4,\n",
       " 24,\n",
       " 22,\n",
       " 34,\n",
       " 43,\n",
       " 16,\n",
       " 22,\n",
       " 8,\n",
       " 4,\n",
       " 0,\n",
       " 4,\n",
       " 45,\n",
       " 13,\n",
       " 0,\n",
       " 31,\n",
       " 32,\n",
       " 42,\n",
       " 42,\n",
       " 8,\n",
       " 27,\n",
       " 31,\n",
       " 26,\n",
       " 22,\n",
       " 43,\n",
       " 20,\n",
       " 23,\n",
       " 47,\n",
       " 48,\n",
       " 27,\n",
       " 2,\n",
       " 19,\n",
       " 22,\n",
       " 16,\n",
       " 8,\n",
       " 0,\n",
       " 3,\n",
       " 46,\n",
       " 9,\n",
       " 48,\n",
       " 0,\n",
       " 25,\n",
       " 14,\n",
       " 0,\n",
       " 30,\n",
       " 16,\n",
       " 19,\n",
       " 20,\n",
       " 11,\n",
       " 33,\n",
       " 25,\n",
       " 1,\n",
       " 28,\n",
       " 42,\n",
       " 18,\n",
       " 46,\n",
       " 20,\n",
       " 33,\n",
       " 40,\n",
       " 17,\n",
       " 29,\n",
       " 4,\n",
       " 1,\n",
       " 35,\n",
       " 23,\n",
       " 31,\n",
       " 48,\n",
       " 41,\n",
       " 17,\n",
       " 48,\n",
       " 29,\n",
       " 20,\n",
       " 18,\n",
       " 16,\n",
       " 8,\n",
       " 1,\n",
       " 2,\n",
       " 9,\n",
       " 41,\n",
       " 22,\n",
       " 33,\n",
       " 36,\n",
       " 43,\n",
       " 8,\n",
       " 10,\n",
       " 0,\n",
       " 47,\n",
       " 41,\n",
       " 30,\n",
       " 47,\n",
       " 2,\n",
       " 2,\n",
       " 31,\n",
       " 33,\n",
       " 25,\n",
       " 0,\n",
       " 22,\n",
       " 29,\n",
       " 13,\n",
       " 46,\n",
       " 13,\n",
       " 7,\n",
       " 8,\n",
       " 29,\n",
       " 23,\n",
       " 18,\n",
       " 35,\n",
       " 10,\n",
       " 5,\n",
       " 23,\n",
       " 20,\n",
       " 37,\n",
       " 23,\n",
       " 33,\n",
       " 47,\n",
       " 19,\n",
       " 19,\n",
       " 35,\n",
       " 1,\n",
       " 0,\n",
       " 34,\n",
       " 10,\n",
       " 28,\n",
       " 25,\n",
       " 44,\n",
       " 39,\n",
       " 9,\n",
       " 0,\n",
       " 46,\n",
       " 22,\n",
       " 30,\n",
       " 44,\n",
       " 48,\n",
       " 21,\n",
       " 17,\n",
       " 10,\n",
       " 19,\n",
       " 17,\n",
       " 41,\n",
       " 7,\n",
       " 2,\n",
       " 38,\n",
       " 7,\n",
       " 1,\n",
       " 18,\n",
       " 7,\n",
       " 30,\n",
       " 17,\n",
       " 22,\n",
       " 11,\n",
       " 28,\n",
       " 40,\n",
       " 37,\n",
       " 32,\n",
       " 47,\n",
       " 42,\n",
       " 48,\n",
       " 37,\n",
       " 21,\n",
       " 14,\n",
       " 37,\n",
       " 15,\n",
       " 34,\n",
       " 48,\n",
       " 14,\n",
       " 0,\n",
       " 46,\n",
       " 16,\n",
       " 30,\n",
       " 37,\n",
       " 25,\n",
       " 45,\n",
       " 2,\n",
       " 26,\n",
       " 33,\n",
       " 42,\n",
       " 37,\n",
       " 5,\n",
       " 25,\n",
       " 9,\n",
       " 34,\n",
       " 7,\n",
       " 2,\n",
       " 2,\n",
       " 48,\n",
       " 45,\n",
       " 26,\n",
       " 20,\n",
       " 26,\n",
       " 32,\n",
       " 26,\n",
       " 48,\n",
       " 28,\n",
       " 25,\n",
       " 5,\n",
       " 27,\n",
       " 38,\n",
       " 29,\n",
       " 21,\n",
       " 35,\n",
       " 15,\n",
       " 46,\n",
       " 22,\n",
       " 3,\n",
       " 30,\n",
       " 38,\n",
       " 37,\n",
       " 1,\n",
       " 41,\n",
       " 8,\n",
       " 17,\n",
       " 2,\n",
       " 6,\n",
       " 29,\n",
       " 5,\n",
       " 3,\n",
       " 29,\n",
       " 2,\n",
       " 44,\n",
       " 27,\n",
       " 17,\n",
       " 48,\n",
       " 23,\n",
       " 12,\n",
       " 29,\n",
       " 5,\n",
       " 46,\n",
       " 23,\n",
       " 19,\n",
       " 15,\n",
       " 5,\n",
       " 28,\n",
       " 29,\n",
       " 42,\n",
       " 40,\n",
       " 43,\n",
       " 25,\n",
       " 9,\n",
       " 41,\n",
       " 2,\n",
       " 9,\n",
       " 9,\n",
       " 36,\n",
       " 41,\n",
       " 33,\n",
       " 27,\n",
       " 1,\n",
       " 26,\n",
       " 48,\n",
       " 17,\n",
       " 4,\n",
       " 14,\n",
       " 17,\n",
       " 25,\n",
       " 3,\n",
       " 3,\n",
       " 30,\n",
       " 37,\n",
       " 16,\n",
       " 30,\n",
       " 19,\n",
       " 47,\n",
       " 40,\n",
       " 21,\n",
       " 36,\n",
       " 29,\n",
       " 23,\n",
       " 35,\n",
       " 24,\n",
       " 44,\n",
       " 4,\n",
       " 40,\n",
       " 48,\n",
       " 41,\n",
       " 29,\n",
       " 8,\n",
       " 14,\n",
       " 47,\n",
       " 47,\n",
       " 29,\n",
       " 48,\n",
       " 9,\n",
       " 7,\n",
       " 33,\n",
       " 16,\n",
       " 20,\n",
       " 40,\n",
       " 1,\n",
       " 12,\n",
       " 21,\n",
       " 7,\n",
       " 25,\n",
       " 18,\n",
       " 18,\n",
       " 19,\n",
       " 46,\n",
       " 27,\n",
       " 2,\n",
       " 14,\n",
       " 9,\n",
       " 40,\n",
       " 19,\n",
       " 2,\n",
       " 40,\n",
       " 19,\n",
       " 44,\n",
       " 12,\n",
       " 48,\n",
       " 19,\n",
       " 36,\n",
       " 38,\n",
       " 12,\n",
       " 13,\n",
       " 9,\n",
       " 40,\n",
       " 14,\n",
       " 15,\n",
       " 42,\n",
       " 29,\n",
       " 20,\n",
       " 14,\n",
       " 16,\n",
       " 24,\n",
       " 47,\n",
       " 4,\n",
       " 3,\n",
       " 43,\n",
       " 0,\n",
       " 38,\n",
       " 25,\n",
       " 1,\n",
       " 24,\n",
       " 19,\n",
       " 41,\n",
       " 37,\n",
       " 45,\n",
       " 22,\n",
       " 5,\n",
       " 33,\n",
       " 43,\n",
       " 22,\n",
       " 25,\n",
       " 10,\n",
       " 23,\n",
       " 46,\n",
       " 14,\n",
       " 22,\n",
       " 35,\n",
       " 17,\n",
       " 2,\n",
       " 26,\n",
       " 14,\n",
       " 0,\n",
       " 22,\n",
       " 37,\n",
       " 30,\n",
       " 1,\n",
       " 28,\n",
       " 12,\n",
       " 8,\n",
       " 21,\n",
       " 9,\n",
       " 45,\n",
       " 41,\n",
       " 2,\n",
       " 9,\n",
       " 20,\n",
       " 19,\n",
       " 35,\n",
       " 6,\n",
       " 28,\n",
       " 42,\n",
       " 44,\n",
       " 17,\n",
       " 32,\n",
       " 47,\n",
       " 18,\n",
       " 18,\n",
       " 47,\n",
       " 4,\n",
       " 47,\n",
       " 4,\n",
       " 16,\n",
       " 40,\n",
       " 4,\n",
       " 30,\n",
       " 6,\n",
       " 32,\n",
       " 42,\n",
       " 13,\n",
       " 5,\n",
       " 11,\n",
       " 13,\n",
       " 24,\n",
       " 13,\n",
       " 47,\n",
       " 33,\n",
       " 18,\n",
       " 37,\n",
       " 23,\n",
       " 14,\n",
       " 23,\n",
       " 35,\n",
       " 3,\n",
       " 48,\n",
       " 32,\n",
       " 36,\n",
       " 29,\n",
       " 15,\n",
       " 6,\n",
       " 45,\n",
       " 46,\n",
       " 34,\n",
       " 1,\n",
       " 38,\n",
       " 17,\n",
       " 39,\n",
       " 48,\n",
       " 12,\n",
       " 48,\n",
       " 45,\n",
       " 5,\n",
       " 48,\n",
       " 47,\n",
       " 23,\n",
       " 45,\n",
       " 47,\n",
       " 37,\n",
       " 23,\n",
       " 42,\n",
       " 29,\n",
       " 48,\n",
       " 5,\n",
       " 32,\n",
       " 24,\n",
       " 36,\n",
       " 34,\n",
       " 10,\n",
       " 48,\n",
       " 9,\n",
       " 31,\n",
       " 34,\n",
       " 30,\n",
       " 44,\n",
       " 46,\n",
       " 15,\n",
       " 20,\n",
       " 27,\n",
       " 22,\n",
       " 34,\n",
       " 19,\n",
       " 20,\n",
       " 30,\n",
       " 8,\n",
       " 38,\n",
       " 28,\n",
       " 5,\n",
       " 11,\n",
       " 24,\n",
       " 48,\n",
       " 35,\n",
       " 41,\n",
       " 34,\n",
       " 12,\n",
       " 26,\n",
       " 5,\n",
       " 45,\n",
       " 34,\n",
       " 30,\n",
       " 11,\n",
       " 8,\n",
       " 14,\n",
       " 21,\n",
       " 12,\n",
       " 12,\n",
       " 47,\n",
       " 27,\n",
       " 37,\n",
       " 3,\n",
       " 17,\n",
       " 10,\n",
       " 17,\n",
       " 4,\n",
       " 33,\n",
       " 13,\n",
       " 21,\n",
       " 2,\n",
       " 3,\n",
       " 41,\n",
       " 47,\n",
       " 24,\n",
       " 32,\n",
       " 45,\n",
       " 38,\n",
       " 43,\n",
       " 2,\n",
       " 39,\n",
       " 32,\n",
       " 32,\n",
       " 19,\n",
       " 10,\n",
       " 16,\n",
       " 9,\n",
       " 17,\n",
       " 27,\n",
       " 39,\n",
       " 46,\n",
       " 31,\n",
       " 5,\n",
       " 14,\n",
       " 38,\n",
       " 6,\n",
       " 17,\n",
       " 14,\n",
       " 4,\n",
       " 6,\n",
       " 15,\n",
       " 41,\n",
       " 42,\n",
       " 38,\n",
       " 1,\n",
       " 28,\n",
       " 46,\n",
       " 5,\n",
       " 30,\n",
       " 37,\n",
       " 46,\n",
       " 23,\n",
       " 25,\n",
       " 44,\n",
       " ...]"
      ]
     },
     "execution_count": 72,
     "metadata": {},
     "output_type": "execute_result"
    }
   ],
   "source": [
    "labs"
   ]
  },
  {
   "cell_type": "code",
   "execution_count": 41,
   "id": "5f909a46-143f-4754-afbf-59f963c300d1",
   "metadata": {},
   "outputs": [],
   "source": [
    "mat_out = invert_weights(matrix)"
   ]
  },
  {
   "cell_type": "code",
   "execution_count": 44,
   "id": "f7261112-af53-4e52-9f1e-369fe8bbf091",
   "metadata": {},
   "outputs": [
    {
     "data": {
      "text/plain": [
       "True"
      ]
     },
     "execution_count": 44,
     "metadata": {},
     "output_type": "execute_result"
    }
   ],
   "source": [
    "np.array_equal(mat_out, matrix)"
   ]
  },
  {
   "cell_type": "code",
   "execution_count": 34,
   "id": "2ff5ba93-d845-4efd-81ac-0f8f60bdca5f",
   "metadata": {},
   "outputs": [
    {
     "ename": "NegativeCycleError",
     "evalue": "Negative cycle detected on node 0",
     "output_type": "error",
     "traceback": [
      "\u001b[0;31m---------------------------------------------------------------------------\u001b[0m",
      "\u001b[0;31mNegativeCycleError\u001b[0m                        Traceback (most recent call last)",
      "Input \u001b[0;32mIn [34]\u001b[0m, in \u001b[0;36m<cell line: 3>\u001b[0;34m()\u001b[0m\n\u001b[1;32m      1\u001b[0m full \u001b[38;5;241m=\u001b[39m get_full_matrix_from_bipartite(matrix)\n\u001b[1;32m      2\u001b[0m graph \u001b[38;5;241m=\u001b[39m csr_matrix(full\u001b[38;5;241m*\u001b[39m\u001b[38;5;241m-\u001b[39m\u001b[38;5;241m1\u001b[39m)\n\u001b[0;32m----> 3\u001b[0m dist_matrix \u001b[38;5;241m=\u001b[39m \u001b[43mshortest_path\u001b[49m\u001b[43m(\u001b[49m\u001b[43mcsgraph\u001b[49m\u001b[38;5;241;43m=\u001b[39;49m\u001b[43mgraph\u001b[49m\u001b[43m,\u001b[49m\u001b[43mdirected\u001b[49m\u001b[38;5;241;43m=\u001b[39;49m\u001b[38;5;28;43;01mFalse\u001b[39;49;00m\u001b[43m,\u001b[49m\u001b[43m \u001b[49m\u001b[43mindices\u001b[49m\u001b[38;5;241;43m=\u001b[39;49m\u001b[38;5;241;43m0\u001b[39;49m\u001b[43m,\u001b[49m\u001b[43m \u001b[49m\u001b[43mreturn_predecessors\u001b[49m\u001b[38;5;241;43m=\u001b[39;49m\u001b[38;5;28;43;01mFalse\u001b[39;49;00m\u001b[43m,\u001b[49m\u001b[43m \u001b[49m\u001b[43munweighted\u001b[49m\u001b[43m \u001b[49m\u001b[38;5;241;43m=\u001b[39;49m\u001b[43m \u001b[49m\u001b[38;5;28;43;01mFalse\u001b[39;49;00m\u001b[43m)\u001b[49m\n",
      "File \u001b[0;32m_shortest_path.pyx:208\u001b[0m, in \u001b[0;36mscipy.sparse.csgraph._shortest_path.shortest_path\u001b[0;34m()\u001b[0m\n",
      "File \u001b[0;32m_shortest_path.pyx:1302\u001b[0m, in \u001b[0;36mscipy.sparse.csgraph._shortest_path.johnson\u001b[0;34m()\u001b[0m\n",
      "\u001b[0;31mNegativeCycleError\u001b[0m: Negative cycle detected on node 0"
     ]
    }
   ],
   "source": [
    "full = get_full_matrix_from_bipartite(matrix)\n",
    "graph = csr_matrix(full*-1)\n",
    "dist_matrix = shortest_path(csgraph=graph,directed=False, indices=0, return_predecessors=False, unweighted = False)\n"
   ]
  },
  {
   "cell_type": "code",
   "execution_count": null,
   "id": "c9dbdc9d-3905-4c99-be30-87d8b29f2a2d",
   "metadata": {},
   "outputs": [],
   "source": []
  },
  {
   "cell_type": "code",
   "execution_count": 475,
   "id": "3584f8a4-9b41-495a-8b4a-4ceb20ecfb66",
   "metadata": {},
   "outputs": [],
   "source": [
    "index_genes = (np.sum(matrix, axis = 1)>40)"
   ]
  },
  {
   "cell_type": "code",
   "execution_count": 476,
   "id": "5980fd0a-bdae-458a-819d-16e3622aef49",
   "metadata": {},
   "outputs": [
    {
     "data": {
      "text/plain": [
       "7173"
      ]
     },
     "execution_count": 476,
     "metadata": {},
     "output_type": "execute_result"
    }
   ],
   "source": [
    "len(index_genes)"
   ]
  },
  {
   "cell_type": "code",
   "execution_count": 477,
   "id": "76a0114f-556f-4e00-908a-37213d981883",
   "metadata": {},
   "outputs": [
    {
     "data": {
      "text/plain": [
       "(7173, 622)"
      ]
     },
     "execution_count": 477,
     "metadata": {},
     "output_type": "execute_result"
    }
   ],
   "source": [
    "matrix.shape"
   ]
  },
  {
   "cell_type": "code",
   "execution_count": null,
   "id": "5dd907bc-6820-4058-8346-d2f3ff913883",
   "metadata": {},
   "outputs": [],
   "source": [
    "# label other genes and pathways probabilistically based on their connection to the index_genes\n",
    "# count how far a given node is from an index gene and convert that into a set of probabilities to assign\n",
    "# to each cluster\n",
    "# why probabalistic and not deterministic?\n",
    "### count how many edges separate a given node from an index_gene (shortest path)"
   ]
  },
  {
   "cell_type": "code",
   "execution_count": 19,
   "id": "353b635f-212a-41d1-adce-60a487495e2c",
   "metadata": {},
   "outputs": [],
   "source": [
    "from scipy.sparse import csr_matrix\n",
    "from scipy.sparse.csgraph import shortest_path\n"
   ]
  },
  {
   "cell_type": "code",
   "execution_count": null,
   "id": "79bcedac-f51a-484c-b13e-4b13b33aef63",
   "metadata": {},
   "outputs": [],
   "source": [
    "path = './examples/WikiPathway_2021_Human.npy'\n",
    "mat = get_gene_pathway_matrix(path)\n",
    "matrix = np.ascontiguousarray(mat.values.T)\n",
    "\n",
    "m1 = np.concatenate((np.zeros(shape=(matrix.shape[0],matrix.shape[0])), matrix), axis = 1)\n",
    "m2 = np.concatenate((matrix.T, (np.zeros(shape=(matrix.shape[1],matrix.shape[1])))), axis = 1)\n",
    "full_matrix = np.concatenate((m2, m1), axis = 0)\n",
    "full_matrix.shape\n",
    "\n",
    "full_matrix = get_full_matrix_from_bipartite(matrix)\n",
    "index_genes = (np.sum(full_matrix, axis = 0)>40)\n",
    "\n",
    "graph = csr_matrix(full_matrix)\n",
    "\n",
    "dist_matrix = shortest_path(csgraph=graph,directed=False, indices=np.where(index_genes)[0], return_predecessors=False, unweighted = True)\n",
    "\n",
    "df = distance_to_probability(dist_matrix)\n",
    "\n",
    "assignment = []\n",
    "for node in range(df.shape[1]):\n",
    "    x = np.random.choice(range(df.shape[0]), size = 1, p = df[:,node])[0]\n",
    "    assignment.append(x)"
   ]
  },
  {
   "cell_type": "code",
   "execution_count": 18,
   "id": "67f335ab-0c98-496a-a7f7-7dbc4e0c27c9",
   "metadata": {},
   "outputs": [],
   "source": [
    "path = './examples/WikiPathway_2021_Human.npy'\n",
    "mat = get_gene_pathway_matrix(path)\n",
    "matrix = np.ascontiguousarray(mat.values.T)\n"
   ]
  },
  {
   "cell_type": "code",
   "execution_count": 19,
   "id": "7833e771-7c91-456a-93a7-453653d66498",
   "metadata": {},
   "outputs": [
    {
     "data": {
      "text/plain": [
       "(7795, 7795)"
      ]
     },
     "execution_count": 19,
     "metadata": {},
     "output_type": "execute_result"
    }
   ],
   "source": []
  },
  {
   "cell_type": "code",
   "execution_count": 20,
   "id": "7d17cbf9-75c3-4456-8e5e-3abe4510bb37",
   "metadata": {},
   "outputs": [],
   "source": [
    "full_matrix = get_full_matrix_from_bipartite(matrix)\n",
    "index_genes = (np.sum(full_matrix, axis = 0)>40)"
   ]
  },
  {
   "cell_type": "code",
   "execution_count": 38,
   "id": "8648892a-14c2-4548-8e37-68cdbf47c936",
   "metadata": {},
   "outputs": [],
   "source": [
    "index_genes = (np.sum(full_matrix, axis = 0)>40)"
   ]
  },
  {
   "cell_type": "code",
   "execution_count": 25,
   "id": "9e066ca7-e3d0-49ad-9a65-8c30d762384b",
   "metadata": {},
   "outputs": [
    {
     "data": {
      "text/plain": [
       "7795"
      ]
     },
     "execution_count": 25,
     "metadata": {},
     "output_type": "execute_result"
    }
   ],
   "source": [
    "len(index_genes)"
   ]
  },
  {
   "cell_type": "code",
   "execution_count": 21,
   "id": "1ddf0e41-c52d-421c-bdd4-10bea0e3ea31",
   "metadata": {},
   "outputs": [],
   "source": [
    "graph = csr_matrix(full_matrix)\n"
   ]
  },
  {
   "cell_type": "code",
   "execution_count": 22,
   "id": "db984fc6-dbbf-4c83-a3c9-00c8a22229d8",
   "metadata": {},
   "outputs": [],
   "source": [
    "dist_matrix = shortest_path(csgraph=graph,directed=False, indices=np.where(index_genes)[0], return_predecessors=False, unweighted = True)"
   ]
  },
  {
   "cell_type": "code",
   "execution_count": 23,
   "id": "fc2f6f7e-a4f8-4820-bc5e-a343a535d42f",
   "metadata": {},
   "outputs": [],
   "source": [
    "df = distance_to_probability(dist_matrix)\n",
    "\n",
    "assignment = []\n",
    "for node in range(df.shape[1]):\n",
    "    x = np.random.choice(range(df.shape[0]), size = 1, p = df[:,node])[0]\n",
    "    assignment.append(x)"
   ]
  },
  {
   "cell_type": "code",
   "execution_count": 24,
   "id": "8b5be78f-8aa1-4de8-b008-694faf3ae479",
   "metadata": {},
   "outputs": [
    {
     "data": {
      "text/plain": [
       "(array([  0,   1,   2,   3,   4,   5,   6,   7,   8,   9,  10,  11,  12,\n",
       "         13,  14,  15,  16,  17,  18,  19,  20,  21,  22,  23,  24,  25,\n",
       "         26,  27,  28,  29,  30,  31,  32,  33,  34,  35,  36,  37,  38,\n",
       "         39,  40,  41,  42,  43,  44,  45,  46,  47,  48,  49,  50,  51,\n",
       "         52,  53,  54,  55,  56,  57,  58,  59,  60,  61,  62,  63,  64,\n",
       "         65,  66,  67,  68,  69,  70,  71,  72,  73,  74,  75,  76,  77,\n",
       "         78,  79,  80,  81,  82,  83,  84,  85,  86,  87,  88,  89,  90,\n",
       "         91,  92,  93,  94,  95,  96,  97,  98,  99, 100, 101, 102, 103,\n",
       "        104, 105, 106, 107, 108, 109, 110, 111, 112, 113, 114, 115, 116,\n",
       "        117, 118, 119, 120, 121, 122, 123, 124, 125, 126, 127, 128, 129,\n",
       "        130, 131, 132, 133, 134, 135, 136, 137, 138, 139, 140, 141, 142,\n",
       "        143, 144, 145, 146, 147, 148, 149, 150, 151, 152, 153, 154, 155,\n",
       "        156, 157, 158, 159, 160, 161, 162, 163, 164, 165, 166, 167, 168,\n",
       "        169, 170, 171, 172, 173, 174, 175, 176, 177, 178, 179, 180, 181,\n",
       "        182, 183, 184, 185, 186, 187, 188, 189, 190, 191, 192, 193, 194,\n",
       "        195, 196, 197, 198, 199, 200, 201, 202, 203, 204, 205, 206, 207,\n",
       "        208, 209, 210, 211, 212, 213, 214, 215, 216, 217, 218, 219, 220,\n",
       "        221, 222, 223, 224, 225, 226, 227, 228, 229, 230, 231, 232, 233,\n",
       "        234, 235, 236, 237, 238, 239, 240, 241, 242, 243, 244, 245, 246,\n",
       "        247, 248, 249, 250, 251, 252, 253, 254, 255, 256, 257, 258, 259,\n",
       "        260, 261]),\n",
       " array([36, 22, 27, 30, 33, 28, 29, 33, 36, 27, 26, 31, 36, 34, 29, 32, 33,\n",
       "        27, 28, 35, 34, 20, 34, 35, 25, 31, 41, 22, 24, 31, 46, 25, 23, 21,\n",
       "        28, 33, 29, 30, 18, 40, 36, 31, 28, 37, 26, 30, 38, 37, 32, 23, 21,\n",
       "        27, 30, 39, 27, 32, 39, 36, 30, 29, 27, 29, 32, 27, 35, 28, 30, 22,\n",
       "        27, 33, 36, 33, 20, 25, 49, 14, 34, 26, 25, 29, 36, 21, 29, 28, 22,\n",
       "        26, 32, 25, 28, 33, 32, 26, 28, 37, 35, 35, 34, 20, 39, 35, 15, 38,\n",
       "        34, 35, 33, 38, 35, 33, 18, 31, 32, 28, 26, 25, 36, 28, 19, 36, 32,\n",
       "        40, 33, 29, 25, 38, 22, 32, 24, 30, 29, 25, 34, 31, 37, 25, 29, 20,\n",
       "        26, 22, 19, 32, 25, 34, 15, 36, 30, 32, 26, 34, 20, 33, 33, 28, 35,\n",
       "        34, 29, 28, 26, 39, 37, 36, 34, 26, 37, 22, 28, 37, 34, 23, 26, 35,\n",
       "        31, 36, 29, 25, 26, 27, 38, 25, 23, 19, 36, 30, 19, 30, 31, 33, 29,\n",
       "        22, 32, 27, 42, 34, 23, 24, 32, 37, 31, 32, 22, 28, 27, 31, 22, 40,\n",
       "        30, 32, 33, 35, 32, 31, 35, 30, 30, 27, 24, 27, 36, 40, 26, 36, 25,\n",
       "        25, 26, 26, 29, 27, 22, 25, 26, 29, 31, 32, 25, 30, 26, 32, 27, 37,\n",
       "        28, 26, 20, 32, 35, 28, 27, 36, 28, 26, 28, 25, 31, 28, 34, 38, 33,\n",
       "        32, 24, 27, 35, 27, 30, 22]))"
      ]
     },
     "execution_count": 24,
     "metadata": {},
     "output_type": "execute_result"
    }
   ],
   "source": [
    "np.unique(assignment, return_counts = True)"
   ]
  },
  {
   "cell_type": "code",
   "execution_count": 30,
   "id": "77972830-0435-48a0-a7af-0bfacba2271a",
   "metadata": {},
   "outputs": [
    {
     "data": {
      "text/plain": [
       "30.0"
      ]
     },
     "execution_count": 30,
     "metadata": {},
     "output_type": "execute_result"
    }
   ],
   "source": [
    "size = np.median(np.unique(assignment, return_counts = True)[1])\n",
    "size"
   ]
  },
  {
   "cell_type": "code",
   "execution_count": null,
   "id": "a490b166-adcf-4adc-b76f-9a228d98cdcc",
   "metadata": {},
   "outputs": [],
   "source": [
    "# does kernighan lin work with unequal cluster sizes? our implementation should right?"
   ]
  },
  {
   "cell_type": "code",
   "execution_count": null,
   "id": "c8a117ed-f4d8-4d0e-a03a-88591fdb5087",
   "metadata": {},
   "outputs": [],
   "source": [
    "np.random.seed(10)\n",
    "labeling = prev_create_random_labeling(matrix, size)\n",
    "labeling_temp = labeling.copy()\n",
    "print('before')\n",
    "print(labeling)\n",
    "run_KL(labeling, matrix, 0, True)\n",
    "print('after')\n",
    "print(labeling)"
   ]
  },
  {
   "cell_type": "code",
   "execution_count": 490,
   "id": "f9a2b2cb-5ffe-41fb-8870-710cb81f17ea",
   "metadata": {},
   "outputs": [
    {
     "data": {
      "text/plain": [
       "(array([  0,   1,   2,   3,   4,   5,   6,   7,   8,   9,  10,  11,  12,\n",
       "         13,  14,  15,  16,  17,  18,  19,  20,  21,  22,  23,  24,  25,\n",
       "         26,  27,  28,  29,  30,  31,  32,  33,  34,  35,  36,  37,  38,\n",
       "         39,  40,  41,  42,  43,  44,  45,  46,  47,  48,  49,  50,  51,\n",
       "         52,  53,  54,  55,  56,  57,  58,  59,  60,  61,  62,  63,  64,\n",
       "         65,  66,  67,  68,  69,  70,  71,  72,  73,  74,  75,  76,  77,\n",
       "         78,  79,  80,  81,  82,  83,  84,  85,  86,  87,  88,  89,  90,\n",
       "         91,  92,  93,  94,  95,  96,  97,  98,  99, 100, 101, 102, 103,\n",
       "        104, 105, 106, 107, 108, 109, 110, 111, 112, 113, 114, 115, 116,\n",
       "        117, 118, 119, 120, 121, 122, 123, 124, 125, 126, 127, 128, 129,\n",
       "        130, 131, 132, 133, 134, 135, 136, 137, 138, 139, 140, 141, 142,\n",
       "        143, 144, 145, 146, 147, 148, 149, 150, 151, 152, 153, 154, 155,\n",
       "        156, 157, 158, 159, 160, 161, 162, 163, 164, 165, 166, 167, 168,\n",
       "        169, 170, 171, 172, 173, 174, 175, 176, 177, 178, 179, 180, 181,\n",
       "        182, 183, 184, 185, 186, 187, 188, 189, 190, 191, 192, 193, 194,\n",
       "        195, 196, 197, 198, 199, 200, 201, 202, 203, 204, 205, 206, 207,\n",
       "        208, 209, 210, 211, 212, 213, 214, 215, 216, 217, 218, 219, 220,\n",
       "        221, 222, 223, 224, 225, 226, 227, 228, 229, 230, 231, 232, 233,\n",
       "        234, 235, 236, 237, 238, 239, 240, 241, 242, 243, 244, 245, 246,\n",
       "        247, 248, 249, 250, 251, 252, 253, 254, 255, 256, 257, 258, 259,\n",
       "        260, 261]),\n",
       " array([40, 22, 28, 37, 31, 25, 32, 36, 40, 32, 29, 31, 38, 32, 26, 30, 32,\n",
       "        45, 26, 34, 32, 24, 28, 30, 24, 37, 37, 41, 29, 22, 35, 33, 31, 31,\n",
       "        19, 31, 32, 38, 35, 40, 24, 19, 17, 22, 26, 28, 42, 31, 31, 35, 40,\n",
       "        30, 31, 24, 38, 27, 29, 33, 28, 41, 30, 39, 31, 26, 31, 23, 21, 25,\n",
       "        30, 26, 35, 41, 34, 19, 33, 24, 30, 35, 29, 30, 35, 31, 37, 31, 26,\n",
       "        24, 40, 25, 25, 24, 26, 26, 27, 25, 26, 30, 35, 40, 29, 32, 34, 30,\n",
       "        30, 32, 32, 27, 27, 24, 32, 28, 38, 22, 29, 22, 24, 20, 33, 31, 42,\n",
       "        28, 35, 38, 29, 37, 28, 29, 27, 37, 38, 25, 19, 24, 26, 23, 19, 28,\n",
       "        31, 24, 29, 21, 28, 42, 25, 32, 33, 30, 28, 22, 30, 31, 25, 25, 41,\n",
       "        36, 29, 25, 28, 31, 32, 31, 27, 33, 37, 33, 31, 29, 30, 32, 26, 30,\n",
       "        30, 26, 26, 38, 32, 19, 31, 34, 35, 26, 25, 32, 29, 30, 35, 27, 30,\n",
       "        42, 18, 35, 31, 30, 33, 19, 26, 26, 37, 29, 29, 38, 32, 32, 27, 19,\n",
       "        33, 41, 33, 19, 29, 29, 32, 28, 32, 30, 27, 23, 24, 32, 40, 30, 19,\n",
       "        34, 38, 27, 22, 33, 43, 26, 24, 29, 27, 29, 29, 17, 27, 35, 28, 32,\n",
       "        28, 20, 21, 18, 32, 26, 37, 26, 28, 27, 30, 25, 24, 28, 26, 35, 34,\n",
       "        25, 24, 31, 29, 29, 33, 29]))"
      ]
     },
     "execution_count": 490,
     "metadata": {},
     "output_type": "execute_result"
    }
   ],
   "source": [
    "np.unique(labeling, return_counts = True)"
   ]
  },
  {
   "cell_type": "code",
   "execution_count": 488,
   "id": "9172ce58-03e4-49da-8607-a4936aa8fb1e",
   "metadata": {},
   "outputs": [
    {
     "name": "stderr",
     "output_type": "stream",
     "text": [
      "0it [00:00, ?it/s]"
     ]
    },
    {
     "name": "stdout",
     "output_type": "stream",
     "text": [
      "before\n",
      "[ 76  18  90 ... 261 159 222]\n",
      "t\n"
     ]
    },
    {
     "name": "stderr",
     "output_type": "stream",
     "text": [
      "5it [01:47, 21.58s/it, tot_impr=7529, last_impr=0, loss=19217]   "
     ]
    },
    {
     "name": "stdout",
     "output_type": "stream",
     "text": [
      "after\n",
      "[251  65 151 ...  10 260 222]\n"
     ]
    },
    {
     "name": "stderr",
     "output_type": "stream",
     "text": [
      "\n"
     ]
    }
   ],
   "source": [
    "np.random.seed(5)\n",
    "labeling = np.array(assignment)\n",
    "print('before')\n",
    "print(labeling)\n",
    "run_KL(labeling, matrix, 0, True)\n",
    "print('after')\n",
    "print(labeling)"
   ]
  },
  {
   "cell_type": "code",
   "execution_count": 292,
   "id": "d2e28fa9-51f0-4d8d-8e23-c25d08fe2bf1",
   "metadata": {},
   "outputs": [],
   "source": [
    "labeling = prev_create_random_labeling(matrix, size)\n"
   ]
  },
  {
   "cell_type": "code",
   "execution_count": 294,
   "id": "e2895b47-d290-4360-8474-ce7967d62efa",
   "metadata": {},
   "outputs": [
    {
     "data": {
      "text/plain": [
       "(array([ 0,  1,  2,  3,  4,  5,  6,  7,  8,  9, 10, 11, 12, 13, 14, 15, 16,\n",
       "        17, 18, 19, 20, 21, 22, 23, 24, 25, 26, 27, 28, 29, 30, 31, 32, 33,\n",
       "        34, 35, 36, 37, 38, 39, 40, 41, 42, 43, 44, 45, 46, 47, 48, 49]),\n",
       " array([156, 156, 156, 156, 156, 156, 156, 156, 156, 155, 156, 156, 156,\n",
       "        156, 156, 156, 156, 156, 156, 155, 156, 156, 156, 156, 156, 156,\n",
       "        156, 156, 156, 155, 156, 156, 156, 156, 156, 156, 156, 156, 156,\n",
       "        155, 156, 156, 156, 156, 156, 156, 156, 156, 156, 155]))"
      ]
     },
     "execution_count": 294,
     "metadata": {},
     "output_type": "execute_result"
    }
   ],
   "source": [
    "np.unique(labeling, return_counts = True)"
   ]
  },
  {
   "cell_type": "code",
   "execution_count": 37,
   "id": "48ac3a1d-1fd7-4f26-abcc-51d118543b0d",
   "metadata": {},
   "outputs": [
    {
     "data": {
      "text/plain": [
       "7173"
      ]
     },
     "execution_count": 37,
     "metadata": {},
     "output_type": "execute_result"
    }
   ],
   "source": [
    "len(np.sum(matrix, axis = 1))"
   ]
  },
  {
   "cell_type": "code",
   "execution_count": 6,
   "id": "2e8b1c40-a427-4b3d-a0c7-d270c470a859",
   "metadata": {},
   "outputs": [],
   "source": [
    "np.random.seed(5)\n",
    "x_sample = np.random.randint(0, matrix.shape[0], 500)\n",
    "y_sample = np.random.randint(0, matrix.shape[1], 40)\n",
    "matrix_subsampled = matrix[x_sample][:,y_sample]"
   ]
  },
  {
   "cell_type": "code",
   "execution_count": 11,
   "id": "697253f3-83c3-4726-b0b9-4760496341b7",
   "metadata": {},
   "outputs": [],
   "source": [
    "matrix_subsampled = matrix"
   ]
  },
  {
   "cell_type": "code",
   "execution_count": 18,
   "id": "cf825ba8-d5ec-4e0c-b1d3-35620d8b501f",
   "metadata": {
    "tags": []
   },
   "outputs": [
    {
     "name": "stderr",
     "output_type": "stream",
     "text": [
      "0it [00:00, ?it/s]"
     ]
    },
    {
     "name": "stdout",
     "output_type": "stream",
     "text": [
      "before\n",
      "[38  8 52 ... 40 22 29]\n"
     ]
    },
    {
     "name": "stderr",
     "output_type": "stream",
     "text": [
      "4it [03:21, 50.28s/it, tot_impr=10756.0, last_impr=0, loss=15752]      "
     ]
    },
    {
     "name": "stdout",
     "output_type": "stream",
     "text": [
      "after\n",
      "[29 32 29 ... 11 62 67]\n"
     ]
    },
    {
     "name": "stderr",
     "output_type": "stream",
     "text": [
      "\n"
     ]
    }
   ],
   "source": [
    "np.random.seed(5)\n",
    "labeling = prev_create_random_labeling(matrix_subsampled, 100)\n",
    "print('before')\n",
    "print(labeling)\n",
    "prev_kernighan_lin(matrix_subsampled, labeling, 0)\n",
    "prev_evaluate_cut(matrix_subsampled, labeling, 0)\n",
    "print('after')\n",
    "print(labeling)\n",
    "labeling1 = labeling.copy()"
   ]
  },
  {
   "cell_type": "code",
   "execution_count": 13,
   "id": "5b09b390-9e01-49d0-9a3a-5b84dc70a419",
   "metadata": {},
   "outputs": [
    {
     "data": {
      "text/plain": [
       "array([355, 306,   2, ..., 313, 245, 164])"
      ]
     },
     "execution_count": 13,
     "metadata": {},
     "output_type": "execute_result"
    }
   ],
   "source": [
    "labeling"
   ]
  },
  {
   "cell_type": "code",
   "execution_count": 21,
   "id": "81da8aa7-1937-4463-ab81-07359c7ed3a8",
   "metadata": {},
   "outputs": [
    {
     "data": {
      "text/plain": [
       "(array([ 0,  1,  2,  3,  4,  5,  6,  7,  8,  9, 10, 11, 12, 13, 14, 15, 16,\n",
       "        17, 18, 19, 20, 21, 22, 23, 24, 25, 26, 27, 28, 29, 30, 31, 32, 33,\n",
       "        34, 35, 36, 37, 38, 39, 40, 41, 42, 43, 44, 45, 46, 47, 48, 49, 50,\n",
       "        51, 52, 53, 54, 55, 56, 57, 58, 59, 60, 61, 62, 63, 64, 65, 66, 67,\n",
       "        68, 69, 70, 71, 72, 73, 74, 75, 76, 77]),\n",
       " array([100, 100, 100, 100, 100, 100, 100, 100, 100, 100, 100, 100, 100,\n",
       "        100, 100,  99, 100, 100, 100, 100, 100, 100, 100, 100, 100, 100,\n",
       "        100, 100, 100, 100, 100,  99, 100, 100, 100, 100, 100, 100, 100,\n",
       "        100, 100, 100, 100, 100, 100, 100,  99, 100, 100, 100, 100, 100,\n",
       "        100, 100, 100, 100, 100, 100, 100, 100, 100, 100,  99, 100, 100,\n",
       "        100, 100, 100, 100, 100, 100, 100, 100, 100, 100, 100, 100,  99]))"
      ]
     },
     "execution_count": 21,
     "metadata": {},
     "output_type": "execute_result"
    }
   ],
   "source": [
    "np.unique(labeling, return_counts = True)"
   ]
  },
  {
   "cell_type": "code",
   "execution_count": 19,
   "id": "cf62ed09-f56d-44a6-af3b-a377e541e649",
   "metadata": {},
   "outputs": [
    {
     "name": "stderr",
     "output_type": "stream",
     "text": [
      "0it [00:00, ?it/s]"
     ]
    },
    {
     "name": "stdout",
     "output_type": "stream",
     "text": [
      "before\n",
      "[38  8 52 ... 40 22 29]\n",
      "t\n"
     ]
    },
    {
     "name": "stderr",
     "output_type": "stream",
     "text": [
      "4it [02:53, 43.25s/it, tot_impr=10961, last_impr=0, loss=15547]    "
     ]
    },
    {
     "name": "stdout",
     "output_type": "stream",
     "text": [
      "after\n",
      "[41 29 53 ... 62 62 58]\n"
     ]
    },
    {
     "name": "stderr",
     "output_type": "stream",
     "text": [
      "\n"
     ]
    }
   ],
   "source": [
    "np.random.seed(5)\n",
    "labeling = prev_create_random_labeling(matrix_subsampled, 100)\n",
    "labeling_temp = labeling.copy()\n",
    "print('before')\n",
    "print(labeling)\n",
    "run_KL(labeling, matrix_subsampled, 0, True)\n",
    "print('after')\n",
    "print(labeling)"
   ]
  },
  {
   "cell_type": "code",
   "execution_count": 20,
   "id": "939e544b-c286-4706-90c5-a9e204ed7923",
   "metadata": {},
   "outputs": [
    {
     "data": {
      "text/plain": [
       "(array([False,  True]), array([5693, 2102]))"
      ]
     },
     "execution_count": 20,
     "metadata": {},
     "output_type": "execute_result"
    }
   ],
   "source": [
    "np.unique(labeling==labeling1, return_counts = True)"
   ]
  },
  {
   "cell_type": "code",
   "execution_count": 7,
   "id": "d21d9840-e1af-4731-b117-5d48a08107e4",
   "metadata": {},
   "outputs": [
    {
     "data": {
      "text/plain": [
       "(array([0, 1, 2, 3, 4, 5]), array([20, 20, 20, 20, 20, 20]))"
      ]
     },
     "execution_count": 7,
     "metadata": {},
     "output_type": "execute_result"
    }
   ],
   "source": [
    "np.unique(labeling, return_counts = True)"
   ]
  },
  {
   "cell_type": "code",
   "execution_count": 39,
   "id": "5dda8d72-c11e-48d5-b29d-59b952d5f617",
   "metadata": {},
   "outputs": [
    {
     "name": "stderr",
     "output_type": "stream",
     "text": [
      "2it [00:00, 207.92it/s, tot_impr=22, last_impr=0, loss=2]"
     ]
    },
    {
     "name": "stdout",
     "output_type": "stream",
     "text": [
      "before\n",
      "[3 2 1 0 4 1 2 2 2 3 1 1 0 3 3 0 5 4 5 4 1 2 2 3 1 2 4 5 4 2 3 1 3 4 3 5 2\n",
      " 2 0 1 2 2 0 1 1 4 2 4 3 4 4 1 5 5 4 3 1 1 1 1 3 0 5 0 2 4 0 4 4 5 4 0 1 3\n",
      " 0 1 5 2 1 0 5 0 2 0 5 5 4 0 5 2 0 0 4 4 5 2 3 3 3 2 5 5 2 0 3 0 4 1 1 3 5\n",
      " 5 0 3 0 5 3 5 3 4]\n",
      "after\n",
      "[0 2 4 0 4 0 2 2 2 0 2 2 0 4 3 0 1 4 3 4 1 2 2 3 1 5 4 5 4 2 3 1 3 4 3 5 1\n",
      " 2 0 1 5 2 3 1 1 3 2 4 3 4 4 1 5 5 4 3 1 1 5 1 3 0 5 0 2 4 0 4 4 5 4 1 1 3\n",
      " 0 5 5 2 1 0 5 0 1 0 1 3 4 3 5 2 0 0 4 4 5 2 3 3 3 2 5 2 2 0 3 4 5 1 1 0 5\n",
      " 5 0 3 0 5 3 5 2 1]\n"
     ]
    },
    {
     "name": "stderr",
     "output_type": "stream",
     "text": [
      "\n"
     ]
    }
   ],
   "source": [
    "np.random.seed(5)\n",
    "labeling = prev_create_random_labeling(matrix_subsampled, 20)\n",
    "labeling_temp = labeling.copy()\n",
    "print('before')\n",
    "print(labeling)\n",
    "run_KL(labeling, matrix_subsampled, 0, False)\n",
    "print('after')\n",
    "print(labeling)"
   ]
  },
  {
   "cell_type": "code",
   "execution_count": 7,
   "id": "2ebab8c8-cb17-46b1-933a-e174d60a1a39",
   "metadata": {},
   "outputs": [],
   "source": [
    "A = np.where(labeling_temp == 0)[0]\n",
    "B = np.where(labeling_temp == 1)[0]\n",
    "cross_costs, D = compute_cost_metrics(labeling_temp, matrix_subsampled, A, B, 0)\n",
    "pairwise_d_sums = add_outer(cross_costs, D, A, B)\n",
    "g = pairwise_d_sums-2*cross_costs"
   ]
  },
  {
   "cell_type": "code",
   "execution_count": 15,
   "id": "243f4520-a44a-4ab8-8ea2-695c9ce5f2d7",
   "metadata": {},
   "outputs": [],
   "source": [
    "done_a = []\n",
    "done_b = []\n",
    "    \n",
    "#g = 0\n",
    "gs = []\n",
    "swaps = []\n",
    "cross_costs2 = prev_get_cross_costs(matrix_subsampled, A, B, 0)\n",
    "all_improvements, A, B = prev_get_pairwise_improvements(matrix_subsampled, labeling_temp, 0, 1, 0)"
   ]
  },
  {
   "cell_type": "code",
   "execution_count": 16,
   "id": "86c11acd-f544-4db8-8372-3048d7625c83",
   "metadata": {},
   "outputs": [
    {
     "data": {
      "text/plain": [
       "True"
      ]
     },
     "execution_count": 16,
     "metadata": {},
     "output_type": "execute_result"
    }
   ],
   "source": [
    "np.array_equal(cross_costs, cross_costs2)"
   ]
  },
  {
   "cell_type": "code",
   "execution_count": 17,
   "id": "5f5b513e-1d1e-43a6-b92f-d9d586f4292b",
   "metadata": {},
   "outputs": [
    {
     "data": {
      "text/plain": [
       "True"
      ]
     },
     "execution_count": 17,
     "metadata": {},
     "output_type": "execute_result"
    }
   ],
   "source": [
    "np.array_equal(g, all_improvements)"
   ]
  },
  {
   "cell_type": "code",
   "execution_count": 18,
   "id": "94f8e073-785a-465a-b41d-5aacef56feaf",
   "metadata": {},
   "outputs": [],
   "source": [
    "ix = np.argmax(all_improvements)\n",
    "a, b = ix // all_improvements.shape[1], ix % all_improvements.shape[1]\n",
    "done_a.append(a)\n",
    "done_b.append(b)\n",
    "ra = A[a]\n",
    "rb = B[b]"
   ]
  },
  {
   "cell_type": "code",
   "execution_count": 42,
   "id": "589eff21-eb41-43fd-bf97-67c0f90fadd9",
   "metadata": {},
   "outputs": [],
   "source": [
    "x = g[0:10,0:10]"
   ]
  },
  {
   "cell_type": "code",
   "execution_count": 77,
   "id": "e40cb363-9871-47b1-8c81-ba30e93cc0b4",
   "metadata": {},
   "outputs": [
    {
     "data": {
      "text/plain": [
       "(20, 20)"
      ]
     },
     "execution_count": 77,
     "metadata": {},
     "output_type": "execute_result"
    }
   ],
   "source": [
    "g.shape"
   ]
  },
  {
   "cell_type": "code",
   "execution_count": 19,
   "id": "058e8ca9-c658-46be-8b6c-22ceea15a9d7",
   "metadata": {},
   "outputs": [],
   "source": [
    "it = 1\n",
    "start = g.shape[0]-it\n",
    "end = g.shape[0]-it+1"
   ]
  },
  {
   "cell_type": "code",
   "execution_count": 20,
   "id": "93ad6cd7-3781-4362-8822-0c08ef5b0fd1",
   "metadata": {},
   "outputs": [
    {
     "data": {
      "text/plain": [
       "array([[ 0.,  0.,  0.,  0.,  0.,  0.,  0., -1.,  0.,  0.,  0.,  0., -1.,\n",
       "         0.,  0.,  0.,  0.,  0., -1.,  0.]])"
      ]
     },
     "execution_count": 20,
     "metadata": {},
     "output_type": "execute_result"
    }
   ],
   "source": [
    "g[start:end]"
   ]
  },
  {
   "cell_type": "code",
   "execution_count": 22,
   "id": "cb673525-df55-4a48-a490-e8b095d34f35",
   "metadata": {},
   "outputs": [
    {
     "data": {
      "text/plain": [
       "19"
      ]
     },
     "execution_count": 22,
     "metadata": {},
     "output_type": "execute_result"
    }
   ],
   "source": [
    "start"
   ]
  },
  {
   "cell_type": "code",
   "execution_count": 23,
   "id": "a7d9d48b-016e-4e8e-9456-5a247ecaa31a",
   "metadata": {},
   "outputs": [
    {
     "data": {
      "text/plain": [
       "20"
      ]
     },
     "execution_count": 23,
     "metadata": {},
     "output_type": "execute_result"
    }
   ],
   "source": [
    "end"
   ]
  },
  {
   "cell_type": "code",
   "execution_count": 27,
   "id": "8d5aca4d-7b89-45d9-bd97-cbfba8ffa55e",
   "metadata": {},
   "outputs": [
    {
     "name": "stdout",
     "output_type": "stream",
     "text": [
      "[3 2 1 0 4 1 2 2 2 3 1 1 0 3 3 0 5 4 5 4 1 2 2 3 1 2 4 5 4 2 3 1 3 4 3 5 2\n",
      " 2 0 1 2 2 0 1 1 4 2 4 3 4 4 1 5 5 4 3 1 1 1 1 3 0 5 0 2 4 0 4 4 5 4 0 1 3\n",
      " 0 1 5 2 1 0 5 0 2 0 5 5 4 0 5 2 0 0 4 4 5 2 3 3 3 2 5 5 2 0 3 0 4 1 1 3 5\n",
      " 5 0 3 0 5 3 5 3 4]\n",
      "[3 2 0 0 4 1 2 2 2 3 1 1 0 3 3 0 5 4 5 4 1 2 2 3 1 2 4 5 4 2 3 1 3 4 3 5 2\n",
      " 2 0 1 2 2 0 1 1 4 2 4 3 4 4 1 5 5 4 3 1 1 1 1 3 0 5 0 2 4 0 4 4 5 4 1 1 3\n",
      " 0 1 5 2 1 0 5 0 2 0 5 5 4 0 5 2 0 0 4 4 5 2 3 3 3 2 5 5 2 0 3 0 4 1 1 3 5\n",
      " 5 0 3 0 5 3 5 3 4]\n"
     ]
    }
   ],
   "source": [
    "print(labeling_temp)\n",
    "labeling_temp[ra], labeling_temp[rb] = labeling_temp[rb], labeling_temp[ra]\n",
    "print(labeling_temp)"
   ]
  },
  {
   "cell_type": "code",
   "execution_count": 20,
   "id": "80c61d65-7e3e-4c2e-897f-0cbde7d2e9c6",
   "metadata": {},
   "outputs": [],
   "source": [
    "x, y = g.shape\n",
    "g_max_temp = np.argmax(g)\n",
    "i = g_max_temp // y\n",
    "j = g_max_temp % y\n",
    "index1 = A[i]\n",
    "index2 = B[j]"
   ]
  },
  {
   "cell_type": "code",
   "execution_count": 25,
   "id": "256ac82d-e63f-473b-a7d2-c641d4296ee6",
   "metadata": {},
   "outputs": [
    {
     "name": "stdout",
     "output_type": "stream",
     "text": [
      "71\n",
      "2\n"
     ]
    }
   ],
   "source": [
    "print(index1)\n",
    "print(index2)"
   ]
  },
  {
   "cell_type": "code",
   "execution_count": 29,
   "id": "1eb5fc73-3413-48a5-a315-d453f07f4019",
   "metadata": {},
   "outputs": [
    {
     "name": "stdout",
     "output_type": "stream",
     "text": [
      "[  3  12  15  38  42  61  63  66  71  74  79  81  83  87  90  91 103 105\n",
      " 112 114]\n",
      "[  2   5  10  11  20  24  31  39  43  44  51  56  57  58  59  72  75  78\n",
      " 107 108]\n",
      "[  3  12  15  38  42  61  63  66  74  79  81  83  87  90  91 103 105 112\n",
      " 114   2]\n",
      "[  5  10  11  20  24  31  39  43  44  51  56  57  58  59  72  75  78 107\n",
      " 108  71]\n"
     ]
    }
   ],
   "source": [
    "print(A)\n",
    "print(B)\n",
    "A = A[A!=index1]\n",
    "A = np.append(A, index2)\n",
    "B = B[B!=index2]\n",
    "B = np.append(B, index1)\n",
    "print(A)\n",
    "print(B)"
   ]
  },
  {
   "cell_type": "code",
   "execution_count": 36,
   "id": "063b85fc-6744-4c7a-9435-2ea3ab48f97f",
   "metadata": {},
   "outputs": [],
   "source": [
    "cross_costs, D = compute_cost_metrics(labeling_temp, matrix_subsampled, A, B, 0)\n",
    "pairwise_d_sums = add_outer(cross_costs, D, A, B)\n",
    "g = pairwise_d_sums-2*cross_costs"
   ]
  },
  {
   "cell_type": "code",
   "execution_count": 37,
   "id": "db1a6f4b-54c5-4bf1-af76-21c41cefbc52",
   "metadata": {},
   "outputs": [
    {
     "data": {
      "text/plain": [
       "array([[ 0.,  0.,  0.,  0.,  0.,  0., -1.,  0.,  0.,  0.,  0., -1.,  0.,\n",
       "         0.,  0.,  0.,  0., -1., -2., -1.],\n",
       "       [ 0.,  0.,  0.,  0.,  0.,  0., -1.,  0.,  0.,  0.,  0., -1.,  0.,\n",
       "         0.,  0.,  0.,  0., -1., -2., -1.],\n",
       "       [ 0.,  0.,  0.,  0.,  0.,  0., -1.,  0.,  0.,  0.,  0., -1.,  0.,\n",
       "         0.,  0.,  0.,  0., -1., -2., -1.],\n",
       "       [ 0.,  0.,  0.,  0.,  0.,  0., -1.,  0.,  0.,  0.,  0., -1.,  0.,\n",
       "         0.,  0.,  0.,  0., -1., -2., -1.],\n",
       "       [ 0.,  0.,  0.,  0.,  0.,  0., -1.,  0.,  0.,  0.,  0., -1.,  0.,\n",
       "         0.,  0.,  0.,  0., -1., -2., -1.],\n",
       "       [-1., -1., -1., -1., -1., -1., -2., -1., -1., -1., -1., -2., -1.,\n",
       "        -1., -1., -1., -1., -2., -3., -2.],\n",
       "       [-1., -1., -1., -1., -1., -1., -2., -1., -1., -1., -1., -2., -1.,\n",
       "        -1., -1., -1., -1., -2., -3., -2.],\n",
       "       [ 0.,  0.,  0.,  0.,  0.,  0., -1.,  0.,  0.,  0.,  0., -1.,  0.,\n",
       "         0.,  0.,  0.,  0., -1., -2., -1.],\n",
       "       [ 0.,  0.,  0.,  0.,  0.,  0., -1.,  0.,  0.,  0.,  0., -1.,  0.,\n",
       "         0.,  0.,  0.,  0., -1., -2., -1.],\n",
       "       [ 0.,  0.,  0.,  0.,  0.,  0., -1.,  0.,  0.,  0.,  0., -1.,  0.,\n",
       "         0.,  0.,  0.,  0., -1., -2., -1.],\n",
       "       [ 0.,  0.,  0.,  0.,  0.,  0., -1.,  0.,  0.,  0.,  0., -1.,  0.,\n",
       "         0.,  0.,  0.,  0., -1., -2., -1.],\n",
       "       [ 0.,  0.,  0.,  0.,  0.,  0., -1.,  0.,  0.,  0.,  0., -1.,  0.,\n",
       "         0.,  0.,  0.,  0., -1., -2., -1.],\n",
       "       [ 0.,  0.,  0.,  0.,  0.,  0., -1.,  0.,  0.,  0.,  0., -1.,  0.,\n",
       "         0.,  0.,  0.,  0., -1., -2., -1.],\n",
       "       [ 0.,  0.,  0.,  0.,  0.,  0., -1.,  0.,  0.,  0.,  0., -1.,  0.,\n",
       "         0.,  0.,  0.,  0., -1., -2., -1.],\n",
       "       [ 0.,  0.,  0.,  0.,  0.,  0., -1.,  0.,  0.,  0.,  0., -1.,  0.,\n",
       "         0.,  0.,  0.,  0., -1., -2., -1.],\n",
       "       [-2., -2., -2., -2., -2., -2., -3., -2., -2., -2., -2., -3., -2.,\n",
       "        -2., -2., -2., -2., -3., -4., -3.],\n",
       "       [ 0.,  0.,  0.,  0.,  0.,  0., -1.,  0.,  0.,  0.,  0., -1.,  0.,\n",
       "         0.,  0.,  0.,  0., -1., -2., -1.],\n",
       "       [ 0.,  0.,  0.,  0.,  0.,  0., -1.,  0.,  0.,  0.,  0., -1.,  0.,\n",
       "         0.,  0.,  0.,  0., -1., -2., -1.],\n",
       "       [ 0.,  0.,  0.,  0.,  0.,  0., -1.,  0.,  0.,  0.,  0., -1.,  0.,\n",
       "         0.,  0.,  0.,  0., -1., -2., -1.],\n",
       "       [ 0.,  0.,  0.,  0.,  0.,  0., -1.,  0.,  0.,  0.,  0., -1.,  0.,\n",
       "         0.,  0.,  0.,  0., -1., -2., -1.]])"
      ]
     },
     "execution_count": 37,
     "metadata": {},
     "output_type": "execute_result"
    }
   ],
   "source": [
    "g"
   ]
  }
 ],
 "metadata": {
  "kernelspec": {
   "display_name": "Python 3 (ipykernel)",
   "language": "python",
   "name": "python3"
  },
  "language_info": {
   "codemirror_mode": {
    "name": "ipython",
    "version": 3
   },
   "file_extension": ".py",
   "mimetype": "text/x-python",
   "name": "python",
   "nbconvert_exporter": "python",
   "pygments_lexer": "ipython3",
   "version": "3.8.13"
  }
 },
 "nbformat": 4,
 "nbformat_minor": 5
}
