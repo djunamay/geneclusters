{
 "cells": [
  {
   "cell_type": "code",
   "execution_count": 83,
   "id": "92746852",
   "metadata": {},
   "outputs": [],
   "source": [
    "import numpy as np\n",
    "import pandas as pd\n",
    "import matplotlib.pyplot as plt\n",
    "from tqdm import tqdm\n",
    "from tqdm.contrib.concurrent import process_map\n",
    "from functools import partial\n",
    "import numba as nb"
   ]
  },
  {
   "cell_type": "code",
   "execution_count": 138,
   "id": "03707cd2",
   "metadata": {},
   "outputs": [],
   "source": [
    "content = pd.read_csv('./gene_pathway_matrix.csv')\n",
    "pathway_names = content[content.columns[0]]\n",
    "gene_names = content.columns[1:]\n",
    "only_data = content.drop(columns=[content.columns[0]])\n",
    "matrix = np.ascontiguousarray(only_data.values.T)"
   ]
  },
  {
   "cell_type": "code",
   "execution_count": 9,
   "id": "019925c7",
   "metadata": {},
   "outputs": [],
   "source": [
    "@nb.njit()\n",
    "def evaluate_cut(matrix, labeling, c):\n",
    "    value = 0\n",
    "    for i in range(matrix.shape[0]):\n",
    "        for j in range(matrix.shape[1]):\n",
    "            if labeling[i] != labeling[j + matrix.shape[0]]:\n",
    "                if matrix[i, j]:\n",
    "                    value += 1\n",
    "                else:\n",
    "                    value += c\n",
    "    return value\n",
    "            \n",
    "def create_random_labeling(matrix, threshold):\n",
    "    N = np.sum(matrix.shape)\n",
    "    num_clusters = np.ceil(N / threshold)\n",
    "    new_threshold = N / num_clusters\n",
    "    labeling = (np.arange(N) / new_threshold).astype('int')\n",
    "    np.random.shuffle(labeling)\n",
    "    return labeling"
   ]
  },
  {
   "cell_type": "code",
   "execution_count": 61,
   "id": "226c84b7",
   "metadata": {},
   "outputs": [],
   "source": [
    "@nb.njit()\n",
    "def get_cost(matrix, i, j, c):\n",
    "    if j < i:\n",
    "        i, j = j, i\n",
    "    if i >= matrix.shape[0]:\n",
    "        return 0\n",
    "    if j < matrix.shape[0]:\n",
    "        return 0\n",
    "    \n",
    "    j -= matrix.shape[0]\n",
    "    \n",
    "    return max(matrix[i, j], c)\n",
    "\n",
    "@nb.njit()\n",
    "def cost_to_other(matrix, source, others, c):\n",
    "    costs = np.zeros_like(source)\n",
    "    for i, a in enumerate(source):\n",
    "        for b in others:\n",
    "            costs[i] += get_cost(matrix, a, b, c)\n",
    "    return costs\n",
    "\n",
    "@nb.njit()\n",
    "def get_cross_costs(matrix, A, B, c):\n",
    "    result = np.zeros((len(A), len(B)))\n",
    "    for i, a in enumerate(A):\n",
    "        for j, b in enumerate(B):\n",
    "            result[i, j] = get_cost(matrix, a, b, c)\n",
    "    return result\n",
    "\n",
    "@nb.njit()\n",
    "def get_pairwise_improvements(matrix, labeling, a, b, c):\n",
    "    nodes_a = np.where(labeling == a)[0]\n",
    "    nodes_b = np.where(labeling == b)[0]\n",
    "    internal_a = cost_to_other(matrix, nodes_a, nodes_a, c)\n",
    "    internal_b = cost_to_other(matrix, nodes_b, nodes_b, c)\n",
    "    ext_a_to_b = cost_to_other(matrix, nodes_a, nodes_b, c)\n",
    "    ext_b_to_a = cost_to_other(matrix, nodes_b, nodes_a, c)\n",
    "    D_a = ext_a_to_b - internal_a\n",
    "    D_b = ext_b_to_a - internal_b\n",
    "    cross_costs = get_cross_costs(matrix, nodes_a, nodes_b, c)\n",
    "    all_improvements = np.zeros_like(cross_costs)\n",
    "    for i in nb.prange(all_improvements.shape[0]):\n",
    "        for j in range(all_improvements.shape[1]):\n",
    "            all_improvements[i, j] = D_a[i] + D_b[j] - 2 * cross_costs[i , j]\n",
    "    return all_improvements, nodes_a, nodes_b\n",
    "\n",
    "@nb.njit()\n",
    "def create_numba_int_list():\n",
    "    l = List()\n",
    "    l.append(32)\n",
    "    l.pop()\n",
    "    return l\n",
    "\n",
    "@nb.njit()\n",
    "def discard_done_swaps(all_improvements, done_a, done_b):\n",
    "    for a in done_a:\n",
    "        all_improvements[a, :] = -np.inf\n",
    "    for b in done_b:\n",
    "        all_improvements[:, b] = -np.inf\n",
    "\n",
    "@nb.njit()\n",
    "def kernighan_lin_step(matrix, labeling, cluster_1, cluster_2, c):\n",
    "    temp_labeling = labeling.copy()\n",
    "    \n",
    "    A = np.where(labeling == cluster_1)[0]\n",
    "    B = np.where(labeling == cluster_2)[0]\n",
    "    \n",
    "    done_a = []\n",
    "    done_b = []\n",
    "    \n",
    "    g = 0\n",
    "    gs = []\n",
    "    swaps = []\n",
    "    \n",
    "    for _ in range(min(len(A), len(B))):\n",
    "        all_improvements, A, B = get_pairwise_improvements(matrix, temp_labeling, cluster_1, cluster_2, c)\n",
    "        discard_done_swaps(all_improvements, done_a, done_b)\n",
    "        \n",
    "        ix = np.argmax(all_improvements)\n",
    "        a, b = ix // all_improvements.shape[1], ix % all_improvements.shape[1]\n",
    "        done_a.append(a)\n",
    "        done_b.append(b)\n",
    "        ra = A[a]\n",
    "        rb = B[b]\n",
    "        \n",
    "        swaps.append((ra, rb))\n",
    "        g += all_improvements[a, b]\n",
    "        gs.append(g)\n",
    "        temp_labeling[ra], temp_labeling[rb] = temp_labeling[rb], temp_labeling[ra]\n",
    "            \n",
    "    num_steps = np.argmax(np.array(gs))\n",
    "    if gs[num_steps] > 0:\n",
    "        for i in range(num_steps + 1):\n",
    "            ra, rb = swaps[i]\n",
    "            labeling[ra], labeling[rb] = labeling[rb], labeling[ra]\n",
    "\n",
    "        return gs[num_steps]\n",
    "    else:\n",
    "        return 0\n",
    "    \n",
    "@nb.njit()\n",
    "def full_kl_step(matrix, labeling, c):\n",
    "    num_clusters = len(set(labeling))\n",
    "    order = np.random.permutation(num_clusters ** 2)\n",
    "    \n",
    "    impr = 0\n",
    "    for o in order:\n",
    "        cluster_1, cluster_2 = o // num_clusters, o % num_clusters\n",
    "        impr += kernighan_lin_step(matrix, labeling, cluster_1, cluster_2, c)\n",
    "    \n",
    "    return impr\n",
    "        \n",
    "def kernighan_lin(matrix, labeling, c):\n",
    "    tot = 0\n",
    "    with tqdm() as p:\n",
    "        while True:\n",
    "            impr = full_kl_step(matrix, labeling, c)\n",
    "            tot += impr\n",
    "            p.set_postfix({\n",
    "                'tot_impr': tot,\n",
    "                'last_impr': impr,\n",
    "                'loss': evaluate_cut(matrix, labeling, c)\n",
    "            })\n",
    "            p.update()\n",
    "            if impr == 0:\n",
    "                break\n",
    "    return tot\n",
    "    "
   ]
  },
  {
   "cell_type": "code",
   "execution_count": 87,
   "id": "01b7a575",
   "metadata": {},
   "outputs": [],
   "source": [
    "def score_for_thres(matrix, thres):\n",
    "    labeling = create_random_labeling(matrix, thres)\n",
    "    kernighan_lin(matrix, labeling, c)\n",
    "    return evaluate_cut(matrix, labeling, c), labeling\n",
    "    "
   ]
  },
  {
   "cell_type": "code",
   "execution_count": 88,
   "id": "7e55a3f0",
   "metadata": {},
   "outputs": [
    {
     "data": {
      "application/vnd.jupyter.widget-view+json": {
       "model_id": "4a7e701c0ddf45bb94e0d3095bb6501d",
       "version_major": 2,
       "version_minor": 0
      },
      "text/plain": [
       "  0%|          | 0/6 [00:00<?, ?it/s]"
      ]
     },
     "metadata": {},
     "output_type": "display_data"
    },
    {
     "name": "stderr",
     "output_type": "stream",
     "text": [
      "6it [07:11, 72.00s/it, tot_impr=18749.0, last_impr=0, loss=69637]13]71]\n",
      "7it [07:47, 66.81s/it, tot_impr=2.6e+4, last_impr=0, loss=62092]\n",
      "9it [16:38, 110.95s/it, tot_impr=34610.0, last_impr=0, loss=52998] ]   \n",
      "8it [31:44, 238.07s/it, tot_impr=41817.0, last_impr=0, loss=44741] 230]\n",
      "8it [1:49:07, 818.40s/it, tot_impr=47687.0, last_impr=0, loss=35846] ]    \n",
      "6it [2:47:24, 1674.11s/it, tot_impr=49154.0, last_impr=0, loss=29790] \n"
     ]
    }
   ],
   "source": [
    "thresholds = np.array([25, 50, 100, 200, 500, 1000])\n",
    "results = process_map(partial(score_for_thres, matrix), thresholds)"
   ]
  },
  {
   "cell_type": "code",
   "execution_count": 94,
   "id": "9e79e7ad",
   "metadata": {},
   "outputs": [
    {
     "data": {
      "text/plain": [
       "Text(0, 0.5, 'Cut size')"
      ]
     },
     "execution_count": 94,
     "metadata": {},
     "output_type": "execute_result"
    },
    {
     "data": {
      "image/png": "[encoded data removed]",
      "text/plain": [
       "<Figure size 432x288 with 1 Axes>"
      ]
     },
     "metadata": {
      "needs_background": "light"
     },
     "output_type": "display_data"
    }
   ],
   "source": [
    "plt.plot(thresholds, [x[0] for x in results])\n",
    "plt.xscale('log')\n",
    "plt.grid()\n",
    "plt.xlabel('Cluster size')\n",
    "plt.ylabel('Cut size')"
   ]
  },
  {
   "cell_type": "code",
   "execution_count": 102,
   "id": "f35f9301",
   "metadata": {},
   "outputs": [],
   "source": [
    "clusters = np.stack([x[1] for x in results])"
   ]
  },
  {
   "cell_type": "code",
   "execution_count": 128,
   "id": "8dcf61ca",
   "metadata": {},
   "outputs": [],
   "source": [
    "frame = pd.DataFrame(clusters.T, columns=[f'cluster_{x}' for x in thresholds])"
   ]
  },
  {
   "cell_type": "code",
   "execution_count": 131,
   "id": "f17db6cc",
   "metadata": {},
   "outputs": [],
   "source": [
    "frame['is_gene'] = np.arange(clusters.shape[1]) < matrix.shape[0]"
   ]
  },
  {
   "cell_type": "code",
   "execution_count": 139,
   "id": "528f786f",
   "metadata": {},
   "outputs": [],
   "source": [
    "frame['description'] = np.concatenate([gene_names, pathway_names])"
   ]
  },
  {
   "cell_type": "code",
   "execution_count": 141,
   "id": "9af613d9",
   "metadata": {},
   "outputs": [],
   "source": [
    "frame.to_csv('./kernighan_lin_clusters.csv')"
   ]
  },
  {
   "cell_type": "code",
   "execution_count": 100,
   "id": "99beb6de",
   "metadata": {},
   "outputs": [
    {
     "name": "stdout",
     "output_type": "stream",
     "text": [
      "6\n"
     ]
    },
    {
     "data": {
      "text/plain": [
       "array([6, 6, 6, 6, 6, 6, 6, 0, 6, 6, 6, 6, 6, 6, 6, 6, 6, 6, 6, 6, 6, 6,\n",
       "       6, 6, 6, 6, 6, 6, 6, 6, 6, 6, 6, 6, 6, 6, 6, 6, 6, 6, 6, 6, 6, 6,\n",
       "       6, 6, 6, 6, 6, 6, 6, 6, 6, 6, 6, 6, 6, 6, 6, 6, 6, 6, 6, 6])"
      ]
     },
     "execution_count": 100,
     "metadata": {},
     "output_type": "execute_result"
    }
   ],
   "source": [
    "gene = 608\n",
    "i = 5\n",
    "rel_pathways = np.where(matrix[gene])[0]\n",
    "print(results[i][1][gene])\n",
    "results[i][1][rel_pathways + matrix.shape[0]]"
   ]
  }
 ],
 "metadata": {
  "kernelspec": {
   "display_name": "Python 3 (ipykernel)",
   "language": "python",
   "name": "python3"
  },
  "language_info": {
   "codemirror_mode": {
    "name": "ipython",
    "version": 3
   },
   "file_extension": ".py",
   "mimetype": "text/x-python",
   "name": "python",
   "nbconvert_exporter": "python",
   "pygments_lexer": "ipython3",
   "version": "3.8.13"
  }
 },
 "nbformat": 4,
 "nbformat_minor": 5
}
