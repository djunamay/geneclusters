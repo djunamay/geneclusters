{
 "cells": [
  {
   "cell_type": "markdown",
   "id": "7ecee2c7-5efe-4740-b070-88b8a1b669b0",
   "metadata": {},
   "source": [
    "# Example Usage & Plotting"
   ]
  },
  {
   "cell_type": "code",
   "execution_count": 1,
   "id": "0e0542ef",
   "metadata": {
    "tags": []
   },
   "outputs": [],
   "source": [
    "import numpy as np\n",
    "import gseapy\n",
    "from scipy.sparse import csr_matrix\n",
    "from tqdm.contrib.concurrent import process_map\n",
    "from functools import partial\n",
    "from scipy.sparse.csgraph import shortest_path\n",
    "import matplotlib.pyplot as plt\n",
    "import seaborn as sns\n",
    "import numba as nb\n",
    "from sklearn.manifold import SpectralEmbedding\n",
    "import networkx\n",
    "import pandas as pd\n",
    "import random\n",
    "import networkx\n",
    "\n",
    "# load libraries\n",
    "import os\n",
    "from geneclusters.cluster_genes_new import get_gene_pathway_matrix, create_random_labeling, run_KL, evaluate_cut\n",
    "import numpy as np\n",
    "from os import path\n",
    "from tqdm.contrib.concurrent import process_map\n",
    "from functools import partial\n",
    "\n",
    "# Functions\n",
    "\n",
    "from geneclusters.cluster_genes_new import evaluate_cut, plot_component, plot_edges, plot_nodes, plot_single_cluster, group, compute_groupped_matrix, get_scores, find_similar_clusters, get_representative_name_per_cluster, get_kernighan_lin_clusters, get_gene_pathway_matrix, get_full_matrix_from_bipartite"
   ]
  },
  {
   "cell_type": "code",
   "execution_count": 2,
   "id": "e81259e9-cb6d-4846-ac6a-dc8db25df688",
   "metadata": {},
   "outputs": [],
   "source": [
    "# load matrix\n",
    "mat = pd.read_csv('../../../TsaiMadry_shared/clusters/GO_Biological_Process_2023_subset_mat.csv', index_col=0)"
   ]
  },
  {
   "cell_type": "code",
   "execution_count": 3,
   "id": "9b9087d5-dc91-4354-9d46-e7d73d100c07",
   "metadata": {},
   "outputs": [],
   "source": [
    "def loop_once(matrix, threshold, C=0, KL_modified=True, no_progress=False, seed=None):\n",
    "    labeling = create_random_labeling(matrix, threshold, seed)\n",
    "    run_KL(labeling, matrix, C, KL_modified, no_progress, seed)\n",
    "    loss = evaluate_cut(matrix, labeling, C)                           \n",
    "    return labeling, loss\n"
   ]
  },
  {
   "cell_type": "code",
   "execution_count": null,
   "id": "cf4c9881-78e6-4689-9e91-c72815424eda",
   "metadata": {},
   "outputs": [
    {
     "name": "stderr",
     "output_type": "stream",
     "text": [
      "0it [00:00, ?it/s]"
     ]
    }
   ],
   "source": [
    "# do KL\n",
    "matrix = np.ascontiguousarray(mat.values.T)\n",
    "\n",
    "threshold = 30\n",
    "C = 0\n",
    "KL_modified = True\n",
    "no_progress = False \n",
    "\n",
    "lab, los = loop_once(matrix, threshold, C, KL_modified, no_progress, 1)"
   ]
  },
  {
   "cell_type": "code",
   "execution_count": 89,
   "id": "e94dc34a-be15-4d3b-95e2-e8910fdb7a52",
   "metadata": {},
   "outputs": [
    {
     "data": {
      "text/plain": [
       "74022"
      ]
     },
     "execution_count": 89,
     "metadata": {},
     "output_type": "execute_result"
    }
   ],
   "source": [
    "evaluate_cut(matrix, lab, 0)"
   ]
  },
  {
   "cell_type": "code",
   "execution_count": 90,
   "id": "5dea9974-16a8-4e5e-afcb-d64d8412482e",
   "metadata": {},
   "outputs": [],
   "source": [
    "np.save('../../../TsaiMadry_shared/clusters/Labels_KL.npy', lab)"
   ]
  },
  {
   "cell_type": "code",
   "execution_count": 77,
   "id": "0ed1bb00-f295-4bcf-92c3-a56ff9c58745",
   "metadata": {},
   "outputs": [],
   "source": [
    "# do spectral \n",
    "from sklearn.cluster import SpectralClustering\n",
    "# compare to spectral clustering\n",
    "N = sum(matrix.shape)\n",
    "full_matrix = np.zeros((N,N))\n",
    "full_matrix[:matrix.shape[0],matrix.shape[0]:] = matrix\n",
    "full_matrix[matrix.shape[0]:,:matrix.shape[0]] = matrix.T\n",
    "clustering = SpectralClustering(n_clusters=500,\n",
    "       assign_labels='discretize',\n",
    "       random_state=0, affinity='precomputed').fit(full_matrix.T)\n",
    "L = clustering.labels_\n",
    "\n",
    "evaluate_cut(matrix, L, 0)"
   ]
  },
  {
   "cell_type": "code",
   "execution_count": 87,
   "id": "5b152fab-e88b-4552-ab97-abb5cdacd222",
   "metadata": {},
   "outputs": [],
   "source": [
    "np.save('../../../TsaiMadry_shared/clusters/Labels_spectral.npy', L)"
   ]
  },
  {
   "cell_type": "code",
   "execution_count": 82,
   "id": "e95118d8-0fd9-4b63-aa97-e4aaffe71131",
   "metadata": {},
   "outputs": [
    {
     "data": {
      "text/plain": [
       "16.418"
      ]
     },
     "execution_count": 82,
     "metadata": {},
     "output_type": "execute_result"
    }
   ],
   "source": [
    "N/500"
   ]
  },
  {
   "cell_type": "code",
   "execution_count": null,
   "id": "ee545aa5-401f-4bd6-9b07-70737868674b",
   "metadata": {},
   "outputs": [],
   "source": [
    "\n",
    "repeats = 100\n",
    "thresh = np.repeat(T,repeats)\n",
    "seed = np.arange(repeats)\n",
    "C = 0\n",
    "KL_modified = True\n",
    "random_labels = True\n",
    "unweighted = True\n",
    "no_progress = True\n",
    "\n",
    "get_scores(path,C,KL_modified,random_labels,unweighted, no_progress, mat), seed, thresh)\n",
    "\n",
    "loss = np.hstack([x[1] for x in results])\n",
    "labs = np.vstack([x[0] for x in results])\n",
    "labels = labs[np.argmin(loss)]"
   ]
  },
  {
   "cell_type": "code",
   "execution_count": 30,
   "id": "a0175bcd-665a-4bfa-9c1e-7a578a5d54c6",
   "metadata": {},
   "outputs": [],
   "source": [
    "p = './examples/.npy'\n",
    "mat = get_gene_pathway_matrix(p)"
   ]
  },
  {
   "cell_type": "code",
   "execution_count": 31,
   "id": "65aaadd5-2936-4e5b-bb17-1f60071ab34f",
   "metadata": {},
   "outputs": [
    {
     "data": {
      "text/plain": [
       "20103"
      ]
     },
     "execution_count": 31,
     "metadata": {},
     "output_type": "execute_result"
    }
   ],
   "source": [
    "np.sum(mat.shape)"
   ]
  },
  {
   "cell_type": "code",
   "execution_count": 32,
   "id": "669503d7-d80e-4f23-b00d-f35c9d7e255e",
   "metadata": {},
   "outputs": [],
   "source": [
    "genes = set(pd.read_csv('../ABCA7lof/processed_data/single_cell_data/exp.csv')['gene'])"
   ]
  },
  {
   "cell_type": "code",
   "execution_count": 33,
   "id": "6d48508c-07c1-4b4f-a6e2-b345785448d8",
   "metadata": {},
   "outputs": [],
   "source": [
    "index = [x in genes for x in np.array(mat.columns)]\n",
    "m = np.array(mat.loc[:,index])\n",
    "m = m[np.sum(m, axis=1)>5]\n",
    "m = m[:,(np.sum(m, axis=0)>0)]"
   ]
  },
  {
   "cell_type": "code",
   "execution_count": 61,
   "id": "bdfb700a-6726-4fe8-b27d-40cae078aa84",
   "metadata": {},
   "outputs": [],
   "source": []
  },
  {
   "cell_type": "code",
   "execution_count": 62,
   "id": "1860d506-555b-409e-9ee4-1b492c2d0eca",
   "metadata": {},
   "outputs": [],
   "source": []
  },
  {
   "cell_type": "code",
   "execution_count": 63,
   "id": "efb3c5a6-d5b3-44b0-9155-36b96d53cadb",
   "metadata": {},
   "outputs": [],
   "source": []
  },
  {
   "cell_type": "code",
   "execution_count": 65,
   "id": "94228f94-86f6-4b50-b088-5f6a0367f94d",
   "metadata": {},
   "outputs": [
    {
     "data": {
      "text/plain": [
       "13398"
      ]
     },
     "execution_count": 65,
     "metadata": {},
     "output_type": "execute_result"
    }
   ],
   "source": [
    "np.sum(m.shape)"
   ]
  },
  {
   "cell_type": "code",
   "execution_count": 44,
   "id": "987424a5-d358-49c5-8f7c-55c0feb5e7ac",
   "metadata": {},
   "outputs": [
    {
     "data": {
      "text/plain": [
       "2578"
      ]
     },
     "execution_count": 44,
     "metadata": {},
     "output_type": "execute_result"
    }
   ],
   "source": [
    "np.sum(np.sum(m, axis=1)>5)"
   ]
  },
  {
   "cell_type": "code",
   "execution_count": 41,
   "id": "45c63d21-5329-4968-b60d-769f5fd76e90",
   "metadata": {},
   "outputs": [
    {
     "data": {
      "text/plain": [
       "(5406, 14697)"
      ]
     },
     "execution_count": 41,
     "metadata": {},
     "output_type": "execute_result"
    }
   ],
   "source": [
    "mat.shape"
   ]
  },
  {
   "cell_type": "markdown",
   "id": "0b015e8b-4a9a-4d47-a276-6b25f72ca027",
   "metadata": {},
   "source": [
    "## Choose initiation"
   ]
  },
  {
   "cell_type": "code",
   "execution_count": 3,
   "id": "9de1161b-dad7-4a15-80c8-c438ce2d25bf",
   "metadata": {
    "tags": []
   },
   "outputs": [],
   "source": [
    "p = './examples/GO_Biological_Process_2023.npy'\n",
    "mat = get_gene_pathway_matrix(p)\n",
    "N = 1000\n",
    "\n",
    "mmap_1 = './examples/GO_Biological_Process_2023_labels_30.npy'\n",
    "mmap_2 = './examples/GO_Biological_Process_2023_losses_30.npy'\n",
    "\n",
    "mode = 'r'\n",
    "\n",
    "labels = np.lib.format.open_memmap(mmap_1, shape=(N, sum(mat.shape)), dtype=int, mode=mode)\n",
    "losses = np.lib.format.open_memmap(mmap_2, shape=(1, N), dtype=int, mode=mode)\n",
    "index = losses[0]!=0\n",
    "\n",
    "losses_sub = losses[0][index]\n",
    "labels_sub = labels[index]\n"
   ]
  },
  {
   "cell_type": "code",
   "execution_count": 97,
   "id": "24802a38-e6ba-431e-bf48-3e1c4b31ab0e",
   "metadata": {},
   "outputs": [],
   "source": [
    "labels_sele = labels_sub[np.argsort(losses_sub)[0]]"
   ]
  },
  {
   "cell_type": "code",
   "execution_count": 100,
   "id": "1115a4ea-ee2c-430a-a4a1-eec064ba677a",
   "metadata": {},
   "outputs": [
    {
     "data": {
      "text/plain": [
       "671"
      ]
     },
     "execution_count": 100,
     "metadata": {},
     "output_type": "execute_result"
    }
   ],
   "source": [
    "len(np.unique(labels_sele))"
   ]
  },
  {
   "cell_type": "code",
   "execution_count": null,
   "id": "84ce50bd-7ab7-417d-8b78-cbea204edec2",
   "metadata": {
    "tags": []
   },
   "outputs": [],
   "source": [
    "from sklearn.cluster import SpectralClustering\n",
    "import numpy as np\n",
    "X = mat\n",
    "clustering = SpectralClustering(n_clusters=671,\n",
    "       assign_labels='discretize',\n",
    "       random_state=0, affinity='precomputed').fit(full_matrix)"
   ]
  },
  {
   "cell_type": "code",
   "execution_count": 102,
   "id": "6c10cd49-2cc0-4fae-8046-67e7be09021e",
   "metadata": {},
   "outputs": [],
   "source": [
    "from scipy.sparse import csr_matrix\n",
    "from scipy.sparse.csgraph import connected_components"
   ]
  },
  {
   "cell_type": "code",
   "execution_count": 116,
   "id": "2f935b7b-a822-4615-9184-7cfc41268382",
   "metadata": {},
   "outputs": [],
   "source": [
    "N = sum(X.shape)\n",
    "full_matrix = np.zeros((N,N))\n",
    "\n",
    "full_matrix[:X.shape[0],X.shape[0]:] = X\n",
    "full_matrix[X.shape[0]:,:X.shape[0]] = X.T"
   ]
  },
  {
   "cell_type": "code",
   "execution_count": 112,
   "id": "e0ac0bef-caac-4d50-a00f-187b9ae30ea3",
   "metadata": {},
   "outputs": [],
   "source": [
    "comps = connected_components(full_matrix)"
   ]
  },
  {
   "cell_type": "code",
   "execution_count": 113,
   "id": "0416368d-4df1-479f-b3a0-fd2f52d9c4a7",
   "metadata": {},
   "outputs": [
    {
     "data": {
      "text/plain": [
       "(1, array([0, 0, 0, ..., 0, 0, 0], dtype=int32))"
      ]
     },
     "execution_count": 113,
     "metadata": {},
     "output_type": "execute_result"
    }
   ],
   "source": [
    "comps"
   ]
  },
  {
   "cell_type": "code",
   "execution_count": 49,
   "id": "5ec0055c-4fc3-47f1-91db-cb1cc1fcb169",
   "metadata": {},
   "outputs": [],
   "source": [
    "@nb.njit(parallel=True)\n",
    "def compute_jaccard(out, labels_25, labels_50, N):\n",
    "    for i in nb.prange(N):\n",
    "        x = set(np.where(labels_25==labels_25[i])[0])\n",
    "        y = set(np.where(labels_50==labels_50[i])[0])\n",
    "        out[i] = len(x.intersection(y))/len(x.union(y))"
   ]
  },
  {
   "cell_type": "code",
   "execution_count": 50,
   "id": "c2016112-46f0-4201-8547-527439f5b0d6",
   "metadata": {},
   "outputs": [],
   "source": [
    "labels_sele = labels_sub[np.argsort(losses_sub)[:5]]"
   ]
  },
  {
   "cell_type": "code",
   "execution_count": 51,
   "id": "fee7c89e-ee8c-4737-ab09-ab58d1201aa6",
   "metadata": {},
   "outputs": [],
   "source": [
    "i = labels_sele.shape[0]\n",
    "N = labels_sele.shape[1]\n",
    "\n",
    "out = np.empty((i,i))\n",
    "temp = np.empty(N)\n",
    "for index in range(i):\n",
    "    for index2 in range(i):\n",
    "        compute_jaccard(temp, labels_sele[index], labels_sele[index2], N)\n",
    "        out[index,index2] = np.mean(temp)"
   ]
  },
  {
   "cell_type": "code",
   "execution_count": 52,
   "id": "c765c815-9f56-4955-864a-9a10d7c8e864",
   "metadata": {},
   "outputs": [
    {
     "data": {
      "text/plain": [
       "array([[1.        , 0.16813441, 0.16950572, 0.16512805, 0.16962319],\n",
       "       [0.16813441, 1.        , 0.16155245, 0.16935977, 0.16911124],\n",
       "       [0.16950572, 0.16155245, 1.        , 0.1690845 , 0.16383319],\n",
       "       [0.16512805, 0.16935977, 0.1690845 , 1.        , 0.16632002],\n",
       "       [0.16962319, 0.16911124, 0.16383319, 0.16632002, 1.        ]])"
      ]
     },
     "execution_count": 52,
     "metadata": {},
     "output_type": "execute_result"
    }
   ],
   "source": [
    "out"
   ]
  },
  {
   "cell_type": "code",
   "execution_count": 73,
   "id": "61ca9363-6123-46c9-877e-37df96d79587",
   "metadata": {},
   "outputs": [],
   "source": [
    "labeling = labels_sele[2]\n",
    "matrix = np.ascontiguousarray(mat.values.T)\n",
    "pathway_names = mat.index\n",
    "gene_names = mat.columns\n",
    "frame = pd.DataFrame(labeling)\n",
    "frame['description'] = np.concatenate([gene_names, pathway_names])\n",
    "frame['is_gene'] = np.arange(frame.shape[0]) < matrix.shape[0]"
   ]
  },
  {
   "cell_type": "code",
   "execution_count": 74,
   "id": "112b197c-0a08-4a5b-a320-2a7fcf9f2524",
   "metadata": {},
   "outputs": [],
   "source": [
    "frame.columns = ['cluster', 'description', 'is_gene']"
   ]
  },
  {
   "cell_type": "code",
   "execution_count": 75,
   "id": "c86bf51e-5229-44e9-8a18-9f39ad381031",
   "metadata": {},
   "outputs": [
    {
     "data": {
      "text/html": [
       "<div>\n",
       "<style scoped>\n",
       "    .dataframe tbody tr th:only-of-type {\n",
       "        vertical-align: middle;\n",
       "    }\n",
       "\n",
       "    .dataframe tbody tr th {\n",
       "        vertical-align: top;\n",
       "    }\n",
       "\n",
       "    .dataframe thead th {\n",
       "        text-align: right;\n",
       "    }\n",
       "</style>\n",
       "<table border=\"1\" class=\"dataframe\">\n",
       "  <thead>\n",
       "    <tr style=\"text-align: right;\">\n",
       "      <th></th>\n",
       "      <th>cluster</th>\n",
       "      <th>description</th>\n",
       "      <th>is_gene</th>\n",
       "    </tr>\n",
       "  </thead>\n",
       "  <tbody>\n",
       "    <tr>\n",
       "      <th>0</th>\n",
       "      <td>362</td>\n",
       "      <td>A4GNT</td>\n",
       "      <td>True</td>\n",
       "    </tr>\n",
       "    <tr>\n",
       "      <th>1</th>\n",
       "      <td>295</td>\n",
       "      <td>AAK1</td>\n",
       "      <td>True</td>\n",
       "    </tr>\n",
       "    <tr>\n",
       "      <th>2</th>\n",
       "      <td>309</td>\n",
       "      <td>AARS1</td>\n",
       "      <td>True</td>\n",
       "    </tr>\n",
       "    <tr>\n",
       "      <th>3</th>\n",
       "      <td>154</td>\n",
       "      <td>AARS2</td>\n",
       "      <td>True</td>\n",
       "    </tr>\n",
       "    <tr>\n",
       "      <th>4</th>\n",
       "      <td>377</td>\n",
       "      <td>AASDHPPT</td>\n",
       "      <td>True</td>\n",
       "    </tr>\n",
       "  </tbody>\n",
       "</table>\n",
       "</div>"
      ],
      "text/plain": [
       "   cluster description  is_gene\n",
       "0      362       A4GNT     True\n",
       "1      295        AAK1     True\n",
       "2      309       AARS1     True\n",
       "3      154       AARS2     True\n",
       "4      377    AASDHPPT     True"
      ]
     },
     "execution_count": 75,
     "metadata": {},
     "output_type": "execute_result"
    }
   ],
   "source": [
    "frame.head()"
   ]
  },
  {
   "cell_type": "markdown",
   "id": "2ecb468c",
   "metadata": {},
   "source": [
    "# Cluster merging"
   ]
  },
  {
   "cell_type": "code",
   "execution_count": 76,
   "id": "f2b5f5a8-8979-49ed-92ed-82af44276531",
   "metadata": {},
   "outputs": [],
   "source": [
    "matrix = np.array(mat)\n",
    "cols = np.array(frame[frame['is_gene']]['cluster'])\n",
    "rows = np.array(frame[np.invert(frame['is_gene'])]['cluster'])"
   ]
  },
  {
   "cell_type": "code",
   "execution_count": 77,
   "id": "21875a5f",
   "metadata": {
    "tags": []
   },
   "outputs": [],
   "source": [
    "# merge clusters that fall within certain threshold\n",
    "groupped_matrix, mapping = compute_groupped_matrix(matrix, cols, rows)\n",
    "to_merge = find_similar_clusters(groupped_matrix)\n",
    "inverse_mapping = {v: k for (k, v) in mapping.items()}\n",
    "to_merge_remapped = {inverse_mapping[k]: inverse_mapping[v] for (k, v) in to_merge.items()}\n",
    "update_mapping = np.vectorize(lambda x: to_merge_remapped.get(x, x))\n",
    "new_cols = update_mapping(cols)\n",
    "new_rows = update_mapping(rows)\n",
    "groupped_matrix_new, mapping = compute_groupped_matrix(matrix, new_cols, new_rows)"
   ]
  },
  {
   "cell_type": "code",
   "execution_count": 78,
   "id": "4877d0e6-63f0-43b1-891c-68a8f1c10377",
   "metadata": {},
   "outputs": [],
   "source": [
    "frame['new_cluster'] = np.concatenate((new_cols, new_rows))"
   ]
  },
  {
   "cell_type": "code",
   "execution_count": 79,
   "id": "1a6537e9-5f88-4d0b-bb41-c0a5867136ee",
   "metadata": {},
   "outputs": [
    {
     "name": "stderr",
     "output_type": "stream",
     "text": [
      "/state/partition1/llgrid/pkg/anaconda/anaconda3-2022a/lib/python3.8/site-packages/sklearn/manifold/_spectral_embedding.py:234: UserWarning: Array is not symmetric, and will be converted to symmetric by average with its transpose.\n",
      "  adjacency = check_symmetric(adjacency)\n",
      "/state/partition1/llgrid/pkg/anaconda/anaconda3-2022a/lib/python3.8/site-packages/sklearn/manifold/_spectral_embedding.py:234: UserWarning: Array is not symmetric, and will be converted to symmetric by average with its transpose.\n",
      "  adjacency = check_symmetric(adjacency)\n"
     ]
    },
    {
     "name": "stdout",
     "output_type": "stream",
     "text": [
      "671\n",
      "668\n"
     ]
    },
    {
     "data": {
      "image/png": "[encoded data removed]",
      "text/plain": [
       "<Figure size 432x288 with 1 Axes>"
      ]
     },
     "metadata": {
      "needs_background": "light"
     },
     "output_type": "display_data"
    },
    {
     "data": {
      "image/png": "[encoded data removed]",
      "text/plain": [
       "<Figure size 432x288 with 1 Axes>"
      ]
     },
     "metadata": {
      "needs_background": "light"
     },
     "output_type": "display_data"
    }
   ],
   "source": [
    "# plot pre and post merge heatmaps\n",
    "# inspect the pre-merge heatmap to see if any clusters need to be merged\n",
    "# specify the threshold accordingly \n",
    "\n",
    "embedding = SpectralEmbedding(n_components=1, affinity='precomputed')\n",
    "X_transformed_new = embedding.fit_transform(groupped_matrix_new)\n",
    "X_transformed = embedding.fit_transform(groupped_matrix)\n",
    "\n",
    "o = np.argsort(X_transformed.ravel())\n",
    "plt.imshow((groupped_matrix[o][:,o]))\n",
    "plt.title('Fraction of edges shared between clusters before merging')\n",
    "\n",
    "plt.figure()\n",
    "o = np.argsort(X_transformed_new.ravel())\n",
    "plt.imshow((groupped_matrix_new[o][:,o]))\n",
    "plt.title('Fraction of edges shared between clusters after merging')\n",
    "\n",
    "print(X_transformed.shape[0])\n",
    "print(X_transformed_new.shape[0])"
   ]
  },
  {
   "cell_type": "code",
   "execution_count": 80,
   "id": "ef487a46-ea35-42d7-b31b-57b0f1b83578",
   "metadata": {},
   "outputs": [
    {
     "data": {
      "text/plain": [
       "<matplotlib.image.AxesImage at 0x7f1119307c70>"
      ]
     },
     "execution_count": 80,
     "metadata": {},
     "output_type": "execute_result"
    },
    {
     "data": {
      "image/png": "[encoded data removed]",
      "text/plain": [
       "<Figure size 432x288 with 1 Axes>"
      ]
     },
     "metadata": {
      "needs_background": "light"
     },
     "output_type": "display_data"
    }
   ],
   "source": [
    "plt.imshow((groupped_matrix_new[o][:,o][:50,:50]))\n"
   ]
  },
  {
   "cell_type": "code",
   "execution_count": 25,
   "id": "8e369474-41a9-4755-8427-a81479ab7235",
   "metadata": {},
   "outputs": [],
   "source": [
    "frame.to_csv('./examples/GO_Biological_Process_2023_25_frame.csv')"
   ]
  },
  {
   "cell_type": "markdown",
   "id": "f594e231-00f2-41a0-aca9-a5feda4ad7dc",
   "metadata": {},
   "source": [
    "# Assign represenative names"
   ]
  },
  {
   "cell_type": "code",
   "execution_count": 81,
   "id": "a4313a2e-df67-4784-b5f9-91f8507dca76",
   "metadata": {},
   "outputs": [],
   "source": [
    "mat = get_gene_pathway_matrix(p)\n",
    "colnames = np.array(mat.columns)\n",
    "rownames = np.array(mat.index)\n",
    "\n",
    "out = [get_representative_name_per_cluster(np.array(mat), colnames, rownames, frame, x) for x in np.unique(frame['new_cluster'])]\n",
    "names = pd.DataFrame(out)\n",
    "names.columns = ['cluster_ID', 'representative_pathway', 'fraction_internal_connections', 'N_internal_connections']\n"
   ]
  },
  {
   "cell_type": "code",
   "execution_count": 82,
   "id": "214cfc8f-d1de-4cf5-bff5-11a3f48daa83",
   "metadata": {},
   "outputs": [],
   "source": [
    "names.to_csv('./examples/GO_Biological_Process_2023_30_names_2.csv')"
   ]
  },
  {
   "cell_type": "code",
   "execution_count": 94,
   "id": "50c6d56c-f919-47a0-abbd-915f477d45b1",
   "metadata": {},
   "outputs": [
    {
     "data": {
      "text/plain": [
       "11"
      ]
     },
     "execution_count": 94,
     "metadata": {},
     "output_type": "execute_result"
    }
   ],
   "source": [
    "df1 = pd.read_csv('./examples/GO_Biological_Process_2023_30_names_2.csv')\n",
    "np.sum(np.isnan(np.array(df1['fraction_internal_connections'])))"
   ]
  },
  {
   "cell_type": "code",
   "execution_count": 93,
   "id": "3b82a6d6-8333-4a10-be75-ea905a7199c8",
   "metadata": {},
   "outputs": [
    {
     "data": {
      "text/plain": [
       "10"
      ]
     },
     "execution_count": 93,
     "metadata": {},
     "output_type": "execute_result"
    }
   ],
   "source": [
    "df2 = pd.read_csv('./examples/GO_Biological_Process_2023_30_names_1.csv')\n",
    "np.sum(np.isnan(np.array(df2['fraction_internal_connections'])))"
   ]
  },
  {
   "cell_type": "code",
   "execution_count": 92,
   "id": "177cf82c-bfbd-482f-888b-a1290f8c2abc",
   "metadata": {},
   "outputs": [
    {
     "data": {
      "text/plain": [
       "11"
      ]
     },
     "execution_count": 92,
     "metadata": {},
     "output_type": "execute_result"
    }
   ],
   "source": [
    "df3 = pd.read_csv('./examples/GO_Biological_Process_2023_30_names_0.csv')\n",
    "np.sum(np.isnan(np.array(df3['fraction_internal_connections'])))"
   ]
  },
  {
   "cell_type": "code",
   "execution_count": 38,
   "id": "40436340-c817-4f3e-9ade-84a328a14071",
   "metadata": {},
   "outputs": [
    {
     "data": {
      "text/html": [
       "<div>\n",
       "<style scoped>\n",
       "    .dataframe tbody tr th:only-of-type {\n",
       "        vertical-align: middle;\n",
       "    }\n",
       "\n",
       "    .dataframe tbody tr th {\n",
       "        vertical-align: top;\n",
       "    }\n",
       "\n",
       "    .dataframe thead th {\n",
       "        text-align: right;\n",
       "    }\n",
       "</style>\n",
       "<table border=\"1\" class=\"dataframe\">\n",
       "  <thead>\n",
       "    <tr style=\"text-align: right;\">\n",
       "      <th></th>\n",
       "      <th>cluster_ID</th>\n",
       "      <th>representative_pathway</th>\n",
       "      <th>fraction_internal_connections</th>\n",
       "      <th>N_internal_connections</th>\n",
       "    </tr>\n",
       "  </thead>\n",
       "  <tbody>\n",
       "    <tr>\n",
       "      <th>0</th>\n",
       "      <td>C.0</td>\n",
       "      <td>NaN</td>\n",
       "      <td>NaN</td>\n",
       "      <td>NaN</td>\n",
       "    </tr>\n",
       "    <tr>\n",
       "      <th>1</th>\n",
       "      <td>C.1</td>\n",
       "      <td>L-phenylalanine Catabolic Process</td>\n",
       "      <td>1.000000</td>\n",
       "      <td>5.0</td>\n",
       "    </tr>\n",
       "    <tr>\n",
       "      <th>2</th>\n",
       "      <td>C.2</td>\n",
       "      <td>Positive Regulation Of Monocyte Chemotaxis</td>\n",
       "      <td>0.611111</td>\n",
       "      <td>11.0</td>\n",
       "    </tr>\n",
       "    <tr>\n",
       "      <th>3</th>\n",
       "      <td>C.3</td>\n",
       "      <td>Response To Lead Ion</td>\n",
       "      <td>0.500000</td>\n",
       "      <td>3.0</td>\n",
       "    </tr>\n",
       "    <tr>\n",
       "      <th>4</th>\n",
       "      <td>C.4</td>\n",
       "      <td>Positive Regulation Of Coagulation</td>\n",
       "      <td>0.545455</td>\n",
       "      <td>6.0</td>\n",
       "    </tr>\n",
       "  </tbody>\n",
       "</table>\n",
       "</div>"
      ],
      "text/plain": [
       "  cluster_ID                      representative_pathway  \\\n",
       "0        C.0                                         NaN   \n",
       "1        C.1           L-phenylalanine Catabolic Process   \n",
       "2        C.2  Positive Regulation Of Monocyte Chemotaxis   \n",
       "3        C.3                        Response To Lead Ion   \n",
       "4        C.4          Positive Regulation Of Coagulation   \n",
       "\n",
       "   fraction_internal_connections  N_internal_connections  \n",
       "0                            NaN                     NaN  \n",
       "1                       1.000000                     5.0  \n",
       "2                       0.611111                    11.0  \n",
       "3                       0.500000                     3.0  \n",
       "4                       0.545455                     6.0  "
      ]
     },
     "execution_count": 38,
     "metadata": {},
     "output_type": "execute_result"
    }
   ],
   "source": [
    "names.head()"
   ]
  }
 ],
 "metadata": {
  "kernelspec": {
   "display_name": "Python 3 (ipykernel)",
   "language": "python",
   "name": "python3"
  },
  "language_info": {
   "codemirror_mode": {
    "name": "ipython",
    "version": 3
   },
   "file_extension": ".py",
   "mimetype": "text/x-python",
   "name": "python",
   "nbconvert_exporter": "python",
   "pygments_lexer": "ipython3",
   "version": "3.8.13"
  },
  "latex_envs": {
   "LaTeX_envs_menu_present": true,
   "autoclose": false,
   "autocomplete": true,
   "bibliofile": "biblio.bib",
   "cite_by": "apalike",
   "current_citInitial": 1,
   "eqLabelWithNumbers": true,
   "eqNumInitial": 1,
   "hotkeys": {
    "equation": "Ctrl-E",
    "itemize": "Ctrl-I"
   },
   "labels_anchors": false,
   "latex_user_defs": false,
   "report_style_numbering": false,
   "user_envs_cfg": false
  },
  "toc": {
   "base_numbering": 1,
   "nav_menu": {},
   "number_sections": true,
   "sideBar": true,
   "skip_h1_title": false,
   "title_cell": "Table of Contents",
   "title_sidebar": "Contents",
   "toc_cell": false,
   "toc_position": {},
   "toc_section_display": true,
   "toc_window_display": false
  }
 },
 "nbformat": 4,
 "nbformat_minor": 5
}
