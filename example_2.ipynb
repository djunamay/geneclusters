{
 "cells": [
  {
   "cell_type": "markdown",
   "id": "7ecee2c7-5efe-4740-b070-88b8a1b669b0",
   "metadata": {},
   "source": [
    "# Example Usage & Plotting"
   ]
  },
  {
   "cell_type": "code",
   "execution_count": 8,
   "id": "0e0542ef",
   "metadata": {},
   "outputs": [],
   "source": [
    "import numpy as np\n",
    "import gseapy\n",
    "from scipy.sparse import csr_matrix\n",
    "from tqdm.contrib.concurrent import process_map\n",
    "from functools import partial\n",
    "from scipy.sparse.csgraph import shortest_path\n",
    "import matplotlib.pyplot as plt\n",
    "import seaborn as sns\n",
    "import numba as nb\n",
    "from sklearn.manifold import SpectralEmbedding\n",
    "import networkx\n",
    "import pandas as pd\n",
    "import random\n",
    "import networkx\n",
    "\n",
    "from geneclusters.cluster_genes_new import evaluate_cut, plot_component, plot_edges, plot_nodes, plot_single_cluster, group, compute_groupped_matrix, get_scores, find_similar_clusters, get_representative_name_per_cluster, get_kernighan_lin_clusters, get_gene_pathway_matrix, get_full_matrix_from_bipartite"
   ]
  },
  {
   "cell_type": "markdown",
   "id": "0b015e8b-4a9a-4d47-a276-6b25f72ca027",
   "metadata": {},
   "source": [
    "## Choose initiation"
   ]
  },
  {
   "cell_type": "code",
   "execution_count": 10,
   "id": "9de1161b-dad7-4a15-80c8-c438ce2d25bf",
   "metadata": {
    "tags": []
   },
   "outputs": [],
   "source": [
    "p = './examples/GO_Biological_Process_2023.npy'\n",
    "mat = get_gene_pathway_matrix(p)\n",
    "N = 1000\n",
    "\n",
    "mmap_1 = './examples/GO_Biological_Process_2023_labels_30.npy'\n",
    "mmap_2 = './examples/GO_Biological_Process_2023_losses_30.npy'\n",
    "\n",
    "mode = 'r'\n",
    "\n",
    "labels = np.lib.format.open_memmap(mmap_1, shape=(N, sum(mat.shape)), dtype=int, mode=mode)\n",
    "losses = np.lib.format.open_memmap(mmap_2, shape=(1, N), dtype=int, mode=mode)\n",
    "\n",
    "labeling = labels[np.argmin(losses[0])]\n",
    "matrix = np.ascontiguousarray(mat.values.T)\n",
    "pathway_names = mat.index\n",
    "gene_names = mat.columns\n",
    "frame = pd.DataFrame(labeling)\n",
    "frame['description'] = np.concatenate([gene_names, pathway_names])\n",
    "frame['is_gene'] = np.arange(frame.shape[0]) < matrix.shape[0]"
   ]
  },
  {
   "cell_type": "code",
   "execution_count": 11,
   "id": "112b197c-0a08-4a5b-a320-2a7fcf9f2524",
   "metadata": {},
   "outputs": [],
   "source": [
    "frame.columns = ['cluster', 'description', 'is_gene']"
   ]
  },
  {
   "cell_type": "code",
   "execution_count": 12,
   "id": "c86bf51e-5229-44e9-8a18-9f39ad381031",
   "metadata": {},
   "outputs": [
    {
     "data": {
      "text/html": [
       "<div>\n",
       "<style scoped>\n",
       "    .dataframe tbody tr th:only-of-type {\n",
       "        vertical-align: middle;\n",
       "    }\n",
       "\n",
       "    .dataframe tbody tr th {\n",
       "        vertical-align: top;\n",
       "    }\n",
       "\n",
       "    .dataframe thead th {\n",
       "        text-align: right;\n",
       "    }\n",
       "</style>\n",
       "<table border=\"1\" class=\"dataframe\">\n",
       "  <thead>\n",
       "    <tr style=\"text-align: right;\">\n",
       "      <th></th>\n",
       "      <th>cluster</th>\n",
       "      <th>description</th>\n",
       "      <th>is_gene</th>\n",
       "    </tr>\n",
       "  </thead>\n",
       "  <tbody>\n",
       "    <tr>\n",
       "      <th>0</th>\n",
       "      <td>544</td>\n",
       "      <td>A4GNT</td>\n",
       "      <td>True</td>\n",
       "    </tr>\n",
       "    <tr>\n",
       "      <th>1</th>\n",
       "      <td>632</td>\n",
       "      <td>AAK1</td>\n",
       "      <td>True</td>\n",
       "    </tr>\n",
       "    <tr>\n",
       "      <th>2</th>\n",
       "      <td>128</td>\n",
       "      <td>AARS1</td>\n",
       "      <td>True</td>\n",
       "    </tr>\n",
       "    <tr>\n",
       "      <th>3</th>\n",
       "      <td>189</td>\n",
       "      <td>AARS2</td>\n",
       "      <td>True</td>\n",
       "    </tr>\n",
       "    <tr>\n",
       "      <th>4</th>\n",
       "      <td>441</td>\n",
       "      <td>AASDHPPT</td>\n",
       "      <td>True</td>\n",
       "    </tr>\n",
       "  </tbody>\n",
       "</table>\n",
       "</div>"
      ],
      "text/plain": [
       "   cluster description  is_gene\n",
       "0      544       A4GNT     True\n",
       "1      632        AAK1     True\n",
       "2      128       AARS1     True\n",
       "3      189       AARS2     True\n",
       "4      441    AASDHPPT     True"
      ]
     },
     "execution_count": 12,
     "metadata": {},
     "output_type": "execute_result"
    }
   ],
   "source": [
    "frame.head()"
   ]
  },
  {
   "cell_type": "markdown",
   "id": "2ecb468c",
   "metadata": {},
   "source": [
    "# Cluster merging"
   ]
  },
  {
   "cell_type": "code",
   "execution_count": 13,
   "id": "f2b5f5a8-8979-49ed-92ed-82af44276531",
   "metadata": {},
   "outputs": [],
   "source": [
    "matrix = np.array(mat)\n",
    "cols = np.array(frame[frame['is_gene']]['cluster'])\n",
    "rows = np.array(frame[np.invert(frame['is_gene'])]['cluster'])"
   ]
  },
  {
   "cell_type": "code",
   "execution_count": 14,
   "id": "21875a5f",
   "metadata": {
    "tags": []
   },
   "outputs": [
    {
     "ename": "KeyboardInterrupt",
     "evalue": "",
     "output_type": "error",
     "traceback": [
      "\u001b[0;31m---------------------------------------------------------------------------\u001b[0m",
      "\u001b[0;31mKeyboardInterrupt\u001b[0m                         Traceback (most recent call last)",
      "Input \u001b[0;32mIn [14]\u001b[0m, in \u001b[0;36m<cell line: 9>\u001b[0;34m()\u001b[0m\n\u001b[1;32m      7\u001b[0m new_cols \u001b[38;5;241m=\u001b[39m update_mapping(cols)\n\u001b[1;32m      8\u001b[0m new_rows \u001b[38;5;241m=\u001b[39m update_mapping(rows)\n\u001b[0;32m----> 9\u001b[0m groupped_matrix_new, mapping \u001b[38;5;241m=\u001b[39m \u001b[43mcompute_groupped_matrix\u001b[49m\u001b[43m(\u001b[49m\u001b[43mmatrix\u001b[49m\u001b[43m,\u001b[49m\u001b[43m \u001b[49m\u001b[43mnew_cols\u001b[49m\u001b[43m,\u001b[49m\u001b[43m \u001b[49m\u001b[43mnew_rows\u001b[49m\u001b[43m)\u001b[49m\n",
      "File \u001b[0;32m~/homer/github/geneclusters/geneclusters/cluster_genes_new.py:76\u001b[0m, in \u001b[0;36mcompute_groupped_matrix\u001b[0;34m(matrix, cols, rows)\u001b[0m\n\u001b[1;32m     74\u001b[0m cols_mapped \u001b[38;5;241m=\u001b[39m np\u001b[38;5;241m.\u001b[39mvectorize(mapping\u001b[38;5;241m.\u001b[39mget)(cols)\n\u001b[1;32m     75\u001b[0m rows_mapped \u001b[38;5;241m=\u001b[39m np\u001b[38;5;241m.\u001b[39mvectorize(mapping\u001b[38;5;241m.\u001b[39mget)(rows)\n\u001b[0;32m---> 76\u001b[0m groupped_matrix \u001b[38;5;241m=\u001b[39m \u001b[43mgroup\u001b[49m\u001b[43m(\u001b[49m\u001b[43mmatrix\u001b[49m\u001b[43m,\u001b[49m\u001b[43m \u001b[49m\u001b[43mcols_mapped\u001b[49m\u001b[43m,\u001b[49m\u001b[43m \u001b[49m\u001b[43mrows_mapped\u001b[49m\u001b[43m,\u001b[49m\u001b[43m \u001b[49m\u001b[43mmapping\u001b[49m\u001b[43m,\u001b[49m\u001b[43m \u001b[49m\u001b[43mnum_groups\u001b[49m\u001b[43m)\u001b[49m\n\u001b[1;32m     77\u001b[0m \u001b[38;5;28;01mreturn\u001b[39;00m groupped_matrix, mapping\n",
      "File \u001b[0;32m~/homer/github/geneclusters/geneclusters/cluster_genes_new.py:66\u001b[0m, in \u001b[0;36mgroup\u001b[0;34m(matrix, cols_mapped, rows_mapped, mapping, num_groups)\u001b[0m\n\u001b[1;32m     64\u001b[0m \u001b[38;5;28;01mfor\u001b[39;00m i, gi \u001b[38;5;129;01min\u001b[39;00m \u001b[38;5;28mzip\u001b[39m(\u001b[38;5;28mrange\u001b[39m(matrix\u001b[38;5;241m.\u001b[39mshape[\u001b[38;5;241m0\u001b[39m]), rows_mapped):\n\u001b[1;32m     65\u001b[0m     \u001b[38;5;28;01mfor\u001b[39;00m j, gj \u001b[38;5;129;01min\u001b[39;00m \u001b[38;5;28mzip\u001b[39m(\u001b[38;5;28mrange\u001b[39m(matrix\u001b[38;5;241m.\u001b[39mshape[\u001b[38;5;241m1\u001b[39m]), cols_mapped):\n\u001b[0;32m---> 66\u001b[0m         result[gi, gj] \u001b[38;5;241m+\u001b[39m\u001b[38;5;241m=\u001b[39m matrix[i, j]\n\u001b[1;32m     67\u001b[0m \u001b[38;5;28;01mreturn\u001b[39;00m result\n",
      "\u001b[0;31mKeyboardInterrupt\u001b[0m: "
     ]
    }
   ],
   "source": [
    "# merge clusters that fall within certain threshold\n",
    "groupped_matrix, mapping = compute_groupped_matrix(matrix, cols, rows)\n",
    "to_merge = find_similar_clusters(groupped_matrix)\n",
    "inverse_mapping = {v: k for (k, v) in mapping.items()}\n",
    "to_merge_remapped = {inverse_mapping[k]: inverse_mapping[v] for (k, v) in to_merge.items()}\n",
    "update_mapping = np.vectorize(lambda x: to_merge_remapped.get(x, x))\n",
    "new_cols = update_mapping(cols)\n",
    "new_rows = update_mapping(rows)\n",
    "groupped_matrix_new, mapping = compute_groupped_matrix(matrix, new_cols, new_rows)"
   ]
  },
  {
   "cell_type": "code",
   "execution_count": null,
   "id": "4877d0e6-63f0-43b1-891c-68a8f1c10377",
   "metadata": {},
   "outputs": [],
   "source": [
    "frame['new_cluster'] = np.concatenate((new_cols, new_rows))"
   ]
  },
  {
   "cell_type": "code",
   "execution_count": null,
   "id": "1a6537e9-5f88-4d0b-bb41-c0a5867136ee",
   "metadata": {},
   "outputs": [],
   "source": [
    "# plot pre and post merge heatmaps\n",
    "# inspect the pre-merge heatmap to see if any clusters need to be merged\n",
    "# specify the threshold accordingly \n",
    "\n",
    "embedding = SpectralEmbedding(n_components=1, affinity='precomputed')\n",
    "X_transformed_new = embedding.fit_transform(groupped_matrix_new)\n",
    "X_transformed = embedding.fit_transform(groupped_matrix)\n",
    "\n",
    "o = np.argsort(X_transformed.ravel())\n",
    "plt.imshow((groupped_matrix[o][:,o]))\n",
    "plt.title('Fraction of edges shared between clusters before merging')\n",
    "\n",
    "plt.figure()\n",
    "o = np.argsort(X_transformed_new.ravel())\n",
    "plt.imshow((groupped_matrix_new[o][:,o]))\n",
    "plt.title('Fraction of edges shared between clusters after merging')\n",
    "\n",
    "print(X_transformed.shape[0])\n",
    "print(X_transformed_new.shape[0])"
   ]
  },
  {
   "cell_type": "code",
   "execution_count": 120,
   "id": "ef487a46-ea35-42d7-b31b-57b0f1b83578",
   "metadata": {},
   "outputs": [
    {
     "data": {
      "text/plain": [
       "<matplotlib.image.AxesImage at 0x7f0423c9bf40>"
      ]
     },
     "execution_count": 120,
     "metadata": {},
     "output_type": "execute_result"
    },
    {
     "data": {
      "image/png": "[encoded data removed]",
      "text/plain": [
       "<Figure size 432x288 with 1 Axes>"
      ]
     },
     "metadata": {
      "needs_background": "light"
     },
     "output_type": "display_data"
    }
   ],
   "source": [
    "plt.imshow((groupped_matrix_new[o][:,o][:50,:50]))\n"
   ]
  },
  {
   "cell_type": "code",
   "execution_count": 121,
   "id": "8e369474-41a9-4755-8427-a81479ab7235",
   "metadata": {},
   "outputs": [],
   "source": [
    "frame.to_csv('./examples/GO_Biological_Process_2023_10_frame.csv')"
   ]
  },
  {
   "cell_type": "markdown",
   "id": "f594e231-00f2-41a0-aca9-a5feda4ad7dc",
   "metadata": {},
   "source": [
    "# Assign represenative names"
   ]
  },
  {
   "cell_type": "code",
   "execution_count": 122,
   "id": "a4313a2e-df67-4784-b5f9-91f8507dca76",
   "metadata": {},
   "outputs": [
    {
     "ename": "KeyboardInterrupt",
     "evalue": "",
     "output_type": "error",
     "traceback": [
      "\u001b[0;31m---------------------------------------------------------------------------\u001b[0m",
      "\u001b[0;31mKeyboardInterrupt\u001b[0m                         Traceback (most recent call last)",
      "Input \u001b[0;32mIn [122]\u001b[0m, in \u001b[0;36m<cell line: 5>\u001b[0;34m()\u001b[0m\n\u001b[1;32m      2\u001b[0m colnames \u001b[38;5;241m=\u001b[39m np\u001b[38;5;241m.\u001b[39marray(mat\u001b[38;5;241m.\u001b[39mcolumns)\n\u001b[1;32m      3\u001b[0m rownames \u001b[38;5;241m=\u001b[39m np\u001b[38;5;241m.\u001b[39marray(mat\u001b[38;5;241m.\u001b[39mindex)\n\u001b[0;32m----> 5\u001b[0m out \u001b[38;5;241m=\u001b[39m [get_representative_name_per_cluster(np\u001b[38;5;241m.\u001b[39marray(mat), colnames, rownames, frame, x) \u001b[38;5;28;01mfor\u001b[39;00m x \u001b[38;5;129;01min\u001b[39;00m np\u001b[38;5;241m.\u001b[39munique(frame[\u001b[38;5;124m'\u001b[39m\u001b[38;5;124mnew_cluster\u001b[39m\u001b[38;5;124m'\u001b[39m])]\n\u001b[1;32m      6\u001b[0m names \u001b[38;5;241m=\u001b[39m pd\u001b[38;5;241m.\u001b[39mDataFrame(out)\n\u001b[1;32m      7\u001b[0m names\u001b[38;5;241m.\u001b[39mcolumns \u001b[38;5;241m=\u001b[39m [\u001b[38;5;124m'\u001b[39m\u001b[38;5;124mcluster_ID\u001b[39m\u001b[38;5;124m'\u001b[39m, \u001b[38;5;124m'\u001b[39m\u001b[38;5;124mrepresentative_pathway\u001b[39m\u001b[38;5;124m'\u001b[39m, \u001b[38;5;124m'\u001b[39m\u001b[38;5;124mfraction_internal_connections\u001b[39m\u001b[38;5;124m'\u001b[39m, \u001b[38;5;124m'\u001b[39m\u001b[38;5;124mN_internal_connections\u001b[39m\u001b[38;5;124m'\u001b[39m]\n",
      "Input \u001b[0;32mIn [122]\u001b[0m, in \u001b[0;36m<listcomp>\u001b[0;34m(.0)\u001b[0m\n\u001b[1;32m      2\u001b[0m colnames \u001b[38;5;241m=\u001b[39m np\u001b[38;5;241m.\u001b[39marray(mat\u001b[38;5;241m.\u001b[39mcolumns)\n\u001b[1;32m      3\u001b[0m rownames \u001b[38;5;241m=\u001b[39m np\u001b[38;5;241m.\u001b[39marray(mat\u001b[38;5;241m.\u001b[39mindex)\n\u001b[0;32m----> 5\u001b[0m out \u001b[38;5;241m=\u001b[39m [get_representative_name_per_cluster(\u001b[43mnp\u001b[49m\u001b[38;5;241;43m.\u001b[39;49m\u001b[43marray\u001b[49m\u001b[43m(\u001b[49m\u001b[43mmat\u001b[49m\u001b[43m)\u001b[49m, colnames, rownames, frame, x) \u001b[38;5;28;01mfor\u001b[39;00m x \u001b[38;5;129;01min\u001b[39;00m np\u001b[38;5;241m.\u001b[39munique(frame[\u001b[38;5;124m'\u001b[39m\u001b[38;5;124mnew_cluster\u001b[39m\u001b[38;5;124m'\u001b[39m])]\n\u001b[1;32m      6\u001b[0m names \u001b[38;5;241m=\u001b[39m pd\u001b[38;5;241m.\u001b[39mDataFrame(out)\n\u001b[1;32m      7\u001b[0m names\u001b[38;5;241m.\u001b[39mcolumns \u001b[38;5;241m=\u001b[39m [\u001b[38;5;124m'\u001b[39m\u001b[38;5;124mcluster_ID\u001b[39m\u001b[38;5;124m'\u001b[39m, \u001b[38;5;124m'\u001b[39m\u001b[38;5;124mrepresentative_pathway\u001b[39m\u001b[38;5;124m'\u001b[39m, \u001b[38;5;124m'\u001b[39m\u001b[38;5;124mfraction_internal_connections\u001b[39m\u001b[38;5;124m'\u001b[39m, \u001b[38;5;124m'\u001b[39m\u001b[38;5;124mN_internal_connections\u001b[39m\u001b[38;5;124m'\u001b[39m]\n",
      "\u001b[0;31mKeyboardInterrupt\u001b[0m: "
     ]
    }
   ],
   "source": [
    "mat = get_gene_pathway_matrix(p)\n",
    "colnames = np.array(mat.columns)\n",
    "rownames = np.array(mat.index)\n",
    "\n",
    "out = [get_representative_name_per_cluster(np.array(mat), colnames, rownames, frame, x) for x in np.unique(frame['new_cluster'])]\n",
    "names = pd.DataFrame(out)\n",
    "names.columns = ['cluster_ID', 'representative_pathway', 'fraction_internal_connections', 'N_internal_connections']\n"
   ]
  },
  {
   "cell_type": "code",
   "execution_count": 111,
   "id": "214cfc8f-d1de-4cf5-bff5-11a3f48daa83",
   "metadata": {},
   "outputs": [],
   "source": [
    "names.to_csv('./examples/GO_Biological_Process_2023_10_names.csv')"
   ]
  },
  {
   "cell_type": "code",
   "execution_count": 112,
   "id": "40436340-c817-4f3e-9ade-84a328a14071",
   "metadata": {},
   "outputs": [
    {
     "data": {
      "text/html": [
       "<div>\n",
       "<style scoped>\n",
       "    .dataframe tbody tr th:only-of-type {\n",
       "        vertical-align: middle;\n",
       "    }\n",
       "\n",
       "    .dataframe tbody tr th {\n",
       "        vertical-align: top;\n",
       "    }\n",
       "\n",
       "    .dataframe thead th {\n",
       "        text-align: right;\n",
       "    }\n",
       "</style>\n",
       "<table border=\"1\" class=\"dataframe\">\n",
       "  <thead>\n",
       "    <tr style=\"text-align: right;\">\n",
       "      <th></th>\n",
       "      <th>cluster_ID</th>\n",
       "      <th>representative_pathway</th>\n",
       "      <th>fraction_internal_connections</th>\n",
       "      <th>N_internal_connections</th>\n",
       "    </tr>\n",
       "  </thead>\n",
       "  <tbody>\n",
       "    <tr>\n",
       "      <th>0</th>\n",
       "      <td>C.0</td>\n",
       "      <td>Modulation By Symbiont Of Entry Into Host</td>\n",
       "      <td>0.619048</td>\n",
       "      <td>13.0</td>\n",
       "    </tr>\n",
       "    <tr>\n",
       "      <th>1</th>\n",
       "      <td>C.1</td>\n",
       "      <td>Folic Acid-Containing Compound Metabolic Process</td>\n",
       "      <td>1.000000</td>\n",
       "      <td>15.0</td>\n",
       "    </tr>\n",
       "    <tr>\n",
       "      <th>2</th>\n",
       "      <td>C.2</td>\n",
       "      <td>Leukocyte Tethering Or Rolling</td>\n",
       "      <td>0.588235</td>\n",
       "      <td>10.0</td>\n",
       "    </tr>\n",
       "    <tr>\n",
       "      <th>3</th>\n",
       "      <td>C.3</td>\n",
       "      <td>Formation Of Translation Preinitiation Complex</td>\n",
       "      <td>1.000000</td>\n",
       "      <td>8.0</td>\n",
       "    </tr>\n",
       "    <tr>\n",
       "      <th>4</th>\n",
       "      <td>C.4</td>\n",
       "      <td>Melanosome Transport</td>\n",
       "      <td>0.866667</td>\n",
       "      <td>13.0</td>\n",
       "    </tr>\n",
       "  </tbody>\n",
       "</table>\n",
       "</div>"
      ],
      "text/plain": [
       "  cluster_ID                            representative_pathway  \\\n",
       "0        C.0         Modulation By Symbiont Of Entry Into Host   \n",
       "1        C.1  Folic Acid-Containing Compound Metabolic Process   \n",
       "2        C.2                    Leukocyte Tethering Or Rolling   \n",
       "3        C.3    Formation Of Translation Preinitiation Complex   \n",
       "4        C.4                              Melanosome Transport   \n",
       "\n",
       "   fraction_internal_connections  N_internal_connections  \n",
       "0                       0.619048                    13.0  \n",
       "1                       1.000000                    15.0  \n",
       "2                       0.588235                    10.0  \n",
       "3                       1.000000                     8.0  \n",
       "4                       0.866667                    13.0  "
      ]
     },
     "execution_count": 112,
     "metadata": {},
     "output_type": "execute_result"
    }
   ],
   "source": [
    "names.head()"
   ]
  }
 ],
 "metadata": {
  "kernelspec": {
   "display_name": "Python 3 (ipykernel)",
   "language": "python",
   "name": "python3"
  },
  "language_info": {
   "codemirror_mode": {
    "name": "ipython",
    "version": 3
   },
   "file_extension": ".py",
   "mimetype": "text/x-python",
   "name": "python",
   "nbconvert_exporter": "python",
   "pygments_lexer": "ipython3",
   "version": "3.8.13"
  },
  "latex_envs": {
   "LaTeX_envs_menu_present": true,
   "autoclose": false,
   "autocomplete": true,
   "bibliofile": "biblio.bib",
   "cite_by": "apalike",
   "current_citInitial": 1,
   "eqLabelWithNumbers": true,
   "eqNumInitial": 1,
   "hotkeys": {
    "equation": "Ctrl-E",
    "itemize": "Ctrl-I"
   },
   "labels_anchors": false,
   "latex_user_defs": false,
   "report_style_numbering": false,
   "user_envs_cfg": false
  },
  "toc": {
   "base_numbering": 1,
   "nav_menu": {},
   "number_sections": true,
   "sideBar": true,
   "skip_h1_title": false,
   "title_cell": "Table of Contents",
   "title_sidebar": "Contents",
   "toc_cell": false,
   "toc_position": {},
   "toc_section_display": true,
   "toc_window_display": false
  }
 },
 "nbformat": 4,
 "nbformat_minor": 5
}
