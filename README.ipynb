{
 "cells": [
  {
   "cell_type": "code",
   "execution_count": 1,
   "id": "a1271463-c34a-4338-a18d-b26c039c5712",
   "metadata": {
    "tags": []
   },
   "outputs": [],
   "source": [
    "import multiprocessing\n",
    "import pandas as pd\n",
    "import numpy as np\n",
    "import matplotlib.pyplot as plt\n",
    "\n",
    "from geneclusters.cluster_genes import score_for_thres, get_kernighan_lin_clusters\n",
    "from geneclusters.prepare_inputs import get_gene_pathway_matrix\n",
    "from geneclusters.compute_stats import compute_t, compute_permuted_t, return_correlation_matrix, return_permutation_inputs, run_permutations, compute_permutation_p\n",
    "from geneclusters.plotting import plot_permutations\n",
    "\n",
    "cpu = multiprocessing.cpu_count()\n",
    "pool = multiprocessing.Pool(cpu-1)"
   ]
  },
  {
   "cell_type": "code",
   "execution_count": null,
   "id": "c5057a43-88d2-42c5-9c69-350011338726",
   "metadata": {
    "tags": []
   },
   "outputs": [],
   "source": [
    "# run with internet\n",
    "import gseapy\n",
    "import numpy as np\n",
    "x = gseapy.get_library('WikiPathway_2021_Human')\n",
    "np.save('WikiPathway_2021_Human.npy', x)"
   ]
  },
  {
   "cell_type": "code",
   "execution_count": null,
   "id": "00543643-2967-491a-8309-c8994d6fe60e",
   "metadata": {},
   "outputs": [],
   "source": [
    "# assign the clusters\n",
    "frame = get_kernighan_lin_clusters('./examples/WikiPathway_2021_Human.npy', threshold=50, C=.5)\n",
    "frame.columns = ['cluster', 'description', 'is_gene']\n",
    "frame.to_csv('kernighan_clusters.csv', index = False)"
   ]
  },
  {
   "cell_type": "code",
   "execution_count": null,
   "id": "9e8bc3c5-6f72-40ee-8546-57c5a28bc598",
   "metadata": {},
   "outputs": [],
   "source": [
    "# evaluate observed correlations against Null\n",
    "frame = pd.read_csv('kernighan_clusters.csv')\n",
    "Nperm = 5\n",
    "\n",
    "for name in np.array(['Ex']):#, 'In', 'Mic', 'Ast', 'Oli', 'Opc']):\n",
    "    print('** '+name+' **')\n",
    "    permuted_t, observed_t = run_permutations('./examples/' + name +'.csv', frame, Nperm)\n",
    "    p = compute_permutation_p(permuted_t, observed_t)\n",
    "    plot_permutations(permuted_t, observed_t, p, Nperm, name)\n",
    "    plt.show()"
   ]
  }
 ],
 "metadata": {
  "kernelspec": {
   "display_name": "Python 3 (ipykernel)",
   "language": "python",
   "name": "python3"
  },
  "language_info": {
   "codemirror_mode": {
    "name": "ipython",
    "version": 3
   },
   "file_extension": ".py",
   "mimetype": "text/x-python",
   "name": "python",
   "nbconvert_exporter": "python",
   "pygments_lexer": "ipython3",
   "version": "3.8.13"
  }
 },
 "nbformat": 4,
 "nbformat_minor": 5
}
