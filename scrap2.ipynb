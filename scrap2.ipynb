{
 "cells": [
  {
   "cell_type": "code",
   "execution_count": 1,
   "id": "81acf2d8-e2a7-4bc9-a0bf-b7693e6f0cb9",
   "metadata": {},
   "outputs": [],
   "source": [
    "from geneclusters.cluster_genes_new import *\n",
    "path = './examples/test_dict.npy'\n",
    "from assertpy import assert_that\n",
    "from tqdm import tqdm\n",
    "import numpy.ma as ma\n"
   ]
  },
  {
   "cell_type": "code",
   "execution_count": 2,
   "id": "5df0aa5e-aa90-4696-8993-72590378ae33",
   "metadata": {},
   "outputs": [
    {
     "name": "stderr",
     "output_type": "stream",
     "text": [
      "2it [00:00, 259.04it/s, tot_impr=3, last_impr=0, loss=2]\n"
     ]
    },
    {
     "data": {
      "text/html": [
       "<div>\n",
       "<style scoped>\n",
       "    .dataframe tbody tr th:only-of-type {\n",
       "        vertical-align: middle;\n",
       "    }\n",
       "\n",
       "    .dataframe tbody tr th {\n",
       "        vertical-align: top;\n",
       "    }\n",
       "\n",
       "    .dataframe thead th {\n",
       "        text-align: right;\n",
       "    }\n",
       "</style>\n",
       "<table border=\"1\" class=\"dataframe\">\n",
       "  <thead>\n",
       "    <tr style=\"text-align: right;\">\n",
       "      <th></th>\n",
       "      <th>0</th>\n",
       "      <th>description</th>\n",
       "      <th>is_gene</th>\n",
       "    </tr>\n",
       "  </thead>\n",
       "  <tbody>\n",
       "    <tr>\n",
       "      <th>0</th>\n",
       "      <td>1</td>\n",
       "      <td>G1</td>\n",
       "      <td>True</td>\n",
       "    </tr>\n",
       "    <tr>\n",
       "      <th>1</th>\n",
       "      <td>0</td>\n",
       "      <td>G2</td>\n",
       "      <td>True</td>\n",
       "    </tr>\n",
       "    <tr>\n",
       "      <th>2</th>\n",
       "      <td>0</td>\n",
       "      <td>G3</td>\n",
       "      <td>True</td>\n",
       "    </tr>\n",
       "    <tr>\n",
       "      <th>3</th>\n",
       "      <td>1</td>\n",
       "      <td>G4</td>\n",
       "      <td>True</td>\n",
       "    </tr>\n",
       "    <tr>\n",
       "      <th>4</th>\n",
       "      <td>1</td>\n",
       "      <td>G5</td>\n",
       "      <td>True</td>\n",
       "    </tr>\n",
       "    <tr>\n",
       "      <th>5</th>\n",
       "      <td>0</td>\n",
       "      <td>P1</td>\n",
       "      <td>False</td>\n",
       "    </tr>\n",
       "    <tr>\n",
       "      <th>6</th>\n",
       "      <td>1</td>\n",
       "      <td>P2</td>\n",
       "      <td>False</td>\n",
       "    </tr>\n",
       "    <tr>\n",
       "      <th>7</th>\n",
       "      <td>0</td>\n",
       "      <td>P3</td>\n",
       "      <td>False</td>\n",
       "    </tr>\n",
       "  </tbody>\n",
       "</table>\n",
       "</div>"
      ],
      "text/plain": [
       "   0 description  is_gene\n",
       "0  1          G1     True\n",
       "1  0          G2     True\n",
       "2  0          G3     True\n",
       "3  1          G4     True\n",
       "4  1          G5     True\n",
       "5  0          P1    False\n",
       "6  1          P2    False\n",
       "7  0          P3    False"
      ]
     },
     "execution_count": 2,
     "metadata": {},
     "output_type": "execute_result"
    }
   ],
   "source": [
    "get_kernighan_lin_clusters('./examples/test_dict.npy', 2, 0)"
   ]
  },
  {
   "cell_type": "code",
   "execution_count": null,
   "id": "bb379221-1082-41a5-81b8-5f128833bbef",
   "metadata": {},
   "outputs": [],
   "source": [
    "# understand what the loss is and why we are summing g_maxes --> it seems like we are indirectly monitoring the loss?\n",
    "# finish annotating cluster_genes_new functions\n",
    "# finish writing tests for cluster_genes_new\n",
    "# compare outputs (G and my code) on larger clustering example\n",
    "# read up on bipartite graph clustering - does it make more sense to be doing this without the size constraints (see CMU lecture)?\n",
    "# read the KL paper\n",
    "# add output plotting functions (with FGSEA)\n",
    "# finish README - add info, reasoning (lit review)?, and examples\n"
   ]
  },
  {
   "cell_type": "code",
   "execution_count": 4,
   "id": "92220671-d350-4377-8c2c-705828e62d40",
   "metadata": {},
   "outputs": [
    {
     "data": {
      "text/html": [
       "<div>\n",
       "<style scoped>\n",
       "    .dataframe tbody tr th:only-of-type {\n",
       "        vertical-align: middle;\n",
       "    }\n",
       "\n",
       "    .dataframe tbody tr th {\n",
       "        vertical-align: top;\n",
       "    }\n",
       "\n",
       "    .dataframe thead th {\n",
       "        text-align: right;\n",
       "    }\n",
       "</style>\n",
       "<table border=\"1\" class=\"dataframe\">\n",
       "  <thead>\n",
       "    <tr style=\"text-align: right;\">\n",
       "      <th></th>\n",
       "      <th>G1</th>\n",
       "      <th>G2</th>\n",
       "      <th>G3</th>\n",
       "      <th>G4</th>\n",
       "      <th>G5</th>\n",
       "    </tr>\n",
       "  </thead>\n",
       "  <tbody>\n",
       "    <tr>\n",
       "      <th>P1</th>\n",
       "      <td>1</td>\n",
       "      <td>1</td>\n",
       "      <td>1</td>\n",
       "      <td>0</td>\n",
       "      <td>0</td>\n",
       "    </tr>\n",
       "    <tr>\n",
       "      <th>P2</th>\n",
       "      <td>1</td>\n",
       "      <td>0</td>\n",
       "      <td>0</td>\n",
       "      <td>1</td>\n",
       "      <td>1</td>\n",
       "    </tr>\n",
       "    <tr>\n",
       "      <th>P3</th>\n",
       "      <td>0</td>\n",
       "      <td>1</td>\n",
       "      <td>0</td>\n",
       "      <td>1</td>\n",
       "      <td>0</td>\n",
       "    </tr>\n",
       "  </tbody>\n",
       "</table>\n",
       "</div>"
      ],
      "text/plain": [
       "    G1  G2  G3  G4  G5\n",
       "P1   1   1   1   0   0\n",
       "P2   1   0   0   1   1\n",
       "P3   0   1   0   1   0"
      ]
     },
     "execution_count": 4,
     "metadata": {},
     "output_type": "execute_result"
    }
   ],
   "source": [
    "path = './examples/test_dict.npy'\n",
    "mat = get_gene_pathway_matrix(path)\n",
    "mat"
   ]
  },
  {
   "cell_type": "code",
   "execution_count": 262,
   "id": "7237177e-6654-4ce0-849c-0d29628b334a",
   "metadata": {},
   "outputs": [],
   "source": [
    "path = './examples/test_dict.npy'\n",
    "mat = get_gene_pathway_matrix(path)\n",
    "pathway_names = mat.index\n",
    "gene_names = mat.columns\n",
    "matrix = np.ascontiguousarray(mat.values.T)\n",
    "labeling = np.array([0, 0, 0, 1, 1, 1, 1, 0])"
   ]
  },
  {
   "cell_type": "code",
   "execution_count": 492,
   "id": "dc6302b2-3e45-425f-966b-bd07c0d92f10",
   "metadata": {},
   "outputs": [],
   "source": [
    "import numpy as np\n",
    "import pandas as pd\n",
    "from nltk import flatten\n",
    "\n",
    "def get_gene_pathway_matrix(path_to_dict):\n",
    "    '''\n",
    "    returns pandas dataframe of pathways x genes indicating which pathway-gene pairs are key-value pairs in the input dictionary \n",
    "    Args:\n",
    "        path_to_dict\n",
    "            ndarray dictionary mapping pathway names to genes (e.g. as downloaded from GSEA)\n",
    "    Returns:\n",
    "        matrix ndarray\n",
    "            gene x pathway matrix of edge weights\n",
    "    '''\n",
    "    paths = np.load(path_to_dict, allow_pickle=True).item()\n",
    "    genes = np.unique(flatten(list(paths.values())))\n",
    "    path_names = list(paths.keys())   \n",
    "    output = np.empty(shape=[len(path_names), len(genes)], dtype = int)\n",
    "    sets = [set(paths[x]) for x in path_names]\n",
    "    df = pd.DataFrame([[x in y for x in genes] for y in sets])+0\n",
    "    df.columns = genes\n",
    "    df.index = path_names\n",
    "    return df\n",
    "\n",
    "def create_random_labeling(matrix, threshold):\n",
    "    '''\n",
    "    returns ndarray grouping pathways and genes into clusters based on threshold\n",
    "    Args:\n",
    "        matrix ndarray\n",
    "            gene x pathway matrix\n",
    "        threshold int\n",
    "            number of genes per cluster. Min = 1, Max = total number of genes and pathways\n",
    "    Returns:\n",
    "        labeling 1D ndarray\n",
    "            random cluster partition labels of length N-genes + N-pathways\n",
    "    '''\n",
    "    N = np.sum(matrix.shape)\n",
    "    num_clusters = np.ceil(N / threshold)\n",
    "    new_threshold = N / num_clusters\n",
    "    labeling = (np.arange(N) / new_threshold).astype('int')\n",
    "    np.random.shuffle(labeling)\n",
    "    return labeling\n",
    "\n",
    "def compute_costs(i, j, c, matrix):\n",
    "    '''\n",
    "    Compute cost between node i and j\n",
    "    Args:\n",
    "        i int\n",
    "            index of first node (in labeling vector)\n",
    "        j int\n",
    "            index of second node (in labeling vector)\n",
    "        c float \n",
    "            probability of false negative pathway-gene association (0<=c<= 1)\n",
    "        matrix ndarray\n",
    "            gene x pathway matrix\n",
    "    Returns:\n",
    "        cost float\n",
    "            edge weight between node i and j\n",
    "    '''\n",
    "    x, y = matrix.shape\n",
    "    if (i<x) & (j>=x):\n",
    "        return np.max((matrix[i,j-x], c))\n",
    "    if (j<x) & (i>=x):\n",
    "        return np.max((matrix[j,i-x], c))\n",
    "    if ((j<x) & (i<x)) | ((j>=x) & (i>=x)):\n",
    "        return 0\n",
    "\n",
    "def get_cross_costs(labeling, partition1, partition2, matrix, c):\n",
    "    '''\n",
    "    Compute pairwise costs of nodes in partition A and nodes in partition B\n",
    "    Args:\n",
    "        labeling 1D ndarray\n",
    "            output vector from create_random_labeling()\n",
    "        partition1 int\n",
    "            cluster 1 label\n",
    "        partition2 int\n",
    "            cluster 2 label\n",
    "        matrix ndarray\n",
    "            gene x pathway matrix\n",
    "        c float \n",
    "            probability of false negative pathway-gene association (0<=c<= 1)\n",
    "    Returns:\n",
    "        cost-matrix ndarray\n",
    "            len(partition1) x len(partition2) matrix, where entries represent edge weights for pairwise nodes in partition1 and partition2\n",
    "        \n",
    "    ''' \n",
    "    partition1_indices = np.arange(len(labeling))[labeling==partition1]\n",
    "    partition2_indices = np.arange(len(labeling))[labeling==partition2]\n",
    "    L1 = len(partition1_indices)\n",
    "    L2 = len(partition2_indices)\n",
    "    cross_costs = np.empty(shape=(L1, L2))\n",
    "    for i in range(L1):\n",
    "        for j in range(L2):\n",
    "            cross_costs[i, j] = compute_costs(partition1_indices[i], partition2_indices[j], c, matrix)\n",
    "    return cross_costs, partition1_indices, partition2_indices\n",
    "\n",
    "def compute_internal_cost(partition_indices, labeling, c, matrix, Ic):\n",
    "    '''\n",
    "    Compute internal cost for each node in partition A and save it to corresponding index in the Ic vector\n",
    "    Args:\n",
    "        partition_indices 1D ndarray (int) \n",
    "            index values for partition of interest in labeling vector\n",
    "        labeling 1D ndarray\n",
    "            output vector from create_random_labeling()\n",
    "        c float \n",
    "            probability of false negative pathway-gene association (0<=c<= 1)\n",
    "        matrix ndarray\n",
    "            gene x pathway matrix\n",
    "        Ic 1D ndarray\n",
    "            empty vector of length = len(labeling)        \n",
    "    '''\n",
    "    for i in partition_indices:\n",
    "        for j in partition_indices:\n",
    "            if i!=j:\n",
    "                Ic[i] += compute_costs(i, j, c, matrix)\n",
    "            else:\n",
    "                continue\n",
    "                \n",
    "def compute_external_cost(partition1_indices, partition2_indices, cross_costs, Ec):\n",
    "    '''\n",
    "    Compute external costs for each node in partitions A and B and save it to corresponding index in the Ec vector\n",
    "    Args:\n",
    "        partition_indices 1D ndarray (int) \n",
    "            index values for partitions of interest in labeling vector\n",
    "        labeling 1D ndarray\n",
    "            output vector from create_random_labeling()\n",
    "        c float \n",
    "            probability of false negative pathway-gene association (0<=c<= 1)\n",
    "        matrix ndarray\n",
    "            gene x pathway matrix\n",
    "        Ec 1D ndarray\n",
    "            empty vector of length = len(labeling)        \n",
    "    '''\n",
    "    Ec[partition1_indices] = np.sum(cross_costs, axis = 1)\n",
    "    Ec[partition2_indices] = np.sum(cross_costs, axis = 0)\n",
    "    \n",
    "### Is the external cost computed between A and B or between A and other?"
   ]
  },
  {
   "cell_type": "code",
   "execution_count": 493,
   "id": "61e808ec-dc89-415d-bdeb-ff5df7e26d68",
   "metadata": {},
   "outputs": [],
   "source": [
    "def compute_cost_metrics(labeling, matrix, partition1, partition2, c):\n",
    "    cross_costs, partition1_indices, partition2_indices = get_cross_costs(labeling, partition1, partition2, matrix, c)\n",
    "    Ic = np.zeros(len(labeling), dtype = int)\n",
    "    compute_internal_cost(partition1_indices, labeling, c, matrix, Ic)\n",
    "    compute_internal_cost(partition2_indices, labeling, c, matrix, Ic)\n",
    "\n",
    "    Ec = np.zeros(len(labeling), dtype = int)\n",
    "    compute_external_cost(partition1_indices, partition2_indices, cross_costs, Ec)\n",
    "\n",
    "    D = Ec-Ic\n",
    "    return cross_costs, partition1_indices, partition2_indices, D\n",
    "\n",
    "def kernighan_lin_step(labeling, matrix, partition1, partition2, c):\n",
    "    iteration = np.floor(len(labeling)/2).astype(int)\n",
    "\n",
    "    a_out = np.zeros(iteration)\n",
    "    b_out = np.zeros(iteration)\n",
    "    g_out = np.zeros(iteration)\n",
    "\n",
    "    labeling_mask = np.zeros(labeling.shape)\n",
    "    labeling_temp = labeling.copy()\n",
    "    for it in range(iteration):\n",
    "        #print('***')\n",
    "        #print(it)\n",
    "        cross_costs, partition1_indices, partition2_indices, D = compute_cost_metrics(labeling_temp, matrix, partition1, partition2, c)\n",
    "        pairwise_d_sums = np.add.outer(D[partition1_indices], D[partition2_indices])\n",
    "        g = pairwise_d_sums-2*cross_costs\n",
    "        #print(g)\n",
    "\n",
    "            ## something is going wrong after the first iteration here - check if the next iteration works..\n",
    "        x, y = g.shape\n",
    "        g_max_temp = np.argmax(g)\n",
    "        i = g_max_temp // y\n",
    "        j = g_max_temp % y\n",
    "\n",
    "        index1 = partition1_indices[i]\n",
    "        index2 = partition2_indices[j]\n",
    "\n",
    "        a_out[it] = index1\n",
    "        b_out[it] = index2\n",
    "        g_out[it] = g[i,j]\n",
    "        #print(g[i,j])\n",
    "\n",
    "        labeling_mask[index1] = 1\n",
    "        labeling_mask[index2] = 1\n",
    "        labeling_temp = ma.masked_array(labeling_temp, mask = labeling_mask)\n",
    "\n",
    "    cumulative_sum = np.cumsum(g_out)\n",
    "    k = np.argmax(cumulative_sum)\n",
    "    gmax = cumulative_sum[k]\n",
    "    if gmax > 0:\n",
    "        ra = a_out[:k+1].astype(int)\n",
    "        rb = b_out[:k+1].astype(int)\n",
    "        labeling[ra], labeling[rb] = labeling[rb], labeling[ra]\n",
    "        return gmax\n",
    "    else:\n",
    "        return 0\n",
    "    \n",
    "def full_kl_step(labeling, matrix, c):\n",
    "    num_clusters = len(set(labeling))\n",
    "    order = np.random.permutation(num_clusters ** 2)\n",
    "    impr = 0\n",
    "    for o in order:\n",
    "        cluster_1, cluster_2 = o // num_clusters, o % num_clusters\n",
    "        impr+=kernighan_lin_step(labeling, matrix, cluster_1, cluster_2, c)\n",
    "    return impr\n",
    "    \n",
    "# find k which maximizes the sum g_out[0], g_out[1]... g_out[k]\n",
    "# if this sum is > 0:\n",
    "#Exchange a_out[0] with b_out[0] up until k\n",
    "# repeat from HERE until g_max <=0"
   ]
  },
  {
   "cell_type": "code",
   "execution_count": 503,
   "id": "36cd90e1-9eed-42b0-89bd-d9cc6f21d642",
   "metadata": {},
   "outputs": [],
   "source": [
    "def evaluate_cut(matrix, labeling, c):\n",
    "    value = 0\n",
    "    for i in range(matrix.shape[0]):\n",
    "        for j in range(matrix.shape[1]):\n",
    "            if labeling[i] != labeling[j + matrix.shape[0]]:\n",
    "                if matrix[i, j]:\n",
    "                    value += 1\n",
    "                else:\n",
    "                    value += c\n",
    "    return value\n",
    "\n",
    "def run_KL(labeling, matrix, c):\n",
    "    tot = 0\n",
    "    with tqdm() as p:\n",
    "        while True:\n",
    "            impr = full_kl_step(labeling, matrix, c)\n",
    "            tot += impr\n",
    "            p.set_postfix({\n",
    "                    'tot_impr': tot,\n",
    "                    'last_impr': impr,\n",
    "                    'loss': evaluate_cut(matrix, labeling, c)\n",
    "            })\n",
    "            p.update()\n",
    "            if impr==0:\n",
    "                break"
   ]
  },
  {
   "cell_type": "code",
   "execution_count": 504,
   "id": "d10c968b-d1f8-41a1-ba86-90713e4a7dce",
   "metadata": {},
   "outputs": [
    {
     "name": "stderr",
     "output_type": "stream",
     "text": [
      "2it [00:00, 262.11it/s, tot_impr=3, last_impr=0, loss=2]\n"
     ]
    }
   ],
   "source": [
    "labeling = np.array([0, 0, 0, 1, 1, 1, 1, 0])\n",
    "\n",
    "run_KL(labeling, matrix, 0)"
   ]
  },
  {
   "cell_type": "code",
   "execution_count": 510,
   "id": "d43a9e6f-7305-4595-8a85-92fd77ed2b9e",
   "metadata": {},
   "outputs": [
    {
     "name": "stderr",
     "output_type": "stream",
     "text": [
      "2it [00:00, 280.16it/s, tot_impr=3, last_impr=0, loss=2]\n"
     ]
    },
    {
     "data": {
      "text/html": [
       "<div>\n",
       "<style scoped>\n",
       "    .dataframe tbody tr th:only-of-type {\n",
       "        vertical-align: middle;\n",
       "    }\n",
       "\n",
       "    .dataframe tbody tr th {\n",
       "        vertical-align: top;\n",
       "    }\n",
       "\n",
       "    .dataframe thead th {\n",
       "        text-align: right;\n",
       "    }\n",
       "</style>\n",
       "<table border=\"1\" class=\"dataframe\">\n",
       "  <thead>\n",
       "    <tr style=\"text-align: right;\">\n",
       "      <th></th>\n",
       "      <th>0</th>\n",
       "      <th>description</th>\n",
       "      <th>is_gene</th>\n",
       "    </tr>\n",
       "  </thead>\n",
       "  <tbody>\n",
       "    <tr>\n",
       "      <th>0</th>\n",
       "      <td>1</td>\n",
       "      <td>G1</td>\n",
       "      <td>True</td>\n",
       "    </tr>\n",
       "    <tr>\n",
       "      <th>1</th>\n",
       "      <td>0</td>\n",
       "      <td>G2</td>\n",
       "      <td>True</td>\n",
       "    </tr>\n",
       "    <tr>\n",
       "      <th>2</th>\n",
       "      <td>0</td>\n",
       "      <td>G3</td>\n",
       "      <td>True</td>\n",
       "    </tr>\n",
       "    <tr>\n",
       "      <th>3</th>\n",
       "      <td>1</td>\n",
       "      <td>G4</td>\n",
       "      <td>True</td>\n",
       "    </tr>\n",
       "    <tr>\n",
       "      <th>4</th>\n",
       "      <td>1</td>\n",
       "      <td>G5</td>\n",
       "      <td>True</td>\n",
       "    </tr>\n",
       "    <tr>\n",
       "      <th>5</th>\n",
       "      <td>0</td>\n",
       "      <td>P1</td>\n",
       "      <td>False</td>\n",
       "    </tr>\n",
       "    <tr>\n",
       "      <th>6</th>\n",
       "      <td>1</td>\n",
       "      <td>P2</td>\n",
       "      <td>False</td>\n",
       "    </tr>\n",
       "    <tr>\n",
       "      <th>7</th>\n",
       "      <td>0</td>\n",
       "      <td>P3</td>\n",
       "      <td>False</td>\n",
       "    </tr>\n",
       "  </tbody>\n",
       "</table>\n",
       "</div>"
      ],
      "text/plain": [
       "   0 description  is_gene\n",
       "0  1          G1     True\n",
       "1  0          G2     True\n",
       "2  0          G3     True\n",
       "3  1          G4     True\n",
       "4  1          G5     True\n",
       "5  0          P1    False\n",
       "6  1          P2    False\n",
       "7  0          P3    False"
      ]
     },
     "execution_count": 510,
     "metadata": {},
     "output_type": "execute_result"
    }
   ],
   "source": [
    "get_kernighan_lin_clusters('./examples/test_dict.npy', 2, 0)"
   ]
  },
  {
   "cell_type": "code",
   "execution_count": 521,
   "id": "a4d3e07d-c0ef-4a3b-91c6-588ec3b95829",
   "metadata": {},
   "outputs": [
    {
     "name": "stderr",
     "output_type": "stream",
     "text": [
      "2it [00:00, 306.76it/s, tot_impr=3, last_impr=0, loss=2]\n"
     ]
    },
    {
     "data": {
      "text/html": [
       "<div>\n",
       "<style scoped>\n",
       "    .dataframe tbody tr th:only-of-type {\n",
       "        vertical-align: middle;\n",
       "    }\n",
       "\n",
       "    .dataframe tbody tr th {\n",
       "        vertical-align: top;\n",
       "    }\n",
       "\n",
       "    .dataframe thead th {\n",
       "        text-align: right;\n",
       "    }\n",
       "</style>\n",
       "<table border=\"1\" class=\"dataframe\">\n",
       "  <thead>\n",
       "    <tr style=\"text-align: right;\">\n",
       "      <th></th>\n",
       "      <th>0</th>\n",
       "      <th>description</th>\n",
       "      <th>is_gene</th>\n",
       "    </tr>\n",
       "  </thead>\n",
       "  <tbody>\n",
       "    <tr>\n",
       "      <th>0</th>\n",
       "      <td>1</td>\n",
       "      <td>G1</td>\n",
       "      <td>True</td>\n",
       "    </tr>\n",
       "    <tr>\n",
       "      <th>1</th>\n",
       "      <td>0</td>\n",
       "      <td>G2</td>\n",
       "      <td>True</td>\n",
       "    </tr>\n",
       "    <tr>\n",
       "      <th>2</th>\n",
       "      <td>0</td>\n",
       "      <td>G3</td>\n",
       "      <td>True</td>\n",
       "    </tr>\n",
       "    <tr>\n",
       "      <th>3</th>\n",
       "      <td>1</td>\n",
       "      <td>G4</td>\n",
       "      <td>True</td>\n",
       "    </tr>\n",
       "    <tr>\n",
       "      <th>4</th>\n",
       "      <td>1</td>\n",
       "      <td>G5</td>\n",
       "      <td>True</td>\n",
       "    </tr>\n",
       "    <tr>\n",
       "      <th>5</th>\n",
       "      <td>0</td>\n",
       "      <td>P1</td>\n",
       "      <td>False</td>\n",
       "    </tr>\n",
       "    <tr>\n",
       "      <th>6</th>\n",
       "      <td>1</td>\n",
       "      <td>P2</td>\n",
       "      <td>False</td>\n",
       "    </tr>\n",
       "    <tr>\n",
       "      <th>7</th>\n",
       "      <td>0</td>\n",
       "      <td>P3</td>\n",
       "      <td>False</td>\n",
       "    </tr>\n",
       "  </tbody>\n",
       "</table>\n",
       "</div>"
      ],
      "text/plain": [
       "   0 description  is_gene\n",
       "0  1          G1     True\n",
       "1  0          G2     True\n",
       "2  0          G3     True\n",
       "3  1          G4     True\n",
       "4  1          G5     True\n",
       "5  0          P1    False\n",
       "6  1          P2    False\n",
       "7  0          P3    False"
      ]
     },
     "execution_count": 521,
     "metadata": {},
     "output_type": "execute_result"
    }
   ],
   "source": [
    "get_kernighan_lin_clusters('./examples/test_dict.npy', 2, 0)"
   ]
  },
  {
   "cell_type": "code",
   "execution_count": 508,
   "id": "349af607-d89b-412d-bbc7-726cc0ab2e49",
   "metadata": {},
   "outputs": [],
   "source": [
    "def get_kernighan_lin_clusters(path, threshold, C):\n",
    "    '''\n",
    "    returns pandas dataframe annotating each gene and pathway to a cluster, based on pathway-gene dictionary and args\n",
    "    Args:\n",
    "        path str\n",
    "            path to pathway-gene dictionary as ndarray\n",
    "        threshold int\n",
    "            number of genes per cluster. Min = 1, Max = total number of genes and pathways\n",
    "        C float\n",
    "    '''\n",
    "    mat = get_gene_pathway_matrix(path)\n",
    "    pathway_names = mat.index\n",
    "    gene_names = mat.columns\n",
    "    matrix = np.ascontiguousarray(mat.values.T)\n",
    "    labeling = np.array([0, 0, 0, 1, 1, 1, 1, 0])\n",
    "    run_KL(labeling, matrix, 0)\n",
    "    frame = pd.DataFrame(labeling)\n",
    "    frame['description'] = np.concatenate([gene_names, pathway_names])\n",
    "    frame['is_gene'] = np.arange(frame.shape[0]) < matrix.shape[0]\n",
    "    return frame"
   ]
  },
  {
   "cell_type": "code",
   "execution_count": 501,
   "id": "91da5562-f683-406e-a938-22efc6ec1e7b",
   "metadata": {},
   "outputs": [
    {
     "name": "stderr",
     "output_type": "stream",
     "text": [
      "2it [00:00, 169.59it/s, tot_impr=3, last_impr=0, loss=2]\n"
     ]
    }
   ],
   "source": [
    "labeling = np.array([0, 0, 0, 1, 1, 1, 1, 0])\n",
    "\n",
    "tot = 0\n",
    "with tqdm() as p:\n",
    "    while True:\n",
    "        impr = full_kl_step(labeling, matrix, 0)\n",
    "        tot += impr\n",
    "        p.set_postfix({\n",
    "                'tot_impr': tot,\n",
    "                'last_impr': impr,\n",
    "                'loss': evaluate_cut(matrix, labeling, c)\n",
    "        })\n",
    "        p.update()\n",
    "        if impr==0:\n",
    "            break"
   ]
  },
  {
   "cell_type": "code",
   "execution_count": null,
   "id": "cc930fb3-62d6-4f41-93b5-f25eb24df34c",
   "metadata": {},
   "outputs": [],
   "source": [
    "# understand what the loss is and why we are summing g_maxes --> it seems like we are indirectly monitoring the loss?\n",
    "# annotate these functions\n",
    "# write tests\n",
    "# compare outputs on larger clustering example\n",
    "# read up on bipartite graph clustering - does it make more sense to be doing this without the size constraints (see CMU lecture)?\n",
    "\n",
    "evaluate_cut"
   ]
  },
  {
   "cell_type": "code",
   "execution_count": 495,
   "id": "508b454b-6610-4390-b233-b810cc4eb252",
   "metadata": {},
   "outputs": [
    {
     "data": {
      "text/plain": [
       "array([1, 0, 0, 1, 1, 0, 1, 0])"
      ]
     },
     "execution_count": 495,
     "metadata": {},
     "output_type": "execute_result"
    }
   ],
   "source": [
    "# return all the other params like so in function above:\n",
    "    tot = 0\n",
    "    with tqdm() as p:\n",
    "        while True:\n",
    "            impr = full_kl_step(matrix, labeling, c)\n",
    "            tot += impr\n",
    "            p.set_postfix({\n",
    "                'tot_impr': tot,\n",
    "                'last_impr': impr,\n",
    "                'loss': evaluate_cut(matrix, labeling, c)\n",
    "            })\n",
    "            p.update()\n",
    "            if impr == 0:\n",
    "                break\n",
    "    return tot"
   ]
  },
  {
   "cell_type": "code",
   "execution_count": 487,
   "id": "f96ce9ef-83e0-4fcb-8ee7-c81f0d668f25",
   "metadata": {},
   "outputs": [
    {
     "data": {
      "text/plain": [
       "3.0"
      ]
     },
     "execution_count": 487,
     "metadata": {},
     "output_type": "execute_result"
    }
   ],
   "source": [
    "labeling = np.array([0, 0, 0, 1, 1, 1, 1, 0])\n",
    "\n",
    "full_kl_step(matrix, labeling, 0)"
   ]
  },
  {
   "cell_type": "code",
   "execution_count": 476,
   "id": "657bf01e-da5b-4961-a0b3-69986e877a9f",
   "metadata": {},
   "outputs": [
    {
     "data": {
      "text/plain": [
       "array([1, 0, 0, 1, 1, 0, 1, 0])"
      ]
     },
     "execution_count": 476,
     "metadata": {},
     "output_type": "execute_result"
    }
   ],
   "source": [
    "labeling"
   ]
  },
  {
   "cell_type": "code",
   "execution_count": 471,
   "id": "256070f9-4c0e-41a3-b8f1-7db6b5ec55ef",
   "metadata": {},
   "outputs": [
    {
     "name": "stdout",
     "output_type": "stream",
     "text": [
      "***\n",
      "0\n",
      "[[ 2.  1.  3. -1.]\n",
      " [ 0. -1.  1. -1.]\n",
      " [ 1.  0.  2.  0.]\n",
      " [-2. -1.  3. -1.]]\n",
      "3.0\n",
      "***\n",
      "1\n",
      "[[-inf -inf -inf -inf]\n",
      " [ -1.  -1. -inf  -4.]\n",
      " [ -3.  -1. -inf  -4.]\n",
      " [  0.  -2. -inf  -3.]]\n",
      "0.0\n",
      "***\n",
      "2\n",
      "[[-inf -inf -inf -inf]\n",
      " [-inf  -1. -inf  -2.]\n",
      " [-inf  -2. -inf  -1.]\n",
      " [-inf -inf -inf -inf]]\n",
      "-1.0\n",
      "***\n",
      "3\n",
      "[[-inf -inf -inf -inf]\n",
      " [-inf -inf -inf -inf]\n",
      " [-inf -inf -inf  -1.]\n",
      " [-inf -inf -inf -inf]]\n",
      "-1.0\n"
     ]
    },
    {
     "data": {
      "text/plain": [
       "(3.0, 0)"
      ]
     },
     "execution_count": 471,
     "metadata": {},
     "output_type": "execute_result"
    }
   ],
   "source": [
    "labeling = np.array([0, 0, 0, 1, 1, 1, 1, 0])\n",
    "\n",
    "kernighan_lin_step(matrix, labeling, 0, 1, 0)"
   ]
  },
  {
   "cell_type": "code",
   "execution_count": 472,
   "id": "f4359d31-06ed-4edf-a19b-6580606fdc5e",
   "metadata": {},
   "outputs": [
    {
     "data": {
      "text/plain": [
       "array([1, 0, 0, 1, 1, 0, 1, 0])"
      ]
     },
     "execution_count": 472,
     "metadata": {},
     "output_type": "execute_result"
    }
   ],
   "source": [
    "labeling"
   ]
  },
  {
   "cell_type": "code",
   "execution_count": 520,
   "id": "bc07fb4c-b0fa-458b-9c81-e3a00ba2a3ae",
   "metadata": {},
   "outputs": [],
   "source": [
    "# Credit: Guillaume Leclerc & Wikipedia \n",
    "\n",
    "import numpy as np\n",
    "import pandas as pd\n",
    "import matplotlib.pyplot as plt\n",
    "from tqdm import tqdm\n",
    "from tqdm.contrib.concurrent import process_map\n",
    "from functools import partial\n",
    "import numba as nb\n",
    "from pdb import set_trace\n",
    "import ipdb\n",
    "\n",
    "def evaluate_cut(matrix, labeling, c):\n",
    "    value = 0\n",
    "    for i in range(matrix.shape[0]):\n",
    "        for j in range(matrix.shape[1]):\n",
    "            if labeling[i] != labeling[j + matrix.shape[0]]:\n",
    "                if matrix[i, j]:\n",
    "                    value += 1\n",
    "                else:\n",
    "                    value += c\n",
    "    return value\n",
    "            \n",
    "def create_random_labeling(matrix, threshold):\n",
    "    '''\n",
    "    **\n",
    "    returns ndarray grouping pathways and genes into clusters based on threshold\n",
    "    Args:\n",
    "        matrix ndarray\n",
    "            gene x pathway matrix\n",
    "        threshold int\n",
    "            number of genes per cluster. Min = 1, Max = total number of genes and pathways\n",
    "    '''\n",
    "    N = np.sum(matrix.shape)\n",
    "    num_clusters = np.ceil(N / threshold)\n",
    "    new_threshold = N / num_clusters\n",
    "    labeling = (np.arange(N) / new_threshold).astype('int')\n",
    "    np.random.shuffle(labeling)\n",
    "    return labeling\n",
    "\n",
    "#@nb.njit()\n",
    "def get_cost(matrix, i, j, c):\n",
    "    '''\n",
    "    returns \n",
    "    Args:\n",
    "        matrix ndarray\n",
    "            gene x pathway matrix\n",
    "        labeling 1D ndarray\n",
    "        cluster_1 1D ndarray\n",
    "            new labels for cluster_1\n",
    "        cluster_2 1D ndarray\n",
    "            new labels for cluster_2\n",
    "        c float (0<= c <= 1)\n",
    "            probability of false negative pathway-gene association\n",
    "    '''\n",
    "    if j < i:\n",
    "        i, j = j, i\n",
    "    if i >= matrix.shape[0]: # if i >matrix.shape[0], both i and j will index columns, so connection is zero\n",
    "        return 0\n",
    "    if j < matrix.shape[0]: # if j<matrix.shape[0], both j and i will index rows, so connection is zero\n",
    "        return 0\n",
    "    \n",
    "    j -= matrix.shape[0] # j must index columns\n",
    "    \n",
    "    return max(matrix[i, j], c) # if connection is 0, return the probability of a false negative\n",
    "\n",
    "#@nb.njit()\n",
    "def cost_to_other(matrix, source, others, c):\n",
    "    #set_trace()\n",
    "    costs = np.zeros_like(source)\n",
    "    for i, a in enumerate(source):\n",
    "        for b in others:\n",
    "            costs[i] += get_cost(matrix, a, b, c)\n",
    "    return costs\n",
    "\n",
    "def get_cross_costs(matrix, A, B, c):\n",
    "    result = np.zeros((len(A), len(B)))\n",
    "    for i, a in enumerate(A):\n",
    "        for j, b in enumerate(B):\n",
    "            result[i, j] = get_cost(matrix, a, b, c)\n",
    "    return result\n",
    "\n",
    "def get_pairwise_improvements(matrix, labeling, a, b, c):\n",
    "    nodes_a = np.where(labeling == a)[0]\n",
    "    nodes_b = np.where(labeling == b)[0]\n",
    "    internal_a = cost_to_other(matrix, nodes_a, nodes_a, c)\n",
    "    internal_b = cost_to_other(matrix, nodes_b, nodes_b, c)\n",
    "    ext_a_to_b = cost_to_other(matrix, nodes_a, nodes_b, c)\n",
    "    ext_b_to_a = cost_to_other(matrix, nodes_b, nodes_a, c)\n",
    "    D_a = ext_a_to_b - internal_a # want to maximize internal costs and minimize external costs\n",
    "    D_b = ext_b_to_a - internal_b\n",
    "    cross_costs = get_cross_costs(matrix, nodes_a, nodes_b, c)\n",
    "    all_improvements = np.zeros_like(cross_costs)\n",
    "    for i in nb.prange(all_improvements.shape[0]):\n",
    "        for j in range(all_improvements.shape[1]):\n",
    "            all_improvements[i, j] = D_a[i] + D_b[j] - 2 * cross_costs[i , j] # cont here\n",
    "    return all_improvements, nodes_a, nodes_b\n",
    "\n",
    "def create_numba_int_list():\n",
    "    l = List()\n",
    "    l.append(32)\n",
    "    l.pop()\n",
    "    return l\n",
    "\n",
    "def discard_done_swaps(all_improvements, done_a, done_b):\n",
    "    for a in done_a:\n",
    "        all_improvements[a, :] = -np.inf\n",
    "    for b in done_b:\n",
    "        all_improvements[:, b] = -np.inf\n",
    "\n",
    "def kernighan_lin_step(matrix, labeling, cluster_1, cluster_2, c):\n",
    "    '''\n",
    "    returns \n",
    "    Args:\n",
    "        matrix ndarray\n",
    "            gene x pathway matrix\n",
    "        labeling 1D ndarray\n",
    "        cluster_1 1D ndarray\n",
    "            new labels for cluster_1\n",
    "        cluster_2 1D ndarray\n",
    "            new labels for cluster_2\n",
    "        c float (0<= c <= 1)\n",
    "            probability of false negative pathway-gene association\n",
    "    '''\n",
    "    temp_labeling = labeling.copy()\n",
    "    \n",
    "    A = np.where(labeling == cluster_1)[0]\n",
    "    B = np.where(labeling == cluster_2)[0]\n",
    "    \n",
    "    done_a = []\n",
    "    done_b = []\n",
    "    \n",
    "    g = 0\n",
    "    gs = []\n",
    "    swaps = []\n",
    "    \n",
    "    for _ in range(min(len(A), len(B))):\n",
    "        all_improvements, A, B = get_pairwise_improvements(matrix, temp_labeling, cluster_1, cluster_2, c)\n",
    "        discard_done_swaps(all_improvements, done_a, done_b)\n",
    "        \n",
    "        ix = np.argmax(all_improvements)\n",
    "        a, b = ix // all_improvements.shape[1], ix % all_improvements.shape[1]\n",
    "        done_a.append(a)\n",
    "        done_b.append(b)\n",
    "        ra = A[a]\n",
    "        rb = B[b]\n",
    "        \n",
    "        swaps.append((ra, rb))\n",
    "        g += all_improvements[a, b]\n",
    "        gs.append(g)\n",
    "        temp_labeling[ra], temp_labeling[rb] = temp_labeling[rb], temp_labeling[ra]\n",
    "            \n",
    "    num_steps = np.argmax(np.array(gs))\n",
    "    if gs[num_steps] > 0:\n",
    "        for i in range(num_steps + 1):\n",
    "            ra, rb = swaps[i]\n",
    "            labeling[ra], labeling[rb] = labeling[rb], labeling[ra]\n",
    "\n",
    "        return gs[num_steps]\n",
    "    else:\n",
    "        return 0\n",
    "    \n",
    "def full_kl_step(matrix, labeling, c):\n",
    "    '''\n",
    "    returns pandas dataframe annotating each gene and pathway to a cluster, based on pathway-gene dictionary and args\n",
    "    Args:\n",
    "        matrix ndarray\n",
    "            gene x pathway matrix\n",
    "        threshold int\n",
    "            number of genes per cluster. Min = 1, Max = total number of genes and pathways\n",
    "    '''\n",
    "    num_clusters = len(set(labeling))\n",
    "    order = np.random.permutation(num_clusters ** 2)\n",
    "    \n",
    "    impr = 0\n",
    "    for o in order:\n",
    "        cluster_1, cluster_2 = o // num_clusters, o % num_clusters # // floor division, % modulus\n",
    "        impr += kernighan_lin_step(matrix, labeling, cluster_1, cluster_2, c)\n",
    "    \n",
    "    return impr\n",
    "        \n",
    "def kernighan_lin(matrix, labeling, c):\n",
    "    '''\n",
    "    iteratively performs kernighan lin steps\n",
    "    Args:\n",
    "        matrix ndarray\n",
    "            gene x pathway matrix\n",
    "        threshold int\n",
    "            number of genes per cluster. Min = 1, Max = total number of genes and pathways\n",
    "    '''\n",
    "    tot = 0\n",
    "    with tqdm() as p:\n",
    "        while True:\n",
    "            impr = full_kl_step(matrix, labeling, c)\n",
    "            tot += impr\n",
    "            p.set_postfix({\n",
    "                'tot_impr': tot,\n",
    "                'last_impr': impr,\n",
    "                'loss': evaluate_cut(matrix, labeling, c)\n",
    "            })\n",
    "            p.update()\n",
    "            if impr == 0:\n",
    "                break\n",
    "    return tot\n",
    "    \n",
    "def score_for_thres(matrix, thres, c):\n",
    "    '''\n",
    "    returns pandas dataframe annotating each gene and pathway to a cluster, based on pathway-gene dictionary and args\n",
    "    Args:\n",
    "        path str\n",
    "            path to pathway-gene dictionary as ndarray\n",
    "        threshold int\n",
    "            number of genes per cluster. Min = 1, Max = total number of genes and pathways\n",
    "        C float\n",
    "    '''\n",
    "    #labeling = create_random_labeling(matrix, thres)\n",
    "    labeling = np.array([0, 0, 0, 1, 1, 1, 1, 0])\n",
    "\n",
    "    kernighan_lin(matrix, labeling, c)\n",
    "    return evaluate_cut(matrix, labeling, c), labeling\n",
    "\n",
    "def get_kernighan_lin_clusters(path, threshold, C):\n",
    "    '''\n",
    "    returns pandas dataframe annotating each gene and pathway to a cluster, based on pathway-gene dictionary and args\n",
    "    Args:\n",
    "        path str\n",
    "            path to pathway-gene dictionary as ndarray\n",
    "        threshold int\n",
    "            number of genes per cluster. Min = 1, Max = total number of genes and pathways\n",
    "        C float\n",
    "    '''\n",
    "    mat = get_gene_pathway_matrix(path)\n",
    "    pathway_names = mat.index\n",
    "    gene_names = mat.columns\n",
    "    matrix = np.ascontiguousarray(mat.values.T)\n",
    "    results = score_for_thres(matrix, threshold, C)\n",
    "    frame = pd.DataFrame(results[1])\n",
    "    frame['description'] = np.concatenate([gene_names, pathway_names])\n",
    "    frame['is_gene'] = np.arange(frame.shape[0]) < matrix.shape[0]\n",
    "    return frame\n",
    "\n",
    "  "
   ]
  },
  {
   "cell_type": "markdown",
   "id": "bb7c0208-71b2-4460-8894-cc1feb66e1a7",
   "metadata": {},
   "source": [
    "#### below is scrap"
   ]
  },
  {
   "cell_type": "code",
   "execution_count": 200,
   "id": "47a5638d-3413-4d28-804c-a612c5291243",
   "metadata": {},
   "outputs": [
    {
     "name": "stderr",
     "output_type": "stream",
     "text": [
      "100%|██████████| 10000/10000 [00:33<00:00, 295.93it/s]\n"
     ]
    }
   ],
   "source": [
    "out = list()\n",
    "for i in tqdm(range(10000)):\n",
    "    out.append(full_kl_step(labeling, matrix, 0))"
   ]
  },
  {
   "cell_type": "code",
   "execution_count": 204,
   "id": "16753136-dfcc-4723-a444-c4919fb44d1c",
   "metadata": {},
   "outputs": [
    {
     "data": {
      "text/plain": [
       "[<matplotlib.lines.Line2D at 0x7f144a1a07c0>]"
      ]
     },
     "execution_count": 204,
     "metadata": {},
     "output_type": "execute_result"
    },
    {
     "data": {
      "image/png": "[encoded data removed]",
      "text/plain": [
       "<Figure size 432x288 with 1 Axes>"
      ]
     },
     "metadata": {
      "needs_background": "light"
     },
     "output_type": "display_data"
    }
   ],
   "source": [
    "import matplotlib.pyplot as plt\n",
    "plt.plot(range(10000), out)"
   ]
  },
  {
   "cell_type": "code",
   "execution_count": 199,
   "id": "7bfdee5b-2c29-4664-8579-8969dbc38e88",
   "metadata": {},
   "outputs": [
    {
     "data": {
      "text/plain": [
       "18.0"
      ]
     },
     "execution_count": 199,
     "metadata": {},
     "output_type": "execute_result"
    }
   ],
   "source": [
    "np.min(out)"
   ]
  },
  {
   "cell_type": "code",
   "execution_count": 71,
   "id": "91bccd9a-caad-45d7-8eaa-3bd8347b9953",
   "metadata": {},
   "outputs": [],
   "source": []
  },
  {
   "cell_type": "code",
   "execution_count": null,
   "id": "e50a97ab-ca3a-4a69-90c5-ccd411391217",
   "metadata": {},
   "outputs": [],
   "source": []
  },
  {
   "cell_type": "code",
   "execution_count": 70,
   "id": "81a94f3f-8cfa-4482-ad3b-b6f9254be712",
   "metadata": {
    "tags": []
   },
   "outputs": [],
   "source": []
  },
  {
   "cell_type": "code",
   "execution_count": 223,
   "id": "40eef0db-c75b-486d-a037-95b945a8bf4f",
   "metadata": {},
   "outputs": [
    {
     "data": {
      "text/plain": [
       "array([0, 0])"
      ]
     },
     "execution_count": 223,
     "metadata": {},
     "output_type": "execute_result"
    }
   ],
   "source": []
  },
  {
   "cell_type": "code",
   "execution_count": 224,
   "id": "9c73a6f5-13f4-4292-9c73-98b2845f3cab",
   "metadata": {},
   "outputs": [
    {
     "data": {
      "text/plain": [
       "array([1, 1])"
      ]
     },
     "execution_count": 224,
     "metadata": {},
     "output_type": "execute_result"
    }
   ],
   "source": [
    " #= 1"
   ]
  },
  {
   "cell_type": "code",
   "execution_count": 219,
   "id": "6d63ced7-6568-4e10-af08-2c4d84fb7151",
   "metadata": {},
   "outputs": [
    {
     "ename": "IndexError",
     "evalue": "arrays used as indices must be of integer (or boolean) type",
     "output_type": "error",
     "traceback": [
      "\u001b[0;31m---------------------------------------------------------------------------\u001b[0m",
      "\u001b[0;31mIndexError\u001b[0m                                Traceback (most recent call last)",
      "Input \u001b[0;32mIn [219]\u001b[0m, in \u001b[0;36m<cell line: 1>\u001b[0;34m()\u001b[0m\n\u001b[0;32m----> 1\u001b[0m \u001b[43mlabeling\u001b[49m\u001b[43m[\u001b[49m\u001b[43ma_out\u001b[49m\u001b[43m[\u001b[49m\u001b[43m:\u001b[49m\u001b[43mk\u001b[49m\u001b[38;5;241;43m+\u001b[39;49m\u001b[38;5;241;43m1\u001b[39;49m\u001b[43m]\u001b[49m\u001b[43m]\u001b[49m\n",
      "\u001b[0;31mIndexError\u001b[0m: arrays used as indices must be of integer (or boolean) type"
     ]
    }
   ],
   "source": [
    "labeling[a_out[:k+1]]"
   ]
  },
  {
   "cell_type": "code",
   "execution_count": 216,
   "id": "0273652a-d4d6-4c68-b347-d84d62ca54e7",
   "metadata": {},
   "outputs": [],
   "source": [
    "cumulative_sum = np.cumsum(g_out)\n",
    "k = np.argmax(cumulative_sum)"
   ]
  },
  {
   "cell_type": "code",
   "execution_count": 217,
   "id": "80d14ec2-977f-4ce8-bff6-5b702b1289dd",
   "metadata": {},
   "outputs": [
    {
     "data": {
      "text/plain": [
       "1"
      ]
     },
     "execution_count": 217,
     "metadata": {},
     "output_type": "execute_result"
    }
   ],
   "source": [
    "k"
   ]
  },
  {
   "cell_type": "code",
   "execution_count": 205,
   "id": "6e6133fa-17b1-42b6-8579-13def46536dc",
   "metadata": {},
   "outputs": [
    {
     "data": {
      "text/plain": [
       "array([0., 2., 1., 7.])"
      ]
     },
     "execution_count": 205,
     "metadata": {},
     "output_type": "execute_result"
    }
   ],
   "source": [
    "# large gmax means large external cost\n",
    "# why do we want to sum across all the g_outs and find k which maximizes that sum?"
   ]
  },
  {
   "cell_type": "code",
   "execution_count": 212,
   "id": "d41d40da-7e74-4fb8-86d4-55bb467ea042",
   "metadata": {},
   "outputs": [
    {
     "data": {
      "text/plain": [
       "1"
      ]
     },
     "execution_count": 212,
     "metadata": {},
     "output_type": "execute_result"
    }
   ],
   "source": []
  },
  {
   "cell_type": "code",
   "execution_count": 206,
   "id": "b23b7f92-d896-49e4-8ac7-e24ca8b6083d",
   "metadata": {},
   "outputs": [
    {
     "data": {
      "text/plain": [
       "array([5., 3., 4., 6.])"
      ]
     },
     "execution_count": 206,
     "metadata": {},
     "output_type": "execute_result"
    }
   ],
   "source": [
    "b_out"
   ]
  },
  {
   "cell_type": "code",
   "execution_count": 207,
   "id": "ee874fa2-d686-4a56-b94d-321694a9c9e1",
   "metadata": {},
   "outputs": [
    {
     "data": {
      "text/plain": [
       "array([2., 3., 0., 0.])"
      ]
     },
     "execution_count": 207,
     "metadata": {},
     "output_type": "execute_result"
    }
   ],
   "source": [
    "g_out"
   ]
  },
  {
   "cell_type": "code",
   "execution_count": 209,
   "id": "3255fdde-2303-47f8-a7c7-7b05faf03c53",
   "metadata": {},
   "outputs": [
    {
     "data": {
      "text/plain": [
       "array([], dtype=int64)"
      ]
     },
     "execution_count": 209,
     "metadata": {},
     "output_type": "execute_result"
    }
   ],
   "source": [
    "partition1_indices"
   ]
  },
  {
   "cell_type": "code",
   "execution_count": 178,
   "id": "7fcde336-326d-4381-a165-30a3ce48a7ad",
   "metadata": {},
   "outputs": [
    {
     "data": {
      "text/plain": [
       "array([0., 0., 0., 0., 0., 0., 0., 0.])"
      ]
     },
     "execution_count": 178,
     "metadata": {},
     "output_type": "execute_result"
    }
   ],
   "source": [
    "a_out"
   ]
  },
  {
   "cell_type": "code",
   "execution_count": 181,
   "id": "5c634713-c79d-4695-9900-ae7a55f2ec53",
   "metadata": {},
   "outputs": [
    {
     "data": {
      "text/plain": [
       "array([ 2,  0,  1,  0, -1,  3, -1,  0])"
      ]
     },
     "execution_count": 181,
     "metadata": {},
     "output_type": "execute_result"
    }
   ],
   "source": [
    "D"
   ]
  },
  {
   "cell_type": "code",
   "execution_count": 4,
   "id": "41bec08f-8cd8-45c0-aba6-42880d21154e",
   "metadata": {},
   "outputs": [],
   "source": []
  },
  {
   "cell_type": "code",
   "execution_count": 128,
   "id": "ce16d763-0643-4f69-9687-2045f3b35db3",
   "metadata": {},
   "outputs": [],
   "source": [
    "labeling_mask[partition1_indices[i]] = 1\n",
    "labeling_mask[partition2_indices[j]] = 1"
   ]
  },
  {
   "cell_type": "code",
   "execution_count": 129,
   "id": "180dba36-a6cb-4962-bc11-e6d12bbf0064",
   "metadata": {},
   "outputs": [],
   "source": [
    "labeling = ma.masked_array(labeling, mask = labeling_mask)"
   ]
  },
  {
   "cell_type": "code",
   "execution_count": 135,
   "id": "57092098-4091-4c96-a5e0-6a7b8dfae718",
   "metadata": {},
   "outputs": [],
   "source": [
    "cross_costs, partition1_indices, partition2_indices = get_cross_costs(labeling, 0, 1, matrix, 0)\n",
    "Ic = np.zeros(len(labeling), dtype = int)\n",
    "compute_internal_cost(partition1_indices, labeling, 0, matrix, Ic)\n",
    "compute_internal_cost(partition2_indices, labeling, 0, matrix, Ic)\n",
    "    \n",
    "Ec = np.zeros(len(labeling), dtype = int)\n",
    "compute_external_cost(partition1_indices, partition2_indices, cross_costs, Ec)\n",
    "    \n",
    "D = Ec-Ic"
   ]
  },
  {
   "cell_type": "code",
   "execution_count": 136,
   "id": "436d21b2-3ad4-4220-985f-e67b8023afd1",
   "metadata": {},
   "outputs": [
    {
     "data": {
      "text/plain": [
       "array([[0., 0., 0.],\n",
       "       [0., 0., 0.],\n",
       "       [1., 0., 0.]])"
      ]
     },
     "execution_count": 136,
     "metadata": {},
     "output_type": "execute_result"
    }
   ],
   "source": [
    "cross_costs"
   ]
  },
  {
   "cell_type": "code",
   "execution_count": 138,
   "id": "63332b04-7118-425e-baf1-a3c9bd6f237b",
   "metadata": {},
   "outputs": [
    {
     "data": {
      "text/plain": [
       "array([ 0, -1,  0,  0, -1,  0, -2,  0])"
      ]
     },
     "execution_count": 138,
     "metadata": {},
     "output_type": "execute_result"
    }
   ],
   "source": [
    "D"
   ]
  },
  {
   "cell_type": "code",
   "execution_count": 132,
   "id": "fadd8f3d-9431-4318-ae66-1bd2ec7354f1",
   "metadata": {},
   "outputs": [
    {
     "data": {
      "text/plain": [
       "array([3, 4, 6])"
      ]
     },
     "execution_count": 132,
     "metadata": {},
     "output_type": "execute_result"
    }
   ],
   "source": [
    "np.arange(len(labeling))[labeling == 1]"
   ]
  },
  {
   "cell_type": "code",
   "execution_count": 134,
   "id": "aacce24f-236a-4c82-b53b-6343dc2689e2",
   "metadata": {},
   "outputs": [
    {
     "data": {
      "text/plain": [
       "array([3, 4, 5, 6])"
      ]
     },
     "execution_count": 134,
     "metadata": {},
     "output_type": "execute_result"
    }
   ],
   "source": [
    "partition2_indices"
   ]
  },
  {
   "cell_type": "code",
   "execution_count": 83,
   "id": "b0b822e2-9c5c-4c26-8d5a-e385e70026b4",
   "metadata": {},
   "outputs": [],
   "source": [
    "x_indices = np.arange(x)\n",
    "y_indices = np.arange(y)"
   ]
  },
  {
   "cell_type": "code",
   "execution_count": 112,
   "id": "a7dd4c34-fce1-4926-995a-7fd9bfc02e16",
   "metadata": {},
   "outputs": [],
   "source": [
    "mask = np.zeros(len(partition1_indices))\n",
    "mask[i] = 1"
   ]
  },
  {
   "cell_type": "code",
   "execution_count": 118,
   "id": "be9a7e2a-f64e-4ae9-962f-3d8711d10156",
   "metadata": {},
   "outputs": [],
   "source": [
    "import numpy.ma as ma\n",
    "\n",
    "mask = np.zeros(len(partition1_indices))\n",
    "mask[i] = 1\n",
    "\n",
    "partition1_indices_masked = ma.masked_array(partition1_indices, mask)\n",
    "\n",
    "mask = np.zeros(len(partition2_indices))\n",
    "mask[j] = 1\n",
    "partition2_indices_masked = ma.masked_array(partition2_indices, mask)"
   ]
  },
  {
   "cell_type": "code",
   "execution_count": 124,
   "id": "590959e3-c40d-4bfc-a1c8-67ad8f9ba91e",
   "metadata": {},
   "outputs": [],
   "source": [
    "mask = np.zeros(cross_costs.shape)\n",
    "mask[i] = 1\n",
    "mask[:,j] = 1\n",
    "cross_costs_masked = ma.masked_array(cross_costs, mask)"
   ]
  },
  {
   "cell_type": "code",
   "execution_count": 125,
   "id": "88f110a4-631c-4e6f-ab82-08537987dd1b",
   "metadata": {},
   "outputs": [
    {
     "data": {
      "text/plain": [
       "masked_array(\n",
       "  data=[[--, --, --, --],\n",
       "        [0.0, 0.0, --, 0.0],\n",
       "        [0.0, 0.0, --, 0.0],\n",
       "        [1.0, 0.0, --, 0.0]],\n",
       "  mask=[[ True,  True,  True,  True],\n",
       "        [False, False,  True, False],\n",
       "        [False, False,  True, False],\n",
       "        [False, False,  True, False]],\n",
       "  fill_value=1e+20)"
      ]
     },
     "execution_count": 125,
     "metadata": {},
     "output_type": "execute_result"
    }
   ],
   "source": [
    "cross_costs_masked"
   ]
  },
  {
   "cell_type": "code",
   "execution_count": 120,
   "id": "19bbcc02-aa1e-456e-bb8d-b50bb122d17c",
   "metadata": {},
   "outputs": [
    {
     "data": {
      "text/plain": [
       "masked_array(data=[3, 4, --, 6],\n",
       "             mask=[False, False,  True, False],\n",
       "       fill_value=999999)"
      ]
     },
     "execution_count": 120,
     "metadata": {},
     "output_type": "execute_result"
    }
   ],
   "source": [
    "partition2_indices_masked"
   ]
  },
  {
   "cell_type": "code",
   "execution_count": 106,
   "id": "f8c1d327-44b7-47ff-8a03-767ad915ae9b",
   "metadata": {},
   "outputs": [
    {
     "data": {
      "text/plain": [
       "4"
      ]
     },
     "execution_count": 106,
     "metadata": {},
     "output_type": "execute_result"
    }
   ],
   "source": [
    "len(partition1_indices)"
   ]
  },
  {
   "cell_type": "code",
   "execution_count": 78,
   "id": "13121482-488f-4795-90bf-7128f39b23d6",
   "metadata": {},
   "outputs": [
    {
     "data": {
      "text/plain": [
       "array([0., 0., 1., 1., 0., 0., 1., 0., 0., 0., 1., 0., 1., 0., 0., 0.])"
      ]
     },
     "execution_count": 78,
     "metadata": {},
     "output_type": "execute_result"
    }
   ],
   "source": [
    "cross_costs[mask]"
   ]
  },
  {
   "cell_type": "code",
   "execution_count": 72,
   "id": "4bf6dbf7-51ab-4b7c-a839-9fe44600397b",
   "metadata": {},
   "outputs": [],
   "source": [
    "pairwise_d_sums = np.add.outer(D[partition1_indices], D[partition2_indices])\n",
    "g = pairwise_d_sums-2*cross_costs\n",
    "x, y = g.shape\n",
    "g_max = np.argmax(g)\n",
    "i = g_max // y\n",
    "j = g_max % y"
   ]
  },
  {
   "cell_type": "code",
   "execution_count": 73,
   "id": "8d0b2a69-c1dc-4c41-ae8f-79150e2822a2",
   "metadata": {},
   "outputs": [
    {
     "ename": "IndexError",
     "evalue": "index 4 is out of bounds for axis 0 with size 4",
     "output_type": "error",
     "traceback": [
      "\u001b[0;31m---------------------------------------------------------------------------\u001b[0m",
      "\u001b[0;31mIndexError\u001b[0m                                Traceback (most recent call last)",
      "Input \u001b[0;32mIn [73]\u001b[0m, in \u001b[0;36m<cell line: 3>\u001b[0;34m()\u001b[0m\n\u001b[1;32m      1\u001b[0m a[x] \u001b[38;5;241m=\u001b[39m partition1_indices[i]\n\u001b[1;32m      2\u001b[0m b[x] \u001b[38;5;241m=\u001b[39m partition2_indices[j]\n\u001b[0;32m----> 3\u001b[0m g[x] \u001b[38;5;241m=\u001b[39m g_max\n",
      "\u001b[0;31mIndexError\u001b[0m: index 4 is out of bounds for axis 0 with size 4"
     ]
    }
   ],
   "source": [
    "a[it] = partition1_indices[i]\n",
    "b[it] = partition2_indices[j]\n",
    "g[it] = g_max\n",
    "\n",
    "# remove a and b nodes \n",
    "# update D values for remaining nodes"
   ]
  },
  {
   "cell_type": "code",
   "execution_count": null,
   "id": "c3f3de03-aa1b-457b-8e01-77451a184a8e",
   "metadata": {},
   "outputs": [],
   "source": [
    "if max_g<y:\n",
    "    i = 0\n",
    "    j = max_g\n"
   ]
  },
  {
   "cell_type": "code",
   "execution_count": 55,
   "id": "6db648af-8709-4f7f-ae04-446f1a98ee13",
   "metadata": {},
   "outputs": [],
   "source": [
    "i = 8 // y\n",
    "j = 8 % y"
   ]
  },
  {
   "cell_type": "code",
   "execution_count": 56,
   "id": "5795885c-c334-4428-98c0-f88c46f81bcd",
   "metadata": {},
   "outputs": [
    {
     "data": {
      "text/plain": [
       "0"
      ]
     },
     "execution_count": 56,
     "metadata": {},
     "output_type": "execute_result"
    }
   ],
   "source": [
    "j"
   ]
  },
  {
   "cell_type": "code",
   "execution_count": 57,
   "id": "4843a11d-6bbf-4d79-a6da-322f25ea0565",
   "metadata": {},
   "outputs": [
    {
     "data": {
      "text/plain": [
       "2"
      ]
     },
     "execution_count": 57,
     "metadata": {},
     "output_type": "execute_result"
    }
   ],
   "source": [
    "i"
   ]
  },
  {
   "cell_type": "code",
   "execution_count": 31,
   "id": "a35d6ce6-57f0-4a4e-b1e8-9d816fc61f7a",
   "metadata": {},
   "outputs": [
    {
     "data": {
      "text/plain": [
       "2"
      ]
     },
     "execution_count": 31,
     "metadata": {},
     "output_type": "execute_result"
    }
   ],
   "source": [
    "np.argmax(g)"
   ]
  },
  {
   "cell_type": "code",
   "execution_count": 34,
   "id": "87aeb36e-4f38-4d0b-b6c9-fdb73761fe12",
   "metadata": {},
   "outputs": [
    {
     "data": {
      "text/plain": [
       "array([ 2.,  1.,  3., -1.,  0., -1.,  1., -1.,  1.,  0.,  2.,  0., -2.,\n",
       "       -1.,  3., -1.])"
      ]
     },
     "execution_count": 34,
     "metadata": {},
     "output_type": "execute_result"
    }
   ],
   "source": [
    "g.ravel()"
   ]
  },
  {
   "cell_type": "code",
   "execution_count": 90,
   "id": "2fbedcc3-5237-41b9-942a-1358660e0acd",
   "metadata": {},
   "outputs": [],
   "source": [
    "def compute_costs(partition, labeling, matrix, C, internal = True):\n",
    "    '''\n",
    "    Compute internal or external cost Ic/Ec for each node in partition. Save costs in correpsonding entry of Ic vector.\n",
    "    Args\n",
    "        partition int\n",
    "            partition label for which to compute internal cost for each node in partition\n",
    "        labeling ndarray\n",
    "            output of create_random_labeling\n",
    "        matrix ndarray\n",
    "            gene x pathway\n",
    "        Ic 1D-ndarray \n",
    "            empty ndarray of length labeling\n",
    "    '''\n",
    "    partition_indices = np.arange(len(labeling))[labeling==partition]\n",
    "    x,y = matrix.shape\n",
    "    x_indices = partition_indices[partition_indices<x]\n",
    "    y_indices = partition_indices[partition_indices>=x]\n",
    "    \n",
    "    if internal:\n",
    "        matrix_subset = matrix[x_indices][:,y_indices-x]\n",
    "        C[x_indices] = np.sum(matrix_subset, axis = 1)\n",
    "        C[y_indices] = np.sum(matrix_subset, axis = 0)\n",
    "    else:\n",
    "        all_y = np.arange(y)\n",
    "        all_x = np.arange(x)\n",
    "        matrix_subset_x = matrix[x_indices][:,[i not in set(y_indices-x) for i in all_y]]\n",
    "        matrix_subset_y = matrix[[i not in set(x_indices) for i in all_x]][:,y_indices-x]\n",
    "        C[x_indices] = np.sum(matrix_subset_x, axis = 1)\n",
    "        C[y_indices] = np.sum(matrix_subset_y, axis = 0)"
   ]
  },
  {
   "cell_type": "code",
   "execution_count": 108,
   "id": "b3fa7f7b-ac2a-45bc-a601-af6e599f8e0c",
   "metadata": {},
   "outputs": [],
   "source": [
    "def compute_all_costs(Ec, Ic):\n",
    "    '''\n",
    "    Compute per-node cost, given the current partitioning\n",
    "    Args\n",
    "        Ec 1D ndarray\n",
    "            output of compute_costs(internal=False)\n",
    "        Ic 1D ndarray\n",
    "            output of compute_costs(internal=True)\n",
    "    '''\n",
    "    cross_costs, partition1_indices, partition2_indices = get_cross_costs(labeling, 0, 1, matrix, 0)\n",
    "    Ic = np.zeros(len(labeling), dtype = int)\n",
    "    compute_internal_cost(partition1_indices, labeling, 0, matrix, Ic)\n",
    "    compute_internal_cost(partition2_indices, labeling, 0, matrix, Ic)\n",
    "    \n",
    "    Ec = np.zeros(len(labeling), dtype = int)\n",
    "    compute_external_cost(partition1_indices, partition2_indices, cross_costs, Ec)\n",
    "    \n",
    "    D = Ec-Ic\n",
    "    \n",
    "    return D"
   ]
  },
  {
   "cell_type": "code",
   "execution_count": 186,
   "id": "65de5b31-bc4e-4758-9864-a2d32a6c8d67",
   "metadata": {},
   "outputs": [],
   "source": [
    "def compute_costs(i, j, c, matrix):\n",
    "    '''\n",
    "    Compute cost between node a and b\n",
    "    '''\n",
    "    x, y = matrix.shape\n",
    "    if (i<x) & (j>=x):\n",
    "        return np.max((matrix[i,j-x], c))\n",
    "    if (j<x) & (i>=x):\n",
    "        return np.max((matrix[j,i-x], c))\n",
    "    if ((j<x) & (i<x)) | ((j>=x) & (i>=x)):\n",
    "        return 0\n",
    "\n",
    "def get_cross_costs(labeling, partition1, partition2, matrix, c):\n",
    "    '''\n",
    "    Compute pairwise costs of nodes in parition A and nodes in partition B\n",
    "    ''' \n",
    "    partition1_indices = np.arange(len(labeling))[labeling==partition1]\n",
    "    partition2_indices = np.arange(len(labeling))[labeling==partition2]\n",
    "    L1 = len(partition1_indices)\n",
    "    L2 = len(partition2_indices)\n",
    "    cross_costs = np.empty(shape=(L1, L2))\n",
    "    for i in range(L1):\n",
    "        for j in range(L2):\n",
    "            cross_costs[i, j] = compute_costs(partition1_indices[i], partition2_indices[j], c, matrix)\n",
    "    return cross_costs, partition1_indices, partition2_indices"
   ]
  },
  {
   "cell_type": "code",
   "execution_count": 175,
   "id": "4f002c55-5bba-44e2-bd0a-edb62d7e60e2",
   "metadata": {},
   "outputs": [],
   "source": [
    "def compute_internal_cost(partition_indices, labeling, c, matrix, Ic):\n",
    "    for i in partition_indices:\n",
    "        for j in partition_indices:\n",
    "            if i!=j:\n",
    "                Ic[i] += compute_costs(i, j, c, matrix)\n",
    "            else:\n",
    "                continue"
   ]
  },
  {
   "cell_type": "code",
   "execution_count": 187,
   "id": "9c5a9eca-3ad7-4591-b741-5bdc9da8d672",
   "metadata": {},
   "outputs": [],
   "source": [
    "def compute_external_cost(partition1_indices, partition2_indices, cross_costs, Ec):\n",
    "    Ec[partition1_indices] = np.sum(cross_costs, axis = 1)\n",
    "    Ec[partition2_indices] = np.sum(cross_costs, axis = 0)"
   ]
  },
  {
   "cell_type": "code",
   "execution_count": 180,
   "id": "6ab26b2d-36c6-47ed-a199-1f5fd698a94a",
   "metadata": {},
   "outputs": [],
   "source": [
    "Ic = np.zeros(len(labeling), dtype = int)\n",
    "compute_internal_cost(0, labeling, 0, matrix, Ic)\n",
    "compute_internal_cost(1, labeling, 0, matrix, Ic)"
   ]
  },
  {
   "cell_type": "code",
   "execution_count": 190,
   "id": "3ede9c07-a1fa-4ef1-a80b-19d6a60c2196",
   "metadata": {},
   "outputs": [],
   "source": [
    "Ec = np.zeros(len(labeling), dtype = int)\n"
   ]
  },
  {
   "cell_type": "code",
   "execution_count": 191,
   "id": "12d78ba4-7bdc-4b9b-b32f-64b8b45d3b2a",
   "metadata": {},
   "outputs": [],
   "source": [
    "compute_external_cost(partition1_indices, partition2_indices, cross_costs, Ec)"
   ]
  },
  {
   "cell_type": "code",
   "execution_count": 192,
   "id": "2c42f328-ef9c-40be-b864-0e3803a8fb49",
   "metadata": {},
   "outputs": [
    {
     "data": {
      "text/plain": [
       "array([2, 1, 1, 1, 0, 3, 1, 1])"
      ]
     },
     "execution_count": 192,
     "metadata": {},
     "output_type": "execute_result"
    }
   ],
   "source": [
    "Ec"
   ]
  },
  {
   "cell_type": "code",
   "execution_count": 188,
   "id": "2877bc29-1a8f-43b5-8c29-2e5d8607059e",
   "metadata": {},
   "outputs": [],
   "source": [
    "cross_costs, partition1_indices, partition2_indices = get_cross_costs(labeling, 0, 1, matrix, 0.1)"
   ]
  },
  {
   "cell_type": "code",
   "execution_count": 189,
   "id": "1f7bb9b4-2af7-477c-b289-2c75ac95b3e0",
   "metadata": {},
   "outputs": [
    {
     "data": {
      "text/plain": [
       "array([0, 1, 2, 7])"
      ]
     },
     "execution_count": 189,
     "metadata": {},
     "output_type": "execute_result"
    }
   ],
   "source": [
    "partition1_indices"
   ]
  },
  {
   "cell_type": "code",
   "execution_count": 159,
   "id": "9dd66395-78b1-4e94-910e-fc03945b6bc0",
   "metadata": {},
   "outputs": [],
   "source": [
    "partition1 = 0\n",
    "partition2 = 1\n",
    "partition1_indices = np.arange(len(labeling))[labeling==partition1]\n",
    "partition2_indices = np.arange(len(labeling))[labeling==partition2]"
   ]
  },
  {
   "cell_type": "code",
   "execution_count": 161,
   "id": "b1cfdf85-4ce1-4de6-9150-88d817672c22",
   "metadata": {},
   "outputs": [
    {
     "data": {
      "text/plain": [
       "array([0, 1, 2, 7])"
      ]
     },
     "execution_count": 161,
     "metadata": {},
     "output_type": "execute_result"
    }
   ],
   "source": [
    "partition1_indices"
   ]
  },
  {
   "cell_type": "code",
   "execution_count": 155,
   "id": "22b85d06-f2b7-4785-b976-e206ad66cfba",
   "metadata": {},
   "outputs": [
    {
     "data": {
      "text/plain": [
       "1.0"
      ]
     },
     "execution_count": 155,
     "metadata": {},
     "output_type": "execute_result"
    }
   ],
   "source": [
    "compute_costs(0, 5, 0.1, matrix)"
   ]
  },
  {
   "cell_type": "code",
   "execution_count": 139,
   "id": "e03a402a-de61-4a73-9355-6555540bf356",
   "metadata": {},
   "outputs": [
    {
     "data": {
      "text/plain": [
       "2"
      ]
     },
     "execution_count": 139,
     "metadata": {},
     "output_type": "execute_result"
    }
   ],
   "source": [
    "x"
   ]
  },
  {
   "cell_type": "code",
   "execution_count": 87,
   "id": "c94a2faa-a603-4640-82d9-61ecf5e47008",
   "metadata": {},
   "outputs": [],
   "source": [
    "all_x = np.arange(x)\n",
    "matrix_subset_y = matrix[[i not in set(x_indices) for i in all_x]][:,y_indices-x]"
   ]
  },
  {
   "cell_type": "code",
   "execution_count": 88,
   "id": "c282c4a0-b216-47d7-98c3-1202566c3bdc",
   "metadata": {},
   "outputs": [
    {
     "data": {
      "text/plain": [
       "array([[1, 1],\n",
       "       [1, 0],\n",
       "       [1, 0]])"
      ]
     },
     "execution_count": 88,
     "metadata": {},
     "output_type": "execute_result"
    }
   ],
   "source": [
    "matrix_subset_y"
   ]
  },
  {
   "cell_type": "code",
   "execution_count": 79,
   "id": "c57bcd46-0e68-40c2-b944-29ed92ab34d2",
   "metadata": {},
   "outputs": [
    {
     "data": {
      "text/plain": [
       "array([0, 1])"
      ]
     },
     "execution_count": 79,
     "metadata": {},
     "output_type": "execute_result"
    }
   ],
   "source": [
    "y_indices = partition_indices[partition_indices>=x]\n",
    "y_indices-x"
   ]
  },
  {
   "cell_type": "code",
   "execution_count": 105,
   "id": "b9e20705-98f7-4eee-8b34-76bfb8b2f219",
   "metadata": {},
   "outputs": [],
   "source": [
    "Ic = np.zeros(len(labeling), dtype = int)\n",
    "compute_costs(0, labeling, matrix, Ic, internal = True)\n",
    "compute_costs(1, labeling, matrix, Ic, internal = True)"
   ]
  },
  {
   "cell_type": "code",
   "execution_count": 106,
   "id": "fede9585-4a6b-4401-b614-c420f5d7326b",
   "metadata": {},
   "outputs": [
    {
     "data": {
      "text/plain": [
       "array([0, 1, 0, 1, 1, 0, 2, 1])"
      ]
     },
     "execution_count": 106,
     "metadata": {},
     "output_type": "execute_result"
    }
   ],
   "source": [
    "Ic"
   ]
  },
  {
   "cell_type": "code",
   "execution_count": 99,
   "id": "8f407934-1688-4bb3-8b99-c9c393c3c0c9",
   "metadata": {},
   "outputs": [],
   "source": [
    "Ec = np.zeros(len(labeling), dtype = int)\n",
    "compute_costs(0, labeling, matrix, Ec, internal = False)\n",
    "compute_costs(1, labeling, matrix, Ec, internal = False)\n",
    "Ec_ground_truth = np.array([2, 1, 1, 1, 0, 3, 1, 1])"
   ]
  },
  {
   "cell_type": "code",
   "execution_count": 100,
   "id": "3264ce74-82d8-4d69-84e6-3bb495dab02a",
   "metadata": {},
   "outputs": [
    {
     "data": {
      "text/plain": [
       "True"
      ]
     },
     "execution_count": 100,
     "metadata": {},
     "output_type": "execute_result"
    }
   ],
   "source": [
    "np.array_equal(Ec, Ec_ground_truth)"
   ]
  },
  {
   "cell_type": "code",
   "execution_count": null,
   "id": "6dd85f91-eef9-4f80-9764-bd10579cc47a",
   "metadata": {},
   "outputs": [],
   "source": []
  },
  {
   "cell_type": "code",
   "execution_count": 68,
   "id": "ce9d07e1-fa08-4b89-b722-03b08257100d",
   "metadata": {},
   "outputs": [
    {
     "data": {
      "text/html": [
       "<div>\n",
       "<style scoped>\n",
       "    .dataframe tbody tr th:only-of-type {\n",
       "        vertical-align: middle;\n",
       "    }\n",
       "\n",
       "    .dataframe tbody tr th {\n",
       "        vertical-align: top;\n",
       "    }\n",
       "\n",
       "    .dataframe thead th {\n",
       "        text-align: right;\n",
       "    }\n",
       "</style>\n",
       "<table border=\"1\" class=\"dataframe\">\n",
       "  <thead>\n",
       "    <tr style=\"text-align: right;\">\n",
       "      <th></th>\n",
       "      <th>P1</th>\n",
       "      <th>P2</th>\n",
       "      <th>P3</th>\n",
       "    </tr>\n",
       "  </thead>\n",
       "  <tbody>\n",
       "    <tr>\n",
       "      <th>G1</th>\n",
       "      <td>1</td>\n",
       "      <td>1</td>\n",
       "      <td>0</td>\n",
       "    </tr>\n",
       "    <tr>\n",
       "      <th>G2</th>\n",
       "      <td>1</td>\n",
       "      <td>0</td>\n",
       "      <td>1</td>\n",
       "    </tr>\n",
       "    <tr>\n",
       "      <th>G3</th>\n",
       "      <td>1</td>\n",
       "      <td>0</td>\n",
       "      <td>0</td>\n",
       "    </tr>\n",
       "    <tr>\n",
       "      <th>G4</th>\n",
       "      <td>0</td>\n",
       "      <td>1</td>\n",
       "      <td>1</td>\n",
       "    </tr>\n",
       "    <tr>\n",
       "      <th>G5</th>\n",
       "      <td>0</td>\n",
       "      <td>1</td>\n",
       "      <td>0</td>\n",
       "    </tr>\n",
       "  </tbody>\n",
       "</table>\n",
       "</div>"
      ],
      "text/plain": [
       "    P1  P2  P3\n",
       "G1   1   1   0\n",
       "G2   1   0   1\n",
       "G3   1   0   0\n",
       "G4   0   1   1\n",
       "G5   0   1   0"
      ]
     },
     "execution_count": 68,
     "metadata": {},
     "output_type": "execute_result"
    }
   ],
   "source": [
    "mat.T"
   ]
  },
  {
   "cell_type": "code",
   "execution_count": 67,
   "id": "2541c211-d267-417a-9caa-b833323ee00e",
   "metadata": {},
   "outputs": [
    {
     "data": {
      "text/plain": [
       "array([0, 0, 0, 1, 1, 1, 1, 0])"
      ]
     },
     "execution_count": 67,
     "metadata": {},
     "output_type": "execute_result"
    }
   ],
   "source": [
    "labeling"
   ]
  },
  {
   "cell_type": "code",
   "execution_count": 21,
   "id": "af1d4e83-e18c-4371-95b3-64b58bf3c6b6",
   "metadata": {},
   "outputs": [],
   "source": [
    "partition = 1\n",
    "parition_indices = np.arange(len(labeling))[labeling==partition]"
   ]
  },
  {
   "cell_type": "code",
   "execution_count": 40,
   "id": "db0d06c0-08ab-4687-8fbc-4688d3918a95",
   "metadata": {},
   "outputs": [],
   "source": [
    "partition_indices = np.arange(len(labeling))[labeling==partition]\n",
    "x,y = matrix.shape\n",
    "x_indices = partition_indices[partition_indices<x]\n",
    "y_indices = partition_indices[partition_indices>=x]-x"
   ]
  },
  {
   "cell_type": "code",
   "execution_count": 50,
   "id": "187613a6-0e0b-41ff-a1fc-cad09f5538f5",
   "metadata": {},
   "outputs": [],
   "source": [
    "matrix_subset = matrix[x_indices][:,y_indices]"
   ]
  },
  {
   "cell_type": "code",
   "execution_count": 53,
   "id": "2461fa8f-9527-482c-8266-c626a75db842",
   "metadata": {},
   "outputs": [
    {
     "data": {
      "text/plain": [
       "array([1, 1])"
      ]
     },
     "execution_count": 53,
     "metadata": {},
     "output_type": "execute_result"
    }
   ],
   "source": [
    "np.sum(matrix_subset, axis = 1)"
   ]
  },
  {
   "cell_type": "code",
   "execution_count": 44,
   "id": "17296e18-a815-432f-af70-8958c4ec053f",
   "metadata": {},
   "outputs": [
    {
     "data": {
      "text/plain": [
       "array([3, 4, 5, 6])"
      ]
     },
     "execution_count": 44,
     "metadata": {},
     "output_type": "execute_result"
    }
   ],
   "source": [
    "partition_indices"
   ]
  },
  {
   "cell_type": "code",
   "execution_count": 45,
   "id": "c3e9700e-4d88-43de-bd6b-ee4ed54be9e8",
   "metadata": {},
   "outputs": [
    {
     "data": {
      "text/plain": [
       "array([[1, 1, 0],\n",
       "       [1, 0, 1],\n",
       "       [1, 0, 0],\n",
       "       [0, 1, 1],\n",
       "       [0, 1, 0]])"
      ]
     },
     "execution_count": 45,
     "metadata": {},
     "output_type": "execute_result"
    }
   ],
   "source": [
    "matrix"
   ]
  },
  {
   "cell_type": "code",
   "execution_count": 7,
   "id": "34948375-078d-4f56-9d1c-4829d9905c47",
   "metadata": {},
   "outputs": [],
   "source": [
    "num_clusters\n",
    "order = np.random.permutation(num_clusters ** 2)"
   ]
  },
  {
   "cell_type": "code",
   "execution_count": 8,
   "id": "a10fffec-81b7-4567-b343-b38908942cec",
   "metadata": {},
   "outputs": [
    {
     "data": {
      "text/plain": [
       "array([ 4, 12, 11,  3,  2,  8,  9,  1,  7, 15, 13,  0, 14,  5, 10,  6])"
      ]
     },
     "execution_count": 8,
     "metadata": {},
     "output_type": "execute_result"
    }
   ],
   "source": [
    "order"
   ]
  },
  {
   "cell_type": "code",
   "execution_count": 13,
   "id": "a61a0de7-825f-484d-ac57-d01764db4622",
   "metadata": {},
   "outputs": [
    {
     "data": {
      "text/plain": [
       "0.5"
      ]
     },
     "execution_count": 13,
     "metadata": {},
     "output_type": "execute_result"
    }
   ],
   "source": [
    "4.5 % 2"
   ]
  },
  {
   "cell_type": "code",
   "execution_count": 2,
   "id": "48f93cad-8943-41e6-ae4d-525e6732fb6b",
   "metadata": {},
   "outputs": [],
   "source": [
    "mat = get_gene_pathway_matrix(path)"
   ]
  },
  {
   "cell_type": "code",
   "execution_count": 3,
   "id": "a4010419-acb0-4c53-b96f-e704eaa2d436",
   "metadata": {},
   "outputs": [],
   "source": [
    "pathway_names = mat.index\n",
    "gene_names = mat.columns"
   ]
  },
  {
   "cell_type": "code",
   "execution_count": 166,
   "id": "54a44f1a-f37e-4dcc-9f3c-4bee44943da4",
   "metadata": {},
   "outputs": [
    {
     "ename": "ValueError",
     "evalue": "could not broadcast input array from shape (8,) into shape (200,)",
     "output_type": "error",
     "traceback": [
      "\u001b[0;31m---------------------------------------------------------------------------\u001b[0m",
      "\u001b[0;31mValueError\u001b[0m                                Traceback (most recent call last)",
      "Input \u001b[0;32mIn [166]\u001b[0m, in \u001b[0;36m<cell line: 8>\u001b[0;34m()\u001b[0m\n\u001b[1;32m      7\u001b[0m \u001b[38;5;66;03m# get random labels for allowed thresholds\u001b[39;00m\n\u001b[1;32m      8\u001b[0m \u001b[38;5;28;01mfor\u001b[39;00m x \u001b[38;5;129;01min\u001b[39;00m \u001b[38;5;28mrange\u001b[39m(\u001b[38;5;241m1\u001b[39m, N):\n\u001b[0;32m----> 9\u001b[0m     out[x\u001b[38;5;241m-\u001b[39m\u001b[38;5;241m1\u001b[39m] \u001b[38;5;241m=\u001b[39m create_random_labeling(matrix, x)\n\u001b[1;32m     11\u001b[0m \u001b[38;5;66;03m# check expected number of clusters\u001b[39;00m\n\u001b[1;32m     12\u001b[0m \u001b[38;5;28;01mfor\u001b[39;00m i \u001b[38;5;129;01min\u001b[39;00m \u001b[38;5;28mrange\u001b[39m(out\u001b[38;5;241m.\u001b[39mshape[\u001b[38;5;241m0\u001b[39m]):\n",
      "\u001b[0;31mValueError\u001b[0m: could not broadcast input array from shape (8,) into shape (200,)"
     ]
    }
   ],
   "source": [
    "path = './examples/test_dict.npy'\n",
    "\n",
    "mat = get_gene_pathway_matrix(path)\n",
    "matrix = np.ascontiguousarray(mat.values.T)\n",
    "N = np.sum(matrix.shape)\n",
    "out = np.empty(shape = (N-1, N), dtype = int)\n",
    "\n",
    "# get random labels for allowed thresholds\n",
    "for x in range(1, N):\n",
    "    out[x-1] = create_random_labeling(matrix, x)\n",
    "\n",
    "# check expected number of clusters\n",
    "for i in range(out.shape[0]):\n",
    "    uniques = np.unique(out[i], return_counts = True)\n",
    "    nclust = np.ceil(N/(i+1))\n",
    "    assert_that(len(uniques[0])==nclust).is_true()\n",
    "    \n",
    "    if (N/nclust)%1 >0:\n",
    "        # check expected number of genes per cluster\n",
    "        assert_that(len(np.unique(uniques[1]))==2).is_true()\n",
    "    else:\n",
    "        assert_that(len(np.unique(uniques[1]))==1).is_true()\n",
    "    "
   ]
  },
  {
   "cell_type": "code",
   "execution_count": 168,
   "id": "59687864-7d0a-4e62-9c6c-3b9a721bed2f",
   "metadata": {},
   "outputs": [
    {
     "data": {
      "text/plain": [
       "66.66666666666667"
      ]
     },
     "execution_count": 168,
     "metadata": {},
     "output_type": "execute_result"
    }
   ],
   "source": [
    "200/3"
   ]
  },
  {
   "cell_type": "code",
   "execution_count": 160,
   "id": "6feef4d4-937e-47c5-a774-6560d5679467",
   "metadata": {},
   "outputs": [
    {
     "name": "stdout",
     "output_type": "stream",
     "text": [
      "True\n",
      "True\n",
      "True\n",
      "True\n",
      "True\n",
      "True\n",
      "True\n"
     ]
    }
   ],
   "source": []
  },
  {
   "cell_type": "code",
   "execution_count": 153,
   "id": "44acade5-ef3b-406f-86bf-94e35e6bad60",
   "metadata": {},
   "outputs": [
    {
     "data": {
      "text/plain": [
       "1"
      ]
     },
     "execution_count": 153,
     "metadata": {},
     "output_type": "execute_result"
    }
   ],
   "source": [
    "if (N/nclust)%1 >0:\n",
    "    len(np.unique(uniques[1]))==2\n",
    "else:\n",
    "    len(np.unique(uniques[1]))==1\n",
    "    "
   ]
  },
  {
   "cell_type": "code",
   "execution_count": 154,
   "id": "ae750f83-97f9-4891-b161-535634c5b99c",
   "metadata": {},
   "outputs": [
    {
     "data": {
      "text/plain": [
       "0"
      ]
     },
     "execution_count": 154,
     "metadata": {},
     "output_type": "execute_result"
    }
   ],
   "source": [
    "550%"
   ]
  },
  {
   "cell_type": "code",
   "execution_count": 151,
   "id": "307e047e-12d3-4a47-85bf-c1557a8f62ef",
   "metadata": {},
   "outputs": [
    {
     "data": {
      "text/plain": [
       "5.5"
      ]
     },
     "execution_count": 151,
     "metadata": {},
     "output_type": "execute_result"
    }
   ],
   "source": [
    "5.5/1"
   ]
  },
  {
   "cell_type": "code",
   "execution_count": 89,
   "id": "b3737535-6acd-4b40-b32d-1af9b8bd594f",
   "metadata": {},
   "outputs": [
    {
     "data": {
      "text/plain": [
       "4.0"
      ]
     },
     "execution_count": 89,
     "metadata": {},
     "output_type": "execute_result"
    }
   ],
   "source": [
    "N/2"
   ]
  },
  {
   "cell_type": "code",
   "execution_count": 61,
   "id": "5ba16f33-f72d-4b99-a066-195d3057534d",
   "metadata": {},
   "outputs": [
    {
     "data": {
      "text/plain": [
       "array([4, 4])"
      ]
     },
     "execution_count": 61,
     "metadata": {},
     "output_type": "execute_result"
    }
   ],
   "source": [
    "np.unique(create_random_labeling(matrix, 5), return_counts = True)[1]"
   ]
  },
  {
   "cell_type": "code",
   "execution_count": 53,
   "id": "7e0e14b9-2176-4fb1-a1a7-94888f7faaa8",
   "metadata": {},
   "outputs": [
    {
     "data": {
      "text/plain": [
       "0.16"
      ]
     },
     "execution_count": 53,
     "metadata": {},
     "output_type": "execute_result"
    }
   ],
   "source": []
  },
  {
   "cell_type": "code",
   "execution_count": 36,
   "id": "f10d97c8-2250-4576-9689-66568aefef32",
   "metadata": {},
   "outputs": [
    {
     "data": {
      "text/plain": [
       "array([0, 1, 2, 3, 4, 5, 6, 7])"
      ]
     },
     "execution_count": 36,
     "metadata": {},
     "output_type": "execute_result"
    }
   ],
   "source": [
    "new_threshold = 2/np.ceil(N/7)\n",
    "labeling = (np.arange(N) / new_threshold).astype('int')\n",
    "labeling"
   ]
  },
  {
   "cell_type": "code",
   "execution_count": 6,
   "id": "7f78ef08-78dd-4b8e-b090-753498504e60",
   "metadata": {},
   "outputs": [
    {
     "data": {
      "text/plain": [
       "8"
      ]
     },
     "execution_count": 6,
     "metadata": {},
     "output_type": "execute_result"
    }
   ],
   "source": [
    "N = np.sum(matrix.shape)\n",
    "N"
   ]
  },
  {
   "cell_type": "code",
   "execution_count": 25,
   "id": "84ecd0b1-025c-41ab-8da2-a027f8b7e54f",
   "metadata": {},
   "outputs": [],
   "source": [
    "num_clusters = np.ceil(N / 2)\n",
    "labeling = (np.arange(N) / new_threshold).astype('int')\n",
    "np.random.shuffle(labeling)"
   ]
  },
  {
   "cell_type": "code",
   "execution_count": 62,
   "id": "e105f46f-ae2d-4786-9c6c-fdc496d5efb7",
   "metadata": {},
   "outputs": [
    {
     "ename": "NameError",
     "evalue": "name 'labeling' is not defined",
     "output_type": "error",
     "traceback": [
      "\u001b[0;31m---------------------------------------------------------------------------\u001b[0m",
      "\u001b[0;31mNameError\u001b[0m                                 Traceback (most recent call last)",
      "Input \u001b[0;32mIn [62]\u001b[0m, in \u001b[0;36m<cell line: 1>\u001b[0;34m()\u001b[0m\n\u001b[0;32m----> 1\u001b[0m \u001b[43mlabeling\u001b[49m\n",
      "\u001b[0;31mNameError\u001b[0m: name 'labeling' is not defined"
     ]
    }
   ],
   "source": []
  },
  {
   "cell_type": "code",
   "execution_count": 23,
   "id": "753f7836-fb3b-423e-acd9-0812d401bd11",
   "metadata": {},
   "outputs": [
    {
     "data": {
      "text/plain": [
       "2.0"
      ]
     },
     "execution_count": 23,
     "metadata": {},
     "output_type": "execute_result"
    }
   ],
   "source": [
    "new_threshold = N / num_clusters\n",
    "new_threshold"
   ]
  },
  {
   "cell_type": "code",
   "execution_count": 2,
   "id": "f980d735-8117-492f-86bc-1cf7c81dcc11",
   "metadata": {},
   "outputs": [],
   "source": [
    "mat = get_gene_pathway_matrix(path)\n",
    "pathway_names = mat.index\n",
    "gene_names = mat.columns\n",
    "matrix = np.ascontiguousarray(mat.values.T)\n",
    "labeling = create_random_labeling(matrix, 2)\n",
    "\n",
    "num_clusters = len(set(labeling))\n",
    "order = np.random.permutation(num_clusters ** 2)\n",
    "o = order[0]\n",
    "cluster_1, cluster_2 = o // num_clusters, o % num_clusters"
   ]
  },
  {
   "cell_type": "code",
   "execution_count": 3,
   "id": "a5ae0f49-37ae-49a6-8e6b-fef3a7f51755",
   "metadata": {},
   "outputs": [],
   "source": [
    "temp_labeling = labeling.copy()\n",
    "A = np.where(labeling == cluster_1)[0]\n",
    "B = np.where(labeling == cluster_2)[0]\n",
    "    \n",
    "done_a = []\n",
    "done_b = []\n",
    "    \n",
    "g = 0\n",
    "gs = []\n",
    "swaps = []\n",
    "\n",
    "nodes_a = np.where(labeling == cluster_1)[0]\n",
    "nodes_b = np.where(labeling == cluster_2)[0]"
   ]
  },
  {
   "cell_type": "code",
   "execution_count": 4,
   "id": "ce4b12fc-e609-4e72-baf9-d7d0fbe2fa93",
   "metadata": {},
   "outputs": [
    {
     "name": "stdout",
     "output_type": "stream",
     "text": [
      "> \u001b[0;32m/home/gridsan/djuna/homer/github/geneclusters/geneclusters/cluster_genes.py\u001b[0m(70)\u001b[0;36mcost_to_other\u001b[0;34m()\u001b[0m\n",
      "\u001b[0;32m     68 \u001b[0;31m\u001b[0;32mdef\u001b[0m \u001b[0mcost_to_other\u001b[0m\u001b[0;34m(\u001b[0m\u001b[0mmatrix\u001b[0m\u001b[0;34m,\u001b[0m \u001b[0msource\u001b[0m\u001b[0;34m,\u001b[0m \u001b[0mothers\u001b[0m\u001b[0;34m,\u001b[0m \u001b[0mc\u001b[0m\u001b[0;34m)\u001b[0m\u001b[0;34m:\u001b[0m\u001b[0;34m\u001b[0m\u001b[0;34m\u001b[0m\u001b[0m\n",
      "\u001b[0m\u001b[0;32m     69 \u001b[0;31m    \u001b[0mset_trace\u001b[0m\u001b[0;34m(\u001b[0m\u001b[0;34m)\u001b[0m\u001b[0;34m\u001b[0m\u001b[0;34m\u001b[0m\u001b[0m\n",
      "\u001b[0m\u001b[0;32m---> 70 \u001b[0;31m    \u001b[0mcosts\u001b[0m \u001b[0;34m=\u001b[0m \u001b[0mnp\u001b[0m\u001b[0;34m.\u001b[0m\u001b[0mzeros_like\u001b[0m\u001b[0;34m(\u001b[0m\u001b[0msource\u001b[0m\u001b[0;34m)\u001b[0m\u001b[0;34m\u001b[0m\u001b[0;34m\u001b[0m\u001b[0m\n",
      "\u001b[0m\u001b[0;32m     71 \u001b[0;31m    \u001b[0;32mfor\u001b[0m \u001b[0mi\u001b[0m\u001b[0;34m,\u001b[0m \u001b[0ma\u001b[0m \u001b[0;32min\u001b[0m \u001b[0menumerate\u001b[0m\u001b[0;34m(\u001b[0m\u001b[0msource\u001b[0m\u001b[0;34m)\u001b[0m\u001b[0;34m:\u001b[0m\u001b[0;34m\u001b[0m\u001b[0;34m\u001b[0m\u001b[0m\n",
      "\u001b[0m\u001b[0;32m     72 \u001b[0;31m        \u001b[0;32mfor\u001b[0m \u001b[0mb\u001b[0m \u001b[0;32min\u001b[0m \u001b[0mothers\u001b[0m\u001b[0;34m:\u001b[0m\u001b[0;34m\u001b[0m\u001b[0;34m\u001b[0m\u001b[0m\n",
      "\u001b[0m\n"
     ]
    },
    {
     "name": "stdin",
     "output_type": "stream",
     "text": [
      "ipdb>  n\n"
     ]
    },
    {
     "name": "stdout",
     "output_type": "stream",
     "text": [
      "> \u001b[0;32m/home/gridsan/djuna/homer/github/geneclusters/geneclusters/cluster_genes.py\u001b[0m(71)\u001b[0;36mcost_to_other\u001b[0;34m()\u001b[0m\n",
      "\u001b[0;32m     69 \u001b[0;31m    \u001b[0mset_trace\u001b[0m\u001b[0;34m(\u001b[0m\u001b[0;34m)\u001b[0m\u001b[0;34m\u001b[0m\u001b[0;34m\u001b[0m\u001b[0m\n",
      "\u001b[0m\u001b[0;32m     70 \u001b[0;31m    \u001b[0mcosts\u001b[0m \u001b[0;34m=\u001b[0m \u001b[0mnp\u001b[0m\u001b[0;34m.\u001b[0m\u001b[0mzeros_like\u001b[0m\u001b[0;34m(\u001b[0m\u001b[0msource\u001b[0m\u001b[0;34m)\u001b[0m\u001b[0;34m\u001b[0m\u001b[0;34m\u001b[0m\u001b[0m\n",
      "\u001b[0m\u001b[0;32m---> 71 \u001b[0;31m    \u001b[0;32mfor\u001b[0m \u001b[0mi\u001b[0m\u001b[0;34m,\u001b[0m \u001b[0ma\u001b[0m \u001b[0;32min\u001b[0m \u001b[0menumerate\u001b[0m\u001b[0;34m(\u001b[0m\u001b[0msource\u001b[0m\u001b[0;34m)\u001b[0m\u001b[0;34m:\u001b[0m\u001b[0;34m\u001b[0m\u001b[0;34m\u001b[0m\u001b[0m\n",
      "\u001b[0m\u001b[0;32m     72 \u001b[0;31m        \u001b[0;32mfor\u001b[0m \u001b[0mb\u001b[0m \u001b[0;32min\u001b[0m \u001b[0mothers\u001b[0m\u001b[0;34m:\u001b[0m\u001b[0;34m\u001b[0m\u001b[0;34m\u001b[0m\u001b[0m\n",
      "\u001b[0m\u001b[0;32m     73 \u001b[0;31m            \u001b[0mcosts\u001b[0m\u001b[0;34m[\u001b[0m\u001b[0mi\u001b[0m\u001b[0;34m]\u001b[0m \u001b[0;34m+=\u001b[0m \u001b[0mget_cost\u001b[0m\u001b[0;34m(\u001b[0m\u001b[0mmatrix\u001b[0m\u001b[0;34m,\u001b[0m \u001b[0ma\u001b[0m\u001b[0;34m,\u001b[0m \u001b[0mb\u001b[0m\u001b[0;34m,\u001b[0m \u001b[0mc\u001b[0m\u001b[0;34m)\u001b[0m\u001b[0;34m\u001b[0m\u001b[0;34m\u001b[0m\u001b[0m\n",
      "\u001b[0m\n"
     ]
    },
    {
     "name": "stdin",
     "output_type": "stream",
     "text": [
      "ipdb>  n\n"
     ]
    },
    {
     "name": "stdout",
     "output_type": "stream",
     "text": [
      "> \u001b[0;32m/home/gridsan/djuna/homer/github/geneclusters/geneclusters/cluster_genes.py\u001b[0m(72)\u001b[0;36mcost_to_other\u001b[0;34m()\u001b[0m\n",
      "\u001b[0;32m     70 \u001b[0;31m    \u001b[0mcosts\u001b[0m \u001b[0;34m=\u001b[0m \u001b[0mnp\u001b[0m\u001b[0;34m.\u001b[0m\u001b[0mzeros_like\u001b[0m\u001b[0;34m(\u001b[0m\u001b[0msource\u001b[0m\u001b[0;34m)\u001b[0m\u001b[0;34m\u001b[0m\u001b[0;34m\u001b[0m\u001b[0m\n",
      "\u001b[0m\u001b[0;32m     71 \u001b[0;31m    \u001b[0;32mfor\u001b[0m \u001b[0mi\u001b[0m\u001b[0;34m,\u001b[0m \u001b[0ma\u001b[0m \u001b[0;32min\u001b[0m \u001b[0menumerate\u001b[0m\u001b[0;34m(\u001b[0m\u001b[0msource\u001b[0m\u001b[0;34m)\u001b[0m\u001b[0;34m:\u001b[0m\u001b[0;34m\u001b[0m\u001b[0;34m\u001b[0m\u001b[0m\n",
      "\u001b[0m\u001b[0;32m---> 72 \u001b[0;31m        \u001b[0;32mfor\u001b[0m \u001b[0mb\u001b[0m \u001b[0;32min\u001b[0m \u001b[0mothers\u001b[0m\u001b[0;34m:\u001b[0m\u001b[0;34m\u001b[0m\u001b[0;34m\u001b[0m\u001b[0m\n",
      "\u001b[0m\u001b[0;32m     73 \u001b[0;31m            \u001b[0mcosts\u001b[0m\u001b[0;34m[\u001b[0m\u001b[0mi\u001b[0m\u001b[0;34m]\u001b[0m \u001b[0;34m+=\u001b[0m \u001b[0mget_cost\u001b[0m\u001b[0;34m(\u001b[0m\u001b[0mmatrix\u001b[0m\u001b[0;34m,\u001b[0m \u001b[0ma\u001b[0m\u001b[0;34m,\u001b[0m \u001b[0mb\u001b[0m\u001b[0;34m,\u001b[0m \u001b[0mc\u001b[0m\u001b[0;34m)\u001b[0m\u001b[0;34m\u001b[0m\u001b[0;34m\u001b[0m\u001b[0m\n",
      "\u001b[0m\u001b[0;32m     74 \u001b[0;31m    \u001b[0;32mreturn\u001b[0m \u001b[0mcosts\u001b[0m\u001b[0;34m\u001b[0m\u001b[0;34m\u001b[0m\u001b[0m\n",
      "\u001b[0m\n"
     ]
    },
    {
     "name": "stdin",
     "output_type": "stream",
     "text": [
      "ipdb>  i\n"
     ]
    },
    {
     "name": "stdout",
     "output_type": "stream",
     "text": [
      "0\n"
     ]
    },
    {
     "name": "stdin",
     "output_type": "stream",
     "text": [
      "ipdb>  a\n"
     ]
    },
    {
     "name": "stdout",
     "output_type": "stream",
     "text": [
      "matrix = array([[1, 1, 0],\n",
      "       [1, 0, 1],\n",
      "       [1, 0, 0],\n",
      "       [0, 1, 1],\n",
      "       [0, 1, 0]])\n",
      "source = array([2, 5])\n",
      "others = array([2, 5])\n",
      "c = 0.2\n"
     ]
    },
    {
     "name": "stdin",
     "output_type": "stream",
     "text": [
      "ipdb>  source\n"
     ]
    },
    {
     "name": "stdout",
     "output_type": "stream",
     "text": [
      "*** SyntaxError: unexpected EOF while parsing\n"
     ]
    },
    {
     "name": "stdin",
     "output_type": "stream",
     "text": [
      "ipdb>  source\n"
     ]
    },
    {
     "name": "stdout",
     "output_type": "stream",
     "text": [
      "*** SyntaxError: unexpected EOF while parsing\n"
     ]
    },
    {
     "name": "stdin",
     "output_type": "stream",
     "text": [
      "ipdb>  costs\n"
     ]
    },
    {
     "name": "stdout",
     "output_type": "stream",
     "text": [
      "array([0, 0])\n"
     ]
    },
    {
     "name": "stdin",
     "output_type": "stream",
     "text": [
      "ipdb>  others\n"
     ]
    },
    {
     "name": "stdout",
     "output_type": "stream",
     "text": [
      "array([2, 5])\n"
     ]
    },
    {
     "name": "stdin",
     "output_type": "stream",
     "text": [
      "ipdb>  source\n"
     ]
    },
    {
     "name": "stdout",
     "output_type": "stream",
     "text": [
      "*** SyntaxError: unexpected EOF while parsing\n"
     ]
    },
    {
     "name": "stdin",
     "output_type": "stream",
     "text": [
      "ipdb>  nodes_a\n"
     ]
    },
    {
     "name": "stdout",
     "output_type": "stream",
     "text": [
      "*** NameError: name 'nodes_a' is not defined\n"
     ]
    },
    {
     "name": "stdin",
     "output_type": "stream",
     "text": [
      "ipdb>  others[0]\n"
     ]
    },
    {
     "name": "stdout",
     "output_type": "stream",
     "text": [
      "2\n"
     ]
    },
    {
     "name": "stdin",
     "output_type": "stream",
     "text": [
      "ipdb>  source[0]\n"
     ]
    },
    {
     "name": "stdout",
     "output_type": "stream",
     "text": [
      "*** module, class, method, function, traceback, frame, or code object was expected, got list\n"
     ]
    },
    {
     "name": "stdin",
     "output_type": "stream",
     "text": [
      "ipdb>  jj = 5\n",
      "ipdb>  i\n"
     ]
    },
    {
     "name": "stdout",
     "output_type": "stream",
     "text": [
      "0\n"
     ]
    },
    {
     "name": "stdin",
     "output_type": "stream",
     "text": [
      "ipdb>  matrix\n"
     ]
    },
    {
     "name": "stdout",
     "output_type": "stream",
     "text": [
      "array([[1, 1, 0],\n",
      "       [1, 0, 1],\n",
      "       [1, 0, 0],\n",
      "       [0, 1, 1],\n",
      "       [0, 1, 0]])\n"
     ]
    },
    {
     "name": "stdin",
     "output_type": "stream",
     "text": [
      "ipdb>  matrix.shape\n"
     ]
    },
    {
     "name": "stdout",
     "output_type": "stream",
     "text": [
      "(5, 3)\n"
     ]
    },
    {
     "name": "stdin",
     "output_type": "stream",
     "text": [
      "ipdb>  matrix.shape[0]\n"
     ]
    },
    {
     "name": "stdout",
     "output_type": "stream",
     "text": [
      "5\n"
     ]
    },
    {
     "name": "stdin",
     "output_type": "stream",
     "text": [
      "ipdb>  exit\n"
     ]
    },
    {
     "ename": "BdbQuit",
     "evalue": "",
     "output_type": "error",
     "traceback": [
      "\u001b[0;31m---------------------------------------------------------------------------\u001b[0m",
      "\u001b[0;31mBdbQuit\u001b[0m                                   Traceback (most recent call last)",
      "Input \u001b[0;32mIn [4]\u001b[0m, in \u001b[0;36m<cell line: 1>\u001b[0;34m()\u001b[0m\n\u001b[0;32m----> 1\u001b[0m internal_a \u001b[38;5;241m=\u001b[39m \u001b[43mcost_to_other\u001b[49m\u001b[43m(\u001b[49m\u001b[43mmatrix\u001b[49m\u001b[43m,\u001b[49m\u001b[43m \u001b[49m\u001b[43mnodes_a\u001b[49m\u001b[43m,\u001b[49m\u001b[43m \u001b[49m\u001b[43mnodes_a\u001b[49m\u001b[43m,\u001b[49m\u001b[43m \u001b[49m\u001b[38;5;241;43m0.2\u001b[39;49m\u001b[43m)\u001b[49m\n",
      "File \u001b[0;32m~/homer/github/geneclusters/geneclusters/cluster_genes.py:72\u001b[0m, in \u001b[0;36mcost_to_other\u001b[0;34m(matrix, source, others, c)\u001b[0m\n\u001b[1;32m     70\u001b[0m costs \u001b[38;5;241m=\u001b[39m np\u001b[38;5;241m.\u001b[39mzeros_like(source)\n\u001b[1;32m     71\u001b[0m \u001b[38;5;28;01mfor\u001b[39;00m i, a \u001b[38;5;129;01min\u001b[39;00m \u001b[38;5;28menumerate\u001b[39m(source):\n\u001b[0;32m---> 72\u001b[0m     \u001b[38;5;28;01mfor\u001b[39;00m b \u001b[38;5;129;01min\u001b[39;00m \u001b[43mothers\u001b[49m:\n\u001b[1;32m     73\u001b[0m         costs[i] \u001b[38;5;241m+\u001b[39m\u001b[38;5;241m=\u001b[39m get_cost(matrix, a, b, c)\n\u001b[1;32m     74\u001b[0m \u001b[38;5;28;01mreturn\u001b[39;00m costs\n",
      "File \u001b[0;32m~/homer/github/geneclusters/geneclusters/cluster_genes.py:72\u001b[0m, in \u001b[0;36mcost_to_other\u001b[0;34m(matrix, source, others, c)\u001b[0m\n\u001b[1;32m     70\u001b[0m costs \u001b[38;5;241m=\u001b[39m np\u001b[38;5;241m.\u001b[39mzeros_like(source)\n\u001b[1;32m     71\u001b[0m \u001b[38;5;28;01mfor\u001b[39;00m i, a \u001b[38;5;129;01min\u001b[39;00m \u001b[38;5;28menumerate\u001b[39m(source):\n\u001b[0;32m---> 72\u001b[0m     \u001b[38;5;28;01mfor\u001b[39;00m b \u001b[38;5;129;01min\u001b[39;00m \u001b[43mothers\u001b[49m:\n\u001b[1;32m     73\u001b[0m         costs[i] \u001b[38;5;241m+\u001b[39m\u001b[38;5;241m=\u001b[39m get_cost(matrix, a, b, c)\n\u001b[1;32m     74\u001b[0m \u001b[38;5;28;01mreturn\u001b[39;00m costs\n",
      "File \u001b[0;32m/state/partition1/llgrid/pkg/anaconda/anaconda3-2022a/lib/python3.8/bdb.py:88\u001b[0m, in \u001b[0;36mBdb.trace_dispatch\u001b[0;34m(self, frame, event, arg)\u001b[0m\n\u001b[1;32m     86\u001b[0m     \u001b[38;5;28;01mreturn\u001b[39;00m \u001b[38;5;66;03m# None\u001b[39;00m\n\u001b[1;32m     87\u001b[0m \u001b[38;5;28;01mif\u001b[39;00m event \u001b[38;5;241m==\u001b[39m \u001b[38;5;124m'\u001b[39m\u001b[38;5;124mline\u001b[39m\u001b[38;5;124m'\u001b[39m:\n\u001b[0;32m---> 88\u001b[0m     \u001b[38;5;28;01mreturn\u001b[39;00m \u001b[38;5;28;43mself\u001b[39;49m\u001b[38;5;241;43m.\u001b[39;49m\u001b[43mdispatch_line\u001b[49m\u001b[43m(\u001b[49m\u001b[43mframe\u001b[49m\u001b[43m)\u001b[49m\n\u001b[1;32m     89\u001b[0m \u001b[38;5;28;01mif\u001b[39;00m event \u001b[38;5;241m==\u001b[39m \u001b[38;5;124m'\u001b[39m\u001b[38;5;124mcall\u001b[39m\u001b[38;5;124m'\u001b[39m:\n\u001b[1;32m     90\u001b[0m     \u001b[38;5;28;01mreturn\u001b[39;00m \u001b[38;5;28mself\u001b[39m\u001b[38;5;241m.\u001b[39mdispatch_call(frame, arg)\n",
      "File \u001b[0;32m/state/partition1/llgrid/pkg/anaconda/anaconda3-2022a/lib/python3.8/bdb.py:113\u001b[0m, in \u001b[0;36mBdb.dispatch_line\u001b[0;34m(self, frame)\u001b[0m\n\u001b[1;32m    111\u001b[0m \u001b[38;5;28;01mif\u001b[39;00m \u001b[38;5;28mself\u001b[39m\u001b[38;5;241m.\u001b[39mstop_here(frame) \u001b[38;5;129;01mor\u001b[39;00m \u001b[38;5;28mself\u001b[39m\u001b[38;5;241m.\u001b[39mbreak_here(frame):\n\u001b[1;32m    112\u001b[0m     \u001b[38;5;28mself\u001b[39m\u001b[38;5;241m.\u001b[39muser_line(frame)\n\u001b[0;32m--> 113\u001b[0m     \u001b[38;5;28;01mif\u001b[39;00m \u001b[38;5;28mself\u001b[39m\u001b[38;5;241m.\u001b[39mquitting: \u001b[38;5;28;01mraise\u001b[39;00m BdbQuit\n\u001b[1;32m    114\u001b[0m \u001b[38;5;28;01mreturn\u001b[39;00m \u001b[38;5;28mself\u001b[39m\u001b[38;5;241m.\u001b[39mtrace_dispatch\n",
      "\u001b[0;31mBdbQuit\u001b[0m: "
     ]
    }
   ],
   "source": [
    "internal_a = cost_to_other(matrix, nodes_a, nodes_a, 0.2)"
   ]
  },
  {
   "cell_type": "code",
   "execution_count": 5,
   "id": "79ee2cf2-1507-457a-8908-e4d4b6eb461d",
   "metadata": {},
   "outputs": [],
   "source": [
    "np.random.seed(4)"
   ]
  },
  {
   "cell_type": "code",
   "execution_count": 6,
   "id": "fa16a429-13ee-4946-b4e2-aaaeaec7cd4f",
   "metadata": {},
   "outputs": [
    {
     "data": {
      "text/plain": [
       "0.05056170714293955"
      ]
     },
     "execution_count": 6,
     "metadata": {},
     "output_type": "execute_result"
    }
   ],
   "source": [
    "np.random.randn()\n"
   ]
  },
  {
   "cell_type": "code",
   "execution_count": 7,
   "id": "f029838c-e9ae-4d6a-bc0d-207bbebb85ac",
   "metadata": {},
   "outputs": [
    {
     "data": {
      "text/plain": [
       "0.499951333237829"
      ]
     },
     "execution_count": 7,
     "metadata": {},
     "output_type": "execute_result"
    }
   ],
   "source": [
    "np.random.randn()\n",
    "\n"
   ]
  },
  {
   "cell_type": "code",
   "execution_count": 7,
   "id": "560b29fa-8fa9-4aa3-917d-2feca94fa0dd",
   "metadata": {},
   "outputs": [],
   "source": [
    "from geneclusters.prepare_inputs import *\n",
    "from geneclusters.cluster_genes import *\n",
    "path = './examples/test_dict.npy'\n",
    "mat = get_gene_pathway_matrix(path)\n",
    "pathway_names = mat.index\n",
    "gene_names = mat.columns\n",
    "matrix = np.ascontiguousarray(mat.values.T)\n",
    "labeling = create_random_labeling(matrix, 2)\n"
   ]
  },
  {
   "cell_type": "code",
   "execution_count": 14,
   "id": "853f0d4f-5580-41dd-864d-daac50fe58b9",
   "metadata": {},
   "outputs": [],
   "source": [
    "# one KL step\n",
    "num_clusters = len(set(labeling))\n",
    "order = np.random.permutation(num_clusters ** 2)\n",
    "o = order[0]\n",
    "cluster_1, cluster_2 = o // num_clusters, o % num_clusters\n",
    "temp_labeling = labeling.copy()"
   ]
  },
  {
   "cell_type": "code",
   "execution_count": 15,
   "id": "1c13e08a-4a96-48d2-b44a-8670c7069575",
   "metadata": {},
   "outputs": [],
   "source": [
    "A = np.where(labeling == cluster_1)[0]\n",
    "B = np.where(labeling == cluster_2)[0]\n",
    "    \n",
    "done_a = []\n",
    "done_b = []\n",
    "    \n",
    "g = 0\n",
    "gs = []\n",
    "swaps = []"
   ]
  },
  {
   "cell_type": "code",
   "execution_count": 22,
   "id": "ae669a62-dd38-4842-a52a-b221d87e2282",
   "metadata": {},
   "outputs": [
    {
     "data": {
      "text/plain": [
       "array([0, 2])"
      ]
     },
     "execution_count": 22,
     "metadata": {},
     "output_type": "execute_result"
    }
   ],
   "source": [
    "A"
   ]
  },
  {
   "cell_type": "code",
   "execution_count": 24,
   "id": "c743dca6-32d9-4469-bf38-af2ef3767e44",
   "metadata": {},
   "outputs": [],
   "source": [
    "from pdb import set_trace"
   ]
  },
  {
   "cell_type": "code",
   "execution_count": 57,
   "id": "d964f173-cb35-4409-8277-9c3f47371b80",
   "metadata": {},
   "outputs": [],
   "source": [
    "from geneclusters.prepare_inputs import *\n",
    "from assertpy import assert_that\n"
   ]
  },
  {
   "cell_type": "code",
   "execution_count": 3,
   "id": "1b3c3bbc-2c90-4a91-a582-81a188d542af",
   "metadata": {},
   "outputs": [],
   "source": [
    "mat = get_gene_pathway_matrix(path)"
   ]
  },
  {
   "cell_type": "code",
   "execution_count": 20,
   "id": "2927ccbe-2a9c-4bfc-a0aa-79654e5cdef6",
   "metadata": {},
   "outputs": [],
   "source": [
    "pathway = np.load(path, allow_pickle = True).items()"
   ]
  },
  {
   "cell_type": "code",
   "execution_count": 18,
   "id": "6e4daca2-c8e9-403a-a8b8-0d6b23f607c0",
   "metadata": {},
   "outputs": [
    {
     "data": {
      "text/plain": [
       "['CYFIP1',\n",
       " 'TUBGCP2',\n",
       " 'TUBGCP3',\n",
       " 'FMR1',\n",
       " 'NIPA2',\n",
       " 'TUBGCP6',\n",
       " 'NIPA1',\n",
       " 'TUBGCP4',\n",
       " 'TUBGCP5']"
      ]
     },
     "execution_count": 18,
     "metadata": {},
     "output_type": "execute_result"
    }
   ],
   "source": [
    "pathway['15q11.2 copy number variation syndrome WP4940']"
   ]
  },
  {
   "cell_type": "code",
   "execution_count": 1,
   "id": "a29d8970-c5af-4897-ba56-2f90f0a1d096",
   "metadata": {},
   "outputs": [],
   "source": [
    "my_dict = {'P1':['G1', 'G2', 'G3'], 'P2': ['G1', 'G4', 'G5'], 'P3': ['G2', 'G4']}"
   ]
  },
  {
   "cell_type": "code",
   "execution_count": 4,
   "id": "43e42580-d2be-46da-8702-66eb1063a031",
   "metadata": {},
   "outputs": [],
   "source": [
    "import numpy as np\n",
    "np.save('./examples/test_dict.npy', my_dict)"
   ]
  },
  {
   "cell_type": "code",
   "execution_count": 60,
   "id": "de102a80-fe0f-4eee-bcdd-d4d6e71ba59d",
   "metadata": {},
   "outputs": [],
   "source": [
    "my_dict = np.load('./examples/test_dict.npy', allow_pickle=True).item()"
   ]
  },
  {
   "cell_type": "code",
   "execution_count": 62,
   "id": "bb8dfac5-19ff-48de-802f-dafb8cee4686",
   "metadata": {},
   "outputs": [],
   "source": [
    "path = './examples/test_dict.npy'"
   ]
  },
  {
   "cell_type": "code",
   "execution_count": 63,
   "id": "c98f47e0-058d-479a-a6d7-f9545100d1c4",
   "metadata": {},
   "outputs": [],
   "source": [
    "mat = get_gene_pathway_matrix(path)"
   ]
  },
  {
   "cell_type": "code",
   "execution_count": 64,
   "id": "479d44bb-896b-4d91-94ea-eea71ecb4644",
   "metadata": {},
   "outputs": [],
   "source": [
    "pathway_names = mat.index\n",
    "gene_names = mat.columns\n",
    "matrix = np.ascontiguousarray(mat.values.T)"
   ]
  },
  {
   "cell_type": "code",
   "execution_count": 65,
   "id": "79e78abb-a9ac-40e4-a131-171cf095d665",
   "metadata": {},
   "outputs": [
    {
     "data": {
      "text/plain": [
       "array([[1, 1, 0],\n",
       "       [1, 0, 1],\n",
       "       [1, 0, 0],\n",
       "       [0, 1, 1],\n",
       "       [0, 1, 0]])"
      ]
     },
     "execution_count": 65,
     "metadata": {},
     "output_type": "execute_result"
    }
   ],
   "source": [
    "matrix"
   ]
  },
  {
   "cell_type": "code",
   "execution_count": 66,
   "id": "5bfc0762-4cfb-4868-860c-9f9b33f743b2",
   "metadata": {},
   "outputs": [
    {
     "data": {
      "text/plain": [
       "Index(['G1', 'G2', 'G3', 'G4', 'G5'], dtype='object')"
      ]
     },
     "execution_count": 66,
     "metadata": {},
     "output_type": "execute_result"
    }
   ],
   "source": [
    "gene_names"
   ]
  },
  {
   "cell_type": "code",
   "execution_count": 67,
   "id": "4ea9fa93-40fc-4e21-868b-8101a7103c05",
   "metadata": {},
   "outputs": [
    {
     "data": {
      "text/plain": [
       "Index(['P1', 'P2', 'P3'], dtype='object')"
      ]
     },
     "execution_count": 67,
     "metadata": {},
     "output_type": "execute_result"
    }
   ],
   "source": [
    "create_random_labeling(matrix, thres)"
   ]
  },
  {
   "cell_type": "code",
   "execution_count": 68,
   "id": "04bce6be-97b4-4a37-81ba-71acad0e8f94",
   "metadata": {},
   "outputs": [],
   "source": [
    "def create_random_labeling(matrix, threshold):\n",
    "    N = np.sum(matrix.shape)\n",
    "    num_clusters = np.ceil(N / threshold)\n",
    "    new_threshold = N / num_clusters\n",
    "    labeling = (np.arange(N) / new_threshold).astype('int')\n",
    "    np.random.shuffle(labeling)\n",
    "    return labeling"
   ]
  },
  {
   "cell_type": "code",
   "execution_count": 71,
   "id": "eb32dc56-1fc4-41a9-8e41-a40c2fd0337d",
   "metadata": {},
   "outputs": [
    {
     "data": {
      "text/plain": [
       "array([1, 6, 5, 2, 3, 7, 4, 0])"
      ]
     },
     "execution_count": 71,
     "metadata": {},
     "output_type": "execute_result"
    }
   ],
   "source": [
    "create_random_labeling(matrix, 1)"
   ]
  },
  {
   "cell_type": "code",
   "execution_count": 72,
   "id": "cfe0c112-0656-46ad-ba1d-85704694a217",
   "metadata": {},
   "outputs": [
    {
     "data": {
      "text/plain": [
       "8"
      ]
     },
     "execution_count": 72,
     "metadata": {},
     "output_type": "execute_result"
    }
   ],
   "source": [
    "N = np.sum(matrix.shape)\n",
    "N"
   ]
  },
  {
   "cell_type": "code",
   "execution_count": 80,
   "id": "11b078f9-0405-4171-aaef-793d36837680",
   "metadata": {},
   "outputs": [
    {
     "data": {
      "text/plain": [
       "2.0"
      ]
     },
     "execution_count": 80,
     "metadata": {},
     "output_type": "execute_result"
    }
   ],
   "source": [
    "num_clusters = np.ceil(N / 2)\n",
    "new_threshold = N / num_clusters\n",
    "new_threshold"
   ]
  },
  {
   "cell_type": "code",
   "execution_count": 88,
   "id": "c374cf68-0c3e-4274-9909-c7c68881599d",
   "metadata": {},
   "outputs": [],
   "source": [
    "num_clusters = np.ceil(N / 2.5)"
   ]
  },
  {
   "cell_type": "code",
   "execution_count": 89,
   "id": "ecf9d634-c274-47c1-b659-85a3944db186",
   "metadata": {},
   "outputs": [
    {
     "data": {
      "text/plain": [
       "4.0"
      ]
     },
     "execution_count": 89,
     "metadata": {},
     "output_type": "execute_result"
    }
   ],
   "source": [
    "num_clusters"
   ]
  },
  {
   "cell_type": "code",
   "execution_count": 83,
   "id": "d165d742-5d9a-4c34-b1ff-bce27b03cc56",
   "metadata": {},
   "outputs": [
    {
     "data": {
      "text/plain": [
       "array([0, 0, 1, 1, 2, 2, 3, 3])"
      ]
     },
     "execution_count": 83,
     "metadata": {},
     "output_type": "execute_result"
    }
   ],
   "source": [
    "labeling = (np.arange(N) / new_threshold).astype('int')\n",
    "labeling"
   ]
  },
  {
   "cell_type": "code",
   "execution_count": 84,
   "id": "98bdb544-3afa-48e4-a37f-7e8ef1fc745e",
   "metadata": {},
   "outputs": [],
   "source": [
    "np.random.shuffle(labeling)"
   ]
  },
  {
   "cell_type": "code",
   "execution_count": 91,
   "id": "c1de3cbe-46bd-476e-bc7d-0cb8511d77f0",
   "metadata": {},
   "outputs": [],
   "source": [
    "labeling = create_random_labeling(matrix, 2)"
   ]
  },
  {
   "cell_type": "code",
   "execution_count": 93,
   "id": "b8e5e349-c03b-4be6-a269-be2638738129",
   "metadata": {},
   "outputs": [
    {
     "data": {
      "text/plain": [
       "array([[1, 1, 0],\n",
       "       [1, 0, 1],\n",
       "       [1, 0, 0],\n",
       "       [0, 1, 1],\n",
       "       [0, 1, 0]])"
      ]
     },
     "execution_count": 93,
     "metadata": {},
     "output_type": "execute_result"
    }
   ],
   "source": [
    "matrix"
   ]
  },
  {
   "cell_type": "code",
   "execution_count": 95,
   "id": "3fc7fee3-50fc-49e5-a5ff-8a665329ed7a",
   "metadata": {},
   "outputs": [],
   "source": [
    "num_clusters = len(set(labeling))"
   ]
  },
  {
   "cell_type": "code",
   "execution_count": 97,
   "id": "7678a93d-c312-4d56-9e40-603efc098e26",
   "metadata": {},
   "outputs": [],
   "source": [
    "order = np.random.permutation(num_clusters ** 2)"
   ]
  },
  {
   "cell_type": "code",
   "execution_count": 98,
   "id": "7a524cc2-2cb1-4540-885f-a607ed88feab",
   "metadata": {},
   "outputs": [
    {
     "data": {
      "text/plain": [
       "array([ 4, 13, 10, 14,  6,  8,  2, 12,  9, 15,  1,  5,  7,  3, 11,  0])"
      ]
     },
     "execution_count": 98,
     "metadata": {},
     "output_type": "execute_result"
    }
   ],
   "source": [
    "order"
   ]
  },
  {
   "cell_type": "code",
   "execution_count": 108,
   "id": "224bf36b-29ce-4505-83f9-d294a1a5aaae",
   "metadata": {},
   "outputs": [
    {
     "data": {
      "text/plain": [
       "3"
      ]
     },
     "execution_count": 108,
     "metadata": {},
     "output_type": "execute_result"
    }
   ],
   "source": [
    "10 // 3"
   ]
  },
  {
   "cell_type": "code",
   "execution_count": 110,
   "id": "aaf1fb38-ba1d-4fae-a8ef-2d4c041e855a",
   "metadata": {},
   "outputs": [],
   "source": [
    "labeling = create_random_labeling(matrix, 2)"
   ]
  },
  {
   "cell_type": "code",
   "execution_count": 112,
   "id": "5c97b3f7-475a-49c1-be09-3a0f78e6fcde",
   "metadata": {},
   "outputs": [],
   "source": [
    "num_clusters = len(set(labeling))\n",
    "order = np.random.permutation(num_clusters ** 2)"
   ]
  },
  {
   "cell_type": "code",
   "execution_count": 129,
   "id": "0ae37629-b990-4b2a-ae61-8121a89360b5",
   "metadata": {},
   "outputs": [],
   "source": [
    "o = order[2]\n",
    "cluster_1, cluster_2 = o // num_clusters, o % num_clusters"
   ]
  },
  {
   "cell_type": "code",
   "execution_count": 130,
   "id": "2c553d82-82e2-4adf-ab23-76e7f44f2e4b",
   "metadata": {},
   "outputs": [],
   "source": [
    "temp_labeling = labeling.copy()\n",
    "A = np.where(labeling == cluster_1)[0]"
   ]
  },
  {
   "cell_type": "code",
   "execution_count": 131,
   "id": "d3588eff-5734-4dea-858e-51a0ccf8700e",
   "metadata": {},
   "outputs": [],
   "source": [
    "B = np.where(labeling == cluster_2)[0]"
   ]
  },
  {
   "cell_type": "code",
   "execution_count": 132,
   "id": "3f02bb8c-40e2-4f74-a1e9-fb463a91843c",
   "metadata": {},
   "outputs": [
    {
     "data": {
      "text/plain": [
       "array([0, 5])"
      ]
     },
     "execution_count": 132,
     "metadata": {},
     "output_type": "execute_result"
    }
   ],
   "source": [
    "A"
   ]
  },
  {
   "cell_type": "code",
   "execution_count": 137,
   "id": "27b10e55-516d-493b-b2e6-d220dbf7c4bd",
   "metadata": {},
   "outputs": [
    {
     "name": "stdout",
     "output_type": "stream",
     "text": [
      "(0, 0)\n",
      "(1, 5)\n"
     ]
    }
   ],
   "source": [
    "result = np.zeros((len(A), len(B)))\n",
    "for i in enumerate(A):\n",
    "    print(i)"
   ]
  },
  {
   "cell_type": "code",
   "execution_count": 139,
   "id": "b946563f-d16e-46e6-b4eb-c30f8d56da61",
   "metadata": {},
   "outputs": [
    {
     "data": {
      "text/plain": [
       "array([[1, 1, 0],\n",
       "       [1, 0, 1],\n",
       "       [1, 0, 0],\n",
       "       [0, 1, 1],\n",
       "       [0, 1, 0]])"
      ]
     },
     "execution_count": 139,
     "metadata": {},
     "output_type": "execute_result"
    }
   ],
   "source": [
    "matrix"
   ]
  },
  {
   "cell_type": "code",
   "execution_count": 141,
   "id": "f5ef9008-d6f3-4e4b-a96c-c6ad9080e254",
   "metadata": {},
   "outputs": [],
   "source": [
    "costs = np.zeros_like(A)"
   ]
  },
  {
   "cell_type": "code",
   "execution_count": 144,
   "id": "b255fb5e-0d36-4609-9d6d-38c022767ea2",
   "metadata": {},
   "outputs": [
    {
     "name": "stdout",
     "output_type": "stream",
     "text": [
      "0\n",
      "0\n",
      "1\n",
      "0\n"
     ]
    }
   ],
   "source": [
    "for i, a in enumerate(costs):\n",
    "    print(i)\n",
    "    print(a)"
   ]
  },
  {
   "cell_type": "code",
   "execution_count": 148,
   "id": "7ebce243-5b27-4136-a469-ab0d31ad51d8",
   "metadata": {},
   "outputs": [],
   "source": [
    "j = 2\n",
    "j -= matrix.shape[0]"
   ]
  },
  {
   "cell_type": "code",
   "execution_count": 150,
   "id": "2519ef80-8e6a-4ae5-8ea2-54a28af4e928",
   "metadata": {},
   "outputs": [
    {
     "data": {
      "text/plain": [
       "1"
      ]
     },
     "execution_count": 150,
     "metadata": {},
     "output_type": "execute_result"
    }
   ],
   "source": [
    "matrix[0,j]"
   ]
  },
  {
   "cell_type": "code",
   "execution_count": 154,
   "id": "d713bc68-e078-482f-9e45-9eac2b2c49de",
   "metadata": {},
   "outputs": [],
   "source": [
    "def get_cost(matrix, i, j, c):\n",
    "    '''\n",
    "    returns \n",
    "    Args:\n",
    "        matrix ndarray\n",
    "            gene x pathway matrix\n",
    "        labeling 1D ndarray\n",
    "        cluster_1 1D ndarray\n",
    "            new labels for cluster_1\n",
    "        cluster_2 1D ndarray\n",
    "            new labels for cluster_2\n",
    "        c float (0<= c <= 1)\n",
    "            probability of false negative pathway-gene association\n",
    "    '''\n",
    "    if j < i:\n",
    "        i, j = j, i\n",
    "    if i >= matrix.shape[0]:\n",
    "        return 0\n",
    "    if j < matrix.shape[0]:\n",
    "        return 0\n",
    "    \n",
    "    j -= matrix.shape[0]\n",
    "    \n",
    "    return max(matrix[i, j], c)\n",
    "\n",
    "def cost_to_other(matrix, source, others, c):\n",
    "    costs = np.zeros_like(source)\n",
    "    for i, a in enumerate(source):\n",
    "        for b in others:\n",
    "            costs[i] += get_cost(matrix, a, b, c)\n",
    "    return costs"
   ]
  },
  {
   "cell_type": "code",
   "execution_count": 158,
   "id": "e654df47-18d1-4bcb-a637-0ef85fa231a1",
   "metadata": {},
   "outputs": [
    {
     "data": {
      "text/plain": [
       "array([1, 0])"
      ]
     },
     "execution_count": 158,
     "metadata": {},
     "output_type": "execute_result"
    }
   ],
   "source": [
    "cost_to_other(matrix, A, B, 0)"
   ]
  },
  {
   "cell_type": "code",
   "execution_count": 159,
   "id": "3f8eaeb3-dc41-4c2c-9b4d-ab5b432076dd",
   "metadata": {},
   "outputs": [
    {
     "data": {
      "text/plain": [
       "array([[1, 1, 0],\n",
       "       [1, 0, 1],\n",
       "       [1, 0, 0],\n",
       "       [0, 1, 1],\n",
       "       [0, 1, 0]])"
      ]
     },
     "execution_count": 159,
     "metadata": {},
     "output_type": "execute_result"
    }
   ],
   "source": [
    "matrix"
   ]
  },
  {
   "cell_type": "code",
   "execution_count": 162,
   "id": "8bf79d6b-d0fe-440e-96c3-4eb0ed8e4f08",
   "metadata": {},
   "outputs": [
    {
     "data": {
      "text/plain": [
       "array([1, 3, 0, 0, 2, 1, 2, 3])"
      ]
     },
     "execution_count": 162,
     "metadata": {},
     "output_type": "execute_result"
    }
   ],
   "source": [
    "labeling"
   ]
  }
 ],
 "metadata": {
  "kernelspec": {
   "display_name": "Python 3 (ipykernel)",
   "language": "python",
   "name": "python3"
  },
  "language_info": {
   "codemirror_mode": {
    "name": "ipython",
    "version": 3
   },
   "file_extension": ".py",
   "mimetype": "text/x-python",
   "name": "python",
   "nbconvert_exporter": "python",
   "pygments_lexer": "ipython3",
   "version": "3.8.13"
  }
 },
 "nbformat": 4,
 "nbformat_minor": 5
}
