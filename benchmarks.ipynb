{
 "cells": [
  {
   "cell_type": "code",
   "execution_count": 7,
   "id": "2431894c-7071-4533-b41f-c8a3d2beddfc",
   "metadata": {},
   "outputs": [],
   "source": [
    "import numpy as np\n",
    "import gseapy\n",
    "from scipy.sparse import csr_matrix\n",
    "from tqdm.contrib.concurrent import process_map\n",
    "from functools import partial\n",
    "from scipy.sparse.csgraph import shortest_path\n",
    "import matplotlib.pyplot as plt\n",
    "from geneclusters.cluster_genes_new import evaluate_cut,assign_cluster_based_on_proba,create_random_labeling, distance_to_probability,get_gene_pathway_matrix, get_full_matrix_from_bipartite,run_KL, compute_cost_metrics, add_outer, get_kernighan_lin_clusters, create_nonrandom_labeling"
   ]
  },
  {
   "cell_type": "code",
   "execution_count": 9,
   "id": "b2ed9960-cde3-4727-999f-fac85a66a708",
   "metadata": {},
   "outputs": [],
   "source": [
    "#names = gseapy.get_library_name()\n",
    "#x = gseapy.get_library('KEGG_2021_Human')\n",
    "#np.save('./examples/KEGG_2021_Human.npy', x)"
   ]
  },
  {
   "cell_type": "code",
   "execution_count": null,
   "id": "8b4c1dc3-ccdf-4931-8788-3f358108ce1f",
   "metadata": {},
   "outputs": [],
   "source": [
    "\n",
    "# compare performance of the different variants of this method and also of the other methods of interest\n",
    "\n",
    "# choose which method works best and compare against G's original clustering\n",
    "# compare against some other clustering methods like actionet etc?"
   ]
  },
  {
   "cell_type": "code",
   "execution_count": 3,
   "id": "3ae1481b-d64e-486e-8ad0-7a3569820dd7",
   "metadata": {},
   "outputs": [],
   "source": [
    "mat = get_gene_pathway_matrix('./examples/HumanCyc_2016.npy')\n",
    "matrix = np.ascontiguousarray(mat.values.T)\n"
   ]
  },
  {
   "cell_type": "code",
   "execution_count": 4,
   "id": "a36276ed-2124-4520-9ebe-cf92ada7ed84",
   "metadata": {},
   "outputs": [],
   "source": [
    "def get_scores(path, C, KL_modified, random_labels, unweighted, seed, thresh):\n",
    "    np.random.randint(1000)\n",
    "    o1, o2 = get_kernighan_lin_clusters(path, thresh, C, KL_modified, random_labels, unweighted, seed)\n",
    "    return np.array(o1[0]), o2"
   ]
  },
  {
   "cell_type": "code",
   "execution_count": 8,
   "id": "edd93f53-7377-46d5-a490-ce7392bc565b",
   "metadata": {
    "tags": []
   },
   "outputs": [
    {
     "data": {
      "application/vnd.jupyter.widget-view+json": {
       "model_id": "ae09078e6039449abfb66c42d54a1326",
       "version_major": 2,
       "version_minor": 0
      },
      "text/plain": [
       "  0%|          | 0/19 [00:00<?, ?it/s]"
      ]
     },
     "metadata": {},
     "output_type": "display_data"
    },
    {
     "name": "stderr",
     "output_type": "stream",
     "text": [
      "3it [00:05,  1.83s/it, tot_impr=958, last_impr=0, loss=906]8]9]\n",
      "3it [00:05,  1.84s/it, tot_impr=1101, last_impr=0, loss=782] \n",
      "3it [00:05,  1.91s/it, tot_impr=975, last_impr=0, loss=908] ]  \n",
      "4it [00:05,  1.48s/it, tot_impr=1242, last_impr=0, loss=631] \n",
      "4it [00:05,  1.48s/it, tot_impr=1063, last_impr=0, loss=812] \n",
      "4it [00:06,  1.50s/it, tot_impr=1317, last_impr=0, loss=548] \n",
      "4it [00:06,  1.53s/it, tot_impr=1410, last_impr=0, loss=438]\n",
      "4it [00:06,  1.57s/it, tot_impr=908, last_impr=0, loss=980]] \n",
      "4it [00:06,  1.56s/it, tot_impr=870, last_impr=0, loss=1007]\n",
      "3it [00:06,  2.11s/it, tot_impr=747, last_impr=0, loss=1144] \n",
      "4it [00:06,  1.60s/it, tot_impr=1501, last_impr=0, loss=333]\n",
      "3it [00:06,  2.13s/it, tot_impr=1527, last_impr=0, loss=278] \n",
      "5it [00:06,  1.29s/it, tot_impr=1112, last_impr=0, loss=755]\n",
      "3it [00:06,  2.14s/it, tot_impr=695, last_impr=0, loss=1195] \n",
      "4it [00:06,  1.61s/it, tot_impr=814, last_impr=0, loss=1077]\n",
      "4it [00:06,  1.62s/it, tot_impr=845, last_impr=0, loss=1044]\n",
      "4it [00:06,  1.71s/it, tot_impr=733, last_impr=0, loss=1155]]  \n",
      "4it [00:06,  1.73s/it, tot_impr=772, last_impr=0, loss=1120]\n",
      "3it [00:08,  2.72s/it, tot_impr=1544, last_impr=0, loss=132] \n"
     ]
    },
    {
     "data": {
      "application/vnd.jupyter.widget-view+json": {
       "model_id": "b930c560694844b7adb53e170688207c",
       "version_major": 2,
       "version_minor": 0
      },
      "text/plain": [
       "  0%|          | 0/19 [00:00<?, ?it/s]"
      ]
     },
     "metadata": {},
     "output_type": "display_data"
    },
    {
     "name": "stderr",
     "output_type": "stream",
     "text": [
      "3it [00:05,  1.99s/it, tot_impr=1081, last_impr=0, loss=796]  ]\n",
      "3it [00:06,  2.00s/it, tot_impr=884, last_impr=0, loss=997]\n",
      "3it [00:06,  2.04s/it, tot_impr=884, last_impr=0, loss=997]] \n",
      "3it [00:06,  2.05s/it, tot_impr=818, last_impr=0, loss=1066] \n",
      "4it [00:06,  1.60s/it, tot_impr=1027, last_impr=0, loss=851]   \n",
      "4it [00:06,  1.63s/it, tot_impr=949, last_impr=0, loss=933]] \n",
      "4it [00:06,  1.65s/it, tot_impr=1171, last_impr=0, loss=705]\n",
      "4it [00:06,  1.66s/it, tot_impr=1462, last_impr=0, loss=396] \n",
      "5it [00:06,  1.37s/it, tot_impr=1245, last_impr=0, loss=626] \n",
      "4it [00:06,  1.73s/it, tot_impr=801, last_impr=0, loss=1086]\n",
      "4it [00:06,  1.73s/it, tot_impr=801, last_impr=0, loss=1086]\n",
      "4it [00:07,  1.75s/it, tot_impr=1481, last_impr=0, loss=357]\n",
      "5it [00:07,  1.41s/it, tot_impr=1332, last_impr=0, loss=538]\n",
      "3it [00:07,  2.34s/it, tot_impr=629, last_impr=0, loss=1260]\n",
      "4it [00:07,  1.80s/it, tot_impr=726, last_impr=0, loss=1164] \n",
      "4it [00:07,  1.83s/it, tot_impr=726, last_impr=0, loss=1164]\n",
      "4it [00:07,  1.83s/it, tot_impr=726, last_impr=0, loss=1164]\n",
      "4it [00:07,  1.97s/it, tot_impr=1533, last_impr=0, loss=280]]  \n",
      "4it [00:10,  2.52s/it, tot_impr=1468, last_impr=0, loss=255] \n"
     ]
    },
    {
     "data": {
      "application/vnd.jupyter.widget-view+json": {
       "model_id": "9c97bd626a3347a5bcde5e491f67f000",
       "version_major": 2,
       "version_minor": 0
      },
      "text/plain": [
       "  0%|          | 0/19 [00:00<?, ?it/s]"
      ]
     },
     "metadata": {},
     "output_type": "display_data"
    },
    {
     "name": "stderr",
     "output_type": "stream",
     "text": [
      "3it [00:05,  1.77s/it, tot_impr=1068, last_impr=0, loss=811]   \n",
      "3it [00:05,  1.84s/it, tot_impr=1447, last_impr=0, loss=416] 5]\n",
      "4it [00:05,  1.45s/it, tot_impr=1310, last_impr=0, loss=548]]  \n",
      "3it [00:05,  1.91s/it, tot_impr=966, last_impr=0, loss=921] \n",
      "4it [00:05,  1.46s/it, tot_impr=1116, last_impr=0, loss=763]\n",
      "3it [00:05,  1.97s/it, tot_impr=737, last_impr=0, loss=1154] \n",
      "4it [00:05,  1.49s/it, tot_impr=1281, last_impr=0, loss=586] \n",
      "4it [00:06,  1.50s/it, tot_impr=1115, last_impr=0, loss=766]\n",
      "4it [00:05,  1.47s/it, tot_impr=1054, last_impr=0, loss=830]\n",
      "3it [00:06,  2.00s/it, tot_impr=777, last_impr=0, loss=1109] \n",
      "3it [00:05,  1.98s/it, tot_impr=721, last_impr=0, loss=1166] \n",
      "4it [00:06,  1.54s/it, tot_impr=937, last_impr=0, loss=948]\n",
      "4it [00:06,  1.60s/it, tot_impr=833, last_impr=0, loss=1047] \n",
      "4it [00:06,  1.59s/it, tot_impr=898, last_impr=0, loss=988]]\n",
      "4it [00:06,  1.63s/it, tot_impr=795, last_impr=0, loss=1090]\n",
      "4it [00:06,  1.74s/it, tot_impr=693, last_impr=0, loss=1199]]  \n",
      "5it [00:06,  1.39s/it, tot_impr=1501, last_impr=0, loss=336]\n",
      "4it [00:06,  1.75s/it, tot_impr=1553, last_impr=0, loss=245]\n",
      "4it [00:09,  2.37s/it, tot_impr=1546, last_impr=0, loss=155] \n"
     ]
    },
    {
     "data": {
      "application/vnd.jupyter.widget-view+json": {
       "model_id": "d37b5d864c5a447c9237702536467ca3",
       "version_major": 2,
       "version_minor": 0
      },
      "text/plain": [
       "  0%|          | 0/19 [00:00<?, ?it/s]"
      ]
     },
     "metadata": {},
     "output_type": "display_data"
    },
    {
     "name": "stderr",
     "output_type": "stream",
     "text": [
      "3it [00:05,  1.93s/it, tot_impr=1060, last_impr=0, loss=816]   \n",
      "3it [00:05,  1.93s/it, tot_impr=1163, last_impr=0, loss=709] \n",
      "3it [00:05,  1.97s/it, tot_impr=903, last_impr=0, loss=979]  4]\n",
      "3it [00:05,  1.97s/it, tot_impr=1091, last_impr=0, loss=785] \n",
      "3it [00:06,  2.01s/it, tot_impr=903, last_impr=0, loss=979]    \n",
      "3it [00:06,  2.05s/it, tot_impr=780, last_impr=0, loss=1104] \n",
      "3it [00:06,  2.06s/it, tot_impr=1526, last_impr=0, loss=314] \n",
      "3it [00:06,  2.09s/it, tot_impr=780, last_impr=0, loss=1104] \n",
      "4it [00:06,  1.56s/it, tot_impr=1298, last_impr=0, loss=572]\n",
      "4it [00:06,  1.63s/it, tot_impr=1410, last_impr=0, loss=444] \n",
      "4it [00:06,  1.64s/it, tot_impr=955, last_impr=0, loss=925]\n",
      "4it [00:06,  1.64s/it, tot_impr=802, last_impr=0, loss=1080]\n",
      "3it [00:06,  2.20s/it, tot_impr=632, last_impr=0, loss=1257]\n",
      "5it [00:06,  1.37s/it, tot_impr=1255, last_impr=0, loss=614]]\n",
      "4it [00:07,  1.75s/it, tot_impr=713, last_impr=0, loss=1177]\n",
      "4it [00:07,  1.78s/it, tot_impr=713, last_impr=0, loss=1177]\n",
      "4it [00:07,  1.78s/it, tot_impr=713, last_impr=0, loss=1177]\n",
      "4it [00:07,  1.88s/it, tot_impr=1564, last_impr=0, loss=251]   \n",
      "3it [00:08,  2.88s/it, tot_impr=1551, last_impr=0, loss=165] \n"
     ]
    },
    {
     "data": {
      "image/png": "[encoded data removed]",
      "text/plain": [
       "<Figure size 432x288 with 1 Axes>"
      ]
     },
     "metadata": {
      "needs_background": "light"
     },
     "output_type": "display_data"
    }
   ],
   "source": [
    "path = './examples/HumanCyc_2016.npy'\n",
    "thresh = np.arange(10, 200, 10)#np.repeat(50,100)\n",
    "C = 0\n",
    "KL_modified = True\n",
    "random_labels = False\n",
    "unweighted = True\n",
    "\n",
    "repeats = 2\n",
    "thresh_out = []\n",
    "out1 = []\n",
    "out2 = []\n",
    "for i in range(repeats):\n",
    "    np.random.seed(i)\n",
    "    results = process_map(partial(get_scores,path,C,KL_modified,False,unweighted,i), thresh)\n",
    "    out1.append(results)\n",
    "    \n",
    "    thresh2 = np.ceil(np.array([np.mean(np.unique(x[0], return_counts = True)[1]) for x in results]))\n",
    "    thresh_out.append(thresh2)\n",
    "    plt.scatter(thresh2, [x[1] for x in results], c='red', s = .5)\n",
    "    \n",
    "    results = process_map(partial(get_scores,path,C,KL_modified,True,unweighted,i), thresh2)\n",
    "    out2.append(results)\n",
    "    plt.scatter(thresh2, [x[1] for x in results], c='blue', s = .5)"
   ]
  },
  {
   "cell_type": "code",
   "execution_count": 10,
   "id": "37324938-d1eb-42aa-afa8-f3e835c14a59",
   "metadata": {},
   "outputs": [
    {
     "data": {
      "text/plain": [
       "<matplotlib.legend.Legend at 0x7f9b0ee359d0>"
      ]
     },
     "execution_count": 10,
     "metadata": {},
     "output_type": "execute_result"
    },
    {
     "data": {
      "image/png": "[encoded data removed]",
      "text/plain": [
       "<Figure size 432x288 with 1 Axes>"
      ]
     },
     "metadata": {
      "needs_background": "light"
     },
     "output_type": "display_data"
    }
   ],
   "source": [
    "losses1 = np.empty(shape = (repeats,len(thresh)))\n",
    "for i in range(repeats):\n",
    "    losses1[i] = [x[1] for x in out1[i]]\n",
    "    \n",
    "losses2 = np.empty(shape = (repeats,len(thresh)))\n",
    "for i in range(repeats):\n",
    "    losses2[i] = [x[1] for x in out2[i]]\n",
    "    \n",
    "plt.errorbar(thresh_out[0], np.mean(losses1, axis = 0), yerr=np.std(losses1, axis = 0), label='random labels False')\n",
    "plt.errorbar(thresh_out[0], np.mean(losses2, axis = 0), yerr=np.std(losses2, axis = 0), label='random labels True')\n",
    "plt.legend(loc='upper right')\n"
   ]
  },
  {
   "cell_type": "code",
   "execution_count": 295,
   "id": "180408ca-2241-4eca-a66b-01eff481250d",
   "metadata": {},
   "outputs": [],
   "source": [
    "loss1 = np.stack([x[2][1] for x in out1])\n",
    "lab1 = np.stack([x[2][0] for x in out1])\n",
    "\n",
    "loss2 = np.stack([x[2][1] for x in out2])\n",
    "lab2 = np.stack([x[2][0] for x in out2])"
   ]
  },
  {
   "cell_type": "code",
   "execution_count": 15,
   "id": "fe2dfae5-6539-45b1-becc-623ff0291c75",
   "metadata": {
    "collapsed": true,
    "jupyter": {
     "outputs_hidden": true
    },
    "tags": []
   },
   "outputs": [
    {
     "data": {
      "application/vnd.jupyter.widget-view+json": {
       "model_id": "29bfb0aed3a145dea119278892ac60d2",
       "version_major": 2,
       "version_minor": 0
      },
      "text/plain": [
       "  0%|          | 0/1000 [00:00<?, ?it/s]"
      ]
     },
     "metadata": {},
     "output_type": "display_data"
    },
    {
     "name": "stderr",
     "output_type": "stream",
     "text": [
      "3it [00:05,  1.82s/it, tot_impr=1303, last_impr=0, loss=550]   \n",
      "3it [00:05,  1.93s/it, tot_impr=1353, last_impr=0, loss=502] \n",
      "4it [00:05,  1.50s/it, tot_impr=1366, last_impr=0, loss=504]]\n",
      "3it [00:05,  1.80s/it, tot_impr=1266, last_impr=0, loss=604] \n",
      "4it [00:05,  1.47s/it, tot_impr=1357, last_impr=0, loss=500] \n",
      "4it [00:06,  1.51s/it, tot_impr=1292, last_impr=0, loss=562]\n",
      "3it [00:05,  1.86s/it, tot_impr=1348, last_impr=0, loss=519] \n",
      "4it [00:05,  1.49s/it, tot_impr=1307, last_impr=0, loss=549]\n",
      "4it [00:05,  1.49s/it, tot_impr=1344, last_impr=0, loss=531]\n",
      "4it [00:06,  1.54s/it, tot_impr=1326, last_impr=0, loss=534] \n",
      "4it [00:06,  1.55s/it, tot_impr=1351, last_impr=0, loss=504]\n",
      "3it [00:05,  2.00s/it, tot_impr=1323, last_impr=0, loss=523] \n",
      "4it [00:06,  1.58s/it, tot_impr=1314, last_impr=0, loss=542] \n",
      "3it [00:06,  2.04s/it, tot_impr=1345, last_impr=0, loss=515] \n",
      "3it [00:06,  2.00s/it, tot_impr=1323, last_impr=0, loss=546] \n",
      "4it [00:06,  1.59s/it, tot_impr=1310, last_impr=0, loss=548]\n",
      "4it [00:06,  1.58s/it, tot_impr=1282, last_impr=0, loss=573]\n",
      "4it [00:06,  1.59s/it, tot_impr=1317, last_impr=0, loss=548] \n",
      "4it [00:06,  1.57s/it, tot_impr=1309, last_impr=0, loss=555] \n",
      "4it [00:06,  1.60s/it, tot_impr=1354, last_impr=0, loss=510] \n",
      "4it [00:06,  1.57s/it, tot_impr=1250, last_impr=0, loss=612] \n",
      "4it [00:06,  1.50s/it, tot_impr=1300, last_impr=0, loss=560]\n",
      "5it [00:06,  1.30s/it, tot_impr=1300, last_impr=0, loss=566]76]\n",
      "4it [00:06,  1.62s/it, tot_impr=1320, last_impr=0, loss=536]\n",
      "4it [00:06,  1.62s/it, tot_impr=1286, last_impr=0, loss=565]51]\n",
      "4it [00:06,  1.62s/it, tot_impr=1378, last_impr=0, loss=496]50]\n",
      "4it [00:06,  1.63s/it, tot_impr=1390, last_impr=0, loss=464]47]\n",
      "4it [00:06,  1.65s/it, tot_impr=1321, last_impr=0, loss=550]\n",
      "4it [00:06,  1.64s/it, tot_impr=1395, last_impr=0, loss=472]\n",
      "5it [00:06,  1.31s/it, tot_impr=1287, last_impr=0, loss=574]\n",
      "5it [00:06,  1.38s/it, tot_impr=1312, last_impr=0, loss=548]39]\n",
      "5it [00:06,  1.38s/it, tot_impr=1308, last_impr=0, loss=552]68]\n",
      "3it [00:01,  1.94it/s, tot_impr=1367, last_impr=0, loss=485] ] \n",
      "3it [00:01,  1.93it/s, tot_impr=1355, last_impr=0, loss=503]   \n",
      "3it [00:01,  1.95it/s, tot_impr=1319, last_impr=0, loss=533] 5]\n",
      "3it [00:01,  1.94it/s, tot_impr=1303, last_impr=0, loss=555] \n",
      "4it [00:02,  1.91it/s, tot_impr=1291, last_impr=0, loss=577]]  \n",
      "4it [00:02,  1.95it/s, tot_impr=1394, last_impr=0, loss=465] \n",
      "3it [00:01,  1.80it/s, tot_impr=1324, last_impr=0, loss=537]\n",
      "3it [00:01,  1.95it/s, tot_impr=1399, last_impr=0, loss=461]  \n",
      "3it [00:01,  1.85it/s, tot_impr=1277, last_impr=0, loss=591] \n",
      "3it [00:01,  1.80it/s, tot_impr=1395, last_impr=0, loss=471]]  \n",
      "3it [00:01,  1.92it/s, tot_impr=1280, last_impr=0, loss=571] \n",
      "4it [00:02,  1.80it/s, tot_impr=1331, last_impr=0, loss=533]\n",
      "4it [00:02,  1.97it/s, tot_impr=1333, last_impr=0, loss=533] \n",
      "4it [00:02,  1.97it/s, tot_impr=1367, last_impr=0, loss=504]\n",
      "3it [00:01,  1.93it/s, tot_impr=1332, last_impr=0, loss=518]]  \n",
      "4it [00:02,  1.92it/s, tot_impr=1356, last_impr=0, loss=502]]\n",
      "4it [00:02,  1.83it/s, tot_impr=1344, last_impr=0, loss=518] \n",
      "3it [00:01,  1.80it/s, tot_impr=1342, last_impr=0, loss=513] 1]\n",
      "3it [00:01,  1.80it/s, tot_impr=1333, last_impr=0, loss=539] 7]\n",
      "4it [00:02,  1.81it/s, tot_impr=1309, last_impr=0, loss=548] \n",
      "4it [00:02,  1.82it/s, tot_impr=1342, last_impr=0, loss=521] \n",
      "4it [00:02,  1.78it/s, tot_impr=1361, last_impr=0, loss=503]\n",
      "4it [00:02,  1.90it/s, tot_impr=1399, last_impr=0, loss=473] \n",
      "4it [00:02,  1.82it/s, tot_impr=1315, last_impr=0, loss=545]10]\n",
      "4it [00:02,  1.93it/s, tot_impr=1303, last_impr=0, loss=559] 7]\n",
      "4it [00:02,  1.81it/s, tot_impr=1363, last_impr=0, loss=495]49]\n",
      "5it [00:02,  1.78it/s, tot_impr=1305, last_impr=0, loss=557]68]\n",
      "4it [00:02,  1.77it/s, tot_impr=1334, last_impr=0, loss=538]83]\n",
      "4it [00:02,  1.73it/s, tot_impr=1378, last_impr=0, loss=487]\n",
      "4it [00:02,  1.79it/s, tot_impr=1331, last_impr=0, loss=534] 3]\n",
      "3it [00:01,  1.89it/s, tot_impr=1270, last_impr=0, loss=586] 0]\n",
      "4it [00:02,  1.76it/s, tot_impr=1324, last_impr=0, loss=546]\n",
      "3it [00:01,  1.91it/s, tot_impr=1330, last_impr=0, loss=539]   \n",
      "3it [00:01,  1.80it/s, tot_impr=1295, last_impr=0, loss=566]   \n",
      "4it [00:02,  1.88it/s, tot_impr=1385, last_impr=0, loss=480] 9]\n",
      "3it [00:01,  1.84it/s, tot_impr=1382, last_impr=0, loss=476]]  \n",
      "3it [00:01,  1.82it/s, tot_impr=1278, last_impr=0, loss=581] \n",
      "3it [00:01,  1.77it/s, tot_impr=1317, last_impr=0, loss=537] \n",
      "6it [00:03,  1.91it/s, tot_impr=1397, last_impr=0, loss=472] 3]\n",
      "3it [00:01,  1.78it/s, tot_impr=1324, last_impr=0, loss=546]\n",
      "4it [00:02,  1.90it/s, tot_impr=1291, last_impr=0, loss=577] \n",
      "3it [00:01,  1.84it/s, tot_impr=1303, last_impr=0, loss=554]   \n",
      "3it [00:01,  1.85it/s, tot_impr=1309, last_impr=0, loss=546] \n",
      "3it [00:01,  1.80it/s, tot_impr=1284, last_impr=0, loss=572] 1]\n",
      "3it [00:01,  1.79it/s, tot_impr=1346, last_impr=0, loss=513]   \n",
      "4it [00:02,  1.78it/s, tot_impr=1306, last_impr=0, loss=563]27]\n",
      "3it [00:01,  1.80it/s, tot_impr=1333, last_impr=0, loss=527] \n",
      "4it [00:02,  1.84it/s, tot_impr=1355, last_impr=0, loss=506]04]\n",
      "5it [00:02,  1.91it/s, tot_impr=1350, last_impr=0, loss=510]]3]\n",
      "4it [00:02,  1.83it/s, tot_impr=1345, last_impr=0, loss=518]\n",
      "4it [00:02,  1.89it/s, tot_impr=1285, last_impr=0, loss=561] \n",
      "5it [00:02,  1.88it/s, tot_impr=1319, last_impr=0, loss=543]\n",
      "4it [00:02,  1.81it/s, tot_impr=1378, last_impr=0, loss=492] \n",
      "5it [00:02,  1.94it/s, tot_impr=1258, last_impr=0, loss=608] \n",
      "5it [00:02,  1.92it/s, tot_impr=1347, last_impr=0, loss=518]42]\n",
      "4it [00:02,  1.83it/s, tot_impr=1338, last_impr=0, loss=512]]  \n",
      "4it [00:02,  1.85it/s, tot_impr=1260, last_impr=0, loss=604] 3]\n",
      "4it [00:02,  1.80it/s, tot_impr=1291, last_impr=0, loss=581]74]\n",
      "5it [00:02,  1.82it/s, tot_impr=1353, last_impr=0, loss=505]\n",
      "4it [00:02,  1.81it/s, tot_impr=1310, last_impr=0, loss=556]\n",
      "4it [00:02,  1.83it/s, tot_impr=1352, last_impr=0, loss=508]]  \n",
      "4it [00:02,  1.90it/s, tot_impr=1330, last_impr=0, loss=527]04]\n",
      "4it [00:02,  1.89it/s, tot_impr=1351, last_impr=0, loss=504]]4]\n",
      "4it [00:02,  1.76it/s, tot_impr=1383, last_impr=0, loss=492] \n",
      "5it [00:02,  1.86it/s, tot_impr=1373, last_impr=0, loss=488]\n",
      "4it [00:02,  1.96it/s, tot_impr=1318, last_impr=0, loss=551]]  \n",
      "4it [00:02,  1.97it/s, tot_impr=1361, last_impr=0, loss=512]]  \n",
      "4it [00:02,  1.96it/s, tot_impr=1346, last_impr=0, loss=523]]  \n",
      "4it [00:02,  1.94it/s, tot_impr=1312, last_impr=0, loss=550] 9]\n",
      "4it [00:02,  1.90it/s, tot_impr=1351, last_impr=0, loss=516] 6]\n",
      "4it [00:02,  1.94it/s, tot_impr=1342, last_impr=0, loss=510] 9]\n",
      "4it [00:02,  1.85it/s, tot_impr=1388, last_impr=0, loss=485]\n",
      "4it [00:02,  1.82it/s, tot_impr=1313, last_impr=0, loss=548]92]\n",
      "3it [00:01,  1.79it/s, tot_impr=1259, last_impr=0, loss=605] 5]\n",
      "3it [00:01,  1.89it/s, tot_impr=1350, last_impr=0, loss=517] 0]\n",
      "4it [00:02,  1.81it/s, tot_impr=1403, last_impr=0, loss=462]]\n",
      "3it [00:01,  1.83it/s, tot_impr=1347, last_impr=0, loss=510]06]\n",
      "5it [00:02,  1.94it/s, tot_impr=1336, last_impr=0, loss=525]]  \n",
      "5it [00:02,  1.85it/s, tot_impr=1331, last_impr=0, loss=531]]  \n",
      "4it [00:02,  1.79it/s, tot_impr=1355, last_impr=0, loss=513]]  \n",
      "4it [00:02,  1.79it/s, tot_impr=1318, last_impr=0, loss=539]15]\n",
      "4it [00:02,  1.93it/s, tot_impr=1296, last_impr=0, loss=563]28]\n",
      "4it [00:02,  1.92it/s, tot_impr=1373, last_impr=0, loss=492] \n",
      "4it [00:02,  1.92it/s, tot_impr=1340, last_impr=0, loss=524]]  \n",
      "4it [00:02,  1.94it/s, tot_impr=1275, last_impr=0, loss=579] \n",
      "5it [00:02,  1.78it/s, tot_impr=1371, last_impr=0, loss=501]   \n",
      "3it [00:01,  1.80it/s, tot_impr=1284, last_impr=0, loss=567] 8]\n",
      "3it [00:01,  1.92it/s, tot_impr=1311, last_impr=0, loss=557]97]\n",
      "3it [00:01,  1.93it/s, tot_impr=1295, last_impr=0, loss=567] 5]\n",
      "5it [00:02,  1.83it/s, tot_impr=1375, last_impr=0, loss=492]\n",
      "4it [00:02,  1.81it/s, tot_impr=1309, last_impr=0, loss=546]\n",
      "4it [00:02,  1.83it/s, tot_impr=1371, last_impr=0, loss=480]99]\n",
      "4it [00:02,  1.85it/s, tot_impr=1341, last_impr=0, loss=529]\n",
      "4it [00:02,  1.95it/s, tot_impr=1314, last_impr=0, loss=546]82]\n",
      "5it [00:02,  1.79it/s, tot_impr=1330, last_impr=0, loss=528]]  \n",
      "3it [00:01,  1.79it/s, tot_impr=1357, last_impr=0, loss=512] \n",
      "4it [00:02,  1.83it/s, tot_impr=1344, last_impr=0, loss=517]38]\n",
      "4it [00:02,  1.79it/s, tot_impr=1334, last_impr=0, loss=529]]  \n",
      "4it [00:02,  1.95it/s, tot_impr=1341, last_impr=0, loss=517]]  \n",
      "4it [00:02,  1.95it/s, tot_impr=1340, last_impr=0, loss=522]\n",
      "3it [00:01,  1.89it/s, tot_impr=1336, last_impr=0, loss=524]]  \n",
      "4it [00:02,  1.97it/s, tot_impr=1344, last_impr=0, loss=525]\n",
      "4it [00:02,  1.92it/s, tot_impr=1288, last_impr=0, loss=569] 2]\n",
      "5it [00:02,  1.80it/s, tot_impr=1330, last_impr=0, loss=534]\n",
      "4it [00:02,  1.90it/s, tot_impr=1378, last_impr=0, loss=487]02]\n",
      "3it [00:01,  1.75it/s, tot_impr=1331, last_impr=0, loss=534]]  \n",
      "3it [00:01,  1.81it/s, tot_impr=1362, last_impr=0, loss=500]   \n",
      "4it [00:02,  1.80it/s, tot_impr=1284, last_impr=0, loss=577] 4]\n",
      "3it [00:01,  1.83it/s, tot_impr=1343, last_impr=0, loss=523]   \n",
      "4it [00:02,  1.80it/s, tot_impr=1351, last_impr=0, loss=515] 4]\n",
      "3it [00:01,  1.78it/s, tot_impr=1334, last_impr=0, loss=525]\n",
      "5it [00:02,  1.83it/s, tot_impr=1349, last_impr=0, loss=517]\n",
      "5it [00:02,  1.84it/s, tot_impr=1300, last_impr=0, loss=562]95]\n",
      "4it [00:02,  1.93it/s, tot_impr=1326, last_impr=0, loss=550]\n",
      "4it [00:02,  1.96it/s, tot_impr=1376, last_impr=0, loss=492]\n",
      "4it [00:02,  1.92it/s, tot_impr=1346, last_impr=0, loss=518]\n",
      "3it [00:01,  1.94it/s, tot_impr=1347, last_impr=0, loss=507]   \n",
      "4it [00:02,  1.93it/s, tot_impr=1347, last_impr=0, loss=523]\n",
      "5it [00:02,  1.92it/s, tot_impr=1327, last_impr=0, loss=532]]  \n",
      "4it [00:02,  1.91it/s, tot_impr=1289, last_impr=0, loss=576]1] \n",
      "3it [00:01,  1.84it/s, tot_impr=1392, last_impr=0, loss=482] 4]\n",
      "5it [00:02,  1.81it/s, tot_impr=1363, last_impr=0, loss=507]66]\n",
      "4it [00:02,  1.93it/s, tot_impr=1321, last_impr=0, loss=542]]  \n",
      "3it [00:01,  1.92it/s, tot_impr=1328, last_impr=0, loss=528] 8]\n",
      "4it [00:02,  1.85it/s, tot_impr=1322, last_impr=0, loss=534] \n",
      "4it [00:02,  1.80it/s, tot_impr=1356, last_impr=0, loss=499] \n",
      "3it [00:01,  1.97it/s, tot_impr=1304, last_impr=0, loss=560] 8]\n",
      "4it [00:02,  1.77it/s, tot_impr=1305, last_impr=0, loss=556]   \n",
      "4it [00:02,  1.95it/s, tot_impr=1367, last_impr=0, loss=495]\n",
      "4it [00:02,  1.86it/s, tot_impr=1303, last_impr=0, loss=563]\n",
      "4it [00:02,  1.93it/s, tot_impr=1288, last_impr=0, loss=571]]  \n",
      "4it [00:02,  1.89it/s, tot_impr=1364, last_impr=0, loss=514]\n",
      "5it [00:02,  1.90it/s, tot_impr=1333, last_impr=0, loss=533]\n",
      "4it [00:02,  1.96it/s, tot_impr=1376, last_impr=0, loss=488]]  \n",
      "5it [00:02,  1.83it/s, tot_impr=1373, last_impr=0, loss=491]20]\n",
      "4it [00:02,  1.84it/s, tot_impr=1316, last_impr=0, loss=535]37]\n",
      "4it [00:02,  1.81it/s, tot_impr=1394, last_impr=0, loss=464] 0]\n",
      "5it [00:02,  1.84it/s, tot_impr=1336, last_impr=0, loss=529] \n",
      "3it [00:01,  1.76it/s, tot_impr=1335, last_impr=0, loss=526] \n",
      "4it [00:02,  1.84it/s, tot_impr=1327, last_impr=0, loss=527] \n",
      "3it [00:01,  1.92it/s, tot_impr=1338, last_impr=0, loss=522] \n",
      "4it [00:02,  1.80it/s, tot_impr=1323, last_impr=0, loss=537]]  \n",
      "4it [00:02,  1.98it/s, tot_impr=1348, last_impr=0, loss=510]85]\n",
      "4it [00:02,  1.96it/s, tot_impr=1362, last_impr=0, loss=499]54]\n",
      "4it [00:02,  1.95it/s, tot_impr=1335, last_impr=0, loss=518]\n",
      "4it [00:02,  1.74it/s, tot_impr=1298, last_impr=0, loss=568]\n",
      "4it [00:02,  1.89it/s, tot_impr=1274, last_impr=0, loss=595]\n",
      "4it [00:02,  1.93it/s, tot_impr=1328, last_impr=0, loss=541]\n",
      "4it [00:02,  1.93it/s, tot_impr=1332, last_impr=0, loss=531]   \n",
      "3it [00:01,  1.74it/s, tot_impr=1285, last_impr=0, loss=583] \n",
      "3it [00:01,  1.83it/s, tot_impr=1368, last_impr=0, loss=487] \n",
      "5it [00:02,  1.82it/s, tot_impr=1347, last_impr=0, loss=509]]  \n",
      "5it [00:02,  1.80it/s, tot_impr=1344, last_impr=0, loss=514]56]\n",
      "4it [00:02,  1.97it/s, tot_impr=1387, last_impr=0, loss=474] 2]\n",
      "4it [00:02,  1.82it/s, tot_impr=1290, last_impr=0, loss=573]]  \n",
      "4it [00:02,  1.85it/s, tot_impr=1323, last_impr=0, loss=549]\n",
      "3it [00:01,  1.83it/s, tot_impr=1280, last_impr=0, loss=589]   \n",
      "3it [00:01,  1.93it/s, tot_impr=1339, last_impr=0, loss=519]   \n",
      "4it [00:02,  1.94it/s, tot_impr=1295, last_impr=0, loss=564]68]\n",
      "3it [00:01,  1.71it/s, tot_impr=1322, last_impr=0, loss=536] \n",
      "4it [00:02,  1.81it/s, tot_impr=1369, last_impr=0, loss=492]\n",
      "6it [00:03,  1.83it/s, tot_impr=1380, last_impr=0, loss=481] 8]\n",
      "3it [00:01,  1.83it/s, tot_impr=1357, last_impr=0, loss=504] 4]\n",
      "4it [00:02,  1.94it/s, tot_impr=1358, last_impr=0, loss=502]96]\n",
      "4it [00:02,  1.95it/s, tot_impr=1361, last_impr=0, loss=500]]  \n",
      "3it [00:01,  1.82it/s, tot_impr=1339, last_impr=0, loss=524] \n",
      "4it [00:02,  1.91it/s, tot_impr=1307, last_impr=0, loss=549]\n",
      "3it [00:01,  1.93it/s, tot_impr=1327, last_impr=0, loss=545] \n",
      "3it [00:01,  1.81it/s, tot_impr=1316, last_impr=0, loss=549] \n",
      "4it [00:02,  1.80it/s, tot_impr=1319, last_impr=0, loss=543]89]\n",
      "3it [00:01,  1.94it/s, tot_impr=1348, last_impr=0, loss=521]   \n",
      "3it [00:01,  1.82it/s, tot_impr=1322, last_impr=0, loss=529]]  \n",
      "3it [00:01,  1.92it/s, tot_impr=1336, last_impr=0, loss=534]   \n",
      "4it [00:02,  1.80it/s, tot_impr=1363, last_impr=0, loss=503]82]\n",
      "3it [00:01,  1.93it/s, tot_impr=1362, last_impr=0, loss=505] \n",
      "5it [00:02,  1.84it/s, tot_impr=1346, last_impr=0, loss=519]]  \n",
      "3it [00:01,  1.91it/s, tot_impr=1344, last_impr=0, loss=513] ] \n",
      "4it [00:02,  1.93it/s, tot_impr=1379, last_impr=0, loss=489]   \n",
      "4it [00:02,  1.91it/s, tot_impr=1317, last_impr=0, loss=538]93]\n",
      "3it [00:01,  1.85it/s, tot_impr=1306, last_impr=0, loss=551] 7]\n",
      "3it [00:01,  1.82it/s, tot_impr=1284, last_impr=0, loss=577]]1]\n",
      "4it [00:02,  1.84it/s, tot_impr=1319, last_impr=0, loss=552]\n",
      "4it [00:02,  1.79it/s, tot_impr=1357, last_impr=0, loss=508]\n",
      "4it [00:02,  1.97it/s, tot_impr=1270, last_impr=0, loss=594]   \n",
      "3it [00:01,  1.95it/s, tot_impr=1357, last_impr=0, loss=509] \n",
      "6it [00:03,  1.82it/s, tot_impr=1352, last_impr=0, loss=510] \n",
      "3it [00:01,  1.95it/s, tot_impr=1355, last_impr=0, loss=516]   \n",
      "4it [00:02,  1.79it/s, tot_impr=1307, last_impr=0, loss=553]\n",
      "3it [00:01,  1.91it/s, tot_impr=1356, last_impr=0, loss=511] \n",
      "5it [00:02,  1.79it/s, tot_impr=1298, last_impr=0, loss=565] \n",
      "4it [00:02,  1.90it/s, tot_impr=1333, last_impr=0, loss=528]\n",
      "4it [00:02,  1.92it/s, tot_impr=1350, last_impr=0, loss=516] 4]\n",
      "4it [00:02,  1.75it/s, tot_impr=1321, last_impr=0, loss=538]]  \n",
      "5it [00:02,  1.91it/s, tot_impr=1340, last_impr=0, loss=520]\n",
      "4it [00:02,  1.82it/s, tot_impr=1403, last_impr=0, loss=469]   \n",
      "4it [00:02,  1.84it/s, tot_impr=1322, last_impr=0, loss=546] 3]\n",
      "3it [00:01,  1.91it/s, tot_impr=1348, last_impr=0, loss=512]   \n",
      "4it [00:02,  1.80it/s, tot_impr=1341, last_impr=0, loss=519]\n",
      "4it [00:02,  1.90it/s, tot_impr=1369, last_impr=0, loss=493]78]\n",
      "4it [00:02,  1.82it/s, tot_impr=1279, last_impr=0, loss=575]]  \n",
      "4it [00:02,  1.78it/s, tot_impr=1294, last_impr=0, loss=582]48]\n",
      "4it [00:02,  1.92it/s, tot_impr=1350, last_impr=0, loss=515]60]\n",
      "4it [00:02,  1.84it/s, tot_impr=1328, last_impr=0, loss=534] 6]\n",
      "4it [00:02,  1.90it/s, tot_impr=1354, last_impr=0, loss=511]   \n",
      "6it [00:03,  1.84it/s, tot_impr=1343, last_impr=0, loss=514]\n",
      "4it [00:02,  1.80it/s, tot_impr=1291, last_impr=0, loss=559] 0]\n",
      "4it [00:02,  1.82it/s, tot_impr=1327, last_impr=0, loss=547]90]\n",
      "4it [00:02,  1.93it/s, tot_impr=1342, last_impr=0, loss=518]]  \n",
      "5it [00:02,  1.81it/s, tot_impr=1331, last_impr=0, loss=535]   \n",
      "4it [00:02,  1.94it/s, tot_impr=1336, last_impr=0, loss=533]]  \n",
      "3it [00:01,  1.75it/s, tot_impr=1371, last_impr=0, loss=498]   \n",
      "3it [00:01,  1.79it/s, tot_impr=1286, last_impr=0, loss=580] \n",
      "4it [00:02,  1.93it/s, tot_impr=1327, last_impr=0, loss=531]\n",
      "3it [00:01,  1.96it/s, tot_impr=1309, last_impr=0, loss=558] \n",
      "4it [00:02,  1.81it/s, tot_impr=1337, last_impr=0, loss=531]]  \n",
      "3it [00:01,  1.81it/s, tot_impr=1304, last_impr=0, loss=555] \n",
      "4it [00:02,  1.93it/s, tot_impr=1324, last_impr=0, loss=547]]  \n",
      "4it [00:02,  1.79it/s, tot_impr=1341, last_impr=0, loss=515]\n",
      "4it [00:02,  1.93it/s, tot_impr=1352, last_impr=0, loss=512]   \n",
      "4it [00:02,  1.96it/s, tot_impr=1327, last_impr=0, loss=539]\n",
      "4it [00:02,  1.93it/s, tot_impr=1318, last_impr=0, loss=547] \n",
      "4it [00:02,  1.95it/s, tot_impr=1271, last_impr=0, loss=595] 6]\n",
      "4it [00:02,  1.79it/s, tot_impr=1340, last_impr=0, loss=533] \n",
      "4it [00:02,  1.83it/s, tot_impr=1325, last_impr=0, loss=535]14]\n",
      "5it [00:02,  1.94it/s, tot_impr=1311, last_impr=0, loss=554]]  \n",
      "4it [00:02,  1.90it/s, tot_impr=1323, last_impr=0, loss=530]   \n",
      "4it [00:02,  1.75it/s, tot_impr=1388, last_impr=0, loss=478]\n",
      "4it [00:02,  1.83it/s, tot_impr=1343, last_impr=0, loss=522]53]\n",
      "5it [00:02,  1.83it/s, tot_impr=1360, last_impr=0, loss=498] \n",
      "4it [00:02,  1.78it/s, tot_impr=1326, last_impr=0, loss=541]]  \n",
      "4it [00:02,  1.80it/s, tot_impr=1382, last_impr=0, loss=475]81]\n",
      "4it [00:02,  1.90it/s, tot_impr=1359, last_impr=0, loss=495] 9]\n",
      "4it [00:02,  1.80it/s, tot_impr=1343, last_impr=0, loss=525]53]\n",
      "3it [00:01,  1.83it/s, tot_impr=1363, last_impr=0, loss=506]   \n",
      "4it [00:02,  1.89it/s, tot_impr=1305, last_impr=0, loss=556]64]\n",
      "5it [00:02,  1.90it/s, tot_impr=1352, last_impr=0, loss=506]09]\n",
      "3it [00:01,  1.92it/s, tot_impr=1332, last_impr=0, loss=530]   \n",
      "4it [00:02,  1.87it/s, tot_impr=1335, last_impr=0, loss=535]78]\n",
      "4it [00:02,  1.82it/s, tot_impr=1341, last_impr=0, loss=508]92]\n",
      "4it [00:02,  1.90it/s, tot_impr=1351, last_impr=0, loss=517]18]\n",
      "4it [00:02,  1.83it/s, tot_impr=1372, last_impr=0, loss=498]]  \n",
      "4it [00:02,  1.86it/s, tot_impr=1352, last_impr=0, loss=512]49]\n",
      "4it [00:02,  1.91it/s, tot_impr=1333, last_impr=0, loss=521]\n",
      "3it [00:01,  1.83it/s, tot_impr=1363, last_impr=0, loss=499] 4]\n",
      "3it [00:01,  1.91it/s, tot_impr=1321, last_impr=0, loss=542] 4]\n",
      "4it [00:02,  1.81it/s, tot_impr=1317, last_impr=0, loss=546]]  \n",
      "3it [00:01,  1.93it/s, tot_impr=1296, last_impr=0, loss=571]]  \n",
      "3it [00:01,  1.94it/s, tot_impr=1414, last_impr=0, loss=455] 1]\n",
      "3it [00:01,  1.80it/s, tot_impr=1348, last_impr=0, loss=517] 6]\n",
      "3it [00:01,  1.96it/s, tot_impr=1298, last_impr=0, loss=565] 3]\n",
      "4it [00:02,  1.84it/s, tot_impr=1337, last_impr=0, loss=512]]  \n",
      "4it [00:02,  1.92it/s, tot_impr=1324, last_impr=0, loss=529]52]\n",
      "5it [00:02,  1.79it/s, tot_impr=1394, last_impr=0, loss=484]]  \n",
      "3it [00:01,  1.79it/s, tot_impr=1286, last_impr=0, loss=576]   \n",
      "3it [00:01,  1.79it/s, tot_impr=1319, last_impr=0, loss=544] 9]\n",
      "4it [00:02,  1.81it/s, tot_impr=1357, last_impr=0, loss=508]]  \n",
      "5it [00:02,  1.93it/s, tot_impr=1358, last_impr=0, loss=499]06]\n",
      "5it [00:03,  1.56it/s, tot_impr=1308, last_impr=0, loss=554] \n",
      "3it [00:01,  1.93it/s, tot_impr=1370, last_impr=0, loss=490] \n",
      "3it [00:01,  1.83it/s, tot_impr=1297, last_impr=0, loss=569] \n",
      "4it [00:02,  1.83it/s, tot_impr=1388, last_impr=0, loss=475] 2]\n",
      "5it [00:02,  1.79it/s, tot_impr=1340, last_impr=0, loss=523] \n",
      "3it [00:01,  1.93it/s, tot_impr=1341, last_impr=0, loss=519] \n",
      "4it [00:02,  1.83it/s, tot_impr=1375, last_impr=0, loss=483]]  \n",
      "5it [00:02,  1.96it/s, tot_impr=1322, last_impr=0, loss=537] 8]\n",
      "4it [00:02,  1.81it/s, tot_impr=1367, last_impr=0, loss=501]]  \n",
      "4it [00:02,  1.92it/s, tot_impr=1334, last_impr=0, loss=525]92]\n",
      "3it [00:01,  1.80it/s, tot_impr=1288, last_impr=0, loss=569] \n",
      "5it [00:02,  1.78it/s, tot_impr=1319, last_impr=0, loss=546]14]\n",
      "4it [00:02,  1.92it/s, tot_impr=1324, last_impr=0, loss=537]82]\n",
      "4it [00:02,  1.83it/s, tot_impr=1339, last_impr=0, loss=528]47]\n",
      "5it [00:02,  1.88it/s, tot_impr=1344, last_impr=0, loss=521]]  \n",
      "4it [00:02,  1.82it/s, tot_impr=1315, last_impr=0, loss=549]74]\n",
      "4it [00:02,  1.78it/s, tot_impr=1354, last_impr=0, loss=510]\n",
      "5it [00:02,  1.80it/s, tot_impr=1294, last_impr=0, loss=561]]  \n",
      "4it [00:02,  1.93it/s, tot_impr=1363, last_impr=0, loss=503]\n",
      "4it [00:02,  1.95it/s, tot_impr=1293, last_impr=0, loss=575]]  \n",
      "4it [00:02,  1.97it/s, tot_impr=1360, last_impr=0, loss=509]\n",
      "4it [00:02,  1.83it/s, tot_impr=1308, last_impr=0, loss=563]   \n",
      "5it [00:02,  1.95it/s, tot_impr=1320, last_impr=0, loss=539]]  \n",
      "4it [00:02,  1.92it/s, tot_impr=1306, last_impr=0, loss=555]]  \n",
      "4it [00:02,  1.93it/s, tot_impr=1344, last_impr=0, loss=522]80]\n",
      "4it [00:02,  1.81it/s, tot_impr=1307, last_impr=0, loss=545]\n",
      "4it [00:02,  1.82it/s, tot_impr=1307, last_impr=0, loss=559]   \n",
      "3it [00:01,  1.93it/s, tot_impr=1268, last_impr=0, loss=598] \n",
      "3it [00:01,  1.91it/s, tot_impr=1337, last_impr=0, loss=533] 9]\n",
      "3it [00:01,  1.80it/s, tot_impr=1324, last_impr=0, loss=538]   \n",
      "4it [00:02,  1.85it/s, tot_impr=1325, last_impr=0, loss=531]\n",
      "3it [00:01,  1.81it/s, tot_impr=1346, last_impr=0, loss=510] \n",
      "4it [00:02,  1.84it/s, tot_impr=1290, last_impr=0, loss=578] 1]\n",
      "4it [00:02,  1.81it/s, tot_impr=1340, last_impr=0, loss=517]   \n",
      "4it [00:02,  1.84it/s, tot_impr=1297, last_impr=0, loss=573]45]\n",
      "3it [00:01,  1.94it/s, tot_impr=1333, last_impr=0, loss=530]   \n",
      "4it [00:02,  1.96it/s, tot_impr=1307, last_impr=0, loss=561]\n",
      "4it [00:02,  1.84it/s, tot_impr=1353, last_impr=0, loss=508]   \n",
      "4it [00:02,  1.92it/s, tot_impr=1332, last_impr=0, loss=526] 3]\n",
      "4it [00:02,  1.59it/s, tot_impr=1284, last_impr=0, loss=573]87]\n",
      "4it [00:02,  1.86it/s, tot_impr=1332, last_impr=0, loss=519]]  \n",
      "4it [00:02,  1.81it/s, tot_impr=1308, last_impr=0, loss=561]70]\n",
      "5it [00:02,  1.79it/s, tot_impr=1335, last_impr=0, loss=523]   \n",
      "3it [00:01,  1.81it/s, tot_impr=1365, last_impr=0, loss=503] \n",
      "4it [00:02,  1.83it/s, tot_impr=1337, last_impr=0, loss=520]44]\n",
      "4it [00:02,  1.90it/s, tot_impr=1377, last_impr=0, loss=485]\n",
      "4it [00:02,  1.94it/s, tot_impr=1359, last_impr=0, loss=506]]\n",
      "4it [00:02,  1.85it/s, tot_impr=1357, last_impr=0, loss=504]]  \n",
      "4it [00:02,  1.79it/s, tot_impr=1303, last_impr=0, loss=566]17]\n",
      "4it [00:02,  1.97it/s, tot_impr=1328, last_impr=0, loss=531] \n",
      "4it [00:02,  1.91it/s, tot_impr=1355, last_impr=0, loss=502]]  \n",
      "4it [00:02,  1.90it/s, tot_impr=1308, last_impr=0, loss=542]   \n",
      "4it [00:02,  1.98it/s, tot_impr=1339, last_impr=0, loss=522]]  \n",
      "4it [00:02,  1.86it/s, tot_impr=1330, last_impr=0, loss=532] 2]\n",
      "4it [00:02,  1.98it/s, tot_impr=1306, last_impr=0, loss=547]\n",
      "3it [00:01,  1.82it/s, tot_impr=1316, last_impr=0, loss=536]20]\n",
      "4it [00:02,  1.96it/s, tot_impr=1351, last_impr=0, loss=511]61]\n",
      "4it [00:02,  1.94it/s, tot_impr=1292, last_impr=0, loss=556]18]\n",
      "4it [00:02,  1.82it/s, tot_impr=1332, last_impr=0, loss=533]\n",
      "4it [00:02,  1.86it/s, tot_impr=1368, last_impr=0, loss=495] \n",
      "4it [00:02,  1.91it/s, tot_impr=1340, last_impr=0, loss=532]\n",
      "3it [00:01,  1.88it/s, tot_impr=1305, last_impr=0, loss=557] \n",
      "4it [00:02,  1.83it/s, tot_impr=1308, last_impr=0, loss=554]]  \n",
      "4it [00:02,  1.77it/s, tot_impr=1286, last_impr=0, loss=570]]  \n",
      "3it [00:01,  1.81it/s, tot_impr=1309, last_impr=0, loss=547]   \n",
      "4it [00:02,  1.78it/s, tot_impr=1344, last_impr=0, loss=522] \n",
      "6it [00:03,  1.81it/s, tot_impr=1341, last_impr=0, loss=517]11]\n",
      "4it [00:02,  1.95it/s, tot_impr=1301, last_impr=0, loss=566]66]\n",
      "4it [00:02,  1.84it/s, tot_impr=1336, last_impr=0, loss=524]\n",
      "4it [00:02,  1.81it/s, tot_impr=1350, last_impr=0, loss=515]\n",
      "3it [00:01,  1.81it/s, tot_impr=1325, last_impr=0, loss=545]   \n",
      "4it [00:02,  1.93it/s, tot_impr=1305, last_impr=0, loss=556]\n",
      "4it [00:02,  1.77it/s, tot_impr=1334, last_impr=0, loss=525]93]\n",
      "3it [00:01,  1.81it/s, tot_impr=1338, last_impr=0, loss=528]   \n",
      "4it [00:02,  1.88it/s, tot_impr=1380, last_impr=0, loss=484]   \n",
      "4it [00:02,  1.93it/s, tot_impr=1369, last_impr=0, loss=495]\n",
      "4it [00:02,  1.77it/s, tot_impr=1395, last_impr=0, loss=478]08]\n",
      "4it [00:02,  1.83it/s, tot_impr=1382, last_impr=0, loss=487] \n",
      "4it [00:02,  1.74it/s, tot_impr=1310, last_impr=0, loss=556] \n",
      "4it [00:02,  1.84it/s, tot_impr=1311, last_impr=0, loss=546]\n",
      "3it [00:01,  1.82it/s, tot_impr=1293, last_impr=0, loss=565] \n",
      "4it [00:02,  1.93it/s, tot_impr=1365, last_impr=0, loss=497]]  \n",
      "4it [00:02,  1.93it/s, tot_impr=1324, last_impr=0, loss=536] \n",
      "4it [00:02,  1.95it/s, tot_impr=1358, last_impr=0, loss=510]]  \n",
      "3it [00:01,  1.84it/s, tot_impr=1301, last_impr=0, loss=560]   \n",
      "4it [00:02,  1.90it/s, tot_impr=1293, last_impr=0, loss=567]   \n",
      "5it [00:02,  1.77it/s, tot_impr=1289, last_impr=0, loss=579]\n",
      "4it [00:02,  1.95it/s, tot_impr=1362, last_impr=0, loss=500]\n",
      "4it [00:02,  1.80it/s, tot_impr=1332, last_impr=0, loss=537]05]\n",
      "4it [00:02,  1.96it/s, tot_impr=1361, last_impr=0, loss=494]]  \n",
      "3it [00:01,  1.82it/s, tot_impr=1294, last_impr=0, loss=569] 1]\n",
      "4it [00:02,  1.95it/s, tot_impr=1370, last_impr=0, loss=501]23]\n",
      "3it [00:01,  1.80it/s, tot_impr=1283, last_impr=0, loss=572] 6]\n",
      "4it [00:02,  1.93it/s, tot_impr=1307, last_impr=0, loss=567]\n",
      "4it [00:02,  1.80it/s, tot_impr=1360, last_impr=0, loss=504]75]\n",
      "3it [00:01,  1.80it/s, tot_impr=1290, last_impr=0, loss=570] 9]\n",
      "5it [00:02,  1.90it/s, tot_impr=1364, last_impr=0, loss=501]]  \n",
      "4it [00:02,  1.83it/s, tot_impr=1384, last_impr=0, loss=484]]  \n",
      "4it [00:02,  1.90it/s, tot_impr=1314, last_impr=0, loss=553]\n",
      "3it [00:01,  1.91it/s, tot_impr=1364, last_impr=0, loss=507]   \n",
      "3it [00:01,  1.95it/s, tot_impr=1284, last_impr=0, loss=576] 0]\n",
      "3it [00:01,  1.92it/s, tot_impr=1308, last_impr=0, loss=559] \n",
      "4it [00:02,  1.93it/s, tot_impr=1346, last_impr=0, loss=512]]  \n",
      "5it [00:02,  1.83it/s, tot_impr=1353, last_impr=0, loss=509]]  \n",
      "5it [00:02,  1.81it/s, tot_impr=1372, last_impr=0, loss=475]72]\n",
      "5it [00:02,  1.83it/s, tot_impr=1325, last_impr=0, loss=544]]  \n",
      "3it [00:01,  1.91it/s, tot_impr=1286, last_impr=0, loss=570] \n",
      "4it [00:02,  1.80it/s, tot_impr=1353, last_impr=0, loss=509]76]\n",
      "4it [00:02,  1.82it/s, tot_impr=1379, last_impr=0, loss=495]]  \n",
      "5it [00:02,  1.79it/s, tot_impr=1341, last_impr=0, loss=520]74]\n",
      "4it [00:02,  1.85it/s, tot_impr=1324, last_impr=0, loss=536] \n",
      "4it [00:02,  1.84it/s, tot_impr=1361, last_impr=0, loss=498] \n",
      "4it [00:02,  1.78it/s, tot_impr=1296, last_impr=0, loss=571] \n",
      "3it [00:01,  1.89it/s, tot_impr=1363, last_impr=0, loss=491]   \n",
      "4it [00:02,  1.96it/s, tot_impr=1320, last_impr=0, loss=538]]  \n",
      "4it [00:02,  1.92it/s, tot_impr=1338, last_impr=0, loss=524]31]\n",
      "4it [00:02,  1.82it/s, tot_impr=1294, last_impr=0, loss=564]]  \n",
      "3it [00:01,  1.83it/s, tot_impr=1312, last_impr=0, loss=545] \n",
      "5it [00:02,  1.82it/s, tot_impr=1328, last_impr=0, loss=533]\n",
      "4it [00:02,  1.96it/s, tot_impr=1315, last_impr=0, loss=550]]  \n",
      "5it [00:02,  1.92it/s, tot_impr=1353, last_impr=0, loss=516]39]\n",
      "4it [00:02,  1.79it/s, tot_impr=1343, last_impr=0, loss=523]]  \n",
      "5it [00:02,  1.90it/s, tot_impr=1343, last_impr=0, loss=519]]  \n",
      "4it [00:02,  1.81it/s, tot_impr=1344, last_impr=0, loss=519]]2]\n",
      "4it [00:02,  1.84it/s, tot_impr=1351, last_impr=0, loss=510]81]\n",
      "5it [00:02,  1.81it/s, tot_impr=1361, last_impr=0, loss=491] 0]\n",
      "4it [00:02,  1.89it/s, tot_impr=1358, last_impr=0, loss=507] \n",
      "3it [00:01,  1.88it/s, tot_impr=1376, last_impr=0, loss=495] \n",
      "4it [00:02,  1.93it/s, tot_impr=1408, last_impr=0, loss=457] 0]\n",
      "3it [00:01,  1.78it/s, tot_impr=1373, last_impr=0, loss=503] 5]\n",
      "3it [00:01,  1.82it/s, tot_impr=1355, last_impr=0, loss=504]17]\n",
      "5it [00:02,  1.92it/s, tot_impr=1303, last_impr=0, loss=548] 1]\n",
      "4it [00:02,  1.90it/s, tot_impr=1338, last_impr=0, loss=523]]  \n",
      "4it [00:02,  1.94it/s, tot_impr=1365, last_impr=0, loss=502]   \n",
      "5it [00:02,  1.84it/s, tot_impr=1342, last_impr=0, loss=522]\n",
      "3it [00:01,  1.81it/s, tot_impr=1374, last_impr=0, loss=488]96]\n",
      "5it [00:02,  1.81it/s, tot_impr=1374, last_impr=0, loss=489]   \n",
      "4it [00:02,  1.94it/s, tot_impr=1280, last_impr=0, loss=591]\n",
      "3it [00:01,  1.80it/s, tot_impr=1351, last_impr=0, loss=515] \n",
      "3it [00:01,  1.83it/s, tot_impr=1319, last_impr=0, loss=533] 2]\n",
      "4it [00:02,  1.83it/s, tot_impr=1377, last_impr=0, loss=482]]  \n",
      "5it [00:02,  1.92it/s, tot_impr=1331, last_impr=0, loss=535]]  \n",
      "3it [00:01,  1.92it/s, tot_impr=1262, last_impr=0, loss=603] \n",
      "3it [00:01,  1.81it/s, tot_impr=1318, last_impr=0, loss=540]   \n",
      "3it [00:01,  1.94it/s, tot_impr=1315, last_impr=0, loss=544] \n",
      "4it [00:02,  1.79it/s, tot_impr=1308, last_impr=0, loss=545]]  \n",
      "4it [00:02,  1.95it/s, tot_impr=1378, last_impr=0, loss=482]\n",
      "4it [00:02,  1.81it/s, tot_impr=1349, last_impr=0, loss=503] \n",
      "3it [00:01,  1.92it/s, tot_impr=1350, last_impr=0, loss=517]\n",
      "3it [00:01,  1.95it/s, tot_impr=1289, last_impr=0, loss=580] 3]\n",
      "4it [00:02,  1.97it/s, tot_impr=1367, last_impr=0, loss=496]87]\n",
      "4it [00:02,  1.85it/s, tot_impr=1337, last_impr=0, loss=535]\n",
      "4it [00:02,  1.82it/s, tot_impr=1303, last_impr=0, loss=557] 5]\n",
      "5it [00:02,  1.83it/s, tot_impr=1380, last_impr=0, loss=478]\n",
      "4it [00:02,  1.82it/s, tot_impr=1373, last_impr=0, loss=476]   \n",
      "4it [00:02,  1.84it/s, tot_impr=1340, last_impr=0, loss=528] 5]\n",
      "4it [00:02,  1.82it/s, tot_impr=1337, last_impr=0, loss=535]68]\n",
      "4it [00:02,  1.93it/s, tot_impr=1357, last_impr=0, loss=516]]  \n",
      "4it [00:02,  1.78it/s, tot_impr=1335, last_impr=0, loss=517]   \n",
      "4it [00:02,  1.98it/s, tot_impr=1301, last_impr=0, loss=553]\n",
      "6it [00:03,  1.97it/s, tot_impr=1342, last_impr=0, loss=527]\n",
      "4it [00:02,  1.83it/s, tot_impr=1340, last_impr=0, loss=519]]  \n",
      "3it [00:01,  1.78it/s, tot_impr=1311, last_impr=0, loss=546] 8]\n",
      "3it [00:01,  1.77it/s, tot_impr=1334, last_impr=0, loss=530]]  \n",
      "4it [00:02,  1.77it/s, tot_impr=1274, last_impr=0, loss=589]70]\n",
      "4it [00:02,  1.77it/s, tot_impr=1334, last_impr=0, loss=535] 6]\n",
      "3it [00:01,  1.94it/s, tot_impr=1285, last_impr=0, loss=572] 4]\n",
      "5it [00:02,  1.76it/s, tot_impr=1327, last_impr=0, loss=534]   \n",
      "4it [00:02,  1.96it/s, tot_impr=1344, last_impr=0, loss=527]   \n",
      "4it [00:02,  1.92it/s, tot_impr=1319, last_impr=0, loss=551]]  \n",
      "4it [00:02,  1.83it/s, tot_impr=1278, last_impr=0, loss=592]\n",
      "4it [00:02,  1.60it/s, tot_impr=1302, last_impr=0, loss=553] 4]\n",
      "4it [00:02,  1.87it/s, tot_impr=1385, last_impr=0, loss=481]   \n",
      "6it [00:03,  1.96it/s, tot_impr=1334, last_impr=0, loss=522]00]\n",
      "6it [00:03,  1.93it/s, tot_impr=1328, last_impr=0, loss=535]\n",
      "4it [00:02,  1.83it/s, tot_impr=1319, last_impr=0, loss=535] \n",
      "4it [00:02,  1.84it/s, tot_impr=1332, last_impr=0, loss=531] \n",
      "5it [00:02,  1.81it/s, tot_impr=1354, last_impr=0, loss=515]\n",
      "4it [00:02,  1.95it/s, tot_impr=1278, last_impr=0, loss=574] 3]\n",
      "4it [00:02,  1.90it/s, tot_impr=1339, last_impr=0, loss=514]   \n",
      "4it [00:02,  1.90it/s, tot_impr=1374, last_impr=0, loss=488]27]\n",
      "7it [00:03,  1.90it/s, tot_impr=1358, last_impr=0, loss=503] 4]\n",
      "5it [00:02,  1.89it/s, tot_impr=1324, last_impr=0, loss=540]\n",
      "4it [00:02,  1.82it/s, tot_impr=1331, last_impr=0, loss=531]]  \n",
      "5it [00:02,  1.83it/s, tot_impr=1330, last_impr=0, loss=535]\n",
      "4it [00:02,  1.83it/s, tot_impr=1319, last_impr=0, loss=547]\n",
      "4it [00:02,  1.87it/s, tot_impr=1357, last_impr=0, loss=511]58]\n",
      "4it [00:02,  1.84it/s, tot_impr=1356, last_impr=0, loss=493]85]\n",
      "3it [00:01,  1.78it/s, tot_impr=1292, last_impr=0, loss=565] 8]\n",
      "4it [00:02,  1.93it/s, tot_impr=1376, last_impr=0, loss=490]]  \n",
      "5it [00:02,  1.84it/s, tot_impr=1317, last_impr=0, loss=554]]  \n",
      "5it [00:02,  1.95it/s, tot_impr=1329, last_impr=0, loss=538] \n",
      "4it [00:02,  1.81it/s, tot_impr=1358, last_impr=0, loss=512]\n",
      "3it [00:01,  1.91it/s, tot_impr=1335, last_impr=0, loss=520]   \n",
      "4it [00:02,  1.85it/s, tot_impr=1340, last_impr=0, loss=510] 0]\n",
      "5it [00:02,  1.96it/s, tot_impr=1351, last_impr=0, loss=525]]  \n",
      "3it [00:01,  1.79it/s, tot_impr=1309, last_impr=0, loss=537]   \n",
      "5it [00:02,  1.81it/s, tot_impr=1287, last_impr=0, loss=573]]  \n",
      "3it [00:01,  1.92it/s, tot_impr=1326, last_impr=0, loss=536] 6]\n",
      "4it [00:02,  1.92it/s, tot_impr=1338, last_impr=0, loss=525]\n",
      "4it [00:02,  1.82it/s, tot_impr=1326, last_impr=0, loss=536] \n",
      "3it [00:01,  1.73it/s, tot_impr=1330, last_impr=0, loss=531] \n",
      "3it [00:01,  1.87it/s, tot_impr=1323, last_impr=0, loss=537] \n",
      "4it [00:02,  1.91it/s, tot_impr=1333, last_impr=0, loss=542]]  \n",
      "4it [00:02,  1.82it/s, tot_impr=1331, last_impr=0, loss=526]\n",
      "3it [00:01,  1.93it/s, tot_impr=1292, last_impr=0, loss=570] 5]\n",
      "3it [00:01,  1.96it/s, tot_impr=1351, last_impr=0, loss=518] ] \n",
      "5it [00:02,  1.76it/s, tot_impr=1343, last_impr=0, loss=526]]  \n",
      "3it [00:01,  1.78it/s, tot_impr=1333, last_impr=0, loss=524]   \n",
      "4it [00:02,  1.83it/s, tot_impr=1352, last_impr=0, loss=507]\n",
      "4it [00:02,  1.78it/s, tot_impr=1320, last_impr=0, loss=536]\n",
      "4it [00:02,  1.94it/s, tot_impr=1311, last_impr=0, loss=545]   \n",
      "3it [00:01,  1.79it/s, tot_impr=1312, last_impr=0, loss=549]   \n",
      "5it [00:02,  1.97it/s, tot_impr=1327, last_impr=0, loss=538]  ]\n",
      "3it [00:01,  1.93it/s, tot_impr=1354, last_impr=0, loss=502] \n",
      "4it [00:02,  1.80it/s, tot_impr=1319, last_impr=0, loss=533] 0]\n",
      "5it [00:02,  1.81it/s, tot_impr=1325, last_impr=0, loss=533]]  \n",
      "4it [00:02,  1.79it/s, tot_impr=1274, last_impr=0, loss=586]06]\n",
      "4it [00:02,  1.83it/s, tot_impr=1340, last_impr=0, loss=517]\n",
      "3it [00:01,  1.96it/s, tot_impr=1311, last_impr=0, loss=545]   \n",
      "5it [00:02,  1.93it/s, tot_impr=1330, last_impr=0, loss=544]   \n",
      "4it [00:02,  1.84it/s, tot_impr=1362, last_impr=0, loss=502]]  \n",
      "4it [00:02,  1.79it/s, tot_impr=1310, last_impr=0, loss=559]79]\n",
      "4it [00:02,  1.98it/s, tot_impr=1337, last_impr=0, loss=522] 8]\n",
      "4it [00:02,  1.92it/s, tot_impr=1348, last_impr=0, loss=519]   \n",
      "3it [00:01,  1.94it/s, tot_impr=1317, last_impr=0, loss=543] 9]\n",
      "4it [00:02,  1.76it/s, tot_impr=1385, last_impr=0, loss=483]\n",
      "3it [00:01,  1.94it/s, tot_impr=1323, last_impr=0, loss=545] 5]\n",
      "4it [00:02,  1.76it/s, tot_impr=1294, last_impr=0, loss=571]83]\n",
      "4it [00:02,  1.76it/s, tot_impr=1306, last_impr=0, loss=550]]  \n",
      "4it [00:02,  1.81it/s, tot_impr=1323, last_impr=0, loss=539]41]\n",
      "4it [00:02,  1.99it/s, tot_impr=1326, last_impr=0, loss=544]]  \n",
      "4it [00:02,  1.95it/s, tot_impr=1336, last_impr=0, loss=522]\n",
      "4it [00:02,  1.82it/s, tot_impr=1347, last_impr=0, loss=512]]  \n",
      "3it [00:01,  1.79it/s, tot_impr=1287, last_impr=0, loss=576]   \n",
      "4it [00:02,  1.93it/s, tot_impr=1379, last_impr=0, loss=491]57]\n",
      "4it [00:02,  1.90it/s, tot_impr=1356, last_impr=0, loss=504]\n",
      "4it [00:02,  1.85it/s, tot_impr=1365, last_impr=0, loss=493]\n",
      "3it [00:01,  1.96it/s, tot_impr=1344, last_impr=0, loss=516]   \n",
      "4it [00:02,  1.79it/s, tot_impr=1335, last_impr=0, loss=520]]  \n",
      "4it [00:02,  1.96it/s, tot_impr=1346, last_impr=0, loss=519] 8]\n",
      "3it [00:01,  1.82it/s, tot_impr=1341, last_impr=0, loss=518]   \n",
      "4it [00:02,  1.83it/s, tot_impr=1345, last_impr=0, loss=522]   \n",
      "4it [00:02,  1.96it/s, tot_impr=1317, last_impr=0, loss=532]\n",
      "4it [00:02,  1.95it/s, tot_impr=1338, last_impr=0, loss=516]\n",
      "4it [00:02,  1.79it/s, tot_impr=1257, last_impr=0, loss=599]98]\n",
      "4it [00:02,  1.79it/s, tot_impr=1366, last_impr=0, loss=504]]  \n",
      "4it [00:02,  1.83it/s, tot_impr=1361, last_impr=0, loss=497]]  \n",
      "4it [00:02,  1.84it/s, tot_impr=1293, last_impr=0, loss=569]]  \n",
      "4it [00:02,  1.92it/s, tot_impr=1322, last_impr=0, loss=545] \n",
      "4it [00:02,  1.80it/s, tot_impr=1335, last_impr=0, loss=530]]  \n",
      "4it [00:02,  1.96it/s, tot_impr=1370, last_impr=0, loss=494]\n",
      "5it [00:02,  1.80it/s, tot_impr=1361, last_impr=0, loss=507]97]\n",
      "4it [00:02,  1.97it/s, tot_impr=1305, last_impr=0, loss=550]  ]\n",
      "4it [00:02,  1.79it/s, tot_impr=1371, last_impr=0, loss=495] \n",
      "4it [00:02,  1.95it/s, tot_impr=1314, last_impr=0, loss=558]62]\n",
      "4it [00:02,  1.92it/s, tot_impr=1374, last_impr=0, loss=488]55]\n",
      "4it [00:02,  1.91it/s, tot_impr=1309, last_impr=0, loss=550] \n",
      "4it [00:02,  1.85it/s, tot_impr=1317, last_impr=0, loss=553]   \n",
      "3it [00:01,  1.90it/s, tot_impr=1304, last_impr=0, loss=564]   \n",
      "4it [00:02,  1.94it/s, tot_impr=1328, last_impr=0, loss=527]05]\n",
      "4it [00:02,  1.81it/s, tot_impr=1292, last_impr=0, loss=560]\n",
      "5it [00:02,  1.80it/s, tot_impr=1379, last_impr=0, loss=480]   \n",
      "4it [00:02,  1.76it/s, tot_impr=1341, last_impr=0, loss=527] 7]\n",
      "4it [00:02,  1.93it/s, tot_impr=1316, last_impr=0, loss=544]   \n",
      "4it [00:02,  1.81it/s, tot_impr=1328, last_impr=0, loss=533]\n",
      "4it [00:02,  1.81it/s, tot_impr=1341, last_impr=0, loss=514]]  \n",
      "4it [00:02,  1.95it/s, tot_impr=1292, last_impr=0, loss=569]81]\n",
      "4it [00:02,  1.76it/s, tot_impr=1308, last_impr=0, loss=552]]  \n",
      "4it [00:02,  1.83it/s, tot_impr=1281, last_impr=0, loss=578]   \n",
      "5it [00:02,  1.91it/s, tot_impr=1379, last_impr=0, loss=484] 3]\n",
      "5it [00:02,  1.83it/s, tot_impr=1357, last_impr=0, loss=509]]  \n",
      "5it [00:02,  1.93it/s, tot_impr=1394, last_impr=0, loss=477]91]\n",
      "4it [00:02,  1.95it/s, tot_impr=1377, last_impr=0, loss=471]84]\n",
      "4it [00:02,  1.93it/s, tot_impr=1346, last_impr=0, loss=509] \n",
      "4it [00:02,  1.83it/s, tot_impr=1294, last_impr=0, loss=575] 9]\n",
      "4it [00:02,  1.80it/s, tot_impr=1332, last_impr=0, loss=523]\n",
      "4it [00:02,  1.81it/s, tot_impr=1351, last_impr=0, loss=506]]  \n",
      "4it [00:02,  1.97it/s, tot_impr=1281, last_impr=0, loss=579]51]\n",
      "3it [00:01,  1.77it/s, tot_impr=1327, last_impr=0, loss=528] \n",
      "4it [00:02,  1.84it/s, tot_impr=1320, last_impr=0, loss=554]]  \n",
      "5it [00:02,  1.78it/s, tot_impr=1342, last_impr=0, loss=517]\n",
      "3it [00:01,  1.95it/s, tot_impr=1354, last_impr=0, loss=515]   \n",
      "4it [00:02,  1.77it/s, tot_impr=1323, last_impr=0, loss=534]]  \n",
      "4it [00:02,  1.91it/s, tot_impr=1342, last_impr=0, loss=522]]  \n",
      "5it [00:02,  1.84it/s, tot_impr=1265, last_impr=0, loss=593]37]\n",
      "3it [00:01,  1.76it/s, tot_impr=1359, last_impr=0, loss=512] \n",
      "3it [00:01,  1.77it/s, tot_impr=1327, last_impr=0, loss=528]   \n",
      "5it [00:02,  1.96it/s, tot_impr=1334, last_impr=0, loss=518]   \n",
      "3it [00:01,  1.81it/s, tot_impr=1301, last_impr=0, loss=555] 4]\n",
      "4it [00:02,  1.92it/s, tot_impr=1288, last_impr=0, loss=587]12]\n",
      "4it [00:02,  1.93it/s, tot_impr=1319, last_impr=0, loss=537]   \n",
      "4it [00:02,  1.84it/s, tot_impr=1369, last_impr=0, loss=501]\n",
      "5it [00:02,  1.80it/s, tot_impr=1336, last_impr=0, loss=532]89]\n",
      "3it [00:01,  1.80it/s, tot_impr=1331, last_impr=0, loss=531] 0]\n",
      "5it [00:02,  1.96it/s, tot_impr=1401, last_impr=0, loss=456]\n",
      "4it [00:02,  1.93it/s, tot_impr=1346, last_impr=0, loss=521]08]\n",
      "3it [00:01,  1.92it/s, tot_impr=1338, last_impr=0, loss=517] \n",
      "5it [00:02,  1.95it/s, tot_impr=1386, last_impr=0, loss=483]]  \n",
      "4it [00:02,  1.85it/s, tot_impr=1357, last_impr=0, loss=499] \n",
      "4it [00:02,  1.95it/s, tot_impr=1317, last_impr=0, loss=545]]  \n",
      "3it [00:01,  1.95it/s, tot_impr=1316, last_impr=0, loss=553] 4]\n",
      "4it [00:02,  1.92it/s, tot_impr=1348, last_impr=0, loss=511]86]\n",
      "4it [00:02,  1.79it/s, tot_impr=1325, last_impr=0, loss=529]66]\n",
      "5it [00:02,  1.81it/s, tot_impr=1350, last_impr=0, loss=512]]  \n",
      "4it [00:02,  1.89it/s, tot_impr=1310, last_impr=0, loss=553]31]\n",
      "3it [00:01,  1.80it/s, tot_impr=1316, last_impr=0, loss=549]   \n",
      "3it [00:01,  1.81it/s, tot_impr=1287, last_impr=0, loss=559] 8]\n",
      "4it [00:02,  1.80it/s, tot_impr=1304, last_impr=0, loss=553]\n",
      "4it [00:02,  1.83it/s, tot_impr=1337, last_impr=0, loss=524]\n",
      "5it [00:02,  1.83it/s, tot_impr=1381, last_impr=0, loss=467]]  \n",
      "4it [00:02,  1.98it/s, tot_impr=1343, last_impr=0, loss=516]]  \n",
      "4it [00:02,  1.83it/s, tot_impr=1375, last_impr=0, loss=486]]  \n",
      "3it [00:01,  1.90it/s, tot_impr=1280, last_impr=0, loss=581]   \n",
      "3it [00:01,  1.82it/s, tot_impr=1339, last_impr=0, loss=528] \n",
      "4it [00:02,  1.92it/s, tot_impr=1351, last_impr=0, loss=510]   \n",
      "4it [00:02,  1.78it/s, tot_impr=1321, last_impr=0, loss=545]\n",
      "3it [00:01,  1.78it/s, tot_impr=1321, last_impr=0, loss=536] \n",
      "4it [00:02,  1.68it/s, tot_impr=1377, last_impr=0, loss=490]   \n",
      "4it [00:02,  1.81it/s, tot_impr=1378, last_impr=0, loss=484] 3]\n",
      "4it [00:02,  1.77it/s, tot_impr=1313, last_impr=0, loss=547] 6]\n",
      "4it [00:02,  1.97it/s, tot_impr=1365, last_impr=0, loss=509]89]\n",
      "4it [00:02,  1.93it/s, tot_impr=1323, last_impr=0, loss=534]39]\n",
      "3it [00:01,  1.90it/s, tot_impr=1311, last_impr=0, loss=527] \n",
      "5it [00:02,  1.95it/s, tot_impr=1355, last_impr=0, loss=521]79]\n",
      "4it [00:02,  1.84it/s, tot_impr=1361, last_impr=0, loss=504]06]\n",
      "4it [00:02,  1.81it/s, tot_impr=1405, last_impr=0, loss=456]\n",
      "4it [00:02,  1.93it/s, tot_impr=1322, last_impr=0, loss=540]73]\n",
      "4it [00:02,  1.91it/s, tot_impr=1329, last_impr=0, loss=534]   \n",
      "4it [00:02,  1.93it/s, tot_impr=1318, last_impr=0, loss=536]   \n",
      "4it [00:02,  1.79it/s, tot_impr=1274, last_impr=0, loss=589]]  \n",
      "4it [00:02,  1.95it/s, tot_impr=1418, last_impr=0, loss=457]]  \n",
      "5it [00:02,  1.96it/s, tot_impr=1294, last_impr=0, loss=565]20]\n",
      "5it [00:02,  1.91it/s, tot_impr=1318, last_impr=0, loss=545]]  \n",
      "3it [00:01,  1.81it/s, tot_impr=1330, last_impr=0, loss=527]46]\n",
      "5it [00:02,  1.79it/s, tot_impr=1313, last_impr=0, loss=552]\n",
      "3it [00:01,  1.98it/s, tot_impr=1348, last_impr=0, loss=515] \n",
      "4it [00:02,  1.82it/s, tot_impr=1381, last_impr=0, loss=482]\n",
      "3it [00:01,  1.71it/s, tot_impr=1317, last_impr=0, loss=542] 1]\n",
      "3it [00:01,  1.97it/s, tot_impr=1349, last_impr=0, loss=514]   \n",
      "4it [00:02,  1.93it/s, tot_impr=1279, last_impr=0, loss=580]13]\n",
      "3it [00:01,  1.81it/s, tot_impr=1269, last_impr=0, loss=595] \n",
      "4it [00:02,  1.77it/s, tot_impr=1369, last_impr=0, loss=484]]  \n",
      "4it [00:02,  1.79it/s, tot_impr=1367, last_impr=0, loss=501]27]\n",
      "4it [00:02,  1.94it/s, tot_impr=1340, last_impr=0, loss=528]]  \n",
      "4it [00:02,  1.79it/s, tot_impr=1308, last_impr=0, loss=538]]  \n",
      "4it [00:02,  1.84it/s, tot_impr=1332, last_impr=0, loss=530] 7]\n",
      "3it [00:01,  1.77it/s, tot_impr=1312, last_impr=0, loss=560] 6]\n",
      "4it [00:02,  1.82it/s, tot_impr=1329, last_impr=0, loss=543]   \n",
      "3it [00:01,  1.95it/s, tot_impr=1353, last_impr=0, loss=508]   \n",
      "3it [00:01,  1.80it/s, tot_impr=1331, last_impr=0, loss=537] 2]\n",
      "3it [00:01,  1.81it/s, tot_impr=1341, last_impr=0, loss=533] \n",
      "5it [00:02,  1.81it/s, tot_impr=1312, last_impr=0, loss=555]]  \n",
      "3it [00:01,  1.93it/s, tot_impr=1339, last_impr=0, loss=527]   \n",
      "4it [00:02,  1.93it/s, tot_impr=1350, last_impr=0, loss=507]]  \n",
      "4it [00:02,  1.94it/s, tot_impr=1396, last_impr=0, loss=467]40]\n",
      "4it [00:02,  1.81it/s, tot_impr=1277, last_impr=0, loss=587]]  \n",
      "4it [00:02,  1.92it/s, tot_impr=1341, last_impr=0, loss=522] \n",
      "4it [00:02,  1.97it/s, tot_impr=1353, last_impr=0, loss=512]]  \n",
      "5it [00:02,  1.81it/s, tot_impr=1325, last_impr=0, loss=537] 3]\n",
      "4it [00:02,  1.93it/s, tot_impr=1323, last_impr=0, loss=543]]  \n",
      "3it [00:01,  1.80it/s, tot_impr=1338, last_impr=0, loss=519]   \n",
      "4it [00:02,  1.82it/s, tot_impr=1315, last_impr=0, loss=544]47]\n",
      "5it [00:02,  1.81it/s, tot_impr=1275, last_impr=0, loss=583]]  \n",
      "4it [00:02,  1.93it/s, tot_impr=1304, last_impr=0, loss=567]]4]\n",
      "4it [00:02,  1.93it/s, tot_impr=1289, last_impr=0, loss=565] 0]\n",
      "4it [00:02,  1.90it/s, tot_impr=1321, last_impr=0, loss=546] 0]\n",
      "4it [00:02,  1.81it/s, tot_impr=1233, last_impr=0, loss=622]]  \n",
      "4it [00:02,  1.78it/s, tot_impr=1369, last_impr=0, loss=494] 3]\n",
      "4it [00:02,  1.97it/s, tot_impr=1300, last_impr=0, loss=567]\n",
      "5it [00:02,  1.97it/s, tot_impr=1353, last_impr=0, loss=515]\n",
      "4it [00:02,  1.92it/s, tot_impr=1351, last_impr=0, loss=513]]  \n",
      "4it [00:02,  1.80it/s, tot_impr=1326, last_impr=0, loss=542]71]\n",
      "4it [00:02,  1.81it/s, tot_impr=1336, last_impr=0, loss=527]05]\n",
      "4it [00:02,  1.94it/s, tot_impr=1328, last_impr=0, loss=528]]  \n",
      "3it [00:01,  1.92it/s, tot_impr=1351, last_impr=0, loss=506]   \n",
      "4it [00:02,  1.81it/s, tot_impr=1295, last_impr=0, loss=568]18]\n",
      "4it [00:02,  1.81it/s, tot_impr=1288, last_impr=0, loss=575] \n",
      "4it [00:02,  1.80it/s, tot_impr=1334, last_impr=0, loss=538]03]\n",
      "4it [00:02,  1.83it/s, tot_impr=1333, last_impr=0, loss=528]\n",
      "5it [00:02,  1.81it/s, tot_impr=1296, last_impr=0, loss=563]\n",
      "3it [00:01,  1.76it/s, tot_impr=1267, last_impr=0, loss=601] \n",
      "3it [00:01,  1.92it/s, tot_impr=1332, last_impr=0, loss=536]36]\n",
      "4it [00:02,  1.96it/s, tot_impr=1366, last_impr=0, loss=492]   \n",
      "4it [00:02,  1.82it/s, tot_impr=1355, last_impr=0, loss=504]\n",
      "4it [00:02,  1.81it/s, tot_impr=1349, last_impr=0, loss=507]27]\n",
      "4it [00:02,  1.81it/s, tot_impr=1292, last_impr=0, loss=571]\n",
      "4it [00:02,  1.92it/s, tot_impr=1317, last_impr=0, loss=545]]  \n",
      "4it [00:02,  1.91it/s, tot_impr=1322, last_impr=0, loss=540]]  \n",
      "3it [00:01,  1.93it/s, tot_impr=1296, last_impr=0, loss=564] \n",
      "4it [00:02,  1.79it/s, tot_impr=1362, last_impr=0, loss=503] 4]\n",
      "3it [00:01,  1.79it/s, tot_impr=1378, last_impr=0, loss=488]  \n",
      "4it [00:02,  1.95it/s, tot_impr=1364, last_impr=0, loss=493]92]\n",
      "4it [00:02,  1.78it/s, tot_impr=1345, last_impr=0, loss=509]]  \n",
      "5it [00:02,  1.94it/s, tot_impr=1341, last_impr=0, loss=511]74]\n",
      "4it [00:02,  1.81it/s, tot_impr=1332, last_impr=0, loss=522]   \n",
      "4it [00:02,  1.83it/s, tot_impr=1315, last_impr=0, loss=539]]  \n",
      "4it [00:02,  1.90it/s, tot_impr=1338, last_impr=0, loss=526]]  \n",
      "3it [00:01,  1.83it/s, tot_impr=1369, last_impr=0, loss=490] \n",
      "4it [00:02,  1.91it/s, tot_impr=1311, last_impr=0, loss=554]]  \n",
      "4it [00:02,  1.95it/s, tot_impr=1333, last_impr=0, loss=531]]  \n",
      "4it [00:02,  1.92it/s, tot_impr=1352, last_impr=0, loss=515]13]\n",
      "4it [00:02,  1.80it/s, tot_impr=1399, last_impr=0, loss=469] \n",
      "4it [00:02,  1.85it/s, tot_impr=1265, last_impr=0, loss=606]\n",
      "4it [00:02,  1.81it/s, tot_impr=1358, last_impr=0, loss=498]\n",
      "3it [00:01,  1.87it/s, tot_impr=1375, last_impr=0, loss=482]   \n",
      "4it [00:02,  1.84it/s, tot_impr=1294, last_impr=0, loss=563]69]\n",
      "4it [00:02,  1.97it/s, tot_impr=1343, last_impr=0, loss=517]71]\n",
      "4it [00:02,  1.96it/s, tot_impr=1381, last_impr=0, loss=482]]  \n",
      "4it [00:02,  1.84it/s, tot_impr=1321, last_impr=0, loss=534]\n",
      "4it [00:02,  1.83it/s, tot_impr=1294, last_impr=0, loss=573] 8]\n",
      "4it [00:02,  1.86it/s, tot_impr=1376, last_impr=0, loss=487]10]\n",
      "4it [00:02,  1.80it/s, tot_impr=1320, last_impr=0, loss=549]65]\n",
      "4it [00:02,  1.96it/s, tot_impr=1318, last_impr=0, loss=541] \n",
      "4it [00:02,  1.78it/s, tot_impr=1314, last_impr=0, loss=553]\n",
      "3it [00:01,  1.95it/s, tot_impr=1298, last_impr=0, loss=565] 4]\n",
      "5it [00:02,  1.92it/s, tot_impr=1399, last_impr=0, loss=477]27]\n",
      "3it [00:01,  1.79it/s, tot_impr=1329, last_impr=0, loss=527]   \n",
      "4it [00:02,  1.80it/s, tot_impr=1338, last_impr=0, loss=531]]  \n",
      "3it [00:01,  1.79it/s, tot_impr=1277, last_impr=0, loss=585] \n",
      "4it [00:02,  1.94it/s, tot_impr=1352, last_impr=0, loss=515]70]\n",
      "4it [00:02,  1.84it/s, tot_impr=1330, last_impr=0, loss=529]\n",
      "4it [00:02,  1.83it/s, tot_impr=1379, last_impr=0, loss=483]]  \n",
      "4it [00:02,  1.94it/s, tot_impr=1334, last_impr=0, loss=530]]  \n",
      "4it [00:02,  1.79it/s, tot_impr=1353, last_impr=0, loss=521] 0]\n",
      "3it [00:01,  1.84it/s, tot_impr=1280, last_impr=0, loss=573] 6]\n",
      "4it [00:02,  1.96it/s, tot_impr=1375, last_impr=0, loss=493]47]\n",
      "3it [00:01,  1.87it/s, tot_impr=1327, last_impr=0, loss=537] 7]\n",
      "5it [00:02,  1.88it/s, tot_impr=1308, last_impr=0, loss=545] \n",
      "4it [00:02,  1.88it/s, tot_impr=1375, last_impr=0, loss=485]]  \n",
      "4it [00:02,  1.91it/s, tot_impr=1318, last_impr=0, loss=538]]  \n",
      "4it [00:02,  1.78it/s, tot_impr=1346, last_impr=0, loss=504]\n",
      "4it [00:02,  1.93it/s, tot_impr=1271, last_impr=0, loss=595]]  \n",
      "4it [00:02,  1.81it/s, tot_impr=1350, last_impr=0, loss=506]   \n",
      "4it [00:02,  1.79it/s, tot_impr=1344, last_impr=0, loss=522] \n",
      "4it [00:02,  1.86it/s, tot_impr=1350, last_impr=0, loss=518]   \n",
      "5it [00:02,  1.79it/s, tot_impr=1355, last_impr=0, loss=502]   \n",
      "3it [00:01,  1.82it/s, tot_impr=1299, last_impr=0, loss=575] \n",
      "5it [00:02,  1.93it/s, tot_impr=1302, last_impr=0, loss=562]63]\n",
      "4it [00:02,  1.93it/s, tot_impr=1329, last_impr=0, loss=533]\n",
      "4it [00:02,  1.80it/s, tot_impr=1331, last_impr=0, loss=535]]  \n",
      "4it [00:02,  1.89it/s, tot_impr=1346, last_impr=0, loss=516]   \n",
      "4it [00:02,  1.84it/s, tot_impr=1401, last_impr=0, loss=465]   \n",
      "4it [00:02,  1.92it/s, tot_impr=1293, last_impr=0, loss=563]\n",
      "3it [00:01,  1.83it/s, tot_impr=1271, last_impr=0, loss=591] \n",
      "4it [00:02,  1.79it/s, tot_impr=1316, last_impr=0, loss=547] \n",
      "4it [00:02,  1.83it/s, tot_impr=1348, last_impr=0, loss=504]\n",
      "4it [00:02,  1.84it/s, tot_impr=1279, last_impr=0, loss=572]63]\n",
      "4it [00:02,  1.89it/s, tot_impr=1356, last_impr=0, loss=501]\n",
      "4it [00:02,  1.88it/s, tot_impr=1309, last_impr=0, loss=558]\n",
      "4it [00:02,  1.80it/s, tot_impr=1337, last_impr=0, loss=524]]  \n",
      "4it [00:02,  1.84it/s, tot_impr=1336, last_impr=0, loss=532] \n",
      "4it [00:02,  1.82it/s, tot_impr=1299, last_impr=0, loss=560]11]\n",
      "4it [00:02,  1.97it/s, tot_impr=1365, last_impr=0, loss=498]\n",
      "4it [00:02,  1.83it/s, tot_impr=1322, last_impr=0, loss=531]02]\n",
      "4it [00:02,  1.79it/s, tot_impr=1339, last_impr=0, loss=522]49]\n",
      "3it [00:01,  1.93it/s, tot_impr=1356, last_impr=0, loss=517]]  \n",
      "4it [00:02,  1.93it/s, tot_impr=1255, last_impr=0, loss=608]40]\n",
      "4it [00:02,  1.84it/s, tot_impr=1348, last_impr=0, loss=513]\n",
      "4it [00:02,  1.92it/s, tot_impr=1372, last_impr=0, loss=498]]  \n",
      "4it [00:02,  1.89it/s, tot_impr=1325, last_impr=0, loss=523]\n",
      "3it [00:01,  1.86it/s, tot_impr=1361, last_impr=0, loss=500]]  \n",
      "4it [00:02,  1.93it/s, tot_impr=1385, last_impr=0, loss=474]]  \n",
      "3it [00:01,  1.84it/s, tot_impr=1346, last_impr=0, loss=522]   \n",
      "3it [00:01,  1.82it/s, tot_impr=1332, last_impr=0, loss=523]   \n",
      "4it [00:02,  1.83it/s, tot_impr=1364, last_impr=0, loss=508]]  \n",
      "3it [00:01,  1.93it/s, tot_impr=1340, last_impr=0, loss=526]   \n",
      "5it [00:02,  1.83it/s, tot_impr=1300, last_impr=0, loss=567]\n",
      "3it [00:01,  1.96it/s, tot_impr=1374, last_impr=0, loss=494]   \n",
      "4it [00:02,  1.83it/s, tot_impr=1398, last_impr=0, loss=459]\n",
      "4it [00:02,  1.77it/s, tot_impr=1297, last_impr=0, loss=572] \n",
      "3it [00:01,  1.76it/s, tot_impr=1292, last_impr=0, loss=566]\n",
      "3it [00:01,  1.93it/s, tot_impr=1260, last_impr=0, loss=607] 9]\n",
      "4it [00:02,  1.94it/s, tot_impr=1342, last_impr=0, loss=522]70]\n",
      "5it [00:02,  1.93it/s, tot_impr=1359, last_impr=0, loss=497]]  \n",
      "4it [00:02,  1.84it/s, tot_impr=1420, last_impr=0, loss=441]45]\n",
      "3it [00:01,  1.92it/s, tot_impr=1328, last_impr=0, loss=529] 6]\n",
      "4it [00:02,  1.97it/s, tot_impr=1328, last_impr=0, loss=538]]  \n",
      "3it [00:01,  1.90it/s, tot_impr=1360, last_impr=0, loss=507]   \n",
      "4it [00:02,  1.84it/s, tot_impr=1330, last_impr=0, loss=537]\n",
      "4it [00:02,  1.85it/s, tot_impr=1359, last_impr=0, loss=502]\n",
      "4it [00:02,  1.82it/s, tot_impr=1363, last_impr=0, loss=506]   \n",
      "5it [00:02,  1.89it/s, tot_impr=1274, last_impr=0, loss=584]   \n",
      "3it [00:01,  1.79it/s, tot_impr=1364, last_impr=0, loss=508] \n",
      "4it [00:02,  1.82it/s, tot_impr=1341, last_impr=0, loss=523]62]\n",
      "4it [00:02,  1.80it/s, tot_impr=1359, last_impr=0, loss=506]]  \n",
      "4it [00:02,  1.81it/s, tot_impr=1357, last_impr=0, loss=508]\n",
      "4it [00:02,  1.95it/s, tot_impr=1275, last_impr=0, loss=584] 7]\n",
      "4it [00:02,  1.83it/s, tot_impr=1312, last_impr=0, loss=535]96]\n",
      "5it [00:02,  1.84it/s, tot_impr=1352, last_impr=0, loss=511]\n",
      "4it [00:02,  1.96it/s, tot_impr=1342, last_impr=0, loss=520]]  \n",
      "4it [00:02,  1.95it/s, tot_impr=1393, last_impr=0, loss=466]06]\n",
      "4it [00:02,  1.95it/s, tot_impr=1370, last_impr=0, loss=500]]  \n",
      "4it [00:02,  1.85it/s, tot_impr=1369, last_impr=0, loss=497]]  \n",
      "4it [00:02,  1.94it/s, tot_impr=1355, last_impr=0, loss=509]]2]\n",
      "4it [00:02,  1.80it/s, tot_impr=1412, last_impr=0, loss=453]   \n",
      "4it [00:02,  1.86it/s, tot_impr=1382, last_impr=0, loss=483]73]\n",
      "5it [00:02,  1.91it/s, tot_impr=1308, last_impr=0, loss=550]21]\n",
      "4it [00:02,  1.82it/s, tot_impr=1301, last_impr=0, loss=559]\n",
      "3it [00:01,  1.75it/s, tot_impr=1323, last_impr=0, loss=541]   \n",
      "4it [00:02,  1.93it/s, tot_impr=1356, last_impr=0, loss=499]\n",
      "4it [00:02,  1.92it/s, tot_impr=1338, last_impr=0, loss=521] 6]\n",
      "4it [00:02,  1.81it/s, tot_impr=1336, last_impr=0, loss=532]   \n",
      "5it [00:02,  1.85it/s, tot_impr=1361, last_impr=0, loss=510]\n",
      "4it [00:02,  1.96it/s, tot_impr=1254, last_impr=0, loss=604]\n",
      "4it [00:02,  1.84it/s, tot_impr=1369, last_impr=0, loss=492]\n",
      "4it [00:02,  1.80it/s, tot_impr=1286, last_impr=0, loss=582]]  \n",
      "4it [00:02,  1.89it/s, tot_impr=1305, last_impr=0, loss=551]88]\n",
      "4it [00:02,  1.92it/s, tot_impr=1340, last_impr=0, loss=519]58]\n",
      "3it [00:01,  1.82it/s, tot_impr=1326, last_impr=0, loss=532] 0]\n",
      "5it [00:02,  1.93it/s, tot_impr=1363, last_impr=0, loss=502]]  \n",
      "3it [00:01,  1.89it/s, tot_impr=1286, last_impr=0, loss=561] \n",
      "4it [00:02,  1.84it/s, tot_impr=1279, last_impr=0, loss=570]\n",
      "4it [00:02,  1.85it/s, tot_impr=1277, last_impr=0, loss=580]\n",
      "3it [00:01,  1.95it/s, tot_impr=1308, last_impr=0, loss=546] \n",
      "4it [00:02,  1.82it/s, tot_impr=1323, last_impr=0, loss=552] 3]\n",
      "4it [00:02,  1.96it/s, tot_impr=1319, last_impr=0, loss=546]55]\n",
      "5it [00:02,  1.88it/s, tot_impr=1319, last_impr=0, loss=544]90]\n",
      "4it [00:02,  1.80it/s, tot_impr=1280, last_impr=0, loss=581]]9]\n",
      "4it [00:02,  1.77it/s, tot_impr=1346, last_impr=0, loss=505] 0]\n",
      "4it [00:02,  1.81it/s, tot_impr=1319, last_impr=0, loss=539]]  \n",
      "3it [00:01,  1.94it/s, tot_impr=1308, last_impr=0, loss=556] \n",
      "4it [00:02,  1.94it/s, tot_impr=1350, last_impr=0, loss=522]   \n",
      "3it [00:01,  1.93it/s, tot_impr=1351, last_impr=0, loss=510] 4]\n",
      "3it [00:01,  1.81it/s, tot_impr=1352, last_impr=0, loss=517] \n",
      "5it [00:02,  1.82it/s, tot_impr=1302, last_impr=0, loss=554] 5]\n",
      "4it [00:02,  1.89it/s, tot_impr=1329, last_impr=0, loss=538]70]\n",
      "4it [00:02,  1.85it/s, tot_impr=1338, last_impr=0, loss=524]96]\n",
      "5it [00:02,  1.80it/s, tot_impr=1325, last_impr=0, loss=539] 1]\n",
      "3it [00:01,  1.85it/s, tot_impr=1325, last_impr=0, loss=540]   \n",
      "4it [00:02,  1.82it/s, tot_impr=1320, last_impr=0, loss=539]]  \n",
      "3it [00:01,  1.83it/s, tot_impr=1354, last_impr=0, loss=516] 6]\n",
      "4it [00:02,  1.79it/s, tot_impr=1308, last_impr=0, loss=546]]  \n",
      "4it [00:02,  1.92it/s, tot_impr=1391, last_impr=0, loss=479] 2]\n",
      "4it [00:02,  1.81it/s, tot_impr=1321, last_impr=0, loss=535] 8]\n",
      "4it [00:02,  1.90it/s, tot_impr=1293, last_impr=0, loss=567]]1]\n",
      "4it [00:02,  1.92it/s, tot_impr=1313, last_impr=0, loss=541] \n",
      "3it [00:01,  1.94it/s, tot_impr=1253, last_impr=0, loss=598] \n",
      "3it [00:01,  1.84it/s, tot_impr=1300, last_impr=0, loss=569] 6]\n",
      "4it [00:02,  1.82it/s, tot_impr=1341, last_impr=0, loss=526]\n",
      "4it [00:02,  1.77it/s, tot_impr=1372, last_impr=0, loss=503]]  \n",
      "3it [00:01,  1.80it/s, tot_impr=1380, last_impr=0, loss=483] 4]\n",
      "4it [00:02,  1.84it/s, tot_impr=1387, last_impr=0, loss=471]\n",
      "4it [00:02,  1.94it/s, tot_impr=1277, last_impr=0, loss=582]]  \n",
      "4it [00:02,  1.82it/s, tot_impr=1310, last_impr=0, loss=551]89]\n",
      "5it [00:02,  1.91it/s, tot_impr=1322, last_impr=0, loss=545] \n",
      "4it [00:02,  1.96it/s, tot_impr=1338, last_impr=0, loss=522]\n",
      "3it [00:01,  1.92it/s, tot_impr=1347, last_impr=0, loss=513] \n",
      "5it [00:02,  1.94it/s, tot_impr=1354, last_impr=0, loss=517]]  \n",
      "3it [00:01,  1.71it/s, tot_impr=1352, last_impr=0, loss=497]   \n",
      "3it [00:01,  1.76it/s, tot_impr=1288, last_impr=0, loss=578] 4]\n",
      "4it [00:02,  1.81it/s, tot_impr=1321, last_impr=0, loss=553]\n",
      "5it [00:02,  1.89it/s, tot_impr=1313, last_impr=0, loss=541]\n",
      "5it [00:02,  1.92it/s, tot_impr=1302, last_impr=0, loss=554] \n",
      "5it [00:02,  1.82it/s, tot_impr=1343, last_impr=0, loss=532]]  \n",
      "3it [00:01,  1.86it/s, tot_impr=1338, last_impr=0, loss=517] \n",
      "4it [00:02,  1.92it/s, tot_impr=1309, last_impr=0, loss=555]]  \n",
      "4it [00:02,  1.84it/s, tot_impr=1361, last_impr=0, loss=502] \n",
      "3it [00:01,  1.82it/s, tot_impr=1299, last_impr=0, loss=557]   \n",
      "4it [00:02,  1.88it/s, tot_impr=1261, last_impr=0, loss=599]98]\n",
      "4it [00:02,  1.80it/s, tot_impr=1331, last_impr=0, loss=532]\n",
      "3it [00:01,  1.80it/s, tot_impr=1334, last_impr=0, loss=526] 2]\n",
      "3it [00:01,  1.85it/s, tot_impr=1335, last_impr=0, loss=520]   \n",
      "4it [00:02,  1.79it/s, tot_impr=1323, last_impr=0, loss=539]88]\n",
      "4it [00:02,  1.85it/s, tot_impr=1377, last_impr=0, loss=487] \n",
      "3it [00:01,  1.80it/s, tot_impr=1322, last_impr=0, loss=539]]  \n",
      "4it [00:02,  1.84it/s, tot_impr=1316, last_impr=0, loss=543]79]\n",
      "4it [00:02,  1.88it/s, tot_impr=1313, last_impr=0, loss=547]]  \n",
      "4it [00:02,  1.92it/s, tot_impr=1376, last_impr=0, loss=499]]  \n",
      "4it [00:02,  1.90it/s, tot_impr=1350, last_impr=0, loss=512]   \n",
      "4it [00:02,  1.84it/s, tot_impr=1340, last_impr=0, loss=529]]  \n",
      "5it [00:02,  1.81it/s, tot_impr=1334, last_impr=0, loss=527]12]\n",
      "5it [00:02,  1.90it/s, tot_impr=1340, last_impr=0, loss=516]]  \n",
      "4it [00:02,  1.91it/s, tot_impr=1380, last_impr=0, loss=485]   \n",
      "4it [00:02,  1.84it/s, tot_impr=1315, last_impr=0, loss=544]42]\n",
      "4it [00:02,  1.79it/s, tot_impr=1405, last_impr=0, loss=461]\n",
      "4it [00:02,  1.92it/s, tot_impr=1401, last_impr=0, loss=473]\n",
      "4it [00:02,  1.91it/s, tot_impr=1348, last_impr=0, loss=516] \n",
      "3it [00:01,  1.80it/s, tot_impr=1358, last_impr=0, loss=502]   \n",
      "4it [00:02,  1.87it/s, tot_impr=1260, last_impr=0, loss=590]]  \n",
      "4it [00:02,  1.97it/s, tot_impr=1300, last_impr=0, loss=569]19]\n",
      "4it [00:02,  1.93it/s, tot_impr=1347, last_impr=0, loss=520]]  \n",
      "4it [00:02,  1.79it/s, tot_impr=1354, last_impr=0, loss=511]   \n",
      "4it [00:02,  1.93it/s, tot_impr=1325, last_impr=0, loss=543]]  \n",
      "4it [00:02,  1.85it/s, tot_impr=1353, last_impr=0, loss=517]   \n",
      "5it [00:02,  1.89it/s, tot_impr=1306, last_impr=0, loss=558]\n",
      "4it [00:02,  1.81it/s, tot_impr=1346, last_impr=0, loss=516]51]\n",
      "5it [00:02,  1.80it/s, tot_impr=1398, last_impr=0, loss=471]\n",
      "4it [00:02,  1.92it/s, tot_impr=1366, last_impr=0, loss=493] 1]\n",
      "3it [00:01,  1.86it/s, tot_impr=1242, last_impr=0, loss=610]23]\n",
      "5it [00:02,  1.81it/s, tot_impr=1321, last_impr=0, loss=538]72]\n",
      "4it [00:02,  1.80it/s, tot_impr=1358, last_impr=0, loss=505]41]\n",
      "5it [00:02,  1.78it/s, tot_impr=1343, last_impr=0, loss=522]   \n",
      "6it [00:03,  1.89it/s, tot_impr=1377, last_impr=0, loss=485]\n",
      "4it [00:02,  1.84it/s, tot_impr=1339, last_impr=0, loss=527]]  \n",
      "4it [00:02,  1.85it/s, tot_impr=1333, last_impr=0, loss=537]]  \n",
      "4it [00:02,  1.79it/s, tot_impr=1320, last_impr=0, loss=541] 3]\n",
      "4it [00:02,  1.95it/s, tot_impr=1394, last_impr=0, loss=477] 8]\n",
      "3it [00:01,  1.92it/s, tot_impr=1365, last_impr=0, loss=497] 7]\n",
      "4it [00:02,  1.83it/s, tot_impr=1310, last_impr=0, loss=555]07]\n",
      "3it [00:01,  1.98it/s, tot_impr=1329, last_impr=0, loss=532] \n",
      "5it [00:02,  1.93it/s, tot_impr=1358, last_impr=0, loss=503]\n",
      "5it [00:02,  1.82it/s, tot_impr=1323, last_impr=0, loss=539]]  \n",
      "4it [00:02,  1.86it/s, tot_impr=1324, last_impr=0, loss=540]\n",
      "5it [00:02,  1.82it/s, tot_impr=1335, last_impr=0, loss=523]\n",
      "3it [00:01,  1.93it/s, tot_impr=1362, last_impr=0, loss=491]]  \n",
      "5it [00:02,  1.93it/s, tot_impr=1362, last_impr=0, loss=492]92]\n",
      "4it [00:02,  1.93it/s, tot_impr=1339, last_impr=0, loss=514]\n",
      "3it [00:01,  1.94it/s, tot_impr=1285, last_impr=0, loss=581]]  \n",
      "4it [00:02,  1.94it/s, tot_impr=1369, last_impr=0, loss=499]]  \n",
      "4it [00:02,  1.91it/s, tot_impr=1349, last_impr=0, loss=521]\n",
      "3it [00:01,  1.80it/s, tot_impr=1324, last_impr=0, loss=519]79]\n",
      "3it [00:01,  1.81it/s, tot_impr=1359, last_impr=0, loss=509]   \n",
      "5it [00:02,  1.80it/s, tot_impr=1269, last_impr=0, loss=595] 1]\n",
      "4it [00:02,  1.85it/s, tot_impr=1380, last_impr=0, loss=481]\n",
      "5it [00:02,  1.79it/s, tot_impr=1324, last_impr=0, loss=539]18]\n",
      "3it [00:01,  1.77it/s, tot_impr=1292, last_impr=0, loss=567] 0]\n",
      "5it [00:02,  1.83it/s, tot_impr=1263, last_impr=0, loss=609]\n",
      "3it [00:01,  1.82it/s, tot_impr=1335, last_impr=0, loss=523] \n",
      "4it [00:02,  1.85it/s, tot_impr=1328, last_impr=0, loss=539]]  \n",
      "5it [00:02,  1.96it/s, tot_impr=1332, last_impr=0, loss=538]33]\n",
      "4it [00:02,  1.93it/s, tot_impr=1289, last_impr=0, loss=576]\n",
      "5it [00:03,  1.66it/s, tot_impr=1328, last_impr=0, loss=545] \n",
      "4it [00:02,  1.81it/s, tot_impr=1311, last_impr=0, loss=547]]  \n",
      "5it [00:02,  1.97it/s, tot_impr=1388, last_impr=0, loss=481]]  \n",
      "3it [00:01,  1.84it/s, tot_impr=1289, last_impr=0, loss=572] 3]\n",
      "4it [00:02,  1.92it/s, tot_impr=1353, last_impr=0, loss=512]]8]\n",
      "5it [00:02,  1.84it/s, tot_impr=1293, last_impr=0, loss=573]10]\n",
      "4it [00:02,  1.83it/s, tot_impr=1316, last_impr=0, loss=547] \n",
      "5it [00:02,  1.86it/s, tot_impr=1329, last_impr=0, loss=527]]  \n",
      "6it [00:03,  1.83it/s, tot_impr=1347, last_impr=0, loss=519]06]\n",
      "4it [00:02,  1.93it/s, tot_impr=1309, last_impr=0, loss=562]38]\n",
      "4it [00:02,  1.91it/s, tot_impr=1333, last_impr=0, loss=529] \n",
      "3it [00:01,  1.83it/s, tot_impr=1358, last_impr=0, loss=515] \n",
      "4it [00:02,  1.97it/s, tot_impr=1346, last_impr=0, loss=510]\n",
      "4it [00:02,  1.80it/s, tot_impr=1315, last_impr=0, loss=544]11]\n",
      "4it [00:02,  1.92it/s, tot_impr=1307, last_impr=0, loss=546] \n",
      "4it [00:02,  1.83it/s, tot_impr=1295, last_impr=0, loss=568]]  \n",
      "4it [00:02,  1.80it/s, tot_impr=1335, last_impr=0, loss=525] \n",
      "3it [00:01,  1.83it/s, tot_impr=1322, last_impr=0, loss=541]   \n",
      "5it [00:02,  1.93it/s, tot_impr=1340, last_impr=0, loss=530]]  \n",
      "4it [00:02,  1.92it/s, tot_impr=1342, last_impr=0, loss=517]\n",
      "4it [00:02,  1.96it/s, tot_impr=1322, last_impr=0, loss=555]86]\n",
      "4it [00:02,  1.95it/s, tot_impr=1321, last_impr=0, loss=552]\n",
      "5it [00:02,  1.92it/s, tot_impr=1366, last_impr=0, loss=483]]  \n",
      "3it [00:01,  1.91it/s, tot_impr=1332, last_impr=0, loss=542] 5]\n",
      "4it [00:02,  1.82it/s, tot_impr=1308, last_impr=0, loss=550] 2]\n",
      "4it [00:02,  1.81it/s, tot_impr=1312, last_impr=0, loss=547]]  \n",
      "4it [00:02,  1.82it/s, tot_impr=1324, last_impr=0, loss=545]]  \n",
      "4it [00:02,  1.81it/s, tot_impr=1363, last_impr=0, loss=502]\n",
      "4it [00:02,  1.82it/s, tot_impr=1335, last_impr=0, loss=540]   \n",
      "3it [00:01,  1.84it/s, tot_impr=1314, last_impr=0, loss=551]   \n",
      "4it [00:02,  1.94it/s, tot_impr=1333, last_impr=0, loss=522]]  \n",
      "4it [00:02,  1.81it/s, tot_impr=1332, last_impr=0, loss=528] 5]\n",
      "5it [00:02,  1.81it/s, tot_impr=1301, last_impr=0, loss=549] \n",
      "4it [00:02,  1.95it/s, tot_impr=1334, last_impr=0, loss=525] \n",
      "5it [00:02,  1.80it/s, tot_impr=1285, last_impr=0, loss=572]\n",
      "5it [00:02,  1.98it/s, tot_impr=1401, last_impr=0, loss=459]]  \n",
      "4it [00:02,  1.62it/s, tot_impr=1338, last_impr=0, loss=532] \n",
      "3it [00:01,  1.98it/s, tot_impr=1339, last_impr=0, loss=528] 8]\n",
      "3it [00:01,  1.80it/s, tot_impr=1352, last_impr=0, loss=506] \n",
      "4it [00:02,  1.80it/s, tot_impr=1319, last_impr=0, loss=539] \n",
      "3it [00:01,  1.97it/s, tot_impr=1344, last_impr=0, loss=530] 7]\n",
      "3it [00:01,  1.95it/s, tot_impr=1334, last_impr=0, loss=527]55]\n",
      "4it [00:02,  1.79it/s, tot_impr=1376, last_impr=0, loss=483]\n",
      "4it [00:02,  1.78it/s, tot_impr=1339, last_impr=0, loss=527]\n",
      "4it [00:02,  1.79it/s, tot_impr=1293, last_impr=0, loss=564]\n",
      "4it [00:02,  1.95it/s, tot_impr=1315, last_impr=0, loss=545]]  \n",
      "4it [00:02,  1.96it/s, tot_impr=1333, last_impr=0, loss=532]\n",
      "4it [00:02,  1.96it/s, tot_impr=1323, last_impr=0, loss=541]46]\n",
      "3it [00:01,  1.90it/s, tot_impr=1328, last_impr=0, loss=532] \n",
      "4it [00:02,  1.75it/s, tot_impr=1336, last_impr=0, loss=536]]  \n",
      "4it [00:02,  1.86it/s, tot_impr=1358, last_impr=0, loss=504]\n",
      "4it [00:02,  1.81it/s, tot_impr=1306, last_impr=0, loss=563]]  \n",
      "5it [00:02,  1.96it/s, tot_impr=1346, last_impr=0, loss=516]65]\n",
      "5it [00:02,  1.96it/s, tot_impr=1358, last_impr=0, loss=502] 3]\n",
      "5it [00:02,  1.81it/s, tot_impr=1382, last_impr=0, loss=486]   \n",
      "4it [00:02,  1.94it/s, tot_impr=1369, last_impr=0, loss=487]\n",
      "4it [00:02,  1.81it/s, tot_impr=1389, last_impr=0, loss=467]   \n",
      "4it [00:02,  1.82it/s, tot_impr=1316, last_impr=0, loss=537]]  \n",
      "3it [00:01,  1.97it/s, tot_impr=1347, last_impr=0, loss=512] \n",
      "4it [00:02,  1.83it/s, tot_impr=1354, last_impr=0, loss=518]\n",
      "4it [00:02,  1.81it/s, tot_impr=1337, last_impr=0, loss=528]]\n",
      "4it [00:02,  1.95it/s, tot_impr=1301, last_impr=0, loss=551]   \n",
      "4it [00:02,  1.85it/s, tot_impr=1342, last_impr=0, loss=533]   \n",
      "4it [00:02,  1.83it/s, tot_impr=1380, last_impr=0, loss=484] 6]\n",
      "4it [00:02,  1.96it/s, tot_impr=1294, last_impr=0, loss=567]   \n",
      "4it [00:02,  1.83it/s, tot_impr=1342, last_impr=0, loss=521] \n",
      "4it [00:02,  1.92it/s, tot_impr=1348, last_impr=0, loss=521]]  \n",
      "3it [00:01,  1.87it/s, tot_impr=1283, last_impr=0, loss=582] 6]\n",
      "4it [00:02,  1.95it/s, tot_impr=1370, last_impr=0, loss=495]\n",
      "4it [00:02,  1.84it/s, tot_impr=1354, last_impr=0, loss=512] \n",
      "4it [00:02,  1.88it/s, tot_impr=1338, last_impr=0, loss=527]]  \n",
      "4it [00:02,  1.97it/s, tot_impr=1384, last_impr=0, loss=479] \n",
      "4it [00:02,  1.67it/s, tot_impr=1382, last_impr=0, loss=488] \n",
      "4it [00:02,  1.85it/s, tot_impr=1314, last_impr=0, loss=548]\n",
      "4it [00:02,  1.94it/s, tot_impr=1329, last_impr=0, loss=526]]\n",
      "4it [00:02,  1.63it/s, tot_impr=1353, last_impr=0, loss=511]\n",
      "4it [00:02,  1.97it/s, tot_impr=1300, last_impr=0, loss=560]\n",
      "5it [00:02,  1.84it/s, tot_impr=1316, last_impr=0, loss=552]\n",
      "5it [00:02,  1.86it/s, tot_impr=1347, last_impr=0, loss=515]\n",
      "4it [00:02,  1.94it/s, tot_impr=1312, last_impr=0, loss=552] \n",
      "5it [00:02,  1.88it/s, tot_impr=1302, last_impr=0, loss=560]]  \n",
      "4it [00:02,  1.89it/s, tot_impr=1310, last_impr=0, loss=558]\n",
      "5it [00:02,  1.90it/s, tot_impr=1408, last_impr=0, loss=464] \n",
      "5it [00:02,  1.96it/s, tot_impr=1319, last_impr=0, loss=535]\n",
      "4it [00:02,  2.00it/s, tot_impr=1302, last_impr=0, loss=558] \n",
      "4it [00:01,  2.02it/s, tot_impr=1307, last_impr=0, loss=563] \n",
      "4it [00:02,  1.99it/s, tot_impr=1325, last_impr=0, loss=533]\n",
      "5it [00:02,  2.02it/s, tot_impr=1381, last_impr=0, loss=483]\n",
      "4it [00:01,  2.05it/s, tot_impr=1304, last_impr=0, loss=554]\n"
     ]
    }
   ],
   "source": [
    "path = './examples/HumanCyc_2016.npy'\n",
    "repeats = 1000\n",
    "\n",
    "thresh = np.repeat(50,repeats)\n",
    "seed = np.arange(repeats)\n",
    "C = 0\n",
    "KL_modified = True\n",
    "random_labels = True\n",
    "unweighted = True\n",
    "\n",
    "results = process_map(partial(get_scores,path,C,KL_modified,False,unweighted), seed, thresh)\n"
   ]
  },
  {
   "cell_type": "code",
   "execution_count": 28,
   "id": "dca30044-a2cf-47b0-9c0c-026ba84da250",
   "metadata": {},
   "outputs": [],
   "source": [
    "loss = [x[1] for x in results]\n",
    "labels = np.vstack([x[0] for x in results])"
   ]
  },
  {
   "cell_type": "code",
   "execution_count": 81,
   "id": "d398c297-92eb-46c4-8921-47f6126be478",
   "metadata": {},
   "outputs": [
    {
     "data": {
      "text/plain": [
       "761"
      ]
     },
     "execution_count": 81,
     "metadata": {},
     "output_type": "execute_result"
    }
   ],
   "source": [
    "np.argmin(loss-np.min(loss))"
   ]
  },
  {
   "cell_type": "code",
   "execution_count": 97,
   "id": "21c4497d-db09-4646-a8ef-0a1c02c6ad2c",
   "metadata": {},
   "outputs": [],
   "source": [
    "out = []\n",
    "curr = labels[np.argsort(loss)[0]]\n",
    "for i in range(len(curr)):\n",
    "    out.append(curr==curr[i])\n",
    "dist = np.vstack(out)"
   ]
  },
  {
   "cell_type": "code",
   "execution_count": 98,
   "id": "6ae74d5d-63dc-4dd5-9834-5e2e957c8c60",
   "metadata": {},
   "outputs": [],
   "source": [
    "output = []\n",
    "for z in range(len(loss)):\n",
    "    out = []\n",
    "    curr = labels[np.argsort(loss)[z]]\n",
    "    for i in range(len(curr)):\n",
    "        out.append(curr==curr[i])\n",
    "    dist2 = np.vstack(out)\n",
    "    \n",
    "    output.append(scipy.stats.spearmanr(dist.ravel(), dist2.ravel())[0])"
   ]
  },
  {
   "cell_type": "code",
   "execution_count": 111,
   "id": "6f633824-b945-46e8-8570-c43354e33a1c",
   "metadata": {},
   "outputs": [
    {
     "data": {
      "text/plain": [
       "<matplotlib.collections.PathCollection at 0x7f9b0efd8a60>"
      ]
     },
     "execution_count": 111,
     "metadata": {},
     "output_type": "execute_result"
    },
    {
     "data": {
      "image/png": "[encoded data removed]",
      "text/plain": [
       "<Figure size 432x288 with 1 Axes>"
      ]
     },
     "metadata": {
      "needs_background": "light"
     },
     "output_type": "display_data"
    }
   ],
   "source": [
    "plt.scatter(np.array(loss)[np.argsort(loss)], output, s = 0.1)"
   ]
  },
  {
   "cell_type": "code",
   "execution_count": 108,
   "id": "8f6a2d78-34ba-43e6-8427-7a0ef339eacd",
   "metadata": {},
   "outputs": [
    {
     "data": {
      "text/plain": [
       "441"
      ]
     },
     "execution_count": 108,
     "metadata": {},
     "output_type": "execute_result"
    }
   ],
   "source": [
    "# how does this method compare to other clustering methods"
   ]
  },
  {
   "cell_type": "code",
   "execution_count": 165,
   "id": "d96bd114-54fa-448e-978e-96fdf9114f4c",
   "metadata": {},
   "outputs": [],
   "source": [
    "from sklearn.cluster import SpectralClustering\n",
    "import numpy as np\n",
    "X = get_full_matrix_from_bipartite(matrix)\n",
    "clustering = SpectralClustering(n_clusters=50,\n",
    "        assign_labels='discretize',\n",
    "        random_state=1,affinity='precomputed_nearest_neighbors').fit(X)\n",
    "labs = clustering.labels_"
   ]
  },
  {
   "cell_type": "code",
   "execution_count": 166,
   "id": "d9623792-7cb1-4bf8-8a67-3a4b816f03d5",
   "metadata": {},
   "outputs": [
    {
     "data": {
      "text/plain": [
       "1536"
      ]
     },
     "execution_count": 166,
     "metadata": {},
     "output_type": "execute_result"
    }
   ],
   "source": [
    "evaluate_cut(matrix, labs, 0)"
   ]
  },
  {
   "cell_type": "code",
   "execution_count": 158,
   "id": "3c901b86-5914-4822-8eea-6c923826f9e1",
   "metadata": {},
   "outputs": [],
   "source": [
    "from sklearn.cluster import KMeans\n",
    "import numpy as np\n",
    "\n",
    "kmeans = KMeans(n_clusters=50, random_state=0).fit(X)\n",
    "labs = kmeans.labels_\n",
    "\n",
    "#kmeans.predict(X)\n",
    "\n",
    "#kmeans.cluster_centers_"
   ]
  },
  {
   "cell_type": "code",
   "execution_count": 159,
   "id": "b085b0dd-45f3-4e1f-8031-eb2d22512542",
   "metadata": {},
   "outputs": [
    {
     "data": {
      "text/plain": [
       "1526"
      ]
     },
     "execution_count": 159,
     "metadata": {},
     "output_type": "execute_result"
    }
   ],
   "source": [
    "evaluate_cut(matrix, labs, 0)"
   ]
  },
  {
   "cell_type": "code",
   "execution_count": 162,
   "id": "9f25bba9-8445-4c91-ae9e-4073fc0a60cf",
   "metadata": {},
   "outputs": [
    {
     "data": {
      "text/plain": [
       "(array([ 0,  1,  2,  3,  4,  5,  6,  7,  8,  9, 10, 11, 12, 13, 14, 15, 16,\n",
       "        17, 18, 19, 20, 21, 22, 23, 24, 25, 26, 27, 28, 29, 30, 31, 32, 33,\n",
       "        34, 35, 36, 37, 38, 39, 40, 41, 42, 43, 44, 45, 46, 47, 48, 49],\n",
       "       dtype=int32),\n",
       " array([509,   6,  44,   5,  25,  32,  24,  27,   7,   1,  21,   8,   7,\n",
       "         27,  22,  13,   3,  38,  24,  19,   8,   4,  16,   4,   2,   6,\n",
       "          1,  11,   4,   3,   2,   9,   1,   9,  11,   1,   1,  20,  12,\n",
       "         40,   1,  10,   2,   7,   6,  14,   2,   2,   1,  14]))"
      ]
     },
     "execution_count": 162,
     "metadata": {},
     "output_type": "execute_result"
    }
   ],
   "source": [
    "# how well connected are the clusters we identify using KL?\n",
    "# how does it compare to results with the Leiden algorithm?, which is supposed to guarantee for better connectededness - how do they measure that?"
   ]
  },
  {
   "cell_type": "markdown",
   "id": "764c04cc-a628-457e-a1ac-fa56a0f81d3c",
   "metadata": {},
   "source": [
    "# below is scrap"
   ]
  },
  {
   "cell_type": "code",
   "execution_count": 94,
   "id": "895c67fd-d9c9-48ed-a207-7bbc1e97a0a7",
   "metadata": {},
   "outputs": [
    {
     "data": {
      "text/plain": [
       "SpearmanrResult(correlation=0.3654673364019369, pvalue=0.0)"
      ]
     },
     "execution_count": 94,
     "metadata": {},
     "output_type": "execute_result"
    }
   ],
   "source": [
    "import scipy\n",
    "scipy.stats.spearmanr(dist.ravel(), dist2.ravel())"
   ]
  },
  {
   "cell_type": "code",
   "execution_count": 35,
   "id": "71396666-70c2-4f2b-b304-9c61e2a2f08b",
   "metadata": {},
   "outputs": [],
   "source": [
    "fill = np.zeros_like(matrix)"
   ]
  },
  {
   "cell_type": "code",
   "execution_count": 44,
   "id": "43f572a6-6b89-4012-9cc9-0ac0e412690b",
   "metadata": {},
   "outputs": [],
   "source": []
  },
  {
   "cell_type": "code",
   "execution_count": 47,
   "id": "11a82d19-f40b-45ee-8b9c-91730759f0a4",
   "metadata": {},
   "outputs": [],
   "source": []
  },
  {
   "cell_type": "code",
   "execution_count": 40,
   "id": "36f18ab0-f517-424d-bec0-0ac6e4c491ab",
   "metadata": {},
   "outputs": [
    {
     "data": {
      "text/plain": [
       "array([ 8, 29, 14, ...,  7, 43, 30])"
      ]
     },
     "execution_count": 40,
     "metadata": {},
     "output_type": "execute_result"
    }
   ],
   "source": [
    "labels[0]"
   ]
  },
  {
   "cell_type": "code",
   "execution_count": 33,
   "id": "43dfbdd5-5d58-4443-b13a-1d10f491004a",
   "metadata": {},
   "outputs": [
    {
     "data": {
      "text/plain": [
       "array([ 8, 29, 14, ...,  7, 43, 30])"
      ]
     },
     "execution_count": 33,
     "metadata": {},
     "output_type": "execute_result"
    }
   ],
   "source": [
    "curr = labels[0]\n",
    "for i in len(curr):\n",
    "    x,y = fill.shape\n",
    "    if i<x:\n",
    "        fill[i] "
   ]
  },
  {
   "cell_type": "code",
   "execution_count": 296,
   "id": "bf0ed267-0374-4c69-8caa-a12605d418a7",
   "metadata": {},
   "outputs": [
    {
     "data": {
      "text/plain": [
       "<matplotlib.collections.PathCollection at 0x7f4715feb3d0>"
      ]
     },
     "execution_count": 296,
     "metadata": {},
     "output_type": "execute_result"
    },
    {
     "data": {
      "image/png": "[encoded data removed]",
      "text/plain": [
       "<Figure size 432x288 with 1 Axes>"
      ]
     },
     "metadata": {
      "needs_background": "light"
     },
     "output_type": "display_data"
    }
   ],
   "source": [
    "plt.scatter(lab1[np.argmin(loss1)], lab2[np.argmin(loss2)], s = 0.1)"
   ]
  },
  {
   "cell_type": "code",
   "execution_count": 310,
   "id": "d6356aed-b0ab-4193-b4ad-00fd563c3696",
   "metadata": {},
   "outputs": [],
   "source": [
    "x = lab1[np.argmin(loss1)]\n",
    "y = lab2[np.argmin(loss2)]\n",
    "y_former = y.copy()"
   ]
  },
  {
   "cell_type": "code",
   "execution_count": 311,
   "id": "1b6105af-205f-4fa7-a157-d28ffd4f59c5",
   "metadata": {},
   "outputs": [
    {
     "name": "stderr",
     "output_type": "stream",
     "text": [
      "1it [00:00,  1.70it/s, tot_impr=0, last_impr=0, loss=284]\n"
     ]
    }
   ],
   "source": [
    "run_KL(y, matrix, 0, True)"
   ]
  },
  {
   "cell_type": "code",
   "execution_count": 308,
   "id": "213e29cb-69be-442d-9e1f-98a6d4401a71",
   "metadata": {},
   "outputs": [
    {
     "data": {
      "text/plain": [
       "array([ 1, 13, 13, ..., 19, 12, 12])"
      ]
     },
     "execution_count": 308,
     "metadata": {},
     "output_type": "execute_result"
    }
   ],
   "source": [
    "y"
   ]
  },
  {
   "cell_type": "code",
   "execution_count": 298,
   "id": "2eb2d34b-51ec-46f7-ba9a-05ff30ad2da0",
   "metadata": {},
   "outputs": [],
   "source": [
    "counter1 = []\n",
    "counter2 = []\n",
    "for i in range(10000):\n",
    "    index = np.random.choice(range(len(x)), 2)\n",
    "    \n",
    "    if (x[index[0]]-x[index[1]])==0:\n",
    "        counter1.append((y[index[0]]-y[index[1]])==0)\n",
    "    else:\n",
    "        counter2.append((y[index[0]]-y[index[1]])==0)"
   ]
  },
  {
   "cell_type": "code",
   "execution_count": 299,
   "id": "ea10fb92-9350-4e74-818f-73726b46e0f0",
   "metadata": {},
   "outputs": [
    {
     "data": {
      "text/plain": [
       "0.5046728971962616"
      ]
     },
     "execution_count": 299,
     "metadata": {},
     "output_type": "execute_result"
    }
   ],
   "source": [
    "np.sum(counter1)/len(counter1)"
   ]
  },
  {
   "cell_type": "code",
   "execution_count": 300,
   "id": "2ce6c9bc-78db-44f6-8dbb-d5c006e66e8f",
   "metadata": {},
   "outputs": [
    {
     "data": {
      "text/plain": [
       "0.016943899163136687"
      ]
     },
     "execution_count": 300,
     "metadata": {},
     "output_type": "execute_result"
    }
   ],
   "source": [
    "np.sum(counter2)/len(counter2)"
   ]
  },
  {
   "cell_type": "code",
   "execution_count": 206,
   "id": "a4d94948-4003-47b5-b543-2c3014476e86",
   "metadata": {},
   "outputs": [
    {
     "data": {
      "text/plain": [
       "19"
      ]
     },
     "execution_count": 206,
     "metadata": {},
     "output_type": "execute_result"
    }
   ],
   "source": [
    "counter"
   ]
  },
  {
   "cell_type": "code",
   "execution_count": 176,
   "id": "1e2a16eb-806e-4429-9c5f-9515c99cda72",
   "metadata": {},
   "outputs": [
    {
     "ename": "ValueError",
     "evalue": "a must be 1-dimensional",
     "output_type": "error",
     "traceback": [
      "\u001b[0;31m---------------------------------------------------------------------------\u001b[0m",
      "\u001b[0;31mValueError\u001b[0m                                Traceback (most recent call last)",
      "Input \u001b[0;32mIn [176]\u001b[0m, in \u001b[0;36m<cell line: 1>\u001b[0;34m()\u001b[0m\n\u001b[0;32m----> 1\u001b[0m \u001b[43mnp\u001b[49m\u001b[38;5;241;43m.\u001b[39;49m\u001b[43mrandom\u001b[49m\u001b[38;5;241;43m.\u001b[39;49m\u001b[43mchoice\u001b[49m\u001b[43m(\u001b[49m\u001b[43mnp\u001b[49m\u001b[38;5;241;43m.\u001b[39;49m\u001b[43mwhere\u001b[49m\u001b[43m(\u001b[49m\u001b[43mtest\u001b[49m\u001b[43m[\u001b[49m\u001b[38;5;241;43m0\u001b[39;49m\u001b[43m]\u001b[49m\u001b[38;5;241;43m==\u001b[39;49m\u001b[38;5;241;43m8\u001b[39;49m\u001b[43m)\u001b[49m\u001b[43m,\u001b[49m\u001b[43m \u001b[49m\u001b[38;5;241;43m1\u001b[39;49m\u001b[43m)\u001b[49m\n",
      "File \u001b[0;32mmtrand.pyx:905\u001b[0m, in \u001b[0;36mnumpy.random.mtrand.RandomState.choice\u001b[0;34m()\u001b[0m\n",
      "\u001b[0;31mValueError\u001b[0m: a must be 1-dimensional"
     ]
    }
   ],
   "source": [
    "np.random.choice(np.where(test[0]==8), 1)"
   ]
  },
  {
   "cell_type": "code",
   "execution_count": 169,
   "id": "db3595a3-22de-41d2-b79a-c49c93c86997",
   "metadata": {},
   "outputs": [
    {
     "data": {
      "text/plain": [
       "(array([   0,   16,   17,  113,  114,  115,  141,  155,  156,  172,  179,\n",
       "         180,  181,  287,  289,  290,  291,  292,  293,  294,  295,  296,\n",
       "         324,  331,  332,  333,  334,  335,  336,  337,  338,  339,  340,\n",
       "         341,  342,  343,  344,  345,  346,  347,  348,  358,  361,  362,\n",
       "         376,  449,  450,  451,  452,  453,  454,  455,  456,  457,  458,\n",
       "         459,  574,  575,  576,  577,  621,  622,  623,  632,  633,  634,\n",
       "         635,  641,  644,  749,  773,  775,  781,  801,  802,  803,  804,\n",
       "         811,  812,  813,  814,  819,  820,  830,  831,  833,  846,  855,\n",
       "         928, 1053, 1054, 1066, 1067, 1072, 1079, 1081, 1084, 1085]),)"
      ]
     },
     "execution_count": 169,
     "metadata": {},
     "output_type": "execute_result"
    }
   ],
   "source": [
    "np.where(test[1]==8)"
   ]
  },
  {
   "cell_type": "code",
   "execution_count": 168,
   "id": "3222642d-787f-4851-b3e7-2cf2bde0411d",
   "metadata": {},
   "outputs": [
    {
     "data": {
      "text/plain": [
       "array([[8, 5, 5, ..., 8, 8, 5],\n",
       "       [8, 6, 6, ..., 7, 8, 8],\n",
       "       [5, 5, 2, ..., 9, 3, 9],\n",
       "       ...,\n",
       "       [8, 4, 1, ..., 8, 1, 1],\n",
       "       [8, 1, 1, ..., 7, 7, 7],\n",
       "       [9, 5, 5, ..., 3, 3, 3]])"
      ]
     },
     "execution_count": 168,
     "metadata": {},
     "output_type": "execute_result"
    }
   ],
   "source": [
    "test"
   ]
  },
  {
   "cell_type": "code",
   "execution_count": 98,
   "id": "eb2c1c8f-f67d-4de7-8a70-82c7d75574ab",
   "metadata": {},
   "outputs": [
    {
     "data": {
      "application/vnd.jupyter.widget-view+json": {
       "model_id": "2b3238c56ca74228b8f8ab24b6891229",
       "version_major": 2,
       "version_minor": 0
      },
      "text/plain": [
       "  0%|          | 0/19 [00:00<?, ?it/s]"
      ]
     },
     "metadata": {},
     "output_type": "display_data"
    },
    {
     "name": "stderr",
     "output_type": "stream",
     "text": [
      "3it [00:01,  1.99it/s, tot_impr=1101, last_impr=0, loss=782]  ]\n",
      "3it [00:01,  1.93it/s, tot_impr=958, last_impr=0, loss=906] ]  \n",
      "3it [00:01,  1.84it/s, tot_impr=975, last_impr=0, loss=908]  \n",
      "4it [00:01,  2.08it/s, tot_impr=1242, last_impr=0, loss=631] \n",
      "4it [00:01,  2.01it/s, tot_impr=1317, last_impr=0, loss=548] \n",
      "4it [00:01,  2.03it/s, tot_impr=1063, last_impr=0, loss=812]\n",
      "4it [00:02,  1.87it/s, tot_impr=1410, last_impr=0, loss=438] \n",
      "3it [00:02,  1.38it/s, tot_impr=747, last_impr=0, loss=1144] \n",
      "3it [00:02,  1.32it/s, tot_impr=695, last_impr=0, loss=1195] \n",
      "4it [00:02,  1.78it/s, tot_impr=908, last_impr=0, loss=980]\n",
      "4it [00:02,  1.72it/s, tot_impr=870, last_impr=0, loss=1007]\n",
      "3it [00:02,  1.24it/s, tot_impr=1527, last_impr=0, loss=278] \n",
      "4it [00:02,  1.65it/s, tot_impr=845, last_impr=0, loss=1044]\n",
      "5it [00:02,  2.08it/s, tot_impr=1112, last_impr=0, loss=755]\n",
      "4it [00:02,  1.59it/s, tot_impr=814, last_impr=0, loss=1077]\n",
      "4it [00:02,  1.56it/s, tot_impr=1501, last_impr=0, loss=333]\n",
      "4it [00:02,  1.52it/s, tot_impr=733, last_impr=0, loss=1155]\n",
      "4it [00:02,  1.45it/s, tot_impr=772, last_impr=0, loss=1120]]  \n",
      "3it [00:04,  1.34s/it, tot_impr=1544, last_impr=0, loss=132] \n"
     ]
    }
   ],
   "source": [
    "results = process_map(partial(get_scores,path,C,KL_modified,False,unweighted), thresh)"
   ]
  },
  {
   "cell_type": "code",
   "execution_count": 102,
   "id": "369c9b44-fb74-4fbd-a86c-47b7a089542c",
   "metadata": {},
   "outputs": [
    {
     "data": {
      "text/plain": [
       "array([109.,  55.,  37.,  28.,  22.,  19.,  16.,  14.,  13.,  11.,  10.,\n",
       "        10.,   9.,   8.,   8.,   7.,   7.,   7.,   6.])"
      ]
     },
     "execution_count": 102,
     "metadata": {},
     "output_type": "execute_result"
    }
   ],
   "source": [
    "np.ceil([np.mean(np.unique(x[0], return_counts = True)[1]) for x in results])"
   ]
  },
  {
   "cell_type": "code",
   "execution_count": 64,
   "id": "3ad92148-4391-49bd-b7cb-07623356200e",
   "metadata": {
    "collapsed": true,
    "jupyter": {
     "outputs_hidden": true
    },
    "tags": []
   },
   "outputs": [
    {
     "data": {
      "application/vnd.jupyter.widget-view+json": {
       "model_id": "73444561cbe64337aeac61ade553769e",
       "version_major": 2,
       "version_minor": 0
      },
      "text/plain": [
       "  0%|          | 0/19 [00:00<?, ?it/s]"
      ]
     },
     "metadata": {},
     "output_type": "display_data"
    },
    {
     "name": "stderr",
     "output_type": "stream",
     "text": [
      "3it [00:01,  1.73it/s, tot_impr=1101, last_impr=0, loss=782]   \n",
      "3it [00:01,  1.69it/s, tot_impr=958, last_impr=0, loss=906]  \n",
      "4it [00:02,  1.87it/s, tot_impr=1242, last_impr=0, loss=631]59]\n",
      "4it [00:02,  1.83it/s, tot_impr=1063, last_impr=0, loss=812] \n",
      "4it [00:02,  1.76it/s, tot_impr=1317, last_impr=0, loss=548] \n",
      "4it [00:02,  1.76it/s, tot_impr=1410, last_impr=0, loss=438]\n",
      "3it [00:02,  1.26it/s, tot_impr=747, last_impr=0, loss=1144]  \n",
      "3it [00:01,  1.75it/s, tot_impr=975, last_impr=0, loss=908] \n",
      "4it [00:02,  1.62it/s, tot_impr=908, last_impr=0, loss=980]\n",
      "5it [00:02,  1.87it/s, tot_impr=1112, last_impr=0, loss=755]\n",
      "4it [00:02,  1.51it/s, tot_impr=845, last_impr=0, loss=1044]\n",
      "3it [00:02,  1.08it/s, tot_impr=1527, last_impr=0, loss=278] \n",
      "4it [00:02,  1.46it/s, tot_impr=814, last_impr=0, loss=1077]\n",
      "4it [00:02,  1.70it/s, tot_impr=870, last_impr=0, loss=1007]\n",
      "4it [00:02,  1.39it/s, tot_impr=1501, last_impr=0, loss=333]\n",
      "4it [00:02,  1.41it/s, tot_impr=733, last_impr=0, loss=1155]\n",
      "4it [00:02,  1.34it/s, tot_impr=772, last_impr=0, loss=1120]\n",
      "3it [00:02,  1.27it/s, tot_impr=695, last_impr=0, loss=1195] \n",
      "3it [00:04,  1.55s/it, tot_impr=1544, last_impr=0, loss=132]   \n"
     ]
    },
    {
     "data": {
      "application/vnd.jupyter.widget-view+json": {
       "model_id": "99bb6673f4b042c3bf4fa66440e97e7b",
       "version_major": 2,
       "version_minor": 0
      },
      "text/plain": [
       "  0%|          | 0/19 [00:00<?, ?it/s]"
      ]
     },
     "metadata": {},
     "output_type": "display_data"
    },
    {
     "name": "stderr",
     "output_type": "stream",
     "text": [
      "3it [00:02,  1.42it/s, tot_impr=1447, last_impr=0, loss=416] 5]\n",
      "3it [00:02,  1.38it/s, tot_impr=966, last_impr=0, loss=921]    \n",
      "4it [00:02,  1.58it/s, tot_impr=1310, last_impr=0, loss=548]] \n",
      "3it [00:02,  1.39it/s, tot_impr=1068, last_impr=0, loss=811] \n",
      "4it [00:02,  1.58it/s, tot_impr=1115, last_impr=0, loss=766]]  \n",
      "4it [00:02,  1.52it/s, tot_impr=1054, last_impr=0, loss=830]\n",
      "3it [00:02,  1.13it/s, tot_impr=737, last_impr=0, loss=1154] \n",
      "3it [00:02,  1.17it/s, tot_impr=777, last_impr=0, loss=1109] \n",
      "3it [00:02,  1.08it/s, tot_impr=721, last_impr=0, loss=1166] \n",
      "4it [00:02,  1.35it/s, tot_impr=1116, last_impr=0, loss=763]\n",
      "4it [00:03,  1.33it/s, tot_impr=898, last_impr=0, loss=988]] \n",
      "4it [00:03,  1.29it/s, tot_impr=833, last_impr=0, loss=1047]\n",
      "4it [00:03,  1.23it/s, tot_impr=795, last_impr=0, loss=1090]\n",
      "4it [00:02,  1.36it/s, tot_impr=937, last_impr=0, loss=948]\n",
      "4it [00:03,  1.04it/s, tot_impr=1281, last_impr=0, loss=586] \n",
      "4it [00:03,  1.05it/s, tot_impr=693, last_impr=0, loss=1199]]  \n",
      "4it [00:04,  1.16s/it, tot_impr=1553, last_impr=0, loss=245]\n",
      "5it [00:05,  1.06s/it, tot_impr=1501, last_impr=0, loss=336]\n",
      "4it [00:07,  1.86s/it, tot_impr=1546, last_impr=0, loss=155] \n"
     ]
    },
    {
     "data": {
      "application/vnd.jupyter.widget-view+json": {
       "model_id": "2fdbcc36bbf3411cade6a2ff5086707a",
       "version_major": 2,
       "version_minor": 0
      },
      "text/plain": [
       "  0%|          | 0/19 [00:00<?, ?it/s]"
      ]
     },
     "metadata": {},
     "output_type": "display_data"
    },
    {
     "name": "stderr",
     "output_type": "stream",
     "text": [
      "3it [00:01,  1.93it/s, tot_impr=1128, last_impr=0, loss=749] 0]\n",
      "3it [00:01,  1.76it/s, tot_impr=980, last_impr=0, loss=906] ]  \n",
      "3it [00:01,  1.69it/s, tot_impr=874, last_impr=0, loss=1010]  \n",
      "3it [00:01,  1.56it/s, tot_impr=845, last_impr=0, loss=1041] \n",
      "4it [00:01,  2.04it/s, tot_impr=1204, last_impr=0, loss=674]\n",
      "4it [00:01,  2.01it/s, tot_impr=1357, last_impr=0, loss=500]\n",
      "3it [00:02,  1.42it/s, tot_impr=758, last_impr=0, loss=1133] \n",
      "4it [00:02,  1.56it/s, tot_impr=824, last_impr=0, loss=1059] \n",
      "3it [00:02,  1.16it/s, tot_impr=715, last_impr=0, loss=1180] \n",
      "5it [00:02,  1.84it/s, tot_impr=1067, last_impr=0, loss=810]\n",
      "4it [00:02,  1.47it/s, tot_impr=1450, last_impr=0, loss=364]\n",
      "5it [00:02,  1.74it/s, tot_impr=1426, last_impr=0, loss=424]\n",
      "4it [00:02,  1.42it/s, tot_impr=784, last_impr=0, loss=1107]\n",
      "5it [00:02,  1.74it/s, tot_impr=1061, last_impr=0, loss=821]\n",
      "5it [00:03,  1.65it/s, tot_impr=973, last_impr=0, loss=913]\n",
      "6it [00:03,  1.90it/s, tot_impr=1219, last_impr=0, loss=645]\n",
      "4it [00:03,  1.28it/s, tot_impr=698, last_impr=0, loss=1192]   \n",
      "4it [00:03,  1.16it/s, tot_impr=1579, last_impr=0, loss=217]\n",
      "3it [00:04,  1.59s/it, tot_impr=1550, last_impr=0, loss=142] \n"
     ]
    },
    {
     "data": {
      "application/vnd.jupyter.widget-view+json": {
       "model_id": "10cb6c96fa1149139d22d7a4ca2da8cb",
       "version_major": 2,
       "version_minor": 0
      },
      "text/plain": [
       "  0%|          | 0/19 [00:00<?, ?it/s]"
      ]
     },
     "metadata": {},
     "output_type": "display_data"
    },
    {
     "name": "stderr",
     "output_type": "stream",
     "text": [
      "3it [00:02,  1.45it/s, tot_impr=1022, last_impr=0, loss=862] 4]\n",
      "3it [00:02,  1.32it/s, tot_impr=866, last_impr=0, loss=1024]  \n",
      "4it [00:02,  1.47it/s, tot_impr=1373, last_impr=0, loss=467]]  \n",
      "4it [00:02,  1.65it/s, tot_impr=1120, last_impr=0, loss=764] \n",
      "4it [00:02,  1.40it/s, tot_impr=907, last_impr=0, loss=979]\n",
      "3it [00:02,  1.05it/s, tot_impr=998, last_impr=0, loss=884] \n",
      "5it [00:03,  1.60it/s, tot_impr=1206, last_impr=0, loss=667] \n",
      "4it [00:03,  1.28it/s, tot_impr=1207, last_impr=0, loss=667]\n",
      "5it [00:03,  1.54it/s, tot_impr=1312, last_impr=0, loss=548]\n",
      "4it [00:03,  1.25it/s, tot_impr=841, last_impr=0, loss=1045]\n",
      "4it [00:03,  1.19it/s, tot_impr=1496, last_impr=0, loss=347]\n",
      "4it [00:03,  1.21it/s, tot_impr=937, last_impr=0, loss=953]\n",
      "4it [00:03,  1.13it/s, tot_impr=741, last_impr=0, loss=1148]\n",
      "4it [00:03,  1.16it/s, tot_impr=818, last_impr=0, loss=1070]\n",
      "3it [00:03,  1.11s/it, tot_impr=1525, last_impr=0, loss=276] \n",
      "4it [00:03,  1.20it/s, tot_impr=787, last_impr=0, loss=1104]\n",
      "4it [00:03,  1.05it/s, tot_impr=697, last_impr=0, loss=1191]\n",
      "4it [00:03,  1.13it/s, tot_impr=750, last_impr=0, loss=1138]]  \n",
      "4it [00:07,  1.88s/it, tot_impr=1561, last_impr=0, loss=143] \n"
     ]
    },
    {
     "data": {
      "application/vnd.jupyter.widget-view+json": {
       "model_id": "c99769926ea54b879f6b02b25fe639d1",
       "version_major": 2,
       "version_minor": 0
      },
      "text/plain": [
       "  0%|          | 0/19 [00:00<?, ?it/s]"
      ]
     },
     "metadata": {},
     "output_type": "display_data"
    },
    {
     "name": "stderr",
     "output_type": "stream",
     "text": [
      "3it [00:01,  2.02it/s, tot_impr=1266, last_impr=0, loss=604]   \n",
      "3it [00:01,  1.97it/s, tot_impr=1028, last_impr=0, loss=850] 6]\n",
      "3it [00:01,  2.00it/s, tot_impr=1105, last_impr=0, loss=778] \n",
      "4it [00:02,  1.96it/s, tot_impr=1272, last_impr=0, loss=602]   \n",
      "4it [00:02,  1.94it/s, tot_impr=1192, last_impr=0, loss=686] \n",
      "3it [00:02,  1.41it/s, tot_impr=756, last_impr=0, loss=1133] \n",
      "3it [00:02,  1.32it/s, tot_impr=768, last_impr=0, loss=1120] \n",
      "4it [00:02,  1.66it/s, tot_impr=961, last_impr=0, loss=926]]\n",
      "4it [00:02,  1.54it/s, tot_impr=832, last_impr=0, loss=1053] \n",
      "4it [00:02,  1.57it/s, tot_impr=887, last_impr=0, loss=1004]\n",
      "3it [00:02,  1.13it/s, tot_impr=1531, last_impr=0, loss=274] \n",
      "4it [00:02,  1.45it/s, tot_impr=1501, last_impr=0, loss=330]\n",
      "5it [00:02,  1.79it/s, tot_impr=1018, last_impr=0, loss=869]\n",
      "4it [00:02,  1.46it/s, tot_impr=757, last_impr=0, loss=1134]\n",
      "5it [00:02,  1.72it/s, tot_impr=1438, last_impr=0, loss=416]\n",
      "5it [00:02,  1.73it/s, tot_impr=976, last_impr=0, loss=904]\n",
      "4it [00:03,  1.32it/s, tot_impr=681, last_impr=0, loss=1207]\n",
      "4it [00:03,  1.23it/s, tot_impr=731, last_impr=0, loss=1162]]  \n",
      "3it [00:04,  1.66s/it, tot_impr=1518, last_impr=0, loss=190] \n"
     ]
    },
    {
     "data": {
      "application/vnd.jupyter.widget-view+json": {
       "model_id": "0c19a6d3b09a4b81ab2134821e1e5d5e",
       "version_major": 2,
       "version_minor": 0
      },
      "text/plain": [
       "  0%|          | 0/19 [00:00<?, ?it/s]"
      ]
     },
     "metadata": {},
     "output_type": "display_data"
    },
    {
     "name": "stderr",
     "output_type": "stream",
     "text": [
      "3it [00:01,  1.63it/s, tot_impr=1314, last_impr=0, loss=556]  ]\n",
      "3it [00:02,  1.49it/s, tot_impr=927, last_impr=0, loss=955]   ]\n",
      "3it [00:02,  1.23it/s, tot_impr=1548, last_impr=0, loss=301]   \n",
      "4it [00:02,  1.62it/s, tot_impr=1351, last_impr=0, loss=504] \n",
      "4it [00:02,  1.62it/s, tot_impr=1129, last_impr=0, loss=751]\n",
      "3it [00:02,  1.15it/s, tot_impr=736, last_impr=0, loss=1151] \n",
      "4it [00:02,  1.48it/s, tot_impr=1463, last_impr=0, loss=389]\n",
      "3it [00:02,  1.07it/s, tot_impr=693, last_impr=0, loss=1201] \n",
      "4it [00:02,  1.37it/s, tot_impr=828, last_impr=0, loss=1062] \n",
      "4it [00:03,  1.33it/s, tot_impr=924, last_impr=0, loss=963]] \n",
      "4it [00:03,  1.32it/s, tot_impr=861, last_impr=0, loss=1028]\n",
      "5it [00:03,  1.59it/s, tot_impr=1017, last_impr=0, loss=868]\n",
      "4it [00:03,  1.26it/s, tot_impr=803, last_impr=0, loss=1085]]  \n",
      "5it [00:03,  1.56it/s, tot_impr=981, last_impr=0, loss=899]\n",
      "4it [00:03,  1.16it/s, tot_impr=731, last_impr=0, loss=1156]\n",
      "4it [00:03,  1.07it/s, tot_impr=714, last_impr=0, loss=1176]\n",
      "5it [00:03,  1.56it/s, tot_impr=1200, last_impr=0, loss=667]]  \n",
      "4it [00:04,  1.07s/it, tot_impr=1552, last_impr=0, loss=255] \n",
      "4it [00:07,  1.84s/it, tot_impr=1537, last_impr=0, loss=169] \n"
     ]
    },
    {
     "data": {
      "application/vnd.jupyter.widget-view+json": {
       "model_id": "6a7e30731ee5410bb9f4ae7deda4d78e",
       "version_major": 2,
       "version_minor": 0
      },
      "text/plain": [
       "  0%|          | 0/19 [00:00<?, ?it/s]"
      ]
     },
     "metadata": {},
     "output_type": "display_data"
    },
    {
     "name": "stderr",
     "output_type": "stream",
     "text": [
      "3it [00:01,  1.81it/s, tot_impr=1180, last_impr=0, loss=689] 3]\n",
      "3it [00:01,  1.74it/s, tot_impr=1034, last_impr=0, loss=850]  \n",
      "3it [00:01,  1.53it/s, tot_impr=871, last_impr=0, loss=1018]   \n",
      "4it [00:02,  1.86it/s, tot_impr=1300, last_impr=0, loss=560] \n",
      "4it [00:02,  1.86it/s, tot_impr=1248, last_impr=0, loss=614]\n",
      "4it [00:02,  1.83it/s, tot_impr=1124, last_impr=0, loss=759]\n",
      "3it [00:02,  1.37it/s, tot_impr=763, last_impr=0, loss=1127] \n",
      "4it [00:02,  1.76it/s, tot_impr=1023, last_impr=0, loss=853]\n",
      "4it [00:02,  1.70it/s, tot_impr=1459, last_impr=0, loss=386]\n",
      "3it [00:02,  1.30it/s, tot_impr=764, last_impr=0, loss=1130] \n",
      "4it [00:02,  1.69it/s, tot_impr=961, last_impr=0, loss=917]\n",
      "3it [00:02,  1.26it/s, tot_impr=704, last_impr=0, loss=1190] \n",
      "4it [00:02,  1.63it/s, tot_impr=909, last_impr=0, loss=978]\n",
      "3it [00:02,  1.22it/s, tot_impr=658, last_impr=0, loss=1237] \n",
      "4it [00:02,  1.45it/s, tot_impr=833, last_impr=0, loss=1061] \n",
      "4it [00:02,  1.42it/s, tot_impr=1440, last_impr=0, loss=391]\n",
      "4it [00:02,  1.42it/s, tot_impr=811, last_impr=0, loss=1078]\n",
      "4it [00:03,  1.05it/s, tot_impr=1519, last_impr=0, loss=279]]  \n",
      "4it [00:06,  1.73s/it, tot_impr=1519, last_impr=0, loss=173] \n"
     ]
    },
    {
     "data": {
      "application/vnd.jupyter.widget-view+json": {
       "model_id": "64d984639e1044d3b2be72fd2c244d8c",
       "version_major": 2,
       "version_minor": 0
      },
      "text/plain": [
       "  0%|          | 0/19 [00:00<?, ?it/s]"
      ]
     },
     "metadata": {},
     "output_type": "display_data"
    },
    {
     "name": "stderr",
     "output_type": "stream",
     "text": [
      "3it [00:01,  1.55it/s, tot_impr=1323, last_impr=0, loss=546]   \n",
      "3it [00:02,  1.41it/s, tot_impr=854, last_impr=0, loss=1030] \n",
      "3it [00:02,  1.24it/s, tot_impr=1519, last_impr=0, loss=308]   \n",
      "4it [00:02,  1.50it/s, tot_impr=1456, last_impr=0, loss=398]]\n",
      "4it [00:02,  1.43it/s, tot_impr=909, last_impr=0, loss=977]187]\n",
      "4it [00:02,  1.58it/s, tot_impr=1066, last_impr=0, loss=820] \n",
      "3it [00:02,  1.00it/s, tot_impr=1085, last_impr=0, loss=792]  \n",
      "5it [00:03,  1.66it/s, tot_impr=1163, last_impr=0, loss=710]\n",
      "3it [00:03,  1.03s/it, tot_impr=861, last_impr=0, loss=1027]   \n",
      "5it [00:03,  1.49it/s, tot_impr=937, last_impr=0, loss=950]] \n",
      "3it [00:03,  1.11s/it, tot_impr=793, last_impr=0, loss=1100] \n",
      "4it [00:03,  1.21it/s, tot_impr=1066, last_impr=0, loss=812] \n",
      "4it [00:03,  1.10it/s, tot_impr=710, last_impr=0, loss=1180]\n",
      "5it [00:03,  1.27it/s, tot_impr=1266, last_impr=0, loss=603] \n",
      "4it [00:04,  1.05s/it, tot_impr=788, last_impr=0, loss=1104] \n",
      "4it [00:04,  1.08s/it, tot_impr=735, last_impr=0, loss=1151]\n",
      "4it [00:04,  1.08s/it, tot_impr=687, last_impr=0, loss=1205]]  \n",
      "4it [00:04,  1.23s/it, tot_impr=1558, last_impr=0, loss=245]\n",
      "4it [00:07,  1.76s/it, tot_impr=1599, last_impr=0, loss=118] \n"
     ]
    },
    {
     "data": {
      "application/vnd.jupyter.widget-view+json": {
       "model_id": "76f0f59b7223462bb50c67f012708998",
       "version_major": 2,
       "version_minor": 0
      },
      "text/plain": [
       "  0%|          | 0/19 [00:00<?, ?it/s]"
      ]
     },
     "metadata": {},
     "output_type": "display_data"
    },
    {
     "name": "stderr",
     "output_type": "stream",
     "text": [
      "3it [00:02,  1.17it/s, tot_impr=896, last_impr=0, loss=994]    \n",
      "3it [00:02,  1.35it/s, tot_impr=1353, last_impr=0, loss=502] \n",
      "4it [00:02,  1.56it/s, tot_impr=1231, last_impr=0, loss=642]\n",
      "3it [00:02,  1.26it/s, tot_impr=805, last_impr=0, loss=1086] \n",
      "4it [00:02,  1.41it/s, tot_impr=1444, last_impr=0, loss=412]  \n",
      "4it [00:02,  1.37it/s, tot_impr=1142, last_impr=0, loss=724] \n",
      "3it [00:02,  1.02it/s, tot_impr=1003, last_impr=0, loss=882] \n",
      "3it [00:02,  1.05it/s, tot_impr=1065, last_impr=0, loss=820]   \n",
      "3it [00:02,  1.05it/s, tot_impr=698, last_impr=0, loss=1196] \n",
      "4it [00:03,  1.30it/s, tot_impr=969, last_impr=0, loss=916]\n",
      "4it [00:03,  1.32it/s, tot_impr=857, last_impr=0, loss=1031]\n",
      "4it [00:03,  1.21it/s, tot_impr=760, last_impr=0, loss=1131]\n",
      "4it [00:03,  1.08it/s, tot_impr=1075, last_impr=0, loss=805]]  \n",
      "4it [00:03,  1.16it/s, tot_impr=756, last_impr=0, loss=1135]\n",
      "5it [00:03,  1.26it/s, tot_impr=1456, last_impr=0, loss=375]\n",
      "4it [00:04,  1.09s/it, tot_impr=949, last_impr=0, loss=934]] \n",
      "4it [00:04,  1.20s/it, tot_impr=709, last_impr=0, loss=1182]\n",
      "4it [00:05,  1.36s/it, tot_impr=1510, last_impr=0, loss=295]\n",
      "3it [00:05,  1.83s/it, tot_impr=1527, last_impr=0, loss=191] \n"
     ]
    },
    {
     "data": {
      "application/vnd.jupyter.widget-view+json": {
       "model_id": "aad94892a7cc4d1dae34b73bf1c1ecf5",
       "version_major": 2,
       "version_minor": 0
      },
      "text/plain": [
       "  0%|          | 0/19 [00:00<?, ?it/s]"
      ]
     },
     "metadata": {},
     "output_type": "display_data"
    },
    {
     "name": "stderr",
     "output_type": "stream",
     "text": [
      "3it [00:02,  1.41it/s, tot_impr=890, last_impr=0, loss=995]    \n",
      "3it [00:02,  1.31it/s, tot_impr=826, last_impr=0, loss=1055] \n",
      "4it [00:02,  1.61it/s, tot_impr=1245, last_impr=0, loss=627]] \n",
      "4it [00:02,  1.59it/s, tot_impr=1132, last_impr=0, loss=742] \n",
      "4it [00:02,  1.59it/s, tot_impr=1078, last_impr=0, loss=794]\n",
      "4it [00:02,  1.49it/s, tot_impr=1443, last_impr=0, loss=413] \n",
      "3it [00:02,  1.14it/s, tot_impr=812, last_impr=0, loss=1074] \n",
      "4it [00:02,  1.37it/s, tot_impr=900, last_impr=0, loss=981]]]  \n",
      "5it [00:03,  1.56it/s, tot_impr=1019, last_impr=0, loss=852] \n",
      "5it [00:03,  1.53it/s, tot_impr=1300, last_impr=0, loss=566]] \n",
      "4it [00:03,  1.23it/s, tot_impr=771, last_impr=0, loss=1117]\n",
      "5it [00:03,  1.54it/s, tot_impr=1012, last_impr=0, loss=871]\n",
      "5it [00:02,  1.68it/s, tot_impr=1150, last_impr=0, loss=723]\n",
      "4it [00:03,  1.19it/s, tot_impr=718, last_impr=0, loss=1170]\n",
      "3it [00:03,  1.08s/it, tot_impr=1494, last_impr=0, loss=347] \n",
      "4it [00:03,  1.01it/s, tot_impr=1544, last_impr=0, loss=253]]  \n",
      "3it [00:03,  1.15s/it, tot_impr=716, last_impr=0, loss=1174] \n",
      "4it [00:03,  1.13it/s, tot_impr=679, last_impr=0, loss=1212]\n",
      "4it [00:06,  1.57s/it, tot_impr=1536, last_impr=0, loss=166] \n"
     ]
    }
   ],
   "source": [
    "path = './examples/HumanCyc_2016.npy'\n",
    "thresh = np.arange(10, 200, 10)#np.repeat(50,100)\n",
    "C = 0\n",
    "KL_modified = True\n",
    "random_labels = False\n",
    "unweighted = True\n",
    "\n",
    "repeats = 10\n",
    "out = []\n",
    "for i in range(repeats):\n",
    "    np.random.seed(i)\n",
    "    results = process_map(partial(get_scores,path,C,KL_modified,random_labels,unweighted), thresh)\n",
    "    out.append(results)\n",
    "    #plt.plot(thresh, [x[1] for x in results])"
   ]
  },
  {
   "cell_type": "code",
   "execution_count": 88,
   "id": "813f26c6-9312-4160-880c-1bfcb6d95bb4",
   "metadata": {},
   "outputs": [
    {
     "data": {
      "image/png": "[encoded data removed]",
      "text/plain": [
       "<Figure size 432x288 with 1 Axes>"
      ]
     },
     "metadata": {
      "needs_background": "light"
     },
     "output_type": "display_data"
    }
   ],
   "source": [
    "means = []\n",
    "for i in range(len(out)):\n",
    "    res = out[i]\n",
    "    mean = [np.mean(np.unique(x[0], return_counts = True)[1]) for x in res]\n",
    "    means.append(mean)\n",
    "    plt.plot(mean, [x[1] for x in res])"
   ]
  },
  {
   "cell_type": "code",
   "execution_count": 92,
   "id": "0b4ea1e7-2e04-4c95-875b-774996f8ee67",
   "metadata": {
    "collapsed": true,
    "jupyter": {
     "outputs_hidden": true
    },
    "tags": []
   },
   "outputs": [
    {
     "data": {
      "application/vnd.jupyter.widget-view+json": {
       "model_id": "65973fb87169445895516cdc4216ec10",
       "version_major": 2,
       "version_minor": 0
      },
      "text/plain": [
       "  0%|          | 0/15 [00:00<?, ?it/s]"
      ]
     },
     "metadata": {},
     "output_type": "display_data"
    },
    {
     "name": "stderr",
     "output_type": "stream",
     "text": [
      "3it [00:01,  1.98it/s, tot_impr=1230, last_impr=0, loss=639] 1]\n",
      "3it [00:01,  1.93it/s, tot_impr=1081, last_impr=0, loss=796] \n",
      "3it [00:01,  1.77it/s, tot_impr=884, last_impr=0, loss=997] ]  \n",
      "3it [00:01,  1.68it/s, tot_impr=818, last_impr=0, loss=1066] \n",
      "4it [00:02,  1.95it/s, tot_impr=1171, last_impr=0, loss=705] \n",
      "4it [00:02,  1.86it/s, tot_impr=986, last_impr=0, loss=894]] \n",
      "4it [00:02,  1.77it/s, tot_impr=949, last_impr=0, loss=933]\n",
      "3it [00:02,  1.25it/s, tot_impr=629, last_impr=0, loss=1260] \n",
      "4it [00:02,  1.62it/s, tot_impr=1545, last_impr=0, loss=295] \n",
      "5it [00:02,  1.96it/s, tot_impr=1332, last_impr=0, loss=538]\n",
      "4it [00:02,  1.56it/s, tot_impr=801, last_impr=0, loss=1086]\n",
      "5it [00:02,  1.90it/s, tot_impr=1408, last_impr=0, loss=447]\n",
      "4it [00:02,  1.42it/s, tot_impr=726, last_impr=0, loss=1164]\n",
      "4it [00:03,  1.28it/s, tot_impr=1553, last_impr=0, loss=264]]  \n",
      "4it [00:05,  1.37s/it, tot_impr=1468, last_impr=0, loss=255] \n"
     ]
    },
    {
     "data": {
      "application/vnd.jupyter.widget-view+json": {
       "model_id": "258545da663e4a2680a5bab4eba143c7",
       "version_major": 2,
       "version_minor": 0
      },
      "text/plain": [
       "  0%|          | 0/15 [00:00<?, ?it/s]"
      ]
     },
     "metadata": {},
     "output_type": "display_data"
    },
    {
     "name": "stderr",
     "output_type": "stream",
     "text": [
      "3it [00:01,  1.89it/s, tot_impr=1404, last_impr=0, loss=451]  ]\n",
      "3it [00:01,  1.92it/s, tot_impr=1163, last_impr=0, loss=709]   \n",
      "3it [00:01,  1.83it/s, tot_impr=1091, last_impr=0, loss=785] \n",
      "3it [00:01,  1.74it/s, tot_impr=903, last_impr=0, loss=979]   \n",
      "3it [00:01,  1.56it/s, tot_impr=780, last_impr=0, loss=1104] \n",
      "4it [00:02,  1.93it/s, tot_impr=1298, last_impr=0, loss=572]\n",
      "4it [00:02,  1.80it/s, tot_impr=955, last_impr=0, loss=925]] \n",
      "4it [00:02,  1.74it/s, tot_impr=978, last_impr=0, loss=906]\n",
      "4it [00:02,  1.69it/s, tot_impr=802, last_impr=0, loss=1080]\n",
      "3it [00:02,  1.24it/s, tot_impr=632, last_impr=0, loss=1257] \n",
      "5it [00:02,  1.98it/s, tot_impr=1230, last_impr=0, loss=646]\n",
      "4it [00:02,  1.57it/s, tot_impr=1532, last_impr=0, loss=307] \n",
      "4it [00:02,  1.42it/s, tot_impr=713, last_impr=0, loss=1177]\n",
      "4it [00:03,  1.28it/s, tot_impr=1568, last_impr=0, loss=257]]  \n",
      "3it [00:04,  1.39s/it, tot_impr=1551, last_impr=0, loss=165] \n"
     ]
    },
    {
     "data": {
      "application/vnd.jupyter.widget-view+json": {
       "model_id": "5e6cd17479ec4d86931a7d59e4ab0388",
       "version_major": 2,
       "version_minor": 0
      },
      "text/plain": [
       "  0%|          | 0/15 [00:00<?, ?it/s]"
      ]
     },
     "metadata": {},
     "output_type": "display_data"
    },
    {
     "name": "stderr",
     "output_type": "stream",
     "text": [
      "3it [00:01,  1.93it/s, tot_impr=1078, last_impr=0, loss=798] 7]\n",
      "3it [00:01,  1.84it/s, tot_impr=956, last_impr=0, loss=924]    \n",
      "3it [00:01,  1.80it/s, tot_impr=932, last_impr=0, loss=950] \n",
      "3it [00:01,  1.78it/s, tot_impr=916, last_impr=0, loss=966] \n",
      "3it [00:01,  1.56it/s, tot_impr=783, last_impr=0, loss=1105]  \n",
      "4it [00:02,  1.99it/s, tot_impr=1234, last_impr=0, loss=644]\n",
      "4it [00:02,  1.97it/s, tot_impr=1323, last_impr=0, loss=541]\n",
      "4it [00:02,  1.95it/s, tot_impr=1161, last_impr=0, loss=715] \n",
      "4it [00:02,  1.93it/s, tot_impr=1352, last_impr=0, loss=501]\n",
      "3it [00:02,  1.42it/s, tot_impr=712, last_impr=0, loss=1178] \n",
      "4it [00:02,  1.69it/s, tot_impr=840, last_impr=0, loss=1044] \n",
      "3it [00:02,  1.25it/s, tot_impr=632, last_impr=0, loss=1256]\n",
      "4it [00:02,  1.61it/s, tot_impr=1546, last_impr=0, loss=297] \n",
      "4it [00:03,  1.29it/s, tot_impr=1518, last_impr=0, loss=291]]  \n",
      "3it [00:04,  1.38s/it, tot_impr=1506, last_impr=0, loss=199] \n"
     ]
    },
    {
     "data": {
      "application/vnd.jupyter.widget-view+json": {
       "model_id": "3616d7fdc95e4b09b79c0a160e2dc168",
       "version_major": 2,
       "version_minor": 0
      },
      "text/plain": [
       "  0%|          | 0/15 [00:00<?, ?it/s]"
      ]
     },
     "metadata": {},
     "output_type": "display_data"
    },
    {
     "name": "stderr",
     "output_type": "stream",
     "text": [
      "3it [00:01,  1.98it/s, tot_impr=1355, last_impr=0, loss=508] 0]\n",
      "3it [00:01,  1.88it/s, tot_impr=1133, last_impr=0, loss=736] \n",
      "3it [00:01,  1.84it/s, tot_impr=986, last_impr=0, loss=894] ]  \n",
      "3it [00:01,  1.78it/s, tot_impr=941, last_impr=0, loss=939] \n",
      "3it [00:01,  1.73it/s, tot_impr=906, last_impr=0, loss=974]] \n",
      "4it [00:02,  1.90it/s, tot_impr=1406, last_impr=0, loss=444] \n",
      "4it [00:02,  1.93it/s, tot_impr=1095, last_impr=0, loss=776]\n",
      "4it [00:02,  1.69it/s, tot_impr=833, last_impr=0, loss=1054] \n",
      "5it [00:02,  1.98it/s, tot_impr=1208, last_impr=0, loss=662] \n",
      "4it [00:02,  1.53it/s, tot_impr=1465, last_impr=0, loss=369]\n",
      "4it [00:02,  1.56it/s, tot_impr=772, last_impr=0, loss=1113]\n",
      "4it [00:02,  1.42it/s, tot_impr=713, last_impr=0, loss=1177]\n",
      "4it [00:03,  1.28it/s, tot_impr=1519, last_impr=0, loss=275]2] \n",
      "4it [00:03,  1.25it/s, tot_impr=627, last_impr=0, loss=1264]\n",
      "4it [00:05,  1.37s/it, tot_impr=1535, last_impr=0, loss=146]  \n"
     ]
    },
    {
     "data": {
      "application/vnd.jupyter.widget-view+json": {
       "model_id": "422fff832b994bcfb2aef251d68a822f",
       "version_major": 2,
       "version_minor": 0
      },
      "text/plain": [
       "  0%|          | 0/15 [00:00<?, ?it/s]"
      ]
     },
     "metadata": {},
     "output_type": "display_data"
    },
    {
     "name": "stderr",
     "output_type": "stream",
     "text": [
      "3it [00:01,  1.76it/s, tot_impr=894, last_impr=0, loss=986]    \n",
      "3it [00:01,  1.68it/s, tot_impr=844, last_impr=0, loss=1041] \n",
      "4it [00:02,  2.00it/s, tot_impr=1224, last_impr=0, loss=648] \n",
      "4it [00:02,  1.97it/s, tot_impr=1301, last_impr=0, loss=561]\n",
      "4it [00:02,  1.93it/s, tot_impr=1079, last_impr=0, loss=802]\n",
      "4it [00:02,  1.93it/s, tot_impr=1117, last_impr=0, loss=758]\n",
      "4it [00:02,  1.85it/s, tot_impr=991, last_impr=0, loss=886]] \n",
      "4it [00:02,  1.78it/s, tot_impr=952, last_impr=0, loss=928]\n",
      "3it [00:02,  1.25it/s, tot_impr=1502, last_impr=0, loss=304] \n",
      "3it [00:02,  1.25it/s, tot_impr=623, last_impr=0, loss=1268]\n",
      "4it [00:02,  1.58it/s, tot_impr=1415, last_impr=0, loss=424]\n",
      "4it [00:02,  1.54it/s, tot_impr=796, last_impr=0, loss=1093]\n",
      "5it [00:02,  1.93it/s, tot_impr=1407, last_impr=0, loss=445]\n",
      "4it [00:02,  1.41it/s, tot_impr=712, last_impr=0, loss=1179]\n",
      "5it [00:06,  1.40s/it, tot_impr=1526, last_impr=0, loss=185]   \n"
     ]
    },
    {
     "data": {
      "application/vnd.jupyter.widget-view+json": {
       "model_id": "1d5ad9a1bbe54132b003edf8f1fd0445",
       "version_major": 2,
       "version_minor": 0
      },
      "text/plain": [
       "  0%|          | 0/15 [00:00<?, ?it/s]"
      ]
     },
     "metadata": {},
     "output_type": "display_data"
    },
    {
     "name": "stderr",
     "output_type": "stream",
     "text": [
      "3it [00:01,  1.96it/s, tot_impr=1178, last_impr=0, loss=698] 5]\n",
      "3it [00:01,  1.68it/s, tot_impr=846, last_impr=0, loss=1042]   \n",
      "4it [00:02,  1.97it/s, tot_impr=1319, last_impr=0, loss=552] \n",
      "4it [00:02,  1.92it/s, tot_impr=1387, last_impr=0, loss=470]\n",
      "4it [00:02,  1.92it/s, tot_impr=1091, last_impr=0, loss=792]\n",
      "3it [00:02,  1.40it/s, tot_impr=714, last_impr=0, loss=1180]\n",
      "4it [00:02,  1.85it/s, tot_impr=1012, last_impr=0, loss=875]\n",
      "4it [00:02,  1.79it/s, tot_impr=975, last_impr=0, loss=913]\n",
      "4it [00:02,  1.76it/s, tot_impr=907, last_impr=0, loss=979]\n",
      "3it [00:02,  1.29it/s, tot_impr=1529, last_impr=0, loss=287] \n",
      "3it [00:02,  1.24it/s, tot_impr=633, last_impr=0, loss=1264]\n",
      "5it [00:02,  2.01it/s, tot_impr=1247, last_impr=0, loss=627]\n",
      "4it [00:02,  1.56it/s, tot_impr=768, last_impr=0, loss=1124]\n",
      "4it [00:02,  1.57it/s, tot_impr=1485, last_impr=0, loss=361]\n",
      "4it [00:05,  1.37s/it, tot_impr=1541, last_impr=0, loss=182]   \n"
     ]
    },
    {
     "data": {
      "application/vnd.jupyter.widget-view+json": {
       "model_id": "94f5f72c2b674c77b8e57358beea0682",
       "version_major": 2,
       "version_minor": 0
      },
      "text/plain": [
       "  0%|          | 0/15 [00:00<?, ?it/s]"
      ]
     },
     "metadata": {},
     "output_type": "display_data"
    },
    {
     "name": "stderr",
     "output_type": "stream",
     "text": [
      "3it [00:01,  1.93it/s, tot_impr=1070, last_impr=0, loss=812] 9]\n",
      "3it [00:01,  1.90it/s, tot_impr=1400, last_impr=0, loss=464] \n",
      "3it [00:01,  1.79it/s, tot_impr=953, last_impr=0, loss=933]    \n",
      "3it [00:01,  1.68it/s, tot_impr=832, last_impr=0, loss=1057] \n",
      "3it [00:01,  1.55it/s, tot_impr=782, last_impr=0, loss=1111] \n",
      "4it [00:02,  1.96it/s, tot_impr=1177, last_impr=0, loss=701]\n",
      "4it [00:02,  1.97it/s, tot_impr=1344, last_impr=0, loss=523]\n",
      "3it [00:02,  1.40it/s, tot_impr=719, last_impr=0, loss=1176] \n",
      "4it [00:02,  1.86it/s, tot_impr=1008, last_impr=0, loss=870]\n",
      "4it [00:02,  1.77it/s, tot_impr=918, last_impr=0, loss=972]\n",
      "3it [00:02,  1.25it/s, tot_impr=632, last_impr=0, loss=1263] \n",
      "4it [00:02,  1.60it/s, tot_impr=1481, last_impr=0, loss=365]\n",
      "5it [00:02,  2.00it/s, tot_impr=1241, last_impr=0, loss=635]\n",
      "4it [00:03,  1.30it/s, tot_impr=1520, last_impr=0, loss=296]]  \n",
      "3it [00:04,  1.38s/it, tot_impr=1550, last_impr=0, loss=163] \n"
     ]
    },
    {
     "data": {
      "application/vnd.jupyter.widget-view+json": {
       "model_id": "324ca40607b3457aa4f9329099b6a9b3",
       "version_major": 2,
       "version_minor": 0
      },
      "text/plain": [
       "  0%|          | 0/15 [00:00<?, ?it/s]"
      ]
     },
     "metadata": {},
     "output_type": "display_data"
    },
    {
     "name": "stderr",
     "output_type": "stream",
     "text": [
      "3it [00:01,  1.92it/s, tot_impr=1081, last_impr=0, loss=796] 3]\n",
      "3it [00:01,  1.86it/s, tot_impr=984, last_impr=0, loss=892] ]  \n",
      "3it [00:01,  1.79it/s, tot_impr=939, last_impr=0, loss=948] \n",
      "3it [00:01,  1.53it/s, tot_impr=1445, last_impr=0, loss=389] \n",
      "4it [00:02,  1.98it/s, tot_impr=1232, last_impr=0, loss=643]\n",
      "4it [00:02,  1.98it/s, tot_impr=1288, last_impr=0, loss=568] \n",
      "4it [00:02,  1.96it/s, tot_impr=1156, last_impr=0, loss=712]\n",
      "4it [00:02,  1.91it/s, tot_impr=1417, last_impr=0, loss=440]\n",
      "3it [00:02,  1.41it/s, tot_impr=699, last_impr=0, loss=1196] \n",
      "4it [00:02,  1.77it/s, tot_impr=900, last_impr=0, loss=985]\n",
      "4it [00:02,  1.68it/s, tot_impr=844, last_impr=0, loss=1043]\n",
      "3it [00:02,  1.24it/s, tot_impr=630, last_impr=0, loss=1263] \n",
      "4it [00:02,  1.58it/s, tot_impr=798, last_impr=0, loss=1090]\n",
      "4it [00:03,  1.29it/s, tot_impr=1513, last_impr=0, loss=298]]  \n",
      "4it [00:05,  1.39s/it, tot_impr=1569, last_impr=0, loss=153] \n"
     ]
    },
    {
     "data": {
      "application/vnd.jupyter.widget-view+json": {
       "model_id": "8c894ad1e59848e1ad46ccad1760b89a",
       "version_major": 2,
       "version_minor": 0
      },
      "text/plain": [
       "  0%|          | 0/15 [00:00<?, ?it/s]"
      ]
     },
     "metadata": {},
     "output_type": "display_data"
    },
    {
     "name": "stderr",
     "output_type": "stream",
     "text": [
      "3it [00:01,  1.88it/s, tot_impr=1167, last_impr=0, loss=696]  ]\n",
      "3it [00:01,  1.70it/s, tot_impr=888, last_impr=0, loss=996] ]  \n",
      "3it [00:01,  1.55it/s, tot_impr=823, last_impr=0, loss=1061] \n",
      "4it [00:02,  1.93it/s, tot_impr=1131, last_impr=0, loss=741] \n",
      "4it [00:02,  1.98it/s, tot_impr=1323, last_impr=0, loss=536]\n",
      "3it [00:02,  1.41it/s, tot_impr=706, last_impr=0, loss=1181]\n",
      "4it [00:02,  1.91it/s, tot_impr=1085, last_impr=0, loss=788]\n",
      "4it [00:02,  1.84it/s, tot_impr=1417, last_impr=0, loss=439]\n",
      "4it [00:02,  1.73it/s, tot_impr=939, last_impr=0, loss=942]\n",
      "3it [00:02,  1.24it/s, tot_impr=612, last_impr=0, loss=1282]\n",
      "4it [00:02,  1.55it/s, tot_impr=1493, last_impr=0, loss=343] \n",
      "5it [00:02,  1.86it/s, tot_impr=992, last_impr=0, loss=884]]\n",
      "4it [00:03,  1.23it/s, tot_impr=1572, last_impr=0, loss=241]]  \n",
      "5it [00:03,  1.56it/s, tot_impr=792, last_impr=0, loss=1095]\n",
      "4it [00:05,  1.39s/it, tot_impr=1534, last_impr=0, loss=166] \n"
     ]
    },
    {
     "data": {
      "application/vnd.jupyter.widget-view+json": {
       "model_id": "27f7ed5483c943b5a073bcffa71b92c3",
       "version_major": 2,
       "version_minor": 0
      },
      "text/plain": [
       "  0%|          | 0/15 [00:00<?, ?it/s]"
      ]
     },
     "metadata": {},
     "output_type": "display_data"
    },
    {
     "name": "stderr",
     "output_type": "stream",
     "text": [
      "3it [00:01,  1.94it/s, tot_impr=1085, last_impr=0, loss=783] 5]\n",
      "3it [00:01,  1.57it/s, tot_impr=1521, last_impr=0, loss=311]   \n",
      "4it [00:01,  2.00it/s, tot_impr=1222, last_impr=0, loss=642] \n",
      "4it [00:02,  1.97it/s, tot_impr=1312, last_impr=0, loss=549]\n",
      "4it [00:02,  1.95it/s, tot_impr=1169, last_impr=0, loss=701]\n",
      "4it [00:02,  1.92it/s, tot_impr=1386, last_impr=0, loss=460]\n",
      "3it [00:02,  1.42it/s, tot_impr=722, last_impr=0, loss=1166] \n",
      "4it [00:02,  1.85it/s, tot_impr=980, last_impr=0, loss=895]\n",
      "4it [00:02,  1.80it/s, tot_impr=938, last_impr=0, loss=943]\n",
      "4it [00:02,  1.79it/s, tot_impr=905, last_impr=0, loss=977]\n",
      "4it [00:02,  1.69it/s, tot_impr=849, last_impr=0, loss=1033]\n",
      "3it [00:02,  1.23it/s, tot_impr=629, last_impr=0, loss=1260] \n",
      "4it [00:02,  1.57it/s, tot_impr=781, last_impr=0, loss=1107]\n",
      "4it [00:03,  1.28it/s, tot_impr=1543, last_impr=0, loss=258]]  \n",
      "4it [00:05,  1.37s/it, tot_impr=1564, last_impr=0, loss=137] \n"
     ]
    }
   ],
   "source": [
    "path = './examples/HumanCyc_2016.npy'\n",
    "thresh = np.unique(np.round(means[0]))\n",
    "C = 0\n",
    "KL_modified = True\n",
    "random_labels = True\n",
    "unweighted = True\n",
    "\n",
    "repeats = 10\n",
    "out = []\n",
    "for i in range(repeats):\n",
    "    np.random.seed(i)\n",
    "    results = process_map(partial(get_scores,path,C,KL_modified,random_labels,unweighted), thresh)\n",
    "    out.append(results)\n",
    "    #plt.plot(thresh, [x[1] for x in results])"
   ]
  },
  {
   "cell_type": "code",
   "execution_count": 93,
   "id": "39caaf0c-b620-487b-9a72-91c720b2dd2c",
   "metadata": {},
   "outputs": [
    {
     "data": {
      "image/png": "[encoded data removed]",
      "text/plain": [
       "<Figure size 432x288 with 1 Axes>"
      ]
     },
     "metadata": {
      "needs_background": "light"
     },
     "output_type": "display_data"
    }
   ],
   "source": [
    "means = []\n",
    "for i in range(len(out)):\n",
    "    res = out[i]\n",
    "    mean = [np.mean(np.unique(x[0], return_counts = True)[1]) for x in res]\n",
    "    means.append(mean)\n",
    "    plt.plot(mean, [x[1] for x in res])"
   ]
  },
  {
   "cell_type": "code",
   "execution_count": 79,
   "id": "1c38a73a-56d4-4533-9581-614d59dfb616",
   "metadata": {},
   "outputs": [
    {
     "data": {
      "text/plain": [
       "(array([3, 0, 5, ..., 7, 6, 8]), 166)"
      ]
     },
     "execution_count": 79,
     "metadata": {},
     "output_type": "execute_result"
    }
   ],
   "source": [
    "res"
   ]
  },
  {
   "cell_type": "code",
   "execution_count": 61,
   "id": "50c2f0a3-a5b9-448f-878a-689da65d6579",
   "metadata": {},
   "outputs": [
    {
     "data": {
      "text/plain": [
       "108.6"
      ]
     },
     "execution_count": 61,
     "metadata": {},
     "output_type": "execute_result"
    }
   ],
   "source": []
  },
  {
   "cell_type": "code",
   "execution_count": 47,
   "id": "02317158-5937-4e21-ae37-fe864ac79037",
   "metadata": {},
   "outputs": [
    {
     "data": {
      "text/plain": [
       "[<matplotlib.lines.Line2D at 0x7f47e1f6d430>]"
      ]
     },
     "execution_count": 47,
     "metadata": {},
     "output_type": "execute_result"
    },
    {
     "data": {
      "image/png": "[encoded data removed]",
      "text/plain": [
       "<Figure size 432x288 with 1 Axes>"
      ]
     },
     "metadata": {
      "needs_background": "light"
     },
     "output_type": "display_data"
    }
   ],
   "source": [
    "import matplotlib.pyplot as plt\n",
    "plt.plot(thresh, [x[1] for x in results])"
   ]
  },
  {
   "cell_type": "code",
   "execution_count": 40,
   "id": "6834104d-94c7-4a8a-9cb4-93977421c32f",
   "metadata": {},
   "outputs": [
    {
     "data": {
      "text/plain": [
       "[(array([15, 21,  4, ...,  6,  7, 12]), 273),\n",
       " (array([15, 21,  4, ...,  6,  7, 12]), 273),\n",
       " (array([15, 21,  4, ...,  6,  7, 12]), 273),\n",
       " (array([15, 21,  4, ...,  6,  7, 12]), 273),\n",
       " (array([15, 21,  4, ...,  6,  7, 12]), 273),\n",
       " (array([15, 21,  4, ...,  6,  7, 12]), 273),\n",
       " (array([15, 21,  4, ...,  6,  7, 12]), 273),\n",
       " (array([15, 21,  4, ...,  6,  7, 12]), 273),\n",
       " (array([15, 21,  4, ...,  6,  7, 12]), 273),\n",
       " (array([15, 21,  4, ...,  6,  7, 12]), 273),\n",
       " (array([15, 21,  4, ...,  6,  7, 12]), 273),\n",
       " (array([15, 21,  4, ...,  6,  7, 12]), 273),\n",
       " (array([15, 21,  4, ...,  6,  7, 12]), 273),\n",
       " (array([15, 21,  4, ...,  6,  7, 12]), 273),\n",
       " (array([15, 21,  4, ...,  6,  7, 12]), 273),\n",
       " (array([15, 21,  4, ...,  6,  7, 12]), 273),\n",
       " (array([15, 21,  4, ...,  6,  7, 12]), 273),\n",
       " (array([15, 21,  4, ...,  6,  7, 12]), 273),\n",
       " (array([15, 21,  4, ...,  6,  7, 12]), 273),\n",
       " (array([15, 21,  4, ...,  6,  7, 12]), 273),\n",
       " (array([15, 21,  4, ...,  6,  7, 12]), 273),\n",
       " (array([15, 21,  4, ...,  6,  7, 12]), 273),\n",
       " (array([15, 21,  4, ...,  6,  7, 12]), 273),\n",
       " (array([15, 21,  4, ...,  6,  7, 12]), 273),\n",
       " (array([15, 21,  4, ...,  6,  7, 12]), 273),\n",
       " (array([15, 21,  4, ...,  6,  7, 12]), 273),\n",
       " (array([15, 21,  4, ...,  6,  7, 12]), 273),\n",
       " (array([15, 21,  4, ...,  6,  7, 12]), 273),\n",
       " (array([15, 21,  4, ...,  6,  7, 12]), 273),\n",
       " (array([15, 21,  4, ...,  6,  7, 12]), 273),\n",
       " (array([15, 21,  4, ...,  6,  7, 12]), 273),\n",
       " (array([15, 21,  4, ...,  6,  7, 12]), 273),\n",
       " (array([ 9, 19,  8, ..., 16, 12, 12]), 309),\n",
       " (array([ 9, 19,  8, ..., 16, 12, 12]), 309),\n",
       " (array([ 9, 19,  8, ..., 16, 12, 12]), 309),\n",
       " (array([ 9, 19,  8, ..., 16, 12, 12]), 309),\n",
       " (array([ 9, 19,  8, ..., 16, 12, 12]), 309),\n",
       " (array([ 9, 19,  8, ..., 16, 12, 12]), 309),\n",
       " (array([ 9, 19,  8, ..., 16, 12, 12]), 309),\n",
       " (array([ 9, 19,  8, ..., 16, 12, 12]), 309),\n",
       " (array([ 9, 19,  8, ..., 16, 12, 12]), 309),\n",
       " (array([ 9, 19,  8, ..., 16, 12, 12]), 309),\n",
       " (array([ 9, 19,  8, ..., 16, 12, 12]), 309),\n",
       " (array([ 9, 19,  8, ..., 16, 12, 12]), 309),\n",
       " (array([ 9, 19,  8, ..., 16, 12, 12]), 309),\n",
       " (array([ 9, 19,  8, ..., 16, 12, 12]), 309),\n",
       " (array([ 9, 19,  8, ..., 16, 12, 12]), 309),\n",
       " (array([ 9, 19,  8, ..., 16, 12, 12]), 309),\n",
       " (array([ 9, 19,  8, ..., 16, 12, 12]), 309),\n",
       " (array([ 9, 19,  8, ..., 16, 12, 12]), 309),\n",
       " (array([ 9, 19,  8, ..., 16, 12, 12]), 309),\n",
       " (array([ 9, 19,  8, ..., 16, 12, 12]), 309),\n",
       " (array([ 9, 19,  8, ..., 16, 12, 12]), 309),\n",
       " (array([ 9, 19,  8, ..., 16, 12, 12]), 309),\n",
       " (array([ 9, 19,  8, ..., 16, 12, 12]), 309),\n",
       " (array([ 9, 19,  8, ..., 16, 12, 12]), 309),\n",
       " (array([ 9, 19,  8, ..., 16, 12, 12]), 309),\n",
       " (array([ 9, 19,  8, ..., 16, 12, 12]), 309),\n",
       " (array([ 9, 19,  8, ..., 16, 12, 12]), 309),\n",
       " (array([ 9, 19,  8, ..., 16, 12, 12]), 309),\n",
       " (array([ 9, 19,  8, ..., 16, 12, 12]), 309),\n",
       " (array([ 9, 19,  8, ..., 16, 12, 12]), 309),\n",
       " (array([ 9, 19,  8, ..., 16, 12, 12]), 309),\n",
       " (array([ 9, 19,  8, ..., 16, 12, 12]), 309),\n",
       " (array([10, 13,  0, ..., 20,  5, 21]), 364),\n",
       " (array([10, 13,  0, ..., 20,  5, 21]), 364),\n",
       " (array([10, 13,  0, ..., 20,  5, 21]), 364),\n",
       " (array([10, 13,  0, ..., 20,  5, 21]), 364),\n",
       " (array([10, 13,  0, ..., 20,  5, 21]), 364),\n",
       " (array([10, 13,  0, ..., 20,  5, 21]), 364),\n",
       " (array([10, 13,  0, ..., 20,  5, 21]), 364),\n",
       " (array([10, 13,  0, ..., 20,  5, 21]), 364),\n",
       " (array([10, 13,  0, ..., 20,  5, 21]), 364),\n",
       " (array([10, 13,  0, ..., 20,  5, 21]), 364),\n",
       " (array([10, 13,  0, ..., 20,  5, 21]), 364),\n",
       " (array([10, 13,  0, ..., 20,  5, 21]), 364),\n",
       " (array([10, 13,  0, ..., 20,  5, 21]), 364),\n",
       " (array([10, 13,  0, ..., 20,  5, 21]), 364),\n",
       " (array([10, 13,  0, ..., 20,  5, 21]), 364),\n",
       " (array([10, 13,  0, ..., 20,  5, 21]), 364),\n",
       " (array([10, 13,  0, ..., 20,  5, 21]), 364),\n",
       " (array([10, 13,  0, ..., 20,  5, 21]), 364),\n",
       " (array([10, 13,  0, ..., 20,  5, 21]), 364),\n",
       " (array([10, 13,  0, ..., 20,  5, 21]), 364),\n",
       " (array([10, 13,  0, ..., 20,  5, 21]), 364),\n",
       " (array([10, 13,  0, ..., 20,  5, 21]), 364),\n",
       " (array([10, 13,  0, ..., 20,  5, 21]), 364),\n",
       " (array([10, 13,  0, ..., 20,  5, 21]), 364),\n",
       " (array([10, 13,  0, ..., 20,  5, 21]), 364),\n",
       " (array([10, 13,  0, ..., 20,  5, 21]), 364),\n",
       " (array([10, 13,  0, ..., 20,  5, 21]), 364),\n",
       " (array([10, 13,  0, ..., 20,  5, 21]), 364),\n",
       " (array([10, 13,  0, ..., 20,  5, 21]), 364),\n",
       " (array([10, 13,  0, ..., 20,  5, 21]), 364),\n",
       " (array([10, 13,  0, ..., 20,  5, 21]), 364),\n",
       " (array([10, 13,  0, ..., 20,  5, 21]), 364),\n",
       " (array([16,  4,  9, ..., 20, 20, 20]), 267),\n",
       " (array([16,  4,  9, ..., 20, 20, 20]), 267),\n",
       " (array([16,  4,  9, ..., 20, 20, 20]), 267),\n",
       " (array([16,  4,  9, ..., 20, 20, 20]), 267)]"
      ]
     },
     "execution_count": 40,
     "metadata": {},
     "output_type": "execute_result"
    }
   ],
   "source": [
    "results"
   ]
  },
  {
   "cell_type": "code",
   "execution_count": null,
   "id": "d9b94929-c4f9-4ab2-bda0-7618cc3fce74",
   "metadata": {},
   "outputs": [
    {
     "data": {
      "application/vnd.jupyter.widget-view+json": {
       "model_id": "3ead1fafb7154c0ca6443930bd1f7561",
       "version_major": 2,
       "version_minor": 0
      },
      "text/plain": [
       "  0%|          | 0/2 [00:00<?, ?it/s]"
      ]
     },
     "metadata": {},
     "output_type": "display_data"
    }
   ],
   "source": [
    "process_map(partial(get_scores,path,C=0,KL_modified=True,random_labels=True,unweighted=True),(np.array([2,3])))"
   ]
  },
  {
   "cell_type": "code",
   "execution_count": 37,
   "id": "bbe27239-9508-4c94-bf44-132be6beaedd",
   "metadata": {},
   "outputs": [
    {
     "name": "stderr",
     "output_type": "stream",
     "text": [
      "2it [00:05,  2.65s/it, tot_impr=151, last_impr=0, loss=1748]  \n"
     ]
    },
    {
     "data": {
      "text/plain": [
       "(array([483, 274,   3, ..., 315, 105,  84]), 1748)"
      ]
     },
     "execution_count": 37,
     "metadata": {},
     "output_type": "execute_result"
    }
   ],
   "source": [
    "\n",
    "partial(get_scores,path,C,KL_modified,random_labels,unweighted)(2)"
   ]
  },
  {
   "cell_type": "code",
   "execution_count": 3,
   "id": "545c6a75-2dcc-4835-8b4f-8e8efe375f2d",
   "metadata": {},
   "outputs": [
    {
     "data": {
      "text/plain": [
       "265"
      ]
     },
     "execution_count": 3,
     "metadata": {},
     "output_type": "execute_result"
    }
   ],
   "source": [
    "thresholds = np.array([25, 50, 100, 200, 500, 1000])\n",
    "results = process_map(partial(score_for_thres, matrix), thresholds)"
   ]
  },
  {
   "cell_type": "code",
   "execution_count": 89,
   "id": "b1be1fc7-daa8-44b8-ba3f-0a661f8e91c9",
   "metadata": {
    "collapsed": true,
    "jupyter": {
     "outputs_hidden": true
    },
    "tags": []
   },
   "outputs": [
    {
     "name": "stderr",
     "output_type": "stream",
     "text": [
      "4it [00:03,  1.23it/s, tot_impr=1508, last_impr=0, loss=310]   \n",
      "4it [00:03,  1.06it/s, tot_impr=1547, last_impr=0, loss=273]   \n",
      "3it [00:02,  1.33it/s, tot_impr=1533, last_impr=0, loss=287]   \n",
      "1it [00:01,  1.01s/it, tot_impr=1469, last_impr=1469, loss=342]\n"
     ]
    },
    {
     "ename": "KeyboardInterrupt",
     "evalue": "",
     "output_type": "error",
     "traceback": [
      "\u001b[0;31m---------------------------------------------------------------------------\u001b[0m",
      "\u001b[0;31mKeyboardInterrupt\u001b[0m                         Traceback (most recent call last)",
      "Input \u001b[0;32mIn [89]\u001b[0m, in \u001b[0;36m<cell line: 6>\u001b[0;34m()\u001b[0m\n\u001b[1;32m      5\u001b[0m loss \u001b[38;5;241m=\u001b[39m np\u001b[38;5;241m.\u001b[39mempty(shape \u001b[38;5;241m=\u001b[39m (N,\u001b[38;5;241m1\u001b[39m))\n\u001b[1;32m      6\u001b[0m \u001b[38;5;28;01mfor\u001b[39;00m i \u001b[38;5;129;01min\u001b[39;00m \u001b[38;5;28mrange\u001b[39m(N):\n\u001b[0;32m----> 7\u001b[0m     out[i] \u001b[38;5;241m=\u001b[39m np\u001b[38;5;241m.\u001b[39marray(\u001b[43mget_kernighan_lin_clusters\u001b[49m\u001b[43m(\u001b[49m\u001b[38;5;124;43m'\u001b[39;49m\u001b[38;5;124;43m./examples/HumanCyc_2016.npy\u001b[39;49m\u001b[38;5;124;43m'\u001b[39;49m\u001b[43m,\u001b[49m\u001b[43m \u001b[49m\u001b[38;5;241;43m50\u001b[39;49m\u001b[43m,\u001b[49m\u001b[43m \u001b[49m\u001b[43mc\u001b[49m\u001b[43m,\u001b[49m\u001b[43m \u001b[49m\u001b[43mKL_modified\u001b[49m\u001b[38;5;241;43m=\u001b[39;49m\u001b[38;5;28;43;01mTrue\u001b[39;49;00m\u001b[43m,\u001b[49m\u001b[43m \u001b[49m\u001b[43mrandom_labels\u001b[49m\u001b[38;5;241;43m=\u001b[39;49m\u001b[38;5;28;43;01mTrue\u001b[39;49;00m\u001b[43m,\u001b[49m\u001b[43m \u001b[49m\u001b[43munweighted\u001b[49m\u001b[38;5;241;43m=\u001b[39;49m\u001b[38;5;28;43;01mTrue\u001b[39;49;00m\u001b[43m)\u001b[49m[\u001b[38;5;241m0\u001b[39m])\n\u001b[1;32m      8\u001b[0m     loss[i] \u001b[38;5;241m=\u001b[39m evaluate_cut(matrix, out[i], c)\n",
      "File \u001b[0;32m~/homer/github/geneclusters/geneclusters/cluster_genes_new.py:415\u001b[0m, in \u001b[0;36mget_kernighan_lin_clusters\u001b[0;34m(path, threshold, C, KL_modified, random_labels, unweighted)\u001b[0m\n\u001b[1;32m    413\u001b[0m \u001b[38;5;28;01melse\u001b[39;00m:\n\u001b[1;32m    414\u001b[0m     labeling \u001b[38;5;241m=\u001b[39m create_nonrandom_labeling(matrix, threshold, unweighted, C)\n\u001b[0;32m--> 415\u001b[0m \u001b[43mrun_KL\u001b[49m\u001b[43m(\u001b[49m\u001b[43mlabeling\u001b[49m\u001b[43m,\u001b[49m\u001b[43m \u001b[49m\u001b[43mmatrix\u001b[49m\u001b[43m,\u001b[49m\u001b[43m \u001b[49m\u001b[38;5;241;43m0\u001b[39;49m\u001b[43m,\u001b[49m\u001b[43m \u001b[49m\u001b[43mKL_modified\u001b[49m\u001b[43m)\u001b[49m\n\u001b[1;32m    416\u001b[0m frame \u001b[38;5;241m=\u001b[39m pd\u001b[38;5;241m.\u001b[39mDataFrame(labeling)\n\u001b[1;32m    417\u001b[0m frame[\u001b[38;5;124m'\u001b[39m\u001b[38;5;124mdescription\u001b[39m\u001b[38;5;124m'\u001b[39m] \u001b[38;5;241m=\u001b[39m np\u001b[38;5;241m.\u001b[39mconcatenate([gene_names, pathway_names])\n",
      "File \u001b[0;32m~/homer/github/geneclusters/geneclusters/cluster_genes_new.py:386\u001b[0m, in \u001b[0;36mrun_KL\u001b[0;34m(labeling, matrix, c, KL_modified)\u001b[0m\n\u001b[1;32m    384\u001b[0m \u001b[38;5;28;01mwith\u001b[39;00m tqdm() \u001b[38;5;28;01mas\u001b[39;00m p:\n\u001b[1;32m    385\u001b[0m     \u001b[38;5;28;01mwhile\u001b[39;00m \u001b[38;5;28;01mTrue\u001b[39;00m:\n\u001b[0;32m--> 386\u001b[0m         impr \u001b[38;5;241m=\u001b[39m \u001b[43mfull_kl_step\u001b[49m\u001b[43m(\u001b[49m\u001b[43mlabeling\u001b[49m\u001b[43m,\u001b[49m\u001b[43m \u001b[49m\u001b[43mmatrix\u001b[49m\u001b[43m,\u001b[49m\u001b[43m \u001b[49m\u001b[43mc\u001b[49m\u001b[43m,\u001b[49m\u001b[43m \u001b[49m\u001b[43mKL_modified\u001b[49m\u001b[43m)\u001b[49m\n\u001b[1;32m    387\u001b[0m         tot \u001b[38;5;241m+\u001b[39m\u001b[38;5;241m=\u001b[39m impr\n\u001b[1;32m    388\u001b[0m         p\u001b[38;5;241m.\u001b[39mset_postfix({\n\u001b[1;32m    389\u001b[0m                 \u001b[38;5;124m'\u001b[39m\u001b[38;5;124mtot_impr\u001b[39m\u001b[38;5;124m'\u001b[39m: tot,\n\u001b[1;32m    390\u001b[0m                 \u001b[38;5;124m'\u001b[39m\u001b[38;5;124mlast_impr\u001b[39m\u001b[38;5;124m'\u001b[39m: impr,\n\u001b[1;32m    391\u001b[0m                 \u001b[38;5;124m'\u001b[39m\u001b[38;5;124mloss\u001b[39m\u001b[38;5;124m'\u001b[39m: evaluate_cut(matrix, labeling, c)\n\u001b[1;32m    392\u001b[0m         })\n",
      "File \u001b[0;32m~/homer/github/geneclusters/geneclusters/cluster_genes_new.py:347\u001b[0m, in \u001b[0;36mfull_kl_step\u001b[0;34m(labeling, matrix, c, KL_modified)\u001b[0m\n\u001b[1;32m    345\u001b[0m \u001b[38;5;28;01mfor\u001b[39;00m o \u001b[38;5;129;01min\u001b[39;00m order:\n\u001b[1;32m    346\u001b[0m     cluster_1, cluster_2 \u001b[38;5;241m=\u001b[39m o \u001b[38;5;241m/\u001b[39m\u001b[38;5;241m/\u001b[39m num_clusters, o \u001b[38;5;241m%\u001b[39m num_clusters\n\u001b[0;32m--> 347\u001b[0m     impr\u001b[38;5;241m+\u001b[39m\u001b[38;5;241m=\u001b[39m\u001b[43mkernighan_lin_step\u001b[49m\u001b[43m(\u001b[49m\u001b[43mlabeling\u001b[49m\u001b[43m,\u001b[49m\u001b[43m \u001b[49m\u001b[43mmatrix\u001b[49m\u001b[43m,\u001b[49m\u001b[43m \u001b[49m\u001b[43mcluster_1\u001b[49m\u001b[43m,\u001b[49m\u001b[43m \u001b[49m\u001b[43mcluster_2\u001b[49m\u001b[43m,\u001b[49m\u001b[43m \u001b[49m\u001b[43mc\u001b[49m\u001b[43m,\u001b[49m\u001b[43m \u001b[49m\u001b[43mKL_modified\u001b[49m\u001b[43m)\u001b[49m\n\u001b[1;32m    348\u001b[0m \u001b[38;5;28;01mreturn\u001b[39;00m impr\n",
      "\u001b[0;31mKeyboardInterrupt\u001b[0m: "
     ]
    }
   ],
   "source": [
    "# how consistent across repeats?\n",
    "N = 50\n",
    "c = 0\n",
    "out = np.empty(shape = (N, 1086), dtype = int)\n",
    "loss = np.empty(shape = (N,1))\n",
    "for i in range(N):\n",
    "    out[i] = np.array(get_kernighan_lin_clusters('./examples/HumanCyc_2016.npy', 50, c, KL_modified=True, random_labels=True, unweighted=True)[0])\n",
    "    loss[i] = evaluate_cut(matrix, out[i], c)"
   ]
  },
  {
   "cell_type": "code",
   "execution_count": 88,
   "id": "7c80584e-fe6b-4000-bd87-a4a409d6d36a",
   "metadata": {},
   "outputs": [
    {
     "data": {
      "text/plain": [
       "array([[252.],\n",
       "       [306.]])"
      ]
     },
     "execution_count": 88,
     "metadata": {},
     "output_type": "execute_result"
    }
   ],
   "source": [
    "thresholds = np.array([25, 50, 100, 200, 500, 1000])\n",
    "results = process_map(partial(score_for_thres, matrix), thresholds)"
   ]
  },
  {
   "cell_type": "code",
   "execution_count": 69,
   "id": "e53de09a-160f-4adb-bc25-c4bc9f33fb77",
   "metadata": {},
   "outputs": [
    {
     "name": "stderr",
     "output_type": "stream",
     "text": [
      "4it [00:01,  2.13it/s, tot_impr=1334, last_impr=0, loss=532]   \n"
     ]
    }
   ],
   "source": [
    "frame = get_kernighan_lin_clusters('./examples/HumanCyc_2016.npy', 22, 0, KL_modified=True, random_labels=True, unweighted=True)"
   ]
  },
  {
   "cell_type": "code",
   "execution_count": 77,
   "id": "83169899-72a6-4523-b336-a105d1af24b9",
   "metadata": {},
   "outputs": [
    {
     "data": {
      "text/plain": [
       "array([[4.63778443e-310],\n",
       "       [6.92377362e-310]])"
      ]
     },
     "execution_count": 77,
     "metadata": {},
     "output_type": "execute_result"
    }
   ],
   "source": [
    "loss = np.empty(shape = (2,1))\n",
    "loss"
   ]
  },
  {
   "cell_type": "code",
   "execution_count": 74,
   "id": "9c60a84e-2484-4e9c-bb3f-3be52d801d23",
   "metadata": {},
   "outputs": [
    {
     "data": {
      "text/plain": [
       "array([[140138750153824, 140138750153824,  93869922358736, ...,\n",
       "         93869801519360,  93869801519360,  93869801519360],\n",
       "       [ 93869801519360,  93869801519360,               0, ...,\n",
       "         93869801519360,  93869801519360,  93869801519360],\n",
       "       [ 93869801519360,  93869801519360,  93869801519360, ...,\n",
       "         93869801519360,  93869801519360,  93869801519360],\n",
       "       ...,\n",
       "       [140132142724464, 140132142724656, 140132142724848, ...,\n",
       "        140132104221248, 140132104221376, 140132104221504],\n",
       "       [140132104221632, 140132104221760, 140132104221888, ...,\n",
       "        140132104269120, 140132104269248, 140132104269376],\n",
       "       [140132104269504, 140132104269632, 140132104269760, ...,\n",
       "        140132142577776, 140132142577968, 140132142578160]])"
      ]
     },
     "execution_count": 74,
     "metadata": {},
     "output_type": "execute_result"
    }
   ],
   "source": []
  },
  {
   "cell_type": "code",
   "execution_count": 70,
   "id": "f6a613dc-18f6-4e51-8f00-f6360366d4af",
   "metadata": {},
   "outputs": [
    {
     "data": {
      "text/plain": [
       "30"
      ]
     },
     "execution_count": 70,
     "metadata": {},
     "output_type": "execute_result"
    }
   ],
   "source": []
  },
  {
   "cell_type": "code",
   "execution_count": 31,
   "id": "0d21f7d2-9697-49d5-8f52-be36721136f5",
   "metadata": {},
   "outputs": [],
   "source": [
    "# evaluate cut independently\n",
    "mat = get_gene_pathway_matrix('./examples/HumanCyc_2016.npy')"
   ]
  },
  {
   "cell_type": "code",
   "execution_count": 27,
   "id": "852333fa-c2cb-4ea3-9947-7161db6c0d6b",
   "metadata": {},
   "outputs": [],
   "source": []
  },
  {
   "cell_type": "code",
   "execution_count": 28,
   "id": "5fec9d55-5162-43c4-82e2-3c237516c503",
   "metadata": {},
   "outputs": [
    {
     "data": {
      "text/plain": [
       "(934, 152)"
      ]
     },
     "execution_count": 28,
     "metadata": {},
     "output_type": "execute_result"
    }
   ],
   "source": [
    "matrix.shape"
   ]
  },
  {
   "cell_type": "code",
   "execution_count": 25,
   "id": "eb7f6869-52d0-489c-98ff-9451095c43af",
   "metadata": {},
   "outputs": [
    {
     "data": {
      "text/plain": [
       "(7173, 622)"
      ]
     },
     "execution_count": 25,
     "metadata": {},
     "output_type": "execute_result"
    }
   ],
   "source": [
    "matrix.shape"
   ]
  },
  {
   "cell_type": "code",
   "execution_count": 24,
   "id": "0866a5d7-c242-4e59-b956-75dd54b53af4",
   "metadata": {},
   "outputs": [
    {
     "data": {
      "text/plain": [
       "19144"
      ]
     },
     "execution_count": 24,
     "metadata": {},
     "output_type": "execute_result"
    }
   ],
   "source": []
  },
  {
   "cell_type": "code",
   "execution_count": 15,
   "id": "44f7ab06-dd19-4694-a335-cbb45033b6ed",
   "metadata": {},
   "outputs": [
    {
     "data": {
      "text/plain": [
       "1"
      ]
     },
     "execution_count": 15,
     "metadata": {},
     "output_type": "execute_result"
    }
   ],
   "source": [
    "ar = np.array([[1,0,0],[0,1,0]])\n",
    "labels = np.array([1,1,1,0,0])\n",
    "evaluate_cut(ar, labels, 0)"
   ]
  },
  {
   "cell_type": "code",
   "execution_count": null,
   "id": "f8d99835-880b-41e1-82c8-383079d5b84f",
   "metadata": {},
   "outputs": [],
   "source": []
  }
 ],
 "metadata": {
  "kernelspec": {
   "display_name": "Python 3 (ipykernel)",
   "language": "python",
   "name": "python3"
  },
  "language_info": {
   "codemirror_mode": {
    "name": "ipython",
    "version": 3
   },
   "file_extension": ".py",
   "mimetype": "text/x-python",
   "name": "python",
   "nbconvert_exporter": "python",
   "pygments_lexer": "ipython3",
   "version": "3.8.13"
  }
 },
 "nbformat": 4,
 "nbformat_minor": 5
}
