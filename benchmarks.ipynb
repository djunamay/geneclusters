{
 "cells": [
  {
   "cell_type": "code",
   "execution_count": 9,
   "id": "864f8750-2033-4a12-8883-d81bdf32072e",
   "metadata": {},
   "outputs": [],
   "source": [
    "import numpy as np\n",
    "import gseapy\n",
    "from scipy.sparse import csr_matrix\n",
    "from tqdm.contrib.concurrent import process_map\n",
    "from functools import partial\n",
    "from scipy.sparse.csgraph import shortest_path\n",
    "import matplotlib.pyplot as plt\n",
    "import seaborn as sns\n",
    "from sklearn.manifold import SpectralEmbedding\n",
    "from scipy.spatial import distance_matrix\n",
    "import pandas as pd\n",
    "\n",
    "\n",
    "from geneclusters.cluster_genes_new import get_scores, get_kernighan_lin_clusters, get_gene_pathway_matrix, get_full_matrix_from_bipartite"
   ]
  },
  {
   "cell_type": "code",
   "execution_count": null,
   "id": "acc841a6-2721-4a54-92c3-056a67c7bf5f",
   "metadata": {},
   "outputs": [],
   "source": [
    "names = gseapy.get_library_name()\n",
    "print(names)\n",
    "\n",
    "x = gseapy.get_library('GO_Biological_Process_2023')\n",
    "np.save('./examples/GO_Biological_Process_2023.npy', x)"
   ]
  },
  {
   "cell_type": "code",
   "execution_count": 266,
   "id": "1ab5d630-a8f5-472b-b744-9c2d78eaf02f",
   "metadata": {
    "tags": []
   },
   "outputs": [
    {
     "data": {
      "application/vnd.jupyter.widget-view+json": {
       "model_id": "b11da5083aec4b55972cd50aa5d2a945",
       "version_major": 2,
       "version_minor": 0
      },
      "text/plain": [
       "  0%|          | 0/29 [00:00<?, ?it/s]"
      ]
     },
     "metadata": {},
     "output_type": "display_data"
    },
    {
     "name": "stderr",
     "output_type": "stream",
     "text": [
      "3it [00:01,  1.79it/s, tot_impr=1117, last_impr=0, loss=764] 2]\n",
      "2it [00:02,  1.01s/it, tot_impr=520, last_impr=0, loss=1377]   \n",
      "4it [00:02,  1.73it/s, tot_impr=1289, last_impr=0, loss=586]77]\n",
      "4it [00:02,  1.70it/s, tot_impr=1467, last_impr=0, loss=380] ] \n",
      "4it [00:02,  1.66it/s, tot_impr=907, last_impr=0, loss=979]277]\n",
      "4it [00:02,  1.50it/s, tot_impr=1420, last_impr=0, loss=454]\n",
      "4it [00:02,  1.41it/s, tot_impr=1515, last_impr=0, loss=328]   \n",
      "3it [00:03,  1.15s/it, tot_impr=1543, last_impr=0, loss=243]   \n",
      "4it [00:03,  1.04it/s, tot_impr=1554, last_impr=0, loss=275]]  \n",
      "5it [00:04,  1.22it/s, tot_impr=1523, last_impr=0, loss=313]   \n",
      "4it [00:04,  1.03s/it, tot_impr=1534, last_impr=0, loss=269]]  \n",
      "4it [00:04,  1.12s/it, tot_impr=1565, last_impr=0, loss=237] \n",
      "4it [00:04,  1.22s/it, tot_impr=1608, last_impr=0, loss=178]   \n",
      "5it [00:04,  1.01it/s, tot_impr=1533, last_impr=0, loss=298]\n",
      "4it [00:05,  1.28s/it, tot_impr=1557, last_impr=0, loss=236] \n",
      "4it [00:05,  1.40s/it, tot_impr=1605, last_impr=0, loss=171] \n",
      "4it [00:05,  1.43s/it, tot_impr=1564, last_impr=0, loss=203] \n",
      "4it [00:05,  1.44s/it, tot_impr=1564, last_impr=0, loss=203]\n",
      "4it [00:06,  1.52s/it, tot_impr=1562, last_impr=0, loss=193] \n",
      "4it [00:06,  1.62s/it, tot_impr=1567, last_impr=0, loss=185]\n",
      "4it [00:06,  1.61s/it, tot_impr=1567, last_impr=0, loss=185]\n",
      "4it [00:06,  1.73s/it, tot_impr=1541, last_impr=0, loss=182] \n",
      "4it [00:07,  1.76s/it, tot_impr=1541, last_impr=0, loss=182]\n",
      "4it [00:07,  1.76s/it, tot_impr=1541, last_impr=0, loss=182]\n",
      "4it [00:08,  2.06s/it, tot_impr=1472, last_impr=0, loss=198]\n",
      "4it [00:08,  2.09s/it, tot_impr=1472, last_impr=0, loss=198]\n",
      "5it [00:09,  1.80s/it, tot_impr=1552, last_impr=0, loss=153]\n",
      "5it [00:09,  1.82s/it, tot_impr=1552, last_impr=0, loss=153]\n",
      "5it [00:09,  1.82s/it, tot_impr=1552, last_impr=0, loss=153]\n"
     ]
    }
   ],
   "source": [
    "# try different K's\n",
    "\n",
    "path = './examples/HumanCyc_2016.npy'\n",
    "\n",
    "thresh = np.arange(5,150,5)\n",
    "seed = np.repeat(5, len(thresh))\n",
    "C = 0\n",
    "KL_modified = True\n",
    "random_labels = True\n",
    "unweighted = True\n",
    "\n",
    "results = process_map(partial(get_scores,path,C,KL_modified,random_labels,unweighted), seed, thresh)\n"
   ]
  },
  {
   "cell_type": "code",
   "execution_count": 267,
   "id": "d7ea6ca3-6e13-45b1-afa5-47ccd0457964",
   "metadata": {},
   "outputs": [
    {
     "data": {
      "text/plain": [
       "<matplotlib.collections.PathCollection at 0x7f20dd3cc970>"
      ]
     },
     "execution_count": 267,
     "metadata": {},
     "output_type": "execute_result"
    },
    {
     "data": {
      "image/png": "[encoded data removed]",
      "text/plain": [
       "<Figure size 720x720 with 1 Axes>"
      ]
     },
     "metadata": {
      "needs_background": "light"
     },
     "output_type": "display_data"
    }
   ],
   "source": [
    "plt.figure(figsize=(10,10))\n",
    "\n",
    "\n",
    "plt.scatter(range(len(results)), [results[x][1] for x in range(len(results))])\n",
    "\n",
    "# average across multiple repeats"
   ]
  },
  {
   "cell_type": "code",
   "execution_count": 250,
   "id": "af990b9b-8d1d-4e60-85a5-27be6ac743f0",
   "metadata": {},
   "outputs": [
    {
     "data": {
      "text/plain": [
       "10.465753424657533"
      ]
     },
     "execution_count": 250,
     "metadata": {},
     "output_type": "execute_result"
    }
   ],
   "source": [
    "# normalize by all possible connections between clusters"
   ]
  },
  {
   "cell_type": "code",
   "execution_count": 268,
   "id": "15409ccd-8c97-4e38-9447-ba404b8b4ab5",
   "metadata": {
    "tags": []
   },
   "outputs": [
    {
     "data": {
      "application/vnd.jupyter.widget-view+json": {
       "model_id": "4df58d93bc0a4471ab8c577e75a793fd",
       "version_major": 2,
       "version_minor": 0
      },
      "text/plain": [
       "  0%|          | 0/5 [00:00<?, ?it/s]"
      ]
     },
     "metadata": {},
     "output_type": "display_data"
    },
    {
     "name": "stderr",
     "output_type": "stream",
     "text": [
      "3it [00:01,  2.04it/s, tot_impr=1099, last_impr=0, loss=778]   \n",
      "3it [00:01,  2.04it/s, tot_impr=1113, last_impr=0, loss=768] \n",
      "3it [00:01,  1.96it/s, tot_impr=1117, last_impr=0, loss=757] \n",
      "3it [00:01,  1.95it/s, tot_impr=1111, last_impr=0, loss=763] \n",
      "3it [00:01,  1.94it/s, tot_impr=1107, last_impr=0, loss=764] \n"
     ]
    }
   ],
   "source": [
    "path = './examples/HumanCyc_2016.npy'\n",
    "repeats = 5\n",
    "\n",
    "thresh = np.repeat(15,repeats)\n",
    "seed = np.arange(repeats)\n",
    "C = 0\n",
    "KL_modified = True\n",
    "random_labels = True\n",
    "unweighted = True\n",
    "\n",
    "results = process_map(partial(get_scores,path,C,KL_modified,random_labels,unweighted), seed, thresh)\n"
   ]
  },
  {
   "cell_type": "code",
   "execution_count": 269,
   "id": "f894e0a4-1bf9-4d53-aba6-86cd03d96f54",
   "metadata": {},
   "outputs": [],
   "source": [
    "loss = np.hstack([x[1] for x in results])\n",
    "labs = np.vstack([x[0] for x in results])\n",
    "labels = labs[np.argmin(loss)]"
   ]
  },
  {
   "cell_type": "code",
   "execution_count": 270,
   "id": "e13cdac0-379e-4426-bae3-89db3156d683",
   "metadata": {},
   "outputs": [
    {
     "name": "stderr",
     "output_type": "stream",
     "text": [
      "3it [00:01,  2.09it/s, tot_impr=1117, last_impr=0, loss=757]   \n"
     ]
    }
   ],
   "source": [
    "# assign the clusters\n",
    "frame, loss_temp = get_kernighan_lin_clusters(path, 15, C, KL_modified, random_labels, unweighted, seed=seed[np.argmin(loss)])\n",
    "frame.columns = ['cluster', 'description', 'is_gene']"
   ]
  },
  {
   "cell_type": "code",
   "execution_count": 271,
   "id": "b3b60051-0441-40a8-8dd0-497fa8285501",
   "metadata": {},
   "outputs": [],
   "source": [
    "def sum_edges_between_clusters(path, frame, cluster_mapping):\n",
    "    mat = get_gene_pathway_matrix(path)\n",
    "    #mat = (pd.read_csv('../../github/ABCA7lof/processed_data/pathway_databases/gene_pathway_matrix.csv'))\n",
    "    row_clusters = np.array([cluster_mapping[x] for x in mat.index])\n",
    "    column_clusters = np.array([cluster_mapping[x] for x in mat.columns])\n",
    "    clusters = np.unique(list(cluster_mapping.values()))\n",
    "    n_clusters = len(clusters)\n",
    "    out = np.zeros((n_clusters, n_clusters))\n",
    "    mat_array = np.array(mat)\n",
    "    \n",
    "    row_cluster_indices = [np.where(row_clusters==x)[0] for x in clusters]\n",
    "    col_cluster_indices = [np.where(column_clusters==x)[0] for x in clusters]\n",
    "    \n",
    "    compute_sums(n_clusters, mat_array, row_cluster_indices, col_cluster_indices, out)\n",
    "    return out, n_clusters, clusters\n",
    "\n",
    "def compute_sums(n_clusters, mat_array, row_cluster_indices, col_cluster_indices, out):\n",
    "    for i in range(n_clusters):\n",
    "        for j in range(n_clusters):\n",
    "            out[i,j] = np.sum(mat_array[row_cluster_indices[i]][:,col_cluster_indices[j]])+np.sum(mat_array[row_cluster_indices[j]][:,col_cluster_indices[i]])\n",
    "            \n",
    "def compute_embedding_distances(out, n_clusters):\n",
    "    embedding = SpectralEmbedding(1)\n",
    "    embedded = embedding.fit_transform(out)\n",
    "    #distances = np.zeros((n_clusters, n_clusters))\n",
    "    #for i in range(n_clusters):\n",
    "    #    for j in range(n_clusters):\n",
    "    #        distances[i,j] = np.abs(embedded[i]-embedded[j])\n",
    "    distances = distance_matrix(out, out)\n",
    "    return distances, embedded.ravel()"
   ]
  },
  {
   "cell_type": "code",
   "execution_count": 272,
   "id": "71a47998-9a70-47b1-bd98-fbe14ab80646",
   "metadata": {},
   "outputs": [],
   "source": [
    "cluster_mapping = dict(zip(frame['description'], frame['cluster']))\n",
    "out, n_clusters, clusters = sum_edges_between_clusters(path, frame, cluster_mapping)\n",
    "pairwise_distances, embedded = compute_embedding_distances(out, n_clusters)"
   ]
  },
  {
   "cell_type": "code",
   "execution_count": 273,
   "id": "947aa6e8-28be-407d-857d-90521c027491",
   "metadata": {},
   "outputs": [
    {
     "data": {
      "text/plain": [
       "(73, 73)"
      ]
     },
     "execution_count": 273,
     "metadata": {},
     "output_type": "execute_result"
    }
   ],
   "source": [
    "pairwise_distances.shape"
   ]
  },
  {
   "cell_type": "code",
   "execution_count": 274,
   "id": "cf805d03-e126-436c-8e29-bab3c17b1bad",
   "metadata": {},
   "outputs": [
    {
     "data": {
      "text/plain": [
       "<matplotlib.image.AxesImage at 0x7f20dd006c40>"
      ]
     },
     "execution_count": 274,
     "metadata": {},
     "output_type": "execute_result"
    },
    {
     "data": {
      "image/png": "[encoded data removed]",
      "text/plain": [
       "<Figure size 720x720 with 1 Axes>"
      ]
     },
     "metadata": {
      "needs_background": "light"
     },
     "output_type": "display_data"
    }
   ],
   "source": [
    "plt.figure(figsize=(10,10))\n",
    "\n",
    "sorted_mat = out[np.argsort(embedded)][:,np.argsort(embedded)]\n",
    "\n",
    "#plt.imshow()\n",
    "original = plt.imshow(sorted_mat/np.sum(sorted_mat, axis=1).reshape(-1,1))\n",
    "#plt.imshow(sorted_mat)\n",
    "original"
   ]
  },
  {
   "cell_type": "code",
   "execution_count": 275,
   "id": "7be4d2db-4eec-4576-a6df-fa8e83d886c8",
   "metadata": {},
   "outputs": [
    {
     "data": {
      "text/plain": [
       "(array([ 97., 194., 312., 460., 820., 690., 266., 520., 442., 342., 344.,\n",
       "        230., 156., 110., 104., 160.,  44.,  26.,   6.,   6.]),\n",
       " array([  0.        ,   7.21370224,  14.42740448,  21.64110672,\n",
       "         28.85480896,  36.0685112 ,  43.28221344,  50.49591568,\n",
       "         57.70961792,  64.92332016,  72.13702239,  79.35072463,\n",
       "         86.56442687,  93.77812911, 100.99183135, 108.20553359,\n",
       "        115.41923583, 122.63293807, 129.84664031, 137.06034255,\n",
       "        144.27404479]),\n",
       " <BarContainer object of 20 artists>)"
      ]
     },
     "execution_count": 275,
     "metadata": {},
     "output_type": "execute_result"
    },
    {
     "data": {
      "image/png": "[encoded data removed]",
      "text/plain": [
       "<Figure size 432x288 with 1 Axes>"
      ]
     },
     "metadata": {
      "needs_background": "light"
     },
     "output_type": "display_data"
    }
   ],
   "source": [
    "plt.hist(pairwise_distances.ravel(), 20)"
   ]
  },
  {
   "cell_type": "code",
   "execution_count": 287,
   "id": "b9999895-5eb1-443a-a2af-441e146d7477",
   "metadata": {},
   "outputs": [
    {
     "data": {
      "image/png": "[encoded data removed]",
      "text/plain": [
       "<Figure size 432x288 with 1 Axes>"
      ]
     },
     "metadata": {
      "needs_background": "light"
     },
     "output_type": "display_data"
    }
   ],
   "source": [
    "np.fill_diagonal(pairwise_distances, np.inf)\n",
    "x=0\n",
    "while np.min(pairwise_distances)<40:\n",
    "    y = np.min(pairwise_distances)\n",
    "    plt.scatter(x, y)\n",
    "    x+=1\n",
    "    min_index = np.argmin(pairwise_distances)\n",
    "    cluster_0 = min_index//pairwise_distances.shape[1]\n",
    "    cluster_1 = min_index%pairwise_distances.shape[1]\n",
    "\n",
    "    frame.loc[frame['cluster']==cluster_0,'cluster']=cluster_1\n",
    "\n",
    "    remap = dict(zip(np.unique(frame['cluster']), range(len(np.unique(frame['cluster'])))))\n",
    "    frame['cluster'] = [remap[x] for x in frame['cluster']]\n",
    "\n",
    "    cluster_mapping = dict(zip(frame['description'], frame['cluster']))\n",
    "    out, n_clusters, clusters = sum_edges_between_clusters(path, frame, cluster_mapping)\n",
    "    pairwise_distances, embedded = compute_embedding_distances(out, n_clusters)\n",
    "    np.fill_diagonal(pairwise_distances, np.inf)\n"
   ]
  },
  {
   "cell_type": "code",
   "execution_count": 288,
   "id": "2a7db325-61ee-44eb-8d8a-ce73e7c64198",
   "metadata": {},
   "outputs": [
    {
     "data": {
      "text/plain": [
       "(43, 43)"
      ]
     },
     "execution_count": 288,
     "metadata": {},
     "output_type": "execute_result"
    }
   ],
   "source": [
    "out.shape"
   ]
  },
  {
   "cell_type": "code",
   "execution_count": 289,
   "id": "b8c75c38-ab98-4638-a346-3319d1c7ebcb",
   "metadata": {},
   "outputs": [
    {
     "data": {
      "image/png": "[encoded data removed]",
      "text/plain": [
       "<Figure size 720x720 with 1 Axes>"
      ]
     },
     "metadata": {
      "needs_background": "light"
     },
     "output_type": "display_data"
    }
   ],
   "source": [
    "plt.figure(figsize=(10,10))\n",
    "\n",
    "sorted_mat = out[np.argsort(embedded)][:,np.argsort(embedded)]\n",
    "\n",
    "#plt.imshow()\n",
    "new = plt.imshow(sorted_mat/np.sum(sorted_mat, axis=1).reshape(-1,1))"
   ]
  },
  {
   "cell_type": "code",
   "execution_count": 230,
   "id": "27e950d7-00f5-43c5-991c-2b2aab9d03c0",
   "metadata": {},
   "outputs": [],
   "source": [
    "original\n",
    "plt.show()"
   ]
  },
  {
   "cell_type": "code",
   "execution_count": 290,
   "id": "6947a599-6007-4afb-b48f-d8620577d709",
   "metadata": {},
   "outputs": [
    {
     "data": {
      "text/plain": [
       "-22.0"
      ]
     },
     "execution_count": 290,
     "metadata": {},
     "output_type": "execute_result"
    }
   ],
   "source": [
    "np.min(np.diag(out)-(np.sum(np.tril(out, k=-1), axis=1)))"
   ]
  },
  {
   "cell_type": "code",
   "execution_count": 152,
   "id": "b895b3a5-6984-4628-bb7e-5bd30a1f5a70",
   "metadata": {},
   "outputs": [
    {
     "data": {
      "text/plain": [
       "array([1.        , 1.        , 1.        , 1.        , 0.94545455,\n",
       "       0.88888889, 0.93333333, 0.97435897, 0.99328859, 1.        ,\n",
       "       0.944     , 0.87804878, 0.79365079, 0.81481481, 0.87323944,\n",
       "       0.66666667, 0.8       , 0.93023256, 0.93333333, 0.8372093 ,\n",
       "       0.92682927, 0.6779661 , 0.73170732, 0.703125  , 0.96      ,\n",
       "       0.92537313, 0.74074074, 0.93023256, 0.62222222, 0.97142857,\n",
       "       0.95890411, 0.82352941, 0.        , 0.91891892, 0.71794872,\n",
       "       0.5988024 , 0.64383562])"
      ]
     },
     "execution_count": 152,
     "metadata": {},
     "output_type": "execute_result"
    }
   ],
   "source": [
    "np.diag(out)/np.sum(np.tril(out, k=0), axis=1)"
   ]
  },
  {
   "cell_type": "code",
   "execution_count": 554,
   "id": "87e94d48-9734-42f3-8d54-701c65295f36",
   "metadata": {},
   "outputs": [
    {
     "data": {
      "text/plain": [
       "<matplotlib.image.AxesImage at 0x7fda755cd970>"
      ]
     },
     "execution_count": 554,
     "metadata": {},
     "output_type": "execute_result"
    },
    {
     "data": {
      "image/png": "[encoded data removed]",
      "text/plain": [
       "<Figure size 1080x1080 with 1 Axes>"
      ]
     },
     "metadata": {
      "needs_background": "light"
     },
     "output_type": "display_data"
    }
   ],
   "source": [
    "plt.figure(figsize=(15,15))\n",
    "\n",
    "#plt.imshow(out[np.argsort(embedded)][:,np.argsort(embedded)])\n",
    "plt.imshow(out/np.sum(out, axis=1))"
   ]
  },
  {
   "cell_type": "code",
   "execution_count": 546,
   "id": "c1ddd4fb-c6a5-4ea8-b759-15b545cf767c",
   "metadata": {},
   "outputs": [
    {
     "data": {
      "text/plain": [
       "<matplotlib.image.AxesImage at 0x7fda75749790>"
      ]
     },
     "execution_count": 546,
     "metadata": {},
     "output_type": "execute_result"
    },
    {
     "data": {
      "image/png": "[encoded data removed]",
      "text/plain": [
       "<Figure size 432x288 with 1 Axes>"
      ]
     },
     "metadata": {
      "needs_background": "light"
     },
     "output_type": "display_data"
    }
   ],
   "source": [
    "plt.imshow(out/np.sum(out, axis=1))"
   ]
  },
  {
   "cell_type": "code",
   "execution_count": 471,
   "id": "75ba5093-c110-4566-9a11-d3be5ffb767b",
   "metadata": {},
   "outputs": [],
   "source": []
  },
  {
   "cell_type": "code",
   "execution_count": 472,
   "id": "42de2b5e-7347-45a2-a944-e048f0e86ccd",
   "metadata": {},
   "outputs": [
    {
     "data": {
      "text/plain": [
       "<matplotlib.image.AxesImage at 0x7fda7dc85e20>"
      ]
     },
     "execution_count": 472,
     "metadata": {},
     "output_type": "execute_result"
    },
    {
     "data": {
      "image/png": "[encoded data removed]",
      "text/plain": [
       "<Figure size 1080x1080 with 1 Axes>"
      ]
     },
     "metadata": {
      "needs_background": "light"
     },
     "output_type": "display_data"
    }
   ],
   "source": [
    "plt.figure(figsize=(15,15))\n",
    "\n",
    "plt.imshow(out[np.argsort(embedded)][:,np.argsort(embedded)])"
   ]
  },
  {
   "cell_type": "code",
   "execution_count": 443,
   "id": "b398b9de-3883-45d9-8658-1829fda960ed",
   "metadata": {},
   "outputs": [],
   "source": [
    "row_clusters[row_clusters==row_index]=col_index"
   ]
  },
  {
   "cell_type": "code",
   "execution_count": 444,
   "id": "cc09ac02-164e-49f8-b415-1554b422b398",
   "metadata": {},
   "outputs": [
    {
     "data": {
      "text/plain": [
       "array([40, 33, 21,  7, 14,  5, 31, 31, 31, 31, 13, 19, 19, 23, 23, 23, 54,\n",
       "       54, 54, 54, 54, 48,  6,  6, 14, 26, 26, 42, 42, 42, 22, 29, 20, 55,\n",
       "       44, 44,  6,  6, 12, 35, 35, 35, 35, 35, 35,  2,  5,  5, 39, 39, 34,\n",
       "       34, 34, 34, 34, 34, 41,  9,  9,  9,  9, 18, 38, 38, 38, 38, 38, 38,\n",
       "        8, 25, 22, 22, 46, 46, 46, 46, 46, 46, 16, 18, 18, 18, 18, 18, 40,\n",
       "       40, 40,  1,  1, 43,  1, 32, 32, 32, 30, 30, 30, 30, 30, 30, 30, 37,\n",
       "       37, 30, 30, 30, 37, 37, 17, 16,  4,  4, 52, 45, 45, 45, 48,  3,  0,\n",
       "       17, 43, 52, 13, 53, 15, 41, 41, 14, 27, 44, 47,  2, 36, 36, 10, 10,\n",
       "       10, 10, 12, 51, 51, 33, 53, 53, 50, 28, 20, 11, 50, 50, 15, 29])"
      ]
     },
     "execution_count": 444,
     "metadata": {},
     "output_type": "execute_result"
    }
   ],
   "source": [
    "row_clusters"
   ]
  },
  {
   "cell_type": "code",
   "execution_count": 437,
   "id": "101ba8a8-690c-44d8-bf2f-04341e98595b",
   "metadata": {},
   "outputs": [
    {
     "ename": "IndexError",
     "evalue": "list index out of range",
     "output_type": "error",
     "traceback": [
      "\u001b[0;31m---------------------------------------------------------------------------\u001b[0m",
      "\u001b[0;31mIndexError\u001b[0m                                Traceback (most recent call last)",
      "Input \u001b[0;32mIn [437]\u001b[0m, in \u001b[0;36m<cell line: 1>\u001b[0;34m()\u001b[0m\n\u001b[0;32m----> 1\u001b[0m \u001b[43mrow_cluster_indices\u001b[49m\u001b[43m[\u001b[49m\u001b[43mcol_index\u001b[49m\u001b[43m]\u001b[49m\n",
      "\u001b[0;31mIndexError\u001b[0m: list index out of range"
     ]
    }
   ],
   "source": [
    "row_cluster_indices[col_index]"
   ]
  },
  {
   "cell_type": "code",
   "execution_count": 434,
   "id": "eab1bfec-9785-4846-b669-2220786ddfa4",
   "metadata": {},
   "outputs": [
    {
     "data": {
      "text/plain": [
       "{'A4GNT': 3,\n",
       " 'AADAT': 72,\n",
       " 'AANAT': 46,\n",
       " 'AARS': 17,\n",
       " 'AARS2': 43,\n",
       " 'ABAT': 4,\n",
       " 'ABHD12': 47,\n",
       " 'ABHD5': 58,\n",
       " 'ABHD6': 62,\n",
       " 'ACAA1': 97,\n",
       " 'ACAA2': 96,\n",
       " 'ACAD8': 29,\n",
       " 'ACADL': 96,\n",
       " 'ACADSB': 69,\n",
       " 'ACAT1': 85,\n",
       " 'ACAT2': 94,\n",
       " 'ACER1': 55,\n",
       " 'ACER2': 75,\n",
       " 'ACMSD': 72,\n",
       " 'ACO2': 53,\n",
       " 'ACOT2': 20,\n",
       " 'ACOT4': 7,\n",
       " 'ACOT7': 7,\n",
       " 'ACOT8': 7,\n",
       " 'ACOX1': 43,\n",
       " 'ACOX2': 99,\n",
       " 'ACSBG1': 41,\n",
       " 'ACSBG2': 41,\n",
       " 'ACSL1': 41,\n",
       " 'ACSL3': 41,\n",
       " 'ACSL4': 41,\n",
       " 'ACSL5': 96,\n",
       " 'ACSL6': 96,\n",
       " 'ACSM1': 47,\n",
       " 'ACSM3': 14,\n",
       " 'ACSM4': 14,\n",
       " 'ACSM5': 14,\n",
       " 'ACSM6': 90,\n",
       " 'ACSS1': 64,\n",
       " 'ACSS2': 64,\n",
       " 'ACSS3': 64,\n",
       " 'ADA': 48,\n",
       " 'ADH1B': 6,\n",
       " 'ADH4': 8,\n",
       " 'ADH6': 6,\n",
       " 'ADI1': 74,\n",
       " 'ADK': 88,\n",
       " 'ADSL': 75,\n",
       " 'ADSS': 63,\n",
       " 'ADSSL1': 106,\n",
       " 'AFMID': 36,\n",
       " 'AGL': 104,\n",
       " 'AGPAT1': 91,\n",
       " 'AGPAT2': 67,\n",
       " 'AGPAT3': 58,\n",
       " 'AGPAT4': 67,\n",
       " 'AGPAT5': 58,\n",
       " 'AGPAT6': 54,\n",
       " 'AGPAT9': 67,\n",
       " 'AHCY': 81,\n",
       " 'AK1': 63,\n",
       " 'AK2': 1,\n",
       " 'AK3': 62,\n",
       " 'AK4': 1,\n",
       " 'AK5': 106,\n",
       " 'AK7': 1,\n",
       " 'AK8': 63,\n",
       " 'AKR1A1': 69,\n",
       " 'AKR1B1': 75,\n",
       " 'AKR1B10': 65,\n",
       " 'AKR1C1': 78,\n",
       " 'AKR1C2': 78,\n",
       " 'AKR1C3': 86,\n",
       " 'AKR1C4': 78,\n",
       " 'AKR1D1': 99,\n",
       " 'ALAD': 98,\n",
       " 'ALAS1': 98,\n",
       " 'ALAS2': 98,\n",
       " 'ALDH1A1': 26,\n",
       " 'ALDH1A2': 26,\n",
       " 'ALDH1A3': 26,\n",
       " 'ALDH1B1': 44,\n",
       " 'ALDH1L1': 69,\n",
       " 'ALDH1L2': 17,\n",
       " 'ALDH2': 64,\n",
       " 'ALDH3A1': 44,\n",
       " 'ALDH3A2': 6,\n",
       " 'ALDH3B1': 44,\n",
       " 'ALDH3B2': 44,\n",
       " 'ALDH5A1': 4,\n",
       " 'ALDH6A1': 54,\n",
       " 'ALDH7A1': 15,\n",
       " 'ALDOA': 31,\n",
       " 'ALDOB': 31,\n",
       " 'ALDOC': 93,\n",
       " 'ALG1': 100,\n",
       " 'ALG13': 100,\n",
       " 'ALG3': 100,\n",
       " 'ALG5': 69,\n",
       " 'ALG6': 100,\n",
       " 'ALG8': 100,\n",
       " 'ALOX5': 28,\n",
       " 'ALPI': 42,\n",
       " 'AMACR': 99,\n",
       " 'AMD1': 74,\n",
       " 'AMDHD1': 38,\n",
       " 'ANPEP': 32,\n",
       " 'AOC3': 64,\n",
       " 'AOX1': 73,\n",
       " 'APIP': 74,\n",
       " 'APRT': 1,\n",
       " 'ARG1': 107,\n",
       " 'ARSB': 69,\n",
       " 'ASAH1': 55,\n",
       " 'ASAH2': 55,\n",
       " 'ASAH2B': 55,\n",
       " 'ASL': 107,\n",
       " 'ASMT': 46,\n",
       " 'ASS1': 107,\n",
       " 'ATIC': 17,\n",
       " 'ATP5A1': 106,\n",
       " 'ATP5B': 1,\n",
       " 'ATP5C1': 63,\n",
       " 'ATP5D': 63,\n",
       " 'ATP5E': 63,\n",
       " 'ATP5EP2': 1,\n",
       " 'ATP5F1': 106,\n",
       " 'ATP5H': 63,\n",
       " 'ATP5I': 106,\n",
       " 'ATP5J2': 106,\n",
       " 'ATP5L': 106,\n",
       " 'ATP5L2': 106,\n",
       " 'ATP5S': 63,\n",
       " 'ATP6': 63,\n",
       " 'ATP8': 1,\n",
       " 'AUH': 80,\n",
       " 'B3GALT6': 33,\n",
       " 'B3GAT1': 33,\n",
       " 'B3GAT2': 33,\n",
       " 'B3GAT3': 33,\n",
       " 'B3GNT1': 101,\n",
       " 'B3GNT3': 50,\n",
       " 'B4GALT1': 101,\n",
       " 'B4GALT2': 91,\n",
       " 'B4GALT3': 101,\n",
       " 'B4GALT7': 33,\n",
       " 'BAAT': 99,\n",
       " 'BCAT1': 70,\n",
       " 'BCAT2': 70,\n",
       " 'BCKDHA': 70,\n",
       " 'BCKDHB': 102,\n",
       " 'BDH1': 85,\n",
       " 'BDH2': 85,\n",
       " 'BHMT': 60,\n",
       " 'BPGM': 93,\n",
       " 'C12ORF5': 24,\n",
       " 'C1GALT1': 29,\n",
       " 'CAD': 65,\n",
       " 'CARS': 89,\n",
       " 'CARS2': 62,\n",
       " 'CAT': 64,\n",
       " 'CBS': 25,\n",
       " 'CCBL1': 60,\n",
       " 'CCBL2': 72,\n",
       " 'CDA': 83,\n",
       " 'CDC34': 95,\n",
       " 'CDIPT': 84,\n",
       " 'CDK11A': 101,\n",
       " 'CDO1': 69,\n",
       " 'CDS1': 67,\n",
       " 'CDS2': 43,\n",
       " 'CEL': 38,\n",
       " 'CEPT1': 77,\n",
       " 'CERS1': 10,\n",
       " 'CES1': 54,\n",
       " 'CES2': 26,\n",
       " 'CES4A': 81,\n",
       " 'CES5A': 75,\n",
       " 'CHDH': 15,\n",
       " 'CHKA': 77,\n",
       " 'CHKB': 12,\n",
       " 'CHPT1': 77,\n",
       " 'CHST11': 16,\n",
       " 'CHST12': 16,\n",
       " 'CHST13': 16,\n",
       " 'CHST14': 80,\n",
       " 'CHST15': 16,\n",
       " 'CHST2': 16,\n",
       " 'CHST3': 16,\n",
       " 'CHST7': 16,\n",
       " 'CKB': 76,\n",
       " 'CKM': 76,\n",
       " 'CKMT1A': 76,\n",
       " 'CKMT1B': 76,\n",
       " 'CKMT2': 76,\n",
       " 'CMPK1': 21,\n",
       " 'CMPK2': 21,\n",
       " 'CNDP2': 105,\n",
       " 'COASY': 34,\n",
       " 'COMT': 8,\n",
       " 'COQ2': 82,\n",
       " 'COQ3': 82,\n",
       " 'COQ5': 82,\n",
       " 'COQ6': 82,\n",
       " 'COQ7': 82,\n",
       " 'CPOX': 98,\n",
       " 'CPS1': 107,\n",
       " 'CPT1A': 65,\n",
       " 'CPT1B': 65,\n",
       " 'CPT1C': 65,\n",
       " 'CPT2': 65,\n",
       " 'CRAT': 65,\n",
       " 'CRYM': 15,\n",
       " 'CS': 80,\n",
       " 'CSGALNACT1': 33,\n",
       " 'CSGALNACT2': 20,\n",
       " 'CTH': 102,\n",
       " 'CTPS1': 21,\n",
       " 'CTPS2': 21,\n",
       " 'CYP11A1': 43,\n",
       " 'CYP11B1': 9,\n",
       " 'CYP11B2': 80,\n",
       " 'CYP17A1': 86,\n",
       " 'CYP19A1': 86,\n",
       " 'CYP1A2': 40,\n",
       " 'CYP1B1': 47,\n",
       " 'CYP21A2': 97,\n",
       " 'CYP27A1': 99,\n",
       " 'CYP2A6': 40,\n",
       " 'CYP2B6': 47,\n",
       " 'CYP2C19': 45,\n",
       " 'CYP2E1': 64,\n",
       " 'CYP2G1P': 73,\n",
       " 'CYP2R1': 99,\n",
       " 'CYP2S1': 40,\n",
       " 'CYP2U1': 40,\n",
       " 'CYP4X1': 40,\n",
       " 'CYP51A1': 5,\n",
       " 'CYP7A1': 17,\n",
       " 'CYP8B1': 99,\n",
       " 'DAK': 31,\n",
       " 'DARS': 43,\n",
       " 'DARS2': 11,\n",
       " 'DBT': 70,\n",
       " 'DCK': 83,\n",
       " 'DCTD': 60,\n",
       " 'DDC': 46,\n",
       " 'DEGS2': 10,\n",
       " 'DERA': 78,\n",
       " 'DGAT1': 58,\n",
       " 'DGAT2': 69,\n",
       " 'DGUOK': 52,\n",
       " 'DHCR24': 30,\n",
       " 'DHCR7': 30,\n",
       " 'DHRS3': 57,\n",
       " 'DHRS4': 57,\n",
       " 'DHRS9': 57,\n",
       " 'DHTKD1': 72,\n",
       " 'DIO1': 22,\n",
       " 'DIO2': 22,\n",
       " 'DLAT': 39,\n",
       " 'DLD': 70,\n",
       " 'DLST': 62,\n",
       " 'DMGDH': 103,\n",
       " 'DPAGT1': 100,\n",
       " 'DPEP1': 28,\n",
       " 'DPEP2': 28,\n",
       " 'DPM1': 100,\n",
       " 'DPM2': 100,\n",
       " 'DPM3': 100,\n",
       " 'DPYD': 45,\n",
       " 'DPYS': 45,\n",
       " 'DSE': 62,\n",
       " 'DTYMK': 21,\n",
       " 'DUT': 29,\n",
       " 'EARS2': 89,\n",
       " 'EBP': 30,\n",
       " 'ECHS1': 70,\n",
       " 'ECI1': 96,\n",
       " 'EHHADH': 85,\n",
       " 'ELOVL1': 97,\n",
       " 'ELOVL5': 14,\n",
       " 'ELOVL6': 97,\n",
       " 'ENO1': 43,\n",
       " 'ENO2': 87,\n",
       " 'ENO3': 45,\n",
       " 'ENOPH1': 74,\n",
       " 'ENPP7': 25,\n",
       " 'EPRS': 52,\n",
       " 'EPT1': 12,\n",
       " 'ETNK1': 12,\n",
       " 'ETNK2': 12,\n",
       " 'EXT1': 11,\n",
       " 'EXT2': 60,\n",
       " 'EXTL1': 52,\n",
       " 'EXTL2': 3,\n",
       " 'EXTL3': 43,\n",
       " 'FADS1': 14,\n",
       " 'FADS2': 54,\n",
       " 'FADS6': 20,\n",
       " 'FAH': 95,\n",
       " 'FARS2': 10,\n",
       " 'FARSA': 11,\n",
       " 'FARSB': 85,\n",
       " 'FASN': 7,\n",
       " 'FBP1': 87,\n",
       " 'FBP2': 91,\n",
       " 'FDFT1': 30,\n",
       " 'FDPS': 10,\n",
       " 'FECH': 43,\n",
       " 'FH': 53,\n",
       " 'FIG4': 90,\n",
       " 'FMO1': 90,\n",
       " 'FMO2': 73,\n",
       " 'FMO3': 52,\n",
       " 'FMO4': 73,\n",
       " 'FMO5': 73,\n",
       " 'FMO6P': 73,\n",
       " 'FPGS': 15,\n",
       " 'FTCD': 38,\n",
       " 'FUT9': 101,\n",
       " 'G6PC': 87,\n",
       " 'G6PC2': 87,\n",
       " 'G6PC3': 87,\n",
       " 'G6PD': 23,\n",
       " 'GAD1': 4,\n",
       " 'GAD2': 4,\n",
       " 'GALE': 97,\n",
       " 'GALK1': 97,\n",
       " 'GALM': 97,\n",
       " 'GALNS': 92,\n",
       " 'GALNT1': 52,\n",
       " 'GALNT10': 50,\n",
       " 'GALNT11': 29,\n",
       " 'GALNT12': 12,\n",
       " 'GALNT13': 52,\n",
       " 'GALNT14': 31,\n",
       " 'GALNT15': 50,\n",
       " 'GALNT16': 9,\n",
       " 'GALNT18': 9,\n",
       " 'GALNT2': 50,\n",
       " 'GALNT3': 50,\n",
       " 'GALNT4': 91,\n",
       " 'GALNT5': 80,\n",
       " 'GALNT6': 50,\n",
       " 'GALNT7': 54,\n",
       " 'GALNT8': 17,\n",
       " 'GALNT9': 7,\n",
       " 'GALNTL6': 80,\n",
       " 'GALT': 97,\n",
       " 'GAPDH': 39,\n",
       " 'GAPDHS': 87,\n",
       " 'GARS': 47,\n",
       " 'GART': 34,\n",
       " 'GBE1': 56,\n",
       " 'GCK': 0,\n",
       " 'GCLC': 105,\n",
       " 'GCLM': 105,\n",
       " 'GCNT1': 50,\n",
       " 'GCNT2': 46,\n",
       " 'GCNT3': 101,\n",
       " 'GCNT4': 50,\n",
       " 'GCNT7': 62,\n",
       " 'GDA': 81,\n",
       " 'GFPT1': 0,\n",
       " 'GFPT2': 11,\n",
       " 'GGCT': 105,\n",
       " 'GGH': 12,\n",
       " 'GGPS1': 22,\n",
       " 'GGT1': 105,\n",
       " 'GGT3P': 28,\n",
       " 'GGT5': 105,\n",
       " 'GK': 66,\n",
       " 'GK2': 66,\n",
       " 'GK3P': 66,\n",
       " 'GK5': 66,\n",
       " 'GLCE': 3,\n",
       " 'GLUD1': 4,\n",
       " 'GLUD2': 4,\n",
       " 'GLUL': 4,\n",
       " 'GMPPA': 18,\n",
       " 'GMPPB': 18,\n",
       " 'GMPS': 1,\n",
       " 'GNPDA1': 0,\n",
       " 'GNPDA2': 0,\n",
       " 'GNPNAT1': 0,\n",
       " 'GOT1': 8,\n",
       " 'GOT2': 72,\n",
       " 'GPAM': 67,\n",
       " 'GPAT2': 67,\n",
       " 'GPD2': 66,\n",
       " 'GPI': 18,\n",
       " 'GPX1': 13,\n",
       " 'GPX2': 13,\n",
       " 'GPX3': 13,\n",
       " 'GPX4': 90,\n",
       " 'GPX5': 11,\n",
       " 'GPX6': 13,\n",
       " 'GPX7': 13,\n",
       " 'GPX8': 13,\n",
       " 'GSR': 90,\n",
       " 'GSS': 105,\n",
       " 'GSTA1': 108,\n",
       " 'GSTA2': 83,\n",
       " 'GSTA3': 108,\n",
       " 'GSTA4': 108,\n",
       " 'GSTA5': 108,\n",
       " 'GSTK1': 31,\n",
       " 'GSTM1': 62,\n",
       " 'GSTM2': 60,\n",
       " 'GSTM3': 104,\n",
       " 'GSTM4': 12,\n",
       " 'GSTM5': 54,\n",
       " 'GSTO2': 104,\n",
       " 'GSTP1': 108,\n",
       " 'GSTT1': 11,\n",
       " 'GSTT2': 108,\n",
       " 'GSTTP1': 108,\n",
       " 'GSTZ1': 95,\n",
       " 'GUK1': 19,\n",
       " 'GYG1': 56,\n",
       " 'GYG2': 38,\n",
       " 'GYS1': 56,\n",
       " 'GYS2': 56,\n",
       " 'HAAO': 36,\n",
       " 'HADH': 96,\n",
       " 'HADHA': 70,\n",
       " 'HADHB': 96,\n",
       " 'HAL': 38,\n",
       " 'HARS': 17,\n",
       " 'HARS2': 54,\n",
       " 'HEXA': 92,\n",
       " 'HEXB': 92,\n",
       " 'HGD': 95,\n",
       " 'HIBADH': 90,\n",
       " 'HIBCH': 104,\n",
       " 'HK1': 93,\n",
       " 'HK2': 93,\n",
       " 'HK3': 56,\n",
       " 'HKDC1': 0,\n",
       " 'HMBS': 98,\n",
       " 'HMGCL': 85,\n",
       " 'HMGCLL1': 78,\n",
       " 'HMGCR': 94,\n",
       " 'HMGCS1': 94,\n",
       " 'HMGCS2': 94,\n",
       " 'HPD': 95,\n",
       " 'HPGDS': 49,\n",
       " 'HPRT1': 1,\n",
       " 'HS2ST1': 47,\n",
       " 'HS3ST1': 47,\n",
       " 'HS3ST2': 83,\n",
       " 'HS3ST3A1': 104,\n",
       " 'HS3ST3B1': 3,\n",
       " 'HS3ST4': 88,\n",
       " 'HS3ST5': 47,\n",
       " 'HS3ST6': 3,\n",
       " 'HS6ST1': 76,\n",
       " 'HS6ST2': 3,\n",
       " 'HS6ST3': 3,\n",
       " 'HSD17B1': 29,\n",
       " 'HSD17B10': 96,\n",
       " 'HSD17B11': 86,\n",
       " 'HSD17B3': 86,\n",
       " 'HSD17B4': 42,\n",
       " 'HSD17B7': 5,\n",
       " 'HSD3B1': 86,\n",
       " 'HSD3B2': 86,\n",
       " 'HSD3B7': 99,\n",
       " 'HYAL1': 92,\n",
       " 'HYAL4': 92,\n",
       " 'IARS': 29,\n",
       " 'IARS2': 89,\n",
       " 'IDH3A': 53,\n",
       " 'IDH3B': 62,\n",
       " 'IDH3G': 62,\n",
       " 'IDI1': 42,\n",
       " 'IDI2': 94,\n",
       " 'IDO1': 36,\n",
       " 'IDO2': 36,\n",
       " 'IDS': 92,\n",
       " 'IDUA': 92,\n",
       " 'IMPA1': 37,\n",
       " 'IMPA2': 37,\n",
       " 'IMPAD1': 37,\n",
       " 'IMPDH1': 48,\n",
       " 'IMPDH2': 106,\n",
       " 'INMT': 95,\n",
       " 'INPP1': 37,\n",
       " 'INPP4A': 27,\n",
       " 'INPP4B': 27,\n",
       " 'INPP5A': 51,\n",
       " 'INPP5B': 27,\n",
       " 'INPP5D': 51,\n",
       " 'INPP5E': 27,\n",
       " 'INPP5F': 37,\n",
       " 'INPP5J': 51,\n",
       " 'INPP5K': 51,\n",
       " 'INPPL1': 37,\n",
       " 'IP6K1': 107,\n",
       " 'IP6K2': 107,\n",
       " 'IP6K3': 107,\n",
       " 'IPMK': 51,\n",
       " 'IPPK': 35,\n",
       " 'ITGA2B': 4,\n",
       " 'ITPK1': 76,\n",
       " 'ITPKA': 51,\n",
       " 'ITPKB': 51,\n",
       " 'ITPKC': 34,\n",
       " 'IVD': 24,\n",
       " 'KARS': 32,\n",
       " 'KDSR': 10,\n",
       " 'KHK': 31,\n",
       " 'KMO': 36,\n",
       " 'KYNU': 36,\n",
       " 'LARS': 89,\n",
       " 'LARS2': 89,\n",
       " 'LBR': 5,\n",
       " 'LCLAT1': 62,\n",
       " 'LIPC': 59,\n",
       " 'LIPE': 59,\n",
       " 'LIPF': 7,\n",
       " 'LIPG': 59,\n",
       " 'LPCAT3': 58,\n",
       " 'LPCAT4': 67,\n",
       " 'LPPR2': 34,\n",
       " 'LPPR3': 104,\n",
       " 'LPPR4': 58,\n",
       " 'LRAT': 57,\n",
       " 'LRTOMT': 8,\n",
       " 'LSS': 30,\n",
       " 'LTA4H': 22,\n",
       " 'LTC4S': 28,\n",
       " 'MAOA': 6,\n",
       " 'MAOB': 6,\n",
       " 'MARS': 95,\n",
       " 'MARS2': 81,\n",
       " 'MAT1A': 74,\n",
       " 'MAT2A': 102,\n",
       " 'MAT2B': 74,\n",
       " 'MBOAT1': 91,\n",
       " 'MBOAT2': 67,\n",
       " 'MBOAT7': 67,\n",
       " 'MCCC1': 90,\n",
       " 'MCCC2': 20,\n",
       " 'MCEE': 102,\n",
       " 'MDH1': 38,\n",
       " 'MDH2': 87,\n",
       " 'MGLL': 59,\n",
       " 'MGST1': 17,\n",
       " 'MGST2': 104,\n",
       " 'MGST3': 7,\n",
       " 'MINPP1': 85,\n",
       " 'MOGAT1': 61,\n",
       " 'MOGAT3': 66,\n",
       " 'MPI': 18,\n",
       " 'MRI1': 74,\n",
       " 'MSMO1': 5,\n",
       " 'MTAP': 74,\n",
       " 'MTHFD1': 103,\n",
       " 'MTHFD1L': 103,\n",
       " 'MTHFD2': 17,\n",
       " 'MTHFD2L': 104,\n",
       " 'MTHFR': 9,\n",
       " 'MTHFS': 8,\n",
       " 'MTMR14': 27,\n",
       " 'MTMR3': 27,\n",
       " 'MTR': 4,\n",
       " 'MUT': 102,\n",
       " 'MVD': 94,\n",
       " 'MVK': 94,\n",
       " 'NADSYN1': 72,\n",
       " 'NARS': 32,\n",
       " 'NARS2': 89,\n",
       " 'NDST1': 91,\n",
       " 'NDST2': 104,\n",
       " 'NDST3': 32,\n",
       " 'NDST4': 3,\n",
       " 'NEDD4L': 18,\n",
       " 'NME1': 19,\n",
       " 'NME2': 19,\n",
       " 'NME2P1': 19,\n",
       " 'NME3': 19,\n",
       " 'NME4': 19,\n",
       " 'NME5': 79,\n",
       " 'NME6': 79,\n",
       " 'NME7': 21,\n",
       " 'NMNAT1': 47,\n",
       " 'NMNAT2': 47,\n",
       " 'NMNAT3': 72,\n",
       " 'NOS1': 14,\n",
       " 'NOS2': 14,\n",
       " 'NOS3': 14,\n",
       " 'NSDHL': 5,\n",
       " 'NT5C1A': 45,\n",
       " 'NT5C1B': 85,\n",
       " 'NT5C2': 48,\n",
       " 'NT5C3A': 48,\n",
       " 'NT5E': 48,\n",
       " 'NTPCR': 79,\n",
       " 'OC90': 80,\n",
       " 'OCRL': 37,\n",
       " 'OGDH': 39,\n",
       " 'OPLAH': 105,\n",
       " 'OTC': 107,\n",
       " 'OXSM': 7,\n",
       " 'PADI1': 88,\n",
       " 'PADI2': 88,\n",
       " 'PADI3': 88,\n",
       " 'PADI4': 88,\n",
       " 'PADI6': 88,\n",
       " 'PAICS': 61,\n",
       " 'PANK1': 34,\n",
       " 'PANK2': 34,\n",
       " 'PANK3': 34,\n",
       " 'PAOX': 61,\n",
       " 'PARS2': 9,\n",
       " 'PC': 15,\n",
       " 'PCCA': 102,\n",
       " 'PCCB': 102,\n",
       " 'PCK1': 88,\n",
       " 'PCYT1A': 77,\n",
       " 'PCYT1B': 77,\n",
       " 'PCYT2': 12,\n",
       " 'PDHA1': 39,\n",
       " 'PDHA2': 39,\n",
       " 'PDHB': 39,\n",
       " 'PDSS1': 82,\n",
       " 'PDSS2': 82,\n",
       " 'PDXK': 42,\n",
       " 'PDXP': 42,\n",
       " 'PFAS': 77,\n",
       " 'PFKFB1': 24,\n",
       " 'PFKFB2': 24,\n",
       " 'PFKFB3': 24,\n",
       " 'PFKFB4': 24,\n",
       " 'PFKL': 22,\n",
       " 'PFKM': 39,\n",
       " 'PFKP': 93,\n",
       " 'PGAM1': 60,\n",
       " 'PGAM2': 39,\n",
       " 'PGD': 23,\n",
       " 'PGK1': 93,\n",
       " 'PGK2': 93,\n",
       " 'PGLS': 23,\n",
       " 'PGM1': 56,\n",
       " 'PGM2': 56,\n",
       " 'PGM3': 0,\n",
       " 'PHGDH': 28,\n",
       " 'PHOSPHO2': 42,\n",
       " 'PI4K2A': 84,\n",
       " 'PI4K2B': 84,\n",
       " 'PI4KA': 81,\n",
       " 'PI4KB': 32,\n",
       " 'PIK3C2A': 35,\n",
       " 'PIK3C2B': 61,\n",
       " 'PIK3C2G': 11,\n",
       " 'PIK3C3': 35,\n",
       " 'PIK3CA': 66,\n",
       " 'PIK3CB': 91,\n",
       " 'PIK3CD': 9,\n",
       " 'PIK3CG': 68,\n",
       " 'PIK3R1': 9,\n",
       " 'PIK3R2': 31,\n",
       " 'PIK3R3': 75,\n",
       " 'PIK3R4': 52,\n",
       " 'PIK3R5': 78,\n",
       " 'PIK3R6': 32,\n",
       " 'PIKFYVE': 81,\n",
       " 'PIP4K2A': 42,\n",
       " 'PIP4K2B': 84,\n",
       " 'PIP4K2C': 60,\n",
       " 'PIP5K1A': 84,\n",
       " 'PIP5K1B': 84,\n",
       " 'PIP5K1C': 84,\n",
       " 'PIP5KL1': 84,\n",
       " 'PIPOX': 15,\n",
       " 'PKLR': 93,\n",
       " 'PKM': 104,\n",
       " 'PLA2G10': 22,\n",
       " 'PLA2G12A': 20,\n",
       " 'PLA2G16': 80,\n",
       " 'PLA2G1B': 81,\n",
       " 'PLA2G2A': 75,\n",
       " 'PLA2G2D': 8,\n",
       " 'PLA2G2E': 30,\n",
       " 'PLA2G2F': 43,\n",
       " 'PLA2G3': 18,\n",
       " 'PLA2G4A': 75,\n",
       " 'PLA2G4B': 12,\n",
       " 'PLA2G4C': 65,\n",
       " 'PLA2G4D': 31,\n",
       " 'PLA2G4E': 23,\n",
       " 'PLA2G4F': 52,\n",
       " 'PLA2G5': 45,\n",
       " 'PLA2G6': 17,\n",
       " 'PLB1': 75,\n",
       " 'PLCB1': 35,\n",
       " 'PLCB2': 2,\n",
       " 'PLCB3': 2,\n",
       " 'PLCB4': 2,\n",
       " 'PLCD1': 35,\n",
       " 'PLCD3': 20,\n",
       " 'PLCD4': 2,\n",
       " 'PLCE1': 35,\n",
       " 'PLCG1': 2,\n",
       " 'PLCG2': 69,\n",
       " 'PLCH1': 2,\n",
       " 'PLCH2': 2,\n",
       " 'PLCZ1': 2,\n",
       " 'PLD1': 65,\n",
       " 'PLD2': 32,\n",
       " 'PLD3': 15,\n",
       " 'PLD4': 54,\n",
       " 'PLD6': 85,\n",
       " 'PMM1': 18,\n",
       " 'PMM2': 18,\n",
       " 'PMPCA': 29,\n",
       " 'PMVK': 94,\n",
       " 'PNLIP': 9,\n",
       " 'PNLIPRP2': 59,\n",
       " 'PNLIPRP3': 59,\n",
       " 'PNMT': 8,\n",
       " 'PNP': 48,\n",
       " 'PNPLA2': 59,\n",
       " 'PNPLA3': 59,\n",
       " 'PNPLA4': 59,\n",
       " 'PNPLA8': 77,\n",
       " 'PNPO': 42,\n",
       " 'POR': 81,\n",
       " 'PPAP2A': 77,\n",
       " 'PPAP2B': 58,\n",
       " 'PPAP2C': 58,\n",
       " 'PPAPDC1A': 58,\n",
       " 'PPAT': 77,\n",
       " 'PPCDC': 34,\n",
       " 'PPCS': 34,\n",
       " 'PPIP5K1': 9,\n",
       " 'PPIP5K2': 35,\n",
       " 'PPOX': 98,\n",
       " 'PSAT1': 28,\n",
       " 'PSPH': 69,\n",
       " 'PSTK': 68,\n",
       " 'PTEN': 35,\n",
       " 'PTGDS': 49,\n",
       " 'PTGES': 49,\n",
       " 'PTGES2': 49,\n",
       " 'PTGES3': 49,\n",
       " 'PTGIS': 49,\n",
       " 'PTGR1': 55,\n",
       " 'PTGS1': 49,\n",
       " 'PTGS2': 49,\n",
       " 'PYCR1': 15,\n",
       " 'PYGB': 60,\n",
       " 'PYGL': 46,\n",
       " 'PYGM': 87,\n",
       " 'QARS': 11,\n",
       " 'QPRT': 72,\n",
       " 'RARS': 89,\n",
       " 'RARS2': 9,\n",
       " 'RBP1': 26,\n",
       " 'RBP2': 57,\n",
       " 'RBP3': 88,\n",
       " 'RBP4': 57,\n",
       " 'RBP5': 26,\n",
       " 'RDH10': 57,\n",
       " 'RDH11': 69,\n",
       " 'RDH12': 60,\n",
       " 'RDH16': 26,\n",
       " 'RDH5': 82,\n",
       " 'RDH8': 57,\n",
       " 'RLBP1': 17,\n",
       " 'RNF216': 90,\n",
       " 'RPE': 23,\n",
       " 'RPE65': 22,\n",
       " 'RPIA': 23,\n",
       " 'RPP14': 7,\n",
       " 'RRM1': 79,\n",
       " 'RRM2': 79,\n",
       " 'RRM2B': 79,\n",
       " 'SACM1L': 23,\n",
       " 'SAMD8': 25,\n",
       " 'SARDH': 103,\n",
       " 'SARS': 68,\n",
       " 'SARS2': 89,\n",
       " 'SAT1': 44,\n",
       " 'SAT2': 44,\n",
       " 'SC5D': 30,\n",
       " 'SCD': 20,\n",
       " 'SCD5': 20,\n",
       " 'SCP2': 96,\n",
       " 'SDHA': 90,\n",
       " 'SDHB': 53,\n",
       " 'SDHC': 53,\n",
       " 'SDHD': 53,\n",
       " 'SDR16C5': 26,\n",
       " 'SDS': 24,\n",
       " 'SDSL': 24,\n",
       " 'SEPHS1': 68,\n",
       " 'SEPHS2': 68,\n",
       " 'SEPSECS': 68,\n",
       " 'SGMS1': 25,\n",
       " 'SGMS2': 25,\n",
       " 'SGPP1': 55,\n",
       " 'SGPP2': 55,\n",
       " 'SHMT1': 103,\n",
       " 'SHMT2': 103,\n",
       " 'SI': 31,\n",
       " 'SLC27A2': 41,\n",
       " 'SLC27A5': 99,\n",
       " 'SMOX': 44,\n",
       " 'SMPD1': 25,\n",
       " 'SMPD2': 25,\n",
       " 'SMPD3': 25,\n",
       " 'SMPD4': 25,\n",
       " 'SOD1': 13,\n",
       " 'SOD2': 13,\n",
       " 'SOD3': 18,\n",
       " 'SPAM1': 92,\n",
       " 'SPHK1': 55,\n",
       " 'SPHK2': 55,\n",
       " 'SPTLC1': 10,\n",
       " 'SPTLC2': 10,\n",
       " 'SPTLC3': 10,\n",
       " 'SPTSSA': 10,\n",
       " 'SQLE': 5,\n",
       " 'SRD5A1': 78,\n",
       " 'SRD5A2': 86,\n",
       " 'SRM': 74,\n",
       " 'SRR': 28,\n",
       " 'ST3GAL1': 50,\n",
       " 'ST3GAL2': 54,\n",
       " 'ST3GAL3': 101,\n",
       " 'ST3GAL4': 68,\n",
       " 'ST6GAL1': 101,\n",
       " 'ST6GAL2': 60,\n",
       " 'ST8SIA2': 101,\n",
       " 'SUCLA2': 53,\n",
       " 'SUCLG1': 53,\n",
       " 'SUCLG2': 53,\n",
       " 'SULT1A1': 6,\n",
       " 'SULT1A2': 40,\n",
       " 'SULT1A3': 6,\n",
       " 'SUOX': 30,\n",
       " 'SYNJ1': 51,\n",
       " 'SYNJ2': 37,\n",
       " 'TALDO1': 23,\n",
       " 'TARS': 75,\n",
       " 'TARS2': 43,\n",
       " 'TARSL2': 52,\n",
       " 'TAT': 95,\n",
       " 'TBXAS1': 49,\n",
       " 'TDO2': 36,\n",
       " 'TK1': 83,\n",
       " 'TK2': 83,\n",
       " 'TKT': 23,\n",
       " 'TM7SF2': 5,\n",
       " 'TMEM55A': 35,\n",
       " 'TMEM55B': 27,\n",
       " 'TPH1': 46,\n",
       " 'TPH2': 46,\n",
       " 'TPI1': 93,\n",
       " 'TPTE2': 27,\n",
       " 'TRPT1': 61,\n",
       " 'TSEN15': 61,\n",
       " 'TSEN2': 61,\n",
       " 'TSEN34': 61,\n",
       " 'TSEN54': 61,\n",
       " 'TYMS': 83,\n",
       " 'UAP1': 0,\n",
       " 'UBA1': 26,\n",
       " 'UBA3': 91,\n",
       " 'UBA5': 29,\n",
       " 'UBA6': 46,\n",
       " 'UBA7': 78,\n",
       " 'UBE2A': 78,\n",
       " 'UBE2B': 71,\n",
       " 'UBE2C': 71,\n",
       " 'UBE2D1': 95,\n",
       " 'UBE2D2': 15,\n",
       " 'UBE2D3': 71,\n",
       " 'UBE2D4': 83,\n",
       " 'UBE2E1': 81,\n",
       " 'UBE2E2': 76,\n",
       " 'UBE2E3': 68,\n",
       " 'UBE2G1': 20,\n",
       " 'UBE2G2': 71,\n",
       " 'UBE2H': 76,\n",
       " 'UBE2I': 52,\n",
       " 'UBE2J1': 80,\n",
       " 'UBE2J2': 97,\n",
       " 'UBE2K': 91,\n",
       " 'UBE2L3': 71,\n",
       " 'UBE2L6': 32,\n",
       " 'UBE2M': 8,\n",
       " 'UBE2N': 68,\n",
       " 'UBE2NL': 38,\n",
       " 'UBE2O': 105,\n",
       " 'UBE2Q1': 29,\n",
       " 'UBE2Q2': 80,\n",
       " 'UBE2QL1': 11,\n",
       " 'UBE2R2': 32,\n",
       " 'UBE2S': 46,\n",
       " 'UBE2T': 38,\n",
       " 'UBE2U': 71,\n",
       " 'UBE2V1': 8,\n",
       " 'UBE2V2': 82,\n",
       " 'UBE2W': 71,\n",
       " 'UBE2Z': 75,\n",
       " 'UBR1': 71,\n",
       " 'UEVLD': 71,\n",
       " 'UGP2': 56,\n",
       " 'UGT1A4': 73,\n",
       " 'UGT1A8': 22,\n",
       " 'UGT2B11': 73,\n",
       " 'UMPS': 32,\n",
       " 'UPB1': 45,\n",
       " 'UPP1': 45,\n",
       " 'UPP2': 45,\n",
       " 'UROC1': 38,\n",
       " 'UROD': 98,\n",
       " 'UROS': 98,\n",
       " 'UST': 16,\n",
       " 'VARS': 42,\n",
       " 'VARS2': 66,\n",
       " 'VPS29': 90,\n",
       " 'WARS': 11,\n",
       " 'WARS2': 91,\n",
       " 'WBSCR17': 66,\n",
       " 'XDH': 48,\n",
       " 'XYLT1': 33,\n",
       " 'XYLT2': 33,\n",
       " 'YARS': 22,\n",
       " 'YARS2': 89,\n",
       " 'creatine-phosphate biosynthesis Homo sapiens PWY-6158': 76,\n",
       " 'mitochondrial L-carnitine shuttle Homo sapiens PWY-6111': 65,\n",
       " \"pyridoxal 5'-phosphate salvage Homo sapiens PLPSAL-PWY\": 42,\n",
       " 'protein ubiquitylation Homo sapiens PWY-7511': 71,\n",
       " 'protein citrullination Homo sapiens PWY-4921': 88,\n",
       " 'inositol pyrophosphates biosynthesis Homo sapiens PWY-6369': 107,\n",
       " '1D-myo-inositol hexakisphosphate biosynthesis II (mammalian) Homo sapiens PWY-6362': 51,\n",
       " 'D-myo-inositol (1,3,4)-trisphosphate biosynthesis Homo sapiens PWY-6364': 51,\n",
       " 'superpathway of D-myo-inositol (1,4,5)-trisphosphate metabolism Homo sapiens PWY-6358': 37,\n",
       " 'D-myo-inositol (1,4,5)-trisphosphate degradation Homo sapiens PWY-6363': 37,\n",
       " '3-phosphoinositide degradation Homo sapiens PWY-6368': 27,\n",
       " 'superpathway of inositol phosphate compounds Homo sapiens PWY-6371': 35,\n",
       " '3-phosphoinositide biosynthesis Homo sapiens PWY-6352': 84,\n",
       " 'D-myo-inositol (1,4,5)-trisphosphate biosynthesis Homo sapiens PWY-6351': 84,\n",
       " 'D-myo-inositol-5-phosphate metabolism Homo sapiens PWY-6367': 2,\n",
       " 'phospholipases Homo sapiens LIPASYN-PWY': 2,\n",
       " 'superpathway of cholesterol biosynthesis Homo sapiens PWY66-5': 5,\n",
       " 'cholesterol biosynthesis III (via desmosterol) Homo sapiens PWY66-4': 5,\n",
       " 'cholesterol biosynthesis I Homo sapiens PWY66-341': 30,\n",
       " 'cholesterol biosynthesis II (via 24,25-dihydrolanosterol) Homo sapiens PWY66-3': 30,\n",
       " 'zymosterol biosynthesis Homo sapiens PWY-6074': 5,\n",
       " 'ketogenesis Homo sapiens PWY66-367': 85,\n",
       " 'mevalonate pathway Homo sapiens PWY-922': 94,\n",
       " 'superpathway of geranylgeranyldiphosphate biosynthesis I (via mevalonate) Homo sapiens PWY-5910': 94,\n",
       " 'GDP-mannose biosynthesis Homo sapiens PWY-5659': 18,\n",
       " 'TCA cycle Homo sapiens PWY66-398': 53,\n",
       " 'superpathway of conversion of glucose to acetyl CoA and entry into the TCA cycle Homo sapiens PWY66-407': 39,\n",
       " 'glycolysis Homo sapiens PWY66-400': 93,\n",
       " 'gluconeogenesis Homo sapiens PWY66-399': 87,\n",
       " 'sucrose degradation Homo sapiens PWY66-373': 31,\n",
       " 'GDP-glucose biosynthesis II Homo sapiens PWY-5661-1': 56,\n",
       " 'glycogen biosynthesis Homo sapiens PWY-5067': 56,\n",
       " 'glycogenolysis Homo sapiens PWY-5941': 87,\n",
       " 'D-galactose degradation V (Leloir pathway) Homo sapiens PWY66-422': 97,\n",
       " 'UDP-N-acetyl-D-glucosamine biosynthesis II Homo sapiens UDPNACETYLGALSYN-PWY': 0,\n",
       " 'UDP-N-acetyl-D-galactosamine biosynthesis II Homo sapiens PWY-5514': 0,\n",
       " 'methionine salvage cycle III Homo sapiens PWY-7527': 74,\n",
       " 'cysteine biosynthesis Homo sapiens PWY-6292': 102,\n",
       " 'pyruvate decarboxylation to acetyl CoA Homo sapiens PYRUVDEHYD-PWY': 39,\n",
       " 'superpathway of methionine degradation Homo sapiens PWY-5328': 102,\n",
       " '2-oxobutanoate degradation Homo sapiens PWY-5130': 102,\n",
       " 'threonine degradation Homo sapiens PWY66-428': 24,\n",
       " 'leucine degradation Homo sapiens LEU-DEG2-PWY': 70,\n",
       " 'isoleucine degradation Homo sapiens ILEUDEG-PWY': 70,\n",
       " 'valine degradation Homo sapiens VALDEG-PWY': 70,\n",
       " 'GABA shunt Homo sapiens GLUDEG-I-PWY': 4,\n",
       " 'glutathione redox reactions I Homo sapiens PWY-4081': 13,\n",
       " 'reactive oxygen species degradation Homo sapiens DETOX1-PWY-1': 13,\n",
       " 'palmitate biosynthesis Homo sapiens PWY-5994': 7,\n",
       " 'oleate biosynthesis Homo sapiens PWY-5996': 20,\n",
       " 'stearate biosynthesis Homo sapiens PWY-5972': 41,\n",
       " 'fatty acid &beta;-oxidation Homo sapiens FAO-PWY': 96,\n",
       " 'fatty acid &beta;-oxidation (peroxisome) Homo sapiens PWY66-391': 41,\n",
       " 'fatty acid activation Homo sapiens PWY-5143': 41,\n",
       " '&gamma;-linolenate biosynthesis Homo sapiens PWY-6000': 41,\n",
       " 'icosapentaenoate biosynthesis II (metazoa) Homo sapiens PWY-7049': 14,\n",
       " 'bile acid biosynthesis, neutral pathway Homo sapiens PWY-6061': 99,\n",
       " 'allopregnanolone biosynthesis Homo sapiens PWY-7455': 78,\n",
       " 'androgen biosynthesis Homo sapiens PWY66-378': 86,\n",
       " 'superpathway of steroid hormone biosynthesis Homo sapiens PWY-7305': 86,\n",
       " 'estradiol biosynthesis I Homo sapiens PWY66-380': 29,\n",
       " 'superpathway of tryptophan utilization Homo sapiens PWY66-401': 6,\n",
       " 'superpathway of melatonin degradation Homo sapiens PWY-6402': 40,\n",
       " 'melatonin degradation I Homo sapiens PWY-6398': 40,\n",
       " 'nicotine degradation IV Homo sapiens PWY66-201': 73,\n",
       " 'nicotine degradation III Homo sapiens PWY66-221': 73,\n",
       " ...}"
      ]
     },
     "execution_count": 434,
     "metadata": {},
     "output_type": "execute_result"
    }
   ],
   "source": [
    "cluster_mapping"
   ]
  },
  {
   "cell_type": "code",
   "execution_count": 429,
   "id": "c4104db2-bf3c-49ca-8add-9191ef91780b",
   "metadata": {},
   "outputs": [
    {
     "data": {
      "text/plain": [
       "[3,\n",
       " 72,\n",
       " 46,\n",
       " 17,\n",
       " 43,\n",
       " 4,\n",
       " 47,\n",
       " 58,\n",
       " 62,\n",
       " 97,\n",
       " 96,\n",
       " 29,\n",
       " 96,\n",
       " 69,\n",
       " 85,\n",
       " 94,\n",
       " 55,\n",
       " 75,\n",
       " 72,\n",
       " 53,\n",
       " 20,\n",
       " 7,\n",
       " 7,\n",
       " 7,\n",
       " 43,\n",
       " 99,\n",
       " 41,\n",
       " 41,\n",
       " 41,\n",
       " 41,\n",
       " 41,\n",
       " 96,\n",
       " 96,\n",
       " 47,\n",
       " 14,\n",
       " 14,\n",
       " 14,\n",
       " 90,\n",
       " 64,\n",
       " 64,\n",
       " 64,\n",
       " 48,\n",
       " 6,\n",
       " 8,\n",
       " 6,\n",
       " 74,\n",
       " 88,\n",
       " 75,\n",
       " 63,\n",
       " 106,\n",
       " 36,\n",
       " 104,\n",
       " 91,\n",
       " 67,\n",
       " 58,\n",
       " 67,\n",
       " 58,\n",
       " 54,\n",
       " 67,\n",
       " 81,\n",
       " 63,\n",
       " 1,\n",
       " 62,\n",
       " 1,\n",
       " 106,\n",
       " 1,\n",
       " 63,\n",
       " 69,\n",
       " 75,\n",
       " 65,\n",
       " 78,\n",
       " 78,\n",
       " 86,\n",
       " 78,\n",
       " 99,\n",
       " 98,\n",
       " 98,\n",
       " 98,\n",
       " 26,\n",
       " 26,\n",
       " 26,\n",
       " 44,\n",
       " 69,\n",
       " 17,\n",
       " 64,\n",
       " 44,\n",
       " 6,\n",
       " 44,\n",
       " 44,\n",
       " 4,\n",
       " 54,\n",
       " 15,\n",
       " 31,\n",
       " 31,\n",
       " 93,\n",
       " 100,\n",
       " 100,\n",
       " 100,\n",
       " 69,\n",
       " 100,\n",
       " 100,\n",
       " 28,\n",
       " 42,\n",
       " 99,\n",
       " 74,\n",
       " 38,\n",
       " 32,\n",
       " 64,\n",
       " 73,\n",
       " 74,\n",
       " 1,\n",
       " 107,\n",
       " 69,\n",
       " 55,\n",
       " 55,\n",
       " 55,\n",
       " 107,\n",
       " 46,\n",
       " 107,\n",
       " 17,\n",
       " 106,\n",
       " 1,\n",
       " 63,\n",
       " 63,\n",
       " 63,\n",
       " 1,\n",
       " 106,\n",
       " 63,\n",
       " 106,\n",
       " 106,\n",
       " 106,\n",
       " 106,\n",
       " 63,\n",
       " 63,\n",
       " 1,\n",
       " 80,\n",
       " 33,\n",
       " 33,\n",
       " 33,\n",
       " 33,\n",
       " 101,\n",
       " 50,\n",
       " 101,\n",
       " 91,\n",
       " 101,\n",
       " 33,\n",
       " 99,\n",
       " 70,\n",
       " 70,\n",
       " 70,\n",
       " 102,\n",
       " 85,\n",
       " 85,\n",
       " 60,\n",
       " 93,\n",
       " 24,\n",
       " 29,\n",
       " 65,\n",
       " 89,\n",
       " 62,\n",
       " 64,\n",
       " 25,\n",
       " 60,\n",
       " 72,\n",
       " 83,\n",
       " 95,\n",
       " 84,\n",
       " 101,\n",
       " 69,\n",
       " 67,\n",
       " 43,\n",
       " 38,\n",
       " 77,\n",
       " 10,\n",
       " 54,\n",
       " 26,\n",
       " 81,\n",
       " 75,\n",
       " 15,\n",
       " 77,\n",
       " 12,\n",
       " 77,\n",
       " 16,\n",
       " 16,\n",
       " 16,\n",
       " 80,\n",
       " 16,\n",
       " 16,\n",
       " 16,\n",
       " 16,\n",
       " 76,\n",
       " 76,\n",
       " 76,\n",
       " 76,\n",
       " 76,\n",
       " 21,\n",
       " 21,\n",
       " 105,\n",
       " 34,\n",
       " 8,\n",
       " 82,\n",
       " 82,\n",
       " 82,\n",
       " 82,\n",
       " 82,\n",
       " 98,\n",
       " 107,\n",
       " 65,\n",
       " 65,\n",
       " 65,\n",
       " 65,\n",
       " 65,\n",
       " 15,\n",
       " 80,\n",
       " 33,\n",
       " 20,\n",
       " 102,\n",
       " 21,\n",
       " 21,\n",
       " 43,\n",
       " 9,\n",
       " 80,\n",
       " 86,\n",
       " 86,\n",
       " 40,\n",
       " 47,\n",
       " 97,\n",
       " 99,\n",
       " 40,\n",
       " 47,\n",
       " 45,\n",
       " 64,\n",
       " 73,\n",
       " 99,\n",
       " 40,\n",
       " 40,\n",
       " 40,\n",
       " 5,\n",
       " 17,\n",
       " 99,\n",
       " 31,\n",
       " 43,\n",
       " 11,\n",
       " 70,\n",
       " 83,\n",
       " 60,\n",
       " 46,\n",
       " 10,\n",
       " 78,\n",
       " 58,\n",
       " 69,\n",
       " 52,\n",
       " 30,\n",
       " 30,\n",
       " 57,\n",
       " 57,\n",
       " 57,\n",
       " 72,\n",
       " 22,\n",
       " 22,\n",
       " 39,\n",
       " 70,\n",
       " 62,\n",
       " 103,\n",
       " 100,\n",
       " 28,\n",
       " 28,\n",
       " 100,\n",
       " 100,\n",
       " 100,\n",
       " 45,\n",
       " 45,\n",
       " 62,\n",
       " 21,\n",
       " 29,\n",
       " 89,\n",
       " 30,\n",
       " 70,\n",
       " 96,\n",
       " 85,\n",
       " 97,\n",
       " 14,\n",
       " 97,\n",
       " 43,\n",
       " 87,\n",
       " 45,\n",
       " 74,\n",
       " 25,\n",
       " 52,\n",
       " 12,\n",
       " 12,\n",
       " 12,\n",
       " 11,\n",
       " 60,\n",
       " 52,\n",
       " 3,\n",
       " 43,\n",
       " 14,\n",
       " 54,\n",
       " 20,\n",
       " 95,\n",
       " 10,\n",
       " 11,\n",
       " 85,\n",
       " 7,\n",
       " 87,\n",
       " 91,\n",
       " 30,\n",
       " 10,\n",
       " 43,\n",
       " 53,\n",
       " 90,\n",
       " 90,\n",
       " 73,\n",
       " 52,\n",
       " 73,\n",
       " 73,\n",
       " 73,\n",
       " 15,\n",
       " 38,\n",
       " 101,\n",
       " 87,\n",
       " 87,\n",
       " 87,\n",
       " 23,\n",
       " 4,\n",
       " 4,\n",
       " 97,\n",
       " 97,\n",
       " 97,\n",
       " 92,\n",
       " 52,\n",
       " 50,\n",
       " 29,\n",
       " 12,\n",
       " 52,\n",
       " 31,\n",
       " 50,\n",
       " 9,\n",
       " 9,\n",
       " 50,\n",
       " 50,\n",
       " 91,\n",
       " 80,\n",
       " 50,\n",
       " 54,\n",
       " 17,\n",
       " 7,\n",
       " 80,\n",
       " 97,\n",
       " 39,\n",
       " 87,\n",
       " 47,\n",
       " 34,\n",
       " 56,\n",
       " 0,\n",
       " 105,\n",
       " 105,\n",
       " 50,\n",
       " 46,\n",
       " 101,\n",
       " 50,\n",
       " 62,\n",
       " 81,\n",
       " 0,\n",
       " 11,\n",
       " 105,\n",
       " 12,\n",
       " 22,\n",
       " 105,\n",
       " 28,\n",
       " 105,\n",
       " 66,\n",
       " 66,\n",
       " 66,\n",
       " 66,\n",
       " 3,\n",
       " 4,\n",
       " 4,\n",
       " 4,\n",
       " 18,\n",
       " 18,\n",
       " 1,\n",
       " 0,\n",
       " 0,\n",
       " 0,\n",
       " 8,\n",
       " 72,\n",
       " 67,\n",
       " 67,\n",
       " 66,\n",
       " 18,\n",
       " 13,\n",
       " 13,\n",
       " 13,\n",
       " 90,\n",
       " 11,\n",
       " 13,\n",
       " 13,\n",
       " 13,\n",
       " 90,\n",
       " 105,\n",
       " 108,\n",
       " 83,\n",
       " 108,\n",
       " 108,\n",
       " 108,\n",
       " 31,\n",
       " 62,\n",
       " 60,\n",
       " 104,\n",
       " 12,\n",
       " 54,\n",
       " 104,\n",
       " 108,\n",
       " 11,\n",
       " 108,\n",
       " 108,\n",
       " 95,\n",
       " 19,\n",
       " 56,\n",
       " 38,\n",
       " 56,\n",
       " 56,\n",
       " 36,\n",
       " 96,\n",
       " 70,\n",
       " 96,\n",
       " 38,\n",
       " 17,\n",
       " 54,\n",
       " 92,\n",
       " 92,\n",
       " 95,\n",
       " 90,\n",
       " 104,\n",
       " 93,\n",
       " 93,\n",
       " 56,\n",
       " 0,\n",
       " 98,\n",
       " 85,\n",
       " 78,\n",
       " 94,\n",
       " 94,\n",
       " 94,\n",
       " 95,\n",
       " 49,\n",
       " 1,\n",
       " 47,\n",
       " 47,\n",
       " 83,\n",
       " 104,\n",
       " 3,\n",
       " 88,\n",
       " 47,\n",
       " 3,\n",
       " 76,\n",
       " 3,\n",
       " 3,\n",
       " 29,\n",
       " 96,\n",
       " 86,\n",
       " 86,\n",
       " 42,\n",
       " 5,\n",
       " 86,\n",
       " 86,\n",
       " 99,\n",
       " 92,\n",
       " 92,\n",
       " 29,\n",
       " 89,\n",
       " 53,\n",
       " 62,\n",
       " 62,\n",
       " 42,\n",
       " 94,\n",
       " 36,\n",
       " 36,\n",
       " 92,\n",
       " 92,\n",
       " 37,\n",
       " 37,\n",
       " 37,\n",
       " 48,\n",
       " 106,\n",
       " 95,\n",
       " 37,\n",
       " 27,\n",
       " 27,\n",
       " 51,\n",
       " 27,\n",
       " 51,\n",
       " 27,\n",
       " 37,\n",
       " 51,\n",
       " 51,\n",
       " 37,\n",
       " 107,\n",
       " 107,\n",
       " 107,\n",
       " 51,\n",
       " 35,\n",
       " 4,\n",
       " 76,\n",
       " 51,\n",
       " 51,\n",
       " 34,\n",
       " 24,\n",
       " 32,\n",
       " 10,\n",
       " 31,\n",
       " 36,\n",
       " 36,\n",
       " 89,\n",
       " 89,\n",
       " 5,\n",
       " 62,\n",
       " 59,\n",
       " 59,\n",
       " 7,\n",
       " 59,\n",
       " 58,\n",
       " 67,\n",
       " 34,\n",
       " 104,\n",
       " 58,\n",
       " 57,\n",
       " 8,\n",
       " 30,\n",
       " 22,\n",
       " 28,\n",
       " 6,\n",
       " 6,\n",
       " 95,\n",
       " 81,\n",
       " 74,\n",
       " 102,\n",
       " 74,\n",
       " 91,\n",
       " 67,\n",
       " 67,\n",
       " 90,\n",
       " 20,\n",
       " 102,\n",
       " 38,\n",
       " 87,\n",
       " 59,\n",
       " 17,\n",
       " 104,\n",
       " 7,\n",
       " 85,\n",
       " 61,\n",
       " 66,\n",
       " 18,\n",
       " 74,\n",
       " 5,\n",
       " 74,\n",
       " 103,\n",
       " 103,\n",
       " 17,\n",
       " 104,\n",
       " 9,\n",
       " 8,\n",
       " 27,\n",
       " 27,\n",
       " 4,\n",
       " 102,\n",
       " 94,\n",
       " 94,\n",
       " 72,\n",
       " 32,\n",
       " 89,\n",
       " 91,\n",
       " 104,\n",
       " 32,\n",
       " 3,\n",
       " 18,\n",
       " 19,\n",
       " 19,\n",
       " 19,\n",
       " 19,\n",
       " 19,\n",
       " 79,\n",
       " 79,\n",
       " 21,\n",
       " 47,\n",
       " 47,\n",
       " 72,\n",
       " 14,\n",
       " 14,\n",
       " 14,\n",
       " 5,\n",
       " 45,\n",
       " 85,\n",
       " 48,\n",
       " 48,\n",
       " 48,\n",
       " 79,\n",
       " 80,\n",
       " 37,\n",
       " 39,\n",
       " 105,\n",
       " 107,\n",
       " 7,\n",
       " 88,\n",
       " 88,\n",
       " 88,\n",
       " 88,\n",
       " 88,\n",
       " 61,\n",
       " 34,\n",
       " 34,\n",
       " 34,\n",
       " 61,\n",
       " 9,\n",
       " 15,\n",
       " 102,\n",
       " 102,\n",
       " 88,\n",
       " 77,\n",
       " 77,\n",
       " 12,\n",
       " 39,\n",
       " 39,\n",
       " 39,\n",
       " 82,\n",
       " 82,\n",
       " 42,\n",
       " 42,\n",
       " 77,\n",
       " 24,\n",
       " 24,\n",
       " 24,\n",
       " 24,\n",
       " 22,\n",
       " 39,\n",
       " 93,\n",
       " 60,\n",
       " 39,\n",
       " 23,\n",
       " 93,\n",
       " 93,\n",
       " 23,\n",
       " 56,\n",
       " 56,\n",
       " 0,\n",
       " 28,\n",
       " 42,\n",
       " 84,\n",
       " 84,\n",
       " 81,\n",
       " 32,\n",
       " 35,\n",
       " 61,\n",
       " 11,\n",
       " 35,\n",
       " 66,\n",
       " 91,\n",
       " 9,\n",
       " 68,\n",
       " 9,\n",
       " 31,\n",
       " 75,\n",
       " 52,\n",
       " 78,\n",
       " 32,\n",
       " 81,\n",
       " 42,\n",
       " 84,\n",
       " 60,\n",
       " 84,\n",
       " 84,\n",
       " 84,\n",
       " 84,\n",
       " 15,\n",
       " 93,\n",
       " 104,\n",
       " 22,\n",
       " 20,\n",
       " 80,\n",
       " 81,\n",
       " 75,\n",
       " 8,\n",
       " 30,\n",
       " 43,\n",
       " 18,\n",
       " 75,\n",
       " 12,\n",
       " 65,\n",
       " 31,\n",
       " 23,\n",
       " 52,\n",
       " 45,\n",
       " 17,\n",
       " 75,\n",
       " 35,\n",
       " 2,\n",
       " 2,\n",
       " 2,\n",
       " 35,\n",
       " 20,\n",
       " 2,\n",
       " 35,\n",
       " 2,\n",
       " 69,\n",
       " 2,\n",
       " 2,\n",
       " 2,\n",
       " 65,\n",
       " 32,\n",
       " 15,\n",
       " 54,\n",
       " 85,\n",
       " 18,\n",
       " 18,\n",
       " 29,\n",
       " 94,\n",
       " 9,\n",
       " 59,\n",
       " 59,\n",
       " 8,\n",
       " 48,\n",
       " 59,\n",
       " 59,\n",
       " 59,\n",
       " 77,\n",
       " 42,\n",
       " 81,\n",
       " 77,\n",
       " 58,\n",
       " 58,\n",
       " 58,\n",
       " 77,\n",
       " 34,\n",
       " 34,\n",
       " 9,\n",
       " 35,\n",
       " 98,\n",
       " 28,\n",
       " 69,\n",
       " 68,\n",
       " 35,\n",
       " 49,\n",
       " 49,\n",
       " 49,\n",
       " 49,\n",
       " 49,\n",
       " 55,\n",
       " 49,\n",
       " 49,\n",
       " 15,\n",
       " 60,\n",
       " 46,\n",
       " 87,\n",
       " 11,\n",
       " 72,\n",
       " 89,\n",
       " 9,\n",
       " 26,\n",
       " 57,\n",
       " 88,\n",
       " 57,\n",
       " 26,\n",
       " 57,\n",
       " 69,\n",
       " 60,\n",
       " 26,\n",
       " 82,\n",
       " 57,\n",
       " 17,\n",
       " 90,\n",
       " 23,\n",
       " 22,\n",
       " 23,\n",
       " 7,\n",
       " 79,\n",
       " 79,\n",
       " 79,\n",
       " 23,\n",
       " 25,\n",
       " 103,\n",
       " 68,\n",
       " 89,\n",
       " 44,\n",
       " 44,\n",
       " 30,\n",
       " 20,\n",
       " 20,\n",
       " 96,\n",
       " 90,\n",
       " 53,\n",
       " 53,\n",
       " 53,\n",
       " 26,\n",
       " 24,\n",
       " 24,\n",
       " 68,\n",
       " 68,\n",
       " 68,\n",
       " 25,\n",
       " 25,\n",
       " 55,\n",
       " 55,\n",
       " 103,\n",
       " 103,\n",
       " 31,\n",
       " 41,\n",
       " 99,\n",
       " 44,\n",
       " 25,\n",
       " 25,\n",
       " 25,\n",
       " 25,\n",
       " 13,\n",
       " 13,\n",
       " 18,\n",
       " 92,\n",
       " 55,\n",
       " 55,\n",
       " 10,\n",
       " 10,\n",
       " 10,\n",
       " 10,\n",
       " 5,\n",
       " 78,\n",
       " 86,\n",
       " 74,\n",
       " 28,\n",
       " 50,\n",
       " 54,\n",
       " 101,\n",
       " 68,\n",
       " 101,\n",
       " 60,\n",
       " 101,\n",
       " 53,\n",
       " 53,\n",
       " 53,\n",
       " 6,\n",
       " 40,\n",
       " 6,\n",
       " 30,\n",
       " 51,\n",
       " 37,\n",
       " 23,\n",
       " 75,\n",
       " 43,\n",
       " 52,\n",
       " 95,\n",
       " 49,\n",
       " 36,\n",
       " 83,\n",
       " 83,\n",
       " 23,\n",
       " 5,\n",
       " 35,\n",
       " 27,\n",
       " 46,\n",
       " 46,\n",
       " 93,\n",
       " 27,\n",
       " 61,\n",
       " 61,\n",
       " 61,\n",
       " 61,\n",
       " 61,\n",
       " 83,\n",
       " 0,\n",
       " 26,\n",
       " 91,\n",
       " 29,\n",
       " 46,\n",
       " 78,\n",
       " 78,\n",
       " 71,\n",
       " 71,\n",
       " 95,\n",
       " 15,\n",
       " 71,\n",
       " 83,\n",
       " 81,\n",
       " 76,\n",
       " 68,\n",
       " 20,\n",
       " 71,\n",
       " 76,\n",
       " 52,\n",
       " 80,\n",
       " 97,\n",
       " 91,\n",
       " 71,\n",
       " 32,\n",
       " 8,\n",
       " 68,\n",
       " 38,\n",
       " 105,\n",
       " 29,\n",
       " 80,\n",
       " 11,\n",
       " 32,\n",
       " 46,\n",
       " 38,\n",
       " 71,\n",
       " 8,\n",
       " 82,\n",
       " 71,\n",
       " 75,\n",
       " 71,\n",
       " 71,\n",
       " 56,\n",
       " 73,\n",
       " 22,\n",
       " 73,\n",
       " 32,\n",
       " 45,\n",
       " 45,\n",
       " 45,\n",
       " 38,\n",
       " 98,\n",
       " 98,\n",
       " 16,\n",
       " 42,\n",
       " 66,\n",
       " 90,\n",
       " 11,\n",
       " 91,\n",
       " 66,\n",
       " 48,\n",
       " 33,\n",
       " 33,\n",
       " 22,\n",
       " 89,\n",
       " 76,\n",
       " 65,\n",
       " 42,\n",
       " 71,\n",
       " 88,\n",
       " 107,\n",
       " 51,\n",
       " 51,\n",
       " 37,\n",
       " 37,\n",
       " 27,\n",
       " 35,\n",
       " 84,\n",
       " 84,\n",
       " 2,\n",
       " 2,\n",
       " 5,\n",
       " 5,\n",
       " 30,\n",
       " 30,\n",
       " 5,\n",
       " 85,\n",
       " 94,\n",
       " 94,\n",
       " 18,\n",
       " 53,\n",
       " 39,\n",
       " 93,\n",
       " 87,\n",
       " 31,\n",
       " 56,\n",
       " 56,\n",
       " 87,\n",
       " 97,\n",
       " 0,\n",
       " 0,\n",
       " 74,\n",
       " 102,\n",
       " 39,\n",
       " 102,\n",
       " 102,\n",
       " 24,\n",
       " 70,\n",
       " 70,\n",
       " 70,\n",
       " 4,\n",
       " 13,\n",
       " 13,\n",
       " 7,\n",
       " 20,\n",
       " 41,\n",
       " 96,\n",
       " 41,\n",
       " 41,\n",
       " 41,\n",
       " 14,\n",
       " 99,\n",
       " 78,\n",
       " 86,\n",
       " 86,\n",
       " 29,\n",
       " 6,\n",
       " 40,\n",
       " 40,\n",
       " 73,\n",
       " 73,\n",
       " ...]"
      ]
     },
     "execution_count": 429,
     "metadata": {},
     "output_type": "execute_result"
    }
   ],
   "source": [
    "list(cluster_mapping.values())"
   ]
  },
  {
   "cell_type": "code",
   "execution_count": 410,
   "id": "947e3ee8-ce0b-4009-adac-81d8e87000d3",
   "metadata": {},
   "outputs": [
    {
     "data": {
      "text/plain": [
       "[3,\n",
       " 72,\n",
       " 46,\n",
       " 17,\n",
       " 43,\n",
       " 4,\n",
       " 47,\n",
       " 58,\n",
       " 62,\n",
       " 97,\n",
       " 96,\n",
       " 29,\n",
       " 96,\n",
       " 69,\n",
       " 85,\n",
       " 94,\n",
       " 55,\n",
       " 75,\n",
       " 72,\n",
       " 53,\n",
       " 20,\n",
       " 7,\n",
       " 7,\n",
       " 7,\n",
       " 43,\n",
       " 99,\n",
       " 41,\n",
       " 41,\n",
       " 41,\n",
       " 41,\n",
       " 41,\n",
       " 96,\n",
       " 96,\n",
       " 47,\n",
       " 14,\n",
       " 14,\n",
       " 14,\n",
       " 90,\n",
       " 64,\n",
       " 64,\n",
       " 64,\n",
       " 48,\n",
       " 6,\n",
       " 8,\n",
       " 6,\n",
       " 74,\n",
       " 88,\n",
       " 75,\n",
       " 63,\n",
       " 106,\n",
       " 36,\n",
       " 104,\n",
       " 91,\n",
       " 67,\n",
       " 58,\n",
       " 67,\n",
       " 58,\n",
       " 54,\n",
       " 67,\n",
       " 81,\n",
       " 63,\n",
       " 1,\n",
       " 62,\n",
       " 1,\n",
       " 106,\n",
       " 1,\n",
       " 63,\n",
       " 69,\n",
       " 75,\n",
       " 65,\n",
       " 78,\n",
       " 78,\n",
       " 86,\n",
       " 78,\n",
       " 99,\n",
       " 98,\n",
       " 98,\n",
       " 98,\n",
       " 26,\n",
       " 26,\n",
       " 26,\n",
       " 44,\n",
       " 69,\n",
       " 17,\n",
       " 64,\n",
       " 44,\n",
       " 6,\n",
       " 44,\n",
       " 44,\n",
       " 4,\n",
       " 54,\n",
       " 15,\n",
       " 31,\n",
       " 31,\n",
       " 93,\n",
       " 100,\n",
       " 100,\n",
       " 100,\n",
       " 69,\n",
       " 100,\n",
       " 100,\n",
       " 28,\n",
       " 42,\n",
       " 99,\n",
       " 74,\n",
       " 38,\n",
       " 32,\n",
       " 64,\n",
       " 73,\n",
       " 74,\n",
       " 1,\n",
       " 107,\n",
       " 69,\n",
       " 55,\n",
       " 55,\n",
       " 55,\n",
       " 107,\n",
       " 46,\n",
       " 107,\n",
       " 17,\n",
       " 106,\n",
       " 1,\n",
       " 63,\n",
       " 63,\n",
       " 63,\n",
       " 1,\n",
       " 106,\n",
       " 63,\n",
       " 106,\n",
       " 106,\n",
       " 106,\n",
       " 106,\n",
       " 63,\n",
       " 63,\n",
       " 1,\n",
       " 80,\n",
       " 33,\n",
       " 33,\n",
       " 33,\n",
       " 33,\n",
       " 101,\n",
       " 50,\n",
       " 101,\n",
       " 91,\n",
       " 101,\n",
       " 33,\n",
       " 99,\n",
       " 70,\n",
       " 70,\n",
       " 70,\n",
       " 102,\n",
       " 85,\n",
       " 85,\n",
       " 60,\n",
       " 93,\n",
       " 24,\n",
       " 29,\n",
       " 65,\n",
       " 89,\n",
       " 62,\n",
       " 64,\n",
       " 25,\n",
       " 60,\n",
       " 72,\n",
       " 83,\n",
       " 95,\n",
       " 84,\n",
       " 101,\n",
       " 69,\n",
       " 67,\n",
       " 43,\n",
       " 38,\n",
       " 77,\n",
       " 10,\n",
       " 54,\n",
       " 26,\n",
       " 81,\n",
       " 75,\n",
       " 15,\n",
       " 77,\n",
       " 12,\n",
       " 77,\n",
       " 16,\n",
       " 16,\n",
       " 16,\n",
       " 80,\n",
       " 16,\n",
       " 16,\n",
       " 16,\n",
       " 16,\n",
       " 76,\n",
       " 76,\n",
       " 76,\n",
       " 76,\n",
       " 76,\n",
       " 21,\n",
       " 21,\n",
       " 105,\n",
       " 34,\n",
       " 8,\n",
       " 82,\n",
       " 82,\n",
       " 82,\n",
       " 82,\n",
       " 82,\n",
       " 98,\n",
       " 107,\n",
       " 65,\n",
       " 65,\n",
       " 65,\n",
       " 65,\n",
       " 65,\n",
       " 15,\n",
       " 80,\n",
       " 33,\n",
       " 20,\n",
       " 102,\n",
       " 21,\n",
       " 21,\n",
       " 43,\n",
       " 9,\n",
       " 80,\n",
       " 86,\n",
       " 86,\n",
       " 40,\n",
       " 47,\n",
       " 97,\n",
       " 99,\n",
       " 40,\n",
       " 47,\n",
       " 45,\n",
       " 64,\n",
       " 73,\n",
       " 99,\n",
       " 40,\n",
       " 40,\n",
       " 40,\n",
       " 5,\n",
       " 17,\n",
       " 99,\n",
       " 31,\n",
       " 43,\n",
       " 11,\n",
       " 70,\n",
       " 83,\n",
       " 60,\n",
       " 46,\n",
       " 10,\n",
       " 78,\n",
       " 58,\n",
       " 69,\n",
       " 52,\n",
       " 30,\n",
       " 30,\n",
       " 57,\n",
       " 57,\n",
       " 57,\n",
       " 72,\n",
       " 22,\n",
       " 22,\n",
       " 39,\n",
       " 70,\n",
       " 62,\n",
       " 103,\n",
       " 100,\n",
       " 28,\n",
       " 28,\n",
       " 100,\n",
       " 100,\n",
       " 100,\n",
       " 45,\n",
       " 45,\n",
       " 62,\n",
       " 21,\n",
       " 29,\n",
       " 89,\n",
       " 30,\n",
       " 70,\n",
       " 96,\n",
       " 85,\n",
       " 97,\n",
       " 14,\n",
       " 97,\n",
       " 43,\n",
       " 87,\n",
       " 45,\n",
       " 74,\n",
       " 25,\n",
       " 52,\n",
       " 12,\n",
       " 12,\n",
       " 12,\n",
       " 11,\n",
       " 60,\n",
       " 52,\n",
       " 3,\n",
       " 43,\n",
       " 14,\n",
       " 54,\n",
       " 20,\n",
       " 95,\n",
       " 10,\n",
       " 11,\n",
       " 85,\n",
       " 7,\n",
       " 87,\n",
       " 91,\n",
       " 30,\n",
       " 10,\n",
       " 43,\n",
       " 53,\n",
       " 90,\n",
       " 90,\n",
       " 73,\n",
       " 52,\n",
       " 73,\n",
       " 73,\n",
       " 73,\n",
       " 15,\n",
       " 38,\n",
       " 101,\n",
       " 87,\n",
       " 87,\n",
       " 87,\n",
       " 23,\n",
       " 4,\n",
       " 4,\n",
       " 97,\n",
       " 97,\n",
       " 97,\n",
       " 92,\n",
       " 52,\n",
       " 50,\n",
       " 29,\n",
       " 12,\n",
       " 52,\n",
       " 31,\n",
       " 50,\n",
       " 9,\n",
       " 9,\n",
       " 50,\n",
       " 50,\n",
       " 91,\n",
       " 80,\n",
       " 50,\n",
       " 54,\n",
       " 17,\n",
       " 7,\n",
       " 80,\n",
       " 97,\n",
       " 39,\n",
       " 87,\n",
       " 47,\n",
       " 34,\n",
       " 56,\n",
       " 0,\n",
       " 105,\n",
       " 105,\n",
       " 50,\n",
       " 46,\n",
       " 101,\n",
       " 50,\n",
       " 62,\n",
       " 81,\n",
       " 0,\n",
       " 11,\n",
       " 105,\n",
       " 12,\n",
       " 22,\n",
       " 105,\n",
       " 28,\n",
       " 105,\n",
       " 66,\n",
       " 66,\n",
       " 66,\n",
       " 66,\n",
       " 3,\n",
       " 4,\n",
       " 4,\n",
       " 4,\n",
       " 18,\n",
       " 18,\n",
       " 1,\n",
       " 0,\n",
       " 0,\n",
       " 0,\n",
       " 8,\n",
       " 72,\n",
       " 67,\n",
       " 67,\n",
       " 66,\n",
       " 18,\n",
       " 13,\n",
       " 13,\n",
       " 13,\n",
       " 90,\n",
       " 11,\n",
       " 13,\n",
       " 13,\n",
       " 13,\n",
       " 90,\n",
       " 105,\n",
       " 108,\n",
       " 83,\n",
       " 108,\n",
       " 108,\n",
       " 108,\n",
       " 31,\n",
       " 62,\n",
       " 60,\n",
       " 104,\n",
       " 12,\n",
       " 54,\n",
       " 104,\n",
       " 108,\n",
       " 11,\n",
       " 108,\n",
       " 108,\n",
       " 95,\n",
       " 19,\n",
       " 56,\n",
       " 38,\n",
       " 56,\n",
       " 56,\n",
       " 36,\n",
       " 96,\n",
       " 70,\n",
       " 96,\n",
       " 38,\n",
       " 17,\n",
       " 54,\n",
       " 92,\n",
       " 92,\n",
       " 95,\n",
       " 90,\n",
       " 104,\n",
       " 93,\n",
       " 93,\n",
       " 56,\n",
       " 0,\n",
       " 98,\n",
       " 85,\n",
       " 78,\n",
       " 94,\n",
       " 94,\n",
       " 94,\n",
       " 95,\n",
       " 49,\n",
       " 1,\n",
       " 47,\n",
       " 47,\n",
       " 83,\n",
       " 104,\n",
       " 3,\n",
       " 88,\n",
       " 47,\n",
       " 3,\n",
       " 76,\n",
       " 3,\n",
       " 3,\n",
       " 29,\n",
       " 96,\n",
       " 86,\n",
       " 86,\n",
       " 42,\n",
       " 5,\n",
       " 86,\n",
       " 86,\n",
       " 99,\n",
       " 92,\n",
       " 92,\n",
       " 29,\n",
       " 89,\n",
       " 53,\n",
       " 62,\n",
       " 62,\n",
       " 42,\n",
       " 94,\n",
       " 36,\n",
       " 36,\n",
       " 92,\n",
       " 92,\n",
       " 37,\n",
       " 37,\n",
       " 37,\n",
       " 48,\n",
       " 106,\n",
       " 95,\n",
       " 37,\n",
       " 27,\n",
       " 27,\n",
       " 51,\n",
       " 27,\n",
       " 51,\n",
       " 27,\n",
       " 37,\n",
       " 51,\n",
       " 51,\n",
       " 37,\n",
       " 107,\n",
       " 107,\n",
       " 107,\n",
       " 51,\n",
       " 35,\n",
       " 4,\n",
       " 76,\n",
       " 51,\n",
       " 51,\n",
       " 34,\n",
       " 24,\n",
       " 32,\n",
       " 10,\n",
       " 31,\n",
       " 36,\n",
       " 36,\n",
       " 89,\n",
       " 89,\n",
       " 5,\n",
       " 62,\n",
       " 59,\n",
       " 59,\n",
       " 7,\n",
       " 59,\n",
       " 58,\n",
       " 67,\n",
       " 34,\n",
       " 104,\n",
       " 58,\n",
       " 57,\n",
       " 8,\n",
       " 30,\n",
       " 22,\n",
       " 28,\n",
       " 6,\n",
       " 6,\n",
       " 95,\n",
       " 81,\n",
       " 74,\n",
       " 102,\n",
       " 74,\n",
       " 91,\n",
       " 67,\n",
       " 67,\n",
       " 90,\n",
       " 20,\n",
       " 102,\n",
       " 38,\n",
       " 87,\n",
       " 59,\n",
       " 17,\n",
       " 104,\n",
       " 7,\n",
       " 85,\n",
       " 61,\n",
       " 66,\n",
       " 18,\n",
       " 74,\n",
       " 5,\n",
       " 74,\n",
       " 103,\n",
       " 103,\n",
       " 17,\n",
       " 104,\n",
       " 9,\n",
       " 8,\n",
       " 27,\n",
       " 27,\n",
       " 4,\n",
       " 102,\n",
       " 94,\n",
       " 94,\n",
       " 72,\n",
       " 32,\n",
       " 89,\n",
       " 91,\n",
       " 104,\n",
       " 32,\n",
       " 3,\n",
       " 18,\n",
       " 19,\n",
       " 19,\n",
       " 19,\n",
       " 19,\n",
       " 19,\n",
       " 79,\n",
       " 79,\n",
       " 21,\n",
       " 47,\n",
       " 47,\n",
       " 72,\n",
       " 14,\n",
       " 14,\n",
       " 14,\n",
       " 5,\n",
       " 45,\n",
       " 85,\n",
       " 48,\n",
       " 48,\n",
       " 48,\n",
       " 79,\n",
       " 80,\n",
       " 37,\n",
       " 39,\n",
       " 105,\n",
       " 107,\n",
       " 7,\n",
       " 88,\n",
       " 88,\n",
       " 88,\n",
       " 88,\n",
       " 88,\n",
       " 61,\n",
       " 34,\n",
       " 34,\n",
       " 34,\n",
       " 61,\n",
       " 9,\n",
       " 15,\n",
       " 102,\n",
       " 102,\n",
       " 88,\n",
       " 77,\n",
       " 77,\n",
       " 12,\n",
       " 39,\n",
       " 39,\n",
       " 39,\n",
       " 82,\n",
       " 82,\n",
       " 42,\n",
       " 42,\n",
       " 77,\n",
       " 24,\n",
       " 24,\n",
       " 24,\n",
       " 24,\n",
       " 22,\n",
       " 39,\n",
       " 93,\n",
       " 60,\n",
       " 39,\n",
       " 23,\n",
       " 93,\n",
       " 93,\n",
       " 23,\n",
       " 56,\n",
       " 56,\n",
       " 0,\n",
       " 28,\n",
       " 42,\n",
       " 84,\n",
       " 84,\n",
       " 81,\n",
       " 32,\n",
       " 35,\n",
       " 61,\n",
       " 11,\n",
       " 35,\n",
       " 66,\n",
       " 91,\n",
       " 9,\n",
       " 68,\n",
       " 9,\n",
       " 31,\n",
       " 75,\n",
       " 52,\n",
       " 78,\n",
       " 32,\n",
       " 81,\n",
       " 42,\n",
       " 84,\n",
       " 60,\n",
       " 84,\n",
       " 84,\n",
       " 84,\n",
       " 84,\n",
       " 15,\n",
       " 93,\n",
       " 104,\n",
       " 22,\n",
       " 20,\n",
       " 80,\n",
       " 81,\n",
       " 75,\n",
       " 8,\n",
       " 30,\n",
       " 43,\n",
       " 18,\n",
       " 75,\n",
       " 12,\n",
       " 65,\n",
       " 31,\n",
       " 23,\n",
       " 52,\n",
       " 45,\n",
       " 17,\n",
       " 75,\n",
       " 35,\n",
       " 2,\n",
       " 2,\n",
       " 2,\n",
       " 35,\n",
       " 20,\n",
       " 2,\n",
       " 35,\n",
       " 2,\n",
       " 69,\n",
       " 2,\n",
       " 2,\n",
       " 2,\n",
       " 65,\n",
       " 32,\n",
       " 15,\n",
       " 54,\n",
       " 85,\n",
       " 18,\n",
       " 18,\n",
       " 29,\n",
       " 94,\n",
       " 9,\n",
       " 59,\n",
       " 59,\n",
       " 8,\n",
       " 48,\n",
       " 59,\n",
       " 59,\n",
       " 59,\n",
       " 77,\n",
       " 42,\n",
       " 81,\n",
       " 77,\n",
       " 58,\n",
       " 58,\n",
       " 58,\n",
       " 77,\n",
       " 34,\n",
       " 34,\n",
       " 9,\n",
       " 35,\n",
       " 98,\n",
       " 28,\n",
       " 69,\n",
       " 68,\n",
       " 35,\n",
       " 49,\n",
       " 49,\n",
       " 49,\n",
       " 49,\n",
       " 49,\n",
       " 55,\n",
       " 49,\n",
       " 49,\n",
       " 15,\n",
       " 60,\n",
       " 46,\n",
       " 87,\n",
       " 11,\n",
       " 72,\n",
       " 89,\n",
       " 9,\n",
       " 26,\n",
       " 57,\n",
       " 88,\n",
       " 57,\n",
       " 26,\n",
       " 57,\n",
       " 69,\n",
       " 60,\n",
       " 26,\n",
       " 82,\n",
       " 57,\n",
       " 17,\n",
       " 90,\n",
       " 23,\n",
       " 22,\n",
       " 23,\n",
       " 7,\n",
       " 79,\n",
       " 79,\n",
       " 79,\n",
       " 23,\n",
       " 25,\n",
       " 103,\n",
       " 68,\n",
       " 89,\n",
       " 44,\n",
       " 44,\n",
       " 30,\n",
       " 20,\n",
       " 20,\n",
       " 96,\n",
       " 90,\n",
       " 53,\n",
       " 53,\n",
       " 53,\n",
       " 26,\n",
       " 24,\n",
       " 24,\n",
       " 68,\n",
       " 68,\n",
       " 68,\n",
       " 25,\n",
       " 25,\n",
       " 55,\n",
       " 55,\n",
       " 103,\n",
       " 103,\n",
       " 31,\n",
       " 41,\n",
       " 99,\n",
       " 44,\n",
       " 25,\n",
       " 25,\n",
       " 25,\n",
       " 25,\n",
       " 13,\n",
       " 13,\n",
       " 18,\n",
       " 92,\n",
       " 55,\n",
       " 55,\n",
       " 10,\n",
       " 10,\n",
       " 10,\n",
       " 10,\n",
       " 5,\n",
       " 78,\n",
       " 86,\n",
       " 74,\n",
       " 28,\n",
       " 50,\n",
       " 54,\n",
       " 101,\n",
       " 68,\n",
       " 101,\n",
       " 60,\n",
       " 101,\n",
       " 53,\n",
       " 53,\n",
       " 53,\n",
       " 6,\n",
       " 40,\n",
       " 6,\n",
       " 30,\n",
       " 51,\n",
       " 37,\n",
       " 23,\n",
       " 75,\n",
       " 43,\n",
       " 52,\n",
       " 95,\n",
       " 49,\n",
       " 36,\n",
       " 83,\n",
       " 83,\n",
       " 23,\n",
       " 5,\n",
       " 35,\n",
       " 27,\n",
       " 46,\n",
       " 46,\n",
       " 93,\n",
       " 27,\n",
       " 61,\n",
       " 61,\n",
       " 61,\n",
       " 61,\n",
       " 61,\n",
       " 83,\n",
       " 0,\n",
       " 26,\n",
       " 91,\n",
       " 29,\n",
       " 46,\n",
       " 78,\n",
       " 78,\n",
       " 71,\n",
       " 71,\n",
       " 95,\n",
       " 15,\n",
       " 71,\n",
       " 83,\n",
       " 81,\n",
       " 76,\n",
       " 68,\n",
       " 20,\n",
       " 71,\n",
       " 76,\n",
       " 52,\n",
       " 80,\n",
       " 97,\n",
       " 91,\n",
       " 71,\n",
       " 32,\n",
       " 8,\n",
       " 68,\n",
       " 38,\n",
       " 105,\n",
       " 29,\n",
       " 80,\n",
       " 11,\n",
       " 32,\n",
       " 46,\n",
       " 38,\n",
       " 71,\n",
       " 8,\n",
       " 82,\n",
       " 71,\n",
       " 75,\n",
       " 71,\n",
       " 71,\n",
       " 56,\n",
       " 73,\n",
       " 22,\n",
       " 73,\n",
       " 32,\n",
       " 45,\n",
       " 45,\n",
       " 45,\n",
       " 38,\n",
       " 98,\n",
       " 98,\n",
       " 16,\n",
       " 42,\n",
       " 66,\n",
       " 90,\n",
       " 11,\n",
       " 91,\n",
       " 66,\n",
       " 48,\n",
       " 33,\n",
       " 33,\n",
       " 22,\n",
       " 89,\n",
       " 76,\n",
       " 65,\n",
       " 42,\n",
       " 71,\n",
       " 88,\n",
       " 107,\n",
       " 51,\n",
       " 51,\n",
       " 37,\n",
       " 37,\n",
       " 27,\n",
       " 35,\n",
       " 84,\n",
       " 84,\n",
       " 2,\n",
       " 2,\n",
       " 5,\n",
       " 5,\n",
       " 30,\n",
       " 30,\n",
       " 5,\n",
       " 85,\n",
       " 94,\n",
       " 94,\n",
       " 18,\n",
       " 53,\n",
       " 39,\n",
       " 93,\n",
       " 87,\n",
       " 31,\n",
       " 56,\n",
       " 56,\n",
       " 87,\n",
       " 97,\n",
       " 0,\n",
       " 0,\n",
       " 74,\n",
       " 102,\n",
       " 39,\n",
       " 102,\n",
       " 102,\n",
       " 24,\n",
       " 70,\n",
       " 70,\n",
       " 70,\n",
       " 4,\n",
       " 13,\n",
       " 13,\n",
       " 7,\n",
       " 20,\n",
       " 41,\n",
       " 96,\n",
       " 41,\n",
       " 41,\n",
       " 41,\n",
       " 14,\n",
       " 99,\n",
       " 78,\n",
       " 86,\n",
       " 86,\n",
       " 29,\n",
       " 6,\n",
       " 40,\n",
       " 40,\n",
       " 73,\n",
       " 73,\n",
       " ...]"
      ]
     },
     "execution_count": 410,
     "metadata": {},
     "output_type": "execute_result"
    }
   ],
   "source": [
    "list(cluster_mapping.values())"
   ]
  },
  {
   "cell_type": "code",
   "execution_count": 407,
   "id": "b05d1236-32d6-4ead-ae90-6640a520b876",
   "metadata": {},
   "outputs": [
    {
     "data": {
      "text/plain": [
       "82"
      ]
     },
     "execution_count": 407,
     "metadata": {},
     "output_type": "execute_result"
    }
   ],
   "source": [
    "col_index"
   ]
  },
  {
   "cell_type": "code",
   "execution_count": 362,
   "id": "ef162b7c-ffd0-45e7-93b6-8f91271459e7",
   "metadata": {},
   "outputs": [
    {
     "data": {
      "text/plain": [
       "<matplotlib.image.AxesImage at 0x7fda81e90e50>"
      ]
     },
     "execution_count": 362,
     "metadata": {},
     "output_type": "execute_result"
    },
    {
     "data": {
      "image/png": "[encoded data removed]",
      "text/plain": [
       "<Figure size 432x288 with 1 Axes>"
      ]
     },
     "metadata": {
      "needs_background": "light"
     },
     "output_type": "display_data"
    }
   ],
   "source": [
    "plt.imshow(pairwise_distances[np.argsort(embedded)][:,np.argsort(embedded)])"
   ]
  },
  {
   "cell_type": "code",
   "execution_count": 398,
   "id": "82107c2c-e03f-4b32-837f-ea4b30ffc412",
   "metadata": {},
   "outputs": [
    {
     "data": {
      "text/plain": [
       "<matplotlib.collections.PathCollection at 0x7fda7e5b9430>"
      ]
     },
     "execution_count": 398,
     "metadata": {},
     "output_type": "execute_result"
    },
    {
     "data": {
      "image/png": "[encoded data removed]",
      "text/plain": [
       "<Figure size 1080x1080 with 1 Axes>"
      ]
     },
     "metadata": {
      "needs_background": "light"
     },
     "output_type": "display_data"
    }
   ],
   "source": [
    "plt.figure(figsize=(15,15))\n",
    "\n",
    "embedding2 = SpectralEmbedding(1)\n",
    "embedding2 = embedding2.fit_transform(out)\n",
    "plt.scatter(embedding2.ravel(), y = np.repeat(1, len(embedding2.ravel())), s = 5, c =(np.argsort(embedded)<5))"
   ]
  },
  {
   "cell_type": "code",
   "execution_count": 383,
   "id": "0d517131-69d8-4daf-aeee-b70c7557be49",
   "metadata": {},
   "outputs": [
    {
     "data": {
      "text/plain": [
       "<matplotlib.collections.PathCollection at 0x7fda809adf40>"
      ]
     },
     "execution_count": 383,
     "metadata": {},
     "output_type": "execute_result"
    },
    {
     "data": {
      "image/png": "[encoded data removed]",
      "text/plain": [
       "<Figure size 1080x1080 with 1 Axes>"
      ]
     },
     "metadata": {
      "needs_background": "light"
     },
     "output_type": "display_data"
    }
   ],
   "source": [
    "plt.figure(figsize=(15,15))\n",
    "\n",
    "embedding2 = SpectralEmbedding(1)\n",
    "embedding2 = embedding2.fit_transform(out)\n",
    "plt.scatter(embedding2[:,0], embedding2[:,1], s = 20, c =(np.argsort(embedded)>40) & (np.argsort(embedded)<50))"
   ]
  },
  {
   "cell_type": "code",
   "execution_count": null,
   "id": "eb3ecdbf-6f1d-426e-9d04-7f26d7309c1a",
   "metadata": {},
   "outputs": [],
   "source": [
    "# iteratively merge the two closest clusters; then re-compute distances then merge again until some threshold\n",
    "# what about non-connected components for the spectral clustering?\n",
    "# show for different K's \n",
    "# plot K by average loss per cluster\n",
    "# merge similar clusters\n",
    "# then plot with spring layout (run on unconnected clusters separately)\n",
    "# only show the leading edge genes as nodes to keep cleaner?"
   ]
  },
  {
   "cell_type": "code",
   "execution_count": null,
   "id": "943676ab-5648-4066-a649-7b8310581488",
   "metadata": {},
   "outputs": [],
   "source": []
  },
  {
   "cell_type": "code",
   "execution_count": 222,
   "id": "afbc8dd9-7ed1-4af4-b8e0-508d95bb79ba",
   "metadata": {},
   "outputs": [],
   "source": [
    "np.fill_diagonal(pairwise_distances, np.inf)"
   ]
  },
  {
   "cell_type": "code",
   "execution_count": 223,
   "id": "96f93d59-ea30-416d-a3c0-0aeff4d3b5c8",
   "metadata": {},
   "outputs": [],
   "source": [
    "min_index = np.argmin(pairwise_distances)"
   ]
  },
  {
   "cell_type": "code",
   "execution_count": 224,
   "id": "2742bedd-4034-495f-9a38-a4bf080c8617",
   "metadata": {},
   "outputs": [],
   "source": [
    "row_index = min_index//pairwise_distances.shape[1]\n",
    "col_index = min_index%pairwise_distances.shape[1]"
   ]
  },
  {
   "cell_type": "code",
   "execution_count": 225,
   "id": "5c9ab2f0-1dff-4081-9f51-93754d721774",
   "metadata": {},
   "outputs": [
    {
     "data": {
      "text/plain": [
       "0.0"
      ]
     },
     "execution_count": 225,
     "metadata": {},
     "output_type": "execute_result"
    }
   ],
   "source": [
    "pairwise_distances[row_index,col_index]"
   ]
  },
  {
   "cell_type": "code",
   "execution_count": 234,
   "id": "997a9dba-a3e3-40a6-8299-6e952173fe13",
   "metadata": {},
   "outputs": [
    {
     "data": {
      "text/plain": [
       "1"
      ]
     },
     "execution_count": 234,
     "metadata": {},
     "output_type": "execute_result"
    }
   ],
   "source": [
    "row_index"
   ]
  },
  {
   "cell_type": "code",
   "execution_count": 262,
   "id": "af9ebbde-9102-457e-95b9-c19e052bfc9e",
   "metadata": {},
   "outputs": [
    {
     "data": {
      "text/plain": [
       "<matplotlib.image.AxesImage at 0x7fda8cf5b5e0>"
      ]
     },
     "execution_count": 262,
     "metadata": {},
     "output_type": "execute_result"
    },
    {
     "data": {
      "image/png": "[encoded data removed]",
      "text/plain": [
       "<Figure size 720x720 with 1 Axes>"
      ]
     },
     "metadata": {
      "needs_background": "light"
     },
     "output_type": "display_data"
    }
   ],
   "source": [
    "plt.figure(figsize=(10,10))\n",
    "\n",
    "plt.imshow(out)"
   ]
  },
  {
   "cell_type": "code",
   "execution_count": 252,
   "id": "2df3f7f0-75e4-4e22-a63a-72d2bf6f14ed",
   "metadata": {},
   "outputs": [
    {
     "data": {
      "text/plain": [
       "-0.02760093749015082"
      ]
     },
     "execution_count": 252,
     "metadata": {},
     "output_type": "execute_result"
    }
   ],
   "source": [
    "embedded.ravel()[5]"
   ]
  },
  {
   "cell_type": "code",
   "execution_count": 249,
   "id": "b0709ec4-1cae-4acb-98e2-c0cab64d0497",
   "metadata": {},
   "outputs": [
    {
     "data": {
      "text/plain": [
       "-0.017846668149981433"
      ]
     },
     "execution_count": 249,
     "metadata": {},
     "output_type": "execute_result"
    }
   ],
   "source": [
    "embedded.ravel()[9]"
   ]
  },
  {
   "cell_type": "code",
   "execution_count": 242,
   "id": "380f76ae-4998-4c6a-affc-8fce6c4fdafd",
   "metadata": {},
   "outputs": [
    {
     "data": {
      "text/plain": [
       "array([ 0., 21.,  0.,  0.,  0.,  0.,  0.,  0.,  0.,  0.,  0.,  0.,  0.,\n",
       "        0.,  0.,  0.,  0.,  0.,  0.,  0.,  0.,  0.,  0.,  0.,  0.,  0.,\n",
       "        0.,  0.,  0.,  0.,  0.,  0.,  0.,  0.,  0.,  0.,  0.,  0.,  0.,\n",
       "        0.,  0.,  0.,  0.,  0.,  0.,  0.,  0.,  0.,  0.,  0.,  0.,  0.,\n",
       "        0.,  0.,  0.])"
      ]
     },
     "execution_count": 242,
     "metadata": {},
     "output_type": "execute_result"
    }
   ],
   "source": [
    "out[1]"
   ]
  },
  {
   "cell_type": "code",
   "execution_count": 243,
   "id": "9e4cf8bf-1d05-4089-94d6-1f3a25ea9fe2",
   "metadata": {},
   "outputs": [
    {
     "data": {
      "text/plain": [
       "array([ 0.,  0.,  0.,  0.,  0.,  0.,  0.,  0.,  0., 29.,  0.,  0.,  0.,\n",
       "        0.,  0.,  0.,  0.,  0.,  0.,  0.,  0.,  0.,  0.,  0.,  0.,  0.,\n",
       "        0.,  0.,  0.,  0.,  0.,  0.,  0.,  0.,  0.,  0.,  0.,  0.,  0.,\n",
       "        0.,  0.,  0.,  0.,  0.,  0.,  0.,  0.,  0.,  0.,  0.,  0.,  0.,\n",
       "        0.,  0.,  0.])"
      ]
     },
     "execution_count": 243,
     "metadata": {},
     "output_type": "execute_result"
    }
   ],
   "source": [
    "out[:,9]"
   ]
  },
  {
   "cell_type": "code",
   "execution_count": 236,
   "id": "e631f6fb-b36a-4c01-9199-cfccfec926fd",
   "metadata": {},
   "outputs": [
    {
     "data": {
      "text/plain": [
       "array([1.03216603e-01,            inf, 1.04083409e-17, 4.48995754e-02,\n",
       "       1.80971451e-02, 9.75426934e-03, 1.80971451e-02, 5.53736193e-03,\n",
       "       2.10024475e-02, 0.00000000e+00, 6.93889390e-17, 5.76777771e-02,\n",
       "       5.55063280e-02, 7.40167453e-02, 5.89805982e-17, 4.85722573e-17,\n",
       "       2.08166817e-17, 7.97972799e-17, 3.81639165e-17, 1.32047598e-01,\n",
       "       1.04083409e-17, 3.14172141e-03, 9.71489930e-03, 1.22337828e-01,\n",
       "       2.26420025e-02, 1.82172376e-02, 2.91857801e-02, 1.29315858e-01,\n",
       "       9.75426934e-03, 3.81639165e-17, 3.51829686e-01, 5.18927839e-02,\n",
       "       2.92233588e-01, 6.93889390e-17, 4.85722573e-17, 1.42622083e-01,\n",
       "       9.75426934e-03, 1.49487715e-01, 1.29315858e-01, 6.19200106e-02,\n",
       "       5.89805982e-17, 5.53736193e-03, 7.20016967e-04, 0.00000000e+00,\n",
       "       3.81639165e-17, 2.08166817e-17, 1.25587417e-02, 2.18568834e-01,\n",
       "       1.21346476e-02, 1.32810052e-02, 6.93889390e-17, 3.81639165e-17,\n",
       "       1.21346476e-02, 9.02056208e-17, 1.17961196e-16])"
      ]
     },
     "execution_count": 236,
     "metadata": {},
     "output_type": "execute_result"
    }
   ],
   "source": [
    "pairwise_distances[1]"
   ]
  },
  {
   "cell_type": "code",
   "execution_count": 237,
   "id": "0db7fe1e-19e4-409a-bc9f-2ef09727a4b5",
   "metadata": {},
   "outputs": [
    {
     "data": {
      "text/plain": [
       "array([1.03216603e-01, 0.00000000e+00, 1.04083409e-17, 4.48995754e-02,\n",
       "       1.80971451e-02, 9.75426934e-03, 1.80971451e-02, 5.53736193e-03,\n",
       "       2.10024475e-02,            inf, 6.93889390e-17, 5.76777771e-02,\n",
       "       5.55063280e-02, 7.40167453e-02, 5.89805982e-17, 4.85722573e-17,\n",
       "       2.08166817e-17, 7.97972799e-17, 3.81639165e-17, 1.32047598e-01,\n",
       "       1.04083409e-17, 3.14172141e-03, 9.71489930e-03, 1.22337828e-01,\n",
       "       2.26420025e-02, 1.82172376e-02, 2.91857801e-02, 1.29315858e-01,\n",
       "       9.75426934e-03, 3.81639165e-17, 3.51829686e-01, 5.18927839e-02,\n",
       "       2.92233588e-01, 6.93889390e-17, 4.85722573e-17, 1.42622083e-01,\n",
       "       9.75426934e-03, 1.49487715e-01, 1.29315858e-01, 6.19200106e-02,\n",
       "       5.89805982e-17, 5.53736193e-03, 7.20016967e-04, 0.00000000e+00,\n",
       "       3.81639165e-17, 2.08166817e-17, 1.25587417e-02, 2.18568834e-01,\n",
       "       1.21346476e-02, 1.32810052e-02, 6.93889390e-17, 3.81639165e-17,\n",
       "       1.21346476e-02, 9.02056208e-17, 1.17961196e-16])"
      ]
     },
     "execution_count": 237,
     "metadata": {},
     "output_type": "execute_result"
    }
   ],
   "source": [
    "pairwise_distances[:,9]"
   ]
  },
  {
   "cell_type": "code",
   "execution_count": 233,
   "id": "224060d2-ca18-48fe-bbae-edaa1105a151",
   "metadata": {},
   "outputs": [
    {
     "data": {
      "text/plain": [
       "array([[0.00000000e+00, 1.03216603e-01, 1.03216603e-01, ...,\n",
       "        1.15351251e-01, 1.03216603e-01, 1.03216603e-01],\n",
       "       [1.03216603e-01, 0.00000000e+00, 2.08166817e-17, ...,\n",
       "        1.21346476e-02, 1.42247325e-16, 1.04083409e-16],\n",
       "       [1.03216603e-01, 2.08166817e-17, 0.00000000e+00, ...,\n",
       "        1.21346476e-02, 1.21430643e-16, 8.32667268e-17],\n",
       "       ...,\n",
       "       [1.15351251e-01, 1.21346476e-02, 1.21346476e-02, ...,\n",
       "        0.00000000e+00, 1.21346476e-02, 1.21346476e-02],\n",
       "       [1.03216603e-01, 1.42247325e-16, 1.21430643e-16, ...,\n",
       "        1.21346476e-02, 0.00000000e+00, 3.81639165e-17],\n",
       "       [1.03216603e-01, 1.04083409e-16, 8.32667268e-17, ...,\n",
       "        1.21346476e-02, 3.81639165e-17, 0.00000000e+00]])"
      ]
     },
     "execution_count": 233,
     "metadata": {},
     "output_type": "execute_result"
    }
   ],
   "source": [
    "distances"
   ]
  },
  {
   "cell_type": "code",
   "execution_count": 218,
   "id": "5297a3ed-c88a-4176-a597-d889d9f11f03",
   "metadata": {},
   "outputs": [
    {
     "data": {
      "text/plain": [
       "array([[           inf, 1.03216603e-01, 1.03216603e-01, ...,\n",
       "        1.15351251e-01, 1.03216603e-01, 1.03216603e-01],\n",
       "       [1.03216603e-01,            inf, 2.42861287e-17, ...,\n",
       "        1.21346476e-02, 1.04083409e-17, 4.16333634e-17],\n",
       "       [1.03216603e-01, 2.42861287e-17,            inf, ...,\n",
       "        1.21346476e-02, 1.38777878e-17, 1.73472348e-17],\n",
       "       ...,\n",
       "       [1.15351251e-01, 1.21346476e-02, 1.21346476e-02, ...,\n",
       "                   inf, 1.21346476e-02, 1.21346476e-02],\n",
       "       [1.03216603e-01, 1.04083409e-17, 1.38777878e-17, ...,\n",
       "        1.21346476e-02,            inf, 3.12250226e-17],\n",
       "       [1.03216603e-01, 4.16333634e-17, 1.73472348e-17, ...,\n",
       "        1.21346476e-02, 3.12250226e-17,            inf]])"
      ]
     },
     "execution_count": 218,
     "metadata": {},
     "output_type": "execute_result"
    }
   ],
   "source": [
    "pairwise_distances"
   ]
  },
  {
   "cell_type": "code",
   "execution_count": 184,
   "id": "93f39fcd-3d39-4ca7-b9d7-eff327255270",
   "metadata": {},
   "outputs": [
    {
     "data": {
      "text/plain": [
       "1.0408340855860843e-17"
      ]
     },
     "execution_count": 184,
     "metadata": {},
     "output_type": "execute_result"
    }
   ],
   "source": [
    "pairwise_distances[10,1]"
   ]
  },
  {
   "cell_type": "code",
   "execution_count": 183,
   "id": "2dc16b13-09f8-4c36-ad2c-ddc75cd923bb",
   "metadata": {},
   "outputs": [
    {
     "data": {
      "text/plain": [
       "1.0408340855860843e-17"
      ]
     },
     "execution_count": 183,
     "metadata": {},
     "output_type": "execute_result"
    }
   ],
   "source": [
    "pairwise_distances[1,10]"
   ]
  },
  {
   "cell_type": "code",
   "execution_count": 88,
   "id": "525f4c07-ce96-4a57-9139-69ca9d967db4",
   "metadata": {},
   "outputs": [],
   "source": [
    "mat = get_gene_pathway_matrix(path)\n",
    "\n",
    "\n",
    "cluster_mapping = dict(zip(frame['description'], frame['cluster']))\n",
    "row_clusters = np.array([cluster_mapping[x] for x in mat.index])\n",
    "column_clusters = np.array([cluster_mapping[x] for x in mat.columns])\n",
    "clusters = np.unique(frame['cluster'])\n",
    "n_clusters = len(clusters)\n",
    "out = np.zeros((n_clusters, n_clusters))\n",
    "mat_array = np.array(mat)"
   ]
  },
  {
   "cell_type": "code",
   "execution_count": 89,
   "id": "52725fd6-ce3f-4e1b-b78a-84e0f7267dc7",
   "metadata": {},
   "outputs": [],
   "source": [
    "row_cluster_indices = [np.where(row_clusters==x)[0] for x in clusters]\n",
    "col_cluster_indices = [np.where(column_clusters==x)[0] for x in clusters]"
   ]
  },
  {
   "cell_type": "code",
   "execution_count": 90,
   "id": "d058ef56-9b40-40f9-a754-75f0b09d5c88",
   "metadata": {},
   "outputs": [],
   "source": []
  },
  {
   "cell_type": "code",
   "execution_count": 91,
   "id": "b51d0f48-4448-494d-832e-8334bc571d03",
   "metadata": {},
   "outputs": [],
   "source": [
    "embedding = SpectralEmbedding(1)\n",
    "order = np.argsort(embedding.fit_transform(out)[:, 0])\n",
    "ordered = out[order][:, order]"
   ]
  },
  {
   "cell_type": "code",
   "execution_count": 92,
   "id": "cf2eb2de-eb8f-430e-989f-222c6e5f087c",
   "metadata": {},
   "outputs": [
    {
     "data": {
      "text/plain": [
       "<matplotlib.image.AxesImage at 0x7fda9cbbef40>"
      ]
     },
     "execution_count": 92,
     "metadata": {},
     "output_type": "execute_result"
    },
    {
     "data": {
      "image/png": "[encoded data removed]",
      "text/plain": [
       "<Figure size 720x720 with 1 Axes>"
      ]
     },
     "metadata": {
      "needs_background": "light"
     },
     "output_type": "display_data"
    }
   ],
   "source": [
    "plt.figure(figsize=(10,10))\n",
    "\n",
    "plt.imshow(ordered)\n"
   ]
  },
  {
   "cell_type": "code",
   "execution_count": 119,
   "id": "5048d406-ea4f-4e41-9869-5f4030a06c29",
   "metadata": {},
   "outputs": [],
   "source": [
    "embedding = SpectralEmbedding(1)\n",
    "\n",
    "embedded = embedding.fit_transform(out).ravel()"
   ]
  },
  {
   "cell_type": "code",
   "execution_count": null,
   "id": "4c49a79e-fc26-4d09-953e-c2d02f047785",
   "metadata": {},
   "outputs": [],
   "source": [
    "# iteratively merge the two closest clusters; then re-compute distances then merge again until some threshold"
   ]
  },
  {
   "cell_type": "code",
   "execution_count": 113,
   "id": "f742ab95-d590-43ff-ad7a-f70ca37fcf9b",
   "metadata": {},
   "outputs": [],
   "source": [
    "distances = np.zeros((n_clusters, n_clusters))\n",
    "for i in range(n_clusters):\n",
    "    for j in range(n_clusters):\n",
    "        distances[i,j] = np.abs(embedded[i]-embedded[j])"
   ]
  },
  {
   "cell_type": "code",
   "execution_count": 115,
   "id": "7ccd88e9-9749-4fce-bff9-14ffe961c665",
   "metadata": {},
   "outputs": [
    {
     "data": {
      "text/plain": [
       "<matplotlib.image.AxesImage at 0x7fda986048e0>"
      ]
     },
     "execution_count": 115,
     "metadata": {},
     "output_type": "execute_result"
    },
    {
     "data": {
      "image/png": "[encoded data removed]",
      "text/plain": [
       "<Figure size 432x288 with 1 Axes>"
      ]
     },
     "metadata": {
      "needs_background": "light"
     },
     "output_type": "display_data"
    }
   ],
   "source": [
    "plt.imshow(distances)"
   ]
  },
  {
   "cell_type": "code",
   "execution_count": 145,
   "id": "f15768e5-3db2-4840-a175-7b14ffb42bab",
   "metadata": {},
   "outputs": [],
   "source": [
    "clusters_to_merge = np.ones(n_clusters)*-1\n",
    "temp = np.ma.masked_array(distances, mask=distances==0)\n",
    "for i in range(n_clusters):\n",
    "    if np.min(temp[i])<0.01:\n",
    "        clusters_to_merge[i] = np.argmin(temp[i])"
   ]
  },
  {
   "cell_type": "code",
   "execution_count": 148,
   "id": "d1adf4b6-8a70-484c-b467-f49c60764d7c",
   "metadata": {},
   "outputs": [
    {
     "data": {
      "text/plain": [
       "array([[34., 15.,  6., ...,  0.,  0.,  0.],\n",
       "       [ 7., 44.,  4., ...,  0.,  0.,  0.],\n",
       "       [ 0.,  0., 18., ...,  0.,  0.,  0.],\n",
       "       ...,\n",
       "       [ 0.,  0.,  0., ...,  5.,  0.,  0.],\n",
       "       [ 0.,  0.,  0., ...,  2., 51., 20.],\n",
       "       [ 0.,  0.,  0., ...,  3.,  1., 90.]])"
      ]
     },
     "execution_count": 148,
     "metadata": {},
     "output_type": "execute_result"
    }
   ],
   "source": [
    "ordered"
   ]
  },
  {
   "cell_type": "code",
   "execution_count": 149,
   "id": "de7eeede-42af-49bf-899c-f6a54910c419",
   "metadata": {},
   "outputs": [
    {
     "data": {
      "text/plain": [
       "array([-1.,  2., 50., -1.,  6., 36.,  4., 41., 24., 20., 16., 39., -1.,\n",
       "       -1., 16., 16., 10., 20., 10., 23.,  9., 42., 36., 19.,  8.,  6.,\n",
       "       24., 38.,  5., 16., -1., 11., -1., 50., 10., 37.,  5., 35., 27.,\n",
       "       11., 43.,  7.,  1., 40., 10.,  9., 48., -1., 52.,  8.,  2.,  2.,\n",
       "       48., 40.,  9.])"
      ]
     },
     "execution_count": 149,
     "metadata": {},
     "output_type": "execute_result"
    }
   ],
   "source": [
    "clusters_to_merge"
   ]
  },
  {
   "cell_type": "code",
   "execution_count": 141,
   "id": "c0b01fac-2236-4924-8b2e-39b2ca591dda",
   "metadata": {},
   "outputs": [
    {
     "data": {
      "text/plain": [
       "masked_array(\n",
       "  data=[[--, 0.1032166031325721, 0.10321660313257212, ...,\n",
       "         0.11535125077406898, 0.10321660313257225, 0.10321660313257221],\n",
       "        [0.1032166031325721, --, 2.0816681711721685e-17, ...,\n",
       "         0.012134647641496882, 1.4224732503009818e-16,\n",
       "         1.0408340855860843e-16],\n",
       "        [0.10321660313257212, 2.0816681711721685e-17, --, ...,\n",
       "         0.012134647641496861, 1.214306433183765e-16,\n",
       "         8.326672684688674e-17],\n",
       "        ...,\n",
       "        [0.11535125077406898, 0.012134647641496882, 0.012134647641496861,\n",
       "         ..., --, 0.01213464764149674, 0.012134647641496778],\n",
       "        [0.10321660313257225, 1.4224732503009818e-16,\n",
       "         1.214306433183765e-16, ..., 0.01213464764149674, --,\n",
       "         3.8163916471489756e-17],\n",
       "        [0.10321660313257221, 1.0408340855860843e-16,\n",
       "         8.326672684688674e-17, ..., 0.012134647641496778,\n",
       "         3.8163916471489756e-17, --]],\n",
       "  mask=[[ True, False, False, ..., False, False, False],\n",
       "        [False,  True, False, ..., False, False, False],\n",
       "        [False, False,  True, ..., False, False, False],\n",
       "        ...,\n",
       "        [False, False, False, ...,  True, False, False],\n",
       "        [False, False, False, ..., False,  True, False],\n",
       "        [False, False, False, ..., False, False,  True]],\n",
       "  fill_value=1e+20)"
      ]
     },
     "execution_count": 141,
     "metadata": {},
     "output_type": "execute_result"
    }
   ],
   "source": [
    "temp"
   ]
  },
  {
   "cell_type": "code",
   "execution_count": 125,
   "id": "0d1813e6-7c15-4b48-b98f-cb1fa42df93a",
   "metadata": {},
   "outputs": [
    {
     "data": {
      "text/plain": [
       "<matplotlib.collections.PathCollection at 0x7fda8df4bee0>"
      ]
     },
     "execution_count": 125,
     "metadata": {},
     "output_type": "execute_result"
    },
    {
     "data": {
      "image/png": "[encoded data removed]",
      "text/plain": [
       "<Figure size 432x288 with 1 Axes>"
      ]
     },
     "metadata": {
      "needs_background": "light"
     },
     "output_type": "display_data"
    }
   ],
   "source": [
    "embedding = SpectralEmbedding(2)\n",
    "\n",
    "x = embedding.fit_transform(out)\n",
    "plt.scatter(x[:,0], x[:,1], c = range(len(distances)))"
   ]
  },
  {
   "cell_type": "code",
   "execution_count": 124,
   "id": "b3150c85-ba9e-42e7-a95d-19782fb49dd4",
   "metadata": {},
   "outputs": [
    {
     "data": {
      "text/plain": [
       "array([[0.00000000e+00, 1.03216603e-01, 1.03216603e-01, ...,\n",
       "        1.15351251e-01, 1.03216603e-01, 1.03216603e-01],\n",
       "       [1.03216603e-01, 0.00000000e+00, 2.08166817e-17, ...,\n",
       "        1.21346476e-02, 1.42247325e-16, 1.04083409e-16],\n",
       "       [1.03216603e-01, 2.08166817e-17, 0.00000000e+00, ...,\n",
       "        1.21346476e-02, 1.21430643e-16, 8.32667268e-17],\n",
       "       ...,\n",
       "       [1.15351251e-01, 1.21346476e-02, 1.21346476e-02, ...,\n",
       "        0.00000000e+00, 1.21346476e-02, 1.21346476e-02],\n",
       "       [1.03216603e-01, 1.42247325e-16, 1.21430643e-16, ...,\n",
       "        1.21346476e-02, 0.00000000e+00, 3.81639165e-17],\n",
       "       [1.03216603e-01, 1.04083409e-16, 8.32667268e-17, ...,\n",
       "        1.21346476e-02, 3.81639165e-17, 0.00000000e+00]])"
      ]
     },
     "execution_count": 124,
     "metadata": {},
     "output_type": "execute_result"
    }
   ],
   "source": [
    "distances"
   ]
  },
  {
   "cell_type": "code",
   "execution_count": 96,
   "id": "2fcd3540-8802-4d69-a43a-ce3a108011e9",
   "metadata": {},
   "outputs": [
    {
     "data": {
      "text/plain": [
       "(55, 55)"
      ]
     },
     "execution_count": 96,
     "metadata": {},
     "output_type": "execute_result"
    }
   ],
   "source": [
    "ordered.shape"
   ]
  },
  {
   "cell_type": "code",
   "execution_count": 58,
   "id": "f4d19418-cba6-4ee9-afcd-3674f468d931",
   "metadata": {},
   "outputs": [
    {
     "data": {
      "text/plain": [
       "array([[44.,  0.,  0., ...,  0.,  0.,  0.],\n",
       "       [ 0., 63.,  0., ...,  0.,  0.,  0.],\n",
       "       [ 0.,  0., 58., ...,  0.,  0.,  0.],\n",
       "       ...,\n",
       "       [ 0.,  0.,  0., ..., 31.,  0.,  0.],\n",
       "       [ 0.,  0.,  0., ...,  0., 25.,  0.],\n",
       "       [ 0.,  0.,  0., ...,  0.,  1., 24.]])"
      ]
     },
     "execution_count": 58,
     "metadata": {},
     "output_type": "execute_result"
    }
   ],
   "source": [
    "# iteratively merge the two closest clusters; then re-compute distances then merge again until some threshold\n",
    "# what about non-connected components for the spectral clustering?\n",
    "# show for different K's \n",
    "# plot K by average loss per cluster\n",
    "# merge similar clusters\n",
    "# then plot with spring layout (run on unconnected clusters separately)\n",
    "# only show the leading edge genes as nodes to keep cleaner?"
   ]
  },
  {
   "cell_type": "code",
   "execution_count": 9,
   "id": "6a25a011-08d1-4e67-9949-f871436829b7",
   "metadata": {},
   "outputs": [
    {
     "data": {
      "text/plain": [
       "array([ 0,  1,  2,  3,  4,  5,  6,  7,  8,  9, 10, 11, 12, 13, 14, 15, 16,\n",
       "       17, 18, 19, 20, 21, 22, 23, 24, 25, 26, 27, 28, 29, 30, 31, 32, 33,\n",
       "       34, 35, 36])"
      ]
     },
     "execution_count": 9,
     "metadata": {},
     "output_type": "execute_result"
    }
   ],
   "source": [
    "n_clusters = len(clusters)\n",
    "out = np.zeros((n_clusters, n_clusters))"
   ]
  },
  {
   "cell_type": "code",
   "execution_count": null,
   "id": "84029360-4cf5-478c-a620-0c41ed3c64c4",
   "metadata": {},
   "outputs": [],
   "source": []
  },
  {
   "cell_type": "markdown",
   "id": "2216d377-2602-4658-8cfc-af4e7d2d4e0b",
   "metadata": {},
   "source": [
    "##### more scrap"
   ]
  },
  {
   "cell_type": "code",
   "execution_count": 7,
   "id": "2431894c-7071-4533-b41f-c8a3d2beddfc",
   "metadata": {},
   "outputs": [],
   "source": [
    "import numpy as np\n",
    "import gseapy\n",
    "from scipy.sparse import csr_matrix\n",
    "from tqdm.contrib.concurrent import process_map\n",
    "from functools import partial\n",
    "from scipy.sparse.csgraph import shortest_path\n",
    "import matplotlib.pyplot as plt\n",
    "from geneclusters.cluster_genes_new import evaluate_cut,assign_cluster_based_on_proba,create_random_labeling, distance_to_probability,get_gene_pathway_matrix, get_full_matrix_from_bipartite,run_KL, compute_cost_metrics, add_outer, get_kernighan_lin_clusters, create_nonrandom_labeling"
   ]
  },
  {
   "cell_type": "code",
   "execution_count": 9,
   "id": "b2ed9960-cde3-4727-999f-fac85a66a708",
   "metadata": {},
   "outputs": [],
   "source": [
    "#names = gseapy.get_library_name()\n",
    "#x = gseapy.get_library('KEGG_2021_Human')\n",
    "#np.save('./examples/KEGG_2021_Human.npy', x)"
   ]
  },
  {
   "cell_type": "code",
   "execution_count": null,
   "id": "8b4c1dc3-ccdf-4931-8788-3f358108ce1f",
   "metadata": {},
   "outputs": [],
   "source": [
    "\n",
    "# compare performance of the different variants of this method and also of the other methods of interest\n",
    "\n",
    "# choose which method works best and compare against G's original clustering\n",
    "# compare against some other clustering methods like actionet etc?"
   ]
  },
  {
   "cell_type": "code",
   "execution_count": 3,
   "id": "3ae1481b-d64e-486e-8ad0-7a3569820dd7",
   "metadata": {},
   "outputs": [],
   "source": [
    "mat = get_gene_pathway_matrix('./examples/HumanCyc_2016.npy')\n",
    "matrix = np.ascontiguousarray(mat.values.T)\n"
   ]
  },
  {
   "cell_type": "code",
   "execution_count": 4,
   "id": "a36276ed-2124-4520-9ebe-cf92ada7ed84",
   "metadata": {},
   "outputs": [],
   "source": [
    "def get_scores(path, C, KL_modified, random_labels, unweighted, seed, thresh):\n",
    "    np.random.randint(1000)\n",
    "    o1, o2 = get_kernighan_lin_clusters(path, thresh, C, KL_modified, random_labels, unweighted, seed)\n",
    "    return np.array(o1[0]), o2"
   ]
  },
  {
   "cell_type": "code",
   "execution_count": 8,
   "id": "edd93f53-7377-46d5-a490-ce7392bc565b",
   "metadata": {
    "tags": []
   },
   "outputs": [
    {
     "data": {
      "application/vnd.jupyter.widget-view+json": {
       "model_id": "ae09078e6039449abfb66c42d54a1326",
       "version_major": 2,
       "version_minor": 0
      },
      "text/plain": [
       "  0%|          | 0/19 [00:00<?, ?it/s]"
      ]
     },
     "metadata": {},
     "output_type": "display_data"
    },
    {
     "name": "stderr",
     "output_type": "stream",
     "text": [
      "3it [00:05,  1.83s/it, tot_impr=958, last_impr=0, loss=906]8]9]\n",
      "3it [00:05,  1.84s/it, tot_impr=1101, last_impr=0, loss=782] \n",
      "3it [00:05,  1.91s/it, tot_impr=975, last_impr=0, loss=908] ]  \n",
      "4it [00:05,  1.48s/it, tot_impr=1242, last_impr=0, loss=631] \n",
      "4it [00:05,  1.48s/it, tot_impr=1063, last_impr=0, loss=812] \n",
      "4it [00:06,  1.50s/it, tot_impr=1317, last_impr=0, loss=548] \n",
      "4it [00:06,  1.53s/it, tot_impr=1410, last_impr=0, loss=438]\n",
      "4it [00:06,  1.57s/it, tot_impr=908, last_impr=0, loss=980]] \n",
      "4it [00:06,  1.56s/it, tot_impr=870, last_impr=0, loss=1007]\n",
      "3it [00:06,  2.11s/it, tot_impr=747, last_impr=0, loss=1144] \n",
      "4it [00:06,  1.60s/it, tot_impr=1501, last_impr=0, loss=333]\n",
      "3it [00:06,  2.13s/it, tot_impr=1527, last_impr=0, loss=278] \n",
      "5it [00:06,  1.29s/it, tot_impr=1112, last_impr=0, loss=755]\n",
      "3it [00:06,  2.14s/it, tot_impr=695, last_impr=0, loss=1195] \n",
      "4it [00:06,  1.61s/it, tot_impr=814, last_impr=0, loss=1077]\n",
      "4it [00:06,  1.62s/it, tot_impr=845, last_impr=0, loss=1044]\n",
      "4it [00:06,  1.71s/it, tot_impr=733, last_impr=0, loss=1155]]  \n",
      "4it [00:06,  1.73s/it, tot_impr=772, last_impr=0, loss=1120]\n",
      "3it [00:08,  2.72s/it, tot_impr=1544, last_impr=0, loss=132] \n"
     ]
    },
    {
     "data": {
      "application/vnd.jupyter.widget-view+json": {
       "model_id": "b930c560694844b7adb53e170688207c",
       "version_major": 2,
       "version_minor": 0
      },
      "text/plain": [
       "  0%|          | 0/19 [00:00<?, ?it/s]"
      ]
     },
     "metadata": {},
     "output_type": "display_data"
    },
    {
     "name": "stderr",
     "output_type": "stream",
     "text": [
      "3it [00:05,  1.99s/it, tot_impr=1081, last_impr=0, loss=796]  ]\n",
      "3it [00:06,  2.00s/it, tot_impr=884, last_impr=0, loss=997]\n",
      "3it [00:06,  2.04s/it, tot_impr=884, last_impr=0, loss=997]] \n",
      "3it [00:06,  2.05s/it, tot_impr=818, last_impr=0, loss=1066] \n",
      "4it [00:06,  1.60s/it, tot_impr=1027, last_impr=0, loss=851]   \n",
      "4it [00:06,  1.63s/it, tot_impr=949, last_impr=0, loss=933]] \n",
      "4it [00:06,  1.65s/it, tot_impr=1171, last_impr=0, loss=705]\n",
      "4it [00:06,  1.66s/it, tot_impr=1462, last_impr=0, loss=396] \n",
      "5it [00:06,  1.37s/it, tot_impr=1245, last_impr=0, loss=626] \n",
      "4it [00:06,  1.73s/it, tot_impr=801, last_impr=0, loss=1086]\n",
      "4it [00:06,  1.73s/it, tot_impr=801, last_impr=0, loss=1086]\n",
      "4it [00:07,  1.75s/it, tot_impr=1481, last_impr=0, loss=357]\n",
      "5it [00:07,  1.41s/it, tot_impr=1332, last_impr=0, loss=538]\n",
      "3it [00:07,  2.34s/it, tot_impr=629, last_impr=0, loss=1260]\n",
      "4it [00:07,  1.80s/it, tot_impr=726, last_impr=0, loss=1164] \n",
      "4it [00:07,  1.83s/it, tot_impr=726, last_impr=0, loss=1164]\n",
      "4it [00:07,  1.83s/it, tot_impr=726, last_impr=0, loss=1164]\n",
      "4it [00:07,  1.97s/it, tot_impr=1533, last_impr=0, loss=280]]  \n",
      "4it [00:10,  2.52s/it, tot_impr=1468, last_impr=0, loss=255] \n"
     ]
    },
    {
     "data": {
      "application/vnd.jupyter.widget-view+json": {
       "model_id": "9c97bd626a3347a5bcde5e491f67f000",
       "version_major": 2,
       "version_minor": 0
      },
      "text/plain": [
       "  0%|          | 0/19 [00:00<?, ?it/s]"
      ]
     },
     "metadata": {},
     "output_type": "display_data"
    },
    {
     "name": "stderr",
     "output_type": "stream",
     "text": [
      "3it [00:05,  1.77s/it, tot_impr=1068, last_impr=0, loss=811]   \n",
      "3it [00:05,  1.84s/it, tot_impr=1447, last_impr=0, loss=416] 5]\n",
      "4it [00:05,  1.45s/it, tot_impr=1310, last_impr=0, loss=548]]  \n",
      "3it [00:05,  1.91s/it, tot_impr=966, last_impr=0, loss=921] \n",
      "4it [00:05,  1.46s/it, tot_impr=1116, last_impr=0, loss=763]\n",
      "3it [00:05,  1.97s/it, tot_impr=737, last_impr=0, loss=1154] \n",
      "4it [00:05,  1.49s/it, tot_impr=1281, last_impr=0, loss=586] \n",
      "4it [00:06,  1.50s/it, tot_impr=1115, last_impr=0, loss=766]\n",
      "4it [00:05,  1.47s/it, tot_impr=1054, last_impr=0, loss=830]\n",
      "3it [00:06,  2.00s/it, tot_impr=777, last_impr=0, loss=1109] \n",
      "3it [00:05,  1.98s/it, tot_impr=721, last_impr=0, loss=1166] \n",
      "4it [00:06,  1.54s/it, tot_impr=937, last_impr=0, loss=948]\n",
      "4it [00:06,  1.60s/it, tot_impr=833, last_impr=0, loss=1047] \n",
      "4it [00:06,  1.59s/it, tot_impr=898, last_impr=0, loss=988]]\n",
      "4it [00:06,  1.63s/it, tot_impr=795, last_impr=0, loss=1090]\n",
      "4it [00:06,  1.74s/it, tot_impr=693, last_impr=0, loss=1199]]  \n",
      "5it [00:06,  1.39s/it, tot_impr=1501, last_impr=0, loss=336]\n",
      "4it [00:06,  1.75s/it, tot_impr=1553, last_impr=0, loss=245]\n",
      "4it [00:09,  2.37s/it, tot_impr=1546, last_impr=0, loss=155] \n"
     ]
    },
    {
     "data": {
      "application/vnd.jupyter.widget-view+json": {
       "model_id": "d37b5d864c5a447c9237702536467ca3",
       "version_major": 2,
       "version_minor": 0
      },
      "text/plain": [
       "  0%|          | 0/19 [00:00<?, ?it/s]"
      ]
     },
     "metadata": {},
     "output_type": "display_data"
    },
    {
     "name": "stderr",
     "output_type": "stream",
     "text": [
      "3it [00:05,  1.93s/it, tot_impr=1060, last_impr=0, loss=816]   \n",
      "3it [00:05,  1.93s/it, tot_impr=1163, last_impr=0, loss=709] \n",
      "3it [00:05,  1.97s/it, tot_impr=903, last_impr=0, loss=979]  4]\n",
      "3it [00:05,  1.97s/it, tot_impr=1091, last_impr=0, loss=785] \n",
      "3it [00:06,  2.01s/it, tot_impr=903, last_impr=0, loss=979]    \n",
      "3it [00:06,  2.05s/it, tot_impr=780, last_impr=0, loss=1104] \n",
      "3it [00:06,  2.06s/it, tot_impr=1526, last_impr=0, loss=314] \n",
      "3it [00:06,  2.09s/it, tot_impr=780, last_impr=0, loss=1104] \n",
      "4it [00:06,  1.56s/it, tot_impr=1298, last_impr=0, loss=572]\n",
      "4it [00:06,  1.63s/it, tot_impr=1410, last_impr=0, loss=444] \n",
      "4it [00:06,  1.64s/it, tot_impr=955, last_impr=0, loss=925]\n",
      "4it [00:06,  1.64s/it, tot_impr=802, last_impr=0, loss=1080]\n",
      "3it [00:06,  2.20s/it, tot_impr=632, last_impr=0, loss=1257]\n",
      "5it [00:06,  1.37s/it, tot_impr=1255, last_impr=0, loss=614]]\n",
      "4it [00:07,  1.75s/it, tot_impr=713, last_impr=0, loss=1177]\n",
      "4it [00:07,  1.78s/it, tot_impr=713, last_impr=0, loss=1177]\n",
      "4it [00:07,  1.78s/it, tot_impr=713, last_impr=0, loss=1177]\n",
      "4it [00:07,  1.88s/it, tot_impr=1564, last_impr=0, loss=251]   \n",
      "3it [00:08,  2.88s/it, tot_impr=1551, last_impr=0, loss=165] \n"
     ]
    },
    {
     "data": {
      "image/png": "[encoded data removed]",
      "text/plain": [
       "<Figure size 432x288 with 1 Axes>"
      ]
     },
     "metadata": {
      "needs_background": "light"
     },
     "output_type": "display_data"
    }
   ],
   "source": [
    "path = './examples/HumanCyc_2016.npy'\n",
    "thresh = np.arange(10, 200, 10)#np.repeat(50,100)\n",
    "C = 0\n",
    "KL_modified = True\n",
    "random_labels = False\n",
    "unweighted = True\n",
    "\n",
    "repeats = 2\n",
    "thresh_out = []\n",
    "out1 = []\n",
    "out2 = []\n",
    "for i in range(repeats):\n",
    "    np.random.seed(i)\n",
    "    results = process_map(partial(get_scores,path,C,KL_modified,False,unweighted,i), thresh)\n",
    "    out1.append(results)\n",
    "    \n",
    "    thresh2 = np.ceil(np.array([np.mean(np.unique(x[0], return_counts = True)[1]) for x in results]))\n",
    "    thresh_out.append(thresh2)\n",
    "    plt.scatter(thresh2, [x[1] for x in results], c='red', s = .5)\n",
    "    \n",
    "    results = process_map(partial(get_scores,path,C,KL_modified,True,unweighted,i), thresh2)\n",
    "    out2.append(results)\n",
    "    plt.scatter(thresh2, [x[1] for x in results], c='blue', s = .5)"
   ]
  },
  {
   "cell_type": "code",
   "execution_count": 10,
   "id": "37324938-d1eb-42aa-afa8-f3e835c14a59",
   "metadata": {},
   "outputs": [
    {
     "data": {
      "text/plain": [
       "<matplotlib.legend.Legend at 0x7f9b0ee359d0>"
      ]
     },
     "execution_count": 10,
     "metadata": {},
     "output_type": "execute_result"
    },
    {
     "data": {
      "image/png": "[encoded data removed]",
      "text/plain": [
       "<Figure size 432x288 with 1 Axes>"
      ]
     },
     "metadata": {
      "needs_background": "light"
     },
     "output_type": "display_data"
    }
   ],
   "source": [
    "losses1 = np.empty(shape = (repeats,len(thresh)))\n",
    "for i in range(repeats):\n",
    "    losses1[i] = [x[1] for x in out1[i]]\n",
    "    \n",
    "losses2 = np.empty(shape = (repeats,len(thresh)))\n",
    "for i in range(repeats):\n",
    "    losses2[i] = [x[1] for x in out2[i]]\n",
    "    \n",
    "plt.errorbar(thresh_out[0], np.mean(losses1, axis = 0), yerr=np.std(losses1, axis = 0), label='random labels False')\n",
    "plt.errorbar(thresh_out[0], np.mean(losses2, axis = 0), yerr=np.std(losses2, axis = 0), label='random labels True')\n",
    "plt.legend(loc='upper right')\n"
   ]
  },
  {
   "cell_type": "code",
   "execution_count": 295,
   "id": "180408ca-2241-4eca-a66b-01eff481250d",
   "metadata": {},
   "outputs": [],
   "source": [
    "loss1 = np.stack([x[2][1] for x in out1])\n",
    "lab1 = np.stack([x[2][0] for x in out1])\n",
    "\n",
    "loss2 = np.stack([x[2][1] for x in out2])\n",
    "lab2 = np.stack([x[2][0] for x in out2])"
   ]
  },
  {
   "cell_type": "code",
   "execution_count": 15,
   "id": "fe2dfae5-6539-45b1-becc-623ff0291c75",
   "metadata": {
    "collapsed": true,
    "jupyter": {
     "outputs_hidden": true
    },
    "tags": []
   },
   "outputs": [
    {
     "data": {
      "application/vnd.jupyter.widget-view+json": {
       "model_id": "29bfb0aed3a145dea119278892ac60d2",
       "version_major": 2,
       "version_minor": 0
      },
      "text/plain": [
       "  0%|          | 0/1000 [00:00<?, ?it/s]"
      ]
     },
     "metadata": {},
     "output_type": "display_data"
    },
    {
     "name": "stderr",
     "output_type": "stream",
     "text": [
      "3it [00:05,  1.82s/it, tot_impr=1303, last_impr=0, loss=550]   \n",
      "3it [00:05,  1.93s/it, tot_impr=1353, last_impr=0, loss=502] \n",
      "4it [00:05,  1.50s/it, tot_impr=1366, last_impr=0, loss=504]]\n",
      "3it [00:05,  1.80s/it, tot_impr=1266, last_impr=0, loss=604] \n",
      "4it [00:05,  1.47s/it, tot_impr=1357, last_impr=0, loss=500] \n",
      "4it [00:06,  1.51s/it, tot_impr=1292, last_impr=0, loss=562]\n",
      "3it [00:05,  1.86s/it, tot_impr=1348, last_impr=0, loss=519] \n",
      "4it [00:05,  1.49s/it, tot_impr=1307, last_impr=0, loss=549]\n",
      "4it [00:05,  1.49s/it, tot_impr=1344, last_impr=0, loss=531]\n",
      "4it [00:06,  1.54s/it, tot_impr=1326, last_impr=0, loss=534] \n",
      "4it [00:06,  1.55s/it, tot_impr=1351, last_impr=0, loss=504]\n",
      "3it [00:05,  2.00s/it, tot_impr=1323, last_impr=0, loss=523] \n",
      "4it [00:06,  1.58s/it, tot_impr=1314, last_impr=0, loss=542] \n",
      "3it [00:06,  2.04s/it, tot_impr=1345, last_impr=0, loss=515] \n",
      "3it [00:06,  2.00s/it, tot_impr=1323, last_impr=0, loss=546] \n",
      "4it [00:06,  1.59s/it, tot_impr=1310, last_impr=0, loss=548]\n",
      "4it [00:06,  1.58s/it, tot_impr=1282, last_impr=0, loss=573]\n",
      "4it [00:06,  1.59s/it, tot_impr=1317, last_impr=0, loss=548] \n",
      "4it [00:06,  1.57s/it, tot_impr=1309, last_impr=0, loss=555] \n",
      "4it [00:06,  1.60s/it, tot_impr=1354, last_impr=0, loss=510] \n",
      "4it [00:06,  1.57s/it, tot_impr=1250, last_impr=0, loss=612] \n",
      "4it [00:06,  1.50s/it, tot_impr=1300, last_impr=0, loss=560]\n",
      "5it [00:06,  1.30s/it, tot_impr=1300, last_impr=0, loss=566]76]\n",
      "4it [00:06,  1.62s/it, tot_impr=1320, last_impr=0, loss=536]\n",
      "4it [00:06,  1.62s/it, tot_impr=1286, last_impr=0, loss=565]51]\n",
      "4it [00:06,  1.62s/it, tot_impr=1378, last_impr=0, loss=496]50]\n",
      "4it [00:06,  1.63s/it, tot_impr=1390, last_impr=0, loss=464]47]\n",
      "4it [00:06,  1.65s/it, tot_impr=1321, last_impr=0, loss=550]\n",
      "4it [00:06,  1.64s/it, tot_impr=1395, last_impr=0, loss=472]\n",
      "5it [00:06,  1.31s/it, tot_impr=1287, last_impr=0, loss=574]\n",
      "5it [00:06,  1.38s/it, tot_impr=1312, last_impr=0, loss=548]39]\n",
      "5it [00:06,  1.38s/it, tot_impr=1308, last_impr=0, loss=552]68]\n",
      "3it [00:01,  1.94it/s, tot_impr=1367, last_impr=0, loss=485] ] \n",
      "3it [00:01,  1.93it/s, tot_impr=1355, last_impr=0, loss=503]   \n",
      "3it [00:01,  1.95it/s, tot_impr=1319, last_impr=0, loss=533] 5]\n",
      "3it [00:01,  1.94it/s, tot_impr=1303, last_impr=0, loss=555] \n",
      "4it [00:02,  1.91it/s, tot_impr=1291, last_impr=0, loss=577]]  \n",
      "4it [00:02,  1.95it/s, tot_impr=1394, last_impr=0, loss=465] \n",
      "3it [00:01,  1.80it/s, tot_impr=1324, last_impr=0, loss=537]\n",
      "3it [00:01,  1.95it/s, tot_impr=1399, last_impr=0, loss=461]  \n",
      "3it [00:01,  1.85it/s, tot_impr=1277, last_impr=0, loss=591] \n",
      "3it [00:01,  1.80it/s, tot_impr=1395, last_impr=0, loss=471]]  \n",
      "3it [00:01,  1.92it/s, tot_impr=1280, last_impr=0, loss=571] \n",
      "4it [00:02,  1.80it/s, tot_impr=1331, last_impr=0, loss=533]\n",
      "4it [00:02,  1.97it/s, tot_impr=1333, last_impr=0, loss=533] \n",
      "4it [00:02,  1.97it/s, tot_impr=1367, last_impr=0, loss=504]\n",
      "3it [00:01,  1.93it/s, tot_impr=1332, last_impr=0, loss=518]]  \n",
      "4it [00:02,  1.92it/s, tot_impr=1356, last_impr=0, loss=502]]\n",
      "4it [00:02,  1.83it/s, tot_impr=1344, last_impr=0, loss=518] \n",
      "3it [00:01,  1.80it/s, tot_impr=1342, last_impr=0, loss=513] 1]\n",
      "3it [00:01,  1.80it/s, tot_impr=1333, last_impr=0, loss=539] 7]\n",
      "4it [00:02,  1.81it/s, tot_impr=1309, last_impr=0, loss=548] \n",
      "4it [00:02,  1.82it/s, tot_impr=1342, last_impr=0, loss=521] \n",
      "4it [00:02,  1.78it/s, tot_impr=1361, last_impr=0, loss=503]\n",
      "4it [00:02,  1.90it/s, tot_impr=1399, last_impr=0, loss=473] \n",
      "4it [00:02,  1.82it/s, tot_impr=1315, last_impr=0, loss=545]10]\n",
      "4it [00:02,  1.93it/s, tot_impr=1303, last_impr=0, loss=559] 7]\n",
      "4it [00:02,  1.81it/s, tot_impr=1363, last_impr=0, loss=495]49]\n",
      "5it [00:02,  1.78it/s, tot_impr=1305, last_impr=0, loss=557]68]\n",
      "4it [00:02,  1.77it/s, tot_impr=1334, last_impr=0, loss=538]83]\n",
      "4it [00:02,  1.73it/s, tot_impr=1378, last_impr=0, loss=487]\n",
      "4it [00:02,  1.79it/s, tot_impr=1331, last_impr=0, loss=534] 3]\n",
      "3it [00:01,  1.89it/s, tot_impr=1270, last_impr=0, loss=586] 0]\n",
      "4it [00:02,  1.76it/s, tot_impr=1324, last_impr=0, loss=546]\n",
      "3it [00:01,  1.91it/s, tot_impr=1330, last_impr=0, loss=539]   \n",
      "3it [00:01,  1.80it/s, tot_impr=1295, last_impr=0, loss=566]   \n",
      "4it [00:02,  1.88it/s, tot_impr=1385, last_impr=0, loss=480] 9]\n",
      "3it [00:01,  1.84it/s, tot_impr=1382, last_impr=0, loss=476]]  \n",
      "3it [00:01,  1.82it/s, tot_impr=1278, last_impr=0, loss=581] \n",
      "3it [00:01,  1.77it/s, tot_impr=1317, last_impr=0, loss=537] \n",
      "6it [00:03,  1.91it/s, tot_impr=1397, last_impr=0, loss=472] 3]\n",
      "3it [00:01,  1.78it/s, tot_impr=1324, last_impr=0, loss=546]\n",
      "4it [00:02,  1.90it/s, tot_impr=1291, last_impr=0, loss=577] \n",
      "3it [00:01,  1.84it/s, tot_impr=1303, last_impr=0, loss=554]   \n",
      "3it [00:01,  1.85it/s, tot_impr=1309, last_impr=0, loss=546] \n",
      "3it [00:01,  1.80it/s, tot_impr=1284, last_impr=0, loss=572] 1]\n",
      "3it [00:01,  1.79it/s, tot_impr=1346, last_impr=0, loss=513]   \n",
      "4it [00:02,  1.78it/s, tot_impr=1306, last_impr=0, loss=563]27]\n",
      "3it [00:01,  1.80it/s, tot_impr=1333, last_impr=0, loss=527] \n",
      "4it [00:02,  1.84it/s, tot_impr=1355, last_impr=0, loss=506]04]\n",
      "5it [00:02,  1.91it/s, tot_impr=1350, last_impr=0, loss=510]]3]\n",
      "4it [00:02,  1.83it/s, tot_impr=1345, last_impr=0, loss=518]\n",
      "4it [00:02,  1.89it/s, tot_impr=1285, last_impr=0, loss=561] \n",
      "5it [00:02,  1.88it/s, tot_impr=1319, last_impr=0, loss=543]\n",
      "4it [00:02,  1.81it/s, tot_impr=1378, last_impr=0, loss=492] \n",
      "5it [00:02,  1.94it/s, tot_impr=1258, last_impr=0, loss=608] \n",
      "5it [00:02,  1.92it/s, tot_impr=1347, last_impr=0, loss=518]42]\n",
      "4it [00:02,  1.83it/s, tot_impr=1338, last_impr=0, loss=512]]  \n",
      "4it [00:02,  1.85it/s, tot_impr=1260, last_impr=0, loss=604] 3]\n",
      "4it [00:02,  1.80it/s, tot_impr=1291, last_impr=0, loss=581]74]\n",
      "5it [00:02,  1.82it/s, tot_impr=1353, last_impr=0, loss=505]\n",
      "4it [00:02,  1.81it/s, tot_impr=1310, last_impr=0, loss=556]\n",
      "4it [00:02,  1.83it/s, tot_impr=1352, last_impr=0, loss=508]]  \n",
      "4it [00:02,  1.90it/s, tot_impr=1330, last_impr=0, loss=527]04]\n",
      "4it [00:02,  1.89it/s, tot_impr=1351, last_impr=0, loss=504]]4]\n",
      "4it [00:02,  1.76it/s, tot_impr=1383, last_impr=0, loss=492] \n",
      "5it [00:02,  1.86it/s, tot_impr=1373, last_impr=0, loss=488]\n",
      "4it [00:02,  1.96it/s, tot_impr=1318, last_impr=0, loss=551]]  \n",
      "4it [00:02,  1.97it/s, tot_impr=1361, last_impr=0, loss=512]]  \n",
      "4it [00:02,  1.96it/s, tot_impr=1346, last_impr=0, loss=523]]  \n",
      "4it [00:02,  1.94it/s, tot_impr=1312, last_impr=0, loss=550] 9]\n",
      "4it [00:02,  1.90it/s, tot_impr=1351, last_impr=0, loss=516] 6]\n",
      "4it [00:02,  1.94it/s, tot_impr=1342, last_impr=0, loss=510] 9]\n",
      "4it [00:02,  1.85it/s, tot_impr=1388, last_impr=0, loss=485]\n",
      "4it [00:02,  1.82it/s, tot_impr=1313, last_impr=0, loss=548]92]\n",
      "3it [00:01,  1.79it/s, tot_impr=1259, last_impr=0, loss=605] 5]\n",
      "3it [00:01,  1.89it/s, tot_impr=1350, last_impr=0, loss=517] 0]\n",
      "4it [00:02,  1.81it/s, tot_impr=1403, last_impr=0, loss=462]]\n",
      "3it [00:01,  1.83it/s, tot_impr=1347, last_impr=0, loss=510]06]\n",
      "5it [00:02,  1.94it/s, tot_impr=1336, last_impr=0, loss=525]]  \n",
      "5it [00:02,  1.85it/s, tot_impr=1331, last_impr=0, loss=531]]  \n",
      "4it [00:02,  1.79it/s, tot_impr=1355, last_impr=0, loss=513]]  \n",
      "4it [00:02,  1.79it/s, tot_impr=1318, last_impr=0, loss=539]15]\n",
      "4it [00:02,  1.93it/s, tot_impr=1296, last_impr=0, loss=563]28]\n",
      "4it [00:02,  1.92it/s, tot_impr=1373, last_impr=0, loss=492] \n",
      "4it [00:02,  1.92it/s, tot_impr=1340, last_impr=0, loss=524]]  \n",
      "4it [00:02,  1.94it/s, tot_impr=1275, last_impr=0, loss=579] \n",
      "5it [00:02,  1.78it/s, tot_impr=1371, last_impr=0, loss=501]   \n",
      "3it [00:01,  1.80it/s, tot_impr=1284, last_impr=0, loss=567] 8]\n",
      "3it [00:01,  1.92it/s, tot_impr=1311, last_impr=0, loss=557]97]\n",
      "3it [00:01,  1.93it/s, tot_impr=1295, last_impr=0, loss=567] 5]\n",
      "5it [00:02,  1.83it/s, tot_impr=1375, last_impr=0, loss=492]\n",
      "4it [00:02,  1.81it/s, tot_impr=1309, last_impr=0, loss=546]\n",
      "4it [00:02,  1.83it/s, tot_impr=1371, last_impr=0, loss=480]99]\n",
      "4it [00:02,  1.85it/s, tot_impr=1341, last_impr=0, loss=529]\n",
      "4it [00:02,  1.95it/s, tot_impr=1314, last_impr=0, loss=546]82]\n",
      "5it [00:02,  1.79it/s, tot_impr=1330, last_impr=0, loss=528]]  \n",
      "3it [00:01,  1.79it/s, tot_impr=1357, last_impr=0, loss=512] \n",
      "4it [00:02,  1.83it/s, tot_impr=1344, last_impr=0, loss=517]38]\n",
      "4it [00:02,  1.79it/s, tot_impr=1334, last_impr=0, loss=529]]  \n",
      "4it [00:02,  1.95it/s, tot_impr=1341, last_impr=0, loss=517]]  \n",
      "4it [00:02,  1.95it/s, tot_impr=1340, last_impr=0, loss=522]\n",
      "3it [00:01,  1.89it/s, tot_impr=1336, last_impr=0, loss=524]]  \n",
      "4it [00:02,  1.97it/s, tot_impr=1344, last_impr=0, loss=525]\n",
      "4it [00:02,  1.92it/s, tot_impr=1288, last_impr=0, loss=569] 2]\n",
      "5it [00:02,  1.80it/s, tot_impr=1330, last_impr=0, loss=534]\n",
      "4it [00:02,  1.90it/s, tot_impr=1378, last_impr=0, loss=487]02]\n",
      "3it [00:01,  1.75it/s, tot_impr=1331, last_impr=0, loss=534]]  \n",
      "3it [00:01,  1.81it/s, tot_impr=1362, last_impr=0, loss=500]   \n",
      "4it [00:02,  1.80it/s, tot_impr=1284, last_impr=0, loss=577] 4]\n",
      "3it [00:01,  1.83it/s, tot_impr=1343, last_impr=0, loss=523]   \n",
      "4it [00:02,  1.80it/s, tot_impr=1351, last_impr=0, loss=515] 4]\n",
      "3it [00:01,  1.78it/s, tot_impr=1334, last_impr=0, loss=525]\n",
      "5it [00:02,  1.83it/s, tot_impr=1349, last_impr=0, loss=517]\n",
      "5it [00:02,  1.84it/s, tot_impr=1300, last_impr=0, loss=562]95]\n",
      "4it [00:02,  1.93it/s, tot_impr=1326, last_impr=0, loss=550]\n",
      "4it [00:02,  1.96it/s, tot_impr=1376, last_impr=0, loss=492]\n",
      "4it [00:02,  1.92it/s, tot_impr=1346, last_impr=0, loss=518]\n",
      "3it [00:01,  1.94it/s, tot_impr=1347, last_impr=0, loss=507]   \n",
      "4it [00:02,  1.93it/s, tot_impr=1347, last_impr=0, loss=523]\n",
      "5it [00:02,  1.92it/s, tot_impr=1327, last_impr=0, loss=532]]  \n",
      "4it [00:02,  1.91it/s, tot_impr=1289, last_impr=0, loss=576]1] \n",
      "3it [00:01,  1.84it/s, tot_impr=1392, last_impr=0, loss=482] 4]\n",
      "5it [00:02,  1.81it/s, tot_impr=1363, last_impr=0, loss=507]66]\n",
      "4it [00:02,  1.93it/s, tot_impr=1321, last_impr=0, loss=542]]  \n",
      "3it [00:01,  1.92it/s, tot_impr=1328, last_impr=0, loss=528] 8]\n",
      "4it [00:02,  1.85it/s, tot_impr=1322, last_impr=0, loss=534] \n",
      "4it [00:02,  1.80it/s, tot_impr=1356, last_impr=0, loss=499] \n",
      "3it [00:01,  1.97it/s, tot_impr=1304, last_impr=0, loss=560] 8]\n",
      "4it [00:02,  1.77it/s, tot_impr=1305, last_impr=0, loss=556]   \n",
      "4it [00:02,  1.95it/s, tot_impr=1367, last_impr=0, loss=495]\n",
      "4it [00:02,  1.86it/s, tot_impr=1303, last_impr=0, loss=563]\n",
      "4it [00:02,  1.93it/s, tot_impr=1288, last_impr=0, loss=571]]  \n",
      "4it [00:02,  1.89it/s, tot_impr=1364, last_impr=0, loss=514]\n",
      "5it [00:02,  1.90it/s, tot_impr=1333, last_impr=0, loss=533]\n",
      "4it [00:02,  1.96it/s, tot_impr=1376, last_impr=0, loss=488]]  \n",
      "5it [00:02,  1.83it/s, tot_impr=1373, last_impr=0, loss=491]20]\n",
      "4it [00:02,  1.84it/s, tot_impr=1316, last_impr=0, loss=535]37]\n",
      "4it [00:02,  1.81it/s, tot_impr=1394, last_impr=0, loss=464] 0]\n",
      "5it [00:02,  1.84it/s, tot_impr=1336, last_impr=0, loss=529] \n",
      "3it [00:01,  1.76it/s, tot_impr=1335, last_impr=0, loss=526] \n",
      "4it [00:02,  1.84it/s, tot_impr=1327, last_impr=0, loss=527] \n",
      "3it [00:01,  1.92it/s, tot_impr=1338, last_impr=0, loss=522] \n",
      "4it [00:02,  1.80it/s, tot_impr=1323, last_impr=0, loss=537]]  \n",
      "4it [00:02,  1.98it/s, tot_impr=1348, last_impr=0, loss=510]85]\n",
      "4it [00:02,  1.96it/s, tot_impr=1362, last_impr=0, loss=499]54]\n",
      "4it [00:02,  1.95it/s, tot_impr=1335, last_impr=0, loss=518]\n",
      "4it [00:02,  1.74it/s, tot_impr=1298, last_impr=0, loss=568]\n",
      "4it [00:02,  1.89it/s, tot_impr=1274, last_impr=0, loss=595]\n",
      "4it [00:02,  1.93it/s, tot_impr=1328, last_impr=0, loss=541]\n",
      "4it [00:02,  1.93it/s, tot_impr=1332, last_impr=0, loss=531]   \n",
      "3it [00:01,  1.74it/s, tot_impr=1285, last_impr=0, loss=583] \n",
      "3it [00:01,  1.83it/s, tot_impr=1368, last_impr=0, loss=487] \n",
      "5it [00:02,  1.82it/s, tot_impr=1347, last_impr=0, loss=509]]  \n",
      "5it [00:02,  1.80it/s, tot_impr=1344, last_impr=0, loss=514]56]\n",
      "4it [00:02,  1.97it/s, tot_impr=1387, last_impr=0, loss=474] 2]\n",
      "4it [00:02,  1.82it/s, tot_impr=1290, last_impr=0, loss=573]]  \n",
      "4it [00:02,  1.85it/s, tot_impr=1323, last_impr=0, loss=549]\n",
      "3it [00:01,  1.83it/s, tot_impr=1280, last_impr=0, loss=589]   \n",
      "3it [00:01,  1.93it/s, tot_impr=1339, last_impr=0, loss=519]   \n",
      "4it [00:02,  1.94it/s, tot_impr=1295, last_impr=0, loss=564]68]\n",
      "3it [00:01,  1.71it/s, tot_impr=1322, last_impr=0, loss=536] \n",
      "4it [00:02,  1.81it/s, tot_impr=1369, last_impr=0, loss=492]\n",
      "6it [00:03,  1.83it/s, tot_impr=1380, last_impr=0, loss=481] 8]\n",
      "3it [00:01,  1.83it/s, tot_impr=1357, last_impr=0, loss=504] 4]\n",
      "4it [00:02,  1.94it/s, tot_impr=1358, last_impr=0, loss=502]96]\n",
      "4it [00:02,  1.95it/s, tot_impr=1361, last_impr=0, loss=500]]  \n",
      "3it [00:01,  1.82it/s, tot_impr=1339, last_impr=0, loss=524] \n",
      "4it [00:02,  1.91it/s, tot_impr=1307, last_impr=0, loss=549]\n",
      "3it [00:01,  1.93it/s, tot_impr=1327, last_impr=0, loss=545] \n",
      "3it [00:01,  1.81it/s, tot_impr=1316, last_impr=0, loss=549] \n",
      "4it [00:02,  1.80it/s, tot_impr=1319, last_impr=0, loss=543]89]\n",
      "3it [00:01,  1.94it/s, tot_impr=1348, last_impr=0, loss=521]   \n",
      "3it [00:01,  1.82it/s, tot_impr=1322, last_impr=0, loss=529]]  \n",
      "3it [00:01,  1.92it/s, tot_impr=1336, last_impr=0, loss=534]   \n",
      "4it [00:02,  1.80it/s, tot_impr=1363, last_impr=0, loss=503]82]\n",
      "3it [00:01,  1.93it/s, tot_impr=1362, last_impr=0, loss=505] \n",
      "5it [00:02,  1.84it/s, tot_impr=1346, last_impr=0, loss=519]]  \n",
      "3it [00:01,  1.91it/s, tot_impr=1344, last_impr=0, loss=513] ] \n",
      "4it [00:02,  1.93it/s, tot_impr=1379, last_impr=0, loss=489]   \n",
      "4it [00:02,  1.91it/s, tot_impr=1317, last_impr=0, loss=538]93]\n",
      "3it [00:01,  1.85it/s, tot_impr=1306, last_impr=0, loss=551] 7]\n",
      "3it [00:01,  1.82it/s, tot_impr=1284, last_impr=0, loss=577]]1]\n",
      "4it [00:02,  1.84it/s, tot_impr=1319, last_impr=0, loss=552]\n",
      "4it [00:02,  1.79it/s, tot_impr=1357, last_impr=0, loss=508]\n",
      "4it [00:02,  1.97it/s, tot_impr=1270, last_impr=0, loss=594]   \n",
      "3it [00:01,  1.95it/s, tot_impr=1357, last_impr=0, loss=509] \n",
      "6it [00:03,  1.82it/s, tot_impr=1352, last_impr=0, loss=510] \n",
      "3it [00:01,  1.95it/s, tot_impr=1355, last_impr=0, loss=516]   \n",
      "4it [00:02,  1.79it/s, tot_impr=1307, last_impr=0, loss=553]\n",
      "3it [00:01,  1.91it/s, tot_impr=1356, last_impr=0, loss=511] \n",
      "5it [00:02,  1.79it/s, tot_impr=1298, last_impr=0, loss=565] \n",
      "4it [00:02,  1.90it/s, tot_impr=1333, last_impr=0, loss=528]\n",
      "4it [00:02,  1.92it/s, tot_impr=1350, last_impr=0, loss=516] 4]\n",
      "4it [00:02,  1.75it/s, tot_impr=1321, last_impr=0, loss=538]]  \n",
      "5it [00:02,  1.91it/s, tot_impr=1340, last_impr=0, loss=520]\n",
      "4it [00:02,  1.82it/s, tot_impr=1403, last_impr=0, loss=469]   \n",
      "4it [00:02,  1.84it/s, tot_impr=1322, last_impr=0, loss=546] 3]\n",
      "3it [00:01,  1.91it/s, tot_impr=1348, last_impr=0, loss=512]   \n",
      "4it [00:02,  1.80it/s, tot_impr=1341, last_impr=0, loss=519]\n",
      "4it [00:02,  1.90it/s, tot_impr=1369, last_impr=0, loss=493]78]\n",
      "4it [00:02,  1.82it/s, tot_impr=1279, last_impr=0, loss=575]]  \n",
      "4it [00:02,  1.78it/s, tot_impr=1294, last_impr=0, loss=582]48]\n",
      "4it [00:02,  1.92it/s, tot_impr=1350, last_impr=0, loss=515]60]\n",
      "4it [00:02,  1.84it/s, tot_impr=1328, last_impr=0, loss=534] 6]\n",
      "4it [00:02,  1.90it/s, tot_impr=1354, last_impr=0, loss=511]   \n",
      "6it [00:03,  1.84it/s, tot_impr=1343, last_impr=0, loss=514]\n",
      "4it [00:02,  1.80it/s, tot_impr=1291, last_impr=0, loss=559] 0]\n",
      "4it [00:02,  1.82it/s, tot_impr=1327, last_impr=0, loss=547]90]\n",
      "4it [00:02,  1.93it/s, tot_impr=1342, last_impr=0, loss=518]]  \n",
      "5it [00:02,  1.81it/s, tot_impr=1331, last_impr=0, loss=535]   \n",
      "4it [00:02,  1.94it/s, tot_impr=1336, last_impr=0, loss=533]]  \n",
      "3it [00:01,  1.75it/s, tot_impr=1371, last_impr=0, loss=498]   \n",
      "3it [00:01,  1.79it/s, tot_impr=1286, last_impr=0, loss=580] \n",
      "4it [00:02,  1.93it/s, tot_impr=1327, last_impr=0, loss=531]\n",
      "3it [00:01,  1.96it/s, tot_impr=1309, last_impr=0, loss=558] \n",
      "4it [00:02,  1.81it/s, tot_impr=1337, last_impr=0, loss=531]]  \n",
      "3it [00:01,  1.81it/s, tot_impr=1304, last_impr=0, loss=555] \n",
      "4it [00:02,  1.93it/s, tot_impr=1324, last_impr=0, loss=547]]  \n",
      "4it [00:02,  1.79it/s, tot_impr=1341, last_impr=0, loss=515]\n",
      "4it [00:02,  1.93it/s, tot_impr=1352, last_impr=0, loss=512]   \n",
      "4it [00:02,  1.96it/s, tot_impr=1327, last_impr=0, loss=539]\n",
      "4it [00:02,  1.93it/s, tot_impr=1318, last_impr=0, loss=547] \n",
      "4it [00:02,  1.95it/s, tot_impr=1271, last_impr=0, loss=595] 6]\n",
      "4it [00:02,  1.79it/s, tot_impr=1340, last_impr=0, loss=533] \n",
      "4it [00:02,  1.83it/s, tot_impr=1325, last_impr=0, loss=535]14]\n",
      "5it [00:02,  1.94it/s, tot_impr=1311, last_impr=0, loss=554]]  \n",
      "4it [00:02,  1.90it/s, tot_impr=1323, last_impr=0, loss=530]   \n",
      "4it [00:02,  1.75it/s, tot_impr=1388, last_impr=0, loss=478]\n",
      "4it [00:02,  1.83it/s, tot_impr=1343, last_impr=0, loss=522]53]\n",
      "5it [00:02,  1.83it/s, tot_impr=1360, last_impr=0, loss=498] \n",
      "4it [00:02,  1.78it/s, tot_impr=1326, last_impr=0, loss=541]]  \n",
      "4it [00:02,  1.80it/s, tot_impr=1382, last_impr=0, loss=475]81]\n",
      "4it [00:02,  1.90it/s, tot_impr=1359, last_impr=0, loss=495] 9]\n",
      "4it [00:02,  1.80it/s, tot_impr=1343, last_impr=0, loss=525]53]\n",
      "3it [00:01,  1.83it/s, tot_impr=1363, last_impr=0, loss=506]   \n",
      "4it [00:02,  1.89it/s, tot_impr=1305, last_impr=0, loss=556]64]\n",
      "5it [00:02,  1.90it/s, tot_impr=1352, last_impr=0, loss=506]09]\n",
      "3it [00:01,  1.92it/s, tot_impr=1332, last_impr=0, loss=530]   \n",
      "4it [00:02,  1.87it/s, tot_impr=1335, last_impr=0, loss=535]78]\n",
      "4it [00:02,  1.82it/s, tot_impr=1341, last_impr=0, loss=508]92]\n",
      "4it [00:02,  1.90it/s, tot_impr=1351, last_impr=0, loss=517]18]\n",
      "4it [00:02,  1.83it/s, tot_impr=1372, last_impr=0, loss=498]]  \n",
      "4it [00:02,  1.86it/s, tot_impr=1352, last_impr=0, loss=512]49]\n",
      "4it [00:02,  1.91it/s, tot_impr=1333, last_impr=0, loss=521]\n",
      "3it [00:01,  1.83it/s, tot_impr=1363, last_impr=0, loss=499] 4]\n",
      "3it [00:01,  1.91it/s, tot_impr=1321, last_impr=0, loss=542] 4]\n",
      "4it [00:02,  1.81it/s, tot_impr=1317, last_impr=0, loss=546]]  \n",
      "3it [00:01,  1.93it/s, tot_impr=1296, last_impr=0, loss=571]]  \n",
      "3it [00:01,  1.94it/s, tot_impr=1414, last_impr=0, loss=455] 1]\n",
      "3it [00:01,  1.80it/s, tot_impr=1348, last_impr=0, loss=517] 6]\n",
      "3it [00:01,  1.96it/s, tot_impr=1298, last_impr=0, loss=565] 3]\n",
      "4it [00:02,  1.84it/s, tot_impr=1337, last_impr=0, loss=512]]  \n",
      "4it [00:02,  1.92it/s, tot_impr=1324, last_impr=0, loss=529]52]\n",
      "5it [00:02,  1.79it/s, tot_impr=1394, last_impr=0, loss=484]]  \n",
      "3it [00:01,  1.79it/s, tot_impr=1286, last_impr=0, loss=576]   \n",
      "3it [00:01,  1.79it/s, tot_impr=1319, last_impr=0, loss=544] 9]\n",
      "4it [00:02,  1.81it/s, tot_impr=1357, last_impr=0, loss=508]]  \n",
      "5it [00:02,  1.93it/s, tot_impr=1358, last_impr=0, loss=499]06]\n",
      "5it [00:03,  1.56it/s, tot_impr=1308, last_impr=0, loss=554] \n",
      "3it [00:01,  1.93it/s, tot_impr=1370, last_impr=0, loss=490] \n",
      "3it [00:01,  1.83it/s, tot_impr=1297, last_impr=0, loss=569] \n",
      "4it [00:02,  1.83it/s, tot_impr=1388, last_impr=0, loss=475] 2]\n",
      "5it [00:02,  1.79it/s, tot_impr=1340, last_impr=0, loss=523] \n",
      "3it [00:01,  1.93it/s, tot_impr=1341, last_impr=0, loss=519] \n",
      "4it [00:02,  1.83it/s, tot_impr=1375, last_impr=0, loss=483]]  \n",
      "5it [00:02,  1.96it/s, tot_impr=1322, last_impr=0, loss=537] 8]\n",
      "4it [00:02,  1.81it/s, tot_impr=1367, last_impr=0, loss=501]]  \n",
      "4it [00:02,  1.92it/s, tot_impr=1334, last_impr=0, loss=525]92]\n",
      "3it [00:01,  1.80it/s, tot_impr=1288, last_impr=0, loss=569] \n",
      "5it [00:02,  1.78it/s, tot_impr=1319, last_impr=0, loss=546]14]\n",
      "4it [00:02,  1.92it/s, tot_impr=1324, last_impr=0, loss=537]82]\n",
      "4it [00:02,  1.83it/s, tot_impr=1339, last_impr=0, loss=528]47]\n",
      "5it [00:02,  1.88it/s, tot_impr=1344, last_impr=0, loss=521]]  \n",
      "4it [00:02,  1.82it/s, tot_impr=1315, last_impr=0, loss=549]74]\n",
      "4it [00:02,  1.78it/s, tot_impr=1354, last_impr=0, loss=510]\n",
      "5it [00:02,  1.80it/s, tot_impr=1294, last_impr=0, loss=561]]  \n",
      "4it [00:02,  1.93it/s, tot_impr=1363, last_impr=0, loss=503]\n",
      "4it [00:02,  1.95it/s, tot_impr=1293, last_impr=0, loss=575]]  \n",
      "4it [00:02,  1.97it/s, tot_impr=1360, last_impr=0, loss=509]\n",
      "4it [00:02,  1.83it/s, tot_impr=1308, last_impr=0, loss=563]   \n",
      "5it [00:02,  1.95it/s, tot_impr=1320, last_impr=0, loss=539]]  \n",
      "4it [00:02,  1.92it/s, tot_impr=1306, last_impr=0, loss=555]]  \n",
      "4it [00:02,  1.93it/s, tot_impr=1344, last_impr=0, loss=522]80]\n",
      "4it [00:02,  1.81it/s, tot_impr=1307, last_impr=0, loss=545]\n",
      "4it [00:02,  1.82it/s, tot_impr=1307, last_impr=0, loss=559]   \n",
      "3it [00:01,  1.93it/s, tot_impr=1268, last_impr=0, loss=598] \n",
      "3it [00:01,  1.91it/s, tot_impr=1337, last_impr=0, loss=533] 9]\n",
      "3it [00:01,  1.80it/s, tot_impr=1324, last_impr=0, loss=538]   \n",
      "4it [00:02,  1.85it/s, tot_impr=1325, last_impr=0, loss=531]\n",
      "3it [00:01,  1.81it/s, tot_impr=1346, last_impr=0, loss=510] \n",
      "4it [00:02,  1.84it/s, tot_impr=1290, last_impr=0, loss=578] 1]\n",
      "4it [00:02,  1.81it/s, tot_impr=1340, last_impr=0, loss=517]   \n",
      "4it [00:02,  1.84it/s, tot_impr=1297, last_impr=0, loss=573]45]\n",
      "3it [00:01,  1.94it/s, tot_impr=1333, last_impr=0, loss=530]   \n",
      "4it [00:02,  1.96it/s, tot_impr=1307, last_impr=0, loss=561]\n",
      "4it [00:02,  1.84it/s, tot_impr=1353, last_impr=0, loss=508]   \n",
      "4it [00:02,  1.92it/s, tot_impr=1332, last_impr=0, loss=526] 3]\n",
      "4it [00:02,  1.59it/s, tot_impr=1284, last_impr=0, loss=573]87]\n",
      "4it [00:02,  1.86it/s, tot_impr=1332, last_impr=0, loss=519]]  \n",
      "4it [00:02,  1.81it/s, tot_impr=1308, last_impr=0, loss=561]70]\n",
      "5it [00:02,  1.79it/s, tot_impr=1335, last_impr=0, loss=523]   \n",
      "3it [00:01,  1.81it/s, tot_impr=1365, last_impr=0, loss=503] \n",
      "4it [00:02,  1.83it/s, tot_impr=1337, last_impr=0, loss=520]44]\n",
      "4it [00:02,  1.90it/s, tot_impr=1377, last_impr=0, loss=485]\n",
      "4it [00:02,  1.94it/s, tot_impr=1359, last_impr=0, loss=506]]\n",
      "4it [00:02,  1.85it/s, tot_impr=1357, last_impr=0, loss=504]]  \n",
      "4it [00:02,  1.79it/s, tot_impr=1303, last_impr=0, loss=566]17]\n",
      "4it [00:02,  1.97it/s, tot_impr=1328, last_impr=0, loss=531] \n",
      "4it [00:02,  1.91it/s, tot_impr=1355, last_impr=0, loss=502]]  \n",
      "4it [00:02,  1.90it/s, tot_impr=1308, last_impr=0, loss=542]   \n",
      "4it [00:02,  1.98it/s, tot_impr=1339, last_impr=0, loss=522]]  \n",
      "4it [00:02,  1.86it/s, tot_impr=1330, last_impr=0, loss=532] 2]\n",
      "4it [00:02,  1.98it/s, tot_impr=1306, last_impr=0, loss=547]\n",
      "3it [00:01,  1.82it/s, tot_impr=1316, last_impr=0, loss=536]20]\n",
      "4it [00:02,  1.96it/s, tot_impr=1351, last_impr=0, loss=511]61]\n",
      "4it [00:02,  1.94it/s, tot_impr=1292, last_impr=0, loss=556]18]\n",
      "4it [00:02,  1.82it/s, tot_impr=1332, last_impr=0, loss=533]\n",
      "4it [00:02,  1.86it/s, tot_impr=1368, last_impr=0, loss=495] \n",
      "4it [00:02,  1.91it/s, tot_impr=1340, last_impr=0, loss=532]\n",
      "3it [00:01,  1.88it/s, tot_impr=1305, last_impr=0, loss=557] \n",
      "4it [00:02,  1.83it/s, tot_impr=1308, last_impr=0, loss=554]]  \n",
      "4it [00:02,  1.77it/s, tot_impr=1286, last_impr=0, loss=570]]  \n",
      "3it [00:01,  1.81it/s, tot_impr=1309, last_impr=0, loss=547]   \n",
      "4it [00:02,  1.78it/s, tot_impr=1344, last_impr=0, loss=522] \n",
      "6it [00:03,  1.81it/s, tot_impr=1341, last_impr=0, loss=517]11]\n",
      "4it [00:02,  1.95it/s, tot_impr=1301, last_impr=0, loss=566]66]\n",
      "4it [00:02,  1.84it/s, tot_impr=1336, last_impr=0, loss=524]\n",
      "4it [00:02,  1.81it/s, tot_impr=1350, last_impr=0, loss=515]\n",
      "3it [00:01,  1.81it/s, tot_impr=1325, last_impr=0, loss=545]   \n",
      "4it [00:02,  1.93it/s, tot_impr=1305, last_impr=0, loss=556]\n",
      "4it [00:02,  1.77it/s, tot_impr=1334, last_impr=0, loss=525]93]\n",
      "3it [00:01,  1.81it/s, tot_impr=1338, last_impr=0, loss=528]   \n",
      "4it [00:02,  1.88it/s, tot_impr=1380, last_impr=0, loss=484]   \n",
      "4it [00:02,  1.93it/s, tot_impr=1369, last_impr=0, loss=495]\n",
      "4it [00:02,  1.77it/s, tot_impr=1395, last_impr=0, loss=478]08]\n",
      "4it [00:02,  1.83it/s, tot_impr=1382, last_impr=0, loss=487] \n",
      "4it [00:02,  1.74it/s, tot_impr=1310, last_impr=0, loss=556] \n",
      "4it [00:02,  1.84it/s, tot_impr=1311, last_impr=0, loss=546]\n",
      "3it [00:01,  1.82it/s, tot_impr=1293, last_impr=0, loss=565] \n",
      "4it [00:02,  1.93it/s, tot_impr=1365, last_impr=0, loss=497]]  \n",
      "4it [00:02,  1.93it/s, tot_impr=1324, last_impr=0, loss=536] \n",
      "4it [00:02,  1.95it/s, tot_impr=1358, last_impr=0, loss=510]]  \n",
      "3it [00:01,  1.84it/s, tot_impr=1301, last_impr=0, loss=560]   \n",
      "4it [00:02,  1.90it/s, tot_impr=1293, last_impr=0, loss=567]   \n",
      "5it [00:02,  1.77it/s, tot_impr=1289, last_impr=0, loss=579]\n",
      "4it [00:02,  1.95it/s, tot_impr=1362, last_impr=0, loss=500]\n",
      "4it [00:02,  1.80it/s, tot_impr=1332, last_impr=0, loss=537]05]\n",
      "4it [00:02,  1.96it/s, tot_impr=1361, last_impr=0, loss=494]]  \n",
      "3it [00:01,  1.82it/s, tot_impr=1294, last_impr=0, loss=569] 1]\n",
      "4it [00:02,  1.95it/s, tot_impr=1370, last_impr=0, loss=501]23]\n",
      "3it [00:01,  1.80it/s, tot_impr=1283, last_impr=0, loss=572] 6]\n",
      "4it [00:02,  1.93it/s, tot_impr=1307, last_impr=0, loss=567]\n",
      "4it [00:02,  1.80it/s, tot_impr=1360, last_impr=0, loss=504]75]\n",
      "3it [00:01,  1.80it/s, tot_impr=1290, last_impr=0, loss=570] 9]\n",
      "5it [00:02,  1.90it/s, tot_impr=1364, last_impr=0, loss=501]]  \n",
      "4it [00:02,  1.83it/s, tot_impr=1384, last_impr=0, loss=484]]  \n",
      "4it [00:02,  1.90it/s, tot_impr=1314, last_impr=0, loss=553]\n",
      "3it [00:01,  1.91it/s, tot_impr=1364, last_impr=0, loss=507]   \n",
      "3it [00:01,  1.95it/s, tot_impr=1284, last_impr=0, loss=576] 0]\n",
      "3it [00:01,  1.92it/s, tot_impr=1308, last_impr=0, loss=559] \n",
      "4it [00:02,  1.93it/s, tot_impr=1346, last_impr=0, loss=512]]  \n",
      "5it [00:02,  1.83it/s, tot_impr=1353, last_impr=0, loss=509]]  \n",
      "5it [00:02,  1.81it/s, tot_impr=1372, last_impr=0, loss=475]72]\n",
      "5it [00:02,  1.83it/s, tot_impr=1325, last_impr=0, loss=544]]  \n",
      "3it [00:01,  1.91it/s, tot_impr=1286, last_impr=0, loss=570] \n",
      "4it [00:02,  1.80it/s, tot_impr=1353, last_impr=0, loss=509]76]\n",
      "4it [00:02,  1.82it/s, tot_impr=1379, last_impr=0, loss=495]]  \n",
      "5it [00:02,  1.79it/s, tot_impr=1341, last_impr=0, loss=520]74]\n",
      "4it [00:02,  1.85it/s, tot_impr=1324, last_impr=0, loss=536] \n",
      "4it [00:02,  1.84it/s, tot_impr=1361, last_impr=0, loss=498] \n",
      "4it [00:02,  1.78it/s, tot_impr=1296, last_impr=0, loss=571] \n",
      "3it [00:01,  1.89it/s, tot_impr=1363, last_impr=0, loss=491]   \n",
      "4it [00:02,  1.96it/s, tot_impr=1320, last_impr=0, loss=538]]  \n",
      "4it [00:02,  1.92it/s, tot_impr=1338, last_impr=0, loss=524]31]\n",
      "4it [00:02,  1.82it/s, tot_impr=1294, last_impr=0, loss=564]]  \n",
      "3it [00:01,  1.83it/s, tot_impr=1312, last_impr=0, loss=545] \n",
      "5it [00:02,  1.82it/s, tot_impr=1328, last_impr=0, loss=533]\n",
      "4it [00:02,  1.96it/s, tot_impr=1315, last_impr=0, loss=550]]  \n",
      "5it [00:02,  1.92it/s, tot_impr=1353, last_impr=0, loss=516]39]\n",
      "4it [00:02,  1.79it/s, tot_impr=1343, last_impr=0, loss=523]]  \n",
      "5it [00:02,  1.90it/s, tot_impr=1343, last_impr=0, loss=519]]  \n",
      "4it [00:02,  1.81it/s, tot_impr=1344, last_impr=0, loss=519]]2]\n",
      "4it [00:02,  1.84it/s, tot_impr=1351, last_impr=0, loss=510]81]\n",
      "5it [00:02,  1.81it/s, tot_impr=1361, last_impr=0, loss=491] 0]\n",
      "4it [00:02,  1.89it/s, tot_impr=1358, last_impr=0, loss=507] \n",
      "3it [00:01,  1.88it/s, tot_impr=1376, last_impr=0, loss=495] \n",
      "4it [00:02,  1.93it/s, tot_impr=1408, last_impr=0, loss=457] 0]\n",
      "3it [00:01,  1.78it/s, tot_impr=1373, last_impr=0, loss=503] 5]\n",
      "3it [00:01,  1.82it/s, tot_impr=1355, last_impr=0, loss=504]17]\n",
      "5it [00:02,  1.92it/s, tot_impr=1303, last_impr=0, loss=548] 1]\n",
      "4it [00:02,  1.90it/s, tot_impr=1338, last_impr=0, loss=523]]  \n",
      "4it [00:02,  1.94it/s, tot_impr=1365, last_impr=0, loss=502]   \n",
      "5it [00:02,  1.84it/s, tot_impr=1342, last_impr=0, loss=522]\n",
      "3it [00:01,  1.81it/s, tot_impr=1374, last_impr=0, loss=488]96]\n",
      "5it [00:02,  1.81it/s, tot_impr=1374, last_impr=0, loss=489]   \n",
      "4it [00:02,  1.94it/s, tot_impr=1280, last_impr=0, loss=591]\n",
      "3it [00:01,  1.80it/s, tot_impr=1351, last_impr=0, loss=515] \n",
      "3it [00:01,  1.83it/s, tot_impr=1319, last_impr=0, loss=533] 2]\n",
      "4it [00:02,  1.83it/s, tot_impr=1377, last_impr=0, loss=482]]  \n",
      "5it [00:02,  1.92it/s, tot_impr=1331, last_impr=0, loss=535]]  \n",
      "3it [00:01,  1.92it/s, tot_impr=1262, last_impr=0, loss=603] \n",
      "3it [00:01,  1.81it/s, tot_impr=1318, last_impr=0, loss=540]   \n",
      "3it [00:01,  1.94it/s, tot_impr=1315, last_impr=0, loss=544] \n",
      "4it [00:02,  1.79it/s, tot_impr=1308, last_impr=0, loss=545]]  \n",
      "4it [00:02,  1.95it/s, tot_impr=1378, last_impr=0, loss=482]\n",
      "4it [00:02,  1.81it/s, tot_impr=1349, last_impr=0, loss=503] \n",
      "3it [00:01,  1.92it/s, tot_impr=1350, last_impr=0, loss=517]\n",
      "3it [00:01,  1.95it/s, tot_impr=1289, last_impr=0, loss=580] 3]\n",
      "4it [00:02,  1.97it/s, tot_impr=1367, last_impr=0, loss=496]87]\n",
      "4it [00:02,  1.85it/s, tot_impr=1337, last_impr=0, loss=535]\n",
      "4it [00:02,  1.82it/s, tot_impr=1303, last_impr=0, loss=557] 5]\n",
      "5it [00:02,  1.83it/s, tot_impr=1380, last_impr=0, loss=478]\n",
      "4it [00:02,  1.82it/s, tot_impr=1373, last_impr=0, loss=476]   \n",
      "4it [00:02,  1.84it/s, tot_impr=1340, last_impr=0, loss=528] 5]\n",
      "4it [00:02,  1.82it/s, tot_impr=1337, last_impr=0, loss=535]68]\n",
      "4it [00:02,  1.93it/s, tot_impr=1357, last_impr=0, loss=516]]  \n",
      "4it [00:02,  1.78it/s, tot_impr=1335, last_impr=0, loss=517]   \n",
      "4it [00:02,  1.98it/s, tot_impr=1301, last_impr=0, loss=553]\n",
      "6it [00:03,  1.97it/s, tot_impr=1342, last_impr=0, loss=527]\n",
      "4it [00:02,  1.83it/s, tot_impr=1340, last_impr=0, loss=519]]  \n",
      "3it [00:01,  1.78it/s, tot_impr=1311, last_impr=0, loss=546] 8]\n",
      "3it [00:01,  1.77it/s, tot_impr=1334, last_impr=0, loss=530]]  \n",
      "4it [00:02,  1.77it/s, tot_impr=1274, last_impr=0, loss=589]70]\n",
      "4it [00:02,  1.77it/s, tot_impr=1334, last_impr=0, loss=535] 6]\n",
      "3it [00:01,  1.94it/s, tot_impr=1285, last_impr=0, loss=572] 4]\n",
      "5it [00:02,  1.76it/s, tot_impr=1327, last_impr=0, loss=534]   \n",
      "4it [00:02,  1.96it/s, tot_impr=1344, last_impr=0, loss=527]   \n",
      "4it [00:02,  1.92it/s, tot_impr=1319, last_impr=0, loss=551]]  \n",
      "4it [00:02,  1.83it/s, tot_impr=1278, last_impr=0, loss=592]\n",
      "4it [00:02,  1.60it/s, tot_impr=1302, last_impr=0, loss=553] 4]\n",
      "4it [00:02,  1.87it/s, tot_impr=1385, last_impr=0, loss=481]   \n",
      "6it [00:03,  1.96it/s, tot_impr=1334, last_impr=0, loss=522]00]\n",
      "6it [00:03,  1.93it/s, tot_impr=1328, last_impr=0, loss=535]\n",
      "4it [00:02,  1.83it/s, tot_impr=1319, last_impr=0, loss=535] \n",
      "4it [00:02,  1.84it/s, tot_impr=1332, last_impr=0, loss=531] \n",
      "5it [00:02,  1.81it/s, tot_impr=1354, last_impr=0, loss=515]\n",
      "4it [00:02,  1.95it/s, tot_impr=1278, last_impr=0, loss=574] 3]\n",
      "4it [00:02,  1.90it/s, tot_impr=1339, last_impr=0, loss=514]   \n",
      "4it [00:02,  1.90it/s, tot_impr=1374, last_impr=0, loss=488]27]\n",
      "7it [00:03,  1.90it/s, tot_impr=1358, last_impr=0, loss=503] 4]\n",
      "5it [00:02,  1.89it/s, tot_impr=1324, last_impr=0, loss=540]\n",
      "4it [00:02,  1.82it/s, tot_impr=1331, last_impr=0, loss=531]]  \n",
      "5it [00:02,  1.83it/s, tot_impr=1330, last_impr=0, loss=535]\n",
      "4it [00:02,  1.83it/s, tot_impr=1319, last_impr=0, loss=547]\n",
      "4it [00:02,  1.87it/s, tot_impr=1357, last_impr=0, loss=511]58]\n",
      "4it [00:02,  1.84it/s, tot_impr=1356, last_impr=0, loss=493]85]\n",
      "3it [00:01,  1.78it/s, tot_impr=1292, last_impr=0, loss=565] 8]\n",
      "4it [00:02,  1.93it/s, tot_impr=1376, last_impr=0, loss=490]]  \n",
      "5it [00:02,  1.84it/s, tot_impr=1317, last_impr=0, loss=554]]  \n",
      "5it [00:02,  1.95it/s, tot_impr=1329, last_impr=0, loss=538] \n",
      "4it [00:02,  1.81it/s, tot_impr=1358, last_impr=0, loss=512]\n",
      "3it [00:01,  1.91it/s, tot_impr=1335, last_impr=0, loss=520]   \n",
      "4it [00:02,  1.85it/s, tot_impr=1340, last_impr=0, loss=510] 0]\n",
      "5it [00:02,  1.96it/s, tot_impr=1351, last_impr=0, loss=525]]  \n",
      "3it [00:01,  1.79it/s, tot_impr=1309, last_impr=0, loss=537]   \n",
      "5it [00:02,  1.81it/s, tot_impr=1287, last_impr=0, loss=573]]  \n",
      "3it [00:01,  1.92it/s, tot_impr=1326, last_impr=0, loss=536] 6]\n",
      "4it [00:02,  1.92it/s, tot_impr=1338, last_impr=0, loss=525]\n",
      "4it [00:02,  1.82it/s, tot_impr=1326, last_impr=0, loss=536] \n",
      "3it [00:01,  1.73it/s, tot_impr=1330, last_impr=0, loss=531] \n",
      "3it [00:01,  1.87it/s, tot_impr=1323, last_impr=0, loss=537] \n",
      "4it [00:02,  1.91it/s, tot_impr=1333, last_impr=0, loss=542]]  \n",
      "4it [00:02,  1.82it/s, tot_impr=1331, last_impr=0, loss=526]\n",
      "3it [00:01,  1.93it/s, tot_impr=1292, last_impr=0, loss=570] 5]\n",
      "3it [00:01,  1.96it/s, tot_impr=1351, last_impr=0, loss=518] ] \n",
      "5it [00:02,  1.76it/s, tot_impr=1343, last_impr=0, loss=526]]  \n",
      "3it [00:01,  1.78it/s, tot_impr=1333, last_impr=0, loss=524]   \n",
      "4it [00:02,  1.83it/s, tot_impr=1352, last_impr=0, loss=507]\n",
      "4it [00:02,  1.78it/s, tot_impr=1320, last_impr=0, loss=536]\n",
      "4it [00:02,  1.94it/s, tot_impr=1311, last_impr=0, loss=545]   \n",
      "3it [00:01,  1.79it/s, tot_impr=1312, last_impr=0, loss=549]   \n",
      "5it [00:02,  1.97it/s, tot_impr=1327, last_impr=0, loss=538]  ]\n",
      "3it [00:01,  1.93it/s, tot_impr=1354, last_impr=0, loss=502] \n",
      "4it [00:02,  1.80it/s, tot_impr=1319, last_impr=0, loss=533] 0]\n",
      "5it [00:02,  1.81it/s, tot_impr=1325, last_impr=0, loss=533]]  \n",
      "4it [00:02,  1.79it/s, tot_impr=1274, last_impr=0, loss=586]06]\n",
      "4it [00:02,  1.83it/s, tot_impr=1340, last_impr=0, loss=517]\n",
      "3it [00:01,  1.96it/s, tot_impr=1311, last_impr=0, loss=545]   \n",
      "5it [00:02,  1.93it/s, tot_impr=1330, last_impr=0, loss=544]   \n",
      "4it [00:02,  1.84it/s, tot_impr=1362, last_impr=0, loss=502]]  \n",
      "4it [00:02,  1.79it/s, tot_impr=1310, last_impr=0, loss=559]79]\n",
      "4it [00:02,  1.98it/s, tot_impr=1337, last_impr=0, loss=522] 8]\n",
      "4it [00:02,  1.92it/s, tot_impr=1348, last_impr=0, loss=519]   \n",
      "3it [00:01,  1.94it/s, tot_impr=1317, last_impr=0, loss=543] 9]\n",
      "4it [00:02,  1.76it/s, tot_impr=1385, last_impr=0, loss=483]\n",
      "3it [00:01,  1.94it/s, tot_impr=1323, last_impr=0, loss=545] 5]\n",
      "4it [00:02,  1.76it/s, tot_impr=1294, last_impr=0, loss=571]83]\n",
      "4it [00:02,  1.76it/s, tot_impr=1306, last_impr=0, loss=550]]  \n",
      "4it [00:02,  1.81it/s, tot_impr=1323, last_impr=0, loss=539]41]\n",
      "4it [00:02,  1.99it/s, tot_impr=1326, last_impr=0, loss=544]]  \n",
      "4it [00:02,  1.95it/s, tot_impr=1336, last_impr=0, loss=522]\n",
      "4it [00:02,  1.82it/s, tot_impr=1347, last_impr=0, loss=512]]  \n",
      "3it [00:01,  1.79it/s, tot_impr=1287, last_impr=0, loss=576]   \n",
      "4it [00:02,  1.93it/s, tot_impr=1379, last_impr=0, loss=491]57]\n",
      "4it [00:02,  1.90it/s, tot_impr=1356, last_impr=0, loss=504]\n",
      "4it [00:02,  1.85it/s, tot_impr=1365, last_impr=0, loss=493]\n",
      "3it [00:01,  1.96it/s, tot_impr=1344, last_impr=0, loss=516]   \n",
      "4it [00:02,  1.79it/s, tot_impr=1335, last_impr=0, loss=520]]  \n",
      "4it [00:02,  1.96it/s, tot_impr=1346, last_impr=0, loss=519] 8]\n",
      "3it [00:01,  1.82it/s, tot_impr=1341, last_impr=0, loss=518]   \n",
      "4it [00:02,  1.83it/s, tot_impr=1345, last_impr=0, loss=522]   \n",
      "4it [00:02,  1.96it/s, tot_impr=1317, last_impr=0, loss=532]\n",
      "4it [00:02,  1.95it/s, tot_impr=1338, last_impr=0, loss=516]\n",
      "4it [00:02,  1.79it/s, tot_impr=1257, last_impr=0, loss=599]98]\n",
      "4it [00:02,  1.79it/s, tot_impr=1366, last_impr=0, loss=504]]  \n",
      "4it [00:02,  1.83it/s, tot_impr=1361, last_impr=0, loss=497]]  \n",
      "4it [00:02,  1.84it/s, tot_impr=1293, last_impr=0, loss=569]]  \n",
      "4it [00:02,  1.92it/s, tot_impr=1322, last_impr=0, loss=545] \n",
      "4it [00:02,  1.80it/s, tot_impr=1335, last_impr=0, loss=530]]  \n",
      "4it [00:02,  1.96it/s, tot_impr=1370, last_impr=0, loss=494]\n",
      "5it [00:02,  1.80it/s, tot_impr=1361, last_impr=0, loss=507]97]\n",
      "4it [00:02,  1.97it/s, tot_impr=1305, last_impr=0, loss=550]  ]\n",
      "4it [00:02,  1.79it/s, tot_impr=1371, last_impr=0, loss=495] \n",
      "4it [00:02,  1.95it/s, tot_impr=1314, last_impr=0, loss=558]62]\n",
      "4it [00:02,  1.92it/s, tot_impr=1374, last_impr=0, loss=488]55]\n",
      "4it [00:02,  1.91it/s, tot_impr=1309, last_impr=0, loss=550] \n",
      "4it [00:02,  1.85it/s, tot_impr=1317, last_impr=0, loss=553]   \n",
      "3it [00:01,  1.90it/s, tot_impr=1304, last_impr=0, loss=564]   \n",
      "4it [00:02,  1.94it/s, tot_impr=1328, last_impr=0, loss=527]05]\n",
      "4it [00:02,  1.81it/s, tot_impr=1292, last_impr=0, loss=560]\n",
      "5it [00:02,  1.80it/s, tot_impr=1379, last_impr=0, loss=480]   \n",
      "4it [00:02,  1.76it/s, tot_impr=1341, last_impr=0, loss=527] 7]\n",
      "4it [00:02,  1.93it/s, tot_impr=1316, last_impr=0, loss=544]   \n",
      "4it [00:02,  1.81it/s, tot_impr=1328, last_impr=0, loss=533]\n",
      "4it [00:02,  1.81it/s, tot_impr=1341, last_impr=0, loss=514]]  \n",
      "4it [00:02,  1.95it/s, tot_impr=1292, last_impr=0, loss=569]81]\n",
      "4it [00:02,  1.76it/s, tot_impr=1308, last_impr=0, loss=552]]  \n",
      "4it [00:02,  1.83it/s, tot_impr=1281, last_impr=0, loss=578]   \n",
      "5it [00:02,  1.91it/s, tot_impr=1379, last_impr=0, loss=484] 3]\n",
      "5it [00:02,  1.83it/s, tot_impr=1357, last_impr=0, loss=509]]  \n",
      "5it [00:02,  1.93it/s, tot_impr=1394, last_impr=0, loss=477]91]\n",
      "4it [00:02,  1.95it/s, tot_impr=1377, last_impr=0, loss=471]84]\n",
      "4it [00:02,  1.93it/s, tot_impr=1346, last_impr=0, loss=509] \n",
      "4it [00:02,  1.83it/s, tot_impr=1294, last_impr=0, loss=575] 9]\n",
      "4it [00:02,  1.80it/s, tot_impr=1332, last_impr=0, loss=523]\n",
      "4it [00:02,  1.81it/s, tot_impr=1351, last_impr=0, loss=506]]  \n",
      "4it [00:02,  1.97it/s, tot_impr=1281, last_impr=0, loss=579]51]\n",
      "3it [00:01,  1.77it/s, tot_impr=1327, last_impr=0, loss=528] \n",
      "4it [00:02,  1.84it/s, tot_impr=1320, last_impr=0, loss=554]]  \n",
      "5it [00:02,  1.78it/s, tot_impr=1342, last_impr=0, loss=517]\n",
      "3it [00:01,  1.95it/s, tot_impr=1354, last_impr=0, loss=515]   \n",
      "4it [00:02,  1.77it/s, tot_impr=1323, last_impr=0, loss=534]]  \n",
      "4it [00:02,  1.91it/s, tot_impr=1342, last_impr=0, loss=522]]  \n",
      "5it [00:02,  1.84it/s, tot_impr=1265, last_impr=0, loss=593]37]\n",
      "3it [00:01,  1.76it/s, tot_impr=1359, last_impr=0, loss=512] \n",
      "3it [00:01,  1.77it/s, tot_impr=1327, last_impr=0, loss=528]   \n",
      "5it [00:02,  1.96it/s, tot_impr=1334, last_impr=0, loss=518]   \n",
      "3it [00:01,  1.81it/s, tot_impr=1301, last_impr=0, loss=555] 4]\n",
      "4it [00:02,  1.92it/s, tot_impr=1288, last_impr=0, loss=587]12]\n",
      "4it [00:02,  1.93it/s, tot_impr=1319, last_impr=0, loss=537]   \n",
      "4it [00:02,  1.84it/s, tot_impr=1369, last_impr=0, loss=501]\n",
      "5it [00:02,  1.80it/s, tot_impr=1336, last_impr=0, loss=532]89]\n",
      "3it [00:01,  1.80it/s, tot_impr=1331, last_impr=0, loss=531] 0]\n",
      "5it [00:02,  1.96it/s, tot_impr=1401, last_impr=0, loss=456]\n",
      "4it [00:02,  1.93it/s, tot_impr=1346, last_impr=0, loss=521]08]\n",
      "3it [00:01,  1.92it/s, tot_impr=1338, last_impr=0, loss=517] \n",
      "5it [00:02,  1.95it/s, tot_impr=1386, last_impr=0, loss=483]]  \n",
      "4it [00:02,  1.85it/s, tot_impr=1357, last_impr=0, loss=499] \n",
      "4it [00:02,  1.95it/s, tot_impr=1317, last_impr=0, loss=545]]  \n",
      "3it [00:01,  1.95it/s, tot_impr=1316, last_impr=0, loss=553] 4]\n",
      "4it [00:02,  1.92it/s, tot_impr=1348, last_impr=0, loss=511]86]\n",
      "4it [00:02,  1.79it/s, tot_impr=1325, last_impr=0, loss=529]66]\n",
      "5it [00:02,  1.81it/s, tot_impr=1350, last_impr=0, loss=512]]  \n",
      "4it [00:02,  1.89it/s, tot_impr=1310, last_impr=0, loss=553]31]\n",
      "3it [00:01,  1.80it/s, tot_impr=1316, last_impr=0, loss=549]   \n",
      "3it [00:01,  1.81it/s, tot_impr=1287, last_impr=0, loss=559] 8]\n",
      "4it [00:02,  1.80it/s, tot_impr=1304, last_impr=0, loss=553]\n",
      "4it [00:02,  1.83it/s, tot_impr=1337, last_impr=0, loss=524]\n",
      "5it [00:02,  1.83it/s, tot_impr=1381, last_impr=0, loss=467]]  \n",
      "4it [00:02,  1.98it/s, tot_impr=1343, last_impr=0, loss=516]]  \n",
      "4it [00:02,  1.83it/s, tot_impr=1375, last_impr=0, loss=486]]  \n",
      "3it [00:01,  1.90it/s, tot_impr=1280, last_impr=0, loss=581]   \n",
      "3it [00:01,  1.82it/s, tot_impr=1339, last_impr=0, loss=528] \n",
      "4it [00:02,  1.92it/s, tot_impr=1351, last_impr=0, loss=510]   \n",
      "4it [00:02,  1.78it/s, tot_impr=1321, last_impr=0, loss=545]\n",
      "3it [00:01,  1.78it/s, tot_impr=1321, last_impr=0, loss=536] \n",
      "4it [00:02,  1.68it/s, tot_impr=1377, last_impr=0, loss=490]   \n",
      "4it [00:02,  1.81it/s, tot_impr=1378, last_impr=0, loss=484] 3]\n",
      "4it [00:02,  1.77it/s, tot_impr=1313, last_impr=0, loss=547] 6]\n",
      "4it [00:02,  1.97it/s, tot_impr=1365, last_impr=0, loss=509]89]\n",
      "4it [00:02,  1.93it/s, tot_impr=1323, last_impr=0, loss=534]39]\n",
      "3it [00:01,  1.90it/s, tot_impr=1311, last_impr=0, loss=527] \n",
      "5it [00:02,  1.95it/s, tot_impr=1355, last_impr=0, loss=521]79]\n",
      "4it [00:02,  1.84it/s, tot_impr=1361, last_impr=0, loss=504]06]\n",
      "4it [00:02,  1.81it/s, tot_impr=1405, last_impr=0, loss=456]\n",
      "4it [00:02,  1.93it/s, tot_impr=1322, last_impr=0, loss=540]73]\n",
      "4it [00:02,  1.91it/s, tot_impr=1329, last_impr=0, loss=534]   \n",
      "4it [00:02,  1.93it/s, tot_impr=1318, last_impr=0, loss=536]   \n",
      "4it [00:02,  1.79it/s, tot_impr=1274, last_impr=0, loss=589]]  \n",
      "4it [00:02,  1.95it/s, tot_impr=1418, last_impr=0, loss=457]]  \n",
      "5it [00:02,  1.96it/s, tot_impr=1294, last_impr=0, loss=565]20]\n",
      "5it [00:02,  1.91it/s, tot_impr=1318, last_impr=0, loss=545]]  \n",
      "3it [00:01,  1.81it/s, tot_impr=1330, last_impr=0, loss=527]46]\n",
      "5it [00:02,  1.79it/s, tot_impr=1313, last_impr=0, loss=552]\n",
      "3it [00:01,  1.98it/s, tot_impr=1348, last_impr=0, loss=515] \n",
      "4it [00:02,  1.82it/s, tot_impr=1381, last_impr=0, loss=482]\n",
      "3it [00:01,  1.71it/s, tot_impr=1317, last_impr=0, loss=542] 1]\n",
      "3it [00:01,  1.97it/s, tot_impr=1349, last_impr=0, loss=514]   \n",
      "4it [00:02,  1.93it/s, tot_impr=1279, last_impr=0, loss=580]13]\n",
      "3it [00:01,  1.81it/s, tot_impr=1269, last_impr=0, loss=595] \n",
      "4it [00:02,  1.77it/s, tot_impr=1369, last_impr=0, loss=484]]  \n",
      "4it [00:02,  1.79it/s, tot_impr=1367, last_impr=0, loss=501]27]\n",
      "4it [00:02,  1.94it/s, tot_impr=1340, last_impr=0, loss=528]]  \n",
      "4it [00:02,  1.79it/s, tot_impr=1308, last_impr=0, loss=538]]  \n",
      "4it [00:02,  1.84it/s, tot_impr=1332, last_impr=0, loss=530] 7]\n",
      "3it [00:01,  1.77it/s, tot_impr=1312, last_impr=0, loss=560] 6]\n",
      "4it [00:02,  1.82it/s, tot_impr=1329, last_impr=0, loss=543]   \n",
      "3it [00:01,  1.95it/s, tot_impr=1353, last_impr=0, loss=508]   \n",
      "3it [00:01,  1.80it/s, tot_impr=1331, last_impr=0, loss=537] 2]\n",
      "3it [00:01,  1.81it/s, tot_impr=1341, last_impr=0, loss=533] \n",
      "5it [00:02,  1.81it/s, tot_impr=1312, last_impr=0, loss=555]]  \n",
      "3it [00:01,  1.93it/s, tot_impr=1339, last_impr=0, loss=527]   \n",
      "4it [00:02,  1.93it/s, tot_impr=1350, last_impr=0, loss=507]]  \n",
      "4it [00:02,  1.94it/s, tot_impr=1396, last_impr=0, loss=467]40]\n",
      "4it [00:02,  1.81it/s, tot_impr=1277, last_impr=0, loss=587]]  \n",
      "4it [00:02,  1.92it/s, tot_impr=1341, last_impr=0, loss=522] \n",
      "4it [00:02,  1.97it/s, tot_impr=1353, last_impr=0, loss=512]]  \n",
      "5it [00:02,  1.81it/s, tot_impr=1325, last_impr=0, loss=537] 3]\n",
      "4it [00:02,  1.93it/s, tot_impr=1323, last_impr=0, loss=543]]  \n",
      "3it [00:01,  1.80it/s, tot_impr=1338, last_impr=0, loss=519]   \n",
      "4it [00:02,  1.82it/s, tot_impr=1315, last_impr=0, loss=544]47]\n",
      "5it [00:02,  1.81it/s, tot_impr=1275, last_impr=0, loss=583]]  \n",
      "4it [00:02,  1.93it/s, tot_impr=1304, last_impr=0, loss=567]]4]\n",
      "4it [00:02,  1.93it/s, tot_impr=1289, last_impr=0, loss=565] 0]\n",
      "4it [00:02,  1.90it/s, tot_impr=1321, last_impr=0, loss=546] 0]\n",
      "4it [00:02,  1.81it/s, tot_impr=1233, last_impr=0, loss=622]]  \n",
      "4it [00:02,  1.78it/s, tot_impr=1369, last_impr=0, loss=494] 3]\n",
      "4it [00:02,  1.97it/s, tot_impr=1300, last_impr=0, loss=567]\n",
      "5it [00:02,  1.97it/s, tot_impr=1353, last_impr=0, loss=515]\n",
      "4it [00:02,  1.92it/s, tot_impr=1351, last_impr=0, loss=513]]  \n",
      "4it [00:02,  1.80it/s, tot_impr=1326, last_impr=0, loss=542]71]\n",
      "4it [00:02,  1.81it/s, tot_impr=1336, last_impr=0, loss=527]05]\n",
      "4it [00:02,  1.94it/s, tot_impr=1328, last_impr=0, loss=528]]  \n",
      "3it [00:01,  1.92it/s, tot_impr=1351, last_impr=0, loss=506]   \n",
      "4it [00:02,  1.81it/s, tot_impr=1295, last_impr=0, loss=568]18]\n",
      "4it [00:02,  1.81it/s, tot_impr=1288, last_impr=0, loss=575] \n",
      "4it [00:02,  1.80it/s, tot_impr=1334, last_impr=0, loss=538]03]\n",
      "4it [00:02,  1.83it/s, tot_impr=1333, last_impr=0, loss=528]\n",
      "5it [00:02,  1.81it/s, tot_impr=1296, last_impr=0, loss=563]\n",
      "3it [00:01,  1.76it/s, tot_impr=1267, last_impr=0, loss=601] \n",
      "3it [00:01,  1.92it/s, tot_impr=1332, last_impr=0, loss=536]36]\n",
      "4it [00:02,  1.96it/s, tot_impr=1366, last_impr=0, loss=492]   \n",
      "4it [00:02,  1.82it/s, tot_impr=1355, last_impr=0, loss=504]\n",
      "4it [00:02,  1.81it/s, tot_impr=1349, last_impr=0, loss=507]27]\n",
      "4it [00:02,  1.81it/s, tot_impr=1292, last_impr=0, loss=571]\n",
      "4it [00:02,  1.92it/s, tot_impr=1317, last_impr=0, loss=545]]  \n",
      "4it [00:02,  1.91it/s, tot_impr=1322, last_impr=0, loss=540]]  \n",
      "3it [00:01,  1.93it/s, tot_impr=1296, last_impr=0, loss=564] \n",
      "4it [00:02,  1.79it/s, tot_impr=1362, last_impr=0, loss=503] 4]\n",
      "3it [00:01,  1.79it/s, tot_impr=1378, last_impr=0, loss=488]  \n",
      "4it [00:02,  1.95it/s, tot_impr=1364, last_impr=0, loss=493]92]\n",
      "4it [00:02,  1.78it/s, tot_impr=1345, last_impr=0, loss=509]]  \n",
      "5it [00:02,  1.94it/s, tot_impr=1341, last_impr=0, loss=511]74]\n",
      "4it [00:02,  1.81it/s, tot_impr=1332, last_impr=0, loss=522]   \n",
      "4it [00:02,  1.83it/s, tot_impr=1315, last_impr=0, loss=539]]  \n",
      "4it [00:02,  1.90it/s, tot_impr=1338, last_impr=0, loss=526]]  \n",
      "3it [00:01,  1.83it/s, tot_impr=1369, last_impr=0, loss=490] \n",
      "4it [00:02,  1.91it/s, tot_impr=1311, last_impr=0, loss=554]]  \n",
      "4it [00:02,  1.95it/s, tot_impr=1333, last_impr=0, loss=531]]  \n",
      "4it [00:02,  1.92it/s, tot_impr=1352, last_impr=0, loss=515]13]\n",
      "4it [00:02,  1.80it/s, tot_impr=1399, last_impr=0, loss=469] \n",
      "4it [00:02,  1.85it/s, tot_impr=1265, last_impr=0, loss=606]\n",
      "4it [00:02,  1.81it/s, tot_impr=1358, last_impr=0, loss=498]\n",
      "3it [00:01,  1.87it/s, tot_impr=1375, last_impr=0, loss=482]   \n",
      "4it [00:02,  1.84it/s, tot_impr=1294, last_impr=0, loss=563]69]\n",
      "4it [00:02,  1.97it/s, tot_impr=1343, last_impr=0, loss=517]71]\n",
      "4it [00:02,  1.96it/s, tot_impr=1381, last_impr=0, loss=482]]  \n",
      "4it [00:02,  1.84it/s, tot_impr=1321, last_impr=0, loss=534]\n",
      "4it [00:02,  1.83it/s, tot_impr=1294, last_impr=0, loss=573] 8]\n",
      "4it [00:02,  1.86it/s, tot_impr=1376, last_impr=0, loss=487]10]\n",
      "4it [00:02,  1.80it/s, tot_impr=1320, last_impr=0, loss=549]65]\n",
      "4it [00:02,  1.96it/s, tot_impr=1318, last_impr=0, loss=541] \n",
      "4it [00:02,  1.78it/s, tot_impr=1314, last_impr=0, loss=553]\n",
      "3it [00:01,  1.95it/s, tot_impr=1298, last_impr=0, loss=565] 4]\n",
      "5it [00:02,  1.92it/s, tot_impr=1399, last_impr=0, loss=477]27]\n",
      "3it [00:01,  1.79it/s, tot_impr=1329, last_impr=0, loss=527]   \n",
      "4it [00:02,  1.80it/s, tot_impr=1338, last_impr=0, loss=531]]  \n",
      "3it [00:01,  1.79it/s, tot_impr=1277, last_impr=0, loss=585] \n",
      "4it [00:02,  1.94it/s, tot_impr=1352, last_impr=0, loss=515]70]\n",
      "4it [00:02,  1.84it/s, tot_impr=1330, last_impr=0, loss=529]\n",
      "4it [00:02,  1.83it/s, tot_impr=1379, last_impr=0, loss=483]]  \n",
      "4it [00:02,  1.94it/s, tot_impr=1334, last_impr=0, loss=530]]  \n",
      "4it [00:02,  1.79it/s, tot_impr=1353, last_impr=0, loss=521] 0]\n",
      "3it [00:01,  1.84it/s, tot_impr=1280, last_impr=0, loss=573] 6]\n",
      "4it [00:02,  1.96it/s, tot_impr=1375, last_impr=0, loss=493]47]\n",
      "3it [00:01,  1.87it/s, tot_impr=1327, last_impr=0, loss=537] 7]\n",
      "5it [00:02,  1.88it/s, tot_impr=1308, last_impr=0, loss=545] \n",
      "4it [00:02,  1.88it/s, tot_impr=1375, last_impr=0, loss=485]]  \n",
      "4it [00:02,  1.91it/s, tot_impr=1318, last_impr=0, loss=538]]  \n",
      "4it [00:02,  1.78it/s, tot_impr=1346, last_impr=0, loss=504]\n",
      "4it [00:02,  1.93it/s, tot_impr=1271, last_impr=0, loss=595]]  \n",
      "4it [00:02,  1.81it/s, tot_impr=1350, last_impr=0, loss=506]   \n",
      "4it [00:02,  1.79it/s, tot_impr=1344, last_impr=0, loss=522] \n",
      "4it [00:02,  1.86it/s, tot_impr=1350, last_impr=0, loss=518]   \n",
      "5it [00:02,  1.79it/s, tot_impr=1355, last_impr=0, loss=502]   \n",
      "3it [00:01,  1.82it/s, tot_impr=1299, last_impr=0, loss=575] \n",
      "5it [00:02,  1.93it/s, tot_impr=1302, last_impr=0, loss=562]63]\n",
      "4it [00:02,  1.93it/s, tot_impr=1329, last_impr=0, loss=533]\n",
      "4it [00:02,  1.80it/s, tot_impr=1331, last_impr=0, loss=535]]  \n",
      "4it [00:02,  1.89it/s, tot_impr=1346, last_impr=0, loss=516]   \n",
      "4it [00:02,  1.84it/s, tot_impr=1401, last_impr=0, loss=465]   \n",
      "4it [00:02,  1.92it/s, tot_impr=1293, last_impr=0, loss=563]\n",
      "3it [00:01,  1.83it/s, tot_impr=1271, last_impr=0, loss=591] \n",
      "4it [00:02,  1.79it/s, tot_impr=1316, last_impr=0, loss=547] \n",
      "4it [00:02,  1.83it/s, tot_impr=1348, last_impr=0, loss=504]\n",
      "4it [00:02,  1.84it/s, tot_impr=1279, last_impr=0, loss=572]63]\n",
      "4it [00:02,  1.89it/s, tot_impr=1356, last_impr=0, loss=501]\n",
      "4it [00:02,  1.88it/s, tot_impr=1309, last_impr=0, loss=558]\n",
      "4it [00:02,  1.80it/s, tot_impr=1337, last_impr=0, loss=524]]  \n",
      "4it [00:02,  1.84it/s, tot_impr=1336, last_impr=0, loss=532] \n",
      "4it [00:02,  1.82it/s, tot_impr=1299, last_impr=0, loss=560]11]\n",
      "4it [00:02,  1.97it/s, tot_impr=1365, last_impr=0, loss=498]\n",
      "4it [00:02,  1.83it/s, tot_impr=1322, last_impr=0, loss=531]02]\n",
      "4it [00:02,  1.79it/s, tot_impr=1339, last_impr=0, loss=522]49]\n",
      "3it [00:01,  1.93it/s, tot_impr=1356, last_impr=0, loss=517]]  \n",
      "4it [00:02,  1.93it/s, tot_impr=1255, last_impr=0, loss=608]40]\n",
      "4it [00:02,  1.84it/s, tot_impr=1348, last_impr=0, loss=513]\n",
      "4it [00:02,  1.92it/s, tot_impr=1372, last_impr=0, loss=498]]  \n",
      "4it [00:02,  1.89it/s, tot_impr=1325, last_impr=0, loss=523]\n",
      "3it [00:01,  1.86it/s, tot_impr=1361, last_impr=0, loss=500]]  \n",
      "4it [00:02,  1.93it/s, tot_impr=1385, last_impr=0, loss=474]]  \n",
      "3it [00:01,  1.84it/s, tot_impr=1346, last_impr=0, loss=522]   \n",
      "3it [00:01,  1.82it/s, tot_impr=1332, last_impr=0, loss=523]   \n",
      "4it [00:02,  1.83it/s, tot_impr=1364, last_impr=0, loss=508]]  \n",
      "3it [00:01,  1.93it/s, tot_impr=1340, last_impr=0, loss=526]   \n",
      "5it [00:02,  1.83it/s, tot_impr=1300, last_impr=0, loss=567]\n",
      "3it [00:01,  1.96it/s, tot_impr=1374, last_impr=0, loss=494]   \n",
      "4it [00:02,  1.83it/s, tot_impr=1398, last_impr=0, loss=459]\n",
      "4it [00:02,  1.77it/s, tot_impr=1297, last_impr=0, loss=572] \n",
      "3it [00:01,  1.76it/s, tot_impr=1292, last_impr=0, loss=566]\n",
      "3it [00:01,  1.93it/s, tot_impr=1260, last_impr=0, loss=607] 9]\n",
      "4it [00:02,  1.94it/s, tot_impr=1342, last_impr=0, loss=522]70]\n",
      "5it [00:02,  1.93it/s, tot_impr=1359, last_impr=0, loss=497]]  \n",
      "4it [00:02,  1.84it/s, tot_impr=1420, last_impr=0, loss=441]45]\n",
      "3it [00:01,  1.92it/s, tot_impr=1328, last_impr=0, loss=529] 6]\n",
      "4it [00:02,  1.97it/s, tot_impr=1328, last_impr=0, loss=538]]  \n",
      "3it [00:01,  1.90it/s, tot_impr=1360, last_impr=0, loss=507]   \n",
      "4it [00:02,  1.84it/s, tot_impr=1330, last_impr=0, loss=537]\n",
      "4it [00:02,  1.85it/s, tot_impr=1359, last_impr=0, loss=502]\n",
      "4it [00:02,  1.82it/s, tot_impr=1363, last_impr=0, loss=506]   \n",
      "5it [00:02,  1.89it/s, tot_impr=1274, last_impr=0, loss=584]   \n",
      "3it [00:01,  1.79it/s, tot_impr=1364, last_impr=0, loss=508] \n",
      "4it [00:02,  1.82it/s, tot_impr=1341, last_impr=0, loss=523]62]\n",
      "4it [00:02,  1.80it/s, tot_impr=1359, last_impr=0, loss=506]]  \n",
      "4it [00:02,  1.81it/s, tot_impr=1357, last_impr=0, loss=508]\n",
      "4it [00:02,  1.95it/s, tot_impr=1275, last_impr=0, loss=584] 7]\n",
      "4it [00:02,  1.83it/s, tot_impr=1312, last_impr=0, loss=535]96]\n",
      "5it [00:02,  1.84it/s, tot_impr=1352, last_impr=0, loss=511]\n",
      "4it [00:02,  1.96it/s, tot_impr=1342, last_impr=0, loss=520]]  \n",
      "4it [00:02,  1.95it/s, tot_impr=1393, last_impr=0, loss=466]06]\n",
      "4it [00:02,  1.95it/s, tot_impr=1370, last_impr=0, loss=500]]  \n",
      "4it [00:02,  1.85it/s, tot_impr=1369, last_impr=0, loss=497]]  \n",
      "4it [00:02,  1.94it/s, tot_impr=1355, last_impr=0, loss=509]]2]\n",
      "4it [00:02,  1.80it/s, tot_impr=1412, last_impr=0, loss=453]   \n",
      "4it [00:02,  1.86it/s, tot_impr=1382, last_impr=0, loss=483]73]\n",
      "5it [00:02,  1.91it/s, tot_impr=1308, last_impr=0, loss=550]21]\n",
      "4it [00:02,  1.82it/s, tot_impr=1301, last_impr=0, loss=559]\n",
      "3it [00:01,  1.75it/s, tot_impr=1323, last_impr=0, loss=541]   \n",
      "4it [00:02,  1.93it/s, tot_impr=1356, last_impr=0, loss=499]\n",
      "4it [00:02,  1.92it/s, tot_impr=1338, last_impr=0, loss=521] 6]\n",
      "4it [00:02,  1.81it/s, tot_impr=1336, last_impr=0, loss=532]   \n",
      "5it [00:02,  1.85it/s, tot_impr=1361, last_impr=0, loss=510]\n",
      "4it [00:02,  1.96it/s, tot_impr=1254, last_impr=0, loss=604]\n",
      "4it [00:02,  1.84it/s, tot_impr=1369, last_impr=0, loss=492]\n",
      "4it [00:02,  1.80it/s, tot_impr=1286, last_impr=0, loss=582]]  \n",
      "4it [00:02,  1.89it/s, tot_impr=1305, last_impr=0, loss=551]88]\n",
      "4it [00:02,  1.92it/s, tot_impr=1340, last_impr=0, loss=519]58]\n",
      "3it [00:01,  1.82it/s, tot_impr=1326, last_impr=0, loss=532] 0]\n",
      "5it [00:02,  1.93it/s, tot_impr=1363, last_impr=0, loss=502]]  \n",
      "3it [00:01,  1.89it/s, tot_impr=1286, last_impr=0, loss=561] \n",
      "4it [00:02,  1.84it/s, tot_impr=1279, last_impr=0, loss=570]\n",
      "4it [00:02,  1.85it/s, tot_impr=1277, last_impr=0, loss=580]\n",
      "3it [00:01,  1.95it/s, tot_impr=1308, last_impr=0, loss=546] \n",
      "4it [00:02,  1.82it/s, tot_impr=1323, last_impr=0, loss=552] 3]\n",
      "4it [00:02,  1.96it/s, tot_impr=1319, last_impr=0, loss=546]55]\n",
      "5it [00:02,  1.88it/s, tot_impr=1319, last_impr=0, loss=544]90]\n",
      "4it [00:02,  1.80it/s, tot_impr=1280, last_impr=0, loss=581]]9]\n",
      "4it [00:02,  1.77it/s, tot_impr=1346, last_impr=0, loss=505] 0]\n",
      "4it [00:02,  1.81it/s, tot_impr=1319, last_impr=0, loss=539]]  \n",
      "3it [00:01,  1.94it/s, tot_impr=1308, last_impr=0, loss=556] \n",
      "4it [00:02,  1.94it/s, tot_impr=1350, last_impr=0, loss=522]   \n",
      "3it [00:01,  1.93it/s, tot_impr=1351, last_impr=0, loss=510] 4]\n",
      "3it [00:01,  1.81it/s, tot_impr=1352, last_impr=0, loss=517] \n",
      "5it [00:02,  1.82it/s, tot_impr=1302, last_impr=0, loss=554] 5]\n",
      "4it [00:02,  1.89it/s, tot_impr=1329, last_impr=0, loss=538]70]\n",
      "4it [00:02,  1.85it/s, tot_impr=1338, last_impr=0, loss=524]96]\n",
      "5it [00:02,  1.80it/s, tot_impr=1325, last_impr=0, loss=539] 1]\n",
      "3it [00:01,  1.85it/s, tot_impr=1325, last_impr=0, loss=540]   \n",
      "4it [00:02,  1.82it/s, tot_impr=1320, last_impr=0, loss=539]]  \n",
      "3it [00:01,  1.83it/s, tot_impr=1354, last_impr=0, loss=516] 6]\n",
      "4it [00:02,  1.79it/s, tot_impr=1308, last_impr=0, loss=546]]  \n",
      "4it [00:02,  1.92it/s, tot_impr=1391, last_impr=0, loss=479] 2]\n",
      "4it [00:02,  1.81it/s, tot_impr=1321, last_impr=0, loss=535] 8]\n",
      "4it [00:02,  1.90it/s, tot_impr=1293, last_impr=0, loss=567]]1]\n",
      "4it [00:02,  1.92it/s, tot_impr=1313, last_impr=0, loss=541] \n",
      "3it [00:01,  1.94it/s, tot_impr=1253, last_impr=0, loss=598] \n",
      "3it [00:01,  1.84it/s, tot_impr=1300, last_impr=0, loss=569] 6]\n",
      "4it [00:02,  1.82it/s, tot_impr=1341, last_impr=0, loss=526]\n",
      "4it [00:02,  1.77it/s, tot_impr=1372, last_impr=0, loss=503]]  \n",
      "3it [00:01,  1.80it/s, tot_impr=1380, last_impr=0, loss=483] 4]\n",
      "4it [00:02,  1.84it/s, tot_impr=1387, last_impr=0, loss=471]\n",
      "4it [00:02,  1.94it/s, tot_impr=1277, last_impr=0, loss=582]]  \n",
      "4it [00:02,  1.82it/s, tot_impr=1310, last_impr=0, loss=551]89]\n",
      "5it [00:02,  1.91it/s, tot_impr=1322, last_impr=0, loss=545] \n",
      "4it [00:02,  1.96it/s, tot_impr=1338, last_impr=0, loss=522]\n",
      "3it [00:01,  1.92it/s, tot_impr=1347, last_impr=0, loss=513] \n",
      "5it [00:02,  1.94it/s, tot_impr=1354, last_impr=0, loss=517]]  \n",
      "3it [00:01,  1.71it/s, tot_impr=1352, last_impr=0, loss=497]   \n",
      "3it [00:01,  1.76it/s, tot_impr=1288, last_impr=0, loss=578] 4]\n",
      "4it [00:02,  1.81it/s, tot_impr=1321, last_impr=0, loss=553]\n",
      "5it [00:02,  1.89it/s, tot_impr=1313, last_impr=0, loss=541]\n",
      "5it [00:02,  1.92it/s, tot_impr=1302, last_impr=0, loss=554] \n",
      "5it [00:02,  1.82it/s, tot_impr=1343, last_impr=0, loss=532]]  \n",
      "3it [00:01,  1.86it/s, tot_impr=1338, last_impr=0, loss=517] \n",
      "4it [00:02,  1.92it/s, tot_impr=1309, last_impr=0, loss=555]]  \n",
      "4it [00:02,  1.84it/s, tot_impr=1361, last_impr=0, loss=502] \n",
      "3it [00:01,  1.82it/s, tot_impr=1299, last_impr=0, loss=557]   \n",
      "4it [00:02,  1.88it/s, tot_impr=1261, last_impr=0, loss=599]98]\n",
      "4it [00:02,  1.80it/s, tot_impr=1331, last_impr=0, loss=532]\n",
      "3it [00:01,  1.80it/s, tot_impr=1334, last_impr=0, loss=526] 2]\n",
      "3it [00:01,  1.85it/s, tot_impr=1335, last_impr=0, loss=520]   \n",
      "4it [00:02,  1.79it/s, tot_impr=1323, last_impr=0, loss=539]88]\n",
      "4it [00:02,  1.85it/s, tot_impr=1377, last_impr=0, loss=487] \n",
      "3it [00:01,  1.80it/s, tot_impr=1322, last_impr=0, loss=539]]  \n",
      "4it [00:02,  1.84it/s, tot_impr=1316, last_impr=0, loss=543]79]\n",
      "4it [00:02,  1.88it/s, tot_impr=1313, last_impr=0, loss=547]]  \n",
      "4it [00:02,  1.92it/s, tot_impr=1376, last_impr=0, loss=499]]  \n",
      "4it [00:02,  1.90it/s, tot_impr=1350, last_impr=0, loss=512]   \n",
      "4it [00:02,  1.84it/s, tot_impr=1340, last_impr=0, loss=529]]  \n",
      "5it [00:02,  1.81it/s, tot_impr=1334, last_impr=0, loss=527]12]\n",
      "5it [00:02,  1.90it/s, tot_impr=1340, last_impr=0, loss=516]]  \n",
      "4it [00:02,  1.91it/s, tot_impr=1380, last_impr=0, loss=485]   \n",
      "4it [00:02,  1.84it/s, tot_impr=1315, last_impr=0, loss=544]42]\n",
      "4it [00:02,  1.79it/s, tot_impr=1405, last_impr=0, loss=461]\n",
      "4it [00:02,  1.92it/s, tot_impr=1401, last_impr=0, loss=473]\n",
      "4it [00:02,  1.91it/s, tot_impr=1348, last_impr=0, loss=516] \n",
      "3it [00:01,  1.80it/s, tot_impr=1358, last_impr=0, loss=502]   \n",
      "4it [00:02,  1.87it/s, tot_impr=1260, last_impr=0, loss=590]]  \n",
      "4it [00:02,  1.97it/s, tot_impr=1300, last_impr=0, loss=569]19]\n",
      "4it [00:02,  1.93it/s, tot_impr=1347, last_impr=0, loss=520]]  \n",
      "4it [00:02,  1.79it/s, tot_impr=1354, last_impr=0, loss=511]   \n",
      "4it [00:02,  1.93it/s, tot_impr=1325, last_impr=0, loss=543]]  \n",
      "4it [00:02,  1.85it/s, tot_impr=1353, last_impr=0, loss=517]   \n",
      "5it [00:02,  1.89it/s, tot_impr=1306, last_impr=0, loss=558]\n",
      "4it [00:02,  1.81it/s, tot_impr=1346, last_impr=0, loss=516]51]\n",
      "5it [00:02,  1.80it/s, tot_impr=1398, last_impr=0, loss=471]\n",
      "4it [00:02,  1.92it/s, tot_impr=1366, last_impr=0, loss=493] 1]\n",
      "3it [00:01,  1.86it/s, tot_impr=1242, last_impr=0, loss=610]23]\n",
      "5it [00:02,  1.81it/s, tot_impr=1321, last_impr=0, loss=538]72]\n",
      "4it [00:02,  1.80it/s, tot_impr=1358, last_impr=0, loss=505]41]\n",
      "5it [00:02,  1.78it/s, tot_impr=1343, last_impr=0, loss=522]   \n",
      "6it [00:03,  1.89it/s, tot_impr=1377, last_impr=0, loss=485]\n",
      "4it [00:02,  1.84it/s, tot_impr=1339, last_impr=0, loss=527]]  \n",
      "4it [00:02,  1.85it/s, tot_impr=1333, last_impr=0, loss=537]]  \n",
      "4it [00:02,  1.79it/s, tot_impr=1320, last_impr=0, loss=541] 3]\n",
      "4it [00:02,  1.95it/s, tot_impr=1394, last_impr=0, loss=477] 8]\n",
      "3it [00:01,  1.92it/s, tot_impr=1365, last_impr=0, loss=497] 7]\n",
      "4it [00:02,  1.83it/s, tot_impr=1310, last_impr=0, loss=555]07]\n",
      "3it [00:01,  1.98it/s, tot_impr=1329, last_impr=0, loss=532] \n",
      "5it [00:02,  1.93it/s, tot_impr=1358, last_impr=0, loss=503]\n",
      "5it [00:02,  1.82it/s, tot_impr=1323, last_impr=0, loss=539]]  \n",
      "4it [00:02,  1.86it/s, tot_impr=1324, last_impr=0, loss=540]\n",
      "5it [00:02,  1.82it/s, tot_impr=1335, last_impr=0, loss=523]\n",
      "3it [00:01,  1.93it/s, tot_impr=1362, last_impr=0, loss=491]]  \n",
      "5it [00:02,  1.93it/s, tot_impr=1362, last_impr=0, loss=492]92]\n",
      "4it [00:02,  1.93it/s, tot_impr=1339, last_impr=0, loss=514]\n",
      "3it [00:01,  1.94it/s, tot_impr=1285, last_impr=0, loss=581]]  \n",
      "4it [00:02,  1.94it/s, tot_impr=1369, last_impr=0, loss=499]]  \n",
      "4it [00:02,  1.91it/s, tot_impr=1349, last_impr=0, loss=521]\n",
      "3it [00:01,  1.80it/s, tot_impr=1324, last_impr=0, loss=519]79]\n",
      "3it [00:01,  1.81it/s, tot_impr=1359, last_impr=0, loss=509]   \n",
      "5it [00:02,  1.80it/s, tot_impr=1269, last_impr=0, loss=595] 1]\n",
      "4it [00:02,  1.85it/s, tot_impr=1380, last_impr=0, loss=481]\n",
      "5it [00:02,  1.79it/s, tot_impr=1324, last_impr=0, loss=539]18]\n",
      "3it [00:01,  1.77it/s, tot_impr=1292, last_impr=0, loss=567] 0]\n",
      "5it [00:02,  1.83it/s, tot_impr=1263, last_impr=0, loss=609]\n",
      "3it [00:01,  1.82it/s, tot_impr=1335, last_impr=0, loss=523] \n",
      "4it [00:02,  1.85it/s, tot_impr=1328, last_impr=0, loss=539]]  \n",
      "5it [00:02,  1.96it/s, tot_impr=1332, last_impr=0, loss=538]33]\n",
      "4it [00:02,  1.93it/s, tot_impr=1289, last_impr=0, loss=576]\n",
      "5it [00:03,  1.66it/s, tot_impr=1328, last_impr=0, loss=545] \n",
      "4it [00:02,  1.81it/s, tot_impr=1311, last_impr=0, loss=547]]  \n",
      "5it [00:02,  1.97it/s, tot_impr=1388, last_impr=0, loss=481]]  \n",
      "3it [00:01,  1.84it/s, tot_impr=1289, last_impr=0, loss=572] 3]\n",
      "4it [00:02,  1.92it/s, tot_impr=1353, last_impr=0, loss=512]]8]\n",
      "5it [00:02,  1.84it/s, tot_impr=1293, last_impr=0, loss=573]10]\n",
      "4it [00:02,  1.83it/s, tot_impr=1316, last_impr=0, loss=547] \n",
      "5it [00:02,  1.86it/s, tot_impr=1329, last_impr=0, loss=527]]  \n",
      "6it [00:03,  1.83it/s, tot_impr=1347, last_impr=0, loss=519]06]\n",
      "4it [00:02,  1.93it/s, tot_impr=1309, last_impr=0, loss=562]38]\n",
      "4it [00:02,  1.91it/s, tot_impr=1333, last_impr=0, loss=529] \n",
      "3it [00:01,  1.83it/s, tot_impr=1358, last_impr=0, loss=515] \n",
      "4it [00:02,  1.97it/s, tot_impr=1346, last_impr=0, loss=510]\n",
      "4it [00:02,  1.80it/s, tot_impr=1315, last_impr=0, loss=544]11]\n",
      "4it [00:02,  1.92it/s, tot_impr=1307, last_impr=0, loss=546] \n",
      "4it [00:02,  1.83it/s, tot_impr=1295, last_impr=0, loss=568]]  \n",
      "4it [00:02,  1.80it/s, tot_impr=1335, last_impr=0, loss=525] \n",
      "3it [00:01,  1.83it/s, tot_impr=1322, last_impr=0, loss=541]   \n",
      "5it [00:02,  1.93it/s, tot_impr=1340, last_impr=0, loss=530]]  \n",
      "4it [00:02,  1.92it/s, tot_impr=1342, last_impr=0, loss=517]\n",
      "4it [00:02,  1.96it/s, tot_impr=1322, last_impr=0, loss=555]86]\n",
      "4it [00:02,  1.95it/s, tot_impr=1321, last_impr=0, loss=552]\n",
      "5it [00:02,  1.92it/s, tot_impr=1366, last_impr=0, loss=483]]  \n",
      "3it [00:01,  1.91it/s, tot_impr=1332, last_impr=0, loss=542] 5]\n",
      "4it [00:02,  1.82it/s, tot_impr=1308, last_impr=0, loss=550] 2]\n",
      "4it [00:02,  1.81it/s, tot_impr=1312, last_impr=0, loss=547]]  \n",
      "4it [00:02,  1.82it/s, tot_impr=1324, last_impr=0, loss=545]]  \n",
      "4it [00:02,  1.81it/s, tot_impr=1363, last_impr=0, loss=502]\n",
      "4it [00:02,  1.82it/s, tot_impr=1335, last_impr=0, loss=540]   \n",
      "3it [00:01,  1.84it/s, tot_impr=1314, last_impr=0, loss=551]   \n",
      "4it [00:02,  1.94it/s, tot_impr=1333, last_impr=0, loss=522]]  \n",
      "4it [00:02,  1.81it/s, tot_impr=1332, last_impr=0, loss=528] 5]\n",
      "5it [00:02,  1.81it/s, tot_impr=1301, last_impr=0, loss=549] \n",
      "4it [00:02,  1.95it/s, tot_impr=1334, last_impr=0, loss=525] \n",
      "5it [00:02,  1.80it/s, tot_impr=1285, last_impr=0, loss=572]\n",
      "5it [00:02,  1.98it/s, tot_impr=1401, last_impr=0, loss=459]]  \n",
      "4it [00:02,  1.62it/s, tot_impr=1338, last_impr=0, loss=532] \n",
      "3it [00:01,  1.98it/s, tot_impr=1339, last_impr=0, loss=528] 8]\n",
      "3it [00:01,  1.80it/s, tot_impr=1352, last_impr=0, loss=506] \n",
      "4it [00:02,  1.80it/s, tot_impr=1319, last_impr=0, loss=539] \n",
      "3it [00:01,  1.97it/s, tot_impr=1344, last_impr=0, loss=530] 7]\n",
      "3it [00:01,  1.95it/s, tot_impr=1334, last_impr=0, loss=527]55]\n",
      "4it [00:02,  1.79it/s, tot_impr=1376, last_impr=0, loss=483]\n",
      "4it [00:02,  1.78it/s, tot_impr=1339, last_impr=0, loss=527]\n",
      "4it [00:02,  1.79it/s, tot_impr=1293, last_impr=0, loss=564]\n",
      "4it [00:02,  1.95it/s, tot_impr=1315, last_impr=0, loss=545]]  \n",
      "4it [00:02,  1.96it/s, tot_impr=1333, last_impr=0, loss=532]\n",
      "4it [00:02,  1.96it/s, tot_impr=1323, last_impr=0, loss=541]46]\n",
      "3it [00:01,  1.90it/s, tot_impr=1328, last_impr=0, loss=532] \n",
      "4it [00:02,  1.75it/s, tot_impr=1336, last_impr=0, loss=536]]  \n",
      "4it [00:02,  1.86it/s, tot_impr=1358, last_impr=0, loss=504]\n",
      "4it [00:02,  1.81it/s, tot_impr=1306, last_impr=0, loss=563]]  \n",
      "5it [00:02,  1.96it/s, tot_impr=1346, last_impr=0, loss=516]65]\n",
      "5it [00:02,  1.96it/s, tot_impr=1358, last_impr=0, loss=502] 3]\n",
      "5it [00:02,  1.81it/s, tot_impr=1382, last_impr=0, loss=486]   \n",
      "4it [00:02,  1.94it/s, tot_impr=1369, last_impr=0, loss=487]\n",
      "4it [00:02,  1.81it/s, tot_impr=1389, last_impr=0, loss=467]   \n",
      "4it [00:02,  1.82it/s, tot_impr=1316, last_impr=0, loss=537]]  \n",
      "3it [00:01,  1.97it/s, tot_impr=1347, last_impr=0, loss=512] \n",
      "4it [00:02,  1.83it/s, tot_impr=1354, last_impr=0, loss=518]\n",
      "4it [00:02,  1.81it/s, tot_impr=1337, last_impr=0, loss=528]]\n",
      "4it [00:02,  1.95it/s, tot_impr=1301, last_impr=0, loss=551]   \n",
      "4it [00:02,  1.85it/s, tot_impr=1342, last_impr=0, loss=533]   \n",
      "4it [00:02,  1.83it/s, tot_impr=1380, last_impr=0, loss=484] 6]\n",
      "4it [00:02,  1.96it/s, tot_impr=1294, last_impr=0, loss=567]   \n",
      "4it [00:02,  1.83it/s, tot_impr=1342, last_impr=0, loss=521] \n",
      "4it [00:02,  1.92it/s, tot_impr=1348, last_impr=0, loss=521]]  \n",
      "3it [00:01,  1.87it/s, tot_impr=1283, last_impr=0, loss=582] 6]\n",
      "4it [00:02,  1.95it/s, tot_impr=1370, last_impr=0, loss=495]\n",
      "4it [00:02,  1.84it/s, tot_impr=1354, last_impr=0, loss=512] \n",
      "4it [00:02,  1.88it/s, tot_impr=1338, last_impr=0, loss=527]]  \n",
      "4it [00:02,  1.97it/s, tot_impr=1384, last_impr=0, loss=479] \n",
      "4it [00:02,  1.67it/s, tot_impr=1382, last_impr=0, loss=488] \n",
      "4it [00:02,  1.85it/s, tot_impr=1314, last_impr=0, loss=548]\n",
      "4it [00:02,  1.94it/s, tot_impr=1329, last_impr=0, loss=526]]\n",
      "4it [00:02,  1.63it/s, tot_impr=1353, last_impr=0, loss=511]\n",
      "4it [00:02,  1.97it/s, tot_impr=1300, last_impr=0, loss=560]\n",
      "5it [00:02,  1.84it/s, tot_impr=1316, last_impr=0, loss=552]\n",
      "5it [00:02,  1.86it/s, tot_impr=1347, last_impr=0, loss=515]\n",
      "4it [00:02,  1.94it/s, tot_impr=1312, last_impr=0, loss=552] \n",
      "5it [00:02,  1.88it/s, tot_impr=1302, last_impr=0, loss=560]]  \n",
      "4it [00:02,  1.89it/s, tot_impr=1310, last_impr=0, loss=558]\n",
      "5it [00:02,  1.90it/s, tot_impr=1408, last_impr=0, loss=464] \n",
      "5it [00:02,  1.96it/s, tot_impr=1319, last_impr=0, loss=535]\n",
      "4it [00:02,  2.00it/s, tot_impr=1302, last_impr=0, loss=558] \n",
      "4it [00:01,  2.02it/s, tot_impr=1307, last_impr=0, loss=563] \n",
      "4it [00:02,  1.99it/s, tot_impr=1325, last_impr=0, loss=533]\n",
      "5it [00:02,  2.02it/s, tot_impr=1381, last_impr=0, loss=483]\n",
      "4it [00:01,  2.05it/s, tot_impr=1304, last_impr=0, loss=554]\n"
     ]
    }
   ],
   "source": [
    "path = './examples/HumanCyc_2016.npy'\n",
    "repeats = 1000\n",
    "\n",
    "thresh = np.repeat(50,repeats)\n",
    "seed = np.arange(repeats)\n",
    "C = 0\n",
    "KL_modified = True\n",
    "random_labels = True\n",
    "unweighted = True\n",
    "\n",
    "results = process_map(partial(get_scores,path,C,KL_modified,False,unweighted), seed, thresh)\n"
   ]
  },
  {
   "cell_type": "code",
   "execution_count": 28,
   "id": "dca30044-a2cf-47b0-9c0c-026ba84da250",
   "metadata": {},
   "outputs": [],
   "source": [
    "loss = [x[1] for x in results]\n",
    "labels = np.vstack([x[0] for x in results])"
   ]
  },
  {
   "cell_type": "code",
   "execution_count": 81,
   "id": "d398c297-92eb-46c4-8921-47f6126be478",
   "metadata": {},
   "outputs": [
    {
     "data": {
      "text/plain": [
       "761"
      ]
     },
     "execution_count": 81,
     "metadata": {},
     "output_type": "execute_result"
    }
   ],
   "source": [
    "np.argmin(loss-np.min(loss))"
   ]
  },
  {
   "cell_type": "code",
   "execution_count": 97,
   "id": "21c4497d-db09-4646-a8ef-0a1c02c6ad2c",
   "metadata": {},
   "outputs": [],
   "source": [
    "out = []\n",
    "curr = labels[np.argsort(loss)[0]]\n",
    "for i in range(len(curr)):\n",
    "    out.append(curr==curr[i])\n",
    "dist = np.vstack(out)"
   ]
  },
  {
   "cell_type": "code",
   "execution_count": 98,
   "id": "6ae74d5d-63dc-4dd5-9834-5e2e957c8c60",
   "metadata": {},
   "outputs": [],
   "source": [
    "output = []\n",
    "for z in range(len(loss)):\n",
    "    out = []\n",
    "    curr = labels[np.argsort(loss)[z]]\n",
    "    for i in range(len(curr)):\n",
    "        out.append(curr==curr[i])\n",
    "    dist2 = np.vstack(out)\n",
    "    \n",
    "    output.append(scipy.stats.spearmanr(dist.ravel(), dist2.ravel())[0])"
   ]
  },
  {
   "cell_type": "code",
   "execution_count": 111,
   "id": "6f633824-b945-46e8-8570-c43354e33a1c",
   "metadata": {},
   "outputs": [
    {
     "data": {
      "text/plain": [
       "<matplotlib.collections.PathCollection at 0x7f9b0efd8a60>"
      ]
     },
     "execution_count": 111,
     "metadata": {},
     "output_type": "execute_result"
    },
    {
     "data": {
      "image/png": "[encoded data removed]",
      "text/plain": [
       "<Figure size 432x288 with 1 Axes>"
      ]
     },
     "metadata": {
      "needs_background": "light"
     },
     "output_type": "display_data"
    }
   ],
   "source": [
    "plt.scatter(np.array(loss)[np.argsort(loss)], output, s = 0.1)"
   ]
  },
  {
   "cell_type": "code",
   "execution_count": 108,
   "id": "8f6a2d78-34ba-43e6-8427-7a0ef339eacd",
   "metadata": {},
   "outputs": [
    {
     "data": {
      "text/plain": [
       "441"
      ]
     },
     "execution_count": 108,
     "metadata": {},
     "output_type": "execute_result"
    }
   ],
   "source": [
    "# how does this method compare to other clustering methods"
   ]
  },
  {
   "cell_type": "code",
   "execution_count": 165,
   "id": "d96bd114-54fa-448e-978e-96fdf9114f4c",
   "metadata": {},
   "outputs": [],
   "source": [
    "from sklearn.cluster import SpectralClustering\n",
    "import numpy as np\n",
    "X = get_full_matrix_from_bipartite(matrix)\n",
    "clustering = SpectralClustering(n_clusters=50,\n",
    "        assign_labels='discretize',\n",
    "        random_state=1,affinity='precomputed_nearest_neighbors').fit(X)\n",
    "labs = clustering.labels_"
   ]
  },
  {
   "cell_type": "code",
   "execution_count": 166,
   "id": "d9623792-7cb1-4bf8-8a67-3a4b816f03d5",
   "metadata": {},
   "outputs": [
    {
     "data": {
      "text/plain": [
       "1536"
      ]
     },
     "execution_count": 166,
     "metadata": {},
     "output_type": "execute_result"
    }
   ],
   "source": [
    "evaluate_cut(matrix, labs, 0)"
   ]
  },
  {
   "cell_type": "code",
   "execution_count": 158,
   "id": "3c901b86-5914-4822-8eea-6c923826f9e1",
   "metadata": {},
   "outputs": [],
   "source": [
    "from sklearn.cluster import KMeans\n",
    "import numpy as np\n",
    "\n",
    "kmeans = KMeans(n_clusters=50, random_state=0).fit(X)\n",
    "labs = kmeans.labels_\n",
    "\n",
    "#kmeans.predict(X)\n",
    "\n",
    "#kmeans.cluster_centers_"
   ]
  },
  {
   "cell_type": "code",
   "execution_count": 159,
   "id": "b085b0dd-45f3-4e1f-8031-eb2d22512542",
   "metadata": {},
   "outputs": [
    {
     "data": {
      "text/plain": [
       "1526"
      ]
     },
     "execution_count": 159,
     "metadata": {},
     "output_type": "execute_result"
    }
   ],
   "source": [
    "evaluate_cut(matrix, labs, 0)"
   ]
  },
  {
   "cell_type": "code",
   "execution_count": 162,
   "id": "9f25bba9-8445-4c91-ae9e-4073fc0a60cf",
   "metadata": {},
   "outputs": [
    {
     "data": {
      "text/plain": [
       "(array([ 0,  1,  2,  3,  4,  5,  6,  7,  8,  9, 10, 11, 12, 13, 14, 15, 16,\n",
       "        17, 18, 19, 20, 21, 22, 23, 24, 25, 26, 27, 28, 29, 30, 31, 32, 33,\n",
       "        34, 35, 36, 37, 38, 39, 40, 41, 42, 43, 44, 45, 46, 47, 48, 49],\n",
       "       dtype=int32),\n",
       " array([509,   6,  44,   5,  25,  32,  24,  27,   7,   1,  21,   8,   7,\n",
       "         27,  22,  13,   3,  38,  24,  19,   8,   4,  16,   4,   2,   6,\n",
       "          1,  11,   4,   3,   2,   9,   1,   9,  11,   1,   1,  20,  12,\n",
       "         40,   1,  10,   2,   7,   6,  14,   2,   2,   1,  14]))"
      ]
     },
     "execution_count": 162,
     "metadata": {},
     "output_type": "execute_result"
    }
   ],
   "source": [
    "# how well connected are the clusters we identify using KL?\n",
    "# how does it compare to results with the Leiden algorithm?, which is supposed to guarantee for better connectededness - how do they measure that?"
   ]
  },
  {
   "cell_type": "markdown",
   "id": "764c04cc-a628-457e-a1ac-fa56a0f81d3c",
   "metadata": {},
   "source": [
    "# below is scrap"
   ]
  },
  {
   "cell_type": "code",
   "execution_count": 94,
   "id": "895c67fd-d9c9-48ed-a207-7bbc1e97a0a7",
   "metadata": {},
   "outputs": [
    {
     "data": {
      "text/plain": [
       "SpearmanrResult(correlation=0.3654673364019369, pvalue=0.0)"
      ]
     },
     "execution_count": 94,
     "metadata": {},
     "output_type": "execute_result"
    }
   ],
   "source": [
    "import scipy\n",
    "scipy.stats.spearmanr(dist.ravel(), dist2.ravel())"
   ]
  },
  {
   "cell_type": "code",
   "execution_count": 35,
   "id": "71396666-70c2-4f2b-b304-9c61e2a2f08b",
   "metadata": {},
   "outputs": [],
   "source": [
    "fill = np.zeros_like(matrix)"
   ]
  },
  {
   "cell_type": "code",
   "execution_count": 44,
   "id": "43f572a6-6b89-4012-9cc9-0ac0e412690b",
   "metadata": {},
   "outputs": [],
   "source": []
  },
  {
   "cell_type": "code",
   "execution_count": 47,
   "id": "11a82d19-f40b-45ee-8b9c-91730759f0a4",
   "metadata": {},
   "outputs": [],
   "source": []
  },
  {
   "cell_type": "code",
   "execution_count": 40,
   "id": "36f18ab0-f517-424d-bec0-0ac6e4c491ab",
   "metadata": {},
   "outputs": [
    {
     "data": {
      "text/plain": [
       "array([ 8, 29, 14, ...,  7, 43, 30])"
      ]
     },
     "execution_count": 40,
     "metadata": {},
     "output_type": "execute_result"
    }
   ],
   "source": [
    "labels[0]"
   ]
  },
  {
   "cell_type": "code",
   "execution_count": 33,
   "id": "43dfbdd5-5d58-4443-b13a-1d10f491004a",
   "metadata": {},
   "outputs": [
    {
     "data": {
      "text/plain": [
       "array([ 8, 29, 14, ...,  7, 43, 30])"
      ]
     },
     "execution_count": 33,
     "metadata": {},
     "output_type": "execute_result"
    }
   ],
   "source": [
    "curr = labels[0]\n",
    "for i in len(curr):\n",
    "    x,y = fill.shape\n",
    "    if i<x:\n",
    "        fill[i] "
   ]
  },
  {
   "cell_type": "code",
   "execution_count": 296,
   "id": "bf0ed267-0374-4c69-8caa-a12605d418a7",
   "metadata": {},
   "outputs": [
    {
     "data": {
      "text/plain": [
       "<matplotlib.collections.PathCollection at 0x7f4715feb3d0>"
      ]
     },
     "execution_count": 296,
     "metadata": {},
     "output_type": "execute_result"
    },
    {
     "data": {
      "image/png": "[encoded data removed]",
      "text/plain": [
       "<Figure size 432x288 with 1 Axes>"
      ]
     },
     "metadata": {
      "needs_background": "light"
     },
     "output_type": "display_data"
    }
   ],
   "source": [
    "plt.scatter(lab1[np.argmin(loss1)], lab2[np.argmin(loss2)], s = 0.1)"
   ]
  },
  {
   "cell_type": "code",
   "execution_count": 310,
   "id": "d6356aed-b0ab-4193-b4ad-00fd563c3696",
   "metadata": {},
   "outputs": [],
   "source": [
    "x = lab1[np.argmin(loss1)]\n",
    "y = lab2[np.argmin(loss2)]\n",
    "y_former = y.copy()"
   ]
  },
  {
   "cell_type": "code",
   "execution_count": 311,
   "id": "1b6105af-205f-4fa7-a157-d28ffd4f59c5",
   "metadata": {},
   "outputs": [
    {
     "name": "stderr",
     "output_type": "stream",
     "text": [
      "1it [00:00,  1.70it/s, tot_impr=0, last_impr=0, loss=284]\n"
     ]
    }
   ],
   "source": [
    "run_KL(y, matrix, 0, True)"
   ]
  },
  {
   "cell_type": "code",
   "execution_count": 308,
   "id": "213e29cb-69be-442d-9e1f-98a6d4401a71",
   "metadata": {},
   "outputs": [
    {
     "data": {
      "text/plain": [
       "array([ 1, 13, 13, ..., 19, 12, 12])"
      ]
     },
     "execution_count": 308,
     "metadata": {},
     "output_type": "execute_result"
    }
   ],
   "source": [
    "y"
   ]
  },
  {
   "cell_type": "code",
   "execution_count": 298,
   "id": "2eb2d34b-51ec-46f7-ba9a-05ff30ad2da0",
   "metadata": {},
   "outputs": [],
   "source": [
    "counter1 = []\n",
    "counter2 = []\n",
    "for i in range(10000):\n",
    "    index = np.random.choice(range(len(x)), 2)\n",
    "    \n",
    "    if (x[index[0]]-x[index[1]])==0:\n",
    "        counter1.append((y[index[0]]-y[index[1]])==0)\n",
    "    else:\n",
    "        counter2.append((y[index[0]]-y[index[1]])==0)"
   ]
  },
  {
   "cell_type": "code",
   "execution_count": 299,
   "id": "ea10fb92-9350-4e74-818f-73726b46e0f0",
   "metadata": {},
   "outputs": [
    {
     "data": {
      "text/plain": [
       "0.5046728971962616"
      ]
     },
     "execution_count": 299,
     "metadata": {},
     "output_type": "execute_result"
    }
   ],
   "source": [
    "np.sum(counter1)/len(counter1)"
   ]
  },
  {
   "cell_type": "code",
   "execution_count": 300,
   "id": "2ce6c9bc-78db-44f6-8dbb-d5c006e66e8f",
   "metadata": {},
   "outputs": [
    {
     "data": {
      "text/plain": [
       "0.016943899163136687"
      ]
     },
     "execution_count": 300,
     "metadata": {},
     "output_type": "execute_result"
    }
   ],
   "source": [
    "np.sum(counter2)/len(counter2)"
   ]
  },
  {
   "cell_type": "code",
   "execution_count": 206,
   "id": "a4d94948-4003-47b5-b543-2c3014476e86",
   "metadata": {},
   "outputs": [
    {
     "data": {
      "text/plain": [
       "19"
      ]
     },
     "execution_count": 206,
     "metadata": {},
     "output_type": "execute_result"
    }
   ],
   "source": [
    "counter"
   ]
  },
  {
   "cell_type": "code",
   "execution_count": 176,
   "id": "1e2a16eb-806e-4429-9c5f-9515c99cda72",
   "metadata": {},
   "outputs": [
    {
     "ename": "ValueError",
     "evalue": "a must be 1-dimensional",
     "output_type": "error",
     "traceback": [
      "\u001b[0;31m---------------------------------------------------------------------------\u001b[0m",
      "\u001b[0;31mValueError\u001b[0m                                Traceback (most recent call last)",
      "Input \u001b[0;32mIn [176]\u001b[0m, in \u001b[0;36m<cell line: 1>\u001b[0;34m()\u001b[0m\n\u001b[0;32m----> 1\u001b[0m \u001b[43mnp\u001b[49m\u001b[38;5;241;43m.\u001b[39;49m\u001b[43mrandom\u001b[49m\u001b[38;5;241;43m.\u001b[39;49m\u001b[43mchoice\u001b[49m\u001b[43m(\u001b[49m\u001b[43mnp\u001b[49m\u001b[38;5;241;43m.\u001b[39;49m\u001b[43mwhere\u001b[49m\u001b[43m(\u001b[49m\u001b[43mtest\u001b[49m\u001b[43m[\u001b[49m\u001b[38;5;241;43m0\u001b[39;49m\u001b[43m]\u001b[49m\u001b[38;5;241;43m==\u001b[39;49m\u001b[38;5;241;43m8\u001b[39;49m\u001b[43m)\u001b[49m\u001b[43m,\u001b[49m\u001b[43m \u001b[49m\u001b[38;5;241;43m1\u001b[39;49m\u001b[43m)\u001b[49m\n",
      "File \u001b[0;32mmtrand.pyx:905\u001b[0m, in \u001b[0;36mnumpy.random.mtrand.RandomState.choice\u001b[0;34m()\u001b[0m\n",
      "\u001b[0;31mValueError\u001b[0m: a must be 1-dimensional"
     ]
    }
   ],
   "source": [
    "np.random.choice(np.where(test[0]==8), 1)"
   ]
  },
  {
   "cell_type": "code",
   "execution_count": 169,
   "id": "db3595a3-22de-41d2-b79a-c49c93c86997",
   "metadata": {},
   "outputs": [
    {
     "data": {
      "text/plain": [
       "(array([   0,   16,   17,  113,  114,  115,  141,  155,  156,  172,  179,\n",
       "         180,  181,  287,  289,  290,  291,  292,  293,  294,  295,  296,\n",
       "         324,  331,  332,  333,  334,  335,  336,  337,  338,  339,  340,\n",
       "         341,  342,  343,  344,  345,  346,  347,  348,  358,  361,  362,\n",
       "         376,  449,  450,  451,  452,  453,  454,  455,  456,  457,  458,\n",
       "         459,  574,  575,  576,  577,  621,  622,  623,  632,  633,  634,\n",
       "         635,  641,  644,  749,  773,  775,  781,  801,  802,  803,  804,\n",
       "         811,  812,  813,  814,  819,  820,  830,  831,  833,  846,  855,\n",
       "         928, 1053, 1054, 1066, 1067, 1072, 1079, 1081, 1084, 1085]),)"
      ]
     },
     "execution_count": 169,
     "metadata": {},
     "output_type": "execute_result"
    }
   ],
   "source": [
    "np.where(test[1]==8)"
   ]
  },
  {
   "cell_type": "code",
   "execution_count": 168,
   "id": "3222642d-787f-4851-b3e7-2cf2bde0411d",
   "metadata": {},
   "outputs": [
    {
     "data": {
      "text/plain": [
       "array([[8, 5, 5, ..., 8, 8, 5],\n",
       "       [8, 6, 6, ..., 7, 8, 8],\n",
       "       [5, 5, 2, ..., 9, 3, 9],\n",
       "       ...,\n",
       "       [8, 4, 1, ..., 8, 1, 1],\n",
       "       [8, 1, 1, ..., 7, 7, 7],\n",
       "       [9, 5, 5, ..., 3, 3, 3]])"
      ]
     },
     "execution_count": 168,
     "metadata": {},
     "output_type": "execute_result"
    }
   ],
   "source": [
    "test"
   ]
  },
  {
   "cell_type": "code",
   "execution_count": 98,
   "id": "eb2c1c8f-f67d-4de7-8a70-82c7d75574ab",
   "metadata": {},
   "outputs": [
    {
     "data": {
      "application/vnd.jupyter.widget-view+json": {
       "model_id": "2b3238c56ca74228b8f8ab24b6891229",
       "version_major": 2,
       "version_minor": 0
      },
      "text/plain": [
       "  0%|          | 0/19 [00:00<?, ?it/s]"
      ]
     },
     "metadata": {},
     "output_type": "display_data"
    },
    {
     "name": "stderr",
     "output_type": "stream",
     "text": [
      "3it [00:01,  1.99it/s, tot_impr=1101, last_impr=0, loss=782]  ]\n",
      "3it [00:01,  1.93it/s, tot_impr=958, last_impr=0, loss=906] ]  \n",
      "3it [00:01,  1.84it/s, tot_impr=975, last_impr=0, loss=908]  \n",
      "4it [00:01,  2.08it/s, tot_impr=1242, last_impr=0, loss=631] \n",
      "4it [00:01,  2.01it/s, tot_impr=1317, last_impr=0, loss=548] \n",
      "4it [00:01,  2.03it/s, tot_impr=1063, last_impr=0, loss=812]\n",
      "4it [00:02,  1.87it/s, tot_impr=1410, last_impr=0, loss=438] \n",
      "3it [00:02,  1.38it/s, tot_impr=747, last_impr=0, loss=1144] \n",
      "3it [00:02,  1.32it/s, tot_impr=695, last_impr=0, loss=1195] \n",
      "4it [00:02,  1.78it/s, tot_impr=908, last_impr=0, loss=980]\n",
      "4it [00:02,  1.72it/s, tot_impr=870, last_impr=0, loss=1007]\n",
      "3it [00:02,  1.24it/s, tot_impr=1527, last_impr=0, loss=278] \n",
      "4it [00:02,  1.65it/s, tot_impr=845, last_impr=0, loss=1044]\n",
      "5it [00:02,  2.08it/s, tot_impr=1112, last_impr=0, loss=755]\n",
      "4it [00:02,  1.59it/s, tot_impr=814, last_impr=0, loss=1077]\n",
      "4it [00:02,  1.56it/s, tot_impr=1501, last_impr=0, loss=333]\n",
      "4it [00:02,  1.52it/s, tot_impr=733, last_impr=0, loss=1155]\n",
      "4it [00:02,  1.45it/s, tot_impr=772, last_impr=0, loss=1120]]  \n",
      "3it [00:04,  1.34s/it, tot_impr=1544, last_impr=0, loss=132] \n"
     ]
    }
   ],
   "source": [
    "results = process_map(partial(get_scores,path,C,KL_modified,False,unweighted), thresh)"
   ]
  },
  {
   "cell_type": "code",
   "execution_count": 102,
   "id": "369c9b44-fb74-4fbd-a86c-47b7a089542c",
   "metadata": {},
   "outputs": [
    {
     "data": {
      "text/plain": [
       "array([109.,  55.,  37.,  28.,  22.,  19.,  16.,  14.,  13.,  11.,  10.,\n",
       "        10.,   9.,   8.,   8.,   7.,   7.,   7.,   6.])"
      ]
     },
     "execution_count": 102,
     "metadata": {},
     "output_type": "execute_result"
    }
   ],
   "source": [
    "np.ceil([np.mean(np.unique(x[0], return_counts = True)[1]) for x in results])"
   ]
  },
  {
   "cell_type": "code",
   "execution_count": 64,
   "id": "3ad92148-4391-49bd-b7cb-07623356200e",
   "metadata": {
    "collapsed": true,
    "jupyter": {
     "outputs_hidden": true
    },
    "tags": []
   },
   "outputs": [
    {
     "data": {
      "application/vnd.jupyter.widget-view+json": {
       "model_id": "73444561cbe64337aeac61ade553769e",
       "version_major": 2,
       "version_minor": 0
      },
      "text/plain": [
       "  0%|          | 0/19 [00:00<?, ?it/s]"
      ]
     },
     "metadata": {},
     "output_type": "display_data"
    },
    {
     "name": "stderr",
     "output_type": "stream",
     "text": [
      "3it [00:01,  1.73it/s, tot_impr=1101, last_impr=0, loss=782]   \n",
      "3it [00:01,  1.69it/s, tot_impr=958, last_impr=0, loss=906]  \n",
      "4it [00:02,  1.87it/s, tot_impr=1242, last_impr=0, loss=631]59]\n",
      "4it [00:02,  1.83it/s, tot_impr=1063, last_impr=0, loss=812] \n",
      "4it [00:02,  1.76it/s, tot_impr=1317, last_impr=0, loss=548] \n",
      "4it [00:02,  1.76it/s, tot_impr=1410, last_impr=0, loss=438]\n",
      "3it [00:02,  1.26it/s, tot_impr=747, last_impr=0, loss=1144]  \n",
      "3it [00:01,  1.75it/s, tot_impr=975, last_impr=0, loss=908] \n",
      "4it [00:02,  1.62it/s, tot_impr=908, last_impr=0, loss=980]\n",
      "5it [00:02,  1.87it/s, tot_impr=1112, last_impr=0, loss=755]\n",
      "4it [00:02,  1.51it/s, tot_impr=845, last_impr=0, loss=1044]\n",
      "3it [00:02,  1.08it/s, tot_impr=1527, last_impr=0, loss=278] \n",
      "4it [00:02,  1.46it/s, tot_impr=814, last_impr=0, loss=1077]\n",
      "4it [00:02,  1.70it/s, tot_impr=870, last_impr=0, loss=1007]\n",
      "4it [00:02,  1.39it/s, tot_impr=1501, last_impr=0, loss=333]\n",
      "4it [00:02,  1.41it/s, tot_impr=733, last_impr=0, loss=1155]\n",
      "4it [00:02,  1.34it/s, tot_impr=772, last_impr=0, loss=1120]\n",
      "3it [00:02,  1.27it/s, tot_impr=695, last_impr=0, loss=1195] \n",
      "3it [00:04,  1.55s/it, tot_impr=1544, last_impr=0, loss=132]   \n"
     ]
    },
    {
     "data": {
      "application/vnd.jupyter.widget-view+json": {
       "model_id": "99bb6673f4b042c3bf4fa66440e97e7b",
       "version_major": 2,
       "version_minor": 0
      },
      "text/plain": [
       "  0%|          | 0/19 [00:00<?, ?it/s]"
      ]
     },
     "metadata": {},
     "output_type": "display_data"
    },
    {
     "name": "stderr",
     "output_type": "stream",
     "text": [
      "3it [00:02,  1.42it/s, tot_impr=1447, last_impr=0, loss=416] 5]\n",
      "3it [00:02,  1.38it/s, tot_impr=966, last_impr=0, loss=921]    \n",
      "4it [00:02,  1.58it/s, tot_impr=1310, last_impr=0, loss=548]] \n",
      "3it [00:02,  1.39it/s, tot_impr=1068, last_impr=0, loss=811] \n",
      "4it [00:02,  1.58it/s, tot_impr=1115, last_impr=0, loss=766]]  \n",
      "4it [00:02,  1.52it/s, tot_impr=1054, last_impr=0, loss=830]\n",
      "3it [00:02,  1.13it/s, tot_impr=737, last_impr=0, loss=1154] \n",
      "3it [00:02,  1.17it/s, tot_impr=777, last_impr=0, loss=1109] \n",
      "3it [00:02,  1.08it/s, tot_impr=721, last_impr=0, loss=1166] \n",
      "4it [00:02,  1.35it/s, tot_impr=1116, last_impr=0, loss=763]\n",
      "4it [00:03,  1.33it/s, tot_impr=898, last_impr=0, loss=988]] \n",
      "4it [00:03,  1.29it/s, tot_impr=833, last_impr=0, loss=1047]\n",
      "4it [00:03,  1.23it/s, tot_impr=795, last_impr=0, loss=1090]\n",
      "4it [00:02,  1.36it/s, tot_impr=937, last_impr=0, loss=948]\n",
      "4it [00:03,  1.04it/s, tot_impr=1281, last_impr=0, loss=586] \n",
      "4it [00:03,  1.05it/s, tot_impr=693, last_impr=0, loss=1199]]  \n",
      "4it [00:04,  1.16s/it, tot_impr=1553, last_impr=0, loss=245]\n",
      "5it [00:05,  1.06s/it, tot_impr=1501, last_impr=0, loss=336]\n",
      "4it [00:07,  1.86s/it, tot_impr=1546, last_impr=0, loss=155] \n"
     ]
    },
    {
     "data": {
      "application/vnd.jupyter.widget-view+json": {
       "model_id": "2fdbcc36bbf3411cade6a2ff5086707a",
       "version_major": 2,
       "version_minor": 0
      },
      "text/plain": [
       "  0%|          | 0/19 [00:00<?, ?it/s]"
      ]
     },
     "metadata": {},
     "output_type": "display_data"
    },
    {
     "name": "stderr",
     "output_type": "stream",
     "text": [
      "3it [00:01,  1.93it/s, tot_impr=1128, last_impr=0, loss=749] 0]\n",
      "3it [00:01,  1.76it/s, tot_impr=980, last_impr=0, loss=906] ]  \n",
      "3it [00:01,  1.69it/s, tot_impr=874, last_impr=0, loss=1010]  \n",
      "3it [00:01,  1.56it/s, tot_impr=845, last_impr=0, loss=1041] \n",
      "4it [00:01,  2.04it/s, tot_impr=1204, last_impr=0, loss=674]\n",
      "4it [00:01,  2.01it/s, tot_impr=1357, last_impr=0, loss=500]\n",
      "3it [00:02,  1.42it/s, tot_impr=758, last_impr=0, loss=1133] \n",
      "4it [00:02,  1.56it/s, tot_impr=824, last_impr=0, loss=1059] \n",
      "3it [00:02,  1.16it/s, tot_impr=715, last_impr=0, loss=1180] \n",
      "5it [00:02,  1.84it/s, tot_impr=1067, last_impr=0, loss=810]\n",
      "4it [00:02,  1.47it/s, tot_impr=1450, last_impr=0, loss=364]\n",
      "5it [00:02,  1.74it/s, tot_impr=1426, last_impr=0, loss=424]\n",
      "4it [00:02,  1.42it/s, tot_impr=784, last_impr=0, loss=1107]\n",
      "5it [00:02,  1.74it/s, tot_impr=1061, last_impr=0, loss=821]\n",
      "5it [00:03,  1.65it/s, tot_impr=973, last_impr=0, loss=913]\n",
      "6it [00:03,  1.90it/s, tot_impr=1219, last_impr=0, loss=645]\n",
      "4it [00:03,  1.28it/s, tot_impr=698, last_impr=0, loss=1192]   \n",
      "4it [00:03,  1.16it/s, tot_impr=1579, last_impr=0, loss=217]\n",
      "3it [00:04,  1.59s/it, tot_impr=1550, last_impr=0, loss=142] \n"
     ]
    },
    {
     "data": {
      "application/vnd.jupyter.widget-view+json": {
       "model_id": "10cb6c96fa1149139d22d7a4ca2da8cb",
       "version_major": 2,
       "version_minor": 0
      },
      "text/plain": [
       "  0%|          | 0/19 [00:00<?, ?it/s]"
      ]
     },
     "metadata": {},
     "output_type": "display_data"
    },
    {
     "name": "stderr",
     "output_type": "stream",
     "text": [
      "3it [00:02,  1.45it/s, tot_impr=1022, last_impr=0, loss=862] 4]\n",
      "3it [00:02,  1.32it/s, tot_impr=866, last_impr=0, loss=1024]  \n",
      "4it [00:02,  1.47it/s, tot_impr=1373, last_impr=0, loss=467]]  \n",
      "4it [00:02,  1.65it/s, tot_impr=1120, last_impr=0, loss=764] \n",
      "4it [00:02,  1.40it/s, tot_impr=907, last_impr=0, loss=979]\n",
      "3it [00:02,  1.05it/s, tot_impr=998, last_impr=0, loss=884] \n",
      "5it [00:03,  1.60it/s, tot_impr=1206, last_impr=0, loss=667] \n",
      "4it [00:03,  1.28it/s, tot_impr=1207, last_impr=0, loss=667]\n",
      "5it [00:03,  1.54it/s, tot_impr=1312, last_impr=0, loss=548]\n",
      "4it [00:03,  1.25it/s, tot_impr=841, last_impr=0, loss=1045]\n",
      "4it [00:03,  1.19it/s, tot_impr=1496, last_impr=0, loss=347]\n",
      "4it [00:03,  1.21it/s, tot_impr=937, last_impr=0, loss=953]\n",
      "4it [00:03,  1.13it/s, tot_impr=741, last_impr=0, loss=1148]\n",
      "4it [00:03,  1.16it/s, tot_impr=818, last_impr=0, loss=1070]\n",
      "3it [00:03,  1.11s/it, tot_impr=1525, last_impr=0, loss=276] \n",
      "4it [00:03,  1.20it/s, tot_impr=787, last_impr=0, loss=1104]\n",
      "4it [00:03,  1.05it/s, tot_impr=697, last_impr=0, loss=1191]\n",
      "4it [00:03,  1.13it/s, tot_impr=750, last_impr=0, loss=1138]]  \n",
      "4it [00:07,  1.88s/it, tot_impr=1561, last_impr=0, loss=143] \n"
     ]
    },
    {
     "data": {
      "application/vnd.jupyter.widget-view+json": {
       "model_id": "c99769926ea54b879f6b02b25fe639d1",
       "version_major": 2,
       "version_minor": 0
      },
      "text/plain": [
       "  0%|          | 0/19 [00:00<?, ?it/s]"
      ]
     },
     "metadata": {},
     "output_type": "display_data"
    },
    {
     "name": "stderr",
     "output_type": "stream",
     "text": [
      "3it [00:01,  2.02it/s, tot_impr=1266, last_impr=0, loss=604]   \n",
      "3it [00:01,  1.97it/s, tot_impr=1028, last_impr=0, loss=850] 6]\n",
      "3it [00:01,  2.00it/s, tot_impr=1105, last_impr=0, loss=778] \n",
      "4it [00:02,  1.96it/s, tot_impr=1272, last_impr=0, loss=602]   \n",
      "4it [00:02,  1.94it/s, tot_impr=1192, last_impr=0, loss=686] \n",
      "3it [00:02,  1.41it/s, tot_impr=756, last_impr=0, loss=1133] \n",
      "3it [00:02,  1.32it/s, tot_impr=768, last_impr=0, loss=1120] \n",
      "4it [00:02,  1.66it/s, tot_impr=961, last_impr=0, loss=926]]\n",
      "4it [00:02,  1.54it/s, tot_impr=832, last_impr=0, loss=1053] \n",
      "4it [00:02,  1.57it/s, tot_impr=887, last_impr=0, loss=1004]\n",
      "3it [00:02,  1.13it/s, tot_impr=1531, last_impr=0, loss=274] \n",
      "4it [00:02,  1.45it/s, tot_impr=1501, last_impr=0, loss=330]\n",
      "5it [00:02,  1.79it/s, tot_impr=1018, last_impr=0, loss=869]\n",
      "4it [00:02,  1.46it/s, tot_impr=757, last_impr=0, loss=1134]\n",
      "5it [00:02,  1.72it/s, tot_impr=1438, last_impr=0, loss=416]\n",
      "5it [00:02,  1.73it/s, tot_impr=976, last_impr=0, loss=904]\n",
      "4it [00:03,  1.32it/s, tot_impr=681, last_impr=0, loss=1207]\n",
      "4it [00:03,  1.23it/s, tot_impr=731, last_impr=0, loss=1162]]  \n",
      "3it [00:04,  1.66s/it, tot_impr=1518, last_impr=0, loss=190] \n"
     ]
    },
    {
     "data": {
      "application/vnd.jupyter.widget-view+json": {
       "model_id": "0c19a6d3b09a4b81ab2134821e1e5d5e",
       "version_major": 2,
       "version_minor": 0
      },
      "text/plain": [
       "  0%|          | 0/19 [00:00<?, ?it/s]"
      ]
     },
     "metadata": {},
     "output_type": "display_data"
    },
    {
     "name": "stderr",
     "output_type": "stream",
     "text": [
      "3it [00:01,  1.63it/s, tot_impr=1314, last_impr=0, loss=556]  ]\n",
      "3it [00:02,  1.49it/s, tot_impr=927, last_impr=0, loss=955]   ]\n",
      "3it [00:02,  1.23it/s, tot_impr=1548, last_impr=0, loss=301]   \n",
      "4it [00:02,  1.62it/s, tot_impr=1351, last_impr=0, loss=504] \n",
      "4it [00:02,  1.62it/s, tot_impr=1129, last_impr=0, loss=751]\n",
      "3it [00:02,  1.15it/s, tot_impr=736, last_impr=0, loss=1151] \n",
      "4it [00:02,  1.48it/s, tot_impr=1463, last_impr=0, loss=389]\n",
      "3it [00:02,  1.07it/s, tot_impr=693, last_impr=0, loss=1201] \n",
      "4it [00:02,  1.37it/s, tot_impr=828, last_impr=0, loss=1062] \n",
      "4it [00:03,  1.33it/s, tot_impr=924, last_impr=0, loss=963]] \n",
      "4it [00:03,  1.32it/s, tot_impr=861, last_impr=0, loss=1028]\n",
      "5it [00:03,  1.59it/s, tot_impr=1017, last_impr=0, loss=868]\n",
      "4it [00:03,  1.26it/s, tot_impr=803, last_impr=0, loss=1085]]  \n",
      "5it [00:03,  1.56it/s, tot_impr=981, last_impr=0, loss=899]\n",
      "4it [00:03,  1.16it/s, tot_impr=731, last_impr=0, loss=1156]\n",
      "4it [00:03,  1.07it/s, tot_impr=714, last_impr=0, loss=1176]\n",
      "5it [00:03,  1.56it/s, tot_impr=1200, last_impr=0, loss=667]]  \n",
      "4it [00:04,  1.07s/it, tot_impr=1552, last_impr=0, loss=255] \n",
      "4it [00:07,  1.84s/it, tot_impr=1537, last_impr=0, loss=169] \n"
     ]
    },
    {
     "data": {
      "application/vnd.jupyter.widget-view+json": {
       "model_id": "6a7e30731ee5410bb9f4ae7deda4d78e",
       "version_major": 2,
       "version_minor": 0
      },
      "text/plain": [
       "  0%|          | 0/19 [00:00<?, ?it/s]"
      ]
     },
     "metadata": {},
     "output_type": "display_data"
    },
    {
     "name": "stderr",
     "output_type": "stream",
     "text": [
      "3it [00:01,  1.81it/s, tot_impr=1180, last_impr=0, loss=689] 3]\n",
      "3it [00:01,  1.74it/s, tot_impr=1034, last_impr=0, loss=850]  \n",
      "3it [00:01,  1.53it/s, tot_impr=871, last_impr=0, loss=1018]   \n",
      "4it [00:02,  1.86it/s, tot_impr=1300, last_impr=0, loss=560] \n",
      "4it [00:02,  1.86it/s, tot_impr=1248, last_impr=0, loss=614]\n",
      "4it [00:02,  1.83it/s, tot_impr=1124, last_impr=0, loss=759]\n",
      "3it [00:02,  1.37it/s, tot_impr=763, last_impr=0, loss=1127] \n",
      "4it [00:02,  1.76it/s, tot_impr=1023, last_impr=0, loss=853]\n",
      "4it [00:02,  1.70it/s, tot_impr=1459, last_impr=0, loss=386]\n",
      "3it [00:02,  1.30it/s, tot_impr=764, last_impr=0, loss=1130] \n",
      "4it [00:02,  1.69it/s, tot_impr=961, last_impr=0, loss=917]\n",
      "3it [00:02,  1.26it/s, tot_impr=704, last_impr=0, loss=1190] \n",
      "4it [00:02,  1.63it/s, tot_impr=909, last_impr=0, loss=978]\n",
      "3it [00:02,  1.22it/s, tot_impr=658, last_impr=0, loss=1237] \n",
      "4it [00:02,  1.45it/s, tot_impr=833, last_impr=0, loss=1061] \n",
      "4it [00:02,  1.42it/s, tot_impr=1440, last_impr=0, loss=391]\n",
      "4it [00:02,  1.42it/s, tot_impr=811, last_impr=0, loss=1078]\n",
      "4it [00:03,  1.05it/s, tot_impr=1519, last_impr=0, loss=279]]  \n",
      "4it [00:06,  1.73s/it, tot_impr=1519, last_impr=0, loss=173] \n"
     ]
    },
    {
     "data": {
      "application/vnd.jupyter.widget-view+json": {
       "model_id": "64d984639e1044d3b2be72fd2c244d8c",
       "version_major": 2,
       "version_minor": 0
      },
      "text/plain": [
       "  0%|          | 0/19 [00:00<?, ?it/s]"
      ]
     },
     "metadata": {},
     "output_type": "display_data"
    },
    {
     "name": "stderr",
     "output_type": "stream",
     "text": [
      "3it [00:01,  1.55it/s, tot_impr=1323, last_impr=0, loss=546]   \n",
      "3it [00:02,  1.41it/s, tot_impr=854, last_impr=0, loss=1030] \n",
      "3it [00:02,  1.24it/s, tot_impr=1519, last_impr=0, loss=308]   \n",
      "4it [00:02,  1.50it/s, tot_impr=1456, last_impr=0, loss=398]]\n",
      "4it [00:02,  1.43it/s, tot_impr=909, last_impr=0, loss=977]187]\n",
      "4it [00:02,  1.58it/s, tot_impr=1066, last_impr=0, loss=820] \n",
      "3it [00:02,  1.00it/s, tot_impr=1085, last_impr=0, loss=792]  \n",
      "5it [00:03,  1.66it/s, tot_impr=1163, last_impr=0, loss=710]\n",
      "3it [00:03,  1.03s/it, tot_impr=861, last_impr=0, loss=1027]   \n",
      "5it [00:03,  1.49it/s, tot_impr=937, last_impr=0, loss=950]] \n",
      "3it [00:03,  1.11s/it, tot_impr=793, last_impr=0, loss=1100] \n",
      "4it [00:03,  1.21it/s, tot_impr=1066, last_impr=0, loss=812] \n",
      "4it [00:03,  1.10it/s, tot_impr=710, last_impr=0, loss=1180]\n",
      "5it [00:03,  1.27it/s, tot_impr=1266, last_impr=0, loss=603] \n",
      "4it [00:04,  1.05s/it, tot_impr=788, last_impr=0, loss=1104] \n",
      "4it [00:04,  1.08s/it, tot_impr=735, last_impr=0, loss=1151]\n",
      "4it [00:04,  1.08s/it, tot_impr=687, last_impr=0, loss=1205]]  \n",
      "4it [00:04,  1.23s/it, tot_impr=1558, last_impr=0, loss=245]\n",
      "4it [00:07,  1.76s/it, tot_impr=1599, last_impr=0, loss=118] \n"
     ]
    },
    {
     "data": {
      "application/vnd.jupyter.widget-view+json": {
       "model_id": "76f0f59b7223462bb50c67f012708998",
       "version_major": 2,
       "version_minor": 0
      },
      "text/plain": [
       "  0%|          | 0/19 [00:00<?, ?it/s]"
      ]
     },
     "metadata": {},
     "output_type": "display_data"
    },
    {
     "name": "stderr",
     "output_type": "stream",
     "text": [
      "3it [00:02,  1.17it/s, tot_impr=896, last_impr=0, loss=994]    \n",
      "3it [00:02,  1.35it/s, tot_impr=1353, last_impr=0, loss=502] \n",
      "4it [00:02,  1.56it/s, tot_impr=1231, last_impr=0, loss=642]\n",
      "3it [00:02,  1.26it/s, tot_impr=805, last_impr=0, loss=1086] \n",
      "4it [00:02,  1.41it/s, tot_impr=1444, last_impr=0, loss=412]  \n",
      "4it [00:02,  1.37it/s, tot_impr=1142, last_impr=0, loss=724] \n",
      "3it [00:02,  1.02it/s, tot_impr=1003, last_impr=0, loss=882] \n",
      "3it [00:02,  1.05it/s, tot_impr=1065, last_impr=0, loss=820]   \n",
      "3it [00:02,  1.05it/s, tot_impr=698, last_impr=0, loss=1196] \n",
      "4it [00:03,  1.30it/s, tot_impr=969, last_impr=0, loss=916]\n",
      "4it [00:03,  1.32it/s, tot_impr=857, last_impr=0, loss=1031]\n",
      "4it [00:03,  1.21it/s, tot_impr=760, last_impr=0, loss=1131]\n",
      "4it [00:03,  1.08it/s, tot_impr=1075, last_impr=0, loss=805]]  \n",
      "4it [00:03,  1.16it/s, tot_impr=756, last_impr=0, loss=1135]\n",
      "5it [00:03,  1.26it/s, tot_impr=1456, last_impr=0, loss=375]\n",
      "4it [00:04,  1.09s/it, tot_impr=949, last_impr=0, loss=934]] \n",
      "4it [00:04,  1.20s/it, tot_impr=709, last_impr=0, loss=1182]\n",
      "4it [00:05,  1.36s/it, tot_impr=1510, last_impr=0, loss=295]\n",
      "3it [00:05,  1.83s/it, tot_impr=1527, last_impr=0, loss=191] \n"
     ]
    },
    {
     "data": {
      "application/vnd.jupyter.widget-view+json": {
       "model_id": "aad94892a7cc4d1dae34b73bf1c1ecf5",
       "version_major": 2,
       "version_minor": 0
      },
      "text/plain": [
       "  0%|          | 0/19 [00:00<?, ?it/s]"
      ]
     },
     "metadata": {},
     "output_type": "display_data"
    },
    {
     "name": "stderr",
     "output_type": "stream",
     "text": [
      "3it [00:02,  1.41it/s, tot_impr=890, last_impr=0, loss=995]    \n",
      "3it [00:02,  1.31it/s, tot_impr=826, last_impr=0, loss=1055] \n",
      "4it [00:02,  1.61it/s, tot_impr=1245, last_impr=0, loss=627]] \n",
      "4it [00:02,  1.59it/s, tot_impr=1132, last_impr=0, loss=742] \n",
      "4it [00:02,  1.59it/s, tot_impr=1078, last_impr=0, loss=794]\n",
      "4it [00:02,  1.49it/s, tot_impr=1443, last_impr=0, loss=413] \n",
      "3it [00:02,  1.14it/s, tot_impr=812, last_impr=0, loss=1074] \n",
      "4it [00:02,  1.37it/s, tot_impr=900, last_impr=0, loss=981]]]  \n",
      "5it [00:03,  1.56it/s, tot_impr=1019, last_impr=0, loss=852] \n",
      "5it [00:03,  1.53it/s, tot_impr=1300, last_impr=0, loss=566]] \n",
      "4it [00:03,  1.23it/s, tot_impr=771, last_impr=0, loss=1117]\n",
      "5it [00:03,  1.54it/s, tot_impr=1012, last_impr=0, loss=871]\n",
      "5it [00:02,  1.68it/s, tot_impr=1150, last_impr=0, loss=723]\n",
      "4it [00:03,  1.19it/s, tot_impr=718, last_impr=0, loss=1170]\n",
      "3it [00:03,  1.08s/it, tot_impr=1494, last_impr=0, loss=347] \n",
      "4it [00:03,  1.01it/s, tot_impr=1544, last_impr=0, loss=253]]  \n",
      "3it [00:03,  1.15s/it, tot_impr=716, last_impr=0, loss=1174] \n",
      "4it [00:03,  1.13it/s, tot_impr=679, last_impr=0, loss=1212]\n",
      "4it [00:06,  1.57s/it, tot_impr=1536, last_impr=0, loss=166] \n"
     ]
    }
   ],
   "source": [
    "path = './examples/HumanCyc_2016.npy'\n",
    "thresh = np.arange(10, 200, 10)#np.repeat(50,100)\n",
    "C = 0\n",
    "KL_modified = True\n",
    "random_labels = False\n",
    "unweighted = True\n",
    "\n",
    "repeats = 10\n",
    "out = []\n",
    "for i in range(repeats):\n",
    "    np.random.seed(i)\n",
    "    results = process_map(partial(get_scores,path,C,KL_modified,random_labels,unweighted), thresh)\n",
    "    out.append(results)\n",
    "    #plt.plot(thresh, [x[1] for x in results])"
   ]
  },
  {
   "cell_type": "code",
   "execution_count": 88,
   "id": "813f26c6-9312-4160-880c-1bfcb6d95bb4",
   "metadata": {},
   "outputs": [
    {
     "data": {
      "image/png": "[encoded data removed]",
      "text/plain": [
       "<Figure size 432x288 with 1 Axes>"
      ]
     },
     "metadata": {
      "needs_background": "light"
     },
     "output_type": "display_data"
    }
   ],
   "source": [
    "means = []\n",
    "for i in range(len(out)):\n",
    "    res = out[i]\n",
    "    mean = [np.mean(np.unique(x[0], return_counts = True)[1]) for x in res]\n",
    "    means.append(mean)\n",
    "    plt.plot(mean, [x[1] for x in res])"
   ]
  },
  {
   "cell_type": "code",
   "execution_count": 92,
   "id": "0b4ea1e7-2e04-4c95-875b-774996f8ee67",
   "metadata": {
    "collapsed": true,
    "jupyter": {
     "outputs_hidden": true
    },
    "tags": []
   },
   "outputs": [
    {
     "data": {
      "application/vnd.jupyter.widget-view+json": {
       "model_id": "65973fb87169445895516cdc4216ec10",
       "version_major": 2,
       "version_minor": 0
      },
      "text/plain": [
       "  0%|          | 0/15 [00:00<?, ?it/s]"
      ]
     },
     "metadata": {},
     "output_type": "display_data"
    },
    {
     "name": "stderr",
     "output_type": "stream",
     "text": [
      "3it [00:01,  1.98it/s, tot_impr=1230, last_impr=0, loss=639] 1]\n",
      "3it [00:01,  1.93it/s, tot_impr=1081, last_impr=0, loss=796] \n",
      "3it [00:01,  1.77it/s, tot_impr=884, last_impr=0, loss=997] ]  \n",
      "3it [00:01,  1.68it/s, tot_impr=818, last_impr=0, loss=1066] \n",
      "4it [00:02,  1.95it/s, tot_impr=1171, last_impr=0, loss=705] \n",
      "4it [00:02,  1.86it/s, tot_impr=986, last_impr=0, loss=894]] \n",
      "4it [00:02,  1.77it/s, tot_impr=949, last_impr=0, loss=933]\n",
      "3it [00:02,  1.25it/s, tot_impr=629, last_impr=0, loss=1260] \n",
      "4it [00:02,  1.62it/s, tot_impr=1545, last_impr=0, loss=295] \n",
      "5it [00:02,  1.96it/s, tot_impr=1332, last_impr=0, loss=538]\n",
      "4it [00:02,  1.56it/s, tot_impr=801, last_impr=0, loss=1086]\n",
      "5it [00:02,  1.90it/s, tot_impr=1408, last_impr=0, loss=447]\n",
      "4it [00:02,  1.42it/s, tot_impr=726, last_impr=0, loss=1164]\n",
      "4it [00:03,  1.28it/s, tot_impr=1553, last_impr=0, loss=264]]  \n",
      "4it [00:05,  1.37s/it, tot_impr=1468, last_impr=0, loss=255] \n"
     ]
    },
    {
     "data": {
      "application/vnd.jupyter.widget-view+json": {
       "model_id": "258545da663e4a2680a5bab4eba143c7",
       "version_major": 2,
       "version_minor": 0
      },
      "text/plain": [
       "  0%|          | 0/15 [00:00<?, ?it/s]"
      ]
     },
     "metadata": {},
     "output_type": "display_data"
    },
    {
     "name": "stderr",
     "output_type": "stream",
     "text": [
      "3it [00:01,  1.89it/s, tot_impr=1404, last_impr=0, loss=451]  ]\n",
      "3it [00:01,  1.92it/s, tot_impr=1163, last_impr=0, loss=709]   \n",
      "3it [00:01,  1.83it/s, tot_impr=1091, last_impr=0, loss=785] \n",
      "3it [00:01,  1.74it/s, tot_impr=903, last_impr=0, loss=979]   \n",
      "3it [00:01,  1.56it/s, tot_impr=780, last_impr=0, loss=1104] \n",
      "4it [00:02,  1.93it/s, tot_impr=1298, last_impr=0, loss=572]\n",
      "4it [00:02,  1.80it/s, tot_impr=955, last_impr=0, loss=925]] \n",
      "4it [00:02,  1.74it/s, tot_impr=978, last_impr=0, loss=906]\n",
      "4it [00:02,  1.69it/s, tot_impr=802, last_impr=0, loss=1080]\n",
      "3it [00:02,  1.24it/s, tot_impr=632, last_impr=0, loss=1257] \n",
      "5it [00:02,  1.98it/s, tot_impr=1230, last_impr=0, loss=646]\n",
      "4it [00:02,  1.57it/s, tot_impr=1532, last_impr=0, loss=307] \n",
      "4it [00:02,  1.42it/s, tot_impr=713, last_impr=0, loss=1177]\n",
      "4it [00:03,  1.28it/s, tot_impr=1568, last_impr=0, loss=257]]  \n",
      "3it [00:04,  1.39s/it, tot_impr=1551, last_impr=0, loss=165] \n"
     ]
    },
    {
     "data": {
      "application/vnd.jupyter.widget-view+json": {
       "model_id": "5e6cd17479ec4d86931a7d59e4ab0388",
       "version_major": 2,
       "version_minor": 0
      },
      "text/plain": [
       "  0%|          | 0/15 [00:00<?, ?it/s]"
      ]
     },
     "metadata": {},
     "output_type": "display_data"
    },
    {
     "name": "stderr",
     "output_type": "stream",
     "text": [
      "3it [00:01,  1.93it/s, tot_impr=1078, last_impr=0, loss=798] 7]\n",
      "3it [00:01,  1.84it/s, tot_impr=956, last_impr=0, loss=924]    \n",
      "3it [00:01,  1.80it/s, tot_impr=932, last_impr=0, loss=950] \n",
      "3it [00:01,  1.78it/s, tot_impr=916, last_impr=0, loss=966] \n",
      "3it [00:01,  1.56it/s, tot_impr=783, last_impr=0, loss=1105]  \n",
      "4it [00:02,  1.99it/s, tot_impr=1234, last_impr=0, loss=644]\n",
      "4it [00:02,  1.97it/s, tot_impr=1323, last_impr=0, loss=541]\n",
      "4it [00:02,  1.95it/s, tot_impr=1161, last_impr=0, loss=715] \n",
      "4it [00:02,  1.93it/s, tot_impr=1352, last_impr=0, loss=501]\n",
      "3it [00:02,  1.42it/s, tot_impr=712, last_impr=0, loss=1178] \n",
      "4it [00:02,  1.69it/s, tot_impr=840, last_impr=0, loss=1044] \n",
      "3it [00:02,  1.25it/s, tot_impr=632, last_impr=0, loss=1256]\n",
      "4it [00:02,  1.61it/s, tot_impr=1546, last_impr=0, loss=297] \n",
      "4it [00:03,  1.29it/s, tot_impr=1518, last_impr=0, loss=291]]  \n",
      "3it [00:04,  1.38s/it, tot_impr=1506, last_impr=0, loss=199] \n"
     ]
    },
    {
     "data": {
      "application/vnd.jupyter.widget-view+json": {
       "model_id": "3616d7fdc95e4b09b79c0a160e2dc168",
       "version_major": 2,
       "version_minor": 0
      },
      "text/plain": [
       "  0%|          | 0/15 [00:00<?, ?it/s]"
      ]
     },
     "metadata": {},
     "output_type": "display_data"
    },
    {
     "name": "stderr",
     "output_type": "stream",
     "text": [
      "3it [00:01,  1.98it/s, tot_impr=1355, last_impr=0, loss=508] 0]\n",
      "3it [00:01,  1.88it/s, tot_impr=1133, last_impr=0, loss=736] \n",
      "3it [00:01,  1.84it/s, tot_impr=986, last_impr=0, loss=894] ]  \n",
      "3it [00:01,  1.78it/s, tot_impr=941, last_impr=0, loss=939] \n",
      "3it [00:01,  1.73it/s, tot_impr=906, last_impr=0, loss=974]] \n",
      "4it [00:02,  1.90it/s, tot_impr=1406, last_impr=0, loss=444] \n",
      "4it [00:02,  1.93it/s, tot_impr=1095, last_impr=0, loss=776]\n",
      "4it [00:02,  1.69it/s, tot_impr=833, last_impr=0, loss=1054] \n",
      "5it [00:02,  1.98it/s, tot_impr=1208, last_impr=0, loss=662] \n",
      "4it [00:02,  1.53it/s, tot_impr=1465, last_impr=0, loss=369]\n",
      "4it [00:02,  1.56it/s, tot_impr=772, last_impr=0, loss=1113]\n",
      "4it [00:02,  1.42it/s, tot_impr=713, last_impr=0, loss=1177]\n",
      "4it [00:03,  1.28it/s, tot_impr=1519, last_impr=0, loss=275]2] \n",
      "4it [00:03,  1.25it/s, tot_impr=627, last_impr=0, loss=1264]\n",
      "4it [00:05,  1.37s/it, tot_impr=1535, last_impr=0, loss=146]  \n"
     ]
    },
    {
     "data": {
      "application/vnd.jupyter.widget-view+json": {
       "model_id": "422fff832b994bcfb2aef251d68a822f",
       "version_major": 2,
       "version_minor": 0
      },
      "text/plain": [
       "  0%|          | 0/15 [00:00<?, ?it/s]"
      ]
     },
     "metadata": {},
     "output_type": "display_data"
    },
    {
     "name": "stderr",
     "output_type": "stream",
     "text": [
      "3it [00:01,  1.76it/s, tot_impr=894, last_impr=0, loss=986]    \n",
      "3it [00:01,  1.68it/s, tot_impr=844, last_impr=0, loss=1041] \n",
      "4it [00:02,  2.00it/s, tot_impr=1224, last_impr=0, loss=648] \n",
      "4it [00:02,  1.97it/s, tot_impr=1301, last_impr=0, loss=561]\n",
      "4it [00:02,  1.93it/s, tot_impr=1079, last_impr=0, loss=802]\n",
      "4it [00:02,  1.93it/s, tot_impr=1117, last_impr=0, loss=758]\n",
      "4it [00:02,  1.85it/s, tot_impr=991, last_impr=0, loss=886]] \n",
      "4it [00:02,  1.78it/s, tot_impr=952, last_impr=0, loss=928]\n",
      "3it [00:02,  1.25it/s, tot_impr=1502, last_impr=0, loss=304] \n",
      "3it [00:02,  1.25it/s, tot_impr=623, last_impr=0, loss=1268]\n",
      "4it [00:02,  1.58it/s, tot_impr=1415, last_impr=0, loss=424]\n",
      "4it [00:02,  1.54it/s, tot_impr=796, last_impr=0, loss=1093]\n",
      "5it [00:02,  1.93it/s, tot_impr=1407, last_impr=0, loss=445]\n",
      "4it [00:02,  1.41it/s, tot_impr=712, last_impr=0, loss=1179]\n",
      "5it [00:06,  1.40s/it, tot_impr=1526, last_impr=0, loss=185]   \n"
     ]
    },
    {
     "data": {
      "application/vnd.jupyter.widget-view+json": {
       "model_id": "1d5ad9a1bbe54132b003edf8f1fd0445",
       "version_major": 2,
       "version_minor": 0
      },
      "text/plain": [
       "  0%|          | 0/15 [00:00<?, ?it/s]"
      ]
     },
     "metadata": {},
     "output_type": "display_data"
    },
    {
     "name": "stderr",
     "output_type": "stream",
     "text": [
      "3it [00:01,  1.96it/s, tot_impr=1178, last_impr=0, loss=698] 5]\n",
      "3it [00:01,  1.68it/s, tot_impr=846, last_impr=0, loss=1042]   \n",
      "4it [00:02,  1.97it/s, tot_impr=1319, last_impr=0, loss=552] \n",
      "4it [00:02,  1.92it/s, tot_impr=1387, last_impr=0, loss=470]\n",
      "4it [00:02,  1.92it/s, tot_impr=1091, last_impr=0, loss=792]\n",
      "3it [00:02,  1.40it/s, tot_impr=714, last_impr=0, loss=1180]\n",
      "4it [00:02,  1.85it/s, tot_impr=1012, last_impr=0, loss=875]\n",
      "4it [00:02,  1.79it/s, tot_impr=975, last_impr=0, loss=913]\n",
      "4it [00:02,  1.76it/s, tot_impr=907, last_impr=0, loss=979]\n",
      "3it [00:02,  1.29it/s, tot_impr=1529, last_impr=0, loss=287] \n",
      "3it [00:02,  1.24it/s, tot_impr=633, last_impr=0, loss=1264]\n",
      "5it [00:02,  2.01it/s, tot_impr=1247, last_impr=0, loss=627]\n",
      "4it [00:02,  1.56it/s, tot_impr=768, last_impr=0, loss=1124]\n",
      "4it [00:02,  1.57it/s, tot_impr=1485, last_impr=0, loss=361]\n",
      "4it [00:05,  1.37s/it, tot_impr=1541, last_impr=0, loss=182]   \n"
     ]
    },
    {
     "data": {
      "application/vnd.jupyter.widget-view+json": {
       "model_id": "94f5f72c2b674c77b8e57358beea0682",
       "version_major": 2,
       "version_minor": 0
      },
      "text/plain": [
       "  0%|          | 0/15 [00:00<?, ?it/s]"
      ]
     },
     "metadata": {},
     "output_type": "display_data"
    },
    {
     "name": "stderr",
     "output_type": "stream",
     "text": [
      "3it [00:01,  1.93it/s, tot_impr=1070, last_impr=0, loss=812] 9]\n",
      "3it [00:01,  1.90it/s, tot_impr=1400, last_impr=0, loss=464] \n",
      "3it [00:01,  1.79it/s, tot_impr=953, last_impr=0, loss=933]    \n",
      "3it [00:01,  1.68it/s, tot_impr=832, last_impr=0, loss=1057] \n",
      "3it [00:01,  1.55it/s, tot_impr=782, last_impr=0, loss=1111] \n",
      "4it [00:02,  1.96it/s, tot_impr=1177, last_impr=0, loss=701]\n",
      "4it [00:02,  1.97it/s, tot_impr=1344, last_impr=0, loss=523]\n",
      "3it [00:02,  1.40it/s, tot_impr=719, last_impr=0, loss=1176] \n",
      "4it [00:02,  1.86it/s, tot_impr=1008, last_impr=0, loss=870]\n",
      "4it [00:02,  1.77it/s, tot_impr=918, last_impr=0, loss=972]\n",
      "3it [00:02,  1.25it/s, tot_impr=632, last_impr=0, loss=1263] \n",
      "4it [00:02,  1.60it/s, tot_impr=1481, last_impr=0, loss=365]\n",
      "5it [00:02,  2.00it/s, tot_impr=1241, last_impr=0, loss=635]\n",
      "4it [00:03,  1.30it/s, tot_impr=1520, last_impr=0, loss=296]]  \n",
      "3it [00:04,  1.38s/it, tot_impr=1550, last_impr=0, loss=163] \n"
     ]
    },
    {
     "data": {
      "application/vnd.jupyter.widget-view+json": {
       "model_id": "324ca40607b3457aa4f9329099b6a9b3",
       "version_major": 2,
       "version_minor": 0
      },
      "text/plain": [
       "  0%|          | 0/15 [00:00<?, ?it/s]"
      ]
     },
     "metadata": {},
     "output_type": "display_data"
    },
    {
     "name": "stderr",
     "output_type": "stream",
     "text": [
      "3it [00:01,  1.92it/s, tot_impr=1081, last_impr=0, loss=796] 3]\n",
      "3it [00:01,  1.86it/s, tot_impr=984, last_impr=0, loss=892] ]  \n",
      "3it [00:01,  1.79it/s, tot_impr=939, last_impr=0, loss=948] \n",
      "3it [00:01,  1.53it/s, tot_impr=1445, last_impr=0, loss=389] \n",
      "4it [00:02,  1.98it/s, tot_impr=1232, last_impr=0, loss=643]\n",
      "4it [00:02,  1.98it/s, tot_impr=1288, last_impr=0, loss=568] \n",
      "4it [00:02,  1.96it/s, tot_impr=1156, last_impr=0, loss=712]\n",
      "4it [00:02,  1.91it/s, tot_impr=1417, last_impr=0, loss=440]\n",
      "3it [00:02,  1.41it/s, tot_impr=699, last_impr=0, loss=1196] \n",
      "4it [00:02,  1.77it/s, tot_impr=900, last_impr=0, loss=985]\n",
      "4it [00:02,  1.68it/s, tot_impr=844, last_impr=0, loss=1043]\n",
      "3it [00:02,  1.24it/s, tot_impr=630, last_impr=0, loss=1263] \n",
      "4it [00:02,  1.58it/s, tot_impr=798, last_impr=0, loss=1090]\n",
      "4it [00:03,  1.29it/s, tot_impr=1513, last_impr=0, loss=298]]  \n",
      "4it [00:05,  1.39s/it, tot_impr=1569, last_impr=0, loss=153] \n"
     ]
    },
    {
     "data": {
      "application/vnd.jupyter.widget-view+json": {
       "model_id": "8c894ad1e59848e1ad46ccad1760b89a",
       "version_major": 2,
       "version_minor": 0
      },
      "text/plain": [
       "  0%|          | 0/15 [00:00<?, ?it/s]"
      ]
     },
     "metadata": {},
     "output_type": "display_data"
    },
    {
     "name": "stderr",
     "output_type": "stream",
     "text": [
      "3it [00:01,  1.88it/s, tot_impr=1167, last_impr=0, loss=696]  ]\n",
      "3it [00:01,  1.70it/s, tot_impr=888, last_impr=0, loss=996] ]  \n",
      "3it [00:01,  1.55it/s, tot_impr=823, last_impr=0, loss=1061] \n",
      "4it [00:02,  1.93it/s, tot_impr=1131, last_impr=0, loss=741] \n",
      "4it [00:02,  1.98it/s, tot_impr=1323, last_impr=0, loss=536]\n",
      "3it [00:02,  1.41it/s, tot_impr=706, last_impr=0, loss=1181]\n",
      "4it [00:02,  1.91it/s, tot_impr=1085, last_impr=0, loss=788]\n",
      "4it [00:02,  1.84it/s, tot_impr=1417, last_impr=0, loss=439]\n",
      "4it [00:02,  1.73it/s, tot_impr=939, last_impr=0, loss=942]\n",
      "3it [00:02,  1.24it/s, tot_impr=612, last_impr=0, loss=1282]\n",
      "4it [00:02,  1.55it/s, tot_impr=1493, last_impr=0, loss=343] \n",
      "5it [00:02,  1.86it/s, tot_impr=992, last_impr=0, loss=884]]\n",
      "4it [00:03,  1.23it/s, tot_impr=1572, last_impr=0, loss=241]]  \n",
      "5it [00:03,  1.56it/s, tot_impr=792, last_impr=0, loss=1095]\n",
      "4it [00:05,  1.39s/it, tot_impr=1534, last_impr=0, loss=166] \n"
     ]
    },
    {
     "data": {
      "application/vnd.jupyter.widget-view+json": {
       "model_id": "27f7ed5483c943b5a073bcffa71b92c3",
       "version_major": 2,
       "version_minor": 0
      },
      "text/plain": [
       "  0%|          | 0/15 [00:00<?, ?it/s]"
      ]
     },
     "metadata": {},
     "output_type": "display_data"
    },
    {
     "name": "stderr",
     "output_type": "stream",
     "text": [
      "3it [00:01,  1.94it/s, tot_impr=1085, last_impr=0, loss=783] 5]\n",
      "3it [00:01,  1.57it/s, tot_impr=1521, last_impr=0, loss=311]   \n",
      "4it [00:01,  2.00it/s, tot_impr=1222, last_impr=0, loss=642] \n",
      "4it [00:02,  1.97it/s, tot_impr=1312, last_impr=0, loss=549]\n",
      "4it [00:02,  1.95it/s, tot_impr=1169, last_impr=0, loss=701]\n",
      "4it [00:02,  1.92it/s, tot_impr=1386, last_impr=0, loss=460]\n",
      "3it [00:02,  1.42it/s, tot_impr=722, last_impr=0, loss=1166] \n",
      "4it [00:02,  1.85it/s, tot_impr=980, last_impr=0, loss=895]\n",
      "4it [00:02,  1.80it/s, tot_impr=938, last_impr=0, loss=943]\n",
      "4it [00:02,  1.79it/s, tot_impr=905, last_impr=0, loss=977]\n",
      "4it [00:02,  1.69it/s, tot_impr=849, last_impr=0, loss=1033]\n",
      "3it [00:02,  1.23it/s, tot_impr=629, last_impr=0, loss=1260] \n",
      "4it [00:02,  1.57it/s, tot_impr=781, last_impr=0, loss=1107]\n",
      "4it [00:03,  1.28it/s, tot_impr=1543, last_impr=0, loss=258]]  \n",
      "4it [00:05,  1.37s/it, tot_impr=1564, last_impr=0, loss=137] \n"
     ]
    }
   ],
   "source": [
    "path = './examples/HumanCyc_2016.npy'\n",
    "thresh = np.unique(np.round(means[0]))\n",
    "C = 0\n",
    "KL_modified = True\n",
    "random_labels = True\n",
    "unweighted = True\n",
    "\n",
    "repeats = 10\n",
    "out = []\n",
    "for i in range(repeats):\n",
    "    np.random.seed(i)\n",
    "    results = process_map(partial(get_scores,path,C,KL_modified,random_labels,unweighted), thresh)\n",
    "    out.append(results)\n",
    "    #plt.plot(thresh, [x[1] for x in results])"
   ]
  },
  {
   "cell_type": "code",
   "execution_count": 93,
   "id": "39caaf0c-b620-487b-9a72-91c720b2dd2c",
   "metadata": {},
   "outputs": [
    {
     "data": {
      "image/png": "[encoded data removed]",
      "text/plain": [
       "<Figure size 432x288 with 1 Axes>"
      ]
     },
     "metadata": {
      "needs_background": "light"
     },
     "output_type": "display_data"
    }
   ],
   "source": [
    "means = []\n",
    "for i in range(len(out)):\n",
    "    res = out[i]\n",
    "    mean = [np.mean(np.unique(x[0], return_counts = True)[1]) for x in res]\n",
    "    means.append(mean)\n",
    "    plt.plot(mean, [x[1] for x in res])"
   ]
  },
  {
   "cell_type": "code",
   "execution_count": 79,
   "id": "1c38a73a-56d4-4533-9581-614d59dfb616",
   "metadata": {},
   "outputs": [
    {
     "data": {
      "text/plain": [
       "(array([3, 0, 5, ..., 7, 6, 8]), 166)"
      ]
     },
     "execution_count": 79,
     "metadata": {},
     "output_type": "execute_result"
    }
   ],
   "source": [
    "res"
   ]
  },
  {
   "cell_type": "code",
   "execution_count": 61,
   "id": "50c2f0a3-a5b9-448f-878a-689da65d6579",
   "metadata": {},
   "outputs": [
    {
     "data": {
      "text/plain": [
       "108.6"
      ]
     },
     "execution_count": 61,
     "metadata": {},
     "output_type": "execute_result"
    }
   ],
   "source": []
  },
  {
   "cell_type": "code",
   "execution_count": 47,
   "id": "02317158-5937-4e21-ae37-fe864ac79037",
   "metadata": {},
   "outputs": [
    {
     "data": {
      "text/plain": [
       "[<matplotlib.lines.Line2D at 0x7f47e1f6d430>]"
      ]
     },
     "execution_count": 47,
     "metadata": {},
     "output_type": "execute_result"
    },
    {
     "data": {
      "image/png": "[encoded data removed]",
      "text/plain": [
       "<Figure size 432x288 with 1 Axes>"
      ]
     },
     "metadata": {
      "needs_background": "light"
     },
     "output_type": "display_data"
    }
   ],
   "source": [
    "import matplotlib.pyplot as plt\n",
    "plt.plot(thresh, [x[1] for x in results])"
   ]
  },
  {
   "cell_type": "code",
   "execution_count": 40,
   "id": "6834104d-94c7-4a8a-9cb4-93977421c32f",
   "metadata": {},
   "outputs": [
    {
     "data": {
      "text/plain": [
       "[(array([15, 21,  4, ...,  6,  7, 12]), 273),\n",
       " (array([15, 21,  4, ...,  6,  7, 12]), 273),\n",
       " (array([15, 21,  4, ...,  6,  7, 12]), 273),\n",
       " (array([15, 21,  4, ...,  6,  7, 12]), 273),\n",
       " (array([15, 21,  4, ...,  6,  7, 12]), 273),\n",
       " (array([15, 21,  4, ...,  6,  7, 12]), 273),\n",
       " (array([15, 21,  4, ...,  6,  7, 12]), 273),\n",
       " (array([15, 21,  4, ...,  6,  7, 12]), 273),\n",
       " (array([15, 21,  4, ...,  6,  7, 12]), 273),\n",
       " (array([15, 21,  4, ...,  6,  7, 12]), 273),\n",
       " (array([15, 21,  4, ...,  6,  7, 12]), 273),\n",
       " (array([15, 21,  4, ...,  6,  7, 12]), 273),\n",
       " (array([15, 21,  4, ...,  6,  7, 12]), 273),\n",
       " (array([15, 21,  4, ...,  6,  7, 12]), 273),\n",
       " (array([15, 21,  4, ...,  6,  7, 12]), 273),\n",
       " (array([15, 21,  4, ...,  6,  7, 12]), 273),\n",
       " (array([15, 21,  4, ...,  6,  7, 12]), 273),\n",
       " (array([15, 21,  4, ...,  6,  7, 12]), 273),\n",
       " (array([15, 21,  4, ...,  6,  7, 12]), 273),\n",
       " (array([15, 21,  4, ...,  6,  7, 12]), 273),\n",
       " (array([15, 21,  4, ...,  6,  7, 12]), 273),\n",
       " (array([15, 21,  4, ...,  6,  7, 12]), 273),\n",
       " (array([15, 21,  4, ...,  6,  7, 12]), 273),\n",
       " (array([15, 21,  4, ...,  6,  7, 12]), 273),\n",
       " (array([15, 21,  4, ...,  6,  7, 12]), 273),\n",
       " (array([15, 21,  4, ...,  6,  7, 12]), 273),\n",
       " (array([15, 21,  4, ...,  6,  7, 12]), 273),\n",
       " (array([15, 21,  4, ...,  6,  7, 12]), 273),\n",
       " (array([15, 21,  4, ...,  6,  7, 12]), 273),\n",
       " (array([15, 21,  4, ...,  6,  7, 12]), 273),\n",
       " (array([15, 21,  4, ...,  6,  7, 12]), 273),\n",
       " (array([15, 21,  4, ...,  6,  7, 12]), 273),\n",
       " (array([ 9, 19,  8, ..., 16, 12, 12]), 309),\n",
       " (array([ 9, 19,  8, ..., 16, 12, 12]), 309),\n",
       " (array([ 9, 19,  8, ..., 16, 12, 12]), 309),\n",
       " (array([ 9, 19,  8, ..., 16, 12, 12]), 309),\n",
       " (array([ 9, 19,  8, ..., 16, 12, 12]), 309),\n",
       " (array([ 9, 19,  8, ..., 16, 12, 12]), 309),\n",
       " (array([ 9, 19,  8, ..., 16, 12, 12]), 309),\n",
       " (array([ 9, 19,  8, ..., 16, 12, 12]), 309),\n",
       " (array([ 9, 19,  8, ..., 16, 12, 12]), 309),\n",
       " (array([ 9, 19,  8, ..., 16, 12, 12]), 309),\n",
       " (array([ 9, 19,  8, ..., 16, 12, 12]), 309),\n",
       " (array([ 9, 19,  8, ..., 16, 12, 12]), 309),\n",
       " (array([ 9, 19,  8, ..., 16, 12, 12]), 309),\n",
       " (array([ 9, 19,  8, ..., 16, 12, 12]), 309),\n",
       " (array([ 9, 19,  8, ..., 16, 12, 12]), 309),\n",
       " (array([ 9, 19,  8, ..., 16, 12, 12]), 309),\n",
       " (array([ 9, 19,  8, ..., 16, 12, 12]), 309),\n",
       " (array([ 9, 19,  8, ..., 16, 12, 12]), 309),\n",
       " (array([ 9, 19,  8, ..., 16, 12, 12]), 309),\n",
       " (array([ 9, 19,  8, ..., 16, 12, 12]), 309),\n",
       " (array([ 9, 19,  8, ..., 16, 12, 12]), 309),\n",
       " (array([ 9, 19,  8, ..., 16, 12, 12]), 309),\n",
       " (array([ 9, 19,  8, ..., 16, 12, 12]), 309),\n",
       " (array([ 9, 19,  8, ..., 16, 12, 12]), 309),\n",
       " (array([ 9, 19,  8, ..., 16, 12, 12]), 309),\n",
       " (array([ 9, 19,  8, ..., 16, 12, 12]), 309),\n",
       " (array([ 9, 19,  8, ..., 16, 12, 12]), 309),\n",
       " (array([ 9, 19,  8, ..., 16, 12, 12]), 309),\n",
       " (array([ 9, 19,  8, ..., 16, 12, 12]), 309),\n",
       " (array([ 9, 19,  8, ..., 16, 12, 12]), 309),\n",
       " (array([ 9, 19,  8, ..., 16, 12, 12]), 309),\n",
       " (array([ 9, 19,  8, ..., 16, 12, 12]), 309),\n",
       " (array([10, 13,  0, ..., 20,  5, 21]), 364),\n",
       " (array([10, 13,  0, ..., 20,  5, 21]), 364),\n",
       " (array([10, 13,  0, ..., 20,  5, 21]), 364),\n",
       " (array([10, 13,  0, ..., 20,  5, 21]), 364),\n",
       " (array([10, 13,  0, ..., 20,  5, 21]), 364),\n",
       " (array([10, 13,  0, ..., 20,  5, 21]), 364),\n",
       " (array([10, 13,  0, ..., 20,  5, 21]), 364),\n",
       " (array([10, 13,  0, ..., 20,  5, 21]), 364),\n",
       " (array([10, 13,  0, ..., 20,  5, 21]), 364),\n",
       " (array([10, 13,  0, ..., 20,  5, 21]), 364),\n",
       " (array([10, 13,  0, ..., 20,  5, 21]), 364),\n",
       " (array([10, 13,  0, ..., 20,  5, 21]), 364),\n",
       " (array([10, 13,  0, ..., 20,  5, 21]), 364),\n",
       " (array([10, 13,  0, ..., 20,  5, 21]), 364),\n",
       " (array([10, 13,  0, ..., 20,  5, 21]), 364),\n",
       " (array([10, 13,  0, ..., 20,  5, 21]), 364),\n",
       " (array([10, 13,  0, ..., 20,  5, 21]), 364),\n",
       " (array([10, 13,  0, ..., 20,  5, 21]), 364),\n",
       " (array([10, 13,  0, ..., 20,  5, 21]), 364),\n",
       " (array([10, 13,  0, ..., 20,  5, 21]), 364),\n",
       " (array([10, 13,  0, ..., 20,  5, 21]), 364),\n",
       " (array([10, 13,  0, ..., 20,  5, 21]), 364),\n",
       " (array([10, 13,  0, ..., 20,  5, 21]), 364),\n",
       " (array([10, 13,  0, ..., 20,  5, 21]), 364),\n",
       " (array([10, 13,  0, ..., 20,  5, 21]), 364),\n",
       " (array([10, 13,  0, ..., 20,  5, 21]), 364),\n",
       " (array([10, 13,  0, ..., 20,  5, 21]), 364),\n",
       " (array([10, 13,  0, ..., 20,  5, 21]), 364),\n",
       " (array([10, 13,  0, ..., 20,  5, 21]), 364),\n",
       " (array([10, 13,  0, ..., 20,  5, 21]), 364),\n",
       " (array([10, 13,  0, ..., 20,  5, 21]), 364),\n",
       " (array([10, 13,  0, ..., 20,  5, 21]), 364),\n",
       " (array([16,  4,  9, ..., 20, 20, 20]), 267),\n",
       " (array([16,  4,  9, ..., 20, 20, 20]), 267),\n",
       " (array([16,  4,  9, ..., 20, 20, 20]), 267),\n",
       " (array([16,  4,  9, ..., 20, 20, 20]), 267)]"
      ]
     },
     "execution_count": 40,
     "metadata": {},
     "output_type": "execute_result"
    }
   ],
   "source": [
    "results"
   ]
  },
  {
   "cell_type": "code",
   "execution_count": null,
   "id": "d9b94929-c4f9-4ab2-bda0-7618cc3fce74",
   "metadata": {},
   "outputs": [
    {
     "data": {
      "application/vnd.jupyter.widget-view+json": {
       "model_id": "3ead1fafb7154c0ca6443930bd1f7561",
       "version_major": 2,
       "version_minor": 0
      },
      "text/plain": [
       "  0%|          | 0/2 [00:00<?, ?it/s]"
      ]
     },
     "metadata": {},
     "output_type": "display_data"
    }
   ],
   "source": [
    "process_map(partial(get_scores,path,C=0,KL_modified=True,random_labels=True,unweighted=True),(np.array([2,3])))"
   ]
  },
  {
   "cell_type": "code",
   "execution_count": 37,
   "id": "bbe27239-9508-4c94-bf44-132be6beaedd",
   "metadata": {},
   "outputs": [
    {
     "name": "stderr",
     "output_type": "stream",
     "text": [
      "2it [00:05,  2.65s/it, tot_impr=151, last_impr=0, loss=1748]  \n"
     ]
    },
    {
     "data": {
      "text/plain": [
       "(array([483, 274,   3, ..., 315, 105,  84]), 1748)"
      ]
     },
     "execution_count": 37,
     "metadata": {},
     "output_type": "execute_result"
    }
   ],
   "source": [
    "\n",
    "partial(get_scores,path,C,KL_modified,random_labels,unweighted)(2)"
   ]
  },
  {
   "cell_type": "code",
   "execution_count": 3,
   "id": "545c6a75-2dcc-4835-8b4f-8e8efe375f2d",
   "metadata": {},
   "outputs": [
    {
     "data": {
      "text/plain": [
       "265"
      ]
     },
     "execution_count": 3,
     "metadata": {},
     "output_type": "execute_result"
    }
   ],
   "source": [
    "thresholds = np.array([25, 50, 100, 200, 500, 1000])\n",
    "results = process_map(partial(score_for_thres, matrix), thresholds)"
   ]
  },
  {
   "cell_type": "code",
   "execution_count": 89,
   "id": "b1be1fc7-daa8-44b8-ba3f-0a661f8e91c9",
   "metadata": {
    "collapsed": true,
    "jupyter": {
     "outputs_hidden": true
    },
    "tags": []
   },
   "outputs": [
    {
     "name": "stderr",
     "output_type": "stream",
     "text": [
      "4it [00:03,  1.23it/s, tot_impr=1508, last_impr=0, loss=310]   \n",
      "4it [00:03,  1.06it/s, tot_impr=1547, last_impr=0, loss=273]   \n",
      "3it [00:02,  1.33it/s, tot_impr=1533, last_impr=0, loss=287]   \n",
      "1it [00:01,  1.01s/it, tot_impr=1469, last_impr=1469, loss=342]\n"
     ]
    },
    {
     "ename": "KeyboardInterrupt",
     "evalue": "",
     "output_type": "error",
     "traceback": [
      "\u001b[0;31m---------------------------------------------------------------------------\u001b[0m",
      "\u001b[0;31mKeyboardInterrupt\u001b[0m                         Traceback (most recent call last)",
      "Input \u001b[0;32mIn [89]\u001b[0m, in \u001b[0;36m<cell line: 6>\u001b[0;34m()\u001b[0m\n\u001b[1;32m      5\u001b[0m loss \u001b[38;5;241m=\u001b[39m np\u001b[38;5;241m.\u001b[39mempty(shape \u001b[38;5;241m=\u001b[39m (N,\u001b[38;5;241m1\u001b[39m))\n\u001b[1;32m      6\u001b[0m \u001b[38;5;28;01mfor\u001b[39;00m i \u001b[38;5;129;01min\u001b[39;00m \u001b[38;5;28mrange\u001b[39m(N):\n\u001b[0;32m----> 7\u001b[0m     out[i] \u001b[38;5;241m=\u001b[39m np\u001b[38;5;241m.\u001b[39marray(\u001b[43mget_kernighan_lin_clusters\u001b[49m\u001b[43m(\u001b[49m\u001b[38;5;124;43m'\u001b[39;49m\u001b[38;5;124;43m./examples/HumanCyc_2016.npy\u001b[39;49m\u001b[38;5;124;43m'\u001b[39;49m\u001b[43m,\u001b[49m\u001b[43m \u001b[49m\u001b[38;5;241;43m50\u001b[39;49m\u001b[43m,\u001b[49m\u001b[43m \u001b[49m\u001b[43mc\u001b[49m\u001b[43m,\u001b[49m\u001b[43m \u001b[49m\u001b[43mKL_modified\u001b[49m\u001b[38;5;241;43m=\u001b[39;49m\u001b[38;5;28;43;01mTrue\u001b[39;49;00m\u001b[43m,\u001b[49m\u001b[43m \u001b[49m\u001b[43mrandom_labels\u001b[49m\u001b[38;5;241;43m=\u001b[39;49m\u001b[38;5;28;43;01mTrue\u001b[39;49;00m\u001b[43m,\u001b[49m\u001b[43m \u001b[49m\u001b[43munweighted\u001b[49m\u001b[38;5;241;43m=\u001b[39;49m\u001b[38;5;28;43;01mTrue\u001b[39;49;00m\u001b[43m)\u001b[49m[\u001b[38;5;241m0\u001b[39m])\n\u001b[1;32m      8\u001b[0m     loss[i] \u001b[38;5;241m=\u001b[39m evaluate_cut(matrix, out[i], c)\n",
      "File \u001b[0;32m~/homer/github/geneclusters/geneclusters/cluster_genes_new.py:415\u001b[0m, in \u001b[0;36mget_kernighan_lin_clusters\u001b[0;34m(path, threshold, C, KL_modified, random_labels, unweighted)\u001b[0m\n\u001b[1;32m    413\u001b[0m \u001b[38;5;28;01melse\u001b[39;00m:\n\u001b[1;32m    414\u001b[0m     labeling \u001b[38;5;241m=\u001b[39m create_nonrandom_labeling(matrix, threshold, unweighted, C)\n\u001b[0;32m--> 415\u001b[0m \u001b[43mrun_KL\u001b[49m\u001b[43m(\u001b[49m\u001b[43mlabeling\u001b[49m\u001b[43m,\u001b[49m\u001b[43m \u001b[49m\u001b[43mmatrix\u001b[49m\u001b[43m,\u001b[49m\u001b[43m \u001b[49m\u001b[38;5;241;43m0\u001b[39;49m\u001b[43m,\u001b[49m\u001b[43m \u001b[49m\u001b[43mKL_modified\u001b[49m\u001b[43m)\u001b[49m\n\u001b[1;32m    416\u001b[0m frame \u001b[38;5;241m=\u001b[39m pd\u001b[38;5;241m.\u001b[39mDataFrame(labeling)\n\u001b[1;32m    417\u001b[0m frame[\u001b[38;5;124m'\u001b[39m\u001b[38;5;124mdescription\u001b[39m\u001b[38;5;124m'\u001b[39m] \u001b[38;5;241m=\u001b[39m np\u001b[38;5;241m.\u001b[39mconcatenate([gene_names, pathway_names])\n",
      "File \u001b[0;32m~/homer/github/geneclusters/geneclusters/cluster_genes_new.py:386\u001b[0m, in \u001b[0;36mrun_KL\u001b[0;34m(labeling, matrix, c, KL_modified)\u001b[0m\n\u001b[1;32m    384\u001b[0m \u001b[38;5;28;01mwith\u001b[39;00m tqdm() \u001b[38;5;28;01mas\u001b[39;00m p:\n\u001b[1;32m    385\u001b[0m     \u001b[38;5;28;01mwhile\u001b[39;00m \u001b[38;5;28;01mTrue\u001b[39;00m:\n\u001b[0;32m--> 386\u001b[0m         impr \u001b[38;5;241m=\u001b[39m \u001b[43mfull_kl_step\u001b[49m\u001b[43m(\u001b[49m\u001b[43mlabeling\u001b[49m\u001b[43m,\u001b[49m\u001b[43m \u001b[49m\u001b[43mmatrix\u001b[49m\u001b[43m,\u001b[49m\u001b[43m \u001b[49m\u001b[43mc\u001b[49m\u001b[43m,\u001b[49m\u001b[43m \u001b[49m\u001b[43mKL_modified\u001b[49m\u001b[43m)\u001b[49m\n\u001b[1;32m    387\u001b[0m         tot \u001b[38;5;241m+\u001b[39m\u001b[38;5;241m=\u001b[39m impr\n\u001b[1;32m    388\u001b[0m         p\u001b[38;5;241m.\u001b[39mset_postfix({\n\u001b[1;32m    389\u001b[0m                 \u001b[38;5;124m'\u001b[39m\u001b[38;5;124mtot_impr\u001b[39m\u001b[38;5;124m'\u001b[39m: tot,\n\u001b[1;32m    390\u001b[0m                 \u001b[38;5;124m'\u001b[39m\u001b[38;5;124mlast_impr\u001b[39m\u001b[38;5;124m'\u001b[39m: impr,\n\u001b[1;32m    391\u001b[0m                 \u001b[38;5;124m'\u001b[39m\u001b[38;5;124mloss\u001b[39m\u001b[38;5;124m'\u001b[39m: evaluate_cut(matrix, labeling, c)\n\u001b[1;32m    392\u001b[0m         })\n",
      "File \u001b[0;32m~/homer/github/geneclusters/geneclusters/cluster_genes_new.py:347\u001b[0m, in \u001b[0;36mfull_kl_step\u001b[0;34m(labeling, matrix, c, KL_modified)\u001b[0m\n\u001b[1;32m    345\u001b[0m \u001b[38;5;28;01mfor\u001b[39;00m o \u001b[38;5;129;01min\u001b[39;00m order:\n\u001b[1;32m    346\u001b[0m     cluster_1, cluster_2 \u001b[38;5;241m=\u001b[39m o \u001b[38;5;241m/\u001b[39m\u001b[38;5;241m/\u001b[39m num_clusters, o \u001b[38;5;241m%\u001b[39m num_clusters\n\u001b[0;32m--> 347\u001b[0m     impr\u001b[38;5;241m+\u001b[39m\u001b[38;5;241m=\u001b[39m\u001b[43mkernighan_lin_step\u001b[49m\u001b[43m(\u001b[49m\u001b[43mlabeling\u001b[49m\u001b[43m,\u001b[49m\u001b[43m \u001b[49m\u001b[43mmatrix\u001b[49m\u001b[43m,\u001b[49m\u001b[43m \u001b[49m\u001b[43mcluster_1\u001b[49m\u001b[43m,\u001b[49m\u001b[43m \u001b[49m\u001b[43mcluster_2\u001b[49m\u001b[43m,\u001b[49m\u001b[43m \u001b[49m\u001b[43mc\u001b[49m\u001b[43m,\u001b[49m\u001b[43m \u001b[49m\u001b[43mKL_modified\u001b[49m\u001b[43m)\u001b[49m\n\u001b[1;32m    348\u001b[0m \u001b[38;5;28;01mreturn\u001b[39;00m impr\n",
      "\u001b[0;31mKeyboardInterrupt\u001b[0m: "
     ]
    }
   ],
   "source": [
    "# how consistent across repeats?\n",
    "N = 50\n",
    "c = 0\n",
    "out = np.empty(shape = (N, 1086), dtype = int)\n",
    "loss = np.empty(shape = (N,1))\n",
    "for i in range(N):\n",
    "    out[i] = np.array(get_kernighan_lin_clusters('./examples/HumanCyc_2016.npy', 50, c, KL_modified=True, random_labels=True, unweighted=True)[0])\n",
    "    loss[i] = evaluate_cut(matrix, out[i], c)"
   ]
  },
  {
   "cell_type": "code",
   "execution_count": 88,
   "id": "7c80584e-fe6b-4000-bd87-a4a409d6d36a",
   "metadata": {},
   "outputs": [
    {
     "data": {
      "text/plain": [
       "array([[252.],\n",
       "       [306.]])"
      ]
     },
     "execution_count": 88,
     "metadata": {},
     "output_type": "execute_result"
    }
   ],
   "source": [
    "thresholds = np.array([25, 50, 100, 200, 500, 1000])\n",
    "results = process_map(partial(score_for_thres, matrix), thresholds)"
   ]
  },
  {
   "cell_type": "code",
   "execution_count": 69,
   "id": "e53de09a-160f-4adb-bc25-c4bc9f33fb77",
   "metadata": {},
   "outputs": [
    {
     "name": "stderr",
     "output_type": "stream",
     "text": [
      "4it [00:01,  2.13it/s, tot_impr=1334, last_impr=0, loss=532]   \n"
     ]
    }
   ],
   "source": [
    "frame = get_kernighan_lin_clusters('./examples/HumanCyc_2016.npy', 22, 0, KL_modified=True, random_labels=True, unweighted=True)"
   ]
  },
  {
   "cell_type": "code",
   "execution_count": 77,
   "id": "83169899-72a6-4523-b336-a105d1af24b9",
   "metadata": {},
   "outputs": [
    {
     "data": {
      "text/plain": [
       "array([[4.63778443e-310],\n",
       "       [6.92377362e-310]])"
      ]
     },
     "execution_count": 77,
     "metadata": {},
     "output_type": "execute_result"
    }
   ],
   "source": [
    "loss = np.empty(shape = (2,1))\n",
    "loss"
   ]
  },
  {
   "cell_type": "code",
   "execution_count": 74,
   "id": "9c60a84e-2484-4e9c-bb3f-3be52d801d23",
   "metadata": {},
   "outputs": [
    {
     "data": {
      "text/plain": [
       "array([[140138750153824, 140138750153824,  93869922358736, ...,\n",
       "         93869801519360,  93869801519360,  93869801519360],\n",
       "       [ 93869801519360,  93869801519360,               0, ...,\n",
       "         93869801519360,  93869801519360,  93869801519360],\n",
       "       [ 93869801519360,  93869801519360,  93869801519360, ...,\n",
       "         93869801519360,  93869801519360,  93869801519360],\n",
       "       ...,\n",
       "       [140132142724464, 140132142724656, 140132142724848, ...,\n",
       "        140132104221248, 140132104221376, 140132104221504],\n",
       "       [140132104221632, 140132104221760, 140132104221888, ...,\n",
       "        140132104269120, 140132104269248, 140132104269376],\n",
       "       [140132104269504, 140132104269632, 140132104269760, ...,\n",
       "        140132142577776, 140132142577968, 140132142578160]])"
      ]
     },
     "execution_count": 74,
     "metadata": {},
     "output_type": "execute_result"
    }
   ],
   "source": []
  },
  {
   "cell_type": "code",
   "execution_count": 70,
   "id": "f6a613dc-18f6-4e51-8f00-f6360366d4af",
   "metadata": {},
   "outputs": [
    {
     "data": {
      "text/plain": [
       "30"
      ]
     },
     "execution_count": 70,
     "metadata": {},
     "output_type": "execute_result"
    }
   ],
   "source": []
  },
  {
   "cell_type": "code",
   "execution_count": 31,
   "id": "0d21f7d2-9697-49d5-8f52-be36721136f5",
   "metadata": {},
   "outputs": [],
   "source": [
    "# evaluate cut independently\n",
    "mat = get_gene_pathway_matrix('./examples/HumanCyc_2016.npy')"
   ]
  },
  {
   "cell_type": "code",
   "execution_count": 27,
   "id": "852333fa-c2cb-4ea3-9947-7161db6c0d6b",
   "metadata": {},
   "outputs": [],
   "source": []
  },
  {
   "cell_type": "code",
   "execution_count": 28,
   "id": "5fec9d55-5162-43c4-82e2-3c237516c503",
   "metadata": {},
   "outputs": [
    {
     "data": {
      "text/plain": [
       "(934, 152)"
      ]
     },
     "execution_count": 28,
     "metadata": {},
     "output_type": "execute_result"
    }
   ],
   "source": [
    "matrix.shape"
   ]
  },
  {
   "cell_type": "code",
   "execution_count": 25,
   "id": "eb7f6869-52d0-489c-98ff-9451095c43af",
   "metadata": {},
   "outputs": [
    {
     "data": {
      "text/plain": [
       "(7173, 622)"
      ]
     },
     "execution_count": 25,
     "metadata": {},
     "output_type": "execute_result"
    }
   ],
   "source": [
    "matrix.shape"
   ]
  },
  {
   "cell_type": "code",
   "execution_count": 24,
   "id": "0866a5d7-c242-4e59-b956-75dd54b53af4",
   "metadata": {},
   "outputs": [
    {
     "data": {
      "text/plain": [
       "19144"
      ]
     },
     "execution_count": 24,
     "metadata": {},
     "output_type": "execute_result"
    }
   ],
   "source": []
  },
  {
   "cell_type": "code",
   "execution_count": 15,
   "id": "44f7ab06-dd19-4694-a335-cbb45033b6ed",
   "metadata": {},
   "outputs": [
    {
     "data": {
      "text/plain": [
       "1"
      ]
     },
     "execution_count": 15,
     "metadata": {},
     "output_type": "execute_result"
    }
   ],
   "source": [
    "ar = np.array([[1,0,0],[0,1,0]])\n",
    "labels = np.array([1,1,1,0,0])\n",
    "evaluate_cut(ar, labels, 0)"
   ]
  },
  {
   "cell_type": "code",
   "execution_count": null,
   "id": "f8d99835-880b-41e1-82c8-383079d5b84f",
   "metadata": {},
   "outputs": [],
   "source": []
  }
 ],
 "metadata": {
  "kernelspec": {
   "display_name": "Python 3 (ipykernel)",
   "language": "python",
   "name": "python3"
  },
  "language_info": {
   "codemirror_mode": {
    "name": "ipython",
    "version": 3
   },
   "file_extension": ".py",
   "mimetype": "text/x-python",
   "name": "python",
   "nbconvert_exporter": "python",
   "pygments_lexer": "ipython3",
   "version": "3.8.13"
  }
 },
 "nbformat": 4,
 "nbformat_minor": 5
}
