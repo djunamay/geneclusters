{
 "cells": [
  {
   "cell_type": "markdown",
   "id": "d22b4817-5284-4832-b92f-fd4da1cd6f26",
   "metadata": {},
   "source": [
    "### 1. Download geneset(s) of interest"
   ]
  },
  {
   "cell_type": "code",
   "execution_count": null,
   "id": "f1930195-b05c-49e1-853d-35a5e9283cb5",
   "metadata": {},
   "outputs": [],
   "source": [
    "import gseapy\n",
    "from geneclusters.benchmarking import save_gset"
   ]
  },
  {
   "cell_type": "code",
   "execution_count": null,
   "id": "971a3e46-82ae-41f9-90c9-dafbe06a536c",
   "metadata": {},
   "outputs": [],
   "source": [
    "# list all genesets\n",
    "gene_sets = gseapy.get_library_name()\n",
    "print(gene_sets)"
   ]
  },
  {
   "cell_type": "code",
   "execution_count": null,
   "id": "36a3a6a3-bbe2-40c5-bbf3-c3646007829c",
   "metadata": {},
   "outputs": [],
   "source": [
    "# run with internet\n",
    "save_gset('HumanCyc_2016')"
   ]
  },
  {
   "cell_type": "markdown",
   "id": "d6e8824f-0ce9-41b4-a002-ac3b754b7d8e",
   "metadata": {},
   "source": [
    "### 2. Run clustering algorithm(s)"
   ]
  },
  {
   "cell_type": "markdown",
   "id": "502d5eec-8dc9-4e6f-bbd7-1a20da064516",
   "metadata": {},
   "source": [
    "#### K/L"
   ]
  },
  {
   "cell_type": "code",
   "execution_count": 144,
   "id": "d2160708-662b-4637-a5d6-66d5beb93d18",
   "metadata": {},
   "outputs": [],
   "source": [
    "from geneclusters.benchmarking import run_many_KL\n",
    "from geneclusters.geneclusters import get_gene_pathway_matrix"
   ]
  },
  {
   "cell_type": "code",
   "execution_count": 148,
   "id": "7bfa94b3-a14b-4a59-af20-1f5493d35f9b",
   "metadata": {},
   "outputs": [
    {
     "name": "stderr",
     "output_type": "stream",
     "text": [
      "100%|██████████| 10/10 [01:53<00:00, 11.40s/it]\n"
     ]
    }
   ],
   "source": [
    "# load gene-pathway matrix\n",
    "matrix = get_gene_pathway_matrix('./HumanCyc_2016.npy')\n",
    "\n",
    "# specify params\n",
    "C = 0\n",
    "KL_modified = True\n",
    "random_labels = True\n",
    "unweighted = True\n",
    "N=10\n",
    "size = 136\n",
    "\n",
    "# run KL, multi iteration\n",
    "run_many_KL(N, size, C, KL_modified, random_labels, unweighted, matrix)"
   ]
  },
  {
   "cell_type": "code",
   "execution_count": null,
   "id": "37b0f01c-9efc-460e-840b-b1c32aecb028",
   "metadata": {},
   "outputs": [],
   "source": [
    "# what is the KL modified?"
   ]
  },
  {
   "cell_type": "code",
   "execution_count": 9,
   "id": "ef963660-619b-447b-b864-4ac6b2a04220",
   "metadata": {},
   "outputs": [
    {
     "data": {
      "text/plain": [
       "4"
      ]
     },
     "execution_count": 9,
     "metadata": {},
     "output_type": "execute_result"
    }
   ],
   "source": [
    "2+2"
   ]
  },
  {
   "cell_type": "markdown",
   "id": "8dcceeb7-d175-4bec-bde9-a16ed3ff996f",
   "metadata": {},
   "source": [
    "#### METIS"
   ]
  },
  {
   "cell_type": "code",
   "execution_count": 1,
   "id": "5ecd68c9-5e16-4642-aa16-e7351877e49f",
   "metadata": {},
   "outputs": [],
   "source": [
    "from geneclusters.geneclusters import get_gene_pathway_matrix\n",
    "from geneclusters.benchmarking import make_symmetric, run_many_METIS"
   ]
  },
  {
   "cell_type": "code",
   "execution_count": 2,
   "id": "0f798738-b5d2-43ab-b68b-0e1f52364f66",
   "metadata": {},
   "outputs": [
    {
     "name": "stderr",
     "output_type": "stream",
     "text": [
      "100%|██████████| 10/10 [00:01<00:00,  8.55it/s]\n"
     ]
    }
   ],
   "source": [
    "# load gene-pathway matrix\n",
    "matrix = get_gene_pathway_matrix('./HumanCyc_2016.npy')\n",
    "\n",
    "# make symmetric\n",
    "full_mat = make_symmetric(matrix)\n",
    "\n",
    "# define params\n",
    "nparts = 8\n",
    "N = 10\n",
    "\n",
    "# run METIS, multi iteration\n",
    "run_many_METIS(full_mat, matrix, nparts, N)"
   ]
  },
  {
   "cell_type": "markdown",
   "id": "28bd8263-162f-4c8d-8cec-bb96a6a3a9d5",
   "metadata": {},
   "source": [
    "#### Spectral bisection"
   ]
  },
  {
   "cell_type": "code",
   "execution_count": 3,
   "id": "665f62af-90b5-4c1e-badf-b688c2c6b3a9",
   "metadata": {},
   "outputs": [],
   "source": [
    "from geneclusters.benchmarking import make_symmetric\n",
    "from geneclusters.geneclusters import run_SB, get_gene_pathway_matrix\n",
    "import numpy as np"
   ]
  },
  {
   "cell_type": "code",
   "execution_count": 4,
   "id": "dac52e3b-ec48-4ff6-b22b-3c7c101bd202",
   "metadata": {},
   "outputs": [],
   "source": [
    "# load gene-pathway matrix\n",
    "matrix = get_gene_pathway_matrix('./HumanCyc_2016.npy')\n",
    "\n",
    "# make symmetric\n",
    "full_mat = make_symmetric(matrix)\n",
    "\n",
    "# define params\n",
    "nclust = 8\n",
    "\n",
    "# run spectral bisection\n",
    "labels_sb, loss_sb = run_SB(nclust, full_mat, matrix)\n",
    "np.save('./SB_labs.npy', labels_sb)\n",
    "np.save('./SB_loss.npy', loss_sb)"
   ]
  },
  {
   "cell_type": "markdown",
   "id": "999f08e9-20ca-4b49-84aa-bb8bba3c4330",
   "metadata": {},
   "source": [
    "#### Spectral clustering"
   ]
  },
  {
   "cell_type": "code",
   "execution_count": 6,
   "id": "9490718f-a10f-4ae2-a7b9-6e416925b6f3",
   "metadata": {},
   "outputs": [],
   "source": [
    "from sklearn.cluster import SpectralClustering\n",
    "from geneclusters.benchmarking import run_many_SPECTRAL, make_symmetric\n",
    "from geneclusters.geneclusters import get_gene_pathway_matrix"
   ]
  },
  {
   "cell_type": "code",
   "execution_count": 8,
   "id": "3c42deca-dd1e-418a-adc4-4d626ba61491",
   "metadata": {},
   "outputs": [
    {
     "name": "stderr",
     "output_type": "stream",
     "text": [
      "  0%|          | 0/10 [00:00<?, ?it/s]/home/gridsan/djuna/.local/lib/python3.8/site-packages/sklearn/manifold/_spectral_embedding.py:273: UserWarning: Graph is not fully connected, spectral embedding may not work as expected.\n",
      "  warnings.warn(\n",
      " 10%|█         | 1/10 [00:03<00:29,  3.32s/it]/home/gridsan/djuna/.local/lib/python3.8/site-packages/sklearn/manifold/_spectral_embedding.py:273: UserWarning: Graph is not fully connected, spectral embedding may not work as expected.\n",
      "  warnings.warn(\n",
      " 20%|██        | 2/10 [00:16<01:11,  8.99s/it]/home/gridsan/djuna/.local/lib/python3.8/site-packages/sklearn/manifold/_spectral_embedding.py:273: UserWarning: Graph is not fully connected, spectral embedding may not work as expected.\n",
      "  warnings.warn(\n",
      " 30%|███       | 3/10 [00:32<01:27, 12.44s/it]/home/gridsan/djuna/.local/lib/python3.8/site-packages/sklearn/manifold/_spectral_embedding.py:273: UserWarning: Graph is not fully connected, spectral embedding may not work as expected.\n",
      "  warnings.warn(\n",
      " 40%|████      | 4/10 [00:49<01:24, 14.07s/it]/home/gridsan/djuna/.local/lib/python3.8/site-packages/sklearn/manifold/_spectral_embedding.py:273: UserWarning: Graph is not fully connected, spectral embedding may not work as expected.\n",
      "  warnings.warn(\n",
      " 50%|█████     | 5/10 [01:06<01:15, 15.02s/it]/home/gridsan/djuna/.local/lib/python3.8/site-packages/sklearn/manifold/_spectral_embedding.py:273: UserWarning: Graph is not fully connected, spectral embedding may not work as expected.\n",
      "  warnings.warn(\n",
      " 60%|██████    | 6/10 [01:22<01:01, 15.47s/it]/home/gridsan/djuna/.local/lib/python3.8/site-packages/sklearn/manifold/_spectral_embedding.py:273: UserWarning: Graph is not fully connected, spectral embedding may not work as expected.\n",
      "  warnings.warn(\n",
      " 70%|███████   | 7/10 [01:37<00:46, 15.38s/it]/home/gridsan/djuna/.local/lib/python3.8/site-packages/sklearn/manifold/_spectral_embedding.py:273: UserWarning: Graph is not fully connected, spectral embedding may not work as expected.\n",
      "  warnings.warn(\n",
      " 80%|████████  | 8/10 [01:53<00:31, 15.54s/it]/home/gridsan/djuna/.local/lib/python3.8/site-packages/sklearn/manifold/_spectral_embedding.py:273: UserWarning: Graph is not fully connected, spectral embedding may not work as expected.\n",
      "  warnings.warn(\n",
      " 90%|█████████ | 9/10 [02:08<00:15, 15.47s/it]/home/gridsan/djuna/.local/lib/python3.8/site-packages/sklearn/manifold/_spectral_embedding.py:273: UserWarning: Graph is not fully connected, spectral embedding may not work as expected.\n",
      "  warnings.warn(\n",
      "100%|██████████| 10/10 [02:24<00:00, 14.45s/it]\n"
     ]
    }
   ],
   "source": [
    "# load gene-pathway matrix\n",
    "matrix = get_gene_pathway_matrix('./HumanCyc_2016.npy')\n",
    "\n",
    "# make symmetric\n",
    "full_mat = make_symmetric(matrix)\n",
    "\n",
    "# define params\n",
    "nclust = 8\n",
    "N = 10\n",
    "\n",
    "# run spectral, multi iterations\n",
    "run_many_SPECTRAL(full_mat, matrix, nclust, N)"
   ]
  },
  {
   "cell_type": "markdown",
   "id": "90260cc6-325f-4c73-af58-0d64ccc9206c",
   "metadata": {},
   "source": [
    "#### Random permutation"
   ]
  },
  {
   "cell_type": "code",
   "execution_count": 3,
   "id": "58f3a581-27ca-4f44-b141-854da5bf2a8b",
   "metadata": {},
   "outputs": [],
   "source": [
    "from geneclusters.benchmarking import run_many_RAND\n",
    "from geneclusters.geneclusters import get_gene_pathway_matrix\n",
    "import numpy as np"
   ]
  },
  {
   "cell_type": "code",
   "execution_count": 19,
   "id": "998f861f-5931-4078-8d40-3695d2134e1b",
   "metadata": {},
   "outputs": [
    {
     "name": "stderr",
     "output_type": "stream",
     "text": [
      "100%|██████████| 10/10 [00:01<00:00,  7.52it/s]\n"
     ]
    }
   ],
   "source": [
    "# load gene-pathway matrix\n",
    "matrix = get_gene_pathway_matrix('./HumanCyc_2016.npy')\n",
    "\n",
    "# get initial labs\n",
    "labs_init = np.load('./kl_labs.npy')[0]\n",
    "\n",
    "# define params \n",
    "N = 10\n",
    "\n",
    "# run random permutations, multi init\n",
    "run_many_RAND(N, labs_init, matrix)"
   ]
  },
  {
   "cell_type": "markdown",
   "id": "f94123bd-8b4f-4bca-9ba6-2b7a1321058d",
   "metadata": {},
   "source": [
    "### 3. Comparing clustering outputs"
   ]
  },
  {
   "cell_type": "markdown",
   "id": "90cc2123-9ea2-49b5-9634-0b34bcf13e87",
   "metadata": {},
   "source": [
    "#### plot loss by method"
   ]
  },
  {
   "cell_type": "code",
   "execution_count": 101,
   "id": "0df72acd-0c27-4d75-8826-1ffd34e9c8be",
   "metadata": {},
   "outputs": [],
   "source": [
    "import numpy as np\n",
    "import seaborn as sns\n",
    "import os\n",
    "import pandas as pd\n",
    "import matplotlib.pyplot as plt"
   ]
  },
  {
   "cell_type": "code",
   "execution_count": 103,
   "id": "ff8a584b-5fc2-479f-82db-48cca33dc129",
   "metadata": {},
   "outputs": [
    {
     "data": {
      "text/plain": [
       "<Axes: xlabel='loss', ylabel='method'>"
      ]
     },
     "execution_count": 103,
     "metadata": {},
     "output_type": "execute_result"
    },
    {
     "data": {
      "image/png": "[encoded data removed]",
      "text/plain": [
       "<Figure size 216x72 with 1 Axes>"
      ]
     },
     "metadata": {
      "needs_background": "light"
     },
     "output_type": "display_data"
    }
   ],
   "source": [
    "files = np.array(os.listdir('./'))\n",
    "load = files[[x.endswith('loss.npy') for x in files]]\n",
    "loss = []\n",
    "names = []\n",
    "for i in load:\n",
    "    temp = np.load(i)\n",
    "    loss.append(temp)\n",
    "    names.append(np.repeat(i.split('_')[0], temp.size))\n",
    "    \n",
    "df = pd.DataFrame(np.hstack(loss))\n",
    "df.columns = ['loss']\n",
    "df['method'] = np.hstack(names)\n",
    "\n",
    "plt.figure(figsize=(3,1))\n",
    "sns.barplot(data=df, x=\"loss\", y=\"method\", estimator=np.mean, ci='sd', capsize=.2, color='lightblue', palette = \"Blues_d\")"
   ]
  },
  {
   "cell_type": "markdown",
   "id": "13a8ba42-a24a-4c80-a625-78efc4bbfc74",
   "metadata": {},
   "source": [
    "#### plot jaccard indices"
   ]
  },
  {
   "cell_type": "code",
   "execution_count": 149,
   "id": "1c57d1db-209c-4742-a5a7-c3f0f19a4d86",
   "metadata": {},
   "outputs": [],
   "source": [
    "from geneclusters.geneclusters import get_gene_pathway_matrix, compute_jaccard_all_clust, get_rand_index\n",
    "from geneclusters.benchmarking import make_symmetric\n",
    "import matplotlib.pyplot as plt\n",
    "import numpy as np"
   ]
  },
  {
   "cell_type": "code",
   "execution_count": 152,
   "id": "847d73d2-70fa-4f23-89eb-8629b14e441a",
   "metadata": {},
   "outputs": [
    {
     "data": {
      "text/plain": [
       "Text(0.5, 0, 'METIS')"
      ]
     },
     "execution_count": 152,
     "metadata": {},
     "output_type": "execute_result"
    },
    {
     "data": {
      "image/png": "[encoded data removed]",
      "text/plain": [
       "<Figure size 720x360 with 2 Axes>"
      ]
     },
     "metadata": {
      "needs_background": "light"
     },
     "output_type": "display_data"
    }
   ],
   "source": [
    "# load the labs / losses \n",
    "kl_loss = np.load('./kl_loss.npy')\n",
    "kl_labs = np.load('./kl_labs.npy')\n",
    "\n",
    "metis_loss = np.load('./met_loss.npy')\n",
    "metis_labs = np.load('./met_labs.npy')\n",
    "\n",
    "# plot jaccard\n",
    "x = kl_labs[np.argmin(kl_loss)]\n",
    "y = metis_labs[np.argmin(metis_loss)]\n",
    "\n",
    "temp = compute_jaccard_all_clust(x, y)\n",
    "plt.figure(figsize=(10,5))\n",
    "plt.imshow(temp.T, cmap='viridis', vmax=.6, vmin=0)\n",
    "plt.colorbar()\n",
    "plt.ylabel('K/L')\n",
    "plt.xlabel('METIS')"
   ]
  },
  {
   "cell_type": "code",
   "execution_count": 153,
   "id": "267f2be8-14eb-45f4-9507-0973f8084c13",
   "metadata": {},
   "outputs": [
    {
     "name": "stdout",
     "output_type": "stream",
     "text": [
      "Rand index =  0.8357328666537787\n"
     ]
    }
   ],
   "source": [
    "print('Rand index = ', get_rand_index(x, y))"
   ]
  },
  {
   "cell_type": "markdown",
   "id": "9cc35f6f-c241-4a0c-a0c0-e14b6601d67f",
   "metadata": {},
   "source": [
    "#### plot adjacency matrices"
   ]
  },
  {
   "cell_type": "code",
   "execution_count": 110,
   "id": "0642486f-d69d-4fa8-92f1-cfaef52fe0d3",
   "metadata": {},
   "outputs": [],
   "source": [
    "from geneclusters.geneclusters import get_gene_pathway_matrix\n",
    "from geneclusters.benchmarking import make_symmetric\n",
    "import matplotlib.pyplot as plt\n",
    "import numpy as np"
   ]
  },
  {
   "cell_type": "code",
   "execution_count": 111,
   "id": "fe37dd9a-616b-440f-83d0-1fe558a835d6",
   "metadata": {},
   "outputs": [
    {
     "data": {
      "text/plain": [
       "<matplotlib.image.AxesImage at 0x7f6be6351220>"
      ]
     },
     "execution_count": 111,
     "metadata": {},
     "output_type": "execute_result"
    },
    {
     "data": {
      "image/png": "[encoded data removed]",
      "text/plain": [
       "<Figure size 432x288 with 1 Axes>"
      ]
     },
     "metadata": {
      "needs_background": "light"
     },
     "output_type": "display_data"
    }
   ],
   "source": [
    "# load the labs / losses \n",
    "kl_loss = np.load('./kl_loss.npy')\n",
    "kl_labs = np.load('./kl_labs.npy')\n",
    "\n",
    "# load gene-pathway matrix\n",
    "matrix = get_gene_pathway_matrix('./HumanCyc_2016.npy')\n",
    "\n",
    "# make symmetric\n",
    "full_mat = make_symmetric(matrix)\n",
    "\n",
    "plt.imshow(full_mat[np.argsort(kl_labs[np.argmin(kl_loss)])][:,np.argsort(kl_labs[np.argmin(kl_loss)])], vmin=0, vmax=1, cmap='Reds')\n"
   ]
  },
  {
   "cell_type": "markdown",
   "id": "80bfa61b-7332-4453-ae70-29f9a413b86f",
   "metadata": {},
   "source": [
    "### 4. Plotting clustering results"
   ]
  },
  {
   "cell_type": "markdown",
   "id": "8c88e941-23d6-4faf-8972-8aa8cdca6f51",
   "metadata": {},
   "source": [
    "#### plot graph\n"
   ]
  },
  {
   "cell_type": "code",
   "execution_count": 217,
   "id": "9f3062db-03f7-4ad9-a462-8b39f937fb34",
   "metadata": {},
   "outputs": [],
   "source": [
    "from geneclusters.plotting_geneclusters import get_layout, plot_graph"
   ]
  },
  {
   "cell_type": "code",
   "execution_count": 254,
   "id": "75884b64-11f7-49b0-ae36-9418597af8a7",
   "metadata": {},
   "outputs": [],
   "source": [
    "kl_labs = np.load('./kl_labs.npy')\n",
    "kl_loss = np.load('./kl_loss.npy')\n",
    "\n",
    "# load gene-pathway matrix\n",
    "matrix = get_gene_pathway_matrix('./HumanCyc_2016.npy')\n",
    "pathway_names = matrix.index\n",
    "gene_names = matrix.columns\n",
    "\n",
    "# get dataframe\n",
    "frame = pd.DataFrame(kl_labs[np.argmin(kl_loss)])\n",
    "frame['description'] = np.concatenate([gene_names, pathway_names])\n",
    "frame['is_gene'] = np.arange(frame.shape[0]) < matrix.shape[0]\n",
    "\n",
    "# subset clusters of interest\n",
    "frame = frame[[x in set([0,1,2]) for x in frame[0]]]\n",
    "frame.columns = ['cluster', 'description', 'is_gene']\n",
    "\n",
    "# subset the matrix\n",
    "S = set(frame['description'])\n",
    "\n",
    "col_index = np.where([x in S for x in matrix.columns])[0]\n",
    "mat_sub = matrix.iloc[:,col_index]\n",
    "mat_sub = mat_sub[[x in S for x in mat_sub.index]]\n"
   ]
  },
  {
   "cell_type": "code",
   "execution_count": 222,
   "id": "03bfed83-274d-42d7-8283-e43f9b1d09f1",
   "metadata": {},
   "outputs": [],
   "source": [
    "# plot graph\n",
    "s=10000\n",
    "graph, pos, cur_labels, unique_clusters, colors, layout = get_layout(frame, mat_sub.T, s, 15)\n"
   ]
  },
  {
   "cell_type": "code",
   "execution_count": 224,
   "id": "43afa72c-4387-4b38-ae38-6ba295d34f7f",
   "metadata": {},
   "outputs": [
    {
     "name": "stderr",
     "output_type": "stream",
     "text": [
      "/home/gridsan/djuna/homer/github/geneclusters/geneclusters/plotting_geneclusters.py:124: UserWarning: No data for colormapping provided via 'c'. Parameters 'cmap' will be ignored\n",
      "  plt.scatter(*pos_curr[types_curr==0].T, color=col, zorder=5, s=S, cmap='tab20', edgecolor=\"black\", linewidth=1)\n",
      "/home/gridsan/djuna/homer/github/geneclusters/geneclusters/plotting_geneclusters.py:125: UserWarning: No data for colormapping provided via 'c'. Parameters 'cmap' will be ignored\n",
      "  plt.scatter(*pos_curr[types_curr==1].T, color=col, zorder=5, s=S, cmap='tab20', edgecolor=\"black\", linewidth=1, marker='s')\n"
     ]
    },
    {
     "data": {
      "image/png": "[encoded data removed]",
      "text/plain": [
       "<Figure size 504x360 with 1 Axes>"
      ]
     },
     "metadata": {
      "needs_background": "light"
     },
     "output_type": "display_data"
    }
   ],
   "source": [
    "out_path = './'\n",
    "plot_graph(layout, pos, graph, cur_labels, unique_clusters, colors, out_path)\n"
   ]
  },
  {
   "cell_type": "markdown",
   "id": "972ba6bf-1c95-4e2d-8c97-3420d8a7df1c",
   "metadata": {},
   "source": [
    "#### show rep pathways"
   ]
  },
  {
   "cell_type": "code",
   "execution_count": 264,
   "id": "29fa9d05-52c5-4e2b-b0e4-62f9dd449020",
   "metadata": {},
   "outputs": [],
   "source": [
    "from geneclusters.plotting_geneclusters import get_representative_name_per_cluster"
   ]
  },
  {
   "cell_type": "code",
   "execution_count": 288,
   "id": "5d3ff71c-e63a-47ae-87e3-2e0bd6ba992d",
   "metadata": {},
   "outputs": [
    {
     "name": "stdout",
     "output_type": "stream",
     "text": [
      "\u001b[1mCluster 0 top pathways:\u001b[0m\n",
      "\n",
      "0) valine degradation Homo sapiens VALDEG-PWY\n",
      "\n",
      "1) leucine degradation Homo sapiens LEU-DEG2-PWY\n",
      "\n",
      "2) isoleucine degradation Homo sapiens ILEUDEG-PWY\n",
      "\n",
      "\u001b[1mCluster 1 top pathways:\u001b[0m\n",
      "\n",
      "0) &gamma;-linolenate biosynthesis Homo sapiens PWY-6000\n",
      "\n",
      "1) icosapentaenoate biosynthesis II (metazoa) Homo sapiens PWY-7049\n",
      "\n",
      "2) stearate biosynthesis Homo sapiens PWY-5972\n",
      "\n",
      "\u001b[1mCluster 2 top pathways:\u001b[0m\n",
      "\n",
      "0) superpathway of purine nucleotide salvage Homo sapiens PWY66-409\n",
      "\n",
      "1) purine nucleotides de novo biosynthesis Homo sapiens PWY-841\n",
      "\n",
      "2) adenosine ribonucleotides de novo biosynthesis Homo sapiens PWY-7219\n",
      "\n"
     ]
    }
   ],
   "source": [
    "colnames = np.array(mat_sub.columns)\n",
    "rownames = np.array(mat_sub.index)\n",
    "N = 3\n",
    "out = [get_representative_name_per_cluster(np.array(mat_sub), colnames, rownames, frame, x, N) for x in np.unique(frame['cluster'])]\n",
    "\n",
    "for i in np.unique(frame['cluster']):\n",
    "    print('\\033[1mCluster ' + str(int(i)) + ' top pathways:\\033[0m\\n')\n",
    "    \n",
    "    for x in range(len(out[int(i)])):\n",
    "        print(str(int(x)) + ') ' + out[int(i)][x]+'\\n')"
   ]
  }
 ],
 "metadata": {
  "kernelspec": {
   "display_name": "Python 3 (ipykernel)",
   "language": "python",
   "name": "python3"
  },
  "language_info": {
   "codemirror_mode": {
    "name": "ipython",
    "version": 3
   },
   "file_extension": ".py",
   "mimetype": "text/x-python",
   "name": "python",
   "nbconvert_exporter": "python",
   "pygments_lexer": "ipython3",
   "version": "3.8.13"
  }
 },
 "nbformat": 4,
 "nbformat_minor": 5
}
