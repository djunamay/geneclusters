{
 "cells": [
  {
   "cell_type": "markdown",
   "id": "efa57f6c-16a7-4bbe-8672-d682b313f843",
   "metadata": {},
   "source": [
    "- add the code below as alternative labeling function\n",
    "- try other methods that make sense (spectral, min-cut)\n",
    "- benchmark under which circumstances which tends to work best and how consistent across runs"
   ]
  },
  {
   "cell_type": "code",
   "execution_count": 22,
   "id": "1ef922d0-ba38-4735-89b8-38702ab4dd62",
   "metadata": {},
   "outputs": [],
   "source": [
    "import numpy as np\n",
    "import gseapy\n",
    "\n",
    "from geneclusters.cluster_genes_new import get_gene_pathway_matrix, run_KL, compute_cost_metrics, add_outer\n",
    "from geneclusters.previous import prev_kernighan_lin, prev_evaluate_cut, prev_create_random_labeling, prev_get_cross_costs, prev_get_pairwise_improvements, prev_discard_done_swaps"
   ]
  },
  {
   "cell_type": "code",
   "execution_count": 13,
   "id": "bdc7fc1d-1fd8-409d-9823-5ee60d722ae9",
   "metadata": {},
   "outputs": [],
   "source": [
    "x = gseapy.get_library('WikiPathway_2021_Human')\n"
   ]
  },
  {
   "cell_type": "code",
   "execution_count": 14,
   "id": "868c797f-bbc1-4490-83b9-474857c55f23",
   "metadata": {},
   "outputs": [],
   "source": [
    "np.save('./examples/WikiPathway_2021_Human.npy', x)"
   ]
  },
  {
   "cell_type": "code",
   "execution_count": null,
   "id": "2335e6fb-96d6-4dd3-a978-aa3d73450eee",
   "metadata": {},
   "outputs": [],
   "source": [
    "# compare the outputs of each function to find the differences between mine and G's\n",
    "# then compare which options create the smallest lost (include spectral and others?)"
   ]
  },
  {
   "cell_type": "code",
   "execution_count": 23,
   "id": "a7ac43d5-67d2-44c1-b548-4788acd68357",
   "metadata": {},
   "outputs": [],
   "source": [
    "path = './examples/WikiPathway_2021_Human.npy'\n",
    "mat = get_gene_pathway_matrix(path)\n",
    "matrix = np.ascontiguousarray(mat.values.T)"
   ]
  },
  {
   "cell_type": "code",
   "execution_count": 39,
   "id": "c96e0112-e225-4e6e-a831-f6d28d7b7ec4",
   "metadata": {},
   "outputs": [
    {
     "data": {
      "image/png": "[encoded data removed]",
      "text/plain": [
       "<Figure size 640x480 with 1 Axes>"
      ]
     },
     "metadata": {},
     "output_type": "display_data"
    }
   ],
   "source": [
    "import matplotlib.pyplot as plt\n",
    "plt.hist(np.sum(matrix, axis = 0), 50)\n",
    "plt.show()"
   ]
  },
  {
   "cell_type": "code",
   "execution_count": 475,
   "id": "3584f8a4-9b41-495a-8b4a-4ceb20ecfb66",
   "metadata": {},
   "outputs": [],
   "source": [
    "index_genes = (np.sum(matrix, axis = 1)>40)"
   ]
  },
  {
   "cell_type": "code",
   "execution_count": 476,
   "id": "5980fd0a-bdae-458a-819d-16e3622aef49",
   "metadata": {},
   "outputs": [
    {
     "data": {
      "text/plain": [
       "7173"
      ]
     },
     "execution_count": 476,
     "metadata": {},
     "output_type": "execute_result"
    }
   ],
   "source": [
    "len(index_genes)"
   ]
  },
  {
   "cell_type": "code",
   "execution_count": 477,
   "id": "76a0114f-556f-4e00-908a-37213d981883",
   "metadata": {},
   "outputs": [
    {
     "data": {
      "text/plain": [
       "(7173, 622)"
      ]
     },
     "execution_count": 477,
     "metadata": {},
     "output_type": "execute_result"
    }
   ],
   "source": [
    "matrix.shape"
   ]
  },
  {
   "cell_type": "code",
   "execution_count": null,
   "id": "5dd907bc-6820-4058-8346-d2f3ff913883",
   "metadata": {},
   "outputs": [],
   "source": [
    "# label other genes and pathways probabilistically based on their connection to the index_genes\n",
    "# count how far a given node is from an index gene and convert that into a set of probabilities to assign\n",
    "# to each cluster\n",
    "# why probabalistic and not deterministic?\n",
    "### count how many edges separate a given node from an index_gene (shortest path)"
   ]
  },
  {
   "cell_type": "code",
   "execution_count": 470,
   "id": "353b635f-212a-41d1-adce-60a487495e2c",
   "metadata": {},
   "outputs": [],
   "source": [
    "from scipy.sparse import csr_matrix\n",
    "from scipy.sparse.csgraph import shortest_path\n",
    "graph = csr_matrix(matrix)\n"
   ]
  },
  {
   "cell_type": "code",
   "execution_count": 471,
   "id": "7833e771-7c91-456a-93a7-453653d66498",
   "metadata": {},
   "outputs": [
    {
     "data": {
      "text/plain": [
       "(7795, 7795)"
      ]
     },
     "execution_count": 471,
     "metadata": {},
     "output_type": "execute_result"
    }
   ],
   "source": [
    "m1 = np.concatenate((np.zeros(shape=(matrix.shape[0],matrix.shape[0])), matrix), axis = 1)\n",
    "m2 = np.concatenate((matrix.T, (np.zeros(shape=(matrix.shape[1],matrix.shape[1])))), axis = 1)\n",
    "full_matrix = np.concatenate((m2, m1), axis = 0)\n",
    "full_matrix.shape"
   ]
  },
  {
   "cell_type": "code",
   "execution_count": 478,
   "id": "8648892a-14c2-4548-8e37-68cdbf47c936",
   "metadata": {},
   "outputs": [],
   "source": [
    "index_genes = (np.sum(full_matrix, axis = 0)>40)"
   ]
  },
  {
   "cell_type": "code",
   "execution_count": 479,
   "id": "9e066ca7-e3d0-49ad-9a65-8c30d762384b",
   "metadata": {},
   "outputs": [
    {
     "data": {
      "text/plain": [
       "7795"
      ]
     },
     "execution_count": 479,
     "metadata": {},
     "output_type": "execute_result"
    }
   ],
   "source": [
    "len(index_genes)"
   ]
  },
  {
   "cell_type": "code",
   "execution_count": 480,
   "id": "1ddf0e41-c52d-421c-bdd4-10bea0e3ea31",
   "metadata": {},
   "outputs": [],
   "source": [
    "graph = csr_matrix(full_matrix)\n"
   ]
  },
  {
   "cell_type": "code",
   "execution_count": 481,
   "id": "db984fc6-dbbf-4c83-a3c9-00c8a22229d8",
   "metadata": {},
   "outputs": [],
   "source": [
    "dist_matrix = shortest_path(csgraph=graph,directed=False, indices=np.where(index_genes)[0], return_predecessors=False, unweighted = True)"
   ]
  },
  {
   "cell_type": "code",
   "execution_count": 482,
   "id": "fc2f6f7e-a4f8-4820-bc5e-a343a535d42f",
   "metadata": {},
   "outputs": [],
   "source": [
    "inv_df = 1/(dist_matrix+10e-10)\n",
    "df = inv_df/np.sum(inv_df, axis = 0)\n"
   ]
  },
  {
   "cell_type": "code",
   "execution_count": 484,
   "id": "8b5be78f-8aa1-4de8-b008-694faf3ae479",
   "metadata": {},
   "outputs": [],
   "source": [
    "assignment = []\n",
    "for node in range(df.shape[1]):\n",
    "    x = np.random.choice(range(df.shape[0]), size = 1, p = df[:,node])[0]\n",
    "    assignment.append(x)"
   ]
  },
  {
   "cell_type": "code",
   "execution_count": 486,
   "id": "77972830-0435-48a0-a7af-0bfacba2271a",
   "metadata": {},
   "outputs": [
    {
     "data": {
      "text/plain": [
       "30.0"
      ]
     },
     "execution_count": 486,
     "metadata": {},
     "output_type": "execute_result"
    }
   ],
   "source": [
    "size = np.median(np.unique(assignment, return_counts = True)[1])\n",
    "size"
   ]
  },
  {
   "cell_type": "code",
   "execution_count": null,
   "id": "a490b166-adcf-4adc-b76f-9a228d98cdcc",
   "metadata": {},
   "outputs": [],
   "source": [
    "# does kernighan lin work with unequal cluster sizes? our implementation should right?"
   ]
  },
  {
   "cell_type": "code",
   "execution_count": 491,
   "id": "c8a117ed-f4d8-4d0e-a03a-88591fdb5087",
   "metadata": {},
   "outputs": [
    {
     "name": "stderr",
     "output_type": "stream",
     "text": [
      "0it [00:00, ?it/s]"
     ]
    },
    {
     "name": "stdout",
     "output_type": "stream",
     "text": [
      "before\n",
      "[230 206 215 ... 154 243  42]\n",
      "t\n"
     ]
    },
    {
     "name": "stderr",
     "output_type": "stream",
     "text": [
      "4it [01:31, 22.76s/it, tot_impr=7369, last_impr=0, loss=19349]   "
     ]
    },
    {
     "name": "stdout",
     "output_type": "stream",
     "text": [
      "after\n",
      "[ 63  71 236 ... 213  28 239]\n"
     ]
    },
    {
     "name": "stderr",
     "output_type": "stream",
     "text": [
      "\n"
     ]
    }
   ],
   "source": [
    "np.random.seed(10)\n",
    "labeling = prev_create_random_labeling(matrix, size)\n",
    "labeling_temp = labeling.copy()\n",
    "print('before')\n",
    "print(labeling)\n",
    "run_KL(labeling, matrix, 0, True)\n",
    "print('after')\n",
    "print(labeling)"
   ]
  },
  {
   "cell_type": "code",
   "execution_count": 490,
   "id": "f9a2b2cb-5ffe-41fb-8870-710cb81f17ea",
   "metadata": {},
   "outputs": [
    {
     "data": {
      "text/plain": [
       "(array([  0,   1,   2,   3,   4,   5,   6,   7,   8,   9,  10,  11,  12,\n",
       "         13,  14,  15,  16,  17,  18,  19,  20,  21,  22,  23,  24,  25,\n",
       "         26,  27,  28,  29,  30,  31,  32,  33,  34,  35,  36,  37,  38,\n",
       "         39,  40,  41,  42,  43,  44,  45,  46,  47,  48,  49,  50,  51,\n",
       "         52,  53,  54,  55,  56,  57,  58,  59,  60,  61,  62,  63,  64,\n",
       "         65,  66,  67,  68,  69,  70,  71,  72,  73,  74,  75,  76,  77,\n",
       "         78,  79,  80,  81,  82,  83,  84,  85,  86,  87,  88,  89,  90,\n",
       "         91,  92,  93,  94,  95,  96,  97,  98,  99, 100, 101, 102, 103,\n",
       "        104, 105, 106, 107, 108, 109, 110, 111, 112, 113, 114, 115, 116,\n",
       "        117, 118, 119, 120, 121, 122, 123, 124, 125, 126, 127, 128, 129,\n",
       "        130, 131, 132, 133, 134, 135, 136, 137, 138, 139, 140, 141, 142,\n",
       "        143, 144, 145, 146, 147, 148, 149, 150, 151, 152, 153, 154, 155,\n",
       "        156, 157, 158, 159, 160, 161, 162, 163, 164, 165, 166, 167, 168,\n",
       "        169, 170, 171, 172, 173, 174, 175, 176, 177, 178, 179, 180, 181,\n",
       "        182, 183, 184, 185, 186, 187, 188, 189, 190, 191, 192, 193, 194,\n",
       "        195, 196, 197, 198, 199, 200, 201, 202, 203, 204, 205, 206, 207,\n",
       "        208, 209, 210, 211, 212, 213, 214, 215, 216, 217, 218, 219, 220,\n",
       "        221, 222, 223, 224, 225, 226, 227, 228, 229, 230, 231, 232, 233,\n",
       "        234, 235, 236, 237, 238, 239, 240, 241, 242, 243, 244, 245, 246,\n",
       "        247, 248, 249, 250, 251, 252, 253, 254, 255, 256, 257, 258, 259,\n",
       "        260, 261]),\n",
       " array([40, 22, 28, 37, 31, 25, 32, 36, 40, 32, 29, 31, 38, 32, 26, 30, 32,\n",
       "        45, 26, 34, 32, 24, 28, 30, 24, 37, 37, 41, 29, 22, 35, 33, 31, 31,\n",
       "        19, 31, 32, 38, 35, 40, 24, 19, 17, 22, 26, 28, 42, 31, 31, 35, 40,\n",
       "        30, 31, 24, 38, 27, 29, 33, 28, 41, 30, 39, 31, 26, 31, 23, 21, 25,\n",
       "        30, 26, 35, 41, 34, 19, 33, 24, 30, 35, 29, 30, 35, 31, 37, 31, 26,\n",
       "        24, 40, 25, 25, 24, 26, 26, 27, 25, 26, 30, 35, 40, 29, 32, 34, 30,\n",
       "        30, 32, 32, 27, 27, 24, 32, 28, 38, 22, 29, 22, 24, 20, 33, 31, 42,\n",
       "        28, 35, 38, 29, 37, 28, 29, 27, 37, 38, 25, 19, 24, 26, 23, 19, 28,\n",
       "        31, 24, 29, 21, 28, 42, 25, 32, 33, 30, 28, 22, 30, 31, 25, 25, 41,\n",
       "        36, 29, 25, 28, 31, 32, 31, 27, 33, 37, 33, 31, 29, 30, 32, 26, 30,\n",
       "        30, 26, 26, 38, 32, 19, 31, 34, 35, 26, 25, 32, 29, 30, 35, 27, 30,\n",
       "        42, 18, 35, 31, 30, 33, 19, 26, 26, 37, 29, 29, 38, 32, 32, 27, 19,\n",
       "        33, 41, 33, 19, 29, 29, 32, 28, 32, 30, 27, 23, 24, 32, 40, 30, 19,\n",
       "        34, 38, 27, 22, 33, 43, 26, 24, 29, 27, 29, 29, 17, 27, 35, 28, 32,\n",
       "        28, 20, 21, 18, 32, 26, 37, 26, 28, 27, 30, 25, 24, 28, 26, 35, 34,\n",
       "        25, 24, 31, 29, 29, 33, 29]))"
      ]
     },
     "execution_count": 490,
     "metadata": {},
     "output_type": "execute_result"
    }
   ],
   "source": [
    "np.unique(labeling, return_counts = True)"
   ]
  },
  {
   "cell_type": "code",
   "execution_count": 488,
   "id": "9172ce58-03e4-49da-8607-a4936aa8fb1e",
   "metadata": {},
   "outputs": [
    {
     "name": "stderr",
     "output_type": "stream",
     "text": [
      "0it [00:00, ?it/s]"
     ]
    },
    {
     "name": "stdout",
     "output_type": "stream",
     "text": [
      "before\n",
      "[ 76  18  90 ... 261 159 222]\n",
      "t\n"
     ]
    },
    {
     "name": "stderr",
     "output_type": "stream",
     "text": [
      "5it [01:47, 21.58s/it, tot_impr=7529, last_impr=0, loss=19217]   "
     ]
    },
    {
     "name": "stdout",
     "output_type": "stream",
     "text": [
      "after\n",
      "[251  65 151 ...  10 260 222]\n"
     ]
    },
    {
     "name": "stderr",
     "output_type": "stream",
     "text": [
      "\n"
     ]
    }
   ],
   "source": [
    "np.random.seed(5)\n",
    "labeling = np.array(assignment)\n",
    "print('before')\n",
    "print(labeling)\n",
    "run_KL(labeling, matrix, 0, True)\n",
    "print('after')\n",
    "print(labeling)"
   ]
  },
  {
   "cell_type": "code",
   "execution_count": 292,
   "id": "d2e28fa9-51f0-4d8d-8e23-c25d08fe2bf1",
   "metadata": {},
   "outputs": [],
   "source": [
    "labeling = prev_create_random_labeling(matrix, size)\n"
   ]
  },
  {
   "cell_type": "code",
   "execution_count": 294,
   "id": "e2895b47-d290-4360-8474-ce7967d62efa",
   "metadata": {},
   "outputs": [
    {
     "data": {
      "text/plain": [
       "(array([ 0,  1,  2,  3,  4,  5,  6,  7,  8,  9, 10, 11, 12, 13, 14, 15, 16,\n",
       "        17, 18, 19, 20, 21, 22, 23, 24, 25, 26, 27, 28, 29, 30, 31, 32, 33,\n",
       "        34, 35, 36, 37, 38, 39, 40, 41, 42, 43, 44, 45, 46, 47, 48, 49]),\n",
       " array([156, 156, 156, 156, 156, 156, 156, 156, 156, 155, 156, 156, 156,\n",
       "        156, 156, 156, 156, 156, 156, 155, 156, 156, 156, 156, 156, 156,\n",
       "        156, 156, 156, 155, 156, 156, 156, 156, 156, 156, 156, 156, 156,\n",
       "        155, 156, 156, 156, 156, 156, 156, 156, 156, 156, 155]))"
      ]
     },
     "execution_count": 294,
     "metadata": {},
     "output_type": "execute_result"
    }
   ],
   "source": [
    "np.unique(labeling, return_counts = True)"
   ]
  },
  {
   "cell_type": "code",
   "execution_count": 37,
   "id": "48ac3a1d-1fd7-4f26-abcc-51d118543b0d",
   "metadata": {},
   "outputs": [
    {
     "data": {
      "text/plain": [
       "7173"
      ]
     },
     "execution_count": 37,
     "metadata": {},
     "output_type": "execute_result"
    }
   ],
   "source": [
    "len(np.sum(matrix, axis = 1))"
   ]
  },
  {
   "cell_type": "code",
   "execution_count": 6,
   "id": "2e8b1c40-a427-4b3d-a0c7-d270c470a859",
   "metadata": {},
   "outputs": [],
   "source": [
    "np.random.seed(5)\n",
    "x_sample = np.random.randint(0, matrix.shape[0], 500)\n",
    "y_sample = np.random.randint(0, matrix.shape[1], 40)\n",
    "matrix_subsampled = matrix[x_sample][:,y_sample]"
   ]
  },
  {
   "cell_type": "code",
   "execution_count": 11,
   "id": "697253f3-83c3-4726-b0b9-4760496341b7",
   "metadata": {},
   "outputs": [],
   "source": [
    "matrix_subsampled = matrix"
   ]
  },
  {
   "cell_type": "code",
   "execution_count": 18,
   "id": "cf825ba8-d5ec-4e0c-b1d3-35620d8b501f",
   "metadata": {
    "tags": []
   },
   "outputs": [
    {
     "name": "stderr",
     "output_type": "stream",
     "text": [
      "0it [00:00, ?it/s]"
     ]
    },
    {
     "name": "stdout",
     "output_type": "stream",
     "text": [
      "before\n",
      "[38  8 52 ... 40 22 29]\n"
     ]
    },
    {
     "name": "stderr",
     "output_type": "stream",
     "text": [
      "4it [03:21, 50.28s/it, tot_impr=10756.0, last_impr=0, loss=15752]      "
     ]
    },
    {
     "name": "stdout",
     "output_type": "stream",
     "text": [
      "after\n",
      "[29 32 29 ... 11 62 67]\n"
     ]
    },
    {
     "name": "stderr",
     "output_type": "stream",
     "text": [
      "\n"
     ]
    }
   ],
   "source": [
    "np.random.seed(5)\n",
    "labeling = prev_create_random_labeling(matrix_subsampled, 100)\n",
    "print('before')\n",
    "print(labeling)\n",
    "prev_kernighan_lin(matrix_subsampled, labeling, 0)\n",
    "prev_evaluate_cut(matrix_subsampled, labeling, 0)\n",
    "print('after')\n",
    "print(labeling)\n",
    "labeling1 = labeling.copy()"
   ]
  },
  {
   "cell_type": "code",
   "execution_count": 13,
   "id": "5b09b390-9e01-49d0-9a3a-5b84dc70a419",
   "metadata": {},
   "outputs": [
    {
     "data": {
      "text/plain": [
       "array([355, 306,   2, ..., 313, 245, 164])"
      ]
     },
     "execution_count": 13,
     "metadata": {},
     "output_type": "execute_result"
    }
   ],
   "source": [
    "labeling"
   ]
  },
  {
   "cell_type": "code",
   "execution_count": 21,
   "id": "81da8aa7-1937-4463-ab81-07359c7ed3a8",
   "metadata": {},
   "outputs": [
    {
     "data": {
      "text/plain": [
       "(array([ 0,  1,  2,  3,  4,  5,  6,  7,  8,  9, 10, 11, 12, 13, 14, 15, 16,\n",
       "        17, 18, 19, 20, 21, 22, 23, 24, 25, 26, 27, 28, 29, 30, 31, 32, 33,\n",
       "        34, 35, 36, 37, 38, 39, 40, 41, 42, 43, 44, 45, 46, 47, 48, 49, 50,\n",
       "        51, 52, 53, 54, 55, 56, 57, 58, 59, 60, 61, 62, 63, 64, 65, 66, 67,\n",
       "        68, 69, 70, 71, 72, 73, 74, 75, 76, 77]),\n",
       " array([100, 100, 100, 100, 100, 100, 100, 100, 100, 100, 100, 100, 100,\n",
       "        100, 100,  99, 100, 100, 100, 100, 100, 100, 100, 100, 100, 100,\n",
       "        100, 100, 100, 100, 100,  99, 100, 100, 100, 100, 100, 100, 100,\n",
       "        100, 100, 100, 100, 100, 100, 100,  99, 100, 100, 100, 100, 100,\n",
       "        100, 100, 100, 100, 100, 100, 100, 100, 100, 100,  99, 100, 100,\n",
       "        100, 100, 100, 100, 100, 100, 100, 100, 100, 100, 100, 100,  99]))"
      ]
     },
     "execution_count": 21,
     "metadata": {},
     "output_type": "execute_result"
    }
   ],
   "source": [
    "np.unique(labeling, return_counts = True)"
   ]
  },
  {
   "cell_type": "code",
   "execution_count": 19,
   "id": "cf62ed09-f56d-44a6-af3b-a377e541e649",
   "metadata": {},
   "outputs": [
    {
     "name": "stderr",
     "output_type": "stream",
     "text": [
      "0it [00:00, ?it/s]"
     ]
    },
    {
     "name": "stdout",
     "output_type": "stream",
     "text": [
      "before\n",
      "[38  8 52 ... 40 22 29]\n",
      "t\n"
     ]
    },
    {
     "name": "stderr",
     "output_type": "stream",
     "text": [
      "4it [02:53, 43.25s/it, tot_impr=10961, last_impr=0, loss=15547]    "
     ]
    },
    {
     "name": "stdout",
     "output_type": "stream",
     "text": [
      "after\n",
      "[41 29 53 ... 62 62 58]\n"
     ]
    },
    {
     "name": "stderr",
     "output_type": "stream",
     "text": [
      "\n"
     ]
    }
   ],
   "source": [
    "np.random.seed(5)\n",
    "labeling = prev_create_random_labeling(matrix_subsampled, 100)\n",
    "labeling_temp = labeling.copy()\n",
    "print('before')\n",
    "print(labeling)\n",
    "run_KL(labeling, matrix_subsampled, 0, True)\n",
    "print('after')\n",
    "print(labeling)"
   ]
  },
  {
   "cell_type": "code",
   "execution_count": 20,
   "id": "939e544b-c286-4706-90c5-a9e204ed7923",
   "metadata": {},
   "outputs": [
    {
     "data": {
      "text/plain": [
       "(array([False,  True]), array([5693, 2102]))"
      ]
     },
     "execution_count": 20,
     "metadata": {},
     "output_type": "execute_result"
    }
   ],
   "source": [
    "np.unique(labeling==labeling1, return_counts = True)"
   ]
  },
  {
   "cell_type": "code",
   "execution_count": 7,
   "id": "d21d9840-e1af-4731-b117-5d48a08107e4",
   "metadata": {},
   "outputs": [
    {
     "data": {
      "text/plain": [
       "(array([0, 1, 2, 3, 4, 5]), array([20, 20, 20, 20, 20, 20]))"
      ]
     },
     "execution_count": 7,
     "metadata": {},
     "output_type": "execute_result"
    }
   ],
   "source": [
    "np.unique(labeling, return_counts = True)"
   ]
  },
  {
   "cell_type": "code",
   "execution_count": 39,
   "id": "5dda8d72-c11e-48d5-b29d-59b952d5f617",
   "metadata": {},
   "outputs": [
    {
     "name": "stderr",
     "output_type": "stream",
     "text": [
      "2it [00:00, 207.92it/s, tot_impr=22, last_impr=0, loss=2]"
     ]
    },
    {
     "name": "stdout",
     "output_type": "stream",
     "text": [
      "before\n",
      "[3 2 1 0 4 1 2 2 2 3 1 1 0 3 3 0 5 4 5 4 1 2 2 3 1 2 4 5 4 2 3 1 3 4 3 5 2\n",
      " 2 0 1 2 2 0 1 1 4 2 4 3 4 4 1 5 5 4 3 1 1 1 1 3 0 5 0 2 4 0 4 4 5 4 0 1 3\n",
      " 0 1 5 2 1 0 5 0 2 0 5 5 4 0 5 2 0 0 4 4 5 2 3 3 3 2 5 5 2 0 3 0 4 1 1 3 5\n",
      " 5 0 3 0 5 3 5 3 4]\n",
      "after\n",
      "[0 2 4 0 4 0 2 2 2 0 2 2 0 4 3 0 1 4 3 4 1 2 2 3 1 5 4 5 4 2 3 1 3 4 3 5 1\n",
      " 2 0 1 5 2 3 1 1 3 2 4 3 4 4 1 5 5 4 3 1 1 5 1 3 0 5 0 2 4 0 4 4 5 4 1 1 3\n",
      " 0 5 5 2 1 0 5 0 1 0 1 3 4 3 5 2 0 0 4 4 5 2 3 3 3 2 5 2 2 0 3 4 5 1 1 0 5\n",
      " 5 0 3 0 5 3 5 2 1]\n"
     ]
    },
    {
     "name": "stderr",
     "output_type": "stream",
     "text": [
      "\n"
     ]
    }
   ],
   "source": [
    "np.random.seed(5)\n",
    "labeling = prev_create_random_labeling(matrix_subsampled, 20)\n",
    "labeling_temp = labeling.copy()\n",
    "print('before')\n",
    "print(labeling)\n",
    "run_KL(labeling, matrix_subsampled, 0, False)\n",
    "print('after')\n",
    "print(labeling)"
   ]
  },
  {
   "cell_type": "code",
   "execution_count": 7,
   "id": "2ebab8c8-cb17-46b1-933a-e174d60a1a39",
   "metadata": {},
   "outputs": [],
   "source": [
    "A = np.where(labeling_temp == 0)[0]\n",
    "B = np.where(labeling_temp == 1)[0]\n",
    "cross_costs, D = compute_cost_metrics(labeling_temp, matrix_subsampled, A, B, 0)\n",
    "pairwise_d_sums = add_outer(cross_costs, D, A, B)\n",
    "g = pairwise_d_sums-2*cross_costs"
   ]
  },
  {
   "cell_type": "code",
   "execution_count": 15,
   "id": "243f4520-a44a-4ab8-8ea2-695c9ce5f2d7",
   "metadata": {},
   "outputs": [],
   "source": [
    "done_a = []\n",
    "done_b = []\n",
    "    \n",
    "#g = 0\n",
    "gs = []\n",
    "swaps = []\n",
    "cross_costs2 = prev_get_cross_costs(matrix_subsampled, A, B, 0)\n",
    "all_improvements, A, B = prev_get_pairwise_improvements(matrix_subsampled, labeling_temp, 0, 1, 0)"
   ]
  },
  {
   "cell_type": "code",
   "execution_count": 16,
   "id": "86c11acd-f544-4db8-8372-3048d7625c83",
   "metadata": {},
   "outputs": [
    {
     "data": {
      "text/plain": [
       "True"
      ]
     },
     "execution_count": 16,
     "metadata": {},
     "output_type": "execute_result"
    }
   ],
   "source": [
    "np.array_equal(cross_costs, cross_costs2)"
   ]
  },
  {
   "cell_type": "code",
   "execution_count": 17,
   "id": "5f5b513e-1d1e-43a6-b92f-d9d586f4292b",
   "metadata": {},
   "outputs": [
    {
     "data": {
      "text/plain": [
       "True"
      ]
     },
     "execution_count": 17,
     "metadata": {},
     "output_type": "execute_result"
    }
   ],
   "source": [
    "np.array_equal(g, all_improvements)"
   ]
  },
  {
   "cell_type": "code",
   "execution_count": 18,
   "id": "94f8e073-785a-465a-b41d-5aacef56feaf",
   "metadata": {},
   "outputs": [],
   "source": [
    "ix = np.argmax(all_improvements)\n",
    "a, b = ix // all_improvements.shape[1], ix % all_improvements.shape[1]\n",
    "done_a.append(a)\n",
    "done_b.append(b)\n",
    "ra = A[a]\n",
    "rb = B[b]"
   ]
  },
  {
   "cell_type": "code",
   "execution_count": 42,
   "id": "589eff21-eb41-43fd-bf97-67c0f90fadd9",
   "metadata": {},
   "outputs": [],
   "source": [
    "x = g[0:10,0:10]"
   ]
  },
  {
   "cell_type": "code",
   "execution_count": 77,
   "id": "e40cb363-9871-47b1-8c81-ba30e93cc0b4",
   "metadata": {},
   "outputs": [
    {
     "data": {
      "text/plain": [
       "(20, 20)"
      ]
     },
     "execution_count": 77,
     "metadata": {},
     "output_type": "execute_result"
    }
   ],
   "source": [
    "g.shape"
   ]
  },
  {
   "cell_type": "code",
   "execution_count": 19,
   "id": "058e8ca9-c658-46be-8b6c-22ceea15a9d7",
   "metadata": {},
   "outputs": [],
   "source": [
    "it = 1\n",
    "start = g.shape[0]-it\n",
    "end = g.shape[0]-it+1"
   ]
  },
  {
   "cell_type": "code",
   "execution_count": 20,
   "id": "93ad6cd7-3781-4362-8822-0c08ef5b0fd1",
   "metadata": {},
   "outputs": [
    {
     "data": {
      "text/plain": [
       "array([[ 0.,  0.,  0.,  0.,  0.,  0.,  0., -1.,  0.,  0.,  0.,  0., -1.,\n",
       "         0.,  0.,  0.,  0.,  0., -1.,  0.]])"
      ]
     },
     "execution_count": 20,
     "metadata": {},
     "output_type": "execute_result"
    }
   ],
   "source": [
    "g[start:end]"
   ]
  },
  {
   "cell_type": "code",
   "execution_count": 22,
   "id": "cb673525-df55-4a48-a490-e8b095d34f35",
   "metadata": {},
   "outputs": [
    {
     "data": {
      "text/plain": [
       "19"
      ]
     },
     "execution_count": 22,
     "metadata": {},
     "output_type": "execute_result"
    }
   ],
   "source": [
    "start"
   ]
  },
  {
   "cell_type": "code",
   "execution_count": 23,
   "id": "a7d9d48b-016e-4e8e-9456-5a247ecaa31a",
   "metadata": {},
   "outputs": [
    {
     "data": {
      "text/plain": [
       "20"
      ]
     },
     "execution_count": 23,
     "metadata": {},
     "output_type": "execute_result"
    }
   ],
   "source": [
    "end"
   ]
  },
  {
   "cell_type": "code",
   "execution_count": 27,
   "id": "8d5aca4d-7b89-45d9-bd97-cbfba8ffa55e",
   "metadata": {},
   "outputs": [
    {
     "name": "stdout",
     "output_type": "stream",
     "text": [
      "[3 2 1 0 4 1 2 2 2 3 1 1 0 3 3 0 5 4 5 4 1 2 2 3 1 2 4 5 4 2 3 1 3 4 3 5 2\n",
      " 2 0 1 2 2 0 1 1 4 2 4 3 4 4 1 5 5 4 3 1 1 1 1 3 0 5 0 2 4 0 4 4 5 4 0 1 3\n",
      " 0 1 5 2 1 0 5 0 2 0 5 5 4 0 5 2 0 0 4 4 5 2 3 3 3 2 5 5 2 0 3 0 4 1 1 3 5\n",
      " 5 0 3 0 5 3 5 3 4]\n",
      "[3 2 0 0 4 1 2 2 2 3 1 1 0 3 3 0 5 4 5 4 1 2 2 3 1 2 4 5 4 2 3 1 3 4 3 5 2\n",
      " 2 0 1 2 2 0 1 1 4 2 4 3 4 4 1 5 5 4 3 1 1 1 1 3 0 5 0 2 4 0 4 4 5 4 1 1 3\n",
      " 0 1 5 2 1 0 5 0 2 0 5 5 4 0 5 2 0 0 4 4 5 2 3 3 3 2 5 5 2 0 3 0 4 1 1 3 5\n",
      " 5 0 3 0 5 3 5 3 4]\n"
     ]
    }
   ],
   "source": [
    "print(labeling_temp)\n",
    "labeling_temp[ra], labeling_temp[rb] = labeling_temp[rb], labeling_temp[ra]\n",
    "print(labeling_temp)"
   ]
  },
  {
   "cell_type": "code",
   "execution_count": 20,
   "id": "80c61d65-7e3e-4c2e-897f-0cbde7d2e9c6",
   "metadata": {},
   "outputs": [],
   "source": [
    "x, y = g.shape\n",
    "g_max_temp = np.argmax(g)\n",
    "i = g_max_temp // y\n",
    "j = g_max_temp % y\n",
    "index1 = A[i]\n",
    "index2 = B[j]"
   ]
  },
  {
   "cell_type": "code",
   "execution_count": 25,
   "id": "256ac82d-e63f-473b-a7d2-c641d4296ee6",
   "metadata": {},
   "outputs": [
    {
     "name": "stdout",
     "output_type": "stream",
     "text": [
      "71\n",
      "2\n"
     ]
    }
   ],
   "source": [
    "print(index1)\n",
    "print(index2)"
   ]
  },
  {
   "cell_type": "code",
   "execution_count": 29,
   "id": "1eb5fc73-3413-48a5-a315-d453f07f4019",
   "metadata": {},
   "outputs": [
    {
     "name": "stdout",
     "output_type": "stream",
     "text": [
      "[  3  12  15  38  42  61  63  66  71  74  79  81  83  87  90  91 103 105\n",
      " 112 114]\n",
      "[  2   5  10  11  20  24  31  39  43  44  51  56  57  58  59  72  75  78\n",
      " 107 108]\n",
      "[  3  12  15  38  42  61  63  66  74  79  81  83  87  90  91 103 105 112\n",
      " 114   2]\n",
      "[  5  10  11  20  24  31  39  43  44  51  56  57  58  59  72  75  78 107\n",
      " 108  71]\n"
     ]
    }
   ],
   "source": [
    "print(A)\n",
    "print(B)\n",
    "A = A[A!=index1]\n",
    "A = np.append(A, index2)\n",
    "B = B[B!=index2]\n",
    "B = np.append(B, index1)\n",
    "print(A)\n",
    "print(B)"
   ]
  },
  {
   "cell_type": "code",
   "execution_count": 36,
   "id": "063b85fc-6744-4c7a-9435-2ea3ab48f97f",
   "metadata": {},
   "outputs": [],
   "source": [
    "cross_costs, D = compute_cost_metrics(labeling_temp, matrix_subsampled, A, B, 0)\n",
    "pairwise_d_sums = add_outer(cross_costs, D, A, B)\n",
    "g = pairwise_d_sums-2*cross_costs"
   ]
  },
  {
   "cell_type": "code",
   "execution_count": 37,
   "id": "db1a6f4b-54c5-4bf1-af76-21c41cefbc52",
   "metadata": {},
   "outputs": [
    {
     "data": {
      "text/plain": [
       "array([[ 0.,  0.,  0.,  0.,  0.,  0., -1.,  0.,  0.,  0.,  0., -1.,  0.,\n",
       "         0.,  0.,  0.,  0., -1., -2., -1.],\n",
       "       [ 0.,  0.,  0.,  0.,  0.,  0., -1.,  0.,  0.,  0.,  0., -1.,  0.,\n",
       "         0.,  0.,  0.,  0., -1., -2., -1.],\n",
       "       [ 0.,  0.,  0.,  0.,  0.,  0., -1.,  0.,  0.,  0.,  0., -1.,  0.,\n",
       "         0.,  0.,  0.,  0., -1., -2., -1.],\n",
       "       [ 0.,  0.,  0.,  0.,  0.,  0., -1.,  0.,  0.,  0.,  0., -1.,  0.,\n",
       "         0.,  0.,  0.,  0., -1., -2., -1.],\n",
       "       [ 0.,  0.,  0.,  0.,  0.,  0., -1.,  0.,  0.,  0.,  0., -1.,  0.,\n",
       "         0.,  0.,  0.,  0., -1., -2., -1.],\n",
       "       [-1., -1., -1., -1., -1., -1., -2., -1., -1., -1., -1., -2., -1.,\n",
       "        -1., -1., -1., -1., -2., -3., -2.],\n",
       "       [-1., -1., -1., -1., -1., -1., -2., -1., -1., -1., -1., -2., -1.,\n",
       "        -1., -1., -1., -1., -2., -3., -2.],\n",
       "       [ 0.,  0.,  0.,  0.,  0.,  0., -1.,  0.,  0.,  0.,  0., -1.,  0.,\n",
       "         0.,  0.,  0.,  0., -1., -2., -1.],\n",
       "       [ 0.,  0.,  0.,  0.,  0.,  0., -1.,  0.,  0.,  0.,  0., -1.,  0.,\n",
       "         0.,  0.,  0.,  0., -1., -2., -1.],\n",
       "       [ 0.,  0.,  0.,  0.,  0.,  0., -1.,  0.,  0.,  0.,  0., -1.,  0.,\n",
       "         0.,  0.,  0.,  0., -1., -2., -1.],\n",
       "       [ 0.,  0.,  0.,  0.,  0.,  0., -1.,  0.,  0.,  0.,  0., -1.,  0.,\n",
       "         0.,  0.,  0.,  0., -1., -2., -1.],\n",
       "       [ 0.,  0.,  0.,  0.,  0.,  0., -1.,  0.,  0.,  0.,  0., -1.,  0.,\n",
       "         0.,  0.,  0.,  0., -1., -2., -1.],\n",
       "       [ 0.,  0.,  0.,  0.,  0.,  0., -1.,  0.,  0.,  0.,  0., -1.,  0.,\n",
       "         0.,  0.,  0.,  0., -1., -2., -1.],\n",
       "       [ 0.,  0.,  0.,  0.,  0.,  0., -1.,  0.,  0.,  0.,  0., -1.,  0.,\n",
       "         0.,  0.,  0.,  0., -1., -2., -1.],\n",
       "       [ 0.,  0.,  0.,  0.,  0.,  0., -1.,  0.,  0.,  0.,  0., -1.,  0.,\n",
       "         0.,  0.,  0.,  0., -1., -2., -1.],\n",
       "       [-2., -2., -2., -2., -2., -2., -3., -2., -2., -2., -2., -3., -2.,\n",
       "        -2., -2., -2., -2., -3., -4., -3.],\n",
       "       [ 0.,  0.,  0.,  0.,  0.,  0., -1.,  0.,  0.,  0.,  0., -1.,  0.,\n",
       "         0.,  0.,  0.,  0., -1., -2., -1.],\n",
       "       [ 0.,  0.,  0.,  0.,  0.,  0., -1.,  0.,  0.,  0.,  0., -1.,  0.,\n",
       "         0.,  0.,  0.,  0., -1., -2., -1.],\n",
       "       [ 0.,  0.,  0.,  0.,  0.,  0., -1.,  0.,  0.,  0.,  0., -1.,  0.,\n",
       "         0.,  0.,  0.,  0., -1., -2., -1.],\n",
       "       [ 0.,  0.,  0.,  0.,  0.,  0., -1.,  0.,  0.,  0.,  0., -1.,  0.,\n",
       "         0.,  0.,  0.,  0., -1., -2., -1.]])"
      ]
     },
     "execution_count": 37,
     "metadata": {},
     "output_type": "execute_result"
    }
   ],
   "source": [
    "g"
   ]
  }
 ],
 "metadata": {
  "kernelspec": {
   "display_name": "Python 3",
   "language": "python",
   "name": "python3"
  },
  "language_info": {
   "codemirror_mode": {
    "name": "ipython",
    "version": 3
   },
   "file_extension": ".py",
   "mimetype": "text/x-python",
   "name": "python",
   "nbconvert_exporter": "python",
   "pygments_lexer": "ipython3",
   "version": "3.8.5"
  }
 },
 "nbformat": 4,
 "nbformat_minor": 5
}
